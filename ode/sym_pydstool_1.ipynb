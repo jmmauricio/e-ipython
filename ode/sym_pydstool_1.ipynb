{
 "cells": [
  {
   "cell_type": "markdown",
   "metadata": {},
   "source": [
    "$$\n",
    "\\left\\{ \\begin{align*}\n",
    "         \\frac{dx}{dt} &= (y-x^3 - x)/\\epsilon, \\\\\t\t   \n",
    "\t\t\\frac{dy}{dt} &= a - x \\end{align*} \\right.\n",
    "\t\t\\qquad\n",
    "$$"
   ]
  },
  {
   "cell_type": "code",
   "execution_count": 9,
   "metadata": {
    "collapsed": true
   },
   "outputs": [],
   "source": [
    "import sympy as sym\n",
    "\n",
    "#states\n",
    "i_l = sym.symbols('i_l')\n",
    "\n",
    "x = [i_l]\n",
    "\n",
    "#inputs\n",
    "v = sym.symbols('v')\n",
    "\n",
    "#params\n",
    "L,R = sym.symbols('L,R')\n",
    "\n",
    "#derivatives\n",
    "di_l = 1/L*(v-R*i_l)\n",
    "\n",
    "dx = [di_l]"
   ]
  },
  {
   "cell_type": "code",
   "execution_count": 13,
   "metadata": {
    "collapsed": false
   },
   "outputs": [],
   "source": [
    "L = 0.01\n",
    "R = 1.0\n",
    "\n",
    "pars = {\n",
    "        'L': 0.01, \n",
    "        'R': 0.1, \n",
    "        'v': 1.0\n",
    "      }\n",
    "\n",
    "varspecs = {}\n",
    "for x_i,dx_i in zip(x,dx):\n",
    "    varspecs.update({str(x_i):str(dx_i)})"
   ]
  },
  {
   "cell_type": "code",
   "execution_count": 11,
   "metadata": {
    "collapsed": false
   },
   "outputs": [
    {
     "data": {
      "text/plain": [
       "{i_l: (-R*i_l + v)/L}"
      ]
     },
     "execution_count": 11,
     "metadata": {},
     "output_type": "execute_result"
    }
   ],
   "source": [
    "varspecs"
   ]
  },
  {
   "cell_type": "code",
   "execution_count": null,
   "metadata": {
    "collapsed": false
   },
   "outputs": [],
   "source": [
    "import PyDSTool as dst\n",
    "from PyDSTool import args\n",
    "import numpy as np\n",
    "from matplotlib import pyplot as plt\n",
    "%matplotlib inline\n",
    "\n",
    "icdict = {'i_l': 0.0,\n",
    "         }\n",
    "\n",
    "DSargs = args(name='sym_ds_1')  # struct-like data\n",
    "DSargs.pars = pars\n",
    "DSargs.tdata = [0, 15]\n",
    "\n",
    "DSargs.algparams = {'max_pts': 1000, 'init_step': 0.02, 'stiff': True}\n",
    "\n",
    "DSargs.varspecs = varspecs\n",
    "\n",
    "#DSargs.xdomain = {'x': [-2.2, 2.5], 'y': [-2, 2]}\n",
    "DSargs.ics = icdict\n",
    "sys = dst.Vode_ODEsystem(DSargs)"
   ]
  },
  {
   "cell_type": "code",
   "execution_count": 30,
   "metadata": {
    "collapsed": false
   },
   "outputs": [
    {
     "name": "stdout",
     "output_type": "stream",
     "text": [
      "0.2169022560119629\n"
     ]
    },
    {
     "data": {
      "image/png": "[encoded data removed]",
      "text/plain": [
       "<matplotlib.figure.Figure at 0xa8dd436c>"
      ]
     },
     "metadata": {},
     "output_type": "display_data"
    }
   ],
   "source": []
  },
  {
   "cell_type": "code",
   "execution_count": 24,
   "metadata": {
    "collapsed": false
   },
   "outputs": [
    {
     "data": {
      "text/plain": [
       "Matrix([[i_l]])"
      ]
     },
     "execution_count": 24,
     "metadata": {},
     "output_type": "execute_result"
    }
   ],
   "source": [
    "x"
   ]
  },
  {
   "cell_type": "code",
   "execution_count": 22,
   "metadata": {
    "collapsed": false
   },
   "outputs": [
    {
     "ename": "AttributeError",
     "evalue": "ImmutableMatrix has no attribute _diff_wrt.",
     "output_type": "error",
     "traceback": [
      "\u001b[1;31m---------------------------------------------------------------------------\u001b[0m",
      "\u001b[1;31mAttributeError\u001b[0m                            Traceback (most recent call last)",
      "\u001b[1;32m<ipython-input-22-cdbaf9050553>\u001b[0m in \u001b[0;36m<module>\u001b[1;34m()\u001b[0m\n\u001b[0;32m      1\u001b[0m \u001b[0mf\u001b[0m \u001b[1;33m=\u001b[0m\u001b[0msym\u001b[0m\u001b[1;33m.\u001b[0m\u001b[0mMatrix\u001b[0m\u001b[1;33m(\u001b[0m\u001b[0mdx\u001b[0m\u001b[1;33m)\u001b[0m\u001b[1;33m\u001b[0m\u001b[0m\n\u001b[0;32m      2\u001b[0m \u001b[0mx\u001b[0m \u001b[1;33m=\u001b[0m\u001b[0msym\u001b[0m\u001b[1;33m.\u001b[0m\u001b[0mMatrix\u001b[0m\u001b[1;33m(\u001b[0m\u001b[0mx\u001b[0m\u001b[1;33m)\u001b[0m\u001b[1;33m\u001b[0m\u001b[0m\n\u001b[1;32m----> 3\u001b[1;33m \u001b[0msym\u001b[0m\u001b[1;33m.\u001b[0m\u001b[0mdiff\u001b[0m\u001b[1;33m(\u001b[0m\u001b[0mf\u001b[0m\u001b[1;33m,\u001b[0m\u001b[0mx\u001b[0m\u001b[1;33m)\u001b[0m\u001b[1;33m\u001b[0m\u001b[0m\n\u001b[0m",
      "\u001b[1;32m/home/jmmauricio/anaconda3/lib/python3.5/site-packages/sympy/core/function.py\u001b[0m in \u001b[0;36mdiff\u001b[1;34m(f, *symbols, **kwargs)\u001b[0m\n\u001b[0;32m   1689\u001b[0m     \u001b[1;32mexcept\u001b[0m \u001b[0mAttributeError\u001b[0m\u001b[1;33m:\u001b[0m\u001b[1;33m\u001b[0m\u001b[0m\n\u001b[0;32m   1690\u001b[0m         \u001b[1;32mpass\u001b[0m\u001b[1;33m\u001b[0m\u001b[0m\n\u001b[1;32m-> 1691\u001b[1;33m     \u001b[1;32mreturn\u001b[0m \u001b[0mDerivative\u001b[0m\u001b[1;33m(\u001b[0m\u001b[0mf\u001b[0m\u001b[1;33m,\u001b[0m \u001b[1;33m*\u001b[0m\u001b[0msymbols\u001b[0m\u001b[1;33m,\u001b[0m \u001b[1;33m**\u001b[0m\u001b[0mkwargs\u001b[0m\u001b[1;33m)\u001b[0m\u001b[1;33m\u001b[0m\u001b[0m\n\u001b[0m\u001b[0;32m   1692\u001b[0m \u001b[1;33m\u001b[0m\u001b[0m\n\u001b[0;32m   1693\u001b[0m \u001b[1;33m\u001b[0m\u001b[0m\n",
      "\u001b[1;32m/home/jmmauricio/anaconda3/lib/python3.5/site-packages/sympy/core/function.py\u001b[0m in \u001b[0;36m__new__\u001b[1;34m(cls, expr, *variables, **assumptions)\u001b[0m\n\u001b[0;32m   1053\u001b[0m             \u001b[0mv\u001b[0m\u001b[1;33m,\u001b[0m \u001b[0mcount\u001b[0m \u001b[1;33m=\u001b[0m \u001b[0mvariables\u001b[0m\u001b[1;33m[\u001b[0m\u001b[0mi\u001b[0m\u001b[1;33m:\u001b[0m \u001b[0mi\u001b[0m \u001b[1;33m+\u001b[0m \u001b[1;36m2\u001b[0m\u001b[1;33m]\u001b[0m\u001b[1;33m\u001b[0m\u001b[0m\n\u001b[0;32m   1054\u001b[0m             \u001b[0miwas\u001b[0m \u001b[1;33m=\u001b[0m \u001b[0mi\u001b[0m\u001b[1;33m\u001b[0m\u001b[0m\n\u001b[1;32m-> 1055\u001b[1;33m             \u001b[1;32mif\u001b[0m \u001b[0mv\u001b[0m\u001b[1;33m.\u001b[0m\u001b[0m_diff_wrt\u001b[0m\u001b[1;33m:\u001b[0m\u001b[1;33m\u001b[0m\u001b[0m\n\u001b[0m\u001b[0;32m   1056\u001b[0m                 \u001b[1;31m# We need to test the more specific case of count being an\u001b[0m\u001b[1;33m\u001b[0m\u001b[1;33m\u001b[0m\u001b[0m\n\u001b[0;32m   1057\u001b[0m                 \u001b[1;31m# Integer first.\u001b[0m\u001b[1;33m\u001b[0m\u001b[1;33m\u001b[0m\u001b[0m\n",
      "\u001b[1;32m/home/jmmauricio/anaconda3/lib/python3.5/site-packages/sympy/matrices/matrices.py\u001b[0m in \u001b[0;36m__getattr__\u001b[1;34m(self, attr)\u001b[0m\n\u001b[0;32m   3214\u001b[0m         \u001b[1;32melse\u001b[0m\u001b[1;33m:\u001b[0m\u001b[1;33m\u001b[0m\u001b[0m\n\u001b[0;32m   3215\u001b[0m             raise AttributeError(\n\u001b[1;32m-> 3216\u001b[1;33m                 \"%s has no attribute %s.\" % (self.__class__.__name__, attr))\n\u001b[0m\u001b[0;32m   3217\u001b[0m \u001b[1;33m\u001b[0m\u001b[0m\n\u001b[0;32m   3218\u001b[0m     \u001b[1;32mdef\u001b[0m \u001b[0mintegrate\u001b[0m\u001b[1;33m(\u001b[0m\u001b[0mself\u001b[0m\u001b[1;33m,\u001b[0m \u001b[1;33m*\u001b[0m\u001b[0margs\u001b[0m\u001b[1;33m)\u001b[0m\u001b[1;33m:\u001b[0m\u001b[1;33m\u001b[0m\u001b[0m\n",
      "\u001b[1;31mAttributeError\u001b[0m: ImmutableMatrix has no attribute _diff_wrt."
     ]
    }
   ],
   "source": [
    "f =sym.Matrix(dx)\n",
    "x =sym.Matrix(x)\n",
    "sym.diff(f,x)"
   ]
  },
  {
   "cell_type": "code",
   "execution_count": 49,
   "metadata": {
    "collapsed": false
   },
   "outputs": [
    {
     "name": "stdout",
     "output_type": "stream",
     "text": [
      "0.0238923686127\n",
      "Stopping search: Swarm best objective change less than 0.1\n",
      "[ 45.66550246]\n",
      "9.60055123038\n",
      "-0.0142914769413\n"
     ]
    }
   ],
   "source": [
    "from IPython.display import display, clear_output\n",
    "import sys as ssys\n",
    "from pyswarm import pso\n",
    "\n",
    "def obj(x):\n",
    "    sys.pars['K_w1'] = x\n",
    "    pts = sys.compute('test_traj').sample()\n",
    "    f_min = np.min(pts['Df'])\n",
    "    #clear_output(wait=True)\n",
    "    #print(pts['e_nc'][-1]-9)\n",
    "    #ssys.stdout.flush()    \n",
    "    return -f_min\n",
    "\n",
    "def con(x):\n",
    "    pts = sys.compute('test_traj').sample()\n",
    "    return pts['e_nc'][-1]-9.5\n",
    "\n",
    "lb = [10]\n",
    "ub = [500]\n",
    "\n",
    "print(obj(11))\n",
    "xopt, fopt = pso(obj, lb, ub, f_ieqcons=con, args=(), kwargs={},\n",
    "    swarmsize=10, omega=0.5, phip=0.5, phig=0.5, maxiter=100, minstep=1e-8,\n",
    "    minfunc=0.1, debug=False)\n",
    "\n",
    "\n",
    "# Optimum should be around x=[0.5, 0.76] with banana(x)=4.5 and con(x)=0\n",
    "pts = sys.compute('test_traj').sample()\n",
    "print(sys.pars['K_w1'])\n",
    "print(pts['e_nc'][-1])\n",
    "print(np.min(pts['Df']))"
   ]
  },
  {
   "cell_type": "code",
   "execution_count": 50,
   "metadata": {
    "collapsed": false
   },
   "outputs": [],
   "source": [
    "fig, (ax0,ax1,ax2,ax3) = plt.subplots(nrows=4)   # creates a figure with one axe\n",
    "ax0.plot(pts['t'], pts['Df']) \n",
    "ax1.plot(pts['t'], pts['p_g']) \n",
    "ax2.plot(pts['t'], pts['p_nc']) \n",
    "ax3.plot(pts['t'], pts['e_nc']) \n",
    "plt.show()\n"
   ]
  },
  {
   "cell_type": "code",
   "execution_count": 123,
   "metadata": {
    "collapsed": false
   },
   "outputs": [
    {
     "name": "stdout",
     "output_type": "stream",
     "text": [
      "0.0737450921186\n",
      "Stopping search: Swarm best objective change less than 0.1\n",
      "K_d 100.0\n",
      "K_w1 98.5635602583\n",
      "e_nc 9.57374509212\n",
      "min Df -0.0126599825149\n"
     ]
    }
   ],
   "source": [
    "from IPython.display import display, clear_output\n",
    "import sys as ssys\n",
    "from pyswarm import pso\n",
    "\n",
    "def obj(x):\n",
    "    sys.pars['K_d'] = x[0]\n",
    "    sys.pars['K_w1'] = x[1]\n",
    "    pts = sys.compute('test_traj').sample()\n",
    "    f_min = np.min(pts['Df'])\n",
    "    #clear_output(wait=True)\n",
    "    #print(pts['e_nc'][-1]-9)\n",
    "    #ssys.stdout.flush()    \n",
    "    return -f_min\n",
    "\n",
    "def con(x):\n",
    "    pts = sys.compute('test_traj').sample()\n",
    "\n",
    "    e = np.min(pts['e_nc'])-9.5\n",
    "    clear_output(wait=True)\n",
    "    print(e)\n",
    "    ssys.stdout.flush()  \n",
    "    return e\n",
    "\n",
    "lb = [-10,0]\n",
    "ub = [100,200]\n",
    "\n",
    "\n",
    "xopt, fopt = pso(obj, lb, ub, f_ieqcons=con, args=(), kwargs={},\n",
    "    swarmsize=10, omega=0.5, phip=0.5, phig=0.5, maxiter=100, minstep=1e-8,\n",
    "    minfunc=0.1, debug=False)\n",
    "\n",
    "\n",
    "# Optimum should be around x=[0.5, 0.76] with banana(x)=4.5 and con(x)=0\n",
    "pts = sys.compute('test_traj').sample()\n",
    "print('K_d',sys.pars['K_d'])\n",
    "print('K_w1',sys.pars['K_w1'])\n",
    "print('e_nc', pts['e_nc'][-1])\n",
    "print('min Df',np.min(pts['Df']))\n",
    "\n"
   ]
  },
  {
   "cell_type": "code",
   "execution_count": 124,
   "metadata": {
    "collapsed": false
   },
   "outputs": [
    {
     "name": "stderr",
     "output_type": "stream",
     "text": [
      "Exception ignored in: <bound method Vode_ODEsystem.__del__ of Generator sys_freq_1>\n",
      "Traceback (most recent call last):\n",
      "  File \"/home/jmmauricio/bin/anaconda3/lib/python3.5/site-packages/PyDSTool/Generator/Vode_ODEsystem.py\", line 923, in __del__\n",
      "    ODEsystem.__del__(self)\n",
      "  File \"/home/jmmauricio/bin/anaconda3/lib/python3.5/site-packages/PyDSTool/Generator/ODEsystem.py\", line 525, in __del__\n",
      "    ctsGen.__del__(self)\n",
      "  File \"/home/jmmauricio/bin/anaconda3/lib/python3.5/site-packages/PyDSTool/Generator/baseclasses.py\", line 1430, in __del__\n",
      "    Generator.__del__(self)\n",
      "  File \"/home/jmmauricio/bin/anaconda3/lib/python3.5/site-packages/PyDSTool/Generator/baseclasses.py\", line 1381, in __del__\n",
      "    delattr(eval(finfo[0]), fname)\n",
      "SyntaxError: unexpected EOF while parsing (<string>, line 0)\n"
     ]
    }
   ],
   "source": [
    "fig, (ax0,ax1,ax2,ax3) = plt.subplots(nrows=4)   # creates a figure with one axe\n",
    "ax0.plot(pts['t'], pts['Df']) \n",
    "ax1.plot(pts['t'], pts['p_g']) \n",
    "ax2.plot(pts['t'], pts['p_nc']) \n",
    "ax3.plot(pts['t'], pts['e_nc']) \n",
    "plt.show()\n"
   ]
  },
  {
   "cell_type": "code",
   "execution_count": null,
   "metadata": {
    "collapsed": true
   },
   "outputs": [],
   "source": []
  }
 ],
 "metadata": {
  "anaconda-cloud": {},
  "kernelspec": {
   "display_name": "Python [default]",
   "language": "python",
   "name": "python3"
  },
  "language_info": {
   "codemirror_mode": {
    "name": "ipython",
    "version": 3
   },
   "file_extension": ".py",
   "mimetype": "text/x-python",
   "name": "python",
   "nbconvert_exporter": "python",
   "pygments_lexer": "ipython3",
   "version": "3.5.2"
  }
 },
 "nbformat": 4,
 "nbformat_minor": 0
}
