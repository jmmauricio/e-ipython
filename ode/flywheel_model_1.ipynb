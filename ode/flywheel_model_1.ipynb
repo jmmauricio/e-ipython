{
 "cells": [
  {
   "cell_type": "markdown",
   "metadata": {},
   "source": [
    "## Flywheel model\n",
    "\n",
    "$$\n",
    "\\left\\{ \\begin{align*}\n",
    "         \\frac{d\\omega_r}{dt} &= \\frac{1}{2H} \\left(-\\Phi_f i_q \\right), \\\\\t\t   \n",
    "\t\t\\frac{dv_c}{dt} &= \\frac{1}{C_{eq}} \\left(i_g- \\omega_r \\Phi_f  \\frac{i_q}{v_c}  \\right)\n",
    "\\end{align*} \\right.\n",
    "\t\t\\qquad\n",
    "$$\n",
    "\n",
    "with:\n",
    "\n",
    "$$\n",
    "\\left\\{ \\begin{align*}\n",
    "         P_g &= P_{fes}, \\\\\t\t   \n",
    "\t\t i_g  &=   \\frac{P_g}{v_c}, \\\\\n",
    "         i_q  &=   \\frac{P_g}{\\omega_r \\Phi_f}  \n",
    "\\end{align*} \\right.\n",
    "\t\t\\qquad\n",
    "$$\n"
   ]
  },
  {
   "cell_type": "code",
   "execution_count": 41,
   "metadata": {
    "collapsed": false
   },
   "outputs": [
    {
     "name": "stdout",
     "output_type": "stream",
     "text": [
      "900.0\n"
     ]
    }
   ],
   "source": [
    "import PyDSTool as dst\n",
    "from PyDSTool import args\n",
    "import numpy as np\n",
    "from matplotlib import pyplot as plt\n",
    "\n",
    "E_kwh = 250.0 # kWh\n",
    "P_base_mw = 1.0 # MW\n",
    "\n",
    "E = E_kwh*3600*1000 # julios\n",
    "P_base = P_base_mw*1e6\n",
    "H = E/P_base\n",
    "\n",
    "print(H)\n",
    "pars = {'H': H,  \n",
    "        'Phi_f': 1.0,\n",
    "        'C_eq': 0.1,\n",
    "        'P_g': 0.1\n",
    "        }\n",
    "icdict = {'omega_r': 1.0,\n",
    "          'v_c': 1.0,\n",
    "          }\n",
    "\n",
    "domega_r  = '1.0/(2.0*H)*(-Phi_f*i_q(omega_r))'\n",
    "dv_c  = '1.0/C_eq*(i_g(v_c)- omega_r*Phi_f*i_q(omega_r)/v_c)'\n",
    "i_g = 'P_g/v_c'\n",
    "i_q = 'P_g/(omega_r*Phi_f)'\n",
    "# auxiliary helper function(s) -- function name: ([func signature], definition)\n",
    "\n",
    "DSargs = args(name='sys_freq_1')  # struct-like data\n",
    "DSargs.pars = pars\n",
    "DSargs.tdata = [0, 900]\n",
    "DSargs.fnspecs  = {'i_g': (['v_c'], i_g),\n",
    "                   'i_q': (['omega_r'], i_q),\n",
    "                  }\n",
    "\n",
    "DSargs.algparams = {'max_pts': 1000, 'init_step': 0.02, 'stiff': True}\n",
    "\n",
    "DSargs.varspecs = {'omega_r': domega_r, \n",
    "                   'v_c': dv_c, \n",
    "                  }\n",
    "\n",
    "#DSargs.xdomain = {'x': [-2.2, 2.5], 'y': [-2, 2]}\n",
    "DSargs.ics = icdict\n",
    "\n",
    "sys = dst.Vode_ODEsystem(DSargs)"
   ]
  },
  {
   "cell_type": "code",
   "execution_count": 45,
   "metadata": {
    "collapsed": false
   },
   "outputs": [],
   "source": [
    "sys.pars['P_g'] = 0.99\n",
    "\n",
    "\n",
    "traj = sys.compute('test_traj')\n",
    "pts = traj.sample()\n",
    "\n",
    "\n",
    "fig, (ax0,ax1,ax2,ax3) = plt.subplots(nrows=4)   # creates a figure with one axe\n",
    "\n",
    "\n",
    "ax0.plot(pts['t'], pts['omega_r']) \n",
    "ax1.plot(pts['t'], pts['v_c']) \n",
    "\n",
    "\n",
    "plt.show()\n",
    "\n",
    "\n"
   ]
  },
  {
   "cell_type": "code",
   "execution_count": 12,
   "metadata": {
    "collapsed": false
   },
   "outputs": [
    {
     "name": "stderr",
     "output_type": "stream",
     "text": [
      "/home/jmmauricio/bin/anaconda3/lib/python3.5/site-packages/scipy/integrate/_ode.py:869: UserWarning: vode: Excess work done on this call. (Perhaps wrong MF.)\n",
      "  'Unexpected istate=%s' % istate))\n"
     ]
    }
   ],
   "source": [
    "\n",
    "traj = sys.compute('test_traj')"
   ]
  },
  {
   "cell_type": "code",
   "execution_count": 50,
   "metadata": {
    "collapsed": false
   },
   "outputs": [],
   "source": [
    "fig, (ax0,ax1,ax2,ax3) = plt.subplots(nrows=4)   # creates a figure with one axe\n",
    "ax0.plot(pts['t'], pts['Df']) \n",
    "ax1.plot(pts['t'], pts['p_g']) \n",
    "ax2.plot(pts['t'], pts['p_nc']) \n",
    "ax3.plot(pts['t'], pts['e_nc']) \n",
    "plt.show()\n"
   ]
  },
  {
   "cell_type": "code",
   "execution_count": 123,
   "metadata": {
    "collapsed": false
   },
   "outputs": [
    {
     "name": "stdout",
     "output_type": "stream",
     "text": [
      "0.0737450921186\n",
      "Stopping search: Swarm best objective change less than 0.1\n",
      "K_d 100.0\n",
      "K_w1 98.5635602583\n",
      "e_nc 9.57374509212\n",
      "min Df -0.0126599825149\n"
     ]
    }
   ],
   "source": [
    "from IPython.display import display, clear_output\n",
    "import sys as ssys\n",
    "from pyswarm import pso\n",
    "\n",
    "def obj(x):\n",
    "    sys.pars['K_d'] = x[0]\n",
    "    sys.pars['K_w1'] = x[1]\n",
    "    pts = sys.compute('test_traj').sample()\n",
    "    f_min = np.min(pts['Df'])\n",
    "    #clear_output(wait=True)\n",
    "    #print(pts['e_nc'][-1]-9)\n",
    "    #ssys.stdout.flush()    \n",
    "    return -f_min\n",
    "\n",
    "def con(x):\n",
    "    pts = sys.compute('test_traj').sample()\n",
    "\n",
    "    e = np.min(pts['e_nc'])-9.5\n",
    "    clear_output(wait=True)\n",
    "    print(e)\n",
    "    ssys.stdout.flush()  \n",
    "    return e\n",
    "\n",
    "lb = [-10,0]\n",
    "ub = [100,200]\n",
    "\n",
    "\n",
    "xopt, fopt = pso(obj, lb, ub, f_ieqcons=con, args=(), kwargs={},\n",
    "    swarmsize=10, omega=0.5, phip=0.5, phig=0.5, maxiter=100, minstep=1e-8,\n",
    "    minfunc=0.1, debug=False)\n",
    "\n",
    "\n",
    "# Optimum should be around x=[0.5, 0.76] with banana(x)=4.5 and con(x)=0\n",
    "pts = sys.compute('test_traj').sample()\n",
    "print('K_d',sys.pars['K_d'])\n",
    "print('K_w1',sys.pars['K_w1'])\n",
    "print('e_nc', pts['e_nc'][-1])\n",
    "print('min Df',np.min(pts['Df']))\n",
    "\n"
   ]
  },
  {
   "cell_type": "code",
   "execution_count": 124,
   "metadata": {
    "collapsed": false
   },
   "outputs": [
    {
     "name": "stderr",
     "output_type": "stream",
     "text": [
      "Exception ignored in: <bound method Vode_ODEsystem.__del__ of Generator sys_freq_1>\n",
      "Traceback (most recent call last):\n",
      "  File \"/home/jmmauricio/bin/anaconda3/lib/python3.5/site-packages/PyDSTool/Generator/Vode_ODEsystem.py\", line 923, in __del__\n",
      "    ODEsystem.__del__(self)\n",
      "  File \"/home/jmmauricio/bin/anaconda3/lib/python3.5/site-packages/PyDSTool/Generator/ODEsystem.py\", line 525, in __del__\n",
      "    ctsGen.__del__(self)\n",
      "  File \"/home/jmmauricio/bin/anaconda3/lib/python3.5/site-packages/PyDSTool/Generator/baseclasses.py\", line 1430, in __del__\n",
      "    Generator.__del__(self)\n",
      "  File \"/home/jmmauricio/bin/anaconda3/lib/python3.5/site-packages/PyDSTool/Generator/baseclasses.py\", line 1381, in __del__\n",
      "    delattr(eval(finfo[0]), fname)\n",
      "SyntaxError: unexpected EOF while parsing (<string>, line 0)\n"
     ]
    }
   ],
   "source": [
    "fig, (ax0,ax1,ax2,ax3) = plt.subplots(nrows=4)   # creates a figure with one axe\n",
    "ax0.plot(pts['t'], pts['Df']) \n",
    "ax1.plot(pts['t'], pts['p_g']) \n",
    "ax2.plot(pts['t'], pts['p_nc']) \n",
    "ax3.plot(pts['t'], pts['e_nc']) \n",
    "plt.show()\n"
   ]
  },
  {
   "cell_type": "code",
   "execution_count": 47,
   "metadata": {
    "collapsed": true
   },
   "outputs": [],
   "source": [
    "import sympy as sym"
   ]
  },
  {
   "cell_type": "code",
   "execution_count": 48,
   "metadata": {
    "collapsed": true
   },
   "outputs": [],
   "source": [
    "pars = {'H': H,  \n",
    "        'Phi_f': 1.0,\n",
    "        'C_eq': 0.1,\n",
    "        'P_g': 0.1\n",
    "        }\n",
    "x = ['omega_r',\n",
    "     'v_c']\n",
    "\n",
    "\n",
    "domega_r  = '1.0/(2.0*H)*(-Phi_f*i_q(omega_r))'\n",
    "dv_c  = '1.0/C_eq*(i_g(v_c)- omega_r*Phi_f*i_q(omega_r)/v_c)'\n",
    "i_g = 'P_g/v_c'\n",
    "i_q = 'P_g/(omega_r*Phi_f)'"
   ]
  },
  {
   "cell_type": "code",
   "execution_count": 57,
   "metadata": {
    "collapsed": false
   },
   "outputs": [],
   "source": [
    "omega_r,v_c=sym.symbols(['omega_r','v_c'])"
   ]
  },
  {
   "cell_type": "code",
   "execution_count": 54,
   "metadata": {
    "collapsed": false
   },
   "outputs": [
    {
     "ename": "AttributeError",
     "evalue": "'list' object has no attribute 'omega_r'",
     "output_type": "error",
     "traceback": [
      "\u001b[1;31m---------------------------------------------------------------------------\u001b[0m",
      "\u001b[1;31mAttributeError\u001b[0m                            Traceback (most recent call last)",
      "\u001b[1;32m<ipython-input-54-077222236e53>\u001b[0m in \u001b[0;36m<module>\u001b[1;34m()\u001b[0m\n\u001b[1;32m----> 1\u001b[1;33m \u001b[0mx\u001b[0m\u001b[1;33m.\u001b[0m\u001b[0momega_r\u001b[0m\u001b[1;33m\u001b[0m\u001b[0m\n\u001b[0m",
      "\u001b[1;31mAttributeError\u001b[0m: 'list' object has no attribute 'omega_r'"
     ]
    }
   ],
   "source": []
  },
  {
   "cell_type": "code",
   "execution_count": null,
   "metadata": {
    "collapsed": true
   },
   "outputs": [],
   "source": []
  }
 ],
 "metadata": {
  "kernelspec": {
   "display_name": "Python 3",
   "language": "python",
   "name": "python3"
  },
  "language_info": {
   "codemirror_mode": {
    "name": "ipython",
    "version": 3
   },
   "file_extension": ".py",
   "mimetype": "text/x-python",
   "name": "python",
   "nbconvert_exporter": "python",
   "pygments_lexer": "ipython3",
   "version": "3.5.1"
  }
 },
 "nbformat": 4,
 "nbformat_minor": 0
}
