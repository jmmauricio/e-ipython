{
 "cells": [
  {
   "cell_type": "markdown",
   "metadata": {},
   "source": [
    "$$\n",
    "\\left\\{ \\begin{align*}\n",
    "         \\frac{dx}{dt} &= (y-x^3 - x)/\\epsilon, \\\\\t\t   \n",
    "\t\t\\frac{dy}{dt} &= a - x \\end{align*} \\right.\n",
    "\t\t\\qquad\n",
    "$$"
   ]
  },
  {
   "cell_type": "code",
   "execution_count": 2,
   "metadata": {
    "collapsed": false
   },
   "outputs": [
    {
     "name": "stdout",
     "output_type": "stream",
     "text": [
      "running build_ext\n",
      "running build_src\n",
      "build_src\n",
      "building py_modules sources\n",
      "building library \"radau5\" sources\n",
      "building library \"lapack_lite\" sources\n",
      "building extension \"/home/jmmauricio/Documents/public/workspace/e-ipython/ode/radau5_temp._radau5_DAE_test_vf\" sources\n",
      "swig: /home/jmmauricio/Documents/public/workspace/e-ipython/ode/radau5_temp/radau5_DAE_test_vf.i\n",
      "swig -python -I/home/jmmauricio/bin/anaconda3/lib/python3.4/site-packages/numpy/core/include -I/home/jmmauricio/Documents/public/workspace/e-ipython/ode -I/home/jmmauricio/bin/anaconda3/lib/python3.4/site-packages/PyDSTool/integrator -o /home/jmmauricio/Documents/public/workspace/e-ipython/ode/radau5_temp/radau5_DAE_test_vf_wrap.c -outdir /home/jmmauricio/Documents/public/workspace/e-ipython/ode/radau5_temp /home/jmmauricio/Documents/public/workspace/e-ipython/ode/radau5_temp/radau5_DAE_test_vf.i\n",
      "build_src: building npy-pkg config files\n",
      "customize UnixCCompiler\n",
      "customize UnixCCompiler using build_clib\n",
      "customize Gnu95FCompiler\n",
      "customize Gnu95FCompiler\n",
      "customize Gnu95FCompiler using build_clib\n",
      "customize UnixCCompiler\n",
      "customize UnixCCompiler using build_ext\n",
      "customize Gnu95FCompiler\n",
      "customize Gnu95FCompiler\n",
      "customize Gnu95FCompiler using build_ext\n",
      "building '/home/jmmauricio/Documents/public/workspace/e-ipython/ode/radau5_temp._radau5_DAE_test_vf' extension\n",
      "compiling C sources\n",
      "C compiler: gcc -pthread -DNDEBUG -g -fwrapv -O3 -Wall -Wstrict-prototypes -fPIC\n",
      "\n",
      "compile options: '-I/home/jmmauricio/bin/anaconda3/lib/python3.4/site-packages/numpy/core/include -I/home/jmmauricio/Documents/public/workspace/e-ipython/ode -I/home/jmmauricio/bin/anaconda3/lib/python3.4/site-packages/PyDSTool/integrator -I/home/jmmauricio/bin/anaconda3/lib/python3.4/site-packages/numpy/core/include -I/home/jmmauricio/bin/anaconda3/include/python3.4m -c'\n",
      "extra options: '-w -Wno-return-type -Wall -D__RADAU__'\n",
      "gcc: /home/jmmauricio/bin/anaconda3/lib/python3.4/site-packages/PyDSTool/integrator/eventFinding.c\n",
      "gcc: /home/jmmauricio/Documents/public/workspace/e-ipython/ode/radau5_temp/DAE_test_vf.c\n",
      "gcc: /home/jmmauricio/bin/anaconda3/lib/python3.4/site-packages/PyDSTool/integrator/memory.c\n",
      "gcc: /home/jmmauricio/bin/anaconda3/lib/python3.4/site-packages/PyDSTool/integrator/integration.c\n",
      "gcc: /home/jmmauricio/Documents/public/workspace/e-ipython/ode/radau5_temp/radau5_DAE_test_vf_wrap.c\n",
      "gcc: /home/jmmauricio/bin/anaconda3/lib/python3.4/site-packages/PyDSTool/integrator/radau5mod.c\n",
      "gcc: /home/jmmauricio/bin/anaconda3/lib/python3.4/site-packages/PyDSTool/integrator/interface.c\n",
      "/usr/bin/gfortran -Wall -g -Wall -g -shared /home/jmmauricio/Documents/public/workspace/e-ipython/ode/radau5_temp/home/jmmauricio/Documents/public/workspace/e-ipython/ode/radau5_temp/DAE_test_vf.o /home/jmmauricio/Documents/public/workspace/e-ipython/ode/radau5_temp/home/jmmauricio/bin/anaconda3/lib/python3.4/site-packages/PyDSTool/integrator/radau5mod.o /home/jmmauricio/Documents/public/workspace/e-ipython/ode/radau5_temp/home/jmmauricio/bin/anaconda3/lib/python3.4/site-packages/PyDSTool/integrator/integration.o /home/jmmauricio/Documents/public/workspace/e-ipython/ode/radau5_temp/home/jmmauricio/bin/anaconda3/lib/python3.4/site-packages/PyDSTool/integrator/interface.o /home/jmmauricio/Documents/public/workspace/e-ipython/ode/radau5_temp/home/jmmauricio/bin/anaconda3/lib/python3.4/site-packages/PyDSTool/integrator/eventFinding.o /home/jmmauricio/Documents/public/workspace/e-ipython/ode/radau5_temp/home/jmmauricio/bin/anaconda3/lib/python3.4/site-packages/PyDSTool/integrator/memory.o /home/jmmauricio/Documents/public/workspace/e-ipython/ode/radau5_temp/home/jmmauricio/Documents/public/workspace/e-ipython/ode/radau5_temp/radau5_DAE_test_vf_wrap.o -L/home/jmmauricio/bin/anaconda3/lib -Lbuild/temp.linux-x86_64-3.4 -lradau5 -llapack_lite -lpython3.4m -lgfortran -o /home/jmmauricio/Documents/public/workspace/e-ipython/ode/radau5_temp/_radau5_DAE_test_vf.cpython-34m.so -w\n"
     ]
    }
   ],
   "source": [
    "\"\"\"Simple example of solving a differential-algebraic equation.\n",
    "Here, the solution is constrained to lie on the right branch of y = x^2,\n",
    "but note that the constraint becomes inconsistent with the flow at x=y=0.\n",
    "\n",
    "(We could add an event to detect this point and stop the integration,\n",
    "creating a hybrid system.)\n",
    "\n",
    "    Robert Clewley, February 2007.\n",
    "\"\"\"\n",
    "\n",
    "from PyDSTool import *\n",
    "\n",
    "DSargs = args()\n",
    "DSargs['varspecs'] = {'pos_y': 'v_x', \n",
    "                      'x': 'y - x*x'}\n",
    "DSargs['algparams'] = {'init_step': 0.05, 'refine': 0, 'max_step': 0.1,\n",
    "                           'rtol': 1e-4, 'atol': 1e-4}\n",
    "DSargs['checklevel'] = 1\n",
    "DSargs['ics'] = {'y': 4, 'x': 2}\n",
    "\n",
    "# 0 in the (x,x) entry of the mass matrix indicates that this is the\n",
    "# algebraic equation ( 0 . dx/dt = y - x*x )\n",
    "#\n",
    "# 1 in the (y,y) entry indicates that the 'y' varspec is a regular\n",
    "# differential equation.\n",
    "#\n",
    "# 0 in the (x,y) and (y,x) entries just says that there's no interaction\n",
    "# between the equations apart from what's explicitly given in the right-hand\n",
    "# sides.\n",
    "DSargs['fnspecs'] = {'massMatrix': (['t','x','y'], '[[0,0],[0,1]]')}\n",
    "\n",
    "DSargs['pars'] = {}\n",
    "DSargs['vars'] = ['x','y']\n",
    "\n",
    "DSargs['name'] = \"DAE_test\"\n",
    "\n",
    "dae = Generator.Radau_ODEsystem(DSargs)\n",
    "\n",
    "dae.set(tdata=[0, 4])\n",
    "# if you integrate any longer there will be an error because the constraint\n",
    "# will become inconsistent with the flow at (0,0)\n",
    "\n",
    "traj = dae.compute('test')\n",
    "pd = traj.sample(dt=0.05)\n",
    "plot(pd['x'], pd['y'])\n",
    "\n",
    "show()\n"
   ]
  },
  {
   "cell_type": "code",
   "execution_count": 4,
   "metadata": {
    "collapsed": false
   },
   "outputs": [],
   "source": [
    "traj = vdp.compute('test_traj')\n",
    "pts = traj.sample()\n",
    "evs = traj.getEvents('event_x_a')\n",
    "\n",
    "# figure 1 is the time evolution of the two variables\n",
    "plt.figure(1)\n",
    "plt.plot(pts['t'], pts['x'], 'b', linewidth=2)\n",
    "plt.plot(pts['t'], pts['y'], 'r', linewidth=2)\n",
    "plt.show()"
   ]
  },
  {
   "cell_type": "code",
   "execution_count": null,
   "metadata": {
    "collapsed": true
   },
   "outputs": [],
   "source": []
  }
 ],
 "metadata": {
  "kernelspec": {
   "display_name": "Python 3",
   "language": "python",
   "name": "python3"
  },
  "language_info": {
   "codemirror_mode": {
    "name": "ipython",
    "version": 3
   },
   "file_extension": ".py",
   "mimetype": "text/x-python",
   "name": "python",
   "nbconvert_exporter": "python",
   "pygments_lexer": "ipython3",
   "version": "3.4.4"
  }
 },
 "nbformat": 4,
 "nbformat_minor": 0
}
