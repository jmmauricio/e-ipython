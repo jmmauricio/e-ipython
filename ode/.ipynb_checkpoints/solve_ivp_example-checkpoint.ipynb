{
 "cells": [
  {
   "cell_type": "markdown",
   "metadata": {},
   "source": [
    "# Examples of usage of solve_ivp"
   ]
  },
  {
   "cell_type": "code",
   "execution_count": 1,
   "metadata": {
    "collapsed": false
   },
   "outputs": [
    {
     "ename": "ImportError",
     "evalue": "cannot import name 'solve_ivp'",
     "output_type": "error",
     "traceback": [
      "\u001b[0;31m---------------------------------------------------------------------------\u001b[0m",
      "\u001b[0;31mImportError\u001b[0m                               Traceback (most recent call last)",
      "\u001b[0;32m<ipython-input-1-ddf8f540a90a>\u001b[0m in \u001b[0;36m<module>\u001b[0;34m()\u001b[0m\n\u001b[1;32m      2\u001b[0m \u001b[0;32mimport\u001b[0m \u001b[0mmatplotlib\u001b[0m\u001b[0;34m.\u001b[0m\u001b[0mpyplot\u001b[0m \u001b[0;32mas\u001b[0m \u001b[0mplt\u001b[0m\u001b[0;34m\u001b[0m\u001b[0m\n\u001b[1;32m      3\u001b[0m \u001b[0;32mimport\u001b[0m \u001b[0mnumpy\u001b[0m \u001b[0;32mas\u001b[0m \u001b[0mnp\u001b[0m\u001b[0;34m\u001b[0m\u001b[0m\n\u001b[0;32m----> 4\u001b[0;31m \u001b[0;32mfrom\u001b[0m \u001b[0mscipy\u001b[0m\u001b[0;34m.\u001b[0m\u001b[0mintegrate\u001b[0m \u001b[0;32mimport\u001b[0m \u001b[0msolve_ivp\u001b[0m\u001b[0;34m\u001b[0m\u001b[0m\n\u001b[0m",
      "\u001b[0;31mImportError\u001b[0m: cannot import name 'solve_ivp'"
     ]
    }
   ],
   "source": [
    "%matplotlib inline\n",
    "import matplotlib.pyplot as plt\n",
    "import numpy as np\n",
    "from scipy.integrate import solve_ivp"
   ]
  },
  {
   "cell_type": "markdown",
   "metadata": {},
   "source": [
    "## 1. Restricted three body problem"
   ]
  },
  {
   "cell_type": "markdown",
   "metadata": {},
   "source": [
    "The formulation is taken from an introductory chapter to Runge-Kutta methods in \"Solving Ordinary Differential Equations I\". The system of differential equations describes the \n",
    "motion of a body with a neglible mass in a gravitational field of two bodies with masses $\\mu$ and $\\nu = 1 - \\mu$."
   ]
  },
  {
   "cell_type": "markdown",
   "metadata": {},
   "source": [
    "$$\n",
    "y_1'' = y_1 + 2 y_2' - \\nu \\frac{y_1 + \\mu}{D_1} - \\mu \\frac{y_1 - \\mu'}{D_2} \\\\\n",
    "y_2'' = y_2 - 2 y_1' - \\nu \\frac{y_2}{D_1} - \\mu \\frac{y_2}{D_2} \\\\\n",
    "D_1 = ((y_1 + \\mu)^2 + y_2^2)^{3/2}, \\quad D_2 = ((y_1 - \\nu)^2 + y_2^2)^{3/2} \\\\\n",
    "\\mu = 0.012277471\n",
    "$$"
   ]
  },
  {
   "cell_type": "markdown",
   "metadata": {},
   "source": [
    "The initial values are picked such that the solution is periodic with period $x_{end}$:\n",
    "$$\n",
    "y_1(0) = 0.994, y_1′(0) = 0, y_2(0) = 0 \\\\\n",
    "y_2′(0) = −2.00158510637908252240537862224 \\\\\n",
    "x_{end} = 17.0652165601579625588917206249\n",
    "$$"
   ]
  },
  {
   "cell_type": "markdown",
   "metadata": {},
   "source": [
    "It is straightforward to rewrite this systems as another first order system. We define the constants and evaluation of the system right-hand side:"
   ]
  },
  {
   "cell_type": "code",
   "execution_count": 17,
   "metadata": {
    "collapsed": true
   },
   "outputs": [],
   "source": [
    "mu = 0.0122771\n",
    "nu = 1 - mu\n",
    "\n",
    "a = 0\n",
    "b = 17.0652165601579625588917206249\n",
    "ya = [0.994, 0, 0, -2.00158510637908252240537862224]"
   ]
  },
  {
   "cell_type": "code",
   "execution_count": 18,
   "metadata": {
    "collapsed": true
   },
   "outputs": [],
   "source": [
    "def fun(x, y):\n",
    "    D1 = ((y[0] + mu)**2 + y[1]**2) ** 1.5\n",
    "    D2 = ((y[0] - nu)**2 + y[1]**2) ** 1.5\n",
    "\n",
    "    return [\n",
    "        y[2],\n",
    "        y[3],\n",
    "        y[0] + 2 * y[3] - nu * (y[0] + mu) / D1 - mu * (y[0] - nu) / D2,\n",
    "        y[1] - 2 * y[2] - nu * y[1] / D1 - mu * y[1] / D2\n",
    "    ]"
   ]
  },
  {
   "cell_type": "markdown",
   "metadata": {},
   "source": [
    "The ODE is integrated by a single call:"
   ]
  },
  {
   "cell_type": "code",
   "execution_count": 19,
   "metadata": {
    "collapsed": false
   },
   "outputs": [],
   "source": [
    "res = solve_ivp(fun, [a, b], ya, rtol=1e-3, method='RK45')"
   ]
  },
  {
   "cell_type": "markdown",
   "metadata": {},
   "source": [
    "The function `solve_ivp` provides a continuous solution with the *same accuracy* as underlying method. Here we use is to produce a smooth plot with the compued trajectory."
   ]
  },
  {
   "cell_type": "code",
   "execution_count": 20,
   "metadata": {
    "collapsed": false
   },
   "outputs": [],
   "source": [
    "xp = np.linspace(a, b, 500)\n",
    "yp = res.sol(xp)"
   ]
  },
  {
   "cell_type": "code",
   "execution_count": 21,
   "metadata": {
    "collapsed": false
   },
   "outputs": [
    {
     "data": {
      "text/plain": [
       "[<matplotlib.lines.Line2D at 0x107b6b0f0>]"
      ]
     },
     "execution_count": 21,
     "metadata": {},
     "output_type": "execute_result"
    },
    {
     "data": {
      "image/png": "[encoded data removed]",
      "text/plain": [
       "<matplotlib.figure.Figure at 0x107b65048>"
      ]
     },
     "metadata": {},
     "output_type": "display_data"
    }
   ],
   "source": [
    "plt.figure(figsize=(10, 8))\n",
    "plt.plot(yp[0], yp[1], '-')\n",
    "plt.plot(res.y[0], res.y[1], '.')"
   ]
  },
  {
   "cell_type": "markdown",
   "metadata": {},
   "source": [
    "We see that at some regions the solver takes quite large steps, but an accurate solution is available at all points nevertheless."
   ]
  },
  {
   "cell_type": "markdown",
   "metadata": {},
   "source": [
    "## 2. Bouncing ball"
   ]
  },
  {
   "cell_type": "markdown",
   "metadata": {},
   "source": [
    "This example illustrates event detection capabilities. The problem is very simple: a ball bounces from the ground and loses some fraction of its vertical velocity."
   ]
  },
  {
   "cell_type": "markdown",
   "metadata": {},
   "source": [
    "Define constants."
   ]
  },
  {
   "cell_type": "code",
   "execution_count": 22,
   "metadata": {
    "collapsed": true
   },
   "outputs": [],
   "source": [
    "g = 9.81  # Gravity.\n",
    "alpha = 0.8  # Ratio of preserved velocity.\n",
    "v_hor = 1  # Horizontal velocity.\n",
    "n_bounces = 10  # Number of bounces."
   ]
  },
  {
   "cell_type": "markdown",
   "metadata": {},
   "source": [
    "Define the system right-hand side:"
   ]
  },
  {
   "cell_type": "code",
   "execution_count": 23,
   "metadata": {
    "collapsed": true
   },
   "outputs": [],
   "source": [
    "def fun(x, y):\n",
    "    return [v_hor, y[2], -g]"
   ]
  },
  {
   "cell_type": "markdown",
   "metadata": {},
   "source": [
    "Define the bounce event:"
   ]
  },
  {
   "cell_type": "code",
   "execution_count": 24,
   "metadata": {
    "collapsed": true
   },
   "outputs": [],
   "source": [
    "def bounce(x, y):\n",
    "    return y[1]\n",
    "\n",
    "bounce.terminate = True  # This event is terminating.\n",
    "bounce.direction = -1  # Detected when y[1] is decreasing."
   ]
  },
  {
   "cell_type": "markdown",
   "metadata": {},
   "source": [
    "The solver runs until the bounce event is detected and then gets restarted with a new value of the vertical velocity."
   ]
  },
  {
   "cell_type": "code",
   "execution_count": 25,
   "metadata": {
    "collapsed": false
   },
   "outputs": [],
   "source": [
    "ya = [0, 0, 10]  # Start at (0, 0) and with the vertical velocity of 10.\n",
    "\n",
    "sol_points = []\n",
    "sol_smooth = []\n",
    "\n",
    "for i in range(n_bounces):\n",
    "    # Use a 3-rd order Runge-Kutta method.\n",
    "    # Integration interval is not relevant. \n",
    "    res = solve_ivp(fun, [0, 100], ya, events=bounce, method='RK23')\n",
    "    sol_points.append(res.y)\n",
    "    t = np.linspace(res.x[0], res.x[-1], 100)\n",
    "    sol_smooth.append(res.sol(t))\n",
    "    ya = res.y[:, -1].copy()\n",
    "    ya[2] *= -alpha"
   ]
  },
  {
   "cell_type": "code",
   "execution_count": 26,
   "metadata": {
    "collapsed": true
   },
   "outputs": [],
   "source": [
    "sol_points = np.hstack(sol_points)\n",
    "sol_smooth = np.hstack(sol_smooth)"
   ]
  },
  {
   "cell_type": "code",
   "execution_count": 27,
   "metadata": {
    "collapsed": false
   },
   "outputs": [
    {
     "data": {
      "text/plain": [
       "<matplotlib.collections.LineCollection at 0x10814f940>"
      ]
     },
     "execution_count": 27,
     "metadata": {},
     "output_type": "execute_result"
    },
    {
     "data": {
      "image/png": "[encoded data removed]",
      "text/plain": [
       "<matplotlib.figure.Figure at 0x107d619b0>"
      ]
     },
     "metadata": {},
     "output_type": "display_data"
    }
   ],
   "source": [
    "plt.figure(figsize=(10, 6))\n",
    "plt.plot(sol_smooth[0], sol_smooth[1], '-')\n",
    "plt.plot(sol_points[0], sol_points[1], 'ro', fillstyle='none')\n",
    "plt.hlines([0], 0, 10)"
   ]
  },
  {
   "cell_type": "markdown",
   "metadata": {
    "collapsed": true
   },
   "source": [
    "## 3. Van der Pol oscillator"
   ]
  },
  {
   "cell_type": "markdown",
   "metadata": {},
   "source": [
    "The system for Van der Pol oscillator is given as:\n",
    "$$\n",
    "y_1' = y_2, \\\\\n",
    "y_2' = \\mu (1 - y_1^2) y_2 - y_1 \\\\\n",
    "y_1(0) = 2, \\quad y_2(0) = 0\n",
    "$$\n",
    "It becomes stiff for high values of $\\mu$, meaning that regions of rapid transition are followed by regions where the solution varies slowly. Explicit methods either diverge or make prohibitevely many steps for stiff problems, thus implicit methods should be used. Our function `solve_ivp` implements a one-step fully implicit Runge-Kutta method of Radau II A family."
   ]
  },
  {
   "cell_type": "markdown",
   "metadata": {},
   "source": [
    "We solve this system for $\\mu = 10^3$."
   ]
  },
  {
   "cell_type": "code",
   "execution_count": 28,
   "metadata": {
    "collapsed": true
   },
   "outputs": [],
   "source": [
    "mu = 1e3\n",
    "\n",
    "def fun(x, y):\n",
    "    return [y[1], mu * (1 - y[0]**2) * y[1] - y[0]]"
   ]
  },
  {
   "cell_type": "code",
   "execution_count": 29,
   "metadata": {
    "collapsed": false
   },
   "outputs": [],
   "source": [
    "res = solve_ivp(fun, [0, 3000], [2, 0], method='Radau')"
   ]
  },
  {
   "cell_type": "code",
   "execution_count": 30,
   "metadata": {
    "collapsed": false
   },
   "outputs": [
    {
     "data": {
      "text/plain": [
       "[<matplotlib.lines.Line2D at 0x107d882e8>]"
      ]
     },
     "execution_count": 30,
     "metadata": {},
     "output_type": "execute_result"
    },
    {
     "data": {
      "image/png": "[encoded data removed]",
      "text/plain": [
       "<matplotlib.figure.Figure at 0x107d88358>"
      ]
     },
     "metadata": {},
     "output_type": "display_data"
    }
   ],
   "source": [
    "plt.plot(res.x, res.y[0])\n",
    "plt.plot(res.x, res.y[0], '.')"
   ]
  },
  {
   "cell_type": "markdown",
   "metadata": {},
   "source": [
    "Note that the solver pass flat regions in very few number of steps. It would not be the case with any explicit method, which will have to make very small steps to overcome the stability issue. For example `method='RK45'` will make more than million steps on this example."
   ]
  },
  {
   "cell_type": "code",
   "execution_count": null,
   "metadata": {
    "collapsed": true
   },
   "outputs": [],
   "source": []
  }
 ],
 "metadata": {
  "anaconda-cloud": {},
  "kernelspec": {
   "display_name": "Python [default]",
   "language": "python",
   "name": "python3"
  },
  "language_info": {
   "codemirror_mode": {
    "name": "ipython",
    "version": 3
   },
   "file_extension": ".py",
   "mimetype": "text/x-python",
   "name": "python",
   "nbconvert_exporter": "python",
   "pygments_lexer": "ipython3",
   "version": "3.5.2"
  }
 },
 "nbformat": 4,
 "nbformat_minor": 0
}
