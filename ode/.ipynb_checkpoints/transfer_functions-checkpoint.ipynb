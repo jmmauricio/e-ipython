{
 "cells": [
  {
   "cell_type": "markdown",
   "metadata": {},
   "source": [
    "$$\n",
    "\\left\\{ \\begin{align*}\n",
    "         \\frac{dx}{dt} &= (y-x^3 - x)/\\epsilon, \\\\\t\t   \n",
    "\t\t\\frac{dy}{dt} &= a - x \\end{align*} \\right.\n",
    "\t\t\\qquad\n",
    "$$"
   ]
  },
  {
   "cell_type": "code",
   "execution_count": 6,
   "metadata": {
    "collapsed": true
   },
   "outputs": [],
   "source": [
    "import PyDSTool as dst\n",
    "\n",
    "import numpy as np\n",
    "from matplotlib import pyplot as plt\n",
    "%matplotlib inline"
   ]
  },
  {
   "cell_type": "markdown",
   "metadata": {},
   "source": [
    "## first order\n",
    "\n",
    "$$\n",
    "\\left . \\begin{align*}\n",
    "         \\frac{dx}{dt} &= \\frac{1}{T} \\left(u - x\\right) \\\\\t\t   \n",
    "\\end{align*} \\right.\t\t\n",
    "$$"
   ]
  },
  {
   "cell_type": "code",
   "execution_count": 22,
   "metadata": {
    "collapsed": false
   },
   "outputs": [],
   "source": [
    "DSargs = dst.args(name='first_order')\n",
    "\n",
    "DSargs.pars = {\n",
    "               'T': 0.01, \n",
    "               'U':0.0,\n",
    "               }\n",
    "DSargs.ics = {'x': 0.0}\n",
    "DSargs.varspecs = {'x':'1/T*(U-x)'}\n",
    "\n",
    "\n",
    "DSargs.tdata = [0, 0.05]\n",
    "\n",
    "DSargs.algparams = {'max_pts': 2000, 'init_step': 0.001, 'stiff': True}\n",
    "\n",
    "sys = dst.Vode_ODEsystem(DSargs)\n"
   ]
  },
  {
   "cell_type": "code",
   "execution_count": 23,
   "metadata": {
    "collapsed": false
   },
   "outputs": [],
   "source": [
    "sys.pars['U']=1\n",
    "pts = sys.compute('test_traj').sample()"
   ]
  },
  {
   "cell_type": "code",
   "execution_count": 24,
   "metadata": {
    "collapsed": false
   },
   "outputs": [
    {
     "data": {
      "image/png": "[encoded data removed]",
      "text/plain": [
       "<matplotlib.figure.Figure at 0xabd8980c>"
      ]
     },
     "metadata": {},
     "output_type": "display_data"
    }
   ],
   "source": [
    "fig, (ax0) = plt.subplots(nrows=1)   # creates a figure with one axe\n",
    "ax0.plot(pts['t'], pts['x']) \n",
    "plt.show()\n"
   ]
  },
  {
   "cell_type": "code",
   "execution_count": 30,
   "metadata": {
    "collapsed": false
   },
   "outputs": [
    {
     "name": "stdout",
     "output_type": "stream",
     "text": [
      "0.2169022560119629\n"
     ]
    },
    {
     "data": {
      "image/png": "[encoded data removed]",
      "text/plain": [
       "<matplotlib.figure.Figure at 0xa8dd436c>"
      ]
     },
     "metadata": {},
     "output_type": "display_data"
    }
   ],
   "source": []
  },
  {
   "cell_type": "code",
   "execution_count": 24,
   "metadata": {
    "collapsed": false
   },
   "outputs": [
    {
     "data": {
      "text/plain": [
       "Matrix([[i_l]])"
      ]
     },
     "execution_count": 24,
     "metadata": {},
     "output_type": "execute_result"
    }
   ],
   "source": []
  },
  {
   "cell_type": "markdown",
   "metadata": {},
   "source": [
    "## wash out\n",
    "\n",
    "$$\n",
    "\\left . \\begin{align*}\n",
    "         \\frac{dx}{dt} &= \\frac{1}{T} \\left(u - x\\right) \\\\\t\n",
    "         y &= K \\left(u - x\\right) \\\\\t\t\n",
    "\\end{align*} \\right.\t\t\n",
    "$$"
   ]
  },
  {
   "cell_type": "code",
   "execution_count": 34,
   "metadata": {
    "collapsed": false
   },
   "outputs": [],
   "source": [
    "DSargs = dst.args(name='first_order')\n",
    "\n",
    "DSargs.pars = {\n",
    "               'T': 1.0, \n",
    "                'K':1,\n",
    "               'U':0.0,\n",
    "               }\n",
    "DSargs.ics = {'x': 0.0}\n",
    "DSargs.varspecs = {'x':'1/T*(U-x)'}\n",
    "\n",
    "def y(sys,pts):\n",
    "    return sys.pars['K']*(sys.pars['U']-pts['x'])\n",
    "\n",
    "DSargs.tdata = [0, 5]\n",
    "\n",
    "DSargs.algparams = {'max_pts': 1000, 'init_step': 0.001, 'stiff': True}\n",
    "\n",
    "sys = dst.Vode_ODEsystem(DSargs)\n"
   ]
  },
  {
   "cell_type": "code",
   "execution_count": 35,
   "metadata": {
    "collapsed": false
   },
   "outputs": [],
   "source": [
    "sys.pars['U']=1\n",
    "pts = sys.compute('test_traj').sample()"
   ]
  },
  {
   "cell_type": "code",
   "execution_count": 36,
   "metadata": {
    "collapsed": false
   },
   "outputs": [
    {
     "data": {
      "image/png": "[encoded data removed]",
      "text/plain": [
       "<matplotlib.figure.Figure at 0xaa4054ec>"
      ]
     },
     "metadata": {},
     "output_type": "display_data"
    }
   ],
   "source": [
    "fig, (ax0) = plt.subplots(nrows=1)   # creates a figure with one axe\n",
    "ax0.plot(pts['t'], y(sys,pts)) \n",
    "plt.show()\n"
   ]
  },
  {
   "cell_type": "markdown",
   "metadata": {},
   "source": [
    "## lead-lag\n",
    "\n",
    "$$\n",
    "\\left . \\begin{align*} \n",
    "         \\frac{dx}{dt} &= \\frac{1}{T_b} \\left(u - x\\right) \\\\\t\n",
    "          y &= \\frac{T_a}{T_b}  \\left(u - x\\right) + x \\\\\t\t\n",
    "\\end{align*} \\right.\t\t\n",
    "$$"
   ]
  },
  {
   "cell_type": "code",
   "execution_count": 50,
   "metadata": {
    "collapsed": false
   },
   "outputs": [],
   "source": [
    "DSargs = dst.args(name='lead_lag')\n",
    "\n",
    "DSargs.pars = {\n",
    "               'T_a': 2,\n",
    "               'T_b': 5,\n",
    "               'U':0.0,\n",
    "               }\n",
    "DSargs.ics = {'x': 0.0}\n",
    "DSargs.varspecs = {'x':'1/T_b*(U-x)'}\n",
    "\n",
    "def y_lead_lag(sys,pts):\n",
    "    T_a = sys.pars['T_a']\n",
    "    T_b = sys.pars['T_b']\n",
    "    U = sys.pars['U']\n",
    "    x = pts['x']\n",
    "\n",
    "    return T_a/T_b*(U-x)+x\n",
    "\n",
    "DSargs.tdata = [0, 10]\n",
    "\n",
    "DSargs.algparams = {'max_pts': 2000, 'init_step': 0.001, 'stiff': True}\n",
    "\n",
    "sys = dst.Vode_ODEsystem(DSargs)\n"
   ]
  },
  {
   "cell_type": "code",
   "execution_count": 51,
   "metadata": {
    "collapsed": false
   },
   "outputs": [],
   "source": [
    "sys.pars['U']=1\n",
    "pts = sys.compute('test_traj').sample()"
   ]
  },
  {
   "cell_type": "code",
   "execution_count": 52,
   "metadata": {
    "collapsed": false
   },
   "outputs": [
    {
     "data": {
      "image/png": "[encoded data removed]",
      "text/plain": [
       "<matplotlib.figure.Figure at 0xaa32dc4c>"
      ]
     },
     "metadata": {},
     "output_type": "display_data"
    }
   ],
   "source": [
    "fig, (ax0) = plt.subplots(nrows=1)   # creates a figure with one axe\n",
    "ax0.plot(pts['t'], y_lead_lag(sys,pts)) \n",
    "plt.show()\n"
   ]
  },
  {
   "cell_type": "code",
   "execution_count": null,
   "metadata": {
    "collapsed": true
   },
   "outputs": [],
   "source": []
  },
  {
   "cell_type": "markdown",
   "metadata": {},
   "source": [
    "## PI+first order\n",
    "\n",
    "$$\n",
    "\\left . \\begin{align*} \n",
    "         e &= x^\\star - x \\\\\n",
    "         \\frac{d\\xi}{dt} &= \\frac{1}{T_{pi}} e \\\\\t\n",
    "          u &= K_p \\left(e + \\xi \\right)  \\\\\n",
    "          \\frac{dx}{dt} &= \\frac{1}{T} \\left(u -x \\right) \\\\\t\n",
    "\\end{align*} \\right.\t\t\n",
    "$$"
   ]
  },
  {
   "cell_type": "code",
   "execution_count": 53,
   "metadata": {
    "collapsed": false
   },
   "outputs": [],
   "source": [
    "DSargs = dst.args(name='lead_lag')\n",
    "\n",
    "DSargs.pars = {\n",
    "               'K_p': 10.0,\n",
    "               'T_pi': 0.2,\n",
    "               'x_ref':0.0,\n",
    "               'T':0.2\n",
    "               }\n",
    "DSargs.ics = {'x': 0.0, 'xi':0}\n",
    "DSargs.varspecs = {'x':'1/T*(K_p*((x_ref-x)+xi)-x)',\n",
    "                   'xi':'1/T_pi*(x_ref-x)'}\n",
    "\n",
    "\n",
    "\n",
    "DSargs.tdata = [0, 10]\n",
    "\n",
    "DSargs.algparams = {'max_pts': 2000, 'init_step': 0.001, 'stiff': True}\n",
    "\n",
    "sys = dst.Vode_ODEsystem(DSargs)\n"
   ]
  },
  {
   "cell_type": "code",
   "execution_count": 54,
   "metadata": {
    "collapsed": false
   },
   "outputs": [],
   "source": [
    "sys.pars['x_ref']=1\n",
    "pts = sys.compute('test_traj').sample()"
   ]
  },
  {
   "cell_type": "code",
   "execution_count": 55,
   "metadata": {
    "collapsed": false
   },
   "outputs": [
    {
     "data": {
      "image/png": "[encoded data removed]",
      "text/plain": [
       "<matplotlib.figure.Figure at 0xaa3c64ec>"
      ]
     },
     "metadata": {},
     "output_type": "display_data"
    }
   ],
   "source": [
    "fig, (ax0) = plt.subplots(nrows=1)   # creates a figure with one axe\n",
    "ax0.plot(pts['t'], pts['x']) \n",
    "plt.show()\n"
   ]
  },
  {
   "cell_type": "code",
   "execution_count": null,
   "metadata": {
    "collapsed": true
   },
   "outputs": [],
   "source": []
  }
 ],
 "metadata": {
  "kernelspec": {
   "display_name": "Python 3",
   "language": "python",
   "name": "python3"
  },
  "language_info": {
   "codemirror_mode": {
    "name": "ipython",
    "version": 3
   },
   "file_extension": ".py",
   "mimetype": "text/x-python",
   "name": "python",
   "nbconvert_exporter": "python",
   "pygments_lexer": "ipython3",
   "version": "3.5.1"
  }
 },
 "nbformat": 4,
 "nbformat_minor": 0
}
