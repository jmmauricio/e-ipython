{
 "cells": [
  {
   "cell_type": "markdown",
   "metadata": {},
   "source": [
    "$$\n",
    "\\left\\{ \\begin{align*}\n",
    "         \\frac{dx}{dt} &= (y-x^3 - x)/\\epsilon, \\\\\t\t   \n",
    "\t\t\\frac{dy}{dt} &= a - x \\end{align*} \\right.\n",
    "\t\t\\qquad\n",
    "$$"
   ]
  },
  {
   "cell_type": "code",
   "execution_count": 4,
   "metadata": {
    "collapsed": false
   },
   "outputs": [],
   "source": [
    "import PyDSTool as dst\n",
    "from PyDSTool import args\n",
    "import numpy as np\n",
    "from matplotlib import pyplot as plt\n",
    "\n",
    "pars = {'Droop': 0.05, \n",
    "        'H': 4.5, \n",
    "        'Damp': 1.0,\n",
    "        'K_d': 0.0,\n",
    "        'T_d': 0.01,\n",
    "          'K_f':0.00,\n",
    "          'K_w1':100.0,\n",
    "          'T_w1':5.0,\n",
    "      }\n",
    "icdict = {'Df': 0.0,\n",
    "          'p_g': 0.0,\n",
    "          'e_nc':10.0,\n",
    "          'Dfp':0.0,\n",
    "          'p_nc':0.0,\n",
    "          'wo1':0.0}\n",
    "\n",
    "dDf  = '1.0/(2.0*H)*(p_g + p_nc - 0.2 - Damp*Df)'\n",
    "dp_g = '1.0/3.0*(-1.0/Droop*Df - p_g)'\n",
    "dDfp = '1.0/T_d*(Df - Dfp)'\n",
    "#dp_nc = '1.0/0.01*(-K_d*df(Df,Dfp)-K_f*Df)'\n",
    "dp_nc = '1.0/0.01*(if(p_nc_ref(Df,Dfp,wo1)>0.1,0.1,p_nc_ref(Df,Dfp,wo1))-p_nc)'\n",
    "de_nc= '-p_nc'\n",
    "df = '1.0/0.01*(Df-Dfp)'\n",
    "dwo1 = '1.0/T_w1*(Df-wo1)'\n",
    "dfwo1 = '1.0/T_w1*(Df-wo1)'\n",
    "p_nc_ref = '-K_d*df(Df,Dfp)-K_w1*dfwo1(Df,wo1)'\n",
    "# auxiliary helper function(s) -- function name: ([func signature], definition)\n",
    "\n",
    "DSargs = args(name='sys_freq_1')  # struct-like data\n",
    "DSargs.pars = pars\n",
    "DSargs.tdata = [0, 15]\n",
    "DSargs.fnspecs  = {'df': (['Df','Dfp'], df),\n",
    "                   'dfwo1': (['Df','wo1'], dfwo1),\n",
    "                   'p_nc_ref': (['Df','Dfp','wo1'], p_nc_ref)}\n",
    "\n",
    "DSargs.algparams = {'max_pts': 1000, 'init_step': 0.02, 'stiff': True}\n",
    "\n",
    "DSargs.varspecs = {'Df': dDf, \n",
    "                   'p_g': dp_g, \n",
    "                   'e_nc':de_nc, \n",
    "                   'p_nc': dp_nc, \n",
    "                   'Dfp':dDfp,\n",
    "                   'wo1': dwo1}\n",
    "\n",
    "#DSargs.xdomain = {'x': [-2.2, 2.5], 'y': [-2, 2]}\n",
    "DSargs.ics = icdict\n",
    "sys = dst.Vode_ODEsystem(DSargs)"
   ]
  },
  {
   "cell_type": "code",
   "execution_count": 5,
   "metadata": {
    "collapsed": false
   },
   "outputs": [
    {
     "name": "stdout",
     "output_type": "stream",
     "text": [
      "5.229640007019043 -0.0177323414516\n"
     ]
    }
   ],
   "source": [
    "fig, (ax0,ax1,ax2,ax3) = plt.subplots(nrows=4)   # creates a figure with one axe\n",
    "import time \n",
    "for H in [2]:\n",
    "    t_0 = time.time()\n",
    "    sys.pars['H'] = H\n",
    "    traj = sys.compute('test_traj')\n",
    "    pts = traj.sample()\n",
    "    f_min = np.min(pts['Df'])\n",
    "    print(time.time()-t_0, f_min)\n",
    "\n",
    "\n",
    "    ax0.plot(pts['t'], pts['Df']) \n",
    "    ax1.plot(pts['t'], pts['p_g']) \n",
    "    ax2.plot(pts['t'], pts['p_nc']) \n",
    "    ax3.plot(pts['t'], pts['e_nc']) \n",
    "plt.show()\n",
    "\n",
    "\n"
   ]
  },
  {
   "cell_type": "code",
   "execution_count": 49,
   "metadata": {
    "collapsed": false
   },
   "outputs": [
    {
     "name": "stdout",
     "output_type": "stream",
     "text": [
      "0.0238923686127\n",
      "Stopping search: Swarm best objective change less than 0.1\n",
      "[ 45.66550246]\n",
      "9.60055123038\n",
      "-0.0142914769413\n"
     ]
    }
   ],
   "source": [
    "from IPython.display import display, clear_output\n",
    "import sys as ssys\n",
    "from pyswarm import pso\n",
    "\n",
    "def obj(x):\n",
    "    sys.pars['K_w1'] = x\n",
    "    pts = sys.compute('test_traj').sample()\n",
    "    f_min = np.min(pts['Df'])\n",
    "    #clear_output(wait=True)\n",
    "    #print(pts['e_nc'][-1]-9)\n",
    "    #ssys.stdout.flush()    \n",
    "    return -f_min\n",
    "\n",
    "def con(x):\n",
    "    pts = sys.compute('test_traj').sample()\n",
    "    return pts['e_nc'][-1]-9.5\n",
    "\n",
    "lb = [10]\n",
    "ub = [500]\n",
    "\n",
    "print(obj(11))\n",
    "xopt, fopt = pso(obj, lb, ub, f_ieqcons=con, args=(), kwargs={},\n",
    "    swarmsize=10, omega=0.5, phip=0.5, phig=0.5, maxiter=100, minstep=1e-8,\n",
    "    minfunc=0.1, debug=False)\n",
    "\n",
    "\n",
    "# Optimum should be around x=[0.5, 0.76] with banana(x)=4.5 and con(x)=0\n",
    "pts = sys.compute('test_traj').sample()\n",
    "print(sys.pars['K_w1'])\n",
    "print(pts['e_nc'][-1])\n",
    "print(np.min(pts['Df']))"
   ]
  },
  {
   "cell_type": "code",
   "execution_count": 50,
   "metadata": {
    "collapsed": false
   },
   "outputs": [],
   "source": [
    "fig, (ax0,ax1,ax2,ax3) = plt.subplots(nrows=4)   # creates a figure with one axe\n",
    "ax0.plot(pts['t'], pts['Df']) \n",
    "ax1.plot(pts['t'], pts['p_g']) \n",
    "ax2.plot(pts['t'], pts['p_nc']) \n",
    "ax3.plot(pts['t'], pts['e_nc']) \n",
    "plt.show()\n"
   ]
  },
  {
   "cell_type": "code",
   "execution_count": 123,
   "metadata": {
    "collapsed": false
   },
   "outputs": [
    {
     "name": "stdout",
     "output_type": "stream",
     "text": [
      "0.0737450921186\n",
      "Stopping search: Swarm best objective change less than 0.1\n",
      "K_d 100.0\n",
      "K_w1 98.5635602583\n",
      "e_nc 9.57374509212\n",
      "min Df -0.0126599825149\n"
     ]
    }
   ],
   "source": [
    "from IPython.display import display, clear_output\n",
    "import sys as ssys\n",
    "from pyswarm import pso\n",
    "\n",
    "def obj(x):\n",
    "    sys.pars['K_d'] = x[0]\n",
    "    sys.pars['K_w1'] = x[1]\n",
    "    pts = sys.compute('test_traj').sample()\n",
    "    f_min = np.min(pts['Df'])\n",
    "    #clear_output(wait=True)\n",
    "    #print(pts['e_nc'][-1]-9)\n",
    "    #ssys.stdout.flush()    \n",
    "    return -f_min\n",
    "\n",
    "def con(x):\n",
    "    pts = sys.compute('test_traj').sample()\n",
    "\n",
    "    e = np.min(pts['e_nc'])-9.5\n",
    "    clear_output(wait=True)\n",
    "    print(e)\n",
    "    ssys.stdout.flush()  \n",
    "    return e\n",
    "\n",
    "lb = [-10,0]\n",
    "ub = [100,200]\n",
    "\n",
    "\n",
    "xopt, fopt = pso(obj, lb, ub, f_ieqcons=con, args=(), kwargs={},\n",
    "    swarmsize=10, omega=0.5, phip=0.5, phig=0.5, maxiter=100, minstep=1e-8,\n",
    "    minfunc=0.1, debug=False)\n",
    "\n",
    "\n",
    "# Optimum should be around x=[0.5, 0.76] with banana(x)=4.5 and con(x)=0\n",
    "pts = sys.compute('test_traj').sample()\n",
    "print('K_d',sys.pars['K_d'])\n",
    "print('K_w1',sys.pars['K_w1'])\n",
    "print('e_nc', pts['e_nc'][-1])\n",
    "print('min Df',np.min(pts['Df']))\n",
    "\n"
   ]
  },
  {
   "cell_type": "code",
   "execution_count": 124,
   "metadata": {
    "collapsed": false
   },
   "outputs": [
    {
     "name": "stderr",
     "output_type": "stream",
     "text": [
      "Exception ignored in: <bound method Vode_ODEsystem.__del__ of Generator sys_freq_1>\n",
      "Traceback (most recent call last):\n",
      "  File \"/home/jmmauricio/bin/anaconda3/lib/python3.5/site-packages/PyDSTool/Generator/Vode_ODEsystem.py\", line 923, in __del__\n",
      "    ODEsystem.__del__(self)\n",
      "  File \"/home/jmmauricio/bin/anaconda3/lib/python3.5/site-packages/PyDSTool/Generator/ODEsystem.py\", line 525, in __del__\n",
      "    ctsGen.__del__(self)\n",
      "  File \"/home/jmmauricio/bin/anaconda3/lib/python3.5/site-packages/PyDSTool/Generator/baseclasses.py\", line 1430, in __del__\n",
      "    Generator.__del__(self)\n",
      "  File \"/home/jmmauricio/bin/anaconda3/lib/python3.5/site-packages/PyDSTool/Generator/baseclasses.py\", line 1381, in __del__\n",
      "    delattr(eval(finfo[0]), fname)\n",
      "SyntaxError: unexpected EOF while parsing (<string>, line 0)\n"
     ]
    }
   ],
   "source": [
    "fig, (ax0,ax1,ax2,ax3) = plt.subplots(nrows=4)   # creates a figure with one axe\n",
    "ax0.plot(pts['t'], pts['Df']) \n",
    "ax1.plot(pts['t'], pts['p_g']) \n",
    "ax2.plot(pts['t'], pts['p_nc']) \n",
    "ax3.plot(pts['t'], pts['e_nc']) \n",
    "plt.show()\n"
   ]
  },
  {
   "cell_type": "code",
   "execution_count": null,
   "metadata": {
    "collapsed": true
   },
   "outputs": [],
   "source": []
  }
 ],
 "metadata": {
  "kernelspec": {
   "display_name": "Python 3",
   "language": "python",
   "name": "python3"
  },
  "language_info": {
   "codemirror_mode": {
    "name": "ipython",
    "version": 3
   },
   "file_extension": ".py",
   "mimetype": "text/x-python",
   "name": "python",
   "nbconvert_exporter": "python",
   "pygments_lexer": "ipython3",
   "version": "3.5.1"
  }
 },
 "nbformat": 4,
 "nbformat_minor": 0
}
