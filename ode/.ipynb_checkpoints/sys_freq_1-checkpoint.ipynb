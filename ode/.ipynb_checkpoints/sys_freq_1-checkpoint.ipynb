{
 "cells": [
  {
   "cell_type": "markdown",
   "metadata": {},
   "source": [
    "$$\n",
    "\\left\\{ \\begin{align*}\n",
    "         \\frac{dx}{dt} &= (y-x^3 - x)/\\epsilon, \\\\\t\t   \n",
    "\t\t\\frac{dy}{dt} &= a - x \\end{align*} \\right.\n",
    "\t\t\\qquad\n",
    "$$"
   ]
  },
  {
   "cell_type": "code",
   "execution_count": 2,
   "metadata": {
    "collapsed": true
   },
   "outputs": [],
   "source": [
    "import PyDSTool as dst\n",
    "from PyDSTool import args\n",
    "import numpy as np\n",
    "from matplotlib import pyplot as plt\n",
    "\n",
    "pars = {'eps': 1e-2, 'a': 0.5}\n",
    "icdict = {'x': pars['a'],\n",
    "          'y': pars['a'] - pars['a']**3/3}\n",
    "xstr = '(y - (x*x*x/3 - x))/eps'\n",
    "ystr = 'a - x'\n",
    "\n",
    "event_x_a = dst.makeZeroCrossEvent('x-a', 0,\n",
    "                            {'name': 'event_x_a',\n",
    "                             'eventtol': 1e-6,\n",
    "                             'term': False,\n",
    "                             'active': True},\n",
    "                    varnames=['x'], parnames=['a'],\n",
    "                    targetlang='python')  # targetlang is redundant (defaults to python)\n",
    "\n",
    "DSargs = args(name='vanderpol')  # struct-like data\n",
    "DSargs.events = [event_x_a]\n",
    "DSargs.pars = pars\n",
    "DSargs.tdata = [0, 3]\n",
    "DSargs.algparams = {'max_pts': 3000, 'init_step': 0.02, 'stiff': True}\n",
    "DSargs.varspecs = {'x': xstr, 'y': ystr}\n",
    "DSargs.xdomain = {'x': [-2.2, 2.5], 'y': [-2, 2]}\n",
    "DSargs.fnspecs = {'Jacobian': (['t','x','y'],\n",
    "                                \"\"\"[[(1-x*x)/eps, 1/eps ],\n",
    "                                    [    -1,        0   ]]\"\"\")}\n",
    "DSargs.ics = icdict\n",
    "vdp = dst.Vode_ODEsystem(DSargs)"
   ]
  },
  {
   "cell_type": "code",
   "execution_count": 4,
   "metadata": {
    "collapsed": false
   },
   "outputs": [],
   "source": [
    "traj = vdp.compute('test_traj')\n",
    "pts = traj.sample()\n",
    "evs = traj.getEvents('event_x_a')\n",
    "\n",
    "# figure 1 is the time evolution of the two variables\n",
    "plt.figure(1)\n",
    "plt.plot(pts['t'], pts['x'], 'b', linewidth=2)\n",
    "plt.plot(pts['t'], pts['y'], 'r', linewidth=2)\n",
    "plt.show()"
   ]
  },
  {
   "cell_type": "code",
   "execution_count": null,
   "metadata": {
    "collapsed": true
   },
   "outputs": [],
   "source": []
  }
 ],
 "metadata": {
  "kernelspec": {
   "display_name": "Python 3",
   "language": "python",
   "name": "python3"
  },
  "language_info": {
   "codemirror_mode": {
    "name": "ipython",
    "version": 3
   },
   "file_extension": ".py",
   "mimetype": "text/x-python",
   "name": "python",
   "nbconvert_exporter": "python",
   "pygments_lexer": "ipython3",
   "version": "3.4.4"
  }
 },
 "nbformat": 4,
 "nbformat_minor": 0
}
