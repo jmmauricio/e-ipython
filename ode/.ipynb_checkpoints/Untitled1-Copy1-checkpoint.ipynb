{
 "cells": [
  {
   "cell_type": "code",
   "execution_count": 29,
   "metadata": {},
   "outputs": [
    {
     "name": "stdout",
     "output_type": "stream",
     "text": [
      "running build_ext\n",
      "running build_src\n",
      "build_src\n",
      "building py_modules sources\n",
      "building library \"radau5\" sources\n",
      "building library \"lapack_lite\" sources\n",
      "building extension \"/home/jmmauricio/Documents/public/workspace/e-ipython/ode/radau5_temp._radau5_DAE_test_vf\" sources\n",
      "swig: /home/jmmauricio/Documents/public/workspace/e-ipython/ode/radau5_temp/radau5_DAE_test_vf.i\n",
      "swig -python -I/home/jmmauricio/bin/anaconda3/lib/python3.4/site-packages/numpy/core/include -I/home/jmmauricio/Documents/public/workspace/e-ipython/ode -I/home/jmmauricio/bin/anaconda3/lib/python3.4/site-packages/PyDSTool/integrator -o /home/jmmauricio/Documents/public/workspace/e-ipython/ode/radau5_temp/radau5_DAE_test_vf_wrap.c -outdir /home/jmmauricio/Documents/public/workspace/e-ipython/ode/radau5_temp /home/jmmauricio/Documents/public/workspace/e-ipython/ode/radau5_temp/radau5_DAE_test_vf.i\n",
      "build_src: building npy-pkg config files\n",
      "customize UnixCCompiler\n",
      "customize UnixCCompiler using build_clib\n",
      "customize Gnu95FCompiler\n",
      "customize Gnu95FCompiler\n",
      "customize Gnu95FCompiler using build_clib\n",
      "customize UnixCCompiler\n",
      "customize UnixCCompiler using build_ext\n",
      "customize Gnu95FCompiler\n",
      "customize Gnu95FCompiler\n",
      "customize Gnu95FCompiler using build_ext\n",
      "building '/home/jmmauricio/Documents/public/workspace/e-ipython/ode/radau5_temp._radau5_DAE_test_vf' extension\n",
      "compiling C sources\n",
      "C compiler: gcc -pthread -DNDEBUG -g -fwrapv -O3 -Wall -Wstrict-prototypes -fPIC\n",
      "\n",
      "compile options: '-I/home/jmmauricio/bin/anaconda3/lib/python3.4/site-packages/numpy/core/include -I/home/jmmauricio/Documents/public/workspace/e-ipython/ode -I/home/jmmauricio/bin/anaconda3/lib/python3.4/site-packages/PyDSTool/integrator -I/home/jmmauricio/bin/anaconda3/lib/python3.4/site-packages/numpy/core/include -I/home/jmmauricio/bin/anaconda3/include/python3.4m -c'\n",
      "extra options: '-w -Wno-return-type -Wall -D__RADAU__'\n",
      "gcc: /home/jmmauricio/bin/anaconda3/lib/python3.4/site-packages/PyDSTool/integrator/memory.c\n",
      "gcc: /home/jmmauricio/bin/anaconda3/lib/python3.4/site-packages/PyDSTool/integrator/interface.c\n",
      "gcc: /home/jmmauricio/bin/anaconda3/lib/python3.4/site-packages/PyDSTool/integrator/radau5mod.c\n",
      "gcc: /home/jmmauricio/bin/anaconda3/lib/python3.4/site-packages/PyDSTool/integrator/eventFinding.c\n",
      "gcc: /home/jmmauricio/Documents/public/workspace/e-ipython/ode/radau5_temp/radau5_DAE_test_vf_wrap.c\n",
      "gcc: /home/jmmauricio/Documents/public/workspace/e-ipython/ode/radau5_temp/DAE_test_vf.c\n",
      "gcc: /home/jmmauricio/bin/anaconda3/lib/python3.4/site-packages/PyDSTool/integrator/integration.c\n",
      "/usr/bin/gfortran -Wall -g -Wall -g -shared /home/jmmauricio/Documents/public/workspace/e-ipython/ode/radau5_temp/home/jmmauricio/Documents/public/workspace/e-ipython/ode/radau5_temp/DAE_test_vf.o /home/jmmauricio/Documents/public/workspace/e-ipython/ode/radau5_temp/home/jmmauricio/bin/anaconda3/lib/python3.4/site-packages/PyDSTool/integrator/radau5mod.o /home/jmmauricio/Documents/public/workspace/e-ipython/ode/radau5_temp/home/jmmauricio/bin/anaconda3/lib/python3.4/site-packages/PyDSTool/integrator/integration.o /home/jmmauricio/Documents/public/workspace/e-ipython/ode/radau5_temp/home/jmmauricio/bin/anaconda3/lib/python3.4/site-packages/PyDSTool/integrator/interface.o /home/jmmauricio/Documents/public/workspace/e-ipython/ode/radau5_temp/home/jmmauricio/bin/anaconda3/lib/python3.4/site-packages/PyDSTool/integrator/eventFinding.o /home/jmmauricio/Documents/public/workspace/e-ipython/ode/radau5_temp/home/jmmauricio/bin/anaconda3/lib/python3.4/site-packages/PyDSTool/integrator/memory.o /home/jmmauricio/Documents/public/workspace/e-ipython/ode/radau5_temp/home/jmmauricio/Documents/public/workspace/e-ipython/ode/radau5_temp/radau5_DAE_test_vf_wrap.o -L/home/jmmauricio/bin/anaconda3/lib -Lbuild/temp.linux-x86_64-3.4 -lradau5 -llapack_lite -lpython3.4m -lgfortran -o /home/jmmauricio/Documents/public/workspace/e-ipython/ode/radau5_temp/_radau5_DAE_test_vf.cpython-34m.so -w\n"
     ]
    },
    {
     "ename": "PyDSTool_ExistError",
     "evalue": "'No trajectory created'",
     "output_type": "error",
     "traceback": [
      "\u001b[1;31m---------------------------------------------------------------------------\u001b[0m",
      "\u001b[1;31mPyDSTool_ExistError\u001b[0m                       Traceback (most recent call last)",
      "\u001b[1;32m<ipython-input-29-f4ad5b7c20d3>\u001b[0m in \u001b[0;36m<module>\u001b[1;34m()\u001b[0m\n\u001b[0;32m     49\u001b[0m \u001b[1;31m# will become inconsistent with the flow at (0,0)\u001b[0m\u001b[1;33m\u001b[0m\u001b[1;33m\u001b[0m\u001b[0m\n\u001b[0;32m     50\u001b[0m \u001b[1;33m\u001b[0m\u001b[0m\n\u001b[1;32m---> 51\u001b[1;33m \u001b[0mtraj\u001b[0m \u001b[1;33m=\u001b[0m \u001b[0mdae\u001b[0m\u001b[1;33m.\u001b[0m\u001b[0mcompute\u001b[0m\u001b[1;33m(\u001b[0m\u001b[1;34m'test'\u001b[0m\u001b[1;33m)\u001b[0m\u001b[1;33m\u001b[0m\u001b[0m\n\u001b[0m\u001b[0;32m     52\u001b[0m \u001b[0mpd\u001b[0m \u001b[1;33m=\u001b[0m \u001b[0mtraj\u001b[0m\u001b[1;33m.\u001b[0m\u001b[0msample\u001b[0m\u001b[1;33m(\u001b[0m\u001b[0mdt\u001b[0m\u001b[1;33m=\u001b[0m\u001b[1;36m0.05\u001b[0m\u001b[1;33m)\u001b[0m\u001b[1;33m\u001b[0m\u001b[0m\n\u001b[0;32m     53\u001b[0m \u001b[0mplot\u001b[0m\u001b[1;33m(\u001b[0m\u001b[0mpd\u001b[0m\u001b[1;33m[\u001b[0m\u001b[1;34m'x'\u001b[0m\u001b[1;33m]\u001b[0m\u001b[1;33m,\u001b[0m \u001b[0mpd\u001b[0m\u001b[1;33m[\u001b[0m\u001b[1;34m'y'\u001b[0m\u001b[1;33m]\u001b[0m\u001b[1;33m)\u001b[0m\u001b[1;33m\u001b[0m\u001b[0m\n",
      "\u001b[1;32m/home/jmmauricio/bin/anaconda3/lib/python3.4/site-packages/PyDSTool/Generator/Radau_ODEsystem.py\u001b[0m in \u001b[0;36mcompute\u001b[1;34m(self, trajname, dirn, ics)\u001b[0m\n\u001b[0;32m    965\u001b[0m             self.diagnostics.errors.append((E_COMPUTFAIL,\n\u001b[0;32m    966\u001b[0m                                     (self._solver.lastTime, diagnost_info)))\n\u001b[1;32m--> 967\u001b[1;33m             \u001b[1;32mraise\u001b[0m \u001b[0mPyDSTool_ExistError\u001b[0m\u001b[1;33m(\u001b[0m\u001b[1;34m\"No trajectory created\"\u001b[0m\u001b[1;33m)\u001b[0m\u001b[1;33m\u001b[0m\u001b[0m\n\u001b[0m\u001b[0;32m    968\u001b[0m \u001b[1;33m\u001b[0m\u001b[0m\n\u001b[0;32m    969\u001b[0m \u001b[1;33m\u001b[0m\u001b[0m\n",
      "\u001b[1;31mPyDSTool_ExistError\u001b[0m: 'No trajectory created'"
     ]
    }
   ],
   "source": [
    "\"\"\"Simple example of solving a differential-algebraic equation.\n",
    "Here, the solution is constrained to lie on the right branch of y = x^2,\n",
    "but note that the constraint becomes inconsistent with the flow at x=y=0.\n",
    "\n",
    "(We could add an event to detect this point and stop the integration,\n",
    "creating a hybrid system.)\n",
    "\n",
    "    Robert Clewley, February 2007.\n",
    "\"\"\"\n",
    "\n",
    "from PyDSTool import *\n",
    "\n",
    "L=2\n",
    "\n",
    "DSargs = args()\n",
    "DSargs['varspecs'] = {'y': 'v_y', \n",
    "                      'x': 'v_x',\n",
    "                      'v_x': '-K_d*v_x',\n",
    "                      'v_y': '-K_d*v_y + M*G',\n",
    "                      'x_g':'x*x+y*y-L*L'\n",
    "                      }\n",
    "DSargs['algparams'] = {'init_step': 0.05, 'refine': 0, 'max_step': 0.1,\n",
    "                           'rtol': 1e-4, 'atol': 1e-4}\n",
    "DSargs['checklevel'] = 1\n",
    "DSargs['ics'] = {'y': 0, 'x': 2,'v_x':0,'v_y':0,'x_g':0}\n",
    "\n",
    "# 0 in the (x,x) entry of the mass matrix indicates that this is the\n",
    "# algebraic equation ( 0 . dx/dt = y - x*x )\n",
    "#\n",
    "# 1 in the (y,y) entry indicates that the 'y' varspec is a regular\n",
    "# differential equation.\n",
    "#\n",
    "# 0 in the (x,y) and (y,x) entries just says that there's no interaction\n",
    "# between the equations apart from what's explicitly given in the right-hand\n",
    "# sides.\n",
    "\n",
    "mass = '[[1,0,0,0,0], [0,1,0,0,0],[0,0,1,0,0],[0,0,0,1,0],[0,0,0,0,0]]'\n",
    "DSargs['fnspecs'] = {'massMatrix': (['t','x','y','v_x','v_y','x_g'], mass)}\n",
    "\n",
    "DSargs['pars'] = {'M':1,'G':9.81,'K_d':0.0,'L':L}\n",
    "DSargs['vars'] = ['x','y','v_x','v_y','x_g']\n",
    "\n",
    "DSargs['name'] = \"DAE_test\"\n",
    "\n",
    "dae = Generator.Radau_ODEsystem(DSargs)\n",
    "\n",
    "dae.set(tdata=[0, 4])\n",
    "# if you integrate any longer there will be an error because the constraint\n",
    "# will become inconsistent with the flow at (0,0)\n",
    "\n",
    "traj = dae.compute('test')\n",
    "pd = traj.sample(dt=0.05)\n",
    "plot(pd['x'], pd['y'])\n",
    "\n",
    "show()\n"
   ]
  },
  {
   "cell_type": "code",
   "execution_count": 28,
   "metadata": {},
   "outputs": [
    {
     "data": {
      "text/plain": [
       "array([  0.,  nan,  nan,  nan,  nan,  nan,  nan,  nan,  nan,  nan,  nan,\n",
       "        nan,  nan,  nan,  nan,  nan,  nan,  nan,  nan,  nan,  nan,  nan,\n",
       "        nan,  nan,  nan,  nan,  nan,  nan,  nan,  nan,  nan,  nan,  nan,\n",
       "        nan,  nan,  nan,  nan,  nan,  nan,  nan,  nan,  nan])"
      ]
     },
     "execution_count": 28,
     "metadata": {},
     "output_type": "execute_result"
    }
   ],
   "source": [
    "pd['y']\n"
   ]
  },
  {
   "cell_type": "code",
   "execution_count": null,
   "metadata": {
    "collapsed": true
   },
   "outputs": [],
   "source": []
  }
 ],
 "metadata": {
  "kernelspec": {
   "display_name": "Python 3",
   "language": "python",
   "name": "python3"
  },
  "language_info": {
   "codemirror_mode": {
    "name": "ipython",
    "version": 3
   },
   "file_extension": ".py",
   "mimetype": "text/x-python",
   "name": "python",
   "nbconvert_exporter": "python",
   "pygments_lexer": "ipython3",
   "version": "3.6.4"
  }
 },
 "nbformat": 4,
 "nbformat_minor": 1
}
