{
 "cells": [
  {
   "cell_type": "code",
   "execution_count": 1,
   "metadata": {
    "collapsed": true
   },
   "outputs": [],
   "source": [
    "import numpy as np"
   ]
  },
  {
   "cell_type": "code",
   "execution_count": 2,
   "metadata": {},
   "outputs": [
    {
     "data": {
      "text/plain": [
       "1000.0"
      ]
     },
     "execution_count": 2,
     "metadata": {},
     "output_type": "execute_result"
    }
   ],
   "source": [
    "def f_eval(x):\n",
    "    v = 10.0\n",
    "    L = 0.01\n",
    "    R = 0.1\n",
    "    i_l = x\n",
    "    f =  1.0/L*(v - R*i_l)\n",
    "    return f\n",
    "\n",
    "\n",
    "x = 0.0\n",
    "f_eval(x)\n"
   ]
  },
  {
   "cell_type": "code",
   "execution_count": 9,
   "metadata": {
    "collapsed": true
   },
   "outputs": [],
   "source": [
    "def solver():\n",
    "    x_0 = 0.0\n",
    "    Dt = 1.0e-4\n",
    "    N_steps = 10000\n",
    "    T = np.zeros(N_steps)\n",
    "    X = np.zeros(N_steps)\n",
    "    \n",
    "    t = 0.0\n",
    "    x = x_0\n",
    "    T[0] = t\n",
    "    X[0] = x\n",
    "    for it in range(N_steps-1):\n",
    "        t += Dt\n",
    "        x = x + Dt * f_eval(x)\n",
    "        T[it+1] = t\n",
    "        X[it+1] = x\n",
    "        \n",
    "    return T,X\n",
    "        "
   ]
  },
  {
   "cell_type": "code",
   "execution_count": 10,
   "metadata": {},
   "outputs": [
    {
     "name": "stdout",
     "output_type": "stream",
     "text": [
      "3.45 ms ± 28 µs per loop (mean ± std. dev. of 7 runs, 100 loops each)\n"
     ]
    }
   ],
   "source": [
    "%timeit T,X = solver()\n",
    "T,X = solver()"
   ]
  },
  {
   "cell_type": "markdown",
   "metadata": {},
   "source": [
    "## Output plot"
   ]
  },
  {
   "cell_type": "code",
   "execution_count": 11,
   "metadata": {},
   "outputs": [
    {
     "data": {
      "image/png": "[encoded data removed]",
      "text/plain": [
       "<matplotlib.figure.Figure at 0x7fc0f27ccd30>"
      ]
     },
     "metadata": {},
     "output_type": "display_data"
    }
   ],
   "source": [
    "import matplotlib.pyplot as plt\n",
    "#%matplotlib notebook\n",
    "#plt.style.use('')\n",
    "\n",
    "fig, (ax0) = plt.subplots(nrows=1)   # creates a figure with one axe\n",
    "ax0.plot(T,X)\n",
    "\n",
    "ax0.set_xlabel('Time (s)')\n",
    "ax0.set_ylabel('Current (A)')\n",
    "plt.show()"
   ]
  },
  {
   "cell_type": "code",
   "execution_count": 12,
   "metadata": {
    "collapsed": true
   },
   "outputs": [],
   "source": [
    "def solver_trapz():\n",
    "    x_0 = 0.0\n",
    "    Dt = 10.0e-3\n",
    "    N_steps = 100\n",
    "    T = np.zeros(N_steps)\n",
    "    X = np.zeros(N_steps)\n",
    "    \n",
    "    t = 0.0\n",
    "    x = x_0\n",
    "    T[0] = t\n",
    "    X[0] = x\n",
    "    for it in range(N_steps-1):\n",
    "        t += Dt\n",
    "        x_1 = x + Dt * f_eval(x)\n",
    "        x = x + 0.5*Dt*(f_eval(x) + f_eval(x_1))\n",
    "        T[it+1] = t\n",
    "        X[it+1] = x\n",
    "        \n",
    "    return T,X"
   ]
  },
  {
   "cell_type": "code",
   "execution_count": 13,
   "metadata": {},
   "outputs": [],
   "source": [
    "#%timeit T_trapz,X_trapz = solver_trapz()\n",
    "T_trapz,X_trapz = solver_trapz()"
   ]
  },
  {
   "cell_type": "code",
   "execution_count": 14,
   "metadata": {},
   "outputs": [
    {
     "data": {
      "image/png": "[encoded data removed]",
      "text/plain": [
       "<matplotlib.figure.Figure at 0x7fc0f2709a90>"
      ]
     },
     "metadata": {},
     "output_type": "display_data"
    }
   ],
   "source": [
    "import matplotlib.pyplot as plt\n",
    "#%matplotlib notebook\n",
    "#plt.style.use('')\n",
    "\n",
    "fig, (ax0) = plt.subplots(nrows=1)   # creates a figure with one axe\n",
    "ax0.plot(T,X)\n",
    "ax0.plot(T_trapz,X_trapz)\n",
    "ax0.set_xlabel('Time (s)')\n",
    "ax0.set_ylabel('Current (A)')\n",
    "plt.show()"
   ]
  },
  {
   "cell_type": "code",
   "execution_count": null,
   "metadata": {
    "collapsed": true
   },
   "outputs": [],
   "source": []
  },
  {
   "cell_type": "code",
   "execution_count": null,
   "metadata": {
    "collapsed": true
   },
   "outputs": [],
   "source": []
  }
 ],
 "metadata": {
  "kernelspec": {
   "display_name": "Python 3",
   "language": "python",
   "name": "python3"
  },
  "language_info": {
   "codemirror_mode": {
    "name": "ipython",
    "version": 3
   },
   "file_extension": ".py",
   "mimetype": "text/x-python",
   "name": "python",
   "nbconvert_exporter": "python",
   "pygments_lexer": "ipython3",
   "version": "3.6.4"
  }
 },
 "nbformat": 4,
 "nbformat_minor": 2
}
