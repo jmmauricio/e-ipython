{
 "cells": [
  {
   "cell_type": "markdown",
   "metadata": {},
   "source": [
    "## Circuito equivalente"
   ]
  },
  {
   "cell_type": "markdown",
   "metadata": {},
   "source": [
    "<img src='./png/mi_circ_math_.png' width=600/>\n"
   ]
  },
  {
   "cell_type": "markdown",
   "metadata": {},
   "source": [
    "## Circuito equivalente (variables python)"
   ]
  },
  {
   "cell_type": "markdown",
   "metadata": {},
   "source": [
    "<img src='./png/mi_circ_py.png' width=600/>"
   ]
  },
  {
   "cell_type": "markdown",
   "metadata": {},
   "source": [
    "### Parámetros del circuito equivalente"
   ]
  },
  {
   "cell_type": "markdown",
   "metadata": {},
   "source": [
    "## Cálculos con el circuito equivalente"
   ]
  },
  {
   "cell_type": "markdown",
   "metadata": {},
   "source": [
    "Los parámetros dados por ABB se pueden utilizar para calcular el par."
   ]
  },
  {
   "cell_type": "code",
   "execution_count": 6,
   "metadata": {
    "collapsed": false
   },
   "outputs": [],
   "source": [
    "import numpy as np\n",
    "\n",
    "R_s, X_s = 2.5, 2.4   # Ω \n",
    "R_f, X_mu = 1309.0, 82.0 # Ω\n",
    "R_r, X_r = 2.3, 2.9   # Ω    \n",
    "\n",
    "Omega_1 = 1430.0*(2.0*np.pi)/60.0\n",
    "\n",
    "U_s = 400.0/np.sqrt(3.0)"
   ]
  },
  {
   "cell_type": "markdown",
   "metadata": {},
   "source": [
    "Se puede plantear una función con entrada la velocidad de giro $\\sf \\Omega$ y que devuelva el par útil $\\sf T_u$. "
   ]
  },
  {
   "cell_type": "code",
   "execution_count": 7,
   "metadata": {
    "collapsed": false
   },
   "outputs": [
    {
     "name": "stdout",
     "output_type": "stream",
     "text": [
      "Deslizamiento = 0.7 %\n",
      "Corriente = 3.0 A\n",
      "El par T_u = 3.2 N.m\n",
      "Potencia útil P_u = 475.7 W\n",
      "Potencia absorbida de la red  = 604.9 W\n"
     ]
    }
   ],
   "source": [
    "Omega = 1420.0*(2.0*np.pi)/60.0\n",
    "\n",
    "s = (Omega_1 - Omega)/(Omega_1)\n",
    "\n",
    "Z_s = R_s + 1j*X_s\n",
    "Z_m = (R_f * 1j*X_mu) / (R_f + 1j*X_mu)\n",
    "Z_r = R_r/s + 1j*X_r\n",
    "\n",
    "Z_sr = Z_s + Z_r\n",
    "\n",
    "I_r = U_s/Z_sr\n",
    "I_0 = U_s/Z_m    \n",
    "I_s = I_0 + I_r\n",
    "\n",
    "P_a = 3.0*R_r/s*(np.abs(I_r)**2)\n",
    "\n",
    "#P_u = P_mi # en el caso del modelo de ABB\n",
    "\n",
    "T_u = P_a/Omega_1\n",
    "\n",
    "P_u = T_u*Omega\n",
    "\n",
    "S_s = 3.0*U_s*np.conj(I_s)\n",
    "P_s = S_s.real\n",
    "\n",
    "\n",
    "print('Deslizamiento = {:2.1f} %'.format(s*100))\n",
    "\n",
    "print('Corriente = {:2.1f} A'.format(np.abs(I_s)))\n",
    "\n",
    "print('El par T_u = {:2.1f} N.m'.format(T_u))\n",
    "\n",
    "print(u'Potencia útil P_u = {:2.1f} W'.format(P_u))\n",
    "\n",
    "print(u'Potencia absorbida de la red  = {:2.1f} W'.format(P_s))"
   ]
  },
  {
   "cell_type": "code",
   "execution_count": null,
   "metadata": {
    "collapsed": false
   },
   "outputs": [],
   "source": [
    "print(u'vel síncrona = {:2.2f} r/s'.format(Omega_1))\n",
    "print(u'vel = {:2.2f} r/s'.format(Omega))\n"
   ]
  }
 ],
 "metadata": {
  "kernelspec": {
   "display_name": "Python 3",
   "language": "python",
   "name": "python3"
  },
  "language_info": {
   "codemirror_mode": {
    "name": "ipython",
    "version": 3
   },
   "file_extension": ".py",
   "mimetype": "text/x-python",
   "name": "python",
   "nbconvert_exporter": "python",
   "pygments_lexer": "ipython3",
   "version": "3.5.1"
  }
 },
 "nbformat": 4,
 "nbformat_minor": 0
}
