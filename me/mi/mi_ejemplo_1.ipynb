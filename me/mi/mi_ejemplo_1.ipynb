{
 "cells": [
  {
   "cell_type": "markdown",
   "metadata": {},
   "source": [
    "## Circuito equivalente"
   ]
  },
  {
   "cell_type": "markdown",
   "metadata": {},
   "source": [
    "<img src='./png/mi_circ_math_.png' width=600/>\n"
   ]
  },
  {
   "cell_type": "markdown",
   "metadata": {},
   "source": [
    "## Circuito equivalente (variables python)"
   ]
  },
  {
   "cell_type": "markdown",
   "metadata": {},
   "source": [
    "<img src='./png/mi_circ_py.png' width=600/>"
   ]
  },
  {
   "cell_type": "markdown",
   "metadata": {},
   "source": [
    "## Ejempo motor 22kW de ABB"
   ]
  },
  {
   "cell_type": "markdown",
   "metadata": {},
   "source": [
    "<img src='./png/abb_22kw_load_data.png' width=800/>\n"
   ]
  },
  {
   "cell_type": "markdown",
   "metadata": {},
   "source": [
    "### Parámetros del circuito equivalente"
   ]
  },
  {
   "cell_type": "markdown",
   "metadata": {},
   "source": [
    "<img src='./png/abb_22kw_circ_eq_params.png' width=800/>"
   ]
  },
  {
   "cell_type": "markdown",
   "metadata": {},
   "source": [
    "## Cálculos con el circuito equivalente"
   ]
  },
  {
   "cell_type": "markdown",
   "metadata": {},
   "source": [
    "Los parámetros dados por ABB se pueden utilizar para calcular el par."
   ]
  },
  {
   "cell_type": "code",
   "execution_count": 1,
   "metadata": {
    "collapsed": false
   },
   "outputs": [],
   "source": [
    "import numpy as np\n",
    "\n",
    "R_s, X_s = 0.17, 0.35   # Ω \n",
    "R_f, X_mu = 347.0, 17.3 # Ω\n",
    "R_r, X_r = 0.12, 1.06   # Ω    \n",
    "\n",
    "Omega_1 = 1500.0*(2.0*np.pi)/60.0\n",
    "\n",
    "U_s = 400.0/np.sqrt(3.0)"
   ]
  },
  {
   "cell_type": "markdown",
   "metadata": {},
   "source": [
    "Se puede plantear una función con entrada la velocidad de giro $\\sf \\Omega$ y que devuelva el par útil $\\sf T_u$. "
   ]
  },
  {
   "cell_type": "code",
   "execution_count": 2,
   "metadata": {
    "collapsed": false
   },
   "outputs": [],
   "source": [
    "def par(Omega):\n",
    "    \n",
    "    s = (Omega_1 - Omega)/(Omega_1)\n",
    "    \n",
    "    Z_s = R_s + 1j*X_s\n",
    "    Z_m = (R_f * 1j*X_mu) / (R_f + 1j*X_mu)\n",
    "    Z_r = R_r/s + 1j*X_r\n",
    "    \n",
    "    Z_mr = Z_m*Z_r/(Z_m + Z_r)\n",
    "    Z_eq = Z_s + Z_mr\n",
    "    \n",
    "    I_s = U_s/Z_eq\n",
    "    \n",
    "    E = U_s - Z_s*I_s\n",
    "    \n",
    "    I_r = E/Z_r\n",
    "    \n",
    "    P_mi = 3.0*R_r*(1.0-s)/s*(np.abs(I_r)**2)\n",
    "    P_u = P_mi # en el caso del modelo de ABB\n",
    "    \n",
    "    T_u = P_u/Omega\n",
    "    \n",
    "    return T_u"
   ]
  },
  {
   "cell_type": "code",
   "execution_count": 3,
   "metadata": {
    "collapsed": false
   },
   "outputs": [
    {
     "name": "stdout",
     "output_type": "stream",
     "text": [
      "146.777824116\n"
     ]
    }
   ],
   "source": [
    "Omega = 1470.0*(2.0*np.pi)/60.0\n",
    "\n",
    "print(par(Omega))"
   ]
  },
  {
   "cell_type": "markdown",
   "metadata": {},
   "source": [
    "El resultado se puede ecribir con formato como sigue:"
   ]
  },
  {
   "cell_type": "code",
   "execution_count": 4,
   "metadata": {
    "collapsed": false
   },
   "outputs": [
    {
     "name": "stdout",
     "output_type": "stream",
     "text": [
      "El par T_u = 146.778 N.m\n"
     ]
    }
   ],
   "source": [
    "print('El par T_u = {:2.3f} N.m'.format(par(Omega)))"
   ]
  },
  {
   "cell_type": "markdown",
   "metadata": {},
   "source": [
    "Que se puede comparar con la información suministrada por el fabricante:"
   ]
  },
  {
   "cell_type": "markdown",
   "metadata": {},
   "source": [
    "<img src='./png/abb_22kw_starting_curves.png' width=800 />"
   ]
  },
  {
   "cell_type": "code",
   "execution_count": 5,
   "metadata": {
    "collapsed": false
   },
   "outputs": [],
   "source": [
    "Omega = np.linspace(0.1,1499.0*(2.0*np.pi)/60.0,200)\n",
    "Par = par(Omega)"
   ]
  },
  {
   "cell_type": "code",
   "execution_count": 17,
   "metadata": {
    "collapsed": false
   },
   "outputs": [
    {
     "ename": "NameError",
     "evalue": "name 'Par' is not defined",
     "output_type": "error",
     "traceback": [
      "\u001b[0;31m---------------------------------------------------------------------------\u001b[0m",
      "\u001b[0;31mNameError\u001b[0m                                 Traceback (most recent call last)",
      "\u001b[0;32m<ipython-input-17-ea87d2967079>\u001b[0m in \u001b[0;36m<module>\u001b[0;34m()\u001b[0m\n\u001b[1;32m      6\u001b[0m \u001b[0max\u001b[0m \u001b[0;34m=\u001b[0m \u001b[0mfig\u001b[0m\u001b[0;34m.\u001b[0m\u001b[0madd_subplot\u001b[0m\u001b[0;34m(\u001b[0m\u001b[0;36m111\u001b[0m\u001b[0;34m)\u001b[0m\u001b[0;34m\u001b[0m\u001b[0m\n\u001b[1;32m      7\u001b[0m \u001b[0max\u001b[0m\u001b[0;34m.\u001b[0m\u001b[0mgrid\u001b[0m\u001b[0;34m(\u001b[0m\u001b[0;32mTrue\u001b[0m\u001b[0;34m)\u001b[0m\u001b[0;34m\u001b[0m\u001b[0m\n\u001b[0;32m----> 8\u001b[0;31m \u001b[0max\u001b[0m\u001b[0;34m.\u001b[0m\u001b[0mplot\u001b[0m\u001b[0;34m(\u001b[0m\u001b[0mOmega\u001b[0m\u001b[0;34m*\u001b[0m\u001b[0;36m60.0\u001b[0m\u001b[0;34m/\u001b[0m\u001b[0;34m(\u001b[0m\u001b[0;36m2.0\u001b[0m\u001b[0;34m*\u001b[0m\u001b[0mnp\u001b[0m\u001b[0;34m.\u001b[0m\u001b[0mpi\u001b[0m\u001b[0;34m)\u001b[0m\u001b[0;34m,\u001b[0m \u001b[0mPar\u001b[0m\u001b[0;34m/\u001b[0m\u001b[0;36m143.0\u001b[0m\u001b[0;34m)\u001b[0m\u001b[0;34m\u001b[0m\u001b[0m\n\u001b[0m\u001b[1;32m      9\u001b[0m \u001b[0;34m\u001b[0m\u001b[0m\n\u001b[1;32m     10\u001b[0m \u001b[0max\u001b[0m\u001b[0;34m.\u001b[0m\u001b[0mplot\u001b[0m\u001b[0;34m(\u001b[0m\u001b[0;36m1470.0\u001b[0m\u001b[0;34m,\u001b[0m \u001b[0mpar\u001b[0m\u001b[0;34m(\u001b[0m\u001b[0;36m1470\u001b[0m\u001b[0;34m*\u001b[0m\u001b[0;36m2.0\u001b[0m\u001b[0;34m*\u001b[0m\u001b[0mnp\u001b[0m\u001b[0;34m.\u001b[0m\u001b[0mpi\u001b[0m\u001b[0;34m/\u001b[0m\u001b[0;36m60.0\u001b[0m\u001b[0;34m)\u001b[0m\u001b[0;34m/\u001b[0m\u001b[0;36m143.0\u001b[0m\u001b[0;34m,\u001b[0m \u001b[0;34m'ro'\u001b[0m\u001b[0;34m)\u001b[0m\u001b[0;34m\u001b[0m\u001b[0m\n",
      "\u001b[0;31mNameError\u001b[0m: name 'Par' is not defined"
     ]
    }
   ],
   "source": [
    "\n",
    "\n",
    "import matplotlib.pyplot as plt\n",
    "fig = plt.figure() # se genera la figura\n",
    "\n",
    "ax = fig.add_subplot(111)\n",
    "ax.grid(True)\n",
    "ax.plot(Omega*60.0/(2.0*np.pi), Par/143.0)\n",
    "\n",
    "ax.plot(1470.0, par(1470*2.0*np.pi/60.0)/143.0, 'ro')\n",
    "\n",
    "ax.set_xlabel('Speed r/m')\n",
    "ax.set_ylabel('Torque p.u.')\n",
    "fig.savefig('curva_omega_par.png')\n",
    "\n"
   ]
  },
  {
   "cell_type": "markdown",
   "metadata": {},
   "source": [
    "<img src='curva_omega_par.png' />"
   ]
  },
  {
   "cell_type": "markdown",
   "metadata": {},
   "source": [
    "<img src='./png/abb_22kw_starting_curves_i_tau.png' width=800/>"
   ]
  },
  {
   "cell_type": "code",
   "execution_count": 7,
   "metadata": {
    "collapsed": false
   },
   "outputs": [],
   "source": [
    "ABB_22kW = np.array([[\t0\t,\t2.9000000954\t,\t7\t],\n",
    "[\t39\t,\t2.7977998257\t,\t6.936899662\t],\n",
    "[\t79\t,\t2.7023992538\t,\t6.8730735779\t],\n",
    "[\t118\t,\t2.6137983799\t,\t6.8084478378\t],\n",
    "[\t158\t,\t2.5319969654\t,\t6.7429423332\t],\n",
    "[\t197\t,\t2.4569950104\t,\t6.6764669418\t],\n",
    "[\t237\t,\t2.3887929916\t,\t6.6089234352\t],\n",
    "[\t277\t,\t2.3273904324\t,\t6.540201664\t],\n",
    "[\t316\t,\t2.272787571\t,\t6.4701800346\t],\n",
    "[\t356\t,\t2.224984169\t,\t6.3987207413\t],\n",
    "[\t395\t,\t2.1839804649\t,\t6.325671196\t],\n",
    "[\t435\t,\t2.1497762203\t,\t6.2508583069\t],\n",
    "[\t475\t,\t2.122371912\t,\t6.1740870476\t],\n",
    "[\t514\t,\t2.1017670631\t,\t6.0951347351\t],\n",
    "[\t554\t,\t2.0879616737\t,\t6.0137495995\t],\n",
    "[\t593\t,\t2.0809559822\t,\t5.9296417236\t],\n",
    "[\t633\t,\t2.0814769268\t,\t5.8424787521\t],\n",
    "[\t673\t,\t2.0939102173\t,\t5.7518754005\t],\n",
    "[\t712\t,\t2.1177232265\t,\t5.6573843956\t],\n",
    "[\t752\t,\t2.1513843536\t,\t5.5584840775\t],\n",
    "[\t791\t,\t2.1933629513\t,\t5.4545617104\t],\n",
    "[\t831\t,\t2.2421274185\t,\t5.3448915482\t],\n",
    "[\t871\t,\t2.2961466312\t,\t5.2286124229\t],\n",
    "[\t910\t,\t2.3538894653\t,\t5.1046938896\t],\n",
    "[\t950\t,\t2.4138247967\t,\t4.9718937874\t],\n",
    "[\t989\t,\t2.4744212627\t,\t4.8287057877\t],\n",
    "[\t1029\t,\t2.5341477394\t,\t4.6732878685\t],\n",
    "[\t1069\t,\t2.5914731026\t,\t4.5033760071\t],\n",
    "[\t1108\t,\t2.6448657513\t,\t4.3161621094\t],\n",
    "[\t1148\t,\t2.6927950382\t,\t4.1081414223\t],\n",
    "[\t1187\t,\t2.7337296009\t,\t3.8749132156\t],\n",
    "[\t1219\t,\t2.7600522041\t,\t3.6698181629\t],\n",
    "[\t1250\t,\t2.780333519\t,\t3.4423148632\t],\n",
    "[\t1281\t,\t2.7938244343\t,\t3.1883795261\t],\n",
    "[\t1312\t,\t2.7997760773\t,\t2.9031796455\t],\n",
    "[\t1344\t,\t2.7722914219\t,\t2.5809481144\t],\n",
    "[\t1375\t,\t2.6312737465\t,\t2.2148909569\t],\n",
    "[\t1406\t,\t2.3262131214\t,\t1.7972093821\t],\n",
    "[\t1437\t,\t1.8062707186\t,\t1.3196823597\t],\n",
    "[\t1468\t,\t1.0349119902\t,\t0.7790068984\t]])\n"
   ]
  },
  {
   "cell_type": "code",
   "execution_count": 27,
   "metadata": {
    "collapsed": false
   },
   "outputs": [],
   "source": [
    "ax.plot(ABB_22kW[:,0], ABB_22kW[:,1])\n",
    "fig.savefig('curva_omega_par_vs_abb.png')"
   ]
  },
  {
   "cell_type": "markdown",
   "metadata": {},
   "source": [
    "### Modelo de doble jaula"
   ]
  },
  {
   "cell_type": "markdown",
   "metadata": {},
   "source": [
    "<img src='./png/mi_circ_2cages_math.png' width=700/ />"
   ]
  },
  {
   "cell_type": "code",
   "execution_count": 9,
   "metadata": {
    "collapsed": false
   },
   "outputs": [],
   "source": [
    "R_s, X_s = 0.17, 0.35   # Ω \n",
    "R_f, X_mu = 347.0, 17.3 # Ω\n",
    "P_mec = 0.0\n",
    "R_1 =  0.3533\n",
    "R_2 = 0.1783    \n",
    "X_1 = 0.3740\n",
    "X_2 = 2.3220"
   ]
  },
  {
   "cell_type": "markdown",
   "metadata": {},
   "source": [
    "### Función para calcular el par en función de la velocidad"
   ]
  },
  {
   "cell_type": "code",
   "execution_count": 10,
   "metadata": {
    "collapsed": false
   },
   "outputs": [],
   "source": [
    "def par2(Omega):\n",
    "    \n",
    "    s = (Omega_1 - Omega)/(Omega_1)\n",
    "    \n",
    "    Z_s = R_s + 1j*X_s\n",
    "    Z_m = (R_f * 1j*X_mu) / (R_f + 1j*X_mu)\n",
    "    Z_r_1 = R_1/s + 1j*X_1\n",
    "    Z_r_2 = R_2/s + 1j*X_2\n",
    "    Z_r = Z_r_1*Z_r_2/(Z_r_1 + Z_r_2)\n",
    "    Z_mr = Z_m*Z_r/(Z_m + Z_r)\n",
    "    Z_eq = Z_s + Z_mr\n",
    "    \n",
    "    I_s = U_s/Z_eq\n",
    "    \n",
    "    E = U_s - Z_s*I_s\n",
    "    \n",
    "    I_r_1 = E/Z_r_1\n",
    "    I_r_2 = E/Z_r_2\n",
    "    \n",
    "    P_mi_1 = 3.0*R_1*(1.0-s)/s*(np.abs(I_r_1)**2)\n",
    "    P_mi_2 = 3.0*R_2*(1.0-s)/s*(np.abs(I_r_2)**2)\n",
    "    \n",
    "    P_mi = P_mi_1 + P_mi_2\n",
    "    \n",
    "    P_u = P_mi # en el caso del modelo de ABB\n",
    "    \n",
    "    T_u = P_u/Omega\n",
    "    \n",
    "    return T_u"
   ]
  },
  {
   "cell_type": "code",
   "execution_count": 11,
   "metadata": {
    "collapsed": false
   },
   "outputs": [],
   "source": [
    "Par2 = par2(Omega)\n",
    "ax.plot(Omega*60.0/(2.0*np.pi), Par2/143.0)\n",
    "fig.savefig('curva_omega_par2_vs_abb.png')"
   ]
  },
  {
   "cell_type": "markdown",
   "metadata": {},
   "source": [
    "<img src='curva_omega_par2_vs_abb.png' />"
   ]
  },
  {
   "cell_type": "code",
   "execution_count": 20,
   "metadata": {
    "collapsed": false
   },
   "outputs": [],
   "source": [
    "def par_i(Omega):\n",
    "    \n",
    "    s = (Omega_1 - Omega)/(Omega_1)\n",
    "    \n",
    "    Z_s = R_s + 1j*X_s\n",
    "    Z_m = (R_f * 1j*X_mu) / (R_f + 1j*X_mu)\n",
    "    Z_r = R_r/s + 1j*X_r\n",
    "    \n",
    "    Z_mr = Z_m*Z_r/(Z_m + Z_r)\n",
    "    Z_eq = Z_s + Z_mr\n",
    "    \n",
    "    I_s = U_s/Z_eq\n",
    "    \n",
    "    E = U_s - Z_s*I_s\n",
    "    \n",
    "    I_r = E/Z_r\n",
    "    \n",
    "    P_mi = 3.0*R_r*(1.0-s)/s*(np.abs(I_r)**2)\n",
    "    P_u = P_mi # en el caso del modelo de ABB\n",
    "    \n",
    "    T_u = P_u/Omega\n",
    "    \n",
    "    return T_u, np.abs(I_s)"
   ]
  },
  {
   "cell_type": "code",
   "execution_count": 13,
   "metadata": {
    "collapsed": false
   },
   "outputs": [],
   "source": [
    "def par_i_2(Omega):\n",
    "    \n",
    "    s = (Omega_1 - Omega)/(Omega_1)\n",
    "    \n",
    "    Z_s = R_s + 1j*X_s\n",
    "    Z_m = (R_f * 1j*X_mu) / (R_f + 1j*X_mu)\n",
    "    Z_r_1 = R_1/s + 1j*X_1\n",
    "    Z_r_2 = R_2/s + 1j*X_2\n",
    "    Z_r = Z_r_1*Z_r_2/(Z_r_1 + Z_r_2)\n",
    "    Z_mr = Z_m*Z_r/(Z_m + Z_r)\n",
    "    Z_eq = Z_s + Z_mr\n",
    "    \n",
    "    I_s = U_s/Z_eq\n",
    "    \n",
    "    E = U_s - Z_s*I_s\n",
    "    \n",
    "    I_r_1 = E/Z_r_1\n",
    "    I_r_2 = E/Z_r_2\n",
    "    \n",
    "    P_mi_1 = 3.0*R_1*(1.0-s)/s*(np.abs(I_r_1)**2)\n",
    "    P_mi_2 = 3.0*R_2*(1.0-s)/s*(np.abs(I_r_2)**2)\n",
    "    \n",
    "    P_mi = P_mi_1 + P_mi_2\n",
    "    \n",
    "    P_u = P_mi # en el caso del modelo de ABB\n",
    "    \n",
    "    T_u = P_u/Omega\n",
    "    \n",
    "    return T_u, np.abs(I_s)\n"
   ]
  },
  {
   "cell_type": "code",
   "execution_count": 21,
   "metadata": {
    "collapsed": false
   },
   "outputs": [],
   "source": [
    "T_u_1, I_s_1 = par_i(Omega)\n",
    "T_u_2, I_s_2 = par_i_2(Omega)"
   ]
  },
  {
   "cell_type": "code",
   "execution_count": 25,
   "metadata": {
    "collapsed": false
   },
   "outputs": [],
   "source": [
    "import matplotlib.pyplot as plt\n",
    "fig_is = plt.figure() # se genera la figura\n",
    "\n",
    "ax = fig_is.add_subplot(111)\n",
    "ax.grid(True)\n",
    "ax.plot(Omega*60.0/(2.0*np.pi), I_s_1/41.3)\n",
    "ax.plot(Omega*60.0/(2.0*np.pi), I_s_2/41.3)\n",
    "ax.plot(ABB_22kW[:,0], ABB_22kW[:,2])\n",
    "\n",
    "\n",
    "T_u, I_s_2_n = par_i_2(1470*2.0*np.pi/60.0)\n",
    "ax.plot(1470.0, I_s_2_n/41.3, 'ro')\n",
    "\n",
    "\n",
    "ax.legend(['one cage', 'two cages', 'ABB'])\n",
    "ax.set_xlabel('Speed r/m')\n",
    "ax.set_ylabel('Current p.u.')\n",
    "\n",
    "\n",
    "fig_is.savefig('curva_omega_is2_vs_abb.png')"
   ]
  },
  {
   "cell_type": "markdown",
   "metadata": {},
   "source": []
  },
  {
   "cell_type": "markdown",
   "metadata": {
    "collapsed": false
   },
   "source": [
    "## Curva P y Q"
   ]
  },
  {
   "cell_type": "code",
   "execution_count": 9,
   "metadata": {
    "collapsed": true
   },
   "outputs": [],
   "source": [
    "import numpy as np\n",
    "\n",
    "Omega_1 = 1500.0*(2.0*np.pi)/60.0\n",
    "U_s = 400.0/np.sqrt(3.0)\n",
    "R_s, X_s = 0.17, 0.35   # Ω \n",
    "R_f, X_mu = 347.0, 17.3 # Ω\n",
    "P_mec = 0.0\n",
    "R_1 =  0.3533\n",
    "R_2 = 0.1783    \n",
    "X_1 = 0.3740\n",
    "X_2 = 2.3220"
   ]
  },
  {
   "cell_type": "code",
   "execution_count": 13,
   "metadata": {
    "collapsed": true
   },
   "outputs": [],
   "source": [
    "def par2(Omega):\n",
    "    \n",
    "    s = (Omega_1 - Omega)/(Omega_1)\n",
    "    \n",
    "    Z_s = R_s + 1j*X_s\n",
    "    Z_m = (R_f * 1j*X_mu) / (R_f + 1j*X_mu)\n",
    "    Z_r_1 = R_1/s + 1j*X_1\n",
    "    Z_r_2 = R_2/s + 1j*X_2\n",
    "    Z_r = Z_r_1*Z_r_2/(Z_r_1 + Z_r_2)\n",
    "    Z_mr = Z_m*Z_r/(Z_m + Z_r)\n",
    "    Z_eq = Z_s + Z_mr\n",
    "    \n",
    "    I_s = U_s/Z_eq\n",
    "    \n",
    "    E = U_s - Z_s*I_s\n",
    "    \n",
    "    I_r_1 = E/Z_r_1\n",
    "    I_r_2 = E/Z_r_2\n",
    "    \n",
    "    P_mi_1 = 3.0*R_1*(1.0-s)/s*(np.abs(I_r_1)**2)\n",
    "    P_mi_2 = 3.0*R_2*(1.0-s)/s*(np.abs(I_r_2)**2)\n",
    "    \n",
    "    P_mi = P_mi_1 + P_mi_2\n",
    "    \n",
    "    P_u = P_mi # en el caso del modelo de ABB\n",
    "    \n",
    "    T_u = P_u/Omega\n",
    "    \n",
    "    S_1 = 3.0*U_s*I_s\n",
    "    return T_u, S_1"
   ]
  },
  {
   "cell_type": "code",
   "execution_count": 23,
   "metadata": {
    "collapsed": false
   },
   "outputs": [],
   "source": [
    "Omega = np.linspace(0.9,1.1,)*Omega_1\n",
    "\n",
    "M,S = par2(Omega)"
   ]
  },
  {
   "cell_type": "code",
   "execution_count": 24,
   "metadata": {
    "collapsed": false
   },
   "outputs": [
    {
     "name": "stderr",
     "output_type": "stream",
     "text": [
      "/home/jmmauricio/bin/anaconda3/lib/python3.5/site-packages/matplotlib/figure.py:397: UserWarning: matplotlib is currently using a non-GUI backend, so cannot show the figure\n",
      "  \"matplotlib is currently using a non-GUI backend, \"\n"
     ]
    }
   ],
   "source": [
    "fig = plt.figure() # se genera la figura\n",
    "\n",
    "ax = fig.add_subplot(111)\n",
    "ax.grid(True)\n",
    "\n",
    "ax.plot(Omega/Omega_1, S.real/1e3, 'ro')\n",
    "ax.plot(Omega/Omega_1, S.imag/1e3, 'ro')\n",
    "\n",
    "ax.set_xlabel('Speed r/m')\n",
    "ax.set_ylabel('Torque p.u.')\n",
    "fig.savefig('curva_omega_p_q.png')\n",
    "fig.show()"
   ]
  },
  {
   "cell_type": "markdown",
   "metadata": {},
   "source": [
    "<img src='curva_omega_p_q.png' />"
   ]
  },
  {
   "cell_type": "code",
   "execution_count": null,
   "metadata": {
    "collapsed": true
   },
   "outputs": [],
   "source": []
  }
 ],
 "metadata": {
  "anaconda-cloud": {},
  "kernelspec": {
   "display_name": "Python [default]",
   "language": "python",
   "name": "python3"
  },
  "language_info": {
   "codemirror_mode": {
    "name": "ipython",
    "version": 3
   },
   "file_extension": ".py",
   "mimetype": "text/x-python",
   "name": "python",
   "nbconvert_exporter": "python",
   "pygments_lexer": "ipython3",
   "version": "3.5.2"
  }
 },
 "nbformat": 4,
 "nbformat_minor": 0
}
