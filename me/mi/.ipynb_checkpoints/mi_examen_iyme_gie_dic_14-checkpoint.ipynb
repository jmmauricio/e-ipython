{
 "metadata": {
  "name": "",
  "signature": "sha256:c2fbc1e27e2d73b3ace699a22d6f10f18eecd49cf0903bb603b523bf5249a399"
 },
 "nbformat": 3,
 "nbformat_minor": 0,
 "worksheets": [
  {
   "cells": [
    {
     "cell_type": "markdown",
     "metadata": {},
     "source": [
      "# Soluci\u00f3n"
     ]
    },
    {
     "cell_type": "markdown",
     "metadata": {},
     "source": [
      "## Circuito equivalente"
     ]
    },
    {
     "cell_type": "markdown",
     "metadata": {},
     "source": [
      "<img src='./png/mi_circ_math_.png' width=600/>\n"
     ]
    },
    {
     "cell_type": "markdown",
     "metadata": {},
     "source": [
      "## Circuito equivalente (variables python)"
     ]
    },
    {
     "cell_type": "markdown",
     "metadata": {},
     "source": [
      "<img src='./png/mi_circ_py.png' width=600/>"
     ]
    },
    {
     "cell_type": "markdown",
     "metadata": {},
     "source": [
      "### Deslizamiento porcentual "
     ]
    },
    {
     "cell_type": "markdown",
     "metadata": {},
     "source": [
      "Con la frecuencia:\n",
      "\n",
      "$$ \\sf f = 50 \\; H_z$$\n",
      "\n",
      "Y los pares de polo se puede calcular la velocidad s\u00edncrona:\n",
      "\n",
      "$$ \\sf \\Omega_1 = \\frac{2 \\pi f}{N_{pp}} [=] \\frac{r}{s}$$\n",
      "\n",
      "La velocidad de giro del eje se puede obtener a partir de la velocidad dada en revoluciones por minuto:\n",
      "\n",
      "$$ \\sf \\Omega =  \\frac{n \\cdot 2 \\pi}{60} [=] \\frac{r}{s} $$\n",
      "\n",
      "Deslizamiento:\n",
      "\n",
      "$$ \\sf s = \\frac{\\Omega_1 - \\Omega}{\\Omega_1}$$\n",
      "\n",
      "Deslizamiento porcentual:\n",
      "\n",
      "$$ \\sf s_{\\%} = s \\cdot 100$$"
     ]
    },
    {
     "cell_type": "code",
     "collapsed": true,
     "input": [
      "import numpy as np\n",
      "N_pp = 2\n",
      "f = 50.0\n",
      "n = 1470.0\n",
      "\n",
      "Omega_1 = 2.0*np.pi*50.0/N_pp\n",
      "Omega = 2.0*np.pi*n/60.0\n",
      "s = (Omega_1 - Omega)/(Omega_1)\n",
      "s_porcentual = s*100.0"
     ],
     "language": "python",
     "metadata": {
      "slideshow": {
       "slide_type": "-"
      }
     },
     "outputs": [],
     "prompt_number": 1
    },
    {
     "cell_type": "code",
     "collapsed": false,
     "input": [
      "print('Deslizamiento porcentual: {:2.2f} %'.format(s_porcentual))"
     ],
     "language": "python",
     "metadata": {},
     "outputs": [
      {
       "output_type": "stream",
       "stream": "stdout",
       "text": [
        "Deslizamiento porcentual: 2.00 %\n"
       ]
      }
     ],
     "prompt_number": 2
    },
    {
     "cell_type": "markdown",
     "metadata": {},
     "source": [
      "### Par \u00fatil a 1470 rpm "
     ]
    },
    {
     "cell_type": "markdown",
     "metadata": {},
     "source": [
      "Con los parametros y el deslizamiento calculado se obtienen las impedancias del estator y el rotor:\n",
      " \n",
      " $$ \\sf \\underline Z_s = R_s + j X_s $$\n",
      "  \n",
      " $$ \\sf \\underline Z_r = \\frac{R_r}{s}  + jX_r$$\n",
      "    "
     ]
    },
    {
     "cell_type": "markdown",
     "metadata": {},
     "source": [
      "La impedancia equivalente de la rama de magnetizaci\u00f3n:\n",
      "\n",
      "$$ \\sf  \\underline Z_m = \\frac{R_f \\cdot jX_\\mu}{R_f + jX_\\mu} $$\n",
      "    \n",
      "Con la impedancia rotorica y la de la rama de magnetizaci\u00f3n se puede obtener una impedancia equivalente magnetizaci\u00f3n-rotor:\n",
      "   \n",
      "$$ \\sf  \\underline Z_{mr} = \\frac{\\underline Z_m  \\underline Z_r}{ \\underline Z_m +  \\underline Z_r}$$\n",
      "\n",
      "La impedancia equivalente de todo el circuito se obtiene sumando la impedancia estatorica y la impedancia equivalente rotor-estator:\n",
      "    \n",
      "$$ \\sf  \\underline Z_{eq} = \\underline Z_s +  \\underline Z_{mr} $$\n",
      "    \n"
     ]
    },
    {
     "cell_type": "code",
     "collapsed": false,
     "input": [
      "R_s, X_s = 0.17, 0.35   # \u03a9 \n",
      "R_f, X_mu = 347.0, 17.3 # \u03a9\n",
      "R_r, X_r = 0.12, 1.06   # \u03a9    \n",
      "\n",
      "Z_s = R_s + 1j*X_s\n",
      "Z_m = (R_f * 1j*X_mu) / (R_f + 1j*X_mu)\n",
      "Z_r = R_r/s + 1j*X_r\n",
      "\n",
      "Z_mr = Z_m*Z_r/(Z_m + Z_r)\n",
      "Z_eq = Z_s + Z_mr"
     ],
     "language": "python",
     "metadata": {},
     "outputs": [],
     "prompt_number": 3
    },
    {
     "cell_type": "markdown",
     "metadata": {},
     "source": [
      "$$ \\sf  \\underline U_s =\\frac{400}{\\sqrt 3} \\angle{ 0^\\circ}  V$$\n",
      "\n",
      "$$ \\sf  \\underline I_s = \\frac{ \\underline U_s}{ \\underline Z_{eq}}$$"
     ]
    },
    {
     "cell_type": "markdown",
     "metadata": {},
     "source": [
      "### Corriente estatorica a 1470 rpm"
     ]
    },
    {
     "cell_type": "code",
     "collapsed": false,
     "input": [
      "U_s = 400.0/np.sqrt(3.0)\n",
      "I_s = U_s/Z_eq"
     ],
     "language": "python",
     "metadata": {},
     "outputs": [],
     "prompt_number": 4
    },
    {
     "cell_type": "code",
     "collapsed": false,
     "input": [
      "print('La corriente  = {:2.2f} A'.format(np.abs(I_s)))"
     ],
     "language": "python",
     "metadata": {},
     "outputs": [
      {
       "output_type": "stream",
       "stream": "stdout",
       "text": [
        "La corriente  = 40.51 A\n"
       ]
      }
     ],
     "prompt_number": 5
    },
    {
     "cell_type": "markdown",
     "metadata": {},
     "source": [
      "$$ \\sf  \\underline E =  \\underline U_s -  \\underline Z_s  \\underline I_s$$\n",
      "    \n",
      "$$ \\sf  \\underline I_r = \\frac{ \\underline E}{ \\underline Z_r}$$"
     ]
    },
    {
     "cell_type": "code",
     "collapsed": false,
     "input": [
      "E = U_s - Z_s*I_s\n",
      "I_r = E/Z_r"
     ],
     "language": "python",
     "metadata": {},
     "outputs": [],
     "prompt_number": 6
    },
    {
     "cell_type": "code",
     "collapsed": false,
     "input": [
      "### Par \u00fatil a 1470 rpm "
     ],
     "language": "python",
     "metadata": {},
     "outputs": [],
     "prompt_number": 7
    },
    {
     "cell_type": "markdown",
     "metadata": {},
     "source": [
      "$$ \\sf P_{mi} = 3 R_r  \\frac{\\left( 1-s \\right)}  {s} | \\underline I_r|^2$$\n",
      "$$ \\sf P_u = P_{mi} $$\n",
      "  \n",
      "$$ \\sf T_u = \\frac{P_u}{\\Omega}$$"
     ]
    },
    {
     "cell_type": "code",
     "collapsed": false,
     "input": [
      "P_mi = 3.0*R_r*(1.0-s)/s*(np.abs(I_r)**2)\n",
      "P_u = P_mi # en el caso en el que las p\u00e9rdidas fueron incluidas en R_f\n",
      "\n",
      "T_u = P_u/Omega\n"
     ],
     "language": "python",
     "metadata": {},
     "outputs": [],
     "prompt_number": 8
    },
    {
     "cell_type": "code",
     "collapsed": false,
     "input": [
      "print('El par T_u = {:2.2f} N.m'.format(T_u))"
     ],
     "language": "python",
     "metadata": {},
     "outputs": [
      {
       "output_type": "stream",
       "stream": "stdout",
       "text": [
        "El par T_u = 146.78 N.m\n"
       ]
      }
     ],
     "prompt_number": 9
    },
    {
     "cell_type": "markdown",
     "metadata": {},
     "source": [
      "### Corriente de arranque (s=1)"
     ]
    },
    {
     "cell_type": "markdown",
     "metadata": {},
     "source": [
      "En el arranque el deslizamiento es:\n",
      "\n",
      "$$ \\sf s = 1$$\n",
      " \n",
      "Con lo que se obtiene la siguiente impedancia rot\u00f3rica:\n",
      "\n",
      "$$ \\sf \\underline Z_r = R_r  + jX_r$$\n",
      "\n",
      "La impedancia equivalente de la rama de magnetizaci\u00f3n:\n",
      "\n",
      "$$ \\sf  \\underline Z_m = \\frac{R_f \\cdot jX_\\mu}{R_f + jX_\\mu} $$\n",
      "    \n",
      "Con la impedancia rotorica y la de la rama de magnetizaci\u00f3n se puede obtener una impedancia equivalente magnetizaci\u00f3n-rotor:\n",
      "   \n",
      "$$ \\sf  \\underline Z_{mr} = \\frac{\\underline Z_m  \\underline Z_r}{ \\underline Z_m +  \\underline Z_r}$$\n",
      "\n",
      "La impedancia equivalente de todo el circuito se obtiene sumando la impedancia estatorica y la impedancia equivalente rotor-estator:\n",
      "    \n",
      "$$ \\sf  \\underline Z_{eq} = \\underline Z_s +  \\underline Z_{mr} $$\n",
      "    "
     ]
    },
    {
     "cell_type": "code",
     "collapsed": false,
     "input": [
      "Z_s = R_s + 1j*X_s\n",
      "Z_m = (R_f * 1j*X_mu) / (R_f + 1j*X_mu)\n",
      "Z_r = R_r + 1j*X_r\n",
      "\n",
      "Z_mr = Z_m*Z_r/(Z_m + Z_r)\n",
      "Z_eq = Z_s + Z_mr\n",
      "\n",
      "U_s = 400.0/np.sqrt(3.0)\n",
      "I_s = U_s/Z_eq\n",
      "\n"
     ],
     "language": "python",
     "metadata": {},
     "outputs": [],
     "prompt_number": 10
    },
    {
     "cell_type": "code",
     "collapsed": false,
     "input": [
      "print('La corriente en el arranque = {:2.2f} A'.format(np.abs(I_s)))"
     ],
     "language": "python",
     "metadata": {},
     "outputs": [
      {
       "output_type": "stream",
       "stream": "stdout",
       "text": [
        "La corriente en el arranque = 167.65 A\n"
       ]
      }
     ],
     "prompt_number": 11
    }
   ],
   "metadata": {}
  }
 ]
}