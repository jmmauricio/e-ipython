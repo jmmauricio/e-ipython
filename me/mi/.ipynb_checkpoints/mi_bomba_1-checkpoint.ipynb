{
 "cells": [
  {
   "cell_type": "markdown",
   "metadata": {},
   "source": [
    "## Enunciado"
   ]
  },
  {
   "cell_type": "markdown",
   "metadata": {},
   "source": [
    "Para la instalación de la figura calcular:\n",
    "    \n",
    "1. El módulo de la tensión en el punto B en el momento del arranque del motor\n",
    "2. La potencia mecánica y la fuerza electromotriz interna de la máquina síncrona para que el motor trabaje a tensión nominal en el punto de funcionamiento."
   ]
  },
  {
   "cell_type": "markdown",
   "metadata": {},
   "source": [
    "<img src='./svg/sm_im_b.svg' width=600/>\n"
   ]
  },
  {
   "cell_type": "markdown",
   "metadata": {},
   "source": [
    "## Datos del motor"
   ]
  },
  {
   "cell_type": "markdown",
   "metadata": {},
   "source": [
    "<img src='./png/abb_90kw_data_sheet.png' width=800/>"
   ]
  },
  {
   "cell_type": "markdown",
   "metadata": {},
   "source": [
    "<img src='./png/abb_90kw_eq_circ.png' width=800/>\n"
   ]
  },
  {
   "cell_type": "markdown",
   "metadata": {},
   "source": [
    "## Cálculos con el circuito equivalente"
   ]
  },
  {
   "cell_type": "markdown",
   "metadata": {},
   "source": [
    "Los parámetros dados por ABB se pueden utilizar para calcular el par."
   ]
  },
  {
   "cell_type": "code",
   "execution_count": 21,
   "metadata": {
    "collapsed": false
   },
   "outputs": [],
   "source": [
    "import numpy as np\n",
    "\n",
    "# máquina síncrona\n",
    "X_syn_pu = 0.15\n",
    "\n",
    "U_n = 400.0\n",
    "S_n = 1000.0e3\n",
    "n_n = 1478.0\n",
    "\n",
    "U_b = U_n\n",
    "S_b = S_n\n",
    "Z_b = U_b**2/S_b\n",
    "\n",
    "X_syn = Z_b*X_syn_pu\n",
    "\n",
    "\n",
    "# línea\n",
    "Long = 20.0 # m\n",
    "rho_cu = 1.0/54.0 # \n",
    "S = 50.0 # mm2\n",
    "\n",
    "R_l =  rho_cu/S*Long\n",
    "X_l =  0.08*Long/1000.0\n",
    "\n",
    "# motor asíncrono\n",
    "R_s, X_s = 23.0e-3  , 86.0e-3   # Ω \n",
    "R_f, X_mu = 111.0, 3.7 # Ω\n",
    "R_r_start, X_r_start = 65.0e-3 , 86.0e-3    # Ω    \n",
    "R_r = R_r_start\n",
    "X_r = X_r_start\n",
    "Omega_n = n_n*(2.0*np.pi)/60.0\n",
    "\n",
    "U_s = U_b/np.sqrt(3.0)\n",
    "\n",
    "Omega_1 = 1500.0*(2.0*np.pi)/60.0\n",
    "\n",
    "# Bomba\n",
    "A = 0.0197\n",
    "B = 86.0\n",
    "\n",
    "Z_s = 1j*X_syn + R_l + 1j*X_l + R_s + 1j*X_s"
   ]
  },
  {
   "cell_type": "markdown",
   "metadata": {},
   "source": [
    "### Función principal para el cálculo"
   ]
  },
  {
   "cell_type": "code",
   "execution_count": 22,
   "metadata": {
    "collapsed": false
   },
   "outputs": [],
   "source": [
    "def calc(Omega):\n",
    "    \n",
    "    s = (Omega_1 - Omega)/(Omega_1)\n",
    "    \n",
    "    \n",
    "    Z_m = (R_f * 1j*X_mu) / (R_f + 1j*X_mu)\n",
    "    Z_r = R_r/s + 1j*X_r\n",
    "    \n",
    "    Z_mr = Z_m*Z_r/(Z_m + Z_r)\n",
    "    Z_eq = Z_s + Z_mr\n",
    "    \n",
    "    I_s = U_s/Z_eq\n",
    "    \n",
    "    E = U_s - Z_s*I_s\n",
    "    \n",
    "    I_r = E/Z_r\n",
    "    \n",
    "    P_mi = 3.0*R_r*(1.0-s)/s*(np.abs(I_r)**2)\n",
    "    P_u = P_mi # en el caso del modelo de ABB\n",
    "    \n",
    "    T_u = P_u/Omega\n",
    "    \n",
    "    \n",
    "    return I_s"
   ]
  },
  {
   "cell_type": "markdown",
   "metadata": {},
   "source": [
    "## Módulo de la tensión en el punto B en el momento del arranque del motor"
   ]
  },
  {
   "cell_type": "code",
   "execution_count": 23,
   "metadata": {
    "collapsed": false
   },
   "outputs": [
    {
     "name": "stdout",
     "output_type": "stream",
     "text": [
      "Tensión en el punto B en el momento del arranque (fase-neutro): 203.02 V\n",
      "Tensión en el punto B en el momento del arranque: 351.64 V\n"
     ]
    }
   ],
   "source": [
    "I_s = calc(0.0)\n",
    "U_b = U_s - I_s * ( 1j*X_syn + R_l + 1j*X_l )\n",
    "\n",
    "print('Tensión en el punto B en el momento del arranque (fase-neutro): {:2.2f} V'.format(np.abs(U_b)))\n",
    "print('Tensión en el punto B en el momento del arranque: {:2.2f} V'.format(np.sqrt(3)*np.abs(U_b)))\n"
   ]
  },
  {
   "cell_type": "markdown",
   "metadata": {},
   "source": [
    "## Potencia mecánica y la fuerza electromotriz interna"
   ]
  },
  {
   "cell_type": "code",
   "execution_count": 24,
   "metadata": {
    "collapsed": false
   },
   "outputs": [
    {
     "name": "stdout",
     "output_type": "stream",
     "text": [
      "Corriente el punto de funcionamiento: 150.15 A\n",
      "Tensión interna en el punto de funcionamiento: 233.94 V\n",
      "Potencia mecánica en el punto de funcionamiento: 88.58 kW\n",
      "400.0\n"
     ]
    }
   ],
   "source": [
    "# tau = C*Omega + D\n",
    "# tau_n = C*Omega_n + D\n",
    "#     0 = C*Omega_1 + D\n",
    "#\n",
    "# D =  -C*Omega_1\n",
    "tau_n = 581.0\n",
    "\n",
    "C = tau_n / (Omega_n - Omega_1)\n",
    "D = -C*Omega_1\n",
    "\n",
    "\n",
    "roots = np.roots([A, -C, B-D])\n",
    "\n",
    "Omega_f = roots[1]\n",
    "\n",
    "R_r_nom, X_r_nom = 24.0e-3 , 196.0e-3    # Ω    \n",
    "R_r = R_r_nom\n",
    "X_r = X_r_nom\n",
    "\n",
    "Z_s = R_s + 1j*X_s\n",
    "\n",
    "I_s = calc(Omega_f)\n",
    "\n",
    "print('Corriente el punto de funcionamiento: {:2.2f} A'.format(np.abs(I_s)))\n",
    "\n",
    "E = U_s + I_s * ( 1j*X_syn + R_l + 1j*X_l )\n",
    "\n",
    "print('Tensión interna en el punto de funcionamiento: {:2.2f} V'.format(np.abs(E)))\n",
    "\n",
    "S = 3.0*E*np.conj(I_s)\n",
    "\n",
    "print('Potencia mecánica en el punto de funcionamiento: {:2.2f} kW'.format(S.real/1000.0))\n",
    "\n",
    "U_s_verifica = E - I_s * ( 1j*X_syn + R_l + 1j*X_l )\n",
    "\n",
    "print(np.abs(U_s)*np.sqrt(3))"
   ]
  },
  {
   "cell_type": "code",
   "execution_count": 25,
   "metadata": {
    "collapsed": false
   },
   "outputs": [
    {
     "data": {
      "text/plain": [
       "0.018518518518518517"
      ]
     },
     "execution_count": 25,
     "metadata": {},
     "output_type": "execute_result"
    }
   ],
   "source": [
    "1.0/54\n"
   ]
  },
  {
   "cell_type": "code",
   "execution_count": null,
   "metadata": {
    "collapsed": false
   },
   "outputs": [],
   "source": []
  }
 ],
 "metadata": {},
 "nbformat": 4,
 "nbformat_minor": 0
}
