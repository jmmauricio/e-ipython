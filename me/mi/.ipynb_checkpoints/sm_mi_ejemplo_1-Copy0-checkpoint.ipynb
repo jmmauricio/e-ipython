{
 "metadata": {
  "name": "",
  "signature": "sha256:d723ac9d70f0aebe17769489d442baf2366848dd7b0ec9927bddbaf21ed1527f"
 },
 "nbformat": 3,
 "nbformat_minor": 0,
 "worksheets": [
  {
   "cells": [
    {
     "cell_type": "heading",
     "level": 2,
     "metadata": {},
     "source": [
      "Enunciado"
     ]
    },
    {
     "cell_type": "markdown",
     "metadata": {},
     "source": [
      "Para la instalaci\u00f3n de la figura calcular:\n",
      "    \n",
      "1. El m\u00f3dulo de la tensi\u00f3n en el punto B en el momento del arranque del motor\n",
      "2. La potencia mec\u00e1nica y la fuerza electromotriz interna de la m\u00e1quina s\u00edncrona para que el motor trabaje a tensi\u00f3n nominal en el punto de funcionamiento."
     ]
    },
    {
     "cell_type": "markdown",
     "metadata": {},
     "source": [
      "<img src='./svg/sm_im_b.svg' width=600/>\n"
     ]
    },
    {
     "cell_type": "heading",
     "level": 2,
     "metadata": {},
     "source": [
      "Datos del motor"
     ]
    },
    {
     "cell_type": "markdown",
     "metadata": {},
     "source": [
      "<img src='./png/abb_90kw_data_sheet.png' width=800/>"
     ]
    },
    {
     "cell_type": "markdown",
     "metadata": {},
     "source": [
      "<img src='./png/abb_90kw_eq_circ.png' width=800/>\n"
     ]
    },
    {
     "cell_type": "heading",
     "level": 2,
     "metadata": {},
     "source": [
      "C\u00e1lculos con el circuito equivalente"
     ]
    },
    {
     "cell_type": "markdown",
     "metadata": {},
     "source": [
      "Los par\u00e1metros dados por ABB se pueden utilizar para calcular el par."
     ]
    },
    {
     "cell_type": "code",
     "collapsed": false,
     "input": [
      "import numpy as np\n",
      "\n",
      "# m\u00e1quina s\u00edncrona\n",
      "X_syn_pu = 0.15\n",
      "\n",
      "U_n = 400.0\n",
      "S_n = 10.0e3\n",
      "n_n = 1420.0\n",
      "\n",
      "U_b = U_n\n",
      "S_b = S_n\n",
      "Z_b = U_b**2/S_b\n",
      "\n",
      "X_syn = Z_b*X_syn_pu\n",
      "\n",
      "\n",
      "# l\u00ednea\n",
      "Long = 120.0 # m\n",
      "rho_cu = 1.0/54.0 # \n",
      "S = 2.0 # mm2\n",
      "\n",
      "R_l_2 =  rho_cu/2.0*Long\n",
      "R_l_4 =  rho_cu/4.0*Long\n",
      "R_l_6 =  rho_cu/6.0*Long\n",
      "\n",
      "X_l =  0.08*Long/1000.0\n",
      "\n",
      "# motor as\u00edncrono\n",
      "R_s, X_s = 2.5  , 2.4  # \u03a9 \n",
      "R_f, X_mu = 1309.0, 82.0 # \u03a9\n",
      "R_r_start, X_r_start = 2.0, 2.4   # \u03a9    \n",
      "R_r = R_r_start\n",
      "X_r = X_r_start\n",
      "Omega_n = n_n*(2.0*np.pi)/60.0\n",
      "\n",
      "U_s = U_b/np.sqrt(3.0)\n",
      "\n",
      "Omega_1 = 1500.0*(2.0*np.pi)/60.0\n",
      "\n",
      "# Bomba\n",
      "A = 0.6579e-3\n",
      "B = 2.86\n",
      "\n"
     ],
     "language": "python",
     "metadata": {},
     "outputs": [],
     "prompt_number": 17
    },
    {
     "cell_type": "heading",
     "level": 3,
     "metadata": {},
     "source": [
      "Funci\u00f3n principal para el c\u00e1lculo"
     ]
    },
    {
     "cell_type": "code",
     "collapsed": false,
     "input": [
      "def calc(Omega):\n",
      "    \n",
      "    s = (Omega_1 - Omega)/(Omega_1)\n",
      "    \n",
      "    \n",
      "    Z_m = (R_f * 1j*X_mu) / (R_f + 1j*X_mu)\n",
      "    Z_r = R_r/s + 1j*X_r\n",
      "    \n",
      "    Z_mr = Z_m*Z_r/(Z_m + Z_r)\n",
      "    Z_eq = Z_s + Z_mr\n",
      "    \n",
      "    I_s = U_s/Z_eq\n",
      "    \n",
      "    E = U_s - Z_s*I_s\n",
      "    \n",
      "    I_r = E/Z_r\n",
      "    \n",
      "    P_a = 3.0*R_r*(1.0-s)/s*(np.abs(I_r)**2)\n",
      "    \n",
      "    T_u = P_a/Omega_1\n",
      "    \n",
      "    \n",
      "    return I_s, T_u"
     ],
     "language": "python",
     "metadata": {},
     "outputs": [],
     "prompt_number": 24
    },
    {
     "cell_type": "heading",
     "level": 2,
     "metadata": {},
     "source": [
      "M\u00f3dulo de la tensi\u00f3n en el punto B en el momento del arranque del motor"
     ]
    },
    {
     "cell_type": "code",
     "collapsed": false,
     "input": [
      "Z_s = 1j*X_syn + R_l_2 + 1j*X_l + R_s + 1j*X_s\n",
      "\n",
      "I_s, T_u = calc(0.0)\n",
      "U_b = U_s - I_s * ( 1j*X_syn + R_l + 1j*X_l )\n",
      "\n",
      "print('Par en el arranque con S = 2 mm2: {:2.5f} Nm'.format(T_u))\n",
      "print('Tensi\u00f3n en el punto B en el momento del arranque: {:2.2f} V'.format(np.sqrt(3)*np.abs(U_b)))\n"
     ],
     "language": "python",
     "metadata": {},
     "outputs": [
      {
       "output_type": "stream",
       "stream": "stdout",
       "text": [
        "Par en el arranque con S = 2 mm2: 0.00 Nm\n",
        "Tensi\u00f3n en el punto B en el momento del arranque: 286.67 V\n"
       ]
      }
     ],
     "prompt_number": 25
    },
    {
     "cell_type": "heading",
     "level": 2,
     "metadata": {},
     "source": [
      "Potencia mec\u00e1nica y la fuerza electromotriz interna"
     ]
    },
    {
     "cell_type": "code",
     "collapsed": false,
     "input": [
      "# tau = C*Omega + D\n",
      "# tau_n = C*Omega_n + D\n",
      "#     0 = C*Omega_1 + D\n",
      "#\n",
      "# D =  -C*Omega_1\n",
      "tau_n = 581.0\n",
      "\n",
      "C = tau_n / (Omega_n - Omega_1)\n",
      "D = -C*Omega_1\n",
      "\n",
      "\n",
      "roots = np.roots([A, -C, B-D])\n",
      "\n",
      "Omega_f = roots[1]\n",
      "\n",
      "R_r_nom, X_r_nom = 24.0e-3 , 196.0e-3    # \u03a9    \n",
      "R_r = R_r_nom\n",
      "X_r = X_r_nom\n",
      "\n",
      "Z_s = R_s + 1j*X_s\n",
      "\n",
      "I_s = calc(Omega_f)\n",
      "\n",
      "print('Corriente el punto de funcionamiento: {:2.2f} A'.format(np.abs(I_s)))\n",
      "\n",
      "E = U_s + I_s * ( 1j*X_syn + R_l + 1j*X_l )\n",
      "\n",
      "print('Tensi\u00f3n interna en el punto de funcionamiento: {:2.2f} V'.format(np.abs(E)))\n",
      "\n",
      "S = 3.0*E*np.conj(I_s)\n",
      "\n",
      "print('Potencia mec\u00e1nica en el punto de funcionamiento: {:2.2f} kW'.format(S.real/1000.0))\n",
      "\n",
      "U_s_verifica = E - I_s * ( 1j*X_syn + R_l + 1j*X_l )\n",
      "\n",
      "print(np.abs(U_s)*np.sqrt(3))"
     ],
     "language": "python",
     "metadata": {},
     "outputs": [
      {
       "ename": "ValueError",
       "evalue": "Unknown format code 'f' for object of type 'str'",
       "output_type": "pyerr",
       "traceback": [
        "\u001b[1;31m---------------------------------------------------------------------------\u001b[0m\n\u001b[1;31mValueError\u001b[0m                                Traceback (most recent call last)",
        "\u001b[1;32m<ipython-input-9-8ab9f0e3775f>\u001b[0m in \u001b[0;36m<module>\u001b[1;34m()\u001b[0m\n\u001b[0;32m     22\u001b[0m \u001b[0mI_s\u001b[0m \u001b[1;33m=\u001b[0m \u001b[0mcalc\u001b[0m\u001b[1;33m(\u001b[0m\u001b[0mOmega_f\u001b[0m\u001b[1;33m)\u001b[0m\u001b[1;33m\u001b[0m\u001b[0m\n\u001b[0;32m     23\u001b[0m \u001b[1;33m\u001b[0m\u001b[0m\n\u001b[1;32m---> 24\u001b[1;33m \u001b[1;32mprint\u001b[0m\u001b[1;33m(\u001b[0m\u001b[1;34m'Corriente el punto de funcionamiento: {:2.2f} A'\u001b[0m\u001b[1;33m.\u001b[0m\u001b[0mformat\u001b[0m\u001b[1;33m(\u001b[0m\u001b[0mnp\u001b[0m\u001b[1;33m.\u001b[0m\u001b[0mabs\u001b[0m\u001b[1;33m(\u001b[0m\u001b[0mI_s\u001b[0m\u001b[1;33m)\u001b[0m\u001b[1;33m)\u001b[0m\u001b[1;33m)\u001b[0m\u001b[1;33m\u001b[0m\u001b[0m\n\u001b[0m\u001b[0;32m     25\u001b[0m \u001b[1;33m\u001b[0m\u001b[0m\n\u001b[0;32m     26\u001b[0m \u001b[0mE\u001b[0m \u001b[1;33m=\u001b[0m \u001b[0mU_s\u001b[0m \u001b[1;33m+\u001b[0m \u001b[0mI_s\u001b[0m \u001b[1;33m*\u001b[0m \u001b[1;33m(\u001b[0m \u001b[1;36m1j\u001b[0m\u001b[1;33m*\u001b[0m\u001b[0mX_syn\u001b[0m \u001b[1;33m+\u001b[0m \u001b[0mR_l\u001b[0m \u001b[1;33m+\u001b[0m \u001b[1;36m1j\u001b[0m\u001b[1;33m*\u001b[0m\u001b[0mX_l\u001b[0m \u001b[1;33m)\u001b[0m\u001b[1;33m\u001b[0m\u001b[0m\n",
        "\u001b[1;31mValueError\u001b[0m: Unknown format code 'f' for object of type 'str'"
       ]
      }
     ],
     "prompt_number": 9
    },
    {
     "cell_type": "code",
     "collapsed": false,
     "input": [
      "1.0/54\n"
     ],
     "language": "python",
     "metadata": {},
     "outputs": []
    },
    {
     "cell_type": "code",
     "collapsed": false,
     "input": [],
     "language": "python",
     "metadata": {},
     "outputs": []
    }
   ],
   "metadata": {}
  }
 ]
}