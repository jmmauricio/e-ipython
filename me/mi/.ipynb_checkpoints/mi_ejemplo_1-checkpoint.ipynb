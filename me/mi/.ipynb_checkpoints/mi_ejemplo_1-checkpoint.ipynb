{
 "metadata": {
  "name": "",
  "signature": "sha256:fa0b8c1b816871c56647beb406d9d36a8f99e00bafd2886629d22da6c531649e"
 },
 "nbformat": 3,
 "nbformat_minor": 0,
 "worksheets": [
  {
   "cells": [
    {
     "cell_type": "heading",
     "level": 2,
     "metadata": {},
     "source": [
      "Circuito equivalente"
     ]
    },
    {
     "cell_type": "markdown",
     "metadata": {},
     "source": [
      "<img src='./png/mi_circ_math_.png' width=600/>\n"
     ]
    },
    {
     "cell_type": "heading",
     "level": 2,
     "metadata": {},
     "source": [
      "Circuito equivalente (variables python)"
     ]
    },
    {
     "cell_type": "markdown",
     "metadata": {},
     "source": [
      "<img src='./png/mi_circ_py.png' width=600/>"
     ]
    },
    {
     "cell_type": "heading",
     "level": 2,
     "metadata": {},
     "source": [
      "Ejempo motor 22kW de ABB"
     ]
    },
    {
     "cell_type": "markdown",
     "metadata": {},
     "source": [
      "<img src='./png/abb_22kw_load_data.png' width=800/>\n"
     ]
    },
    {
     "cell_type": "heading",
     "level": 3,
     "metadata": {},
     "source": [
      "Par\u00e1metros del circuito equivalente"
     ]
    },
    {
     "cell_type": "markdown",
     "metadata": {},
     "source": [
      "<img src='./png/abb_22kw_circ_eq_params.png' width=800/>"
     ]
    },
    {
     "cell_type": "heading",
     "level": 2,
     "metadata": {},
     "source": [
      "C\u00e1lculos con el circuito equivalente"
     ]
    },
    {
     "cell_type": "markdown",
     "metadata": {},
     "source": [
      "Los par\u00e1metros dados por ABB se pueden utilizar para calcular el par."
     ]
    },
    {
     "cell_type": "code",
     "collapsed": false,
     "input": [
      "import numpy as np\n",
      "\n",
      "R_s, X_s = 0.17, 0.35   # \u03a9 \n",
      "R_f, X_mu = 347.0, 17.3 # \u03a9\n",
      "R_r, X_r = 0.12, 1.06   # \u03a9    \n",
      "\n",
      "Omega_1 = 1500.0*(2.0*np.pi)/60.0\n",
      "\n",
      "U_s = 400.0/np.sqrt(3.0)"
     ],
     "language": "python",
     "metadata": {},
     "outputs": [],
     "prompt_number": 17
    },
    {
     "cell_type": "markdown",
     "metadata": {},
     "source": [
      "Se puede plantear una funci\u00f3n con entrada la velocidad de giro $\\sf \\Omega$ y que devuelva el par \u00fatil $\\sf T_u$. "
     ]
    },
    {
     "cell_type": "code",
     "collapsed": false,
     "input": [
      "def par(Omega):\n",
      "    \n",
      "    s = (Omega_1 - Omega)/(Omega_1)\n",
      "    \n",
      "    Z_s = R_s + 1j*X_s\n",
      "    Z_m = (R_f * 1j*X_mu) / (R_f + 1j*X_mu)\n",
      "    Z_r = R_r/s + 1j*X_r\n",
      "    \n",
      "    Z_mr = Z_m*Z_r/(Z_m + Z_r)\n",
      "    Z_eq = Z_s + Z_mr\n",
      "    \n",
      "    I_s = U_s/Z_eq\n",
      "    \n",
      "    E = U_s - Z_s*I_s\n",
      "    \n",
      "    I_r = E/Z_r\n",
      "    \n",
      "    P_mi = 3.0*R_r*(1.0-s)/s*(np.abs(I_r)**2)\n",
      "    P_u = P_mi # en el caso del modelo de ABB\n",
      "    \n",
      "    T_u = P_u/Omega\n",
      "    \n",
      "    return T_u"
     ],
     "language": "python",
     "metadata": {},
     "outputs": [],
     "prompt_number": 18
    },
    {
     "cell_type": "code",
     "collapsed": false,
     "input": [
      "Omega = 1470.0*(2.0*np.pi)/60.0\n",
      "\n",
      "print(par(Omega))"
     ],
     "language": "python",
     "metadata": {},
     "outputs": [
      {
       "output_type": "stream",
       "stream": "stdout",
       "text": [
        "146.777824116\n"
       ]
      }
     ],
     "prompt_number": 19
    },
    {
     "cell_type": "markdown",
     "metadata": {},
     "source": [
      "El resultado se puede ecribir con formato como sigue:"
     ]
    },
    {
     "cell_type": "code",
     "collapsed": false,
     "input": [
      "print('El par T_u = {:2.3f} N.m'.format(par(Omega)))"
     ],
     "language": "python",
     "metadata": {},
     "outputs": [
      {
       "output_type": "stream",
       "stream": "stdout",
       "text": [
        "El par T_u = 146.778 N.m\n"
       ]
      }
     ],
     "prompt_number": 20
    },
    {
     "cell_type": "markdown",
     "metadata": {},
     "source": [
      "Que se puede comparar con la informaci\u00f3n suministrada por el fabricante:"
     ]
    },
    {
     "cell_type": "markdown",
     "metadata": {},
     "source": [
      "<img src='./png/abb_22kw_starting_curves.png' width=800 />"
     ]
    },
    {
     "cell_type": "code",
     "collapsed": false,
     "input": [
      "Omega = np.linspace(0.1,1499.0*(2.0*np.pi)/60.0,200)\n",
      "Par = par(Omega)"
     ],
     "language": "python",
     "metadata": {},
     "outputs": [],
     "prompt_number": 43
    },
    {
     "cell_type": "code",
     "collapsed": false,
     "input": [
      "\n",
      "\n",
      "import matplotlib.pyplot as plt\n",
      "fig = plt.figure() # se genera la figura\n",
      "\n",
      "ax = fig.add_subplot(111)\n",
      "ax.grid(True)\n",
      "ax.plot(Omega*60.0/(2.0*np.pi), Par/143.0)\n",
      "\n",
      "ax.plot(1470.0, par(1470*2.0*np.pi/60.0)/143.0, 'ro')\n",
      "\n",
      "ax.set_xlabel('Speed r/m')\n",
      "ax.set_ylabel('Torque p.u.')\n",
      "fig.savefig('curva_omega_par.png')\n",
      "\n"
     ],
     "language": "python",
     "metadata": {},
     "outputs": [],
     "prompt_number": 44
    },
    {
     "cell_type": "markdown",
     "metadata": {},
     "source": [
      "<img src='curva_omega_par.png' />"
     ]
    },
    {
     "cell_type": "markdown",
     "metadata": {},
     "source": [
      "<img src='./png/abb_22kw_starting_curves_i_tau.png' width=800/>"
     ]
    },
    {
     "cell_type": "code",
     "collapsed": false,
     "input": [
      "ABB_22kW = np.array([[\t0\t,\t2.9000000954\t,\t7\t],\n",
      "[\t39\t,\t2.7977998257\t,\t6.936899662\t],\n",
      "[\t79\t,\t2.7023992538\t,\t6.8730735779\t],\n",
      "[\t118\t,\t2.6137983799\t,\t6.8084478378\t],\n",
      "[\t158\t,\t2.5319969654\t,\t6.7429423332\t],\n",
      "[\t197\t,\t2.4569950104\t,\t6.6764669418\t],\n",
      "[\t237\t,\t2.3887929916\t,\t6.6089234352\t],\n",
      "[\t277\t,\t2.3273904324\t,\t6.540201664\t],\n",
      "[\t316\t,\t2.272787571\t,\t6.4701800346\t],\n",
      "[\t356\t,\t2.224984169\t,\t6.3987207413\t],\n",
      "[\t395\t,\t2.1839804649\t,\t6.325671196\t],\n",
      "[\t435\t,\t2.1497762203\t,\t6.2508583069\t],\n",
      "[\t475\t,\t2.122371912\t,\t6.1740870476\t],\n",
      "[\t514\t,\t2.1017670631\t,\t6.0951347351\t],\n",
      "[\t554\t,\t2.0879616737\t,\t6.0137495995\t],\n",
      "[\t593\t,\t2.0809559822\t,\t5.9296417236\t],\n",
      "[\t633\t,\t2.0814769268\t,\t5.8424787521\t],\n",
      "[\t673\t,\t2.0939102173\t,\t5.7518754005\t],\n",
      "[\t712\t,\t2.1177232265\t,\t5.6573843956\t],\n",
      "[\t752\t,\t2.1513843536\t,\t5.5584840775\t],\n",
      "[\t791\t,\t2.1933629513\t,\t5.4545617104\t],\n",
      "[\t831\t,\t2.2421274185\t,\t5.3448915482\t],\n",
      "[\t871\t,\t2.2961466312\t,\t5.2286124229\t],\n",
      "[\t910\t,\t2.3538894653\t,\t5.1046938896\t],\n",
      "[\t950\t,\t2.4138247967\t,\t4.9718937874\t],\n",
      "[\t989\t,\t2.4744212627\t,\t4.8287057877\t],\n",
      "[\t1029\t,\t2.5341477394\t,\t4.6732878685\t],\n",
      "[\t1069\t,\t2.5914731026\t,\t4.5033760071\t],\n",
      "[\t1108\t,\t2.6448657513\t,\t4.3161621094\t],\n",
      "[\t1148\t,\t2.6927950382\t,\t4.1081414223\t],\n",
      "[\t1187\t,\t2.7337296009\t,\t3.8749132156\t],\n",
      "[\t1219\t,\t2.7600522041\t,\t3.6698181629\t],\n",
      "[\t1250\t,\t2.780333519\t,\t3.4423148632\t],\n",
      "[\t1281\t,\t2.7938244343\t,\t3.1883795261\t],\n",
      "[\t1312\t,\t2.7997760773\t,\t2.9031796455\t],\n",
      "[\t1344\t,\t2.7722914219\t,\t2.5809481144\t],\n",
      "[\t1375\t,\t2.6312737465\t,\t2.2148909569\t],\n",
      "[\t1406\t,\t2.3262131214\t,\t1.7972093821\t],\n",
      "[\t1437\t,\t1.8062707186\t,\t1.3196823597\t],\n",
      "[\t1468\t,\t1.0349119902\t,\t0.7790068984\t]])\n"
     ],
     "language": "python",
     "metadata": {},
     "outputs": [],
     "prompt_number": 24
    },
    {
     "cell_type": "code",
     "collapsed": false,
     "input": [
      "ax.plot(ABB_22kW[:,0], ABB_22kW[:,1])\n",
      "fig.savefig('curva_omega_par_vs_abb.png')"
     ],
     "language": "python",
     "metadata": {},
     "outputs": [],
     "prompt_number": 25
    },
    {
     "cell_type": "code",
     "collapsed": false,
     "input": [
      "R_s, X_s = 0.17, 0.35   # \u03a9 \n",
      "R_f, X_mu = 347.0, 17.3 # \u03a9\n",
      "P_mec = 0.0\n",
      "R_1 =  0.3533\n",
      "R_2 = 0.1783    \n",
      "X_1 = 0.3740\n",
      "X_2 = 2.3220"
     ],
     "language": "python",
     "metadata": {},
     "outputs": [],
     "prompt_number": 27
    },
    {
     "cell_type": "code",
     "collapsed": false,
     "input": [
      "def par2(Omega):\n",
      "    \n",
      "    s = (Omega_1 - Omega)/(Omega_1)\n",
      "    \n",
      "    Z_s = R_s + 1j*X_s\n",
      "    Z_m = (R_f * 1j*X_mu) / (R_f + 1j*X_mu)\n",
      "    Z_r_1 = R_1/s + 1j*X_1\n",
      "    Z_r_2 = R_2/s + 1j*X_2\n",
      "    Z_r = Z_r_1*Z_r_2/(Z_r_1 + Z_r_2)\n",
      "    Z_mr = Z_m*Z_r/(Z_m + Z_r)\n",
      "    Z_eq = Z_s + Z_mr\n",
      "    \n",
      "    I_s = U_s/Z_eq\n",
      "    \n",
      "    E = U_s - Z_s*I_s\n",
      "    \n",
      "    I_r_1 = E/Z_r_1\n",
      "    I_r_2 = E/Z_r_2\n",
      "    \n",
      "    P_mi_1 = 3.0*R_1*(1.0-s)/s*(np.abs(I_r_1)**2)\n",
      "    P_mi_2 = 3.0*R_2*(1.0-s)/s*(np.abs(I_r_2)**2)\n",
      "    \n",
      "    P_mi = P_mi_1 + P_mi_2\n",
      "    \n",
      "    P_u = P_mi # en el caso del modelo de ABB\n",
      "    \n",
      "    T_u = P_u/Omega\n",
      "    \n",
      "    return T_u"
     ],
     "language": "python",
     "metadata": {},
     "outputs": [],
     "prompt_number": 30
    },
    {
     "cell_type": "code",
     "collapsed": false,
     "input": [
      "Par2 = par2(Omega)\n",
      "ax.plot(Omega*60.0/(2.0*np.pi), Par2/143.0)\n",
      "fig.savefig('curva_omega_par2_vs_abb.png')"
     ],
     "language": "python",
     "metadata": {},
     "outputs": [],
     "prompt_number": 31
    },
    {
     "cell_type": "markdown",
     "metadata": {},
     "source": [
      "<img src='curva_omega_par2_vs_abb.png' />"
     ]
    },
    {
     "cell_type": "code",
     "collapsed": false,
     "input": [],
     "language": "python",
     "metadata": {},
     "outputs": []
    }
   ],
   "metadata": {}
  }
 ]
}