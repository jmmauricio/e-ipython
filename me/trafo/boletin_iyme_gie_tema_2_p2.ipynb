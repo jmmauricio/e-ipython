{
 "cells": [
  {
   "cell_type": "code",
   "execution_count": 12,
   "metadata": {
    "collapsed": true,
    "nbpresent": {
     "id": "412e6ba7-1256-49da-95ad-030ea0e5f25e"
    }
   },
   "outputs": [],
   "source": [
    "from numpy import *"
   ]
  },
  {
   "cell_type": "markdown",
   "metadata": {
    "nbpresent": {
     "id": "ce5f226e-ff59-497d-aa35-51c8837421a4"
    }
   },
   "source": [
    "Un transformador monofásico de 125 kVA, 3000/380 V, 50 Hz ha dado los siguientes resultados en los ensayos de vacío y cortocircuito:\n",
    "\n",
    "\n",
    "Ensayo | Devanado    | Tensión (V)  | Intensidad  (A)       | Potencia (W)         \n",
    "-------|-------------|--------------|-----------------------|----------------\n",
    "Vacío  | Primario    | 3000         |  0,8                  |  1000         \n",
    "Corto  | Secundario  | 10           |   300                 |   750\n"
   ]
  },
  {
   "cell_type": "markdown",
   "metadata": {
    "nbpresent": {
     "id": "89eaf4a1-d97f-4146-be25-0ad1fc3ea10b"
    }
   },
   "source": [
    "Calcular:\n",
    "\n",
    "1. Componentes de la corriente de vacío.\n",
    "2. Potencia de pérdidas en el hierro y de pérdidas en el cobre a plena carga.\n",
    "3. Rendimiento a plena carga con f.d.p. unidad, 0,8 inductivo y 0,8 capacitivo.\n",
    "4. Tensión secundaria a plena carga, con f.d.p. anteriores (se supone que al primario se le aplica la tensión asignada de 3000V).\n"
   ]
  },
  {
   "cell_type": "markdown",
   "metadata": {
    "nbpresent": {
     "id": "ca14ca65-a4b3-452f-8d60-d2e9c8f0b070"
    }
   },
   "source": [
    "## 1. Componentes de la corriente de vacío\n"
   ]
  },
  {
   "cell_type": "code",
   "execution_count": 13,
   "metadata": {
    "nbpresent": {
     "id": "711a3ab4-7a0b-4b82-9ccc-5758d806fd5d"
    }
   },
   "outputs": [
    {
     "name": "stdout",
     "output_type": "stream",
     "text": [
      "I_fe = 0.333 A\n",
      "I_mu = 0.727 A\n",
      "R_fe = 9000.000 Ω\n",
      "X_mu = 4125.143 Ω\n"
     ]
    }
   ],
   "source": [
    "P_1_0 = 1000.0\n",
    "I_1_0 = 0.8\n",
    "U_1_0 = 3000\n",
    "\n",
    "S_1_0 = I_1_0*U_1_0\n",
    "phi_0 = arccos(P_1_0/S_1_0)\n",
    "\n",
    "I_fe = I_1_0 * cos(phi_0)\n",
    "I_mu = I_1_0 * sin(phi_0)\n",
    "\n",
    "print('I_fe = {:2.3f} A'.format(I_fe)) \n",
    "print('I_mu = {:2.3f} A'.format(I_mu)) \n",
    "\n",
    "R_fe = U_1_0/I_fe\n",
    "print('R_fe = {:2.3f} Ω'.format(R_fe)) \n",
    "\n",
    "X_mu = U_1_0/I_mu\n",
    "print('X_mu = {:2.3f} Ω'.format(X_mu))"
   ]
  },
  {
   "cell_type": "code",
   "execution_count": 39,
   "metadata": {
    "nbpresent": {
     "id": "5156dbd7-aeaa-475b-9e6e-b39225ac462e"
    }
   },
   "outputs": [
    {
     "name": "stdout",
     "output_type": "stream",
     "text": [
      "R_cc = 0.51939\n",
      "X_cc = 2.01159\n"
     ]
    }
   ],
   "source": [
    "P_2_cc = 750.0\n",
    "I_2_cc = 300.0\n",
    "U_2_cc = 10.0\n",
    "r_t = 3000/380\n",
    "\n",
    "S_2_cc = I_2_cc*U_2_cc\n",
    "phi_cc = arccos(P_2_cc/S_2_cc)\n",
    "\n",
    "Z_cc = U_2_cc/I_2_cc\n",
    "\n",
    "R_2_cc = Z_cc*cos(phi_cc)\n",
    "R_cc = R_2_cc * r_t**2\n",
    "print('R_cc = {:2.5f}'.format(R_cc)) \n",
    "\n",
    "X_2_cc = Z_cc*sin(phi_cc)\n",
    "X_cc = X_2_cc * r_t**2\n",
    "print('X_cc = {:2.5f}'.format(X_cc))\n"
   ]
  },
  {
   "cell_type": "markdown",
   "metadata": {
    "nbpresent": {
     "id": "28ebb9d1-1d71-42e9-afa8-6987496a53f2"
    }
   },
   "source": [
    "## 2. Potencia de pérdidas en el hierro y de pérdidas en el cobre a plena carga.\n"
   ]
  },
  {
   "cell_type": "code",
   "execution_count": 40,
   "metadata": {
    "nbpresent": {
     "id": "93aa4d8e-38df-4d99-8d49-d42a33632d0b"
    }
   },
   "outputs": [
    {
     "name": "stdout",
     "output_type": "stream",
     "text": [
      "P_fe = 1000.0 W\n",
      "P_cu = 901.7 W\n"
     ]
    }
   ],
   "source": [
    "U_1 = 3000.0\n",
    "P_fe = U_1_0**2/R_fe\n",
    "print('P_fe = {:2.1f} W'.format(P_fe))\n",
    "\n",
    "I_1_n = 125.0e3/3000\n",
    "P_cu = I_1_n**2*R_cc\n",
    "print('P_cu = {:2.1f} W'.format(P_cu))\n"
   ]
  },
  {
   "cell_type": "markdown",
   "metadata": {},
   "source": [
    "## 3. Rendimiento a plena carga con f.d.p. unidad, 0,8 inductivo y 0,8 capacitivo.\n"
   ]
  },
  {
   "cell_type": "code",
   "execution_count": 41,
   "metadata": {},
   "outputs": [
    {
     "name": "stdout",
     "output_type": "stream",
     "text": [
      "rend_1 = 98.5 %\n"
     ]
    }
   ],
   "source": [
    "cos_phi = 1.0\n",
    "C = 1.0\n",
    "S_n = 125.0e3\n",
    "P_0  = 1000.0\n",
    "P_cc =  901.7\n",
    "rend_1 = C*S_n*cos_phi/(C*S_n*cos_phi + P_0 + C**2*P_cc)\n",
    "print('rend_1 = {:2.1f} %'.format(rend_1*100))"
   ]
  },
  {
   "cell_type": "code",
   "execution_count": 42,
   "metadata": {},
   "outputs": [
    {
     "name": "stdout",
     "output_type": "stream",
     "text": [
      "rend_08_ind = 98.1 %\n"
     ]
    }
   ],
   "source": [
    "cos_phi = 0.8\n",
    "C = 1.0\n",
    "S_n = 125.0e3\n",
    "P_0  = 1000.0\n",
    "P_cc =  901.7\n",
    "rend_08_ind = C*S_n*cos_phi/(C*S_n*cos_phi + P_0 + C**2*P_cc)\n",
    "print('rend_08_ind = {:2.1f} %'.format(rend_08_ind*100))"
   ]
  },
  {
   "cell_type": "markdown",
   "metadata": {},
   "source": [
    "## 4. Tensión secundaria a plena carga, con f.d.p. anteriores"
   ]
  },
  {
   "cell_type": "code",
   "execution_count": 43,
   "metadata": {},
   "outputs": [
    {
     "name": "stdout",
     "output_type": "stream",
     "text": [
      "U = 379.833\n"
     ]
    }
   ],
   "source": [
    "Z_b = 3000**2/125e3\n",
    "e_cc = Z_cc/Z_b\n",
    "#phi_cc = arctan(X_cc/R_cc)\n",
    "e_cc_r = e_cc*cos(phi_cc)\n",
    "e_cc_x = e_cc*sin(phi_cc)\n",
    "\n",
    "\n",
    "C = 1.0\n",
    "phi_c = -arccos(0.8)*0+1\n",
    "e_c = C*(e_cc_r*cos(phi_c) + e_cc_x*sin(phi_c))\n",
    "U = 380*(1-e_c)\n",
    "print('U = {:2.3f}'.format(U))"
   ]
  },
  {
   "cell_type": "code",
   "execution_count": 44,
   "metadata": {},
   "outputs": [
    {
     "data": {
      "text/plain": [
       "0.00043973442318818025"
      ]
     },
     "execution_count": 44,
     "metadata": {},
     "output_type": "execute_result"
    }
   ],
   "source": [
    "e_c"
   ]
  },
  {
   "cell_type": "code",
   "execution_count": 45,
   "metadata": {},
   "outputs": [
    {
     "data": {
      "text/plain": [
       "0.00044826196136659921"
      ]
     },
     "execution_count": 45,
     "metadata": {},
     "output_type": "execute_result"
    }
   ],
   "source": [
    "e_cc_x"
   ]
  },
  {
   "cell_type": "code",
   "execution_count": 25,
   "metadata": {
    "collapsed": true
   },
   "outputs": [],
   "source": [
    "Z_b = 380**2/125e3"
   ]
  },
  {
   "cell_type": "code",
   "execution_count": 26,
   "metadata": {},
   "outputs": [
    {
     "data": {
      "text/plain": [
       "1.1552"
      ]
     },
     "execution_count": 26,
     "metadata": {},
     "output_type": "execute_result"
    }
   ],
   "source": [
    "Z_b"
   ]
  },
  {
   "cell_type": "code",
   "execution_count": null,
   "metadata": {
    "collapsed": true
   },
   "outputs": [],
   "source": []
  },
  {
   "cell_type": "code",
   "execution_count": null,
   "metadata": {
    "collapsed": true
   },
   "outputs": [],
   "source": [
    "0.083+1j*"
   ]
  },
  {
   "cell_type": "code",
   "execution_count": 27,
   "metadata": {},
   "outputs": [
    {
     "data": {
      "text/plain": [
       "0.02631578947368421"
      ]
     },
     "execution_count": 27,
     "metadata": {},
     "output_type": "execute_result"
    }
   ],
   "source": [
    "10/380"
   ]
  },
  {
   "cell_type": "code",
   "execution_count": 28,
   "metadata": {},
   "outputs": [
    {
     "data": {
      "text/plain": [
       "0.03333333333333333"
      ]
     },
     "execution_count": 28,
     "metadata": {},
     "output_type": "execute_result"
    }
   ],
   "source": [
    "Z_cc"
   ]
  },
  {
   "cell_type": "code",
   "execution_count": 30,
   "metadata": {},
   "outputs": [
    {
     "data": {
      "text/plain": [
       "0.027938764905120445"
      ]
     },
     "execution_count": 30,
     "metadata": {},
     "output_type": "execute_result"
    }
   ],
   "source": [
    "e_cc_x"
   ]
  },
  {
   "cell_type": "code",
   "execution_count": null,
   "metadata": {
    "collapsed": true
   },
   "outputs": [],
   "source": []
  }
 ],
 "metadata": {
  "anaconda-cloud": {},
  "kernelspec": {
   "display_name": "Python 3",
   "language": "python",
   "name": "python3"
  },
  "language_info": {
   "codemirror_mode": {
    "name": "ipython",
    "version": 3
   },
   "file_extension": ".py",
   "mimetype": "text/x-python",
   "name": "python",
   "nbconvert_exporter": "python",
   "pygments_lexer": "ipython3",
   "version": "3.6.2"
  },
  "nbpresent": {
   "slides": {
    "0e83de02-673c-4e0b-aa2b-3b6b01ad398a": {
     "id": "0e83de02-673c-4e0b-aa2b-3b6b01ad398a",
     "prev": "2e0b1447-ff5f-49d6-8e67-9cc44dde2234",
     "regions": {
      "c1b38c9d-30dc-42ca-9060-475dfd673eb2": {
       "attrs": {
        "height": 0.8,
        "width": 0.8,
        "x": 0.1,
        "y": 0.1
       },
       "content": {
        "cell": "89eaf4a1-d97f-4146-be25-0ad1fc3ea10b",
        "part": "whole"
       },
       "id": "c1b38c9d-30dc-42ca-9060-475dfd673eb2"
      }
     }
    },
    "2a35f8a9-ebd4-4f9c-be77-ba6687da50d6": {
     "id": "2a35f8a9-ebd4-4f9c-be77-ba6687da50d6",
     "prev": "0e83de02-673c-4e0b-aa2b-3b6b01ad398a",
     "regions": {
      "00a5ae85-2764-413f-a9c5-bbc08ed81df5": {
       "attrs": {
        "height": 0.8,
        "width": 0.8,
        "x": 0.1,
        "y": 0.1
       },
       "content": {
        "cell": "ca14ca65-a4b3-452f-8d60-d2e9c8f0b070",
        "part": "whole"
       },
       "id": "00a5ae85-2764-413f-a9c5-bbc08ed81df5"
      }
     }
    },
    "2e0b1447-ff5f-49d6-8e67-9cc44dde2234": {
     "id": "2e0b1447-ff5f-49d6-8e67-9cc44dde2234",
     "prev": "ed9f8203-94ac-42dc-9c7e-d963bdf559a4",
     "regions": {
      "9fc9c2e8-2453-4049-86ee-78207f4591e3": {
       "attrs": {
        "height": 1,
        "width": 1,
        "x": -0.0745856827793859,
        "y": 0.18646408839779005
       },
       "id": "9fc9c2e8-2453-4049-86ee-78207f4591e3"
      }
     }
    },
    "40f9c53b-d4b7-4c2a-ac5a-8766d5892cb7": {
     "id": "40f9c53b-d4b7-4c2a-ac5a-8766d5892cb7",
     "prev": "e7b2f386-4e29-474e-97ea-e9522691045c",
     "regions": {
      "955f7f98-f247-4c3b-ba5b-21b9f3f22396": {
       "attrs": {
        "height": 0.8,
        "width": 0.8,
        "x": 0.1,
        "y": 0.1
       },
       "content": {
        "cell": "93f6faae-00e1-4ca0-a276-e8c503a143a0",
        "part": "whole"
       },
       "id": "955f7f98-f247-4c3b-ba5b-21b9f3f22396"
      }
     }
    },
    "5f96252a-1d5e-410f-af9f-918152131b2e": {
     "id": "5f96252a-1d5e-410f-af9f-918152131b2e",
     "prev": "ce1e326d-ca9b-4b4b-9433-1d4426eb61ea",
     "regions": {
      "8f91483d-78c2-4f19-84e0-baa9886b95b4": {
       "attrs": {
        "height": 0.8,
        "width": 0.8,
        "x": 0.1,
        "y": 0.1
       },
       "content": {
        "cell": "93aa4d8e-38df-4d99-8d49-d42a33632d0b",
        "part": "whole"
       },
       "id": "8f91483d-78c2-4f19-84e0-baa9886b95b4"
      }
     }
    },
    "6433043c-f487-49a2-a20c-8c889a79602b": {
     "id": "6433043c-f487-49a2-a20c-8c889a79602b",
     "prev": "982be73e-3a5b-447e-982b-c53ef636f4d5",
     "regions": {
      "e4581bc9-445b-4040-8f48-b16da06ae14e": {
       "attrs": {
        "height": 0.8,
        "width": 0.8,
        "x": 0.1,
        "y": 0.1
       },
       "content": {
        "cell": "988bd6a3-d5db-4cda-a1f8-c60c182337d0",
        "part": "whole"
       },
       "id": "e4581bc9-445b-4040-8f48-b16da06ae14e"
      }
     }
    },
    "7b22fb19-9f4d-4a6a-a3ee-acd38690ba4a": {
     "id": "7b22fb19-9f4d-4a6a-a3ee-acd38690ba4a",
     "prev": "5f96252a-1d5e-410f-af9f-918152131b2e",
     "regions": {
      "e47a4053-4ce9-4331-9c32-d97e0a884a95": {
       "attrs": {
        "height": 0.8,
        "width": 0.8,
        "x": 0.1,
        "y": 0.1
       },
       "content": {
        "cell": "c26e04ac-af7a-4663-86d3-d55a7827b9e3",
        "part": "whole"
       },
       "id": "e47a4053-4ce9-4331-9c32-d97e0a884a95"
      }
     }
    },
    "80bb17ed-b5ee-41f6-978c-ce6aaacebeaa": {
     "id": "80bb17ed-b5ee-41f6-978c-ce6aaacebeaa",
     "prev": "2a35f8a9-ebd4-4f9c-be77-ba6687da50d6",
     "regions": {
      "5d028cde-156a-4e8d-a04a-82071c0cf8af": {
       "attrs": {
        "height": 0.8,
        "width": 0.8,
        "x": 0.1,
        "y": 0.1
       },
       "content": {
        "cell": "711a3ab4-7a0b-4b82-9ccc-5758d806fd5d",
        "part": "whole"
       },
       "id": "5d028cde-156a-4e8d-a04a-82071c0cf8af"
      }
     }
    },
    "8eaabbaf-9004-44c0-8650-872abc89b17c": {
     "id": "8eaabbaf-9004-44c0-8650-872abc89b17c",
     "prev": "80bb17ed-b5ee-41f6-978c-ce6aaacebeaa",
     "regions": {
      "4447038c-7b1f-4817-bcd3-eb8afdc1cd6d": {
       "attrs": {
        "height": 0.8,
        "width": 0.8,
        "x": 0.1,
        "y": 0.1
       },
       "content": {
        "cell": "5156dbd7-aeaa-475b-9e6e-b39225ac462e",
        "part": "whole"
       },
       "id": "4447038c-7b1f-4817-bcd3-eb8afdc1cd6d"
      }
     }
    },
    "982be73e-3a5b-447e-982b-c53ef636f4d5": {
     "id": "982be73e-3a5b-447e-982b-c53ef636f4d5",
     "prev": "7b22fb19-9f4d-4a6a-a3ee-acd38690ba4a",
     "regions": {
      "0034f580-53e4-45ff-82c8-7c06545cfe3d": {
       "attrs": {
        "height": 0.8,
        "width": 0.8,
        "x": 0.1,
        "y": 0.1
       },
       "content": {
        "cell": "d96998a2-bd3d-483f-8df1-020670a0a30a",
        "part": "whole"
       },
       "id": "0034f580-53e4-45ff-82c8-7c06545cfe3d"
      }
     }
    },
    "992d447c-57f4-441b-b99c-8e366b4feaae": {
     "id": "992d447c-57f4-441b-b99c-8e366b4feaae",
     "prev": null,
     "regions": {
      "b1c77fd2-2d3c-4c6c-bdec-7c17f860b9c0": {
       "attrs": {
        "height": 0.8,
        "width": 0.8,
        "x": 0.1,
        "y": 0.1
       },
       "content": {
        "cell": "412e6ba7-1256-49da-95ad-030ea0e5f25e",
        "part": "whole"
       },
       "id": "b1c77fd2-2d3c-4c6c-bdec-7c17f860b9c0"
      }
     }
    },
    "c6546378-36b4-4395-b848-260fe885bd37": {
     "id": "c6546378-36b4-4395-b848-260fe885bd37",
     "prev": "dc43f4be-9310-4d5e-a4eb-952dd06de1aa",
     "regions": {
      "15c12b91-a898-4a66-8b99-fd9f0f8dddee": {
       "attrs": {
        "height": 0.8,
        "width": 0.8,
        "x": 0.1,
        "y": 0.1
       },
       "content": {
        "cell": "4c4c350b-d6da-45a9-9be9-69b955b4fa67",
        "part": "whole"
       },
       "id": "15c12b91-a898-4a66-8b99-fd9f0f8dddee"
      }
     }
    },
    "ce1e326d-ca9b-4b4b-9433-1d4426eb61ea": {
     "id": "ce1e326d-ca9b-4b4b-9433-1d4426eb61ea",
     "prev": "8eaabbaf-9004-44c0-8650-872abc89b17c",
     "regions": {
      "7cd54077-273c-40a6-95d7-e0fcebea3dc7": {
       "attrs": {
        "height": 0.8,
        "width": 0.8,
        "x": 0.1,
        "y": 0.1
       },
       "content": {
        "cell": "28ebb9d1-1d71-42e9-afa8-6987496a53f2",
        "part": "whole"
       },
       "id": "7cd54077-273c-40a6-95d7-e0fcebea3dc7"
      }
     }
    },
    "dc43f4be-9310-4d5e-a4eb-952dd06de1aa": {
     "id": "dc43f4be-9310-4d5e-a4eb-952dd06de1aa",
     "prev": "40f9c53b-d4b7-4c2a-ac5a-8766d5892cb7",
     "regions": {
      "88f13262-6415-485c-9db5-0d13182c6fd0": {
       "attrs": {
        "height": 0.8,
        "width": 0.8,
        "x": 0.1,
        "y": 0.1
       },
       "content": {
        "cell": "f453e738-c9f2-40bc-bd4c-3f4267946203",
        "part": "whole"
       },
       "id": "88f13262-6415-485c-9db5-0d13182c6fd0"
      }
     }
    },
    "e7b2f386-4e29-474e-97ea-e9522691045c": {
     "id": "e7b2f386-4e29-474e-97ea-e9522691045c",
     "prev": "6433043c-f487-49a2-a20c-8c889a79602b",
     "regions": {
      "7c80d9e4-a569-4672-b3c3-3951d67033d0": {
       "attrs": {
        "height": 0.8,
        "width": 0.8,
        "x": 0.1,
        "y": 0.1
       },
       "content": {
        "cell": "17b32a33-de73-4b0c-9537-a00efd11f859",
        "part": "whole"
       },
       "id": "7c80d9e4-a569-4672-b3c3-3951d67033d0"
      }
     }
    },
    "ed9f8203-94ac-42dc-9c7e-d963bdf559a4": {
     "id": "ed9f8203-94ac-42dc-9c7e-d963bdf559a4",
     "prev": "992d447c-57f4-441b-b99c-8e366b4feaae",
     "regions": {
      "3d194207-ed67-4382-b46e-abdb3bd2d546": {
       "attrs": {
        "height": 0.8,
        "width": 0.8,
        "x": 0.1,
        "y": 0.1
       },
       "content": {
        "cell": "ce5f226e-ff59-497d-aa35-51c8837421a4",
        "part": "whole"
       },
       "id": "3d194207-ed67-4382-b46e-abdb3bd2d546"
      }
     }
    }
   },
   "themes": {
    "default": "788802b5-e3bd-47a1-8200-7a6e41dd5e8a",
    "theme": {
     "788802b5-e3bd-47a1-8200-7a6e41dd5e8a": {
      "backgrounds": {
       "dc7afa04-bf90-40b1-82a5-726e3cff5267": {
        "background-color": "31af15d2-7e15-44c5-ab5e-e04b16a89eff",
        "id": "dc7afa04-bf90-40b1-82a5-726e3cff5267"
       }
      },
      "id": "788802b5-e3bd-47a1-8200-7a6e41dd5e8a",
      "palette": {
       "19cc588f-0593-49c9-9f4b-e4d7cc113b1c": {
        "id": "19cc588f-0593-49c9-9f4b-e4d7cc113b1c",
        "rgb": [
         252,
         252,
         252
        ]
       },
       "31af15d2-7e15-44c5-ab5e-e04b16a89eff": {
        "id": "31af15d2-7e15-44c5-ab5e-e04b16a89eff",
        "rgb": [
         68,
         68,
         68
        ]
       },
       "50f92c45-a630-455b-aec3-788680ec7410": {
        "id": "50f92c45-a630-455b-aec3-788680ec7410",
        "rgb": [
         197,
         226,
         245
        ]
       },
       "c5cc3653-2ee1-402a-aba2-7caae1da4f6c": {
        "id": "c5cc3653-2ee1-402a-aba2-7caae1da4f6c",
        "rgb": [
         43,
         126,
         184
        ]
       },
       "efa7f048-9acb-414c-8b04-a26811511a21": {
        "id": "efa7f048-9acb-414c-8b04-a26811511a21",
        "rgb": [
         25.118061674008803,
         73.60176211453744,
         107.4819383259912
        ]
       }
      },
      "rules": {
       "a": {
        "color": "19cc588f-0593-49c9-9f4b-e4d7cc113b1c"
       },
       "blockquote": {
        "color": "50f92c45-a630-455b-aec3-788680ec7410",
        "font-size": 3
       },
       "code": {
        "font-family": "Anonymous Pro"
       },
       "h1": {
        "color": "19cc588f-0593-49c9-9f4b-e4d7cc113b1c",
        "font-family": "Merriweather",
        "font-size": 8
       },
       "h2": {
        "color": "19cc588f-0593-49c9-9f4b-e4d7cc113b1c",
        "font-family": "Merriweather",
        "font-size": 6
       },
       "h3": {
        "color": "50f92c45-a630-455b-aec3-788680ec7410",
        "font-family": "Lato",
        "font-size": 5.5
       },
       "h4": {
        "color": "c5cc3653-2ee1-402a-aba2-7caae1da4f6c",
        "font-family": "Lato",
        "font-size": 5
       },
       "h5": {
        "font-family": "Lato"
       },
       "h6": {
        "font-family": "Lato"
       },
       "h7": {
        "font-family": "Lato"
       },
       "li": {
        "color": "50f92c45-a630-455b-aec3-788680ec7410",
        "font-size": 3.25
       },
       "pre": {
        "font-family": "Anonymous Pro",
        "font-size": 4
       }
      },
      "text-base": {
       "color": "19cc588f-0593-49c9-9f4b-e4d7cc113b1c",
       "font-family": "Lato",
       "font-size": 4
      }
     }
    }
   }
  }
 },
 "nbformat": 4,
 "nbformat_minor": 1
}
