{
 "cells": [
  {
   "cell_type": "code",
   "execution_count": 7,
   "metadata": {
    "nbpresent": {
     "id": "412e6ba7-1256-49da-95ad-030ea0e5f25e"
    }
   },
   "outputs": [],
   "source": [
    "from numpy import *\n",
    "import numpy as np\n"
   ]
  },
  {
   "cell_type": "markdown",
   "metadata": {},
   "source": []
  },
  {
   "cell_type": "markdown",
   "metadata": {
    "nbpresent": {
     "id": "ce5f226e-ff59-497d-aa35-51c8837421a4"
    }
   },
   "source": [
    "Se dispone de una red de distribución de 15 kV, 50 Hz, que por medio de un\n",
    "transformador Dy11, 100 kVA, relación compuesta: 15kV/380 V, suministra energı́a eléctrica a\n",
    "un grupo motobomba a través de una lı́nea resistiva de 0.2 Ω por fase. El grupo motobomba\n",
    "está conectado en triángulo y representado por una impedancia de 6∠36,87ºΩ por fase. Las\n",
    "caracerı́sticas del transformador que se leen en su placa de caracterı́sticas son las siguientes:\n",
    "\n",
    "100 kVA, Dy 11 ; 15 kV/380 V ; ϵcc = 10 % ; ϵxcc = 10 %\n",
    "\n",
    "\t\\begin{itemize}\n",
    "\t\\item Parámetros del circuito equivalente del transformador y la red.\n",
    "\t\\item Tensión en el lado de baja con una carga de 0.9 p.u. y factor de potencia 0.9.\n",
    "\t\\item Corriente y potencia de corto circuito en el lado de baja del transformador.\n",
    "\t\\end{itemize}"
   ]
  },
  {
   "cell_type": "markdown",
   "metadata": {
    "nbpresent": {
     "id": "89eaf4a1-d97f-4146-be25-0ad1fc3ea10b"
    }
   },
   "source": [
    "Determinar:\n",
    "\n",
    "1. Parámetros del circuito equivalente del transformador y la red.\n",
    "2. Potencia y corriente absorbidas por el transformador\n",
    "3. Pérdidas joule del trafo\n",
    "4. Rendimiento\n",
    "5. Tensión de cortocircuito"
   ]
  },
  {
   "cell_type": "markdown",
   "metadata": {
    "nbpresent": {
     "id": "ca14ca65-a4b3-452f-8d60-d2e9c8f0b070"
    }
   },
   "source": [
    "## 1. Tensión en bornas de la carga si el transformador se alimenta a 20000 V"
   ]
  },
  {
   "cell_type": "code",
   "execution_count": 27,
   "metadata": {
    "nbpresent": {
     "id": "711a3ab4-7a0b-4b82-9ccc-5758d806fd5d"
    }
   },
   "outputs": [
    {
     "name": "stdout",
     "output_type": "stream",
     "text": [
      "I_k = 687.322 kA\n"
     ]
    }
   ],
   "source": [
    "# S_k = sqrt(3)*U*I_k\n",
    "# I_k = c*U/(sqrt(3)*Z_k)\n",
    "\n",
    "S_k = 500.0e6\n",
    "U = 420.0\n",
    "c = 1.0\n",
    "I_k = S_k/(sqrt(3)*U)\n",
    "Z_k = c*U/(sqrt(3)*I_k)\n",
    "\n",
    "print('I_k = {:2.3f} kA'.format(I_k/1000))\n",
    "\n",
    "\n",
    "Z_red = 1j*Z_k "
   ]
  },
  {
   "cell_type": "code",
   "execution_count": 18,
   "metadata": {},
   "outputs": [],
   "source": [
    "S_n = 630.0e3\n",
    "U_1_n = 20.0e3\n",
    "U_2_n = 420.0\n",
    "\n",
    "I_1_n = S_n/(sqrt(3)*U_1_n)\n",
    "I_2_n = S_n/(sqrt(3)*U_2_n)\n"
   ]
  },
  {
   "cell_type": "code",
   "execution_count": 19,
   "metadata": {},
   "outputs": [
    {
     "name": "stdout",
     "output_type": "stream",
     "text": [
      "I_fe = 0.048 A\n",
      "I_mu = 0.232 A\n",
      "R_fe = 242424.242 Ω\n",
      "X_mu = 49862.445 Ω\n",
      "R_cc = 5.19022\n",
      "X_cc = 37.74002\n"
     ]
    }
   ],
   "source": [
    "P_1_0 = 1650.0\n",
    "I_1_0 = 0.013*I_1_n\n",
    "U_1_0 = U_1_n\n",
    "\n",
    "S_1_0 = sqrt(3)*I_1_0*U_1_0\n",
    "phi_0 = arccos(P_1_0/S_1_0)\n",
    "\n",
    "I_fe = I_1_0 * cos(phi_0)\n",
    "I_mu = I_1_0 * sin(phi_0)\n",
    "\n",
    "print('I_fe = {:2.3f} A'.format(I_fe)) \n",
    "print('I_mu = {:2.3f} A'.format(I_mu)) \n",
    "\n",
    "R_fe = U_1_0/sqrt(3)/I_fe\n",
    "print('R_fe = {:2.3f} Ω'.format(R_fe)) \n",
    "\n",
    "X_mu = U_1_0/sqrt(3)/I_mu\n",
    "print('X_mu = {:2.3f} Ω'.format(X_mu))\n",
    "\n",
    "P_1_cc = 6800.0 - P_1_0\n",
    "I_1_cc = I_1_n\n",
    "U_1_cc = 0.06*U_1_0\n",
    "\n",
    "S_1_cc = sqrt(3)*I_1_cc*U_1_cc\n",
    "phi_cc = arccos(P_1_cc/S_1_cc)\n",
    "\n",
    "Z_cc = U_1_cc/sqrt(3)/I_1_cc\n",
    "\n",
    "R_cc = Z_cc*cos(phi_cc)\n",
    "print('R_cc = {:2.5f}'.format(R_cc)) \n",
    "\n",
    "X_cc = Z_cc*sin(phi_cc)\n",
    "print('X_cc = {:2.5f}'.format(X_cc))\n"
   ]
  },
  {
   "cell_type": "code",
   "execution_count": 22,
   "metadata": {},
   "outputs": [],
   "source": [
    "r_t = U_1_n/U_2_n\n",
    "Z_cc_1 = R_cc + 1j*X_cc\n",
    "Z_cc_2 = Z_cc_1 / r_t**2\n",
    "Z_b = U_2_n**2/S_n"
   ]
  },
  {
   "cell_type": "code",
   "execution_count": 30,
   "metadata": {},
   "outputs": [],
   "source": [
    "eps_cc = Z_cc_2/Z_b"
   ]
  },
  {
   "cell_type": "code",
   "execution_count": 35,
   "metadata": {},
   "outputs": [
    {
     "data": {
      "text/plain": [
       "-47.619047619047628j"
      ]
     },
     "execution_count": 35,
     "metadata": {},
     "output_type": "execute_result"
    }
   ],
   "source": [
    "abs(Z_cc_2)/Z_red"
   ]
  },
  {
   "cell_type": "code",
   "execution_count": 31,
   "metadata": {
    "collapsed": true
   },
   "outputs": [],
   "source": [
    "V_red = 420.0/sqrt(3.0)\n"
   ]
  },
  {
   "cell_type": "code",
   "execution_count": 57,
   "metadata": {},
   "outputs": [
    {
     "name": "stdout",
     "output_type": "stream",
     "text": [
      "241.067357015\n",
      "234.750912082\n",
      "234.85411729\n",
      "234.850841421\n",
      "234.850944329\n",
      "234.850941095\n",
      "234.850941197\n",
      "234.850941193\n",
      "234.850941193\n",
      "234.850941193\n"
     ]
    }
   ],
   "source": [
    "I_load = I_2_n * 0.9\n",
    "for it in range(10):\n",
    "    V_load = V_red - I_load * (Z_red + Z_cc_2)\n",
    "    I_load = abs(I_load)*exp(1j*(angle(V_load)-arccos(0.9)))\n",
    "    \n",
    "    print(abs(V_load))"
   ]
  },
  {
   "cell_type": "code",
   "execution_count": 56,
   "metadata": {},
   "outputs": [
    {
     "data": {
      "text/plain": [
       "0.90000000000000002"
      ]
     },
     "execution_count": 56,
     "metadata": {},
     "output_type": "execute_result"
    }
   ],
   "source": [
    "cos(angle(V_load)-angle(I_load))"
   ]
  },
  {
   "cell_type": "code",
   "execution_count": 58,
   "metadata": {
    "collapsed": true
   },
   "outputs": [],
   "source": [
    "I_k = V_red/(Z_red + Z_cc_2)"
   ]
  },
  {
   "cell_type": "code",
   "execution_count": 59,
   "metadata": {},
   "outputs": [
    {
     "data": {
      "text/plain": [
       "14139.538485901448"
      ]
     },
     "execution_count": 59,
     "metadata": {},
     "output_type": "execute_result"
    }
   ],
   "source": [
    "abs(I_k)"
   ]
  },
  {
   "cell_type": "markdown",
   "metadata": {
    "nbpresent": {
     "id": "28ebb9d1-1d71-42e9-afa8-6987496a53f2"
    }
   },
   "source": [
    "## 2. Potencia y corriente absorbidas por el transformador"
   ]
  },
  {
   "cell_type": "code",
   "execution_count": 15,
   "metadata": {
    "collapsed": true
   },
   "outputs": [],
   "source": [
    "I_0 = 20.0e3/sqrt(3)/R_fe + 20.0e3/sqrt(3)/(1j*X_mu)\n",
    "I_1 = I_0 + I_2_1"
   ]
  },
  {
   "cell_type": "code",
   "execution_count": 58,
   "metadata": {},
   "outputs": [
    {
     "name": "stdout",
     "output_type": "stream",
     "text": [
      "I_1 = 21.26|-29.42 A\n"
     ]
    }
   ],
   "source": [
    "I_1_m = abs(abs(I_1))\n",
    "I_1_ang = angle((I_1),deg=True)\n",
    "print('I_1 = {:2.2f}|{:2.2f} A'.format(I_1_m,I_1_ang))\n"
   ]
  },
  {
   "cell_type": "code",
   "execution_count": 29,
   "metadata": {},
   "outputs": [
    {
     "name": "stdout",
     "output_type": "stream",
     "text": [
      "S_1 = 641380.54 + j361737.13\n",
      "S_1_aparente = 736357.76 VA\n"
     ]
    }
   ],
   "source": [
    "S_1 = 20.0e3/sqrt(3)*conj(I_1)*3\n",
    "print('S_1 = {:2.2f} + j{:2.2f}'.format(S_1.real,S_1.imag))\n",
    "S_1_aparente = abs(S_1)\n",
    "print('S_1_aparente = {:2.2f} VA'.format(S_1_aparente))"
   ]
  },
  {
   "cell_type": "markdown",
   "metadata": {},
   "source": [
    "## 3. Pérdidas joule del trafo"
   ]
  },
  {
   "cell_type": "code",
   "execution_count": 62,
   "metadata": {},
   "outputs": [
    {
     "name": "stdout",
     "output_type": "stream",
     "text": [
      "P_j = 2523.4 W\n"
     ]
    }
   ],
   "source": [
    "P_j = 3*R_cc*abs(I_2_1)**2\n",
    "print('P_j = {:2.1f} W'.format(P_j))"
   ]
  },
  {
   "cell_type": "markdown",
   "metadata": {},
   "source": [
    "## 4. Rendimiento"
   ]
  },
  {
   "cell_type": "code",
   "execution_count": 43,
   "metadata": {},
   "outputs": [
    {
     "name": "stdout",
     "output_type": "stream",
     "text": [
      "rend = 98.36 %\n"
     ]
    }
   ],
   "source": [
    "S_load = V_2_1*conj(I_2_1)*3\n",
    "P_load = S_load.real\n",
    "rend = P_load/S_1.real\n",
    "\n",
    "print('rend = {:2.2f} %'.format(rend*100))"
   ]
  },
  {
   "cell_type": "markdown",
   "metadata": {},
   "source": [
    "## 5. Tensión de cortocircuito"
   ]
  },
  {
   "cell_type": "code",
   "execution_count": 50,
   "metadata": {
    "collapsed": true
   },
   "outputs": [],
   "source": [
    "DU_2 =  20.0e3/r_t - U_2_m\n",
    "Z_b = U_1_n**2/S_n\n",
    "Z_cc_pu = Z_cc/Z_b"
   ]
  },
  {
   "cell_type": "code",
   "execution_count": 54,
   "metadata": {},
   "outputs": [
    {
     "name": "stdout",
     "output_type": "stream",
     "text": [
      "Z_cc_pu = 0.0135 \n"
     ]
    }
   ],
   "source": [
    "abs(Z_cc_pu)\n",
    "print('Z_cc_pu = {:2.4f} '.format(abs(Z_cc_pu)))"
   ]
  },
  {
   "cell_type": "code",
   "execution_count": null,
   "metadata": {
    "collapsed": true
   },
   "outputs": [],
   "source": []
  }
 ],
 "metadata": {
  "anaconda-cloud": {},
  "kernelspec": {
   "display_name": "Python 3",
   "language": "python",
   "name": "python3"
  },
  "language_info": {
   "codemirror_mode": {
    "name": "ipython",
    "version": 3
   },
   "file_extension": ".py",
   "mimetype": "text/x-python",
   "name": "python",
   "nbconvert_exporter": "python",
   "pygments_lexer": "ipython3",
   "version": "3.6.2"
  },
  "nbpresent": {
   "slides": {
    "0e83de02-673c-4e0b-aa2b-3b6b01ad398a": {
     "id": "0e83de02-673c-4e0b-aa2b-3b6b01ad398a",
     "prev": "2e0b1447-ff5f-49d6-8e67-9cc44dde2234",
     "regions": {
      "c1b38c9d-30dc-42ca-9060-475dfd673eb2": {
       "attrs": {
        "height": 0.8,
        "width": 0.8,
        "x": 0.1,
        "y": 0.1
       },
       "content": {
        "cell": "89eaf4a1-d97f-4146-be25-0ad1fc3ea10b",
        "part": "whole"
       },
       "id": "c1b38c9d-30dc-42ca-9060-475dfd673eb2"
      }
     }
    },
    "2a35f8a9-ebd4-4f9c-be77-ba6687da50d6": {
     "id": "2a35f8a9-ebd4-4f9c-be77-ba6687da50d6",
     "prev": "0e83de02-673c-4e0b-aa2b-3b6b01ad398a",
     "regions": {
      "00a5ae85-2764-413f-a9c5-bbc08ed81df5": {
       "attrs": {
        "height": 0.8,
        "width": 0.8,
        "x": 0.1,
        "y": 0.1
       },
       "content": {
        "cell": "ca14ca65-a4b3-452f-8d60-d2e9c8f0b070",
        "part": "whole"
       },
       "id": "00a5ae85-2764-413f-a9c5-bbc08ed81df5"
      }
     }
    },
    "2e0b1447-ff5f-49d6-8e67-9cc44dde2234": {
     "id": "2e0b1447-ff5f-49d6-8e67-9cc44dde2234",
     "prev": "ed9f8203-94ac-42dc-9c7e-d963bdf559a4",
     "regions": {
      "9fc9c2e8-2453-4049-86ee-78207f4591e3": {
       "attrs": {
        "height": 1,
        "width": 1,
        "x": -0.0745856827793859,
        "y": 0.18646408839779005
       },
       "id": "9fc9c2e8-2453-4049-86ee-78207f4591e3"
      }
     }
    },
    "40f9c53b-d4b7-4c2a-ac5a-8766d5892cb7": {
     "id": "40f9c53b-d4b7-4c2a-ac5a-8766d5892cb7",
     "prev": "e7b2f386-4e29-474e-97ea-e9522691045c",
     "regions": {
      "955f7f98-f247-4c3b-ba5b-21b9f3f22396": {
       "attrs": {
        "height": 0.8,
        "width": 0.8,
        "x": 0.1,
        "y": 0.1
       },
       "content": {
        "cell": "93f6faae-00e1-4ca0-a276-e8c503a143a0",
        "part": "whole"
       },
       "id": "955f7f98-f247-4c3b-ba5b-21b9f3f22396"
      }
     }
    },
    "5f96252a-1d5e-410f-af9f-918152131b2e": {
     "id": "5f96252a-1d5e-410f-af9f-918152131b2e",
     "prev": "ce1e326d-ca9b-4b4b-9433-1d4426eb61ea",
     "regions": {
      "8f91483d-78c2-4f19-84e0-baa9886b95b4": {
       "attrs": {
        "height": 0.8,
        "width": 0.8,
        "x": 0.1,
        "y": 0.1
       },
       "content": {
        "cell": "93aa4d8e-38df-4d99-8d49-d42a33632d0b",
        "part": "whole"
       },
       "id": "8f91483d-78c2-4f19-84e0-baa9886b95b4"
      }
     }
    },
    "6433043c-f487-49a2-a20c-8c889a79602b": {
     "id": "6433043c-f487-49a2-a20c-8c889a79602b",
     "prev": "982be73e-3a5b-447e-982b-c53ef636f4d5",
     "regions": {
      "e4581bc9-445b-4040-8f48-b16da06ae14e": {
       "attrs": {
        "height": 0.8,
        "width": 0.8,
        "x": 0.1,
        "y": 0.1
       },
       "content": {
        "cell": "988bd6a3-d5db-4cda-a1f8-c60c182337d0",
        "part": "whole"
       },
       "id": "e4581bc9-445b-4040-8f48-b16da06ae14e"
      }
     }
    },
    "7b22fb19-9f4d-4a6a-a3ee-acd38690ba4a": {
     "id": "7b22fb19-9f4d-4a6a-a3ee-acd38690ba4a",
     "prev": "5f96252a-1d5e-410f-af9f-918152131b2e",
     "regions": {
      "e47a4053-4ce9-4331-9c32-d97e0a884a95": {
       "attrs": {
        "height": 0.8,
        "width": 0.8,
        "x": 0.1,
        "y": 0.1
       },
       "content": {
        "cell": "c26e04ac-af7a-4663-86d3-d55a7827b9e3",
        "part": "whole"
       },
       "id": "e47a4053-4ce9-4331-9c32-d97e0a884a95"
      }
     }
    },
    "80bb17ed-b5ee-41f6-978c-ce6aaacebeaa": {
     "id": "80bb17ed-b5ee-41f6-978c-ce6aaacebeaa",
     "prev": "2a35f8a9-ebd4-4f9c-be77-ba6687da50d6",
     "regions": {
      "5d028cde-156a-4e8d-a04a-82071c0cf8af": {
       "attrs": {
        "height": 0.8,
        "width": 0.8,
        "x": 0.1,
        "y": 0.1
       },
       "content": {
        "cell": "711a3ab4-7a0b-4b82-9ccc-5758d806fd5d",
        "part": "whole"
       },
       "id": "5d028cde-156a-4e8d-a04a-82071c0cf8af"
      }
     }
    },
    "8eaabbaf-9004-44c0-8650-872abc89b17c": {
     "id": "8eaabbaf-9004-44c0-8650-872abc89b17c",
     "prev": "80bb17ed-b5ee-41f6-978c-ce6aaacebeaa",
     "regions": {
      "4447038c-7b1f-4817-bcd3-eb8afdc1cd6d": {
       "attrs": {
        "height": 0.8,
        "width": 0.8,
        "x": 0.1,
        "y": 0.1
       },
       "content": {
        "cell": "5156dbd7-aeaa-475b-9e6e-b39225ac462e",
        "part": "whole"
       },
       "id": "4447038c-7b1f-4817-bcd3-eb8afdc1cd6d"
      }
     }
    },
    "982be73e-3a5b-447e-982b-c53ef636f4d5": {
     "id": "982be73e-3a5b-447e-982b-c53ef636f4d5",
     "prev": "7b22fb19-9f4d-4a6a-a3ee-acd38690ba4a",
     "regions": {
      "0034f580-53e4-45ff-82c8-7c06545cfe3d": {
       "attrs": {
        "height": 0.8,
        "width": 0.8,
        "x": 0.1,
        "y": 0.1
       },
       "content": {
        "cell": "d96998a2-bd3d-483f-8df1-020670a0a30a",
        "part": "whole"
       },
       "id": "0034f580-53e4-45ff-82c8-7c06545cfe3d"
      }
     }
    },
    "992d447c-57f4-441b-b99c-8e366b4feaae": {
     "id": "992d447c-57f4-441b-b99c-8e366b4feaae",
     "prev": null,
     "regions": {
      "b1c77fd2-2d3c-4c6c-bdec-7c17f860b9c0": {
       "attrs": {
        "height": 0.8,
        "width": 0.8,
        "x": 0.1,
        "y": 0.1
       },
       "content": {
        "cell": "412e6ba7-1256-49da-95ad-030ea0e5f25e",
        "part": "whole"
       },
       "id": "b1c77fd2-2d3c-4c6c-bdec-7c17f860b9c0"
      }
     }
    },
    "c6546378-36b4-4395-b848-260fe885bd37": {
     "id": "c6546378-36b4-4395-b848-260fe885bd37",
     "prev": "dc43f4be-9310-4d5e-a4eb-952dd06de1aa",
     "regions": {
      "15c12b91-a898-4a66-8b99-fd9f0f8dddee": {
       "attrs": {
        "height": 0.8,
        "width": 0.8,
        "x": 0.1,
        "y": 0.1
       },
       "content": {
        "cell": "4c4c350b-d6da-45a9-9be9-69b955b4fa67",
        "part": "whole"
       },
       "id": "15c12b91-a898-4a66-8b99-fd9f0f8dddee"
      }
     }
    },
    "ce1e326d-ca9b-4b4b-9433-1d4426eb61ea": {
     "id": "ce1e326d-ca9b-4b4b-9433-1d4426eb61ea",
     "prev": "8eaabbaf-9004-44c0-8650-872abc89b17c",
     "regions": {
      "7cd54077-273c-40a6-95d7-e0fcebea3dc7": {
       "attrs": {
        "height": 0.8,
        "width": 0.8,
        "x": 0.1,
        "y": 0.1
       },
       "content": {
        "cell": "28ebb9d1-1d71-42e9-afa8-6987496a53f2",
        "part": "whole"
       },
       "id": "7cd54077-273c-40a6-95d7-e0fcebea3dc7"
      }
     }
    },
    "dc43f4be-9310-4d5e-a4eb-952dd06de1aa": {
     "id": "dc43f4be-9310-4d5e-a4eb-952dd06de1aa",
     "prev": "40f9c53b-d4b7-4c2a-ac5a-8766d5892cb7",
     "regions": {
      "88f13262-6415-485c-9db5-0d13182c6fd0": {
       "attrs": {
        "height": 0.8,
        "width": 0.8,
        "x": 0.1,
        "y": 0.1
       },
       "content": {
        "cell": "f453e738-c9f2-40bc-bd4c-3f4267946203",
        "part": "whole"
       },
       "id": "88f13262-6415-485c-9db5-0d13182c6fd0"
      }
     }
    },
    "e7b2f386-4e29-474e-97ea-e9522691045c": {
     "id": "e7b2f386-4e29-474e-97ea-e9522691045c",
     "prev": "6433043c-f487-49a2-a20c-8c889a79602b",
     "regions": {
      "7c80d9e4-a569-4672-b3c3-3951d67033d0": {
       "attrs": {
        "height": 0.8,
        "width": 0.8,
        "x": 0.1,
        "y": 0.1
       },
       "content": {
        "cell": "17b32a33-de73-4b0c-9537-a00efd11f859",
        "part": "whole"
       },
       "id": "7c80d9e4-a569-4672-b3c3-3951d67033d0"
      }
     }
    },
    "ed9f8203-94ac-42dc-9c7e-d963bdf559a4": {
     "id": "ed9f8203-94ac-42dc-9c7e-d963bdf559a4",
     "prev": "992d447c-57f4-441b-b99c-8e366b4feaae",
     "regions": {
      "3d194207-ed67-4382-b46e-abdb3bd2d546": {
       "attrs": {
        "height": 0.8,
        "width": 0.8,
        "x": 0.1,
        "y": 0.1
       },
       "content": {
        "cell": "ce5f226e-ff59-497d-aa35-51c8837421a4",
        "part": "whole"
       },
       "id": "3d194207-ed67-4382-b46e-abdb3bd2d546"
      }
     }
    }
   },
   "themes": {
    "default": "788802b5-e3bd-47a1-8200-7a6e41dd5e8a",
    "theme": {
     "788802b5-e3bd-47a1-8200-7a6e41dd5e8a": {
      "backgrounds": {
       "dc7afa04-bf90-40b1-82a5-726e3cff5267": {
        "background-color": "31af15d2-7e15-44c5-ab5e-e04b16a89eff",
        "id": "dc7afa04-bf90-40b1-82a5-726e3cff5267"
       }
      },
      "id": "788802b5-e3bd-47a1-8200-7a6e41dd5e8a",
      "palette": {
       "19cc588f-0593-49c9-9f4b-e4d7cc113b1c": {
        "id": "19cc588f-0593-49c9-9f4b-e4d7cc113b1c",
        "rgb": [
         252,
         252,
         252
        ]
       },
       "31af15d2-7e15-44c5-ab5e-e04b16a89eff": {
        "id": "31af15d2-7e15-44c5-ab5e-e04b16a89eff",
        "rgb": [
         68,
         68,
         68
        ]
       },
       "50f92c45-a630-455b-aec3-788680ec7410": {
        "id": "50f92c45-a630-455b-aec3-788680ec7410",
        "rgb": [
         197,
         226,
         245
        ]
       },
       "c5cc3653-2ee1-402a-aba2-7caae1da4f6c": {
        "id": "c5cc3653-2ee1-402a-aba2-7caae1da4f6c",
        "rgb": [
         43,
         126,
         184
        ]
       },
       "efa7f048-9acb-414c-8b04-a26811511a21": {
        "id": "efa7f048-9acb-414c-8b04-a26811511a21",
        "rgb": [
         25.118061674008803,
         73.60176211453744,
         107.4819383259912
        ]
       }
      },
      "rules": {
       "a": {
        "color": "19cc588f-0593-49c9-9f4b-e4d7cc113b1c"
       },
       "blockquote": {
        "color": "50f92c45-a630-455b-aec3-788680ec7410",
        "font-size": 3
       },
       "code": {
        "font-family": "Anonymous Pro"
       },
       "h1": {
        "color": "19cc588f-0593-49c9-9f4b-e4d7cc113b1c",
        "font-family": "Merriweather",
        "font-size": 8
       },
       "h2": {
        "color": "19cc588f-0593-49c9-9f4b-e4d7cc113b1c",
        "font-family": "Merriweather",
        "font-size": 6
       },
       "h3": {
        "color": "50f92c45-a630-455b-aec3-788680ec7410",
        "font-family": "Lato",
        "font-size": 5.5
       },
       "h4": {
        "color": "c5cc3653-2ee1-402a-aba2-7caae1da4f6c",
        "font-family": "Lato",
        "font-size": 5
       },
       "h5": {
        "font-family": "Lato"
       },
       "h6": {
        "font-family": "Lato"
       },
       "h7": {
        "font-family": "Lato"
       },
       "li": {
        "color": "50f92c45-a630-455b-aec3-788680ec7410",
        "font-size": 3.25
       },
       "pre": {
        "font-family": "Anonymous Pro",
        "font-size": 4
       }
      },
      "text-base": {
       "color": "19cc588f-0593-49c9-9f4b-e4d7cc113b1c",
       "font-family": "Lato",
       "font-size": 4
      }
     }
    }
   }
  }
 },
 "nbformat": 4,
 "nbformat_minor": 1
}
