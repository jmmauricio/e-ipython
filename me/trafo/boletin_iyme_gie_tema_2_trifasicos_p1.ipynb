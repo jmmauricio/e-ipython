{
 "cells": [
  {
   "cell_type": "code",
   "execution_count": 2,
   "metadata": {
    "collapsed": true,
    "nbpresent": {
     "id": "412e6ba7-1256-49da-95ad-030ea0e5f25e"
    }
   },
   "outputs": [],
   "source": [
    "from numpy import *"
   ]
  },
  {
   "cell_type": "markdown",
   "metadata": {
    "nbpresent": {
     "id": "ce5f226e-ff59-497d-aa35-51c8837421a4"
    }
   },
   "source": [
    "Un transformador monofásico de 250 kVA, 10000/420 V, Dy11, da los siguientes resultados en ensayos:\n",
    "\n",
    "Un transformador monofásico de 125 kVA, 3000/380 V, 50 Hz ha dado los siguientes resultados en los ensayos de vacío y cortocircuito:\n",
    "\n",
    "\n",
    "Ensayo | Devanado    | Tensión (V)  | Intensidad  (A)       | Potencia (W)         \n",
    "-------|-------------|--------------|-----------------------|----------------\n",
    "Vacío  | Primario    | 10000        |  0,6                  |  1000         \n",
    "Corto  | Secundario  | 866          |   14,43               |   4164,\n"
   ]
  },
  {
   "cell_type": "markdown",
   "metadata": {
    "nbpresent": {
     "id": "89eaf4a1-d97f-4146-be25-0ad1fc3ea10b"
    }
   },
   "source": [
    "Determinar:\n",
    "\n",
    "1. ¿Son los ensayos normalizados?\n",
    "2. Parámetros del circuito equivalente aproximado referido al primario (fase-fase)\n",
    "3. Caı́da de tensión unitaria a plena carga y factor de potencia 0.8 inductivo\n",
    "4. Rendimiento para las condiciones del apartado c)\n",
    "5. Rendimiento máximo\n"
   ]
  },
  {
   "cell_type": "markdown",
   "metadata": {
    "nbpresent": {
     "id": "ca14ca65-a4b3-452f-8d60-d2e9c8f0b070"
    }
   },
   "source": [
    "## 1. ¿Son los ensayos normalizados?"
   ]
  },
  {
   "cell_type": "code",
   "execution_count": 23,
   "metadata": {
    "nbpresent": {
     "id": "711a3ab4-7a0b-4b82-9ccc-5758d806fd5d"
    }
   },
   "outputs": [
    {
     "data": {
      "text/plain": [
       "14.433756729740644"
      ]
     },
     "execution_count": 23,
     "metadata": {},
     "output_type": "execute_result"
    }
   ],
   "source": [
    "S_n = 250.0e3\n",
    "U_1_n = 10000.0\n",
    "U_2_n = 380.0\n",
    "\n",
    "I_1_n = S_n/(sqrt(3)*U_1_n)\n",
    "I_2_n = S_n/(sqrt(3)*U_2_n)\n",
    "I_1_n"
   ]
  },
  {
   "cell_type": "code",
   "execution_count": 24,
   "metadata": {},
   "outputs": [
    {
     "name": "stdout",
     "output_type": "stream",
     "text": [
      "I_fe = 0.058 A\n",
      "I_mu = 0.597 A\n",
      "R_fe = 100000.000 Ω\n",
      "X_mu = 9667.365 Ω\n",
      "R_fe_ff = 300000.000 Ω\n",
      "X_mu_ff = 29002.095 Ω\n",
      "R_cc_ff = 20.00001\n",
      "X_cc = 102.00485\n"
     ]
    }
   ],
   "source": [
    "P_1_0 = 1000.0\n",
    "I_1_0 = 0.6\n",
    "U_1_0 = 10000\n",
    "\n",
    "S_1_0 = sqrt(3)*I_1_0*U_1_0\n",
    "phi_0 = arccos(P_1_0/S_1_0)\n",
    "\n",
    "I_fe = I_1_0 * cos(phi_0)\n",
    "I_mu = I_1_0 * sin(phi_0)\n",
    "\n",
    "print('I_fe = {:2.3f} A'.format(I_fe)) \n",
    "print('I_mu = {:2.3f} A'.format(I_mu)) \n",
    "\n",
    "R_fe = U_1_0/sqrt(3)/I_fe\n",
    "print('R_fe = {:2.3f} Ω'.format(R_fe)) \n",
    "\n",
    "X_mu = U_1_0/sqrt(3)/I_mu\n",
    "print('X_mu = {:2.3f} Ω'.format(X_mu))\n",
    "\n",
    "R_fe_ff = 3*R_fe\n",
    "print('R_fe_ff = {:2.3f} Ω'.format(R_fe_ff)) \n",
    "\n",
    "X_mu_ff = 3*X_mu\n",
    "print('X_mu_ff = {:2.3f} Ω'.format(X_mu_ff))\n",
    "\n",
    "P_1_cc = 4164.5\n",
    "I_1_cc = 14.43\n",
    "U_1_cc = 866.0\n",
    "\n",
    "S_1_cc = sqrt(3)*I_1_cc*U_1_cc\n",
    "phi_cc = arccos(P_1_cc/S_1_cc)\n",
    "\n",
    "Z_cc = U_1_cc/sqrt(3)/I_1_cc\n",
    "\n",
    "R_cc = Z_cc*cos(phi_cc)\n",
    "R_cc_ff = R_cc*3\n",
    "print('R_cc_ff = {:2.5f}'.format(R_cc_ff)) \n",
    "\n",
    "X_cc = Z_cc*sin(phi_cc)\n",
    "X_cc_ff = X_cc * 3\n",
    "print('X_cc = {:2.5f}'.format(X_cc_ff))\n"
   ]
  },
  {
   "cell_type": "markdown",
   "metadata": {
    "nbpresent": {
     "id": "28ebb9d1-1d71-42e9-afa8-6987496a53f2"
    }
   },
   "source": [
    "## 3. Caída de tensión unitaria a plena carga y factor de potencia 0.8 inductivo\n",
    "\n"
   ]
  },
  {
   "cell_type": "code",
   "execution_count": 25,
   "metadata": {},
   "outputs": [
    {
     "name": "stdout",
     "output_type": "stream",
     "text": [
      "e_c = 0.064\n"
     ]
    }
   ],
   "source": [
    "e_cc = 866/10000\n",
    "e_cc_r = e_cc*cos(phi_cc)\n",
    "e_cc_x = e_cc*sin(phi_cc)\n",
    "\n",
    "C = 1.0\n",
    "phi_c = arccos(0.8)\n",
    "e_c = C*(e_cc_r*cos(phi_c) + e_cc_x*sin(phi_c))\n",
    "\n",
    "print('e_c = {:2.3f}'.format(e_c))"
   ]
  },
  {
   "cell_type": "code",
   "execution_count": 26,
   "metadata": {},
   "outputs": [
    {
     "data": {
      "text/plain": [
       "0.016662336770895337"
      ]
     },
     "execution_count": 26,
     "metadata": {},
     "output_type": "execute_result"
    }
   ],
   "source": [
    "e_cc_r"
   ]
  },
  {
   "cell_type": "code",
   "execution_count": 27,
   "metadata": {},
   "outputs": [
    {
     "data": {
      "text/plain": [
       "0.0166675"
      ]
     },
     "execution_count": 27,
     "metadata": {},
     "output_type": "execute_result"
    }
   ],
   "source": [
    "6.667/400"
   ]
  },
  {
   "cell_type": "code",
   "execution_count": 6,
   "metadata": {},
   "outputs": [
    {
     "name": "stdout",
     "output_type": "stream",
     "text": [
      "rend_1 = 97.48 %\n"
     ]
    }
   ],
   "source": [
    "P_0 = P_1_0\n",
    "P_cc = P_1_cc\n",
    "cos_phi = 0.8\n",
    "rend_1 = C*S_n*cos_phi/(C*S_n*cos_phi + P_0 + C**2*P_cc)\n",
    "print('rend_1 = {:2.2f} %'.format(rend_1*100))"
   ]
  },
  {
   "cell_type": "code",
   "execution_count": 7,
   "metadata": {},
   "outputs": [
    {
     "name": "stdout",
     "output_type": "stream",
     "text": [
      "rend_max = 98.39 %\n"
     ]
    }
   ],
   "source": [
    "C = linspace(0,1,1000)\n",
    "cos_phi = 1\n",
    "Rend = C*S_n*cos_phi/(C*S_n*cos_phi + P_0 + C**2*P_cc)\n",
    "rend_max = max(Rend)\n",
    "print('rend_max = {:2.2f} %'.format(rend_max*100))"
   ]
  },
  {
   "cell_type": "code",
   "execution_count": 8,
   "metadata": {},
   "outputs": [
    {
     "data": {
      "text/plain": [
       "0.98393655424656501"
      ]
     },
     "execution_count": 8,
     "metadata": {},
     "output_type": "execute_result"
    }
   ],
   "source": [
    "max(Rend)"
   ]
  },
  {
   "cell_type": "code",
   "execution_count": 9,
   "metadata": {
    "collapsed": true
   },
   "outputs": [],
   "source": [
    "import matplotlib.pyplot as plt\n",
    "%matplotlib notebook"
   ]
  },
  {
   "cell_type": "code",
   "execution_count": 10,
   "metadata": {},
   "outputs": [
    {
     "data": {
      "application/javascript": [
       "/* Put everything inside the global mpl namespace */\n",
       "window.mpl = {};\n",
       "\n",
       "\n",
       "mpl.get_websocket_type = function() {\n",
       "    if (typeof(WebSocket) !== 'undefined') {\n",
       "        return WebSocket;\n",
       "    } else if (typeof(MozWebSocket) !== 'undefined') {\n",
       "        return MozWebSocket;\n",
       "    } else {\n",
       "        alert('Your browser does not have WebSocket support.' +\n",
       "              'Please try Chrome, Safari or Firefox ≥ 6. ' +\n",
       "              'Firefox 4 and 5 are also supported but you ' +\n",
       "              'have to enable WebSockets in about:config.');\n",
       "    };\n",
       "}\n",
       "\n",
       "mpl.figure = function(figure_id, websocket, ondownload, parent_element) {\n",
       "    this.id = figure_id;\n",
       "\n",
       "    this.ws = websocket;\n",
       "\n",
       "    this.supports_binary = (this.ws.binaryType != undefined);\n",
       "\n",
       "    if (!this.supports_binary) {\n",
       "        var warnings = document.getElementById(\"mpl-warnings\");\n",
       "        if (warnings) {\n",
       "            warnings.style.display = 'block';\n",
       "            warnings.textContent = (\n",
       "                \"This browser does not support binary websocket messages. \" +\n",
       "                    \"Performance may be slow.\");\n",
       "        }\n",
       "    }\n",
       "\n",
       "    this.imageObj = new Image();\n",
       "\n",
       "    this.context = undefined;\n",
       "    this.message = undefined;\n",
       "    this.canvas = undefined;\n",
       "    this.rubberband_canvas = undefined;\n",
       "    this.rubberband_context = undefined;\n",
       "    this.format_dropdown = undefined;\n",
       "\n",
       "    this.image_mode = 'full';\n",
       "\n",
       "    this.root = $('<div/>');\n",
       "    this._root_extra_style(this.root)\n",
       "    this.root.attr('style', 'display: inline-block');\n",
       "\n",
       "    $(parent_element).append(this.root);\n",
       "\n",
       "    this._init_header(this);\n",
       "    this._init_canvas(this);\n",
       "    this._init_toolbar(this);\n",
       "\n",
       "    var fig = this;\n",
       "\n",
       "    this.waiting = false;\n",
       "\n",
       "    this.ws.onopen =  function () {\n",
       "            fig.send_message(\"supports_binary\", {value: fig.supports_binary});\n",
       "            fig.send_message(\"send_image_mode\", {});\n",
       "            if (mpl.ratio != 1) {\n",
       "                fig.send_message(\"set_dpi_ratio\", {'dpi_ratio': mpl.ratio});\n",
       "            }\n",
       "            fig.send_message(\"refresh\", {});\n",
       "        }\n",
       "\n",
       "    this.imageObj.onload = function() {\n",
       "            if (fig.image_mode == 'full') {\n",
       "                // Full images could contain transparency (where diff images\n",
       "                // almost always do), so we need to clear the canvas so that\n",
       "                // there is no ghosting.\n",
       "                fig.context.clearRect(0, 0, fig.canvas.width, fig.canvas.height);\n",
       "            }\n",
       "            fig.context.drawImage(fig.imageObj, 0, 0);\n",
       "        };\n",
       "\n",
       "    this.imageObj.onunload = function() {\n",
       "        this.ws.close();\n",
       "    }\n",
       "\n",
       "    this.ws.onmessage = this._make_on_message_function(this);\n",
       "\n",
       "    this.ondownload = ondownload;\n",
       "}\n",
       "\n",
       "mpl.figure.prototype._init_header = function() {\n",
       "    var titlebar = $(\n",
       "        '<div class=\"ui-dialog-titlebar ui-widget-header ui-corner-all ' +\n",
       "        'ui-helper-clearfix\"/>');\n",
       "    var titletext = $(\n",
       "        '<div class=\"ui-dialog-title\" style=\"width: 100%; ' +\n",
       "        'text-align: center; padding: 3px;\"/>');\n",
       "    titlebar.append(titletext)\n",
       "    this.root.append(titlebar);\n",
       "    this.header = titletext[0];\n",
       "}\n",
       "\n",
       "\n",
       "\n",
       "mpl.figure.prototype._canvas_extra_style = function(canvas_div) {\n",
       "\n",
       "}\n",
       "\n",
       "\n",
       "mpl.figure.prototype._root_extra_style = function(canvas_div) {\n",
       "\n",
       "}\n",
       "\n",
       "mpl.figure.prototype._init_canvas = function() {\n",
       "    var fig = this;\n",
       "\n",
       "    var canvas_div = $('<div/>');\n",
       "\n",
       "    canvas_div.attr('style', 'position: relative; clear: both; outline: 0');\n",
       "\n",
       "    function canvas_keyboard_event(event) {\n",
       "        return fig.key_event(event, event['data']);\n",
       "    }\n",
       "\n",
       "    canvas_div.keydown('key_press', canvas_keyboard_event);\n",
       "    canvas_div.keyup('key_release', canvas_keyboard_event);\n",
       "    this.canvas_div = canvas_div\n",
       "    this._canvas_extra_style(canvas_div)\n",
       "    this.root.append(canvas_div);\n",
       "\n",
       "    var canvas = $('<canvas/>');\n",
       "    canvas.addClass('mpl-canvas');\n",
       "    canvas.attr('style', \"left: 0; top: 0; z-index: 0; outline: 0\")\n",
       "\n",
       "    this.canvas = canvas[0];\n",
       "    this.context = canvas[0].getContext(\"2d\");\n",
       "\n",
       "    var backingStore = this.context.backingStorePixelRatio ||\n",
       "\tthis.context.webkitBackingStorePixelRatio ||\n",
       "\tthis.context.mozBackingStorePixelRatio ||\n",
       "\tthis.context.msBackingStorePixelRatio ||\n",
       "\tthis.context.oBackingStorePixelRatio ||\n",
       "\tthis.context.backingStorePixelRatio || 1;\n",
       "\n",
       "    mpl.ratio = (window.devicePixelRatio || 1) / backingStore;\n",
       "\n",
       "    var rubberband = $('<canvas/>');\n",
       "    rubberband.attr('style', \"position: absolute; left: 0; top: 0; z-index: 1;\")\n",
       "\n",
       "    var pass_mouse_events = true;\n",
       "\n",
       "    canvas_div.resizable({\n",
       "        start: function(event, ui) {\n",
       "            pass_mouse_events = false;\n",
       "        },\n",
       "        resize: function(event, ui) {\n",
       "            fig.request_resize(ui.size.width, ui.size.height);\n",
       "        },\n",
       "        stop: function(event, ui) {\n",
       "            pass_mouse_events = true;\n",
       "            fig.request_resize(ui.size.width, ui.size.height);\n",
       "        },\n",
       "    });\n",
       "\n",
       "    function mouse_event_fn(event) {\n",
       "        if (pass_mouse_events)\n",
       "            return fig.mouse_event(event, event['data']);\n",
       "    }\n",
       "\n",
       "    rubberband.mousedown('button_press', mouse_event_fn);\n",
       "    rubberband.mouseup('button_release', mouse_event_fn);\n",
       "    // Throttle sequential mouse events to 1 every 20ms.\n",
       "    rubberband.mousemove('motion_notify', mouse_event_fn);\n",
       "\n",
       "    rubberband.mouseenter('figure_enter', mouse_event_fn);\n",
       "    rubberband.mouseleave('figure_leave', mouse_event_fn);\n",
       "\n",
       "    canvas_div.on(\"wheel\", function (event) {\n",
       "        event = event.originalEvent;\n",
       "        event['data'] = 'scroll'\n",
       "        if (event.deltaY < 0) {\n",
       "            event.step = 1;\n",
       "        } else {\n",
       "            event.step = -1;\n",
       "        }\n",
       "        mouse_event_fn(event);\n",
       "    });\n",
       "\n",
       "    canvas_div.append(canvas);\n",
       "    canvas_div.append(rubberband);\n",
       "\n",
       "    this.rubberband = rubberband;\n",
       "    this.rubberband_canvas = rubberband[0];\n",
       "    this.rubberband_context = rubberband[0].getContext(\"2d\");\n",
       "    this.rubberband_context.strokeStyle = \"#000000\";\n",
       "\n",
       "    this._resize_canvas = function(width, height) {\n",
       "        // Keep the size of the canvas, canvas container, and rubber band\n",
       "        // canvas in synch.\n",
       "        canvas_div.css('width', width)\n",
       "        canvas_div.css('height', height)\n",
       "\n",
       "        canvas.attr('width', width * mpl.ratio);\n",
       "        canvas.attr('height', height * mpl.ratio);\n",
       "        canvas.attr('style', 'width: ' + width + 'px; height: ' + height + 'px;');\n",
       "\n",
       "        rubberband.attr('width', width);\n",
       "        rubberband.attr('height', height);\n",
       "    }\n",
       "\n",
       "    // Set the figure to an initial 600x600px, this will subsequently be updated\n",
       "    // upon first draw.\n",
       "    this._resize_canvas(600, 600);\n",
       "\n",
       "    // Disable right mouse context menu.\n",
       "    $(this.rubberband_canvas).bind(\"contextmenu\",function(e){\n",
       "        return false;\n",
       "    });\n",
       "\n",
       "    function set_focus () {\n",
       "        canvas.focus();\n",
       "        canvas_div.focus();\n",
       "    }\n",
       "\n",
       "    window.setTimeout(set_focus, 100);\n",
       "}\n",
       "\n",
       "mpl.figure.prototype._init_toolbar = function() {\n",
       "    var fig = this;\n",
       "\n",
       "    var nav_element = $('<div/>')\n",
       "    nav_element.attr('style', 'width: 100%');\n",
       "    this.root.append(nav_element);\n",
       "\n",
       "    // Define a callback function for later on.\n",
       "    function toolbar_event(event) {\n",
       "        return fig.toolbar_button_onclick(event['data']);\n",
       "    }\n",
       "    function toolbar_mouse_event(event) {\n",
       "        return fig.toolbar_button_onmouseover(event['data']);\n",
       "    }\n",
       "\n",
       "    for(var toolbar_ind in mpl.toolbar_items) {\n",
       "        var name = mpl.toolbar_items[toolbar_ind][0];\n",
       "        var tooltip = mpl.toolbar_items[toolbar_ind][1];\n",
       "        var image = mpl.toolbar_items[toolbar_ind][2];\n",
       "        var method_name = mpl.toolbar_items[toolbar_ind][3];\n",
       "\n",
       "        if (!name) {\n",
       "            // put a spacer in here.\n",
       "            continue;\n",
       "        }\n",
       "        var button = $('<button/>');\n",
       "        button.addClass('ui-button ui-widget ui-state-default ui-corner-all ' +\n",
       "                        'ui-button-icon-only');\n",
       "        button.attr('role', 'button');\n",
       "        button.attr('aria-disabled', 'false');\n",
       "        button.click(method_name, toolbar_event);\n",
       "        button.mouseover(tooltip, toolbar_mouse_event);\n",
       "\n",
       "        var icon_img = $('<span/>');\n",
       "        icon_img.addClass('ui-button-icon-primary ui-icon');\n",
       "        icon_img.addClass(image);\n",
       "        icon_img.addClass('ui-corner-all');\n",
       "\n",
       "        var tooltip_span = $('<span/>');\n",
       "        tooltip_span.addClass('ui-button-text');\n",
       "        tooltip_span.html(tooltip);\n",
       "\n",
       "        button.append(icon_img);\n",
       "        button.append(tooltip_span);\n",
       "\n",
       "        nav_element.append(button);\n",
       "    }\n",
       "\n",
       "    var fmt_picker_span = $('<span/>');\n",
       "\n",
       "    var fmt_picker = $('<select/>');\n",
       "    fmt_picker.addClass('mpl-toolbar-option ui-widget ui-widget-content');\n",
       "    fmt_picker_span.append(fmt_picker);\n",
       "    nav_element.append(fmt_picker_span);\n",
       "    this.format_dropdown = fmt_picker[0];\n",
       "\n",
       "    for (var ind in mpl.extensions) {\n",
       "        var fmt = mpl.extensions[ind];\n",
       "        var option = $(\n",
       "            '<option/>', {selected: fmt === mpl.default_extension}).html(fmt);\n",
       "        fmt_picker.append(option)\n",
       "    }\n",
       "\n",
       "    // Add hover states to the ui-buttons\n",
       "    $( \".ui-button\" ).hover(\n",
       "        function() { $(this).addClass(\"ui-state-hover\");},\n",
       "        function() { $(this).removeClass(\"ui-state-hover\");}\n",
       "    );\n",
       "\n",
       "    var status_bar = $('<span class=\"mpl-message\"/>');\n",
       "    nav_element.append(status_bar);\n",
       "    this.message = status_bar[0];\n",
       "}\n",
       "\n",
       "mpl.figure.prototype.request_resize = function(x_pixels, y_pixels) {\n",
       "    // Request matplotlib to resize the figure. Matplotlib will then trigger a resize in the client,\n",
       "    // which will in turn request a refresh of the image.\n",
       "    this.send_message('resize', {'width': x_pixels, 'height': y_pixels});\n",
       "}\n",
       "\n",
       "mpl.figure.prototype.send_message = function(type, properties) {\n",
       "    properties['type'] = type;\n",
       "    properties['figure_id'] = this.id;\n",
       "    this.ws.send(JSON.stringify(properties));\n",
       "}\n",
       "\n",
       "mpl.figure.prototype.send_draw_message = function() {\n",
       "    if (!this.waiting) {\n",
       "        this.waiting = true;\n",
       "        this.ws.send(JSON.stringify({type: \"draw\", figure_id: this.id}));\n",
       "    }\n",
       "}\n",
       "\n",
       "\n",
       "mpl.figure.prototype.handle_save = function(fig, msg) {\n",
       "    var format_dropdown = fig.format_dropdown;\n",
       "    var format = format_dropdown.options[format_dropdown.selectedIndex].value;\n",
       "    fig.ondownload(fig, format);\n",
       "}\n",
       "\n",
       "\n",
       "mpl.figure.prototype.handle_resize = function(fig, msg) {\n",
       "    var size = msg['size'];\n",
       "    if (size[0] != fig.canvas.width || size[1] != fig.canvas.height) {\n",
       "        fig._resize_canvas(size[0], size[1]);\n",
       "        fig.send_message(\"refresh\", {});\n",
       "    };\n",
       "}\n",
       "\n",
       "mpl.figure.prototype.handle_rubberband = function(fig, msg) {\n",
       "    var x0 = msg['x0'] / mpl.ratio;\n",
       "    var y0 = (fig.canvas.height - msg['y0']) / mpl.ratio;\n",
       "    var x1 = msg['x1'] / mpl.ratio;\n",
       "    var y1 = (fig.canvas.height - msg['y1']) / mpl.ratio;\n",
       "    x0 = Math.floor(x0) + 0.5;\n",
       "    y0 = Math.floor(y0) + 0.5;\n",
       "    x1 = Math.floor(x1) + 0.5;\n",
       "    y1 = Math.floor(y1) + 0.5;\n",
       "    var min_x = Math.min(x0, x1);\n",
       "    var min_y = Math.min(y0, y1);\n",
       "    var width = Math.abs(x1 - x0);\n",
       "    var height = Math.abs(y1 - y0);\n",
       "\n",
       "    fig.rubberband_context.clearRect(\n",
       "        0, 0, fig.canvas.width, fig.canvas.height);\n",
       "\n",
       "    fig.rubberband_context.strokeRect(min_x, min_y, width, height);\n",
       "}\n",
       "\n",
       "mpl.figure.prototype.handle_figure_label = function(fig, msg) {\n",
       "    // Updates the figure title.\n",
       "    fig.header.textContent = msg['label'];\n",
       "}\n",
       "\n",
       "mpl.figure.prototype.handle_cursor = function(fig, msg) {\n",
       "    var cursor = msg['cursor'];\n",
       "    switch(cursor)\n",
       "    {\n",
       "    case 0:\n",
       "        cursor = 'pointer';\n",
       "        break;\n",
       "    case 1:\n",
       "        cursor = 'default';\n",
       "        break;\n",
       "    case 2:\n",
       "        cursor = 'crosshair';\n",
       "        break;\n",
       "    case 3:\n",
       "        cursor = 'move';\n",
       "        break;\n",
       "    }\n",
       "    fig.rubberband_canvas.style.cursor = cursor;\n",
       "}\n",
       "\n",
       "mpl.figure.prototype.handle_message = function(fig, msg) {\n",
       "    fig.message.textContent = msg['message'];\n",
       "}\n",
       "\n",
       "mpl.figure.prototype.handle_draw = function(fig, msg) {\n",
       "    // Request the server to send over a new figure.\n",
       "    fig.send_draw_message();\n",
       "}\n",
       "\n",
       "mpl.figure.prototype.handle_image_mode = function(fig, msg) {\n",
       "    fig.image_mode = msg['mode'];\n",
       "}\n",
       "\n",
       "mpl.figure.prototype.updated_canvas_event = function() {\n",
       "    // Called whenever the canvas gets updated.\n",
       "    this.send_message(\"ack\", {});\n",
       "}\n",
       "\n",
       "// A function to construct a web socket function for onmessage handling.\n",
       "// Called in the figure constructor.\n",
       "mpl.figure.prototype._make_on_message_function = function(fig) {\n",
       "    return function socket_on_message(evt) {\n",
       "        if (evt.data instanceof Blob) {\n",
       "            /* FIXME: We get \"Resource interpreted as Image but\n",
       "             * transferred with MIME type text/plain:\" errors on\n",
       "             * Chrome.  But how to set the MIME type?  It doesn't seem\n",
       "             * to be part of the websocket stream */\n",
       "            evt.data.type = \"image/png\";\n",
       "\n",
       "            /* Free the memory for the previous frames */\n",
       "            if (fig.imageObj.src) {\n",
       "                (window.URL || window.webkitURL).revokeObjectURL(\n",
       "                    fig.imageObj.src);\n",
       "            }\n",
       "\n",
       "            fig.imageObj.src = (window.URL || window.webkitURL).createObjectURL(\n",
       "                evt.data);\n",
       "            fig.updated_canvas_event();\n",
       "            fig.waiting = false;\n",
       "            return;\n",
       "        }\n",
       "        else if (typeof evt.data === 'string' && evt.data.slice(0, 21) == \"data:image/png;base64\") {\n",
       "            fig.imageObj.src = evt.data;\n",
       "            fig.updated_canvas_event();\n",
       "            fig.waiting = false;\n",
       "            return;\n",
       "        }\n",
       "\n",
       "        var msg = JSON.parse(evt.data);\n",
       "        var msg_type = msg['type'];\n",
       "\n",
       "        // Call the  \"handle_{type}\" callback, which takes\n",
       "        // the figure and JSON message as its only arguments.\n",
       "        try {\n",
       "            var callback = fig[\"handle_\" + msg_type];\n",
       "        } catch (e) {\n",
       "            console.log(\"No handler for the '\" + msg_type + \"' message type: \", msg);\n",
       "            return;\n",
       "        }\n",
       "\n",
       "        if (callback) {\n",
       "            try {\n",
       "                // console.log(\"Handling '\" + msg_type + \"' message: \", msg);\n",
       "                callback(fig, msg);\n",
       "            } catch (e) {\n",
       "                console.log(\"Exception inside the 'handler_\" + msg_type + \"' callback:\", e, e.stack, msg);\n",
       "            }\n",
       "        }\n",
       "    };\n",
       "}\n",
       "\n",
       "// from http://stackoverflow.com/questions/1114465/getting-mouse-location-in-canvas\n",
       "mpl.findpos = function(e) {\n",
       "    //this section is from http://www.quirksmode.org/js/events_properties.html\n",
       "    var targ;\n",
       "    if (!e)\n",
       "        e = window.event;\n",
       "    if (e.target)\n",
       "        targ = e.target;\n",
       "    else if (e.srcElement)\n",
       "        targ = e.srcElement;\n",
       "    if (targ.nodeType == 3) // defeat Safari bug\n",
       "        targ = targ.parentNode;\n",
       "\n",
       "    // jQuery normalizes the pageX and pageY\n",
       "    // pageX,Y are the mouse positions relative to the document\n",
       "    // offset() returns the position of the element relative to the document\n",
       "    var x = e.pageX - $(targ).offset().left;\n",
       "    var y = e.pageY - $(targ).offset().top;\n",
       "\n",
       "    return {\"x\": x, \"y\": y};\n",
       "};\n",
       "\n",
       "/*\n",
       " * return a copy of an object with only non-object keys\n",
       " * we need this to avoid circular references\n",
       " * http://stackoverflow.com/a/24161582/3208463\n",
       " */\n",
       "function simpleKeys (original) {\n",
       "  return Object.keys(original).reduce(function (obj, key) {\n",
       "    if (typeof original[key] !== 'object')\n",
       "        obj[key] = original[key]\n",
       "    return obj;\n",
       "  }, {});\n",
       "}\n",
       "\n",
       "mpl.figure.prototype.mouse_event = function(event, name) {\n",
       "    var canvas_pos = mpl.findpos(event)\n",
       "\n",
       "    if (name === 'button_press')\n",
       "    {\n",
       "        this.canvas.focus();\n",
       "        this.canvas_div.focus();\n",
       "    }\n",
       "\n",
       "    var x = canvas_pos.x * mpl.ratio;\n",
       "    var y = canvas_pos.y * mpl.ratio;\n",
       "\n",
       "    this.send_message(name, {x: x, y: y, button: event.button,\n",
       "                             step: event.step,\n",
       "                             guiEvent: simpleKeys(event)});\n",
       "\n",
       "    /* This prevents the web browser from automatically changing to\n",
       "     * the text insertion cursor when the button is pressed.  We want\n",
       "     * to control all of the cursor setting manually through the\n",
       "     * 'cursor' event from matplotlib */\n",
       "    event.preventDefault();\n",
       "    return false;\n",
       "}\n",
       "\n",
       "mpl.figure.prototype._key_event_extra = function(event, name) {\n",
       "    // Handle any extra behaviour associated with a key event\n",
       "}\n",
       "\n",
       "mpl.figure.prototype.key_event = function(event, name) {\n",
       "\n",
       "    // Prevent repeat events\n",
       "    if (name == 'key_press')\n",
       "    {\n",
       "        if (event.which === this._key)\n",
       "            return;\n",
       "        else\n",
       "            this._key = event.which;\n",
       "    }\n",
       "    if (name == 'key_release')\n",
       "        this._key = null;\n",
       "\n",
       "    var value = '';\n",
       "    if (event.ctrlKey && event.which != 17)\n",
       "        value += \"ctrl+\";\n",
       "    if (event.altKey && event.which != 18)\n",
       "        value += \"alt+\";\n",
       "    if (event.shiftKey && event.which != 16)\n",
       "        value += \"shift+\";\n",
       "\n",
       "    value += 'k';\n",
       "    value += event.which.toString();\n",
       "\n",
       "    this._key_event_extra(event, name);\n",
       "\n",
       "    this.send_message(name, {key: value,\n",
       "                             guiEvent: simpleKeys(event)});\n",
       "    return false;\n",
       "}\n",
       "\n",
       "mpl.figure.prototype.toolbar_button_onclick = function(name) {\n",
       "    if (name == 'download') {\n",
       "        this.handle_save(this, null);\n",
       "    } else {\n",
       "        this.send_message(\"toolbar_button\", {name: name});\n",
       "    }\n",
       "};\n",
       "\n",
       "mpl.figure.prototype.toolbar_button_onmouseover = function(tooltip) {\n",
       "    this.message.textContent = tooltip;\n",
       "};\n",
       "mpl.toolbar_items = [[\"Home\", \"Reset original view\", \"fa fa-home icon-home\", \"home\"], [\"Back\", \"Back to  previous view\", \"fa fa-arrow-left icon-arrow-left\", \"back\"], [\"Forward\", \"Forward to next view\", \"fa fa-arrow-right icon-arrow-right\", \"forward\"], [\"\", \"\", \"\", \"\"], [\"Pan\", \"Pan axes with left mouse, zoom with right\", \"fa fa-arrows icon-move\", \"pan\"], [\"Zoom\", \"Zoom to rectangle\", \"fa fa-square-o icon-check-empty\", \"zoom\"], [\"\", \"\", \"\", \"\"], [\"Download\", \"Download plot\", \"fa fa-floppy-o icon-save\", \"download\"]];\n",
       "\n",
       "mpl.extensions = [\"eps\", \"jpeg\", \"pdf\", \"png\", \"ps\", \"raw\", \"svg\", \"tif\"];\n",
       "\n",
       "mpl.default_extension = \"png\";var comm_websocket_adapter = function(comm) {\n",
       "    // Create a \"websocket\"-like object which calls the given IPython comm\n",
       "    // object with the appropriate methods. Currently this is a non binary\n",
       "    // socket, so there is still some room for performance tuning.\n",
       "    var ws = {};\n",
       "\n",
       "    ws.close = function() {\n",
       "        comm.close()\n",
       "    };\n",
       "    ws.send = function(m) {\n",
       "        //console.log('sending', m);\n",
       "        comm.send(m);\n",
       "    };\n",
       "    // Register the callback with on_msg.\n",
       "    comm.on_msg(function(msg) {\n",
       "        //console.log('receiving', msg['content']['data'], msg);\n",
       "        // Pass the mpl event to the overriden (by mpl) onmessage function.\n",
       "        ws.onmessage(msg['content']['data'])\n",
       "    });\n",
       "    return ws;\n",
       "}\n",
       "\n",
       "mpl.mpl_figure_comm = function(comm, msg) {\n",
       "    // This is the function which gets called when the mpl process\n",
       "    // starts-up an IPython Comm through the \"matplotlib\" channel.\n",
       "\n",
       "    var id = msg.content.data.id;\n",
       "    // Get hold of the div created by the display call when the Comm\n",
       "    // socket was opened in Python.\n",
       "    var element = $(\"#\" + id);\n",
       "    var ws_proxy = comm_websocket_adapter(comm)\n",
       "\n",
       "    function ondownload(figure, format) {\n",
       "        window.open(figure.imageObj.src);\n",
       "    }\n",
       "\n",
       "    var fig = new mpl.figure(id, ws_proxy,\n",
       "                           ondownload,\n",
       "                           element.get(0));\n",
       "\n",
       "    // Call onopen now - mpl needs it, as it is assuming we've passed it a real\n",
       "    // web socket which is closed, not our websocket->open comm proxy.\n",
       "    ws_proxy.onopen();\n",
       "\n",
       "    fig.parent_element = element.get(0);\n",
       "    fig.cell_info = mpl.find_output_cell(\"<div id='\" + id + \"'></div>\");\n",
       "    if (!fig.cell_info) {\n",
       "        console.error(\"Failed to find cell for figure\", id, fig);\n",
       "        return;\n",
       "    }\n",
       "\n",
       "    var output_index = fig.cell_info[2]\n",
       "    var cell = fig.cell_info[0];\n",
       "\n",
       "};\n",
       "\n",
       "mpl.figure.prototype.handle_close = function(fig, msg) {\n",
       "    var width = fig.canvas.width/mpl.ratio\n",
       "    fig.root.unbind('remove')\n",
       "\n",
       "    // Update the output cell to use the data from the current canvas.\n",
       "    fig.push_to_output();\n",
       "    var dataURL = fig.canvas.toDataURL();\n",
       "    // Re-enable the keyboard manager in IPython - without this line, in FF,\n",
       "    // the notebook keyboard shortcuts fail.\n",
       "    IPython.keyboard_manager.enable()\n",
       "    $(fig.parent_element).html('<img src=\"' + dataURL + '\" width=\"' + width + '\">');\n",
       "    fig.close_ws(fig, msg);\n",
       "}\n",
       "\n",
       "mpl.figure.prototype.close_ws = function(fig, msg){\n",
       "    fig.send_message('closing', msg);\n",
       "    // fig.ws.close()\n",
       "}\n",
       "\n",
       "mpl.figure.prototype.push_to_output = function(remove_interactive) {\n",
       "    // Turn the data on the canvas into data in the output cell.\n",
       "    var width = this.canvas.width/mpl.ratio\n",
       "    var dataURL = this.canvas.toDataURL();\n",
       "    this.cell_info[1]['text/html'] = '<img src=\"' + dataURL + '\" width=\"' + width + '\">';\n",
       "}\n",
       "\n",
       "mpl.figure.prototype.updated_canvas_event = function() {\n",
       "    // Tell IPython that the notebook contents must change.\n",
       "    IPython.notebook.set_dirty(true);\n",
       "    this.send_message(\"ack\", {});\n",
       "    var fig = this;\n",
       "    // Wait a second, then push the new image to the DOM so\n",
       "    // that it is saved nicely (might be nice to debounce this).\n",
       "    setTimeout(function () { fig.push_to_output() }, 1000);\n",
       "}\n",
       "\n",
       "mpl.figure.prototype._init_toolbar = function() {\n",
       "    var fig = this;\n",
       "\n",
       "    var nav_element = $('<div/>')\n",
       "    nav_element.attr('style', 'width: 100%');\n",
       "    this.root.append(nav_element);\n",
       "\n",
       "    // Define a callback function for later on.\n",
       "    function toolbar_event(event) {\n",
       "        return fig.toolbar_button_onclick(event['data']);\n",
       "    }\n",
       "    function toolbar_mouse_event(event) {\n",
       "        return fig.toolbar_button_onmouseover(event['data']);\n",
       "    }\n",
       "\n",
       "    for(var toolbar_ind in mpl.toolbar_items){\n",
       "        var name = mpl.toolbar_items[toolbar_ind][0];\n",
       "        var tooltip = mpl.toolbar_items[toolbar_ind][1];\n",
       "        var image = mpl.toolbar_items[toolbar_ind][2];\n",
       "        var method_name = mpl.toolbar_items[toolbar_ind][3];\n",
       "\n",
       "        if (!name) { continue; };\n",
       "\n",
       "        var button = $('<button class=\"btn btn-default\" href=\"#\" title=\"' + name + '\"><i class=\"fa ' + image + ' fa-lg\"></i></button>');\n",
       "        button.click(method_name, toolbar_event);\n",
       "        button.mouseover(tooltip, toolbar_mouse_event);\n",
       "        nav_element.append(button);\n",
       "    }\n",
       "\n",
       "    // Add the status bar.\n",
       "    var status_bar = $('<span class=\"mpl-message\" style=\"text-align:right; float: right;\"/>');\n",
       "    nav_element.append(status_bar);\n",
       "    this.message = status_bar[0];\n",
       "\n",
       "    // Add the close button to the window.\n",
       "    var buttongrp = $('<div class=\"btn-group inline pull-right\"></div>');\n",
       "    var button = $('<button class=\"btn btn-mini btn-primary\" href=\"#\" title=\"Stop Interaction\"><i class=\"fa fa-power-off icon-remove icon-large\"></i></button>');\n",
       "    button.click(function (evt) { fig.handle_close(fig, {}); } );\n",
       "    button.mouseover('Stop Interaction', toolbar_mouse_event);\n",
       "    buttongrp.append(button);\n",
       "    var titlebar = this.root.find($('.ui-dialog-titlebar'));\n",
       "    titlebar.prepend(buttongrp);\n",
       "}\n",
       "\n",
       "mpl.figure.prototype._root_extra_style = function(el){\n",
       "    var fig = this\n",
       "    el.on(\"remove\", function(){\n",
       "\tfig.close_ws(fig, {});\n",
       "    });\n",
       "}\n",
       "\n",
       "mpl.figure.prototype._canvas_extra_style = function(el){\n",
       "    // this is important to make the div 'focusable\n",
       "    el.attr('tabindex', 0)\n",
       "    // reach out to IPython and tell the keyboard manager to turn it's self\n",
       "    // off when our div gets focus\n",
       "\n",
       "    // location in version 3\n",
       "    if (IPython.notebook.keyboard_manager) {\n",
       "        IPython.notebook.keyboard_manager.register_events(el);\n",
       "    }\n",
       "    else {\n",
       "        // location in version 2\n",
       "        IPython.keyboard_manager.register_events(el);\n",
       "    }\n",
       "\n",
       "}\n",
       "\n",
       "mpl.figure.prototype._key_event_extra = function(event, name) {\n",
       "    var manager = IPython.notebook.keyboard_manager;\n",
       "    if (!manager)\n",
       "        manager = IPython.keyboard_manager;\n",
       "\n",
       "    // Check for shift+enter\n",
       "    if (event.shiftKey && event.which == 13) {\n",
       "        this.canvas_div.blur();\n",
       "        // select the cell after this one\n",
       "        var index = IPython.notebook.find_cell_index(this.cell_info[0]);\n",
       "        IPython.notebook.select(index + 1);\n",
       "    }\n",
       "}\n",
       "\n",
       "mpl.figure.prototype.handle_save = function(fig, msg) {\n",
       "    fig.ondownload(fig, null);\n",
       "}\n",
       "\n",
       "\n",
       "mpl.find_output_cell = function(html_output) {\n",
       "    // Return the cell and output element which can be found *uniquely* in the notebook.\n",
       "    // Note - this is a bit hacky, but it is done because the \"notebook_saving.Notebook\"\n",
       "    // IPython event is triggered only after the cells have been serialised, which for\n",
       "    // our purposes (turning an active figure into a static one), is too late.\n",
       "    var cells = IPython.notebook.get_cells();\n",
       "    var ncells = cells.length;\n",
       "    for (var i=0; i<ncells; i++) {\n",
       "        var cell = cells[i];\n",
       "        if (cell.cell_type === 'code'){\n",
       "            for (var j=0; j<cell.output_area.outputs.length; j++) {\n",
       "                var data = cell.output_area.outputs[j];\n",
       "                if (data.data) {\n",
       "                    // IPython >= 3 moved mimebundle to data attribute of output\n",
       "                    data = data.data;\n",
       "                }\n",
       "                if (data['text/html'] == html_output) {\n",
       "                    return [cell, data, j];\n",
       "                }\n",
       "            }\n",
       "        }\n",
       "    }\n",
       "}\n",
       "\n",
       "// Register the function which deals with the matplotlib target/channel.\n",
       "// The kernel may be null if the page has been refreshed.\n",
       "if (IPython.notebook.kernel != null) {\n",
       "    IPython.notebook.kernel.comm_manager.register_target('matplotlib', mpl.mpl_figure_comm);\n",
       "}\n"
      ],
      "text/plain": [
       "<IPython.core.display.Javascript object>"
      ]
     },
     "metadata": {},
     "output_type": "display_data"
    },
    {
     "data": {
      "text/html": [
       "<img src=\"data:image/png;base64,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\" width=\"640\">"
      ],
      "text/plain": [
       "<IPython.core.display.HTML object>"
      ]
     },
     "metadata": {},
     "output_type": "display_data"
    }
   ],
   "source": [
    "fig, ax = plt.subplots()\n",
    "ax.scatter(C,Rend,marker=\".\")\n",
    "fig.show()\n"
   ]
  },
  {
   "cell_type": "code",
   "execution_count": 12,
   "metadata": {
    "collapsed": true
   },
   "outputs": [],
   "source": [
    "import sympy as sym"
   ]
  },
  {
   "cell_type": "code",
   "execution_count": 13,
   "metadata": {
    "collapsed": true
   },
   "outputs": [],
   "source": [
    "c,S_n,cos_phi,P_0,P_cc = sym.symbols('c,S_n,cos_phi,P_0,P_cc')\n",
    "\n",
    "rend_sym = c*S_n*cos_phi/(c*S_n*cos_phi + P_0 + c**2*P_cc)"
   ]
  },
  {
   "cell_type": "code",
   "execution_count": 14,
   "metadata": {
    "collapsed": true
   },
   "outputs": [],
   "source": [
    "dr=sym.simplify(rend_sym.diff('c'))"
   ]
  },
  {
   "cell_type": "code",
   "execution_count": 15,
   "metadata": {},
   "outputs": [
    {
     "data": {
      "text/plain": [
       "[-sqrt(P_0/P_cc), sqrt(P_0/P_cc)]"
      ]
     },
     "execution_count": 15,
     "metadata": {},
     "output_type": "execute_result"
    }
   ],
   "source": [
    "sym.solve(dr,c)"
   ]
  },
  {
   "cell_type": "code",
   "execution_count": 20,
   "metadata": {},
   "outputs": [],
   "source": [
    "P_0 = P_1_0\n",
    "P_cc = P_1_cc\n",
    "S_n = 250.0e3\n",
    "cos_phi = 1.0\n",
    "c_rend_max = sqrt(P_0/P_cc)\n",
    "S_rend_max = c_rend_max*S_n\n",
    "rend_max = c_rend_max*S_n*cos_phi/(c_rend_max*S_n*cos_phi + P_0 + c_rend_max**2*P_cc)"
   ]
  },
  {
   "cell_type": "code",
   "execution_count": 21,
   "metadata": {},
   "outputs": [
    {
     "data": {
      "text/plain": [
       "0.49002537172044824"
      ]
     },
     "execution_count": 21,
     "metadata": {},
     "output_type": "execute_result"
    }
   ],
   "source": [
    "c_rend_max"
   ]
  },
  {
   "cell_type": "code",
   "execution_count": 22,
   "metadata": {},
   "outputs": [
    {
     "data": {
      "text/plain": [
       "0.98393656135958762"
      ]
     },
     "execution_count": 22,
     "metadata": {},
     "output_type": "execute_result"
    }
   ],
   "source": [
    "rend_max"
   ]
  },
  {
   "cell_type": "code",
   "execution_count": null,
   "metadata": {
    "collapsed": true
   },
   "outputs": [],
   "source": []
  },
  {
   "cell_type": "code",
   "execution_count": null,
   "metadata": {
    "collapsed": true
   },
   "outputs": [],
   "source": []
  }
 ],
 "metadata": {
  "anaconda-cloud": {},
  "kernelspec": {
   "display_name": "Python 3",
   "language": "python",
   "name": "python3"
  },
  "language_info": {
   "codemirror_mode": {
    "name": "ipython",
    "version": 3
   },
   "file_extension": ".py",
   "mimetype": "text/x-python",
   "name": "python",
   "nbconvert_exporter": "python",
   "pygments_lexer": "ipython3",
   "version": "3.6.2"
  },
  "nbpresent": {
   "slides": {
    "0e83de02-673c-4e0b-aa2b-3b6b01ad398a": {
     "id": "0e83de02-673c-4e0b-aa2b-3b6b01ad398a",
     "prev": "2e0b1447-ff5f-49d6-8e67-9cc44dde2234",
     "regions": {
      "c1b38c9d-30dc-42ca-9060-475dfd673eb2": {
       "attrs": {
        "height": 0.8,
        "width": 0.8,
        "x": 0.1,
        "y": 0.1
       },
       "content": {
        "cell": "89eaf4a1-d97f-4146-be25-0ad1fc3ea10b",
        "part": "whole"
       },
       "id": "c1b38c9d-30dc-42ca-9060-475dfd673eb2"
      }
     }
    },
    "2a35f8a9-ebd4-4f9c-be77-ba6687da50d6": {
     "id": "2a35f8a9-ebd4-4f9c-be77-ba6687da50d6",
     "prev": "0e83de02-673c-4e0b-aa2b-3b6b01ad398a",
     "regions": {
      "00a5ae85-2764-413f-a9c5-bbc08ed81df5": {
       "attrs": {
        "height": 0.8,
        "width": 0.8,
        "x": 0.1,
        "y": 0.1
       },
       "content": {
        "cell": "ca14ca65-a4b3-452f-8d60-d2e9c8f0b070",
        "part": "whole"
       },
       "id": "00a5ae85-2764-413f-a9c5-bbc08ed81df5"
      }
     }
    },
    "2e0b1447-ff5f-49d6-8e67-9cc44dde2234": {
     "id": "2e0b1447-ff5f-49d6-8e67-9cc44dde2234",
     "prev": "ed9f8203-94ac-42dc-9c7e-d963bdf559a4",
     "regions": {
      "9fc9c2e8-2453-4049-86ee-78207f4591e3": {
       "attrs": {
        "height": 1,
        "width": 1,
        "x": -0.0745856827793859,
        "y": 0.18646408839779005
       },
       "id": "9fc9c2e8-2453-4049-86ee-78207f4591e3"
      }
     }
    },
    "40f9c53b-d4b7-4c2a-ac5a-8766d5892cb7": {
     "id": "40f9c53b-d4b7-4c2a-ac5a-8766d5892cb7",
     "prev": "e7b2f386-4e29-474e-97ea-e9522691045c",
     "regions": {
      "955f7f98-f247-4c3b-ba5b-21b9f3f22396": {
       "attrs": {
        "height": 0.8,
        "width": 0.8,
        "x": 0.1,
        "y": 0.1
       },
       "content": {
        "cell": "93f6faae-00e1-4ca0-a276-e8c503a143a0",
        "part": "whole"
       },
       "id": "955f7f98-f247-4c3b-ba5b-21b9f3f22396"
      }
     }
    },
    "5f96252a-1d5e-410f-af9f-918152131b2e": {
     "id": "5f96252a-1d5e-410f-af9f-918152131b2e",
     "prev": "ce1e326d-ca9b-4b4b-9433-1d4426eb61ea",
     "regions": {
      "8f91483d-78c2-4f19-84e0-baa9886b95b4": {
       "attrs": {
        "height": 0.8,
        "width": 0.8,
        "x": 0.1,
        "y": 0.1
       },
       "content": {
        "cell": "93aa4d8e-38df-4d99-8d49-d42a33632d0b",
        "part": "whole"
       },
       "id": "8f91483d-78c2-4f19-84e0-baa9886b95b4"
      }
     }
    },
    "6433043c-f487-49a2-a20c-8c889a79602b": {
     "id": "6433043c-f487-49a2-a20c-8c889a79602b",
     "prev": "982be73e-3a5b-447e-982b-c53ef636f4d5",
     "regions": {
      "e4581bc9-445b-4040-8f48-b16da06ae14e": {
       "attrs": {
        "height": 0.8,
        "width": 0.8,
        "x": 0.1,
        "y": 0.1
       },
       "content": {
        "cell": "988bd6a3-d5db-4cda-a1f8-c60c182337d0",
        "part": "whole"
       },
       "id": "e4581bc9-445b-4040-8f48-b16da06ae14e"
      }
     }
    },
    "7b22fb19-9f4d-4a6a-a3ee-acd38690ba4a": {
     "id": "7b22fb19-9f4d-4a6a-a3ee-acd38690ba4a",
     "prev": "5f96252a-1d5e-410f-af9f-918152131b2e",
     "regions": {
      "e47a4053-4ce9-4331-9c32-d97e0a884a95": {
       "attrs": {
        "height": 0.8,
        "width": 0.8,
        "x": 0.1,
        "y": 0.1
       },
       "content": {
        "cell": "c26e04ac-af7a-4663-86d3-d55a7827b9e3",
        "part": "whole"
       },
       "id": "e47a4053-4ce9-4331-9c32-d97e0a884a95"
      }
     }
    },
    "80bb17ed-b5ee-41f6-978c-ce6aaacebeaa": {
     "id": "80bb17ed-b5ee-41f6-978c-ce6aaacebeaa",
     "prev": "2a35f8a9-ebd4-4f9c-be77-ba6687da50d6",
     "regions": {
      "5d028cde-156a-4e8d-a04a-82071c0cf8af": {
       "attrs": {
        "height": 0.8,
        "width": 0.8,
        "x": 0.1,
        "y": 0.1
       },
       "content": {
        "cell": "711a3ab4-7a0b-4b82-9ccc-5758d806fd5d",
        "part": "whole"
       },
       "id": "5d028cde-156a-4e8d-a04a-82071c0cf8af"
      }
     }
    },
    "8eaabbaf-9004-44c0-8650-872abc89b17c": {
     "id": "8eaabbaf-9004-44c0-8650-872abc89b17c",
     "prev": "80bb17ed-b5ee-41f6-978c-ce6aaacebeaa",
     "regions": {
      "4447038c-7b1f-4817-bcd3-eb8afdc1cd6d": {
       "attrs": {
        "height": 0.8,
        "width": 0.8,
        "x": 0.1,
        "y": 0.1
       },
       "content": {
        "cell": "5156dbd7-aeaa-475b-9e6e-b39225ac462e",
        "part": "whole"
       },
       "id": "4447038c-7b1f-4817-bcd3-eb8afdc1cd6d"
      }
     }
    },
    "982be73e-3a5b-447e-982b-c53ef636f4d5": {
     "id": "982be73e-3a5b-447e-982b-c53ef636f4d5",
     "prev": "7b22fb19-9f4d-4a6a-a3ee-acd38690ba4a",
     "regions": {
      "0034f580-53e4-45ff-82c8-7c06545cfe3d": {
       "attrs": {
        "height": 0.8,
        "width": 0.8,
        "x": 0.1,
        "y": 0.1
       },
       "content": {
        "cell": "d96998a2-bd3d-483f-8df1-020670a0a30a",
        "part": "whole"
       },
       "id": "0034f580-53e4-45ff-82c8-7c06545cfe3d"
      }
     }
    },
    "992d447c-57f4-441b-b99c-8e366b4feaae": {
     "id": "992d447c-57f4-441b-b99c-8e366b4feaae",
     "prev": null,
     "regions": {
      "b1c77fd2-2d3c-4c6c-bdec-7c17f860b9c0": {
       "attrs": {
        "height": 0.8,
        "width": 0.8,
        "x": 0.1,
        "y": 0.1
       },
       "content": {
        "cell": "412e6ba7-1256-49da-95ad-030ea0e5f25e",
        "part": "whole"
       },
       "id": "b1c77fd2-2d3c-4c6c-bdec-7c17f860b9c0"
      }
     }
    },
    "c6546378-36b4-4395-b848-260fe885bd37": {
     "id": "c6546378-36b4-4395-b848-260fe885bd37",
     "prev": "dc43f4be-9310-4d5e-a4eb-952dd06de1aa",
     "regions": {
      "15c12b91-a898-4a66-8b99-fd9f0f8dddee": {
       "attrs": {
        "height": 0.8,
        "width": 0.8,
        "x": 0.1,
        "y": 0.1
       },
       "content": {
        "cell": "4c4c350b-d6da-45a9-9be9-69b955b4fa67",
        "part": "whole"
       },
       "id": "15c12b91-a898-4a66-8b99-fd9f0f8dddee"
      }
     }
    },
    "ce1e326d-ca9b-4b4b-9433-1d4426eb61ea": {
     "id": "ce1e326d-ca9b-4b4b-9433-1d4426eb61ea",
     "prev": "8eaabbaf-9004-44c0-8650-872abc89b17c",
     "regions": {
      "7cd54077-273c-40a6-95d7-e0fcebea3dc7": {
       "attrs": {
        "height": 0.8,
        "width": 0.8,
        "x": 0.1,
        "y": 0.1
       },
       "content": {
        "cell": "28ebb9d1-1d71-42e9-afa8-6987496a53f2",
        "part": "whole"
       },
       "id": "7cd54077-273c-40a6-95d7-e0fcebea3dc7"
      }
     }
    },
    "dc43f4be-9310-4d5e-a4eb-952dd06de1aa": {
     "id": "dc43f4be-9310-4d5e-a4eb-952dd06de1aa",
     "prev": "40f9c53b-d4b7-4c2a-ac5a-8766d5892cb7",
     "regions": {
      "88f13262-6415-485c-9db5-0d13182c6fd0": {
       "attrs": {
        "height": 0.8,
        "width": 0.8,
        "x": 0.1,
        "y": 0.1
       },
       "content": {
        "cell": "f453e738-c9f2-40bc-bd4c-3f4267946203",
        "part": "whole"
       },
       "id": "88f13262-6415-485c-9db5-0d13182c6fd0"
      }
     }
    },
    "e7b2f386-4e29-474e-97ea-e9522691045c": {
     "id": "e7b2f386-4e29-474e-97ea-e9522691045c",
     "prev": "6433043c-f487-49a2-a20c-8c889a79602b",
     "regions": {
      "7c80d9e4-a569-4672-b3c3-3951d67033d0": {
       "attrs": {
        "height": 0.8,
        "width": 0.8,
        "x": 0.1,
        "y": 0.1
       },
       "content": {
        "cell": "17b32a33-de73-4b0c-9537-a00efd11f859",
        "part": "whole"
       },
       "id": "7c80d9e4-a569-4672-b3c3-3951d67033d0"
      }
     }
    },
    "ed9f8203-94ac-42dc-9c7e-d963bdf559a4": {
     "id": "ed9f8203-94ac-42dc-9c7e-d963bdf559a4",
     "prev": "992d447c-57f4-441b-b99c-8e366b4feaae",
     "regions": {
      "3d194207-ed67-4382-b46e-abdb3bd2d546": {
       "attrs": {
        "height": 0.8,
        "width": 0.8,
        "x": 0.1,
        "y": 0.1
       },
       "content": {
        "cell": "ce5f226e-ff59-497d-aa35-51c8837421a4",
        "part": "whole"
       },
       "id": "3d194207-ed67-4382-b46e-abdb3bd2d546"
      }
     }
    }
   },
   "themes": {
    "default": "788802b5-e3bd-47a1-8200-7a6e41dd5e8a",
    "theme": {
     "788802b5-e3bd-47a1-8200-7a6e41dd5e8a": {
      "backgrounds": {
       "dc7afa04-bf90-40b1-82a5-726e3cff5267": {
        "background-color": "31af15d2-7e15-44c5-ab5e-e04b16a89eff",
        "id": "dc7afa04-bf90-40b1-82a5-726e3cff5267"
       }
      },
      "id": "788802b5-e3bd-47a1-8200-7a6e41dd5e8a",
      "palette": {
       "19cc588f-0593-49c9-9f4b-e4d7cc113b1c": {
        "id": "19cc588f-0593-49c9-9f4b-e4d7cc113b1c",
        "rgb": [
         252,
         252,
         252
        ]
       },
       "31af15d2-7e15-44c5-ab5e-e04b16a89eff": {
        "id": "31af15d2-7e15-44c5-ab5e-e04b16a89eff",
        "rgb": [
         68,
         68,
         68
        ]
       },
       "50f92c45-a630-455b-aec3-788680ec7410": {
        "id": "50f92c45-a630-455b-aec3-788680ec7410",
        "rgb": [
         197,
         226,
         245
        ]
       },
       "c5cc3653-2ee1-402a-aba2-7caae1da4f6c": {
        "id": "c5cc3653-2ee1-402a-aba2-7caae1da4f6c",
        "rgb": [
         43,
         126,
         184
        ]
       },
       "efa7f048-9acb-414c-8b04-a26811511a21": {
        "id": "efa7f048-9acb-414c-8b04-a26811511a21",
        "rgb": [
         25.118061674008803,
         73.60176211453744,
         107.4819383259912
        ]
       }
      },
      "rules": {
       "a": {
        "color": "19cc588f-0593-49c9-9f4b-e4d7cc113b1c"
       },
       "blockquote": {
        "color": "50f92c45-a630-455b-aec3-788680ec7410",
        "font-size": 3
       },
       "code": {
        "font-family": "Anonymous Pro"
       },
       "h1": {
        "color": "19cc588f-0593-49c9-9f4b-e4d7cc113b1c",
        "font-family": "Merriweather",
        "font-size": 8
       },
       "h2": {
        "color": "19cc588f-0593-49c9-9f4b-e4d7cc113b1c",
        "font-family": "Merriweather",
        "font-size": 6
       },
       "h3": {
        "color": "50f92c45-a630-455b-aec3-788680ec7410",
        "font-family": "Lato",
        "font-size": 5.5
       },
       "h4": {
        "color": "c5cc3653-2ee1-402a-aba2-7caae1da4f6c",
        "font-family": "Lato",
        "font-size": 5
       },
       "h5": {
        "font-family": "Lato"
       },
       "h6": {
        "font-family": "Lato"
       },
       "h7": {
        "font-family": "Lato"
       },
       "li": {
        "color": "50f92c45-a630-455b-aec3-788680ec7410",
        "font-size": 3.25
       },
       "pre": {
        "font-family": "Anonymous Pro",
        "font-size": 4
       }
      },
      "text-base": {
       "color": "19cc588f-0593-49c9-9f4b-e4d7cc113b1c",
       "font-family": "Lato",
       "font-size": 4
      }
     }
    }
   }
  }
 },
 "nbformat": 4,
 "nbformat_minor": 1
}
