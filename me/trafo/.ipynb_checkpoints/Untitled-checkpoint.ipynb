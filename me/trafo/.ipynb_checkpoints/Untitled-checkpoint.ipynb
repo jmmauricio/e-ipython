{
 "cells": [
  {
   "cell_type": "raw",
   "metadata": {},
   "source": [
    "https://gist.github.com/d1manson/40cbbb62a5f4ecc37bd7"
   ]
  },
  {
   "cell_type": "code",
   "execution_count": 13,
   "metadata": {},
   "outputs": [],
   "source": [
    "from functools import partial\n",
    "import numpy as np\n",
    "\n",
    "def _obj_wrapper(func, args, kwargs, x):\n",
    "    return func(x, *args, **kwargs)\n",
    "\n",
    "def _is_feasible_wrapper(func, x):\n",
    "    return np.all(func(x)>=0)\n",
    "\n",
    "def _cons_none_wrapper(x):\n",
    "    return np.array([0])\n",
    "\n",
    "def _cons_ieqcons_wrapper(ieqcons, args, kwargs, x):\n",
    "    return np.array([y(x, *args, **kwargs) for y in ieqcons])\n",
    "\n",
    "def _cons_f_ieqcons_wrapper(f_ieqcons, args, kwargs, x):\n",
    "    return np.array(f_ieqcons(x, *args, **kwargs))\n",
    "    \n",
    "def pso(func, lb, ub, ieqcons=[], f_ieqcons=None, args=(), kwargs={}, \n",
    "        swarmsize=100, omega=0.5, phip=0.5, phig=0.5, maxiter=100, \n",
    "        minstep=1e-8, minfunc=1e-8, debug=False, processes=1,\n",
    "        particle_output=False):\n",
    "    \"\"\"\n",
    "    Perform a particle swarm optimization (PSO)\n",
    "   \n",
    "    Parameters\n",
    "    ==========\n",
    "    func : function\n",
    "        The function to be minimized\n",
    "    lb : array\n",
    "        The lower bounds of the design variable(s)\n",
    "    ub : array\n",
    "        The upper bounds of the design variable(s)\n",
    "   \n",
    "    Optional\n",
    "    ========\n",
    "    ieqcons : list\n",
    "        A list of functions of length n such that ieqcons[j](x,*args) >= 0.0 in \n",
    "        a successfully optimized problem (Default: [])\n",
    "    f_ieqcons : function\n",
    "        Returns a 1-D array in which each element must be greater or equal \n",
    "        to 0.0 in a successfully optimized problem. If f_ieqcons is specified, \n",
    "        ieqcons is ignored (Default: None)\n",
    "    args : tuple\n",
    "        Additional arguments passed to objective and constraint functions\n",
    "        (Default: empty tuple)\n",
    "    kwargs : dict\n",
    "        Additional keyword arguments passed to objective and constraint \n",
    "        functions (Default: empty dict)\n",
    "    swarmsize : int\n",
    "        The number of particles in the swarm (Default: 100)\n",
    "    omega : scalar\n",
    "        Particle velocity scaling factor (Default: 0.5)\n",
    "    phip : scalar\n",
    "        Scaling factor to search away from the particle's best known position\n",
    "        (Default: 0.5)\n",
    "    phig : scalar\n",
    "        Scaling factor to search away from the swarm's best known position\n",
    "        (Default: 0.5)\n",
    "    maxiter : int\n",
    "        The maximum number of iterations for the swarm to search (Default: 100)\n",
    "    minstep : scalar\n",
    "        The minimum stepsize of swarm's best position before the search\n",
    "        terminates (Default: 1e-8)\n",
    "    minfunc : scalar\n",
    "        The minimum change of swarm's best objective value before the search\n",
    "        terminates (Default: 1e-8)\n",
    "    debug : boolean\n",
    "        If True, progress statements will be displayed every iteration\n",
    "        (Default: False)\n",
    "    processes : int\n",
    "        The number of processes to use to evaluate objective function and \n",
    "        constraints (default: 1)\n",
    "    particle_output : boolean\n",
    "        Whether to include the best per-particle position and the objective\n",
    "        values at those.\n",
    "   \n",
    "    Returns\n",
    "    =======\n",
    "    g : array\n",
    "        The swarm's best known position (optimal design)\n",
    "    f : scalar\n",
    "        The objective value at ``g``\n",
    "    p : array\n",
    "        The best known position per particle\n",
    "    pf: arrray\n",
    "        The objective values at each position in p\n",
    "   \n",
    "    \"\"\"\n",
    "   \n",
    "    assert len(lb)==len(ub), 'Lower- and upper-bounds must be the same length'\n",
    "    assert hasattr(func, '__call__'), 'Invalid function handle'\n",
    "    lb = np.array(lb)\n",
    "    ub = np.array(ub)\n",
    "    assert np.all(ub>lb), 'All upper-bound values must be greater than lower-bound values'\n",
    "   \n",
    "    vhigh = np.abs(ub - lb)\n",
    "    vlow = -vhigh\n",
    "\n",
    "    # Initialize objective function\n",
    "    obj = partial(_obj_wrapper, func, args, kwargs)\n",
    "    \n",
    "    # Check for constraint function(s) #########################################\n",
    "    if f_ieqcons is None:\n",
    "        if not len(ieqcons):\n",
    "            if debug:\n",
    "                print('No constraints given.')\n",
    "            cons = _cons_none_wrapper\n",
    "        else:\n",
    "            if debug:\n",
    "                print('Converting ieqcons to a single constraint function')\n",
    "            cons = partial(_cons_ieqcons_wrapper, ieqcons, args, kwargs)\n",
    "    else:\n",
    "        if debug:\n",
    "            print('Single constraint function given in f_ieqcons')\n",
    "        cons = partial(_cons_f_ieqcons_wrapper, f_ieqcons, args, kwargs)\n",
    "    is_feasible = partial(_is_feasible_wrapper, cons)\n",
    "\n",
    "    # Initialize the multiprocessing module if necessary\n",
    "    if processes > 1:\n",
    "        import multiprocessing\n",
    "        mp_pool = multiprocessing.Pool(processes)\n",
    "        \n",
    "    # Initialize the particle swarm ############################################\n",
    "    S = swarmsize\n",
    "    D = len(lb)  # the number of dimensions each particle has\n",
    "    x = np.random.rand(S, D)  # particle positions\n",
    "    v = np.zeros_like(x)  # particle velocities\n",
    "    p = np.zeros_like(x)  # best particle positions\n",
    "    fx = np.zeros(S)  # current particle function values\n",
    "    fs = np.zeros(S, dtype=bool)  # feasibility of each particle\n",
    "    fp = np.ones(S)*np.inf  # best particle function values\n",
    "    g = []  # best swarm position\n",
    "    fg = np.inf  # best swarm position starting value\n",
    "    \n",
    "    # Initialize the particle's position\n",
    "    x = lb + x*(ub - lb)\n",
    "\n",
    "    # Calculate objective and constraints for each particle\n",
    "    if processes > 1:\n",
    "        fx = np.array(mp_pool.map(obj, x))\n",
    "        fs = np.array(mp_pool.map(is_feasible, x))\n",
    "    else:\n",
    "        for i in range(S):\n",
    "            fx[i] = obj(x[i, :])\n",
    "            fs[i] = is_feasible(x[i, :])\n",
    "       \n",
    "    # Store particle's best position (if constraints are satisfied)\n",
    "    i_update = np.logical_and((fx < fp), fs)\n",
    "    p[i_update, :] = x[i_update, :].copy()\n",
    "    fp[i_update] = fx[i_update]\n",
    "\n",
    "    # Update swarm's best position\n",
    "    i_min = np.argmin(fp)\n",
    "    if fp[i_min] < fg:\n",
    "        fg = fp[i_min]\n",
    "        g = p[i_min, :].copy()\n",
    "    else:\n",
    "        # At the start, there may not be any feasible starting point, so just\n",
    "        # give it a temporary \"best\" point since it's likely to change\n",
    "        g = x[0, :].copy()\n",
    "       \n",
    "    # Initialize the particle's velocity\n",
    "    v = vlow + np.random.rand(S, D)*(vhigh - vlow)\n",
    "       \n",
    "    # Iterate until termination criterion met ##################################\n",
    "    it = 1\n",
    "    while it <= maxiter:\n",
    "        rp = np.random.uniform(size=(S, D))\n",
    "        rg = np.random.uniform(size=(S, D))\n",
    "\n",
    "        # Update the particles velocities\n",
    "        v = omega*v + phip*rp*(p - x) + phig*rg*(g - x)\n",
    "        # Update the particles' positions\n",
    "        x = x + v\n",
    "        # Correct for bound violations\n",
    "        maskl = x < lb\n",
    "        masku = x > ub\n",
    "        x = x*(~np.logical_or(maskl, masku)) + lb*maskl + ub*masku\n",
    "\n",
    "        # Update objectives and constraints\n",
    "        if processes > 1:\n",
    "            fx = np.array(mp_pool.map(obj, x))\n",
    "            fs = np.array(mp_pool.map(is_feasible, x))\n",
    "        else:\n",
    "            for i in range(S):\n",
    "                fx[i] = obj(x[i, :])\n",
    "                fs[i] = is_feasible(x[i, :])\n",
    "\n",
    "        # Store particle's best position (if constraints are satisfied)\n",
    "        i_update = np.logical_and((fx < fp), fs)\n",
    "        p[i_update, :] = x[i_update, :].copy()\n",
    "        fp[i_update] = fx[i_update]\n",
    "\n",
    "        # Compare swarm's best position with global best position\n",
    "        i_min = np.argmin(fp)\n",
    "        if fp[i_min] < fg:\n",
    "            if debug:\n",
    "                print('New best for swarm at iteration {:}: {:} {:}'\\\n",
    "                    .format(it, p[i_min, :], fp[i_min]))\n",
    "\n",
    "            p_min = p[i_min, :].copy()\n",
    "            stepsize = np.sqrt(np.sum((g - p_min)**2))\n",
    "\n",
    "            if np.abs(fg - fp[i_min]) <= minfunc:\n",
    "                print('Stopping search: Swarm best objective change less than {:}'\\\n",
    "                    .format(minfunc))\n",
    "                if particle_output:\n",
    "                    return p_min, fp[i_min], p, fp\n",
    "                else:\n",
    "                    return p_min, fp[i_min]\n",
    "            elif stepsize <= minstep:\n",
    "                print('Stopping search: Swarm best position change less than {:}'\\\n",
    "                    .format(minstep))\n",
    "                if particle_output:\n",
    "                    return p_min, fp[i_min], p, fp\n",
    "                else:\n",
    "                    return p_min, fp[i_min]\n",
    "            else:\n",
    "                g = p_min.copy()\n",
    "                fg = fp[i_min]\n",
    "\n",
    "        if debug:\n",
    "            print('Best after iteration {:}: {:} {:}'.format(it, g, fg))\n",
    "        it += 1\n",
    "\n",
    "    print('Stopping search: maximum iterations reached --> {:}'.format(maxiter))\n",
    "    \n",
    "    if not is_feasible(g):\n",
    "        print(\"However, the optimization couldn't find a feasible design. Sorry\")\n",
    "    if particle_output:\n",
    "        return g, fg, p, fp\n",
    "    else:\n",
    "        return g, fg"
   ]
  },
  {
   "cell_type": "code",
   "execution_count": 17,
   "metadata": {},
   "outputs": [
    {
     "name": "stdout",
     "output_type": "stream",
     "text": [
      "Stopping search: Swarm best objective change less than 1e-08\n"
     ]
    }
   ],
   "source": [
    "def banana(x):\n",
    "    x1 = x[0]\n",
    "    x2 = x[1]\n",
    "    return x1**4 - 2*x2*x1**2 + x2**2 + x1**2 - 2*x1 + 5\n",
    "\n",
    "def con(x):\n",
    "    x1 = x[0]\n",
    "    x2 = x[1]\n",
    "    return [-(x1 + 0.25)**2 + 0.75*x2]\n",
    "\n",
    "lb = [-3, -1]\n",
    "ub = [2, 6]\n",
    "\n",
    "#%timeit  pso(banana, lb, ub, f_ieqcons=con)\n",
    "xopt, fopt = pso(banana, lb, ub, f_ieqcons=con)\n",
    "\n",
    "# Optimum should be around x=[0.5, 0.76] with banana(x)=4.5 and con(x)=0"
   ]
  },
  {
   "cell_type": "code",
   "execution_count": 15,
   "metadata": {},
   "outputs": [
    {
     "data": {
      "text/plain": [
       "4.5000045414863434"
      ]
     },
     "execution_count": 15,
     "metadata": {},
     "output_type": "execute_result"
    }
   ],
   "source": [
    "banana(xopt)"
   ]
  },
  {
   "cell_type": "code",
   "execution_count": 18,
   "metadata": {},
   "outputs": [
    {
     "name": "stdout",
     "output_type": "stream",
     "text": [
      "Stopping search: Swarm best objective change less than 1e-08\n",
      "The optimum is at:\n",
      "    [ 29.3519271    2.66523015   0.05635578]\n",
      "Optimal function values:\n",
      "    weight         : 11.882833207744966\n",
      "Constraint functions:\n",
      "    stress         : 99.99999988336019\n",
      "    buckling stress: 149.3148997294499\n",
      "    deflection     : 0.20004769663341304\n"
     ]
    }
   ],
   "source": [
    "def weight(x, *args):\n",
    "    H, d, t = x  # all in inches\n",
    "    B, rho, E, P = args\n",
    "    return rho*2*np.pi*d*t*np.sqrt((B/2)**2 + H**2)\n",
    "    \n",
    "def stress(x, *args):\n",
    "    H, d, t = x  # all in inches\n",
    "    B, rho, E, P = args\n",
    "    return (P*np.sqrt((B/2)**2 + H**2))/(2*t*np.pi*d*H)\n",
    "\n",
    "def buckling_stress(x, *args):\n",
    "    H, d, t = x  # all in inches\n",
    "    B, rho, E, P = args\n",
    "    return (np.pi**2*E*(d**2 + t**2))/(8*((B/2)**2 + H**2))\n",
    "\n",
    "def deflection(x, *args):\n",
    "    H, d, t = x  # all in inches\n",
    "    B, rho, E, P = args\n",
    "    return (P*np.sqrt((B/2)**2 + H**2)**3)/(2*t*np.pi*d*H**2*E)\n",
    "\n",
    "def mycons(x, *args):\n",
    "    strs = stress(x, *args)\n",
    "    buck = buckling_stress(x, *args)\n",
    "    defl = deflection(x, *args)\n",
    "    return [100 - strs, buck - strs, 0.25 - defl]\n",
    "\n",
    "B = 60  # inches\n",
    "rho = 0.3  # lb/in^3\n",
    "E = 30000  # kpsi\n",
    "P = 66  # lb (force)\n",
    "args = (B, rho, E, P)\n",
    "lb = [10, 1, 0.01]\n",
    "ub = [30, 3, 0.25]\n",
    "xopt4, fopt4 = pso(weight, lb, ub, f_ieqcons=mycons, args=args)\n",
    "\n",
    "print('The optimum is at:')\n",
    "print('    {}'.format(xopt4))\n",
    "print('Optimal function values:')\n",
    "print('    weight         : {}'.format(fopt4))\n",
    "print('Constraint functions:')\n",
    "print('    stress         : {}'.format(stress(xopt4, *args)))\n",
    "print('    buckling stress: {}'.format(buckling_stress(xopt4, *args)))\n",
    "print('    deflection     : {}'.format(deflection(xopt4, *args)))"
   ]
  },
  {
   "cell_type": "code",
   "execution_count": 170,
   "metadata": {
    "collapsed": true
   },
   "outputs": [],
   "source": [
    "S_n = 630e3\n",
    "U_1_n = 20e3\n",
    "U_2_n = 0.42e3\n",
    "\n",
    "P_cc = 1000.0\n",
    "U_cc = 20e3*0.05\n",
    "I_cc = S_n/(np.sqrt(3)*20e3)\n",
    "\n",
    "P_0 = 3000\n",
    "U_0 = U_1_n\n",
    "I_0 = 0.01*I_cc\n",
    "\n",
    "def obj(x):\n",
    "    \n",
    "    R_cc = x[0]\n",
    "    X_cc = x[1]\n",
    "    R_fe = x[2]\n",
    "    X_mu = x[3]\n",
    "    \n",
    "    P_cc_ = 3*R_cc*I_cc**2\n",
    "    Z_cc = np.abs(R_cc + 1j*X_cc)\n",
    "    I_cc_ = U_cc/np.sqrt(3)/(Z_cc)\n",
    "    \n",
    "    P_0_ = U_0**2/R_fe\n",
    "    V_0 =  U_0/np.sqrt(3)\n",
    "    I_fe = V_0/R_fe\n",
    "    I_mu = V_0/X_mu\n",
    "    \n",
    "    I_0_ = np.abs(I_fe+1j*I_mu)\n",
    "    \n",
    "    return abs(P_cc - P_cc_)/P_cc + abs(I_cc - I_cc_)/I_cc + abs(P_0 - P_0_)/P_0 + abs(I_0 - I_0_)/I_0  "
   ]
  },
  {
   "cell_type": "code",
   "execution_count": 188,
   "metadata": {},
   "outputs": [
    {
     "name": "stdout",
     "output_type": "stream",
     "text": [
      "Stopping search: Swarm best objective change less than 1e-12\n"
     ]
    }
   ],
   "source": [
    "lb = [1.0e-2, 1.0e-3, 1.0e4, 1e4]\n",
    "ub = [ 1.0e2, 1.0e2, 1.0e6, 1e5]\n",
    "\n",
    "xopt, fopt = pso(obj, lb, ub, minfunc=1e-12, minstep=1e-12, maxiter=500)"
   ]
  },
  {
   "cell_type": "code",
   "execution_count": 189,
   "metadata": {},
   "outputs": [
    {
     "data": {
      "text/plain": [
       "array([  1.00781053e+00,   3.17300307e+01,   1.33333333e+05,\n",
       "         7.22040481e+04])"
      ]
     },
     "execution_count": 189,
     "metadata": {},
     "output_type": "execute_result"
    }
   ],
   "source": [
    "xopt"
   ]
  },
  {
   "cell_type": "code",
   "execution_count": 190,
   "metadata": {},
   "outputs": [],
   "source": [
    "R_cc = P_cc/(3*I_cc**2)\n",
    "Z_cc = U_cc/np.sqrt(3)/(I_cc)\n",
    "X_cc = (Z_cc**2 - R_cc**2)**0.5\n",
    "R_fe = U_0**2/P_0\n",
    "S_0 = np.sqrt(3)*U_0*I_0\n",
    "Q_0 = (S_0**2 - P_0**2)**0.5\n",
    "X_mu = U_0**2/Q_0"
   ]
  },
  {
   "cell_type": "code",
   "execution_count": 191,
   "metadata": {},
   "outputs": [
    {
     "data": {
      "text/plain": [
       "1.0078105316200554"
      ]
     },
     "execution_count": 191,
     "metadata": {},
     "output_type": "execute_result"
    }
   ],
   "source": [
    "R_cc"
   ]
  },
  {
   "cell_type": "code",
   "execution_count": 192,
   "metadata": {},
   "outputs": [
    {
     "data": {
      "text/plain": [
       "31.730030720949692"
      ]
     },
     "execution_count": 192,
     "metadata": {},
     "output_type": "execute_result"
    }
   ],
   "source": [
    "X_cc"
   ]
  },
  {
   "cell_type": "code",
   "execution_count": 183,
   "metadata": {},
   "outputs": [
    {
     "data": {
      "text/plain": [
       "133333.33333333334"
      ]
     },
     "execution_count": 183,
     "metadata": {},
     "output_type": "execute_result"
    }
   ],
   "source": [
    "R_fe"
   ]
  },
  {
   "cell_type": "code",
   "execution_count": 184,
   "metadata": {},
   "outputs": [
    {
     "data": {
      "text/plain": [
       "72204.048143184307"
      ]
     },
     "execution_count": 184,
     "metadata": {},
     "output_type": "execute_result"
    }
   ],
   "source": [
    "X_mu "
   ]
  },
  {
   "cell_type": "code",
   "execution_count": null,
   "metadata": {
    "collapsed": true
   },
   "outputs": [],
   "source": []
  },
  {
   "cell_type": "code",
   "execution_count": null,
   "metadata": {
    "collapsed": true
   },
   "outputs": [],
   "source": []
  }
 ],
 "metadata": {
  "kernelspec": {
   "display_name": "Python 3",
   "language": "python",
   "name": "python3"
  },
  "language_info": {
   "codemirror_mode": {
    "name": "ipython",
    "version": 3
   },
   "file_extension": ".py",
   "mimetype": "text/x-python",
   "name": "python",
   "nbconvert_exporter": "python",
   "pygments_lexer": "ipython3",
   "version": "3.6.4"
  }
 },
 "nbformat": 4,
 "nbformat_minor": 2
}
