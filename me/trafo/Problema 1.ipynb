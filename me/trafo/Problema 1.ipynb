{
 "cells": [
  {
   "cell_type": "code",
   "execution_count": 1,
   "metadata": {
    "collapsed": true
   },
   "outputs": [],
   "source": [
    "from numpy import *"
   ]
  },
  {
   "cell_type": "markdown",
   "metadata": {},
   "source": [
    "Un transformador trifásico de 250 kVA, 10000/420 V, Dy11, da los siguientes resultados en ensayos:\n",
    "\n",
    "Ensayo | Potencias                | Corrientes            | Tensiones\n",
    "-------|--------------------------|-----------------------|--------------\n",
    "Vacío  | $\\sf P_0$ = 1 kW         | $\\sf I_0$ = 0.6 A     | $\\sf U_0$ = 10000 V\n",
    "Corto  |$\\sf P_{cc}$ = 4164.5 W   | $\\sf I_{cc}$ = 14.43 A| $\\sf U_{cc}$ = 866 V\n",
    "\n",
    "\n",
    "\n"
   ]
  },
  {
   "cell_type": "markdown",
   "metadata": {},
   "source": [
    "Determinar:\n",
    "\n",
    "1. ¿Son los ensayos normalizados?\n",
    "2. Parámetros del circuito equivalente aproximado referido al primario (fase-neutro)\n",
    "3. Caída de tensión unitaria a plena carga y factor de potencia 0.8 inductivo\n",
    "4. Rendimiento para las condiciones del apartado c)\n",
    "5. Rendimiento máximo\n"
   ]
  },
  {
   "cell_type": "markdown",
   "metadata": {},
   "source": [
    "\n",
    "### 1. ¿Son los ensayos normalizados?"
   ]
  },
  {
   "cell_type": "markdown",
   "metadata": {},
   "source": [
    "Antes de contestar a la pregunta tenemos que comprobar el lado del transformador en que están hechos los ensayos (si no se\n",
    "dice explícitamente). Para ello lo más directo es fijarnos en los subíndices. Si las magnitudes medidas tienen subíndice 1\n",
    "significa que se han medido en el primario. Si tienen subíndice 2 están realizadas desde el secundario. En nuestro caso se ha\n",
    "suprimido el número indicador del lado del transformador, por lo que no podemos saberlo. Existe sin embargo un segundo\n",
    "método, que es observar las magnitudes medidas. En el caso del ensayo de vacío (subíndice 0) la tensión $\\sf U_0 = U_{1n} = 10000\\, V$,\n",
    "por lo que está realizado desde el primario, y además es normalizado. En el caso del ensayo de cortocircuito (subíndice cc) la\n",
    "tensión de cortocircuito $\\sf U_{cc} > U_{2n}$ , por lo que no puede estar realizado desde el secundario, sino desde el primario. La corriente\n",
    "nominal primaria es:\n"
   ]
  },
  {
   "cell_type": "code",
   "execution_count": 3,
   "metadata": {
    "collapsed": false
   },
   "outputs": [
    {
     "name": "stdout",
     "output_type": "stream",
     "text": [
      "14.4337567297\n"
     ]
    }
   ],
   "source": [
    "S_n = 250.0e3\n",
    "U_1_n = 10000.0\n",
    "\n",
    "I_1_n = S_n/(sqrt(3)*U_1_n)\n",
    "\n",
    "print(I_1_n)"
   ]
  },
  {
   "cell_type": "markdown",
   "metadata": {},
   "source": [
    "Por lo tanto $\\sf I_{cc} = I_{1n}$,  el ensayo de vacío es normalizado y además está realizado desde el primario\n"
   ]
  },
  {
   "cell_type": "markdown",
   "metadata": {},
   "source": [
    "### 2. Parámetros del circuito equivalente aproximado referido al primario (fase-fase)\n"
   ]
  },
  {
   "cell_type": "code",
   "execution_count": 19,
   "metadata": {
    "collapsed": false
   },
   "outputs": [
    {
     "name": "stdout",
     "output_type": "stream",
     "text": [
      "R_fe = 100000.000\n",
      "X_mu = 9667.365\n"
     ]
    }
   ],
   "source": [
    "P_1_0 = 1000.0\n",
    "I_1_0 = 0.6\n",
    "U_1_0 = 10.0e3\n",
    "\n",
    "R_fe = U_1_0**2/P_1_0\n",
    "print('R_fe = {:2.3f}'.format(R_fe)) \n",
    "\n",
    "S_1_0 = sqrt(3.0)*I_1_0*U_1_0\n",
    "Q_1_0 = S_1_0*sin(arccos(P_1_0/(S_1_0)))\n",
    "\n",
    "X_mu = U_1_0**2/Q_1_0\n",
    "print('X_mu = {:2.3f}'.format(X_mu))"
   ]
  },
  {
   "cell_type": "code",
   "execution_count": 22,
   "metadata": {
    "collapsed": false
   },
   "outputs": [
    {
     "name": "stdout",
     "output_type": "stream",
     "text": [
      "R_cc = 6.667\n",
      "X_cc = 34.002\n"
     ]
    }
   ],
   "source": [
    "P_1_cc = 4164.5\n",
    "I_1_cc = 14.43\n",
    "U_1_cc = 866.0\n",
    "\n",
    "R_cc = P_1_cc/(3.0*I_1_cc**2)\n",
    "print('R_cc = {:2.3f}'.format(R_cc)) \n",
    "\n",
    "S_1_cc = sqrt(3.0)*I_1_cc*U_1_cc\n",
    "Q_1_cc = S_1_cc*sin(arccos(P_1_cc/(S_1_cc)))\n",
    "\n",
    "X_cc = Q_1_cc/(3.0*I_1_cc**2)\n",
    "print('X_cc = {:2.3f}'.format(X_cc))\n"
   ]
  },
  {
   "cell_type": "markdown",
   "metadata": {},
   "source": [
    "### 3. Caída de tensión unitaria a plena carga y factor de potencia 0.8 inductivo\n"
   ]
  },
  {
   "cell_type": "code",
   "execution_count": 66,
   "metadata": {
    "collapsed": false
   },
   "outputs": [
    {
     "data": {
      "text/plain": [
       "-0.037659281900009681"
      ]
     },
     "execution_count": 66,
     "metadata": {},
     "output_type": "execute_result"
    }
   ],
   "source": [
    "e_cc = U_1_cc/U_1_n\n",
    "phi_cc = arctan(X_cc/R_cc)\n",
    "\n",
    "C = 1.0\n",
    "phi_c = -arccos(0.8)\n",
    "e_c = C*e_cc*cos(phi_cc - phi_c)\n",
    "e_c"
   ]
  },
  {
   "cell_type": "code",
   "execution_count": 68,
   "metadata": {
    "collapsed": true
   },
   "outputs": [],
   "source": [
    "C = 1.0\n",
    "phi_c = arccos(0.8)\n",
    "Ip2 = C*I_1_n*exp(1j*phi_c)\n",
    "Z_cc = R_cc + 1j*X_cc\n",
    "Up2_fase = U_1_n/sqrt(3)\n",
    "U_1_fase = Up2_fase + Ip2*Z_cc"
   ]
  },
  {
   "cell_type": "code",
   "execution_count": 69,
   "metadata": {
    "collapsed": false
   },
   "outputs": [
    {
     "data": {
      "text/plain": [
       "-0.034512924454251311"
      ]
     },
     "execution_count": 69,
     "metadata": {},
     "output_type": "execute_result"
    }
   ],
   "source": [
    "e_c = (abs(U_1_fase)-abs(Up2_fase))/abs(Up2_fase)\n",
    "e_c"
   ]
  },
  {
   "cell_type": "code",
   "execution_count": 39,
   "metadata": {
    "collapsed": false
   },
   "outputs": [
    {
     "data": {
      "text/plain": [
       "(11.547005383792516+8.6602540378443837j)"
      ]
     },
     "execution_count": 39,
     "metadata": {},
     "output_type": "execute_result"
    }
   ],
   "source": [
    "Ip2"
   ]
  },
  {
   "cell_type": "code",
   "execution_count": 31,
   "metadata": {
    "collapsed": false
   },
   "outputs": [
    {
     "data": {
      "text/plain": [
       "(6.66666986833307+34.00161727704122j)"
      ]
     },
     "execution_count": 31,
     "metadata": {},
     "output_type": "execute_result"
    }
   ],
   "source": [
    "Z_cc\n"
   ]
  },
  {
   "cell_type": "code",
   "execution_count": 32,
   "metadata": {
    "collapsed": false
   },
   "outputs": [
    {
     "data": {
      "text/plain": [
       "10000.0"
      ]
     },
     "execution_count": 32,
     "metadata": {},
     "output_type": "execute_result"
    }
   ],
   "source": [
    "U_1_n"
   ]
  },
  {
   "cell_type": "code",
   "execution_count": 49,
   "metadata": {
    "collapsed": false
   },
   "outputs": [
    {
     "data": {
      "text/plain": [
       "(11.547005383792516+8.6602540378443837j)"
      ]
     },
     "execution_count": 49,
     "metadata": {},
     "output_type": "execute_result"
    }
   ],
   "source": [
    "Ip2\n"
   ]
  },
  {
   "cell_type": "code",
   "execution_count": null,
   "metadata": {
    "collapsed": true
   },
   "outputs": [],
   "source": []
  }
 ],
 "metadata": {
  "kernelspec": {
   "display_name": "Python 3",
   "language": "python",
   "name": "python3"
  },
  "language_info": {
   "codemirror_mode": {
    "name": "ipython",
    "version": 3
   },
   "file_extension": ".py",
   "mimetype": "text/x-python",
   "name": "python",
   "nbconvert_exporter": "python",
   "pygments_lexer": "ipython3",
   "version": "3.4.3"
  }
 },
 "nbformat": 4,
 "nbformat_minor": 0
}
