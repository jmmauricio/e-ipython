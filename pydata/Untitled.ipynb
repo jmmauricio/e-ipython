{
 "cells": [
  {
   "cell_type": "code",
   "execution_count": null,
   "metadata": {
    "collapsed": true
   },
   "outputs": [],
   "source": [
    "# Es McKinney"
   ]
  },
  {
   "cell_type": "code",
   "execution_count": null,
   "metadata": {
    "collapsed": false
   },
   "outputs": [],
   "source": [
    "import numpy as np\n",
    "%matplotlib inline\n",
    "import matplotlib\n",
    "matplotlib.style.use('ggplot')\n",
    "import matplotlib.pyplot as plt\n",
    "import pandas as pd"
   ]
  },
  {
   "cell_type": "raw",
   "metadata": {},
   "source": []
  },
  {
   "cell_type": "code",
   "execution_count": null,
   "metadata": {
    "collapsed": false
   },
   "outputs": [],
   "source": [
    "s = pd.Series([1,2,3,4], index=['a','b','c','d'])\n",
    "s"
   ]
  },
  {
   "cell_type": "code",
   "execution_count": null,
   "metadata": {
    "collapsed": false
   },
   "outputs": [],
   "source": [
    "month = 'agosto'\n",
    "year  = 2015\n",
    "path  = '/home/jmmauricio/Documents/private/REE/almacena/bigdata/'\n",
    "df_Pb = pd.read_hdf('{:s}{:s}_{:d}_reduced.h5'.format(path,month,year),'df_Pb')"
   ]
  },
  {
   "cell_type": "code",
   "execution_count": null,
   "metadata": {
    "collapsed": false
   },
   "outputs": [],
   "source": [
    "df_Pb.plot()"
   ]
  },
  {
   "cell_type": "code",
   "execution_count": null,
   "metadata": {
    "collapsed": false
   },
   "outputs": [],
   "source": [
    "df_Pn"
   ]
  },
  {
   "cell_type": "code",
   "execution_count": null,
   "metadata": {
    "collapsed": true
   },
   "outputs": [],
   "source": [
    "import numpy as np\n",
    "\n",
    "from bokeh.plotting import figure, show, output_file\n",
    "\n",
    "N = 10000\n",
    "\n",
    "x = np.random.normal(0, np.pi, N)\n",
    "y = np.sin(x) + np.random.normal(0, 0.2, N)\n",
    "\n",
    "output_file(\"scatter10k.html\", title=\"scatter 10k points (no WebGL)\")\n",
    "\n",
    "p = figure(webgl=False)\n",
    "p.line(df_Pn.time_Pn[0::100],df_Pn.Pn[0::100], alpha=0.1)\n",
    "show(p)"
   ]
  },
  {
   "cell_type": "code",
   "execution_count": null,
   "metadata": {
    "collapsed": false
   },
   "outputs": [],
   "source": [
    "df_Pb.T\n"
   ]
  },
  {
   "cell_type": "code",
   "execution_count": null,
   "metadata": {
    "collapsed": false
   },
   "outputs": [],
   "source": [
    "df_Pn.time_Pn[0::100]"
   ]
  },
  {
   "cell_type": "code",
   "execution_count": null,
   "metadata": {
    "collapsed": false
   },
   "outputs": [],
   "source": [
    "import time\n",
    "from random import shuffle\n",
    "from bokeh.plotting import figure, output_server, cursession, show\n",
    "\n",
    "# prepare output to server\n",
    "output_server(\"animated_line\")\n",
    "\n",
    "p = figure(plot_width=400, plot_height=400)\n",
    "p.line([1, 2, 3, 4, 5], [6, 7, 2, 4, 5], name='ex_line')\n",
    "show(p)\n",
    "\n",
    "# create some simple animation..\n",
    "# first get our figure example data source\n",
    "renderer = p.select(dict(name=\"ex_line\"))\n",
    "ds = renderer[0].data_source\n",
    "\n",
    "while True:\n",
    "    # Update y data of the source object\n",
    "    shuffle(ds.data[\"y\"])\n",
    "\n",
    "    # store the updated source on the server\n",
    "    cursession().store_objects(ds)\n",
    "    time.sleep(0.5)"
   ]
  },
  {
   "cell_type": "code",
   "execution_count": null,
   "metadata": {
    "collapsed": true
   },
   "outputs": [],
   "source": []
  }
 ],
 "metadata": {
  "kernelspec": {
   "display_name": "Python 3",
   "language": "python",
   "name": "python3"
  },
  "language_info": {
   "codemirror_mode": {
    "name": "ipython",
    "version": 3
   },
   "file_extension": ".py",
   "mimetype": "text/x-python",
   "name": "python",
   "nbconvert_exporter": "python",
   "pygments_lexer": "ipython3",
   "version": "3.4.4"
  }
 },
 "nbformat": 4,
 "nbformat_minor": 0
}
