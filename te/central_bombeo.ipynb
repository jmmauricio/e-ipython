{
 "metadata": {
  "name": "",
  "signature": "sha256:39a55754eae1eb8e6ff71ca872af0f3b5e1a6cfc9eabb78e335778c5d76c9982"
 },
 "nbformat": 3,
 "nbformat_minor": 0,
 "worksheets": [
  {
   "cells": [
    {
     "cell_type": "code",
     "collapsed": false,
     "input": [
      "rend_ciclo = 0.8\n",
      "cap_trubinada = 0.1\n",
      "\n"
     ],
     "language": "python",
     "metadata": {},
     "outputs": [],
     "prompt_number": 1
    },
    {
     "cell_type": "markdown",
     "metadata": {},
     "source": [
      "Si turbinara el 100% cada d\u00eda perder\u00eda el 20% por d\u00eda de agua, como s\u00f3lo turbina 10 %, por d\u00eda pierde 2 %- Por lo tanto puede estar de esta manera:"
     ]
    },
    {
     "cell_type": "code",
     "collapsed": false,
     "input": [
      "dias = 100/(100*(1-rend_ciclo)*cap_trubinada)\n",
      "print('d\u00edas {:d}'.format(int(dias)))"
     ],
     "language": "python",
     "metadata": {},
     "outputs": [
      {
       "output_type": "stream",
       "stream": "stdout",
       "text": [
        "d\u00edas 50\n"
       ]
      }
     ],
     "prompt_number": 6
    },
    {
     "cell_type": "code",
     "collapsed": false,
     "input": [],
     "language": "python",
     "metadata": {},
     "outputs": []
    }
   ],
   "metadata": {}
  }
 ]
}