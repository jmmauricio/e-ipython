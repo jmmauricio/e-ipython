{
 "metadata": {
  "name": "",
  "signature": "sha256:d58cc58234d932ff6f4e0e3b4992e5479b079b0cd4693c220cdade89567dfb3b"
 },
 "nbformat": 3,
 "nbformat_minor": 0,
 "worksheets": [
  {
   "cells": [
    {
     "cell_type": "code",
     "collapsed": false,
     "input": [
      "P_1_nom = 1000.0  # MW\n",
      "Coste_anual_fijo_1 = 1.0e6 # \u20ac\n",
      "Coste_variable_1 = 14.0    # \u20ac/MWh\n",
      "\n",
      "\n",
      "P_2_nom = 1000.0 # MW\n",
      "Coste_anual_fijo_2 = 3.0e6 # \u20ac\n",
      "Coste_variable_2 = 13.0    # \u20ac/MWh"
     ],
     "language": "python",
     "metadata": {},
     "outputs": [],
     "prompt_number": 6
    },
    {
     "cell_type": "markdown",
     "metadata": {},
     "source": [
      "\n",
      "\n",
      "Coste_1 = Coste_anual_fijo_1 + Coste_variable_1*P_1_nom*H \n",
      "\n",
      "Coste_2 = Coste_anual_fijo_2 + Coste_variable_2*P_2_nom*H\n"
     ]
    },
    {
     "cell_type": "code",
     "collapsed": false,
     "input": [
      "H = (Coste_anual_fijo_1 - Coste_anual_fijo_2)/(Coste_variable_2*P_2_nom - Coste_variable_1*P_1_nom)\n",
      "\n",
      "E = H * P_1_nom\n",
      "print(E)"
     ],
     "language": "python",
     "metadata": {},
     "outputs": [
      {
       "output_type": "stream",
       "stream": "stdout",
       "text": [
        "2000000.0\n"
       ]
      }
     ],
     "prompt_number": 11
    },
    {
     "cell_type": "code",
     "collapsed": false,
     "input": [
      "H"
     ],
     "language": "python",
     "metadata": {},
     "outputs": [
      {
       "metadata": {},
       "output_type": "pyout",
       "prompt_number": 10,
       "text": [
        "2000.0"
       ]
      }
     ],
     "prompt_number": 10
    },
    {
     "cell_type": "code",
     "collapsed": false,
     "input": [],
     "language": "python",
     "metadata": {},
     "outputs": []
    }
   ],
   "metadata": {}
  }
 ]
}