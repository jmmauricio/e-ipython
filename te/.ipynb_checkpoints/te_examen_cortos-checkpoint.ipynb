{
 "metadata": {
  "name": "",
  "signature": "sha256:9ca5ea6d4655dc76d36de16b1b76561f67028437536c3e0049e69a982416e816"
 },
 "nbformat": 3,
 "nbformat_minor": 0,
 "worksheets": [
  {
   "cells": [
    {
     "cell_type": "code",
     "collapsed": false,
     "input": [
      "import numpy as np"
     ],
     "language": "python",
     "metadata": {},
     "outputs": [],
     "prompt_number": 1
    },
    {
     "cell_type": "markdown",
     "metadata": {},
     "source": [
      "## Datos del problema"
     ]
    },
    {
     "cell_type": "markdown",
     "metadata": {},
     "source": [
      "<img src = './svg/problema_corto.svg' width='600'/>"
     ]
    },
    {
     "cell_type": "markdown",
     "metadata": {},
     "source": [
      "### Voltajes"
     ]
    },
    {
     "cell_type": "code",
     "collapsed": false,
     "input": [
      "U_at_n = 66.0e3 # tensi\u00f3n del lado de alta nominal V\n",
      "U_mt_n = 20.0e3 # tensi\u00f3n del lado de media nominal V\n",
      "U_bt_n = 400.0  # tensi\u00f3n del lado de baja nominal V"
     ],
     "language": "python",
     "metadata": {},
     "outputs": [],
     "prompt_number": 2
    },
    {
     "cell_type": "markdown",
     "metadata": {},
     "source": [
      "### Datos de la red "
     ]
    },
    {
     "cell_type": "code",
     "collapsed": false,
     "input": [
      "# Potencia de corto de la red \n",
      "S_at_cc = 2000.0e6"
     ],
     "language": "python",
     "metadata": {},
     "outputs": [],
     "prompt_number": 3
    },
    {
     "cell_type": "markdown",
     "metadata": {},
     "source": [
      "### Transformador de subestaci\u00f3n (66/20 kV)"
     ]
    },
    {
     "cell_type": "code",
     "collapsed": false,
     "input": [
      "# Transformador de la subestaci\u00f3n (66/20 kV)\n",
      "S_t_n = 20.0e6\n",
      "epsilon_cc = 0.1"
     ],
     "language": "python",
     "metadata": {},
     "outputs": [],
     "prompt_number": 4
    },
    {
     "cell_type": "markdown",
     "metadata": {},
     "source": [
      "### L\u00edneas"
     ]
    },
    {
     "cell_type": "code",
     "collapsed": false,
     "input": [
      "# Reasistencia y reactancia de las l\u00edneas:\n",
      "R_km = 0.15 # \u03a9/km\n",
      "X_km = 0.15 # \u03a9/km\n",
      "Long = 0.2  # km"
     ],
     "language": "python",
     "metadata": {},
     "outputs": [],
     "prompt_number": 5
    },
    {
     "cell_type": "markdown",
     "metadata": {},
     "source": [
      "### Transformador del centro de transformaci\u00f3n (20/0.4 kV)"
     ]
    },
    {
     "cell_type": "code",
     "collapsed": false,
     "input": [
      "# Transformador del centro de transformaci\u00f3n (20/0.4 kV)\n",
      "S_t_ct_n = 400.0e3\n",
      "epsilon_x_ct = 0.04"
     ],
     "language": "python",
     "metadata": {},
     "outputs": [],
     "prompt_number": 6
    },
    {
     "cell_type": "markdown",
     "metadata": {},
     "source": [
      "## C\u00e1lculo de impedancias"
     ]
    },
    {
     "cell_type": "markdown",
     "metadata": {},
     "source": [
      "### Impedancia equivalente de la red "
     ]
    },
    {
     "cell_type": "markdown",
     "metadata": {},
     "source": [
      "<img src = './svg/eq_circ_zred.svg' width='600'/>\n",
      "\n",
      "$$\\sf \\underline Z_{red} = \\frac{U^2}{S_{cc}} $$"
     ]
    },
    {
     "cell_type": "code",
     "collapsed": false,
     "input": [
      "X_red = U_mt_n**2/S_at_cc\n",
      "Z_red = 1j*X_red"
     ],
     "language": "python",
     "metadata": {},
     "outputs": [],
     "prompt_number": 7
    },
    {
     "cell_type": "markdown",
     "metadata": {},
     "source": [
      "### Impedancia equivalente del transformador de subestaci\u00f3n"
     ]
    },
    {
     "cell_type": "markdown",
     "metadata": {},
     "source": [
      "<img src = './svg/eq_circ_zt.svg' width='600'/>\n",
      "\n",
      "$$\\sf X_{t} = \\frac{U^2}{S_{n}} \\epsilon_x $$"
     ]
    },
    {
     "cell_type": "code",
     "collapsed": false,
     "input": [
      "Z_t_b = U_mt_n**2/S_t_n\n",
      "\n",
      "X_t = Z_t_b*epsilon_cc\n",
      "Z_t = 1j*X_t"
     ],
     "language": "python",
     "metadata": {},
     "outputs": [],
     "prompt_number": 8
    },
    {
     "cell_type": "markdown",
     "metadata": {},
     "source": [
      "### Impedancia equivalente de las l\u00edneas\n",
      "\n",
      "\n",
      "<img src = './svg/eq_circ_zl1_zl2.svg' width='600'/>"
     ]
    },
    {
     "cell_type": "code",
     "collapsed": false,
     "input": [
      "Z_cable = Long*(R_km + 1j*X_km)   # \u03a9 "
     ],
     "language": "python",
     "metadata": {},
     "outputs": [],
     "prompt_number": 9
    },
    {
     "cell_type": "markdown",
     "metadata": {},
     "source": [
      "### Impedancia equivalente de transformador de centro de transformaci\u00f3n\n",
      "\n",
      "<img src = './svg/eq_circ_zct.svg' width='600'/>"
     ]
    },
    {
     "cell_type": "code",
     "collapsed": false,
     "input": [
      "# c\u00e1lculos para lado de 20 kV (U_mt_n)\n",
      "S_t_mt_bt = 400.0e3\n",
      "Z_t_mt_bt_pu = 0.04*1j # p.u.\n",
      "\n",
      "Z_t_mt_bt_base = U_mt_n**2/S_t_mt_bt # lado de 20kV\n",
      "\n",
      "Z_t_mt_bt = Z_t_mt_bt_pu*Z_t_mt_bt_base"
     ],
     "language": "python",
     "metadata": {},
     "outputs": [],
     "prompt_number": 10
    },
    {
     "cell_type": "markdown",
     "metadata": {},
     "source": [
      "## Potencia de cortocircuito en la barra de 20 kV de la subestaci\u00f3n\n",
      "\n",
      "<img src = './svg/eq_circ_corto_mt.svg' width='600'/>"
     ]
    },
    {
     "cell_type": "code",
     "collapsed": false,
     "input": [
      "Z_total = Z_red + Z_t\n",
      "\n",
      "I_mt_cc = (U_mt_n/np.sqrt(3.0))/(Z_total)\n",
      "\n",
      "S_mt_cc = np.sqrt(3)*U_mt_n*I_mt_cc\n",
      "\n",
      "print 'Potencia de cortocircuito en la barra de 20 kV de la subestaci\u00f3n: %2.2f MVA' %(np.abs(S_mt_cc)/1.0e6)"
     ],
     "language": "python",
     "metadata": {},
     "outputs": [
      {
       "output_type": "stream",
       "stream": "stdout",
       "text": [
        "Potencia de cortocircuito en la barra de 20 kV de la subestaci\u00f3n: 181.82 MVA\n"
       ]
      }
     ],
     "prompt_number": 11
    },
    {
     "cell_type": "markdown",
     "metadata": {},
     "source": [
      "## Intensidad de cortocircuito cuando aparece una falta en media tensi\u00f3n en el CT1\n",
      "\n",
      "<img src = './svg/eq_circ_corto_mt_ct.svg' width='600'/>"
     ]
    },
    {
     "cell_type": "code",
     "collapsed": false,
     "input": [
      "Z_total = Z_red + Z_t + 2.0*Z_cable\n",
      "\n",
      "I_mt_cc = (U_mt_n/np.sqrt(3.0))/Z_total\n",
      "\n",
      "print 'Intensidad de cortocircuito cuando aparece una falta en media tensi\u00f3n en el CT1: %2.3f kA' %(np.abs(I_mt_cc)/1.0e3)\n"
     ],
     "language": "python",
     "metadata": {},
     "outputs": [
      {
       "output_type": "stream",
       "stream": "stdout",
       "text": [
        "Intensidad de cortocircuito cuando aparece una falta en media tensi\u00f3n en el CT1: 5.107 kA\n"
       ]
      }
     ],
     "prompt_number": 12
    },
    {
     "cell_type": "markdown",
     "metadata": {},
     "source": [
      "## Intensidad de cortocircuito cuando aparece una falta en baja tensi\u00f3n en el CT1\n",
      "\n",
      "<img src = './svg/eq_circ_corto_bt_mt_ct.svg' width='600'/>"
     ]
    },
    {
     "cell_type": "code",
     "collapsed": false,
     "input": [
      "Z_total = Z_red + Z_t + 2.0*Z_cable + Z_t_mt_bt\n",
      "\n",
      "I_mt_cc = (U_mt_n/np.sqrt(3.0))/Z_total\n",
      "\n",
      "r_t = U_mt_n/U_bt_n\n",
      "\n",
      "I_bt_cc = r_t*I_mt_cc\n",
      "\n",
      "print 'Intensidad de cortocircuito cuando aparece una falta en baja tensi\u00f3n en el CT1: %2.3f kA' %(np.abs(I_bt_cc)/1.0e3)\n"
     ],
     "language": "python",
     "metadata": {},
     "outputs": [
      {
       "output_type": "stream",
       "stream": "stdout",
       "text": [
        "Intensidad de cortocircuito cuando aparece una falta en baja tensi\u00f3n en el CT1: 13.662 kA\n"
       ]
      }
     ],
     "prompt_number": 13
    },
    {
     "cell_type": "markdown",
     "metadata": {},
     "source": [
      "## Intensidad de cortocircuito cuando aparece una falta en baja tensi\u00f3n en el CT1\n",
      "\n",
      "<img src = './svg/eq_circ_corto_bt_mt_ct_2.svg' width='600'/>\n"
     ]
    },
    {
     "cell_type": "code",
     "collapsed": false,
     "input": [
      "I_bt_cc_abs = 2.0* np.abs(I_bt_cc)\n",
      "print 'Intensidad de cortocircuito en baja tensi\u00f3n en el CT1, con el seccionador cerrado: %2.3f kA'  %(I_bt_cc_abs)\n"
     ],
     "language": "python",
     "metadata": {},
     "outputs": [
      {
       "output_type": "stream",
       "stream": "stdout",
       "text": [
        "Intensidad de cortocircuito en baja tensi\u00f3n en el CT1, con el seccionador cerrado: 27323.696 kA\n"
       ]
      }
     ],
     "prompt_number": 14
    }
   ],
   "metadata": {}
  }
 ]
}