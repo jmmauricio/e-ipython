{
 "metadata": {
  "name": "",
  "signature": "sha256:2a94ac479a806528147ae8d934edff84cf126679fce296bf7c5ab902c3b98a42"
 },
 "nbformat": 3,
 "nbformat_minor": 0,
 "worksheets": [
  {
   "cells": [
    {
     "cell_type": "markdown",
     "metadata": {},
     "source": [
      "# Datos"
     ]
    },
    {
     "cell_type": "code",
     "collapsed": false,
     "input": [
      "R = 7.18\n",
      "X = 53.4\n",
      "B = 314.0e-6\n",
      "\n",
      "U = 220.0e3\n",
      "P = 300.0e6\n",
      "Q = 200.0e6"
     ],
     "language": "python",
     "metadata": {},
     "outputs": [],
     "prompt_number": 1
    },
    {
     "cell_type": "markdown",
     "metadata": {},
     "source": [
      "# Soluci\u00f3n"
     ]
    },
    {
     "cell_type": "markdown",
     "metadata": {},
     "source": [
      "## Intensidad al inicio de la l\u00ednea"
     ]
    },
    {
     "cell_type": "code",
     "collapsed": false,
     "input": [
      "import numpy as np\n",
      "\n",
      "S_1 = P + 1j*Q\n",
      "U_1 = U\n",
      "I_1 = np.conj(S_1/(np.sqrt(3.0)*U_1))\n",
      "\n",
      "print('Intensidad al inicio de la l\u00ednea: {:2.2f} A'.format(np.abs(I_1)))"
     ],
     "language": "python",
     "metadata": {},
     "outputs": [
      {
       "output_type": "stream",
       "stream": "stdout",
       "text": [
        "Intensidad al inicio de la l\u00ednea: 946.21 A\n"
       ]
      }
     ],
     "prompt_number": 6
    },
    {
     "cell_type": "markdown",
     "metadata": {},
     "source": [
      "## Intensidad transversal a la l\u00ednea"
     ]
    },
    {
     "cell_type": "code",
     "collapsed": false,
     "input": [
      "I_1_shunt = U_1/np.sqrt(3)*(1j*B/2)\n",
      "I_1_2 = I_1 - I_1_shunt\n",
      "print('Intensidad transversal a la l\u00ednea: {:2.2f} A'.format(np.abs(I_1_2)))"
     ],
     "language": "python",
     "metadata": {},
     "outputs": [
      {
       "output_type": "stream",
       "stream": "stdout",
       "text": [
        "Intensidad transversal a la l\u00ednea: 957.42 A\n"
       ]
      }
     ],
     "prompt_number": 11
    },
    {
     "cell_type": "markdown",
     "metadata": {},
     "source": [
      "## Intensidad al final de la l\u00ednea"
     ]
    },
    {
     "cell_type": "code",
     "collapsed": false,
     "input": [
      "U_1_f = U_1/np.sqrt(3)\n",
      "U_2_f = U_1_f - (R+1j*X)*I_1_2\n",
      "I_2_shunt = U_2_f*(1j*B/2)\n",
      "I_2 = I_1_2 - I_2_shunt\n",
      "print('Intensidad al final de la l\u00ednea: {:2.2f} A'.format(np.abs(I_2)))"
     ],
     "language": "python",
     "metadata": {},
     "outputs": [
      {
       "output_type": "stream",
       "stream": "stdout",
       "text": [
        "Intensidad al final de la l\u00ednea: 960.86 A\n"
       ]
      }
     ],
     "prompt_number": 12
    },
    {
     "cell_type": "markdown",
     "metadata": {},
     "source": [
      "## P\u00e9rdidas de potencia activa"
     ]
    },
    {
     "cell_type": "code",
     "collapsed": false,
     "input": [
      "P_joule = 3.0*R*np.abs(I_1_2)**2\n",
      "\n",
      "print('P\u00e9rdidas de potencia activa: {:2.2f} MW'.format(np.abs(P_joule/1.0e6)))"
     ],
     "language": "python",
     "metadata": {},
     "outputs": [
      {
       "output_type": "stream",
       "stream": "stdout",
       "text": [
        "P\u00e9rdidas de potencia activa: 19.74 MW\n"
       ]
      }
     ],
     "prompt_number": 15
    },
    {
     "cell_type": "markdown",
     "metadata": {},
     "source": [
      "## Potencia al final de la l\u00ednea"
     ]
    },
    {
     "cell_type": "code",
     "collapsed": false,
     "input": [
      "S_2 = 3.0*U_2_f*np.conj(I_2)\n",
      "print('Potencia al final de la l\u00ednea {:2.2f} MW'.format(np.abs(S_2.real/1.0e6)))"
     ],
     "language": "python",
     "metadata": {},
     "outputs": [
      {
       "output_type": "stream",
       "stream": "stdout",
       "text": [
        "Potencia al final de la l\u00ednea 280.26 MW\n"
       ]
      }
     ],
     "prompt_number": 16
    },
    {
     "cell_type": "code",
     "collapsed": false,
     "input": [],
     "language": "python",
     "metadata": {},
     "outputs": []
    }
   ],
   "metadata": {}
  }
 ]
}