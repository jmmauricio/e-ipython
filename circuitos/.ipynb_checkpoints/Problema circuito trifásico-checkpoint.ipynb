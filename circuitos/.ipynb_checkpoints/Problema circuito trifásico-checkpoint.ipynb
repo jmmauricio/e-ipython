{
 "cells": [
  {
   "cell_type": "markdown",
   "metadata": {},
   "source": [
    "## Problema circuito trifásico\n",
    "\n",
    "1) Por el método de mallas calcular las corrientes que atraviesan las cargas $Z_1$, $Z_2$ y $Z_3$\n",
    "\n",
    "Primero se carga el paquete 'numpy' (numerical python) para usar la librería de resolución de sistemas de ecuaciones.\n",
    "El comando `np.linalg.solve(A,b)` es equivalente en Matlab a (`A\\b`)."
   ]
  },
  {
   "cell_type": "code",
   "execution_count": 1,
   "metadata": {},
   "outputs": [
    {
     "name": "stdout",
     "output_type": "stream",
     "text": [
      "zmat=\n",
      "[[ 10.+10.j  -0.-10.j   0. +0.j]\n",
      " [ -0.-10.j  10. +0.j   0.+10.j]\n",
      " [  0. +0.j   0.+10.j  10. +0.j]]\n",
      "----\n",
      "u=\n",
      "[ 230.94010768    0.            0.        ]\n",
      "----\n",
      "i=\n",
      "[ 10.65877420-7.10584947j   3.55292473+5.3293871j    5.32938710-3.55292473j]\n"
     ]
    }
   ],
   "source": [
    "import numpy as np\n",
    "\n",
    "z1 = 10j\n",
    "R = 10.\n",
    "\n",
    "# matriz de impedancias de mallas\n",
    "zmat = np.array([[R+z1, -z1, 0], [-z1, R, z1], [0, z1, R] ])\n",
    "print('zmat=')\n",
    "print(zmat)\n",
    "\n",
    "# vector de tensiones\n",
    "u = np.array([400./np.sqrt(3), 0, 0])\n",
    "print('----')\n",
    "print('u=')\n",
    "print(u)\n",
    "\n",
    "# solución del sistema de ecuaciones [zmat]·[i] = [u]\n",
    "#\n",
    "i = np.linalg.solve(zmat,u)\n",
    "\n",
    "print('----')\n",
    "print('i=')\n",
    "print(i)\n"
   ]
  },
  {
   "cell_type": "markdown",
   "metadata": {},
   "source": [
    "2) Determinar las potencias absorbidas por cada carga"
   ]
  },
  {
   "cell_type": "code",
   "execution_count": 2,
   "metadata": {},
   "outputs": [
    {
     "name": "stdout",
     "output_type": "stream",
     "text": [
      "S3 = 0.0+1230.8j\n",
      "S2 = 0.0-2461.5j\n",
      "S1 = 0.0+6153.8j\n"
     ]
    }
   ],
   "source": [
    "S3 = 3*10j*abs(i[2])**2\n",
    "S2 = 3*(-10j)*abs(i[1]-i[2])**2\n",
    "S1 = 3*(10j)*abs(i[0]-i[1])**2\n",
    "\n",
    "print('S3 = {:1.1f}'.format(S3))\n",
    "print('S2 = {:1.1f}'.format(S2))\n",
    "print('S1 = {:1.1f}'.format(S1))"
   ]
  },
  {
   "cell_type": "markdown",
   "metadata": {},
   "source": [
    "3) Determinar las pérdidas totales en las líneas"
   ]
  },
  {
   "cell_type": "code",
   "execution_count": 3,
   "metadata": {},
   "outputs": [
    {
     "name": "stdout",
     "output_type": "stream",
     "text": [
      "Perd = 7384.6 W\n"
     ]
    }
   ],
   "source": [
    "Perd = 3*R*(abs(i[0])**2 + abs(i[1])**2 + abs(i[2])**2)\n",
    "print('Perd = {:1.1f} W'.format(Perd))"
   ]
  },
  {
   "cell_type": "markdown",
   "metadata": {},
   "source": [
    "4) Potencia generada por la fuente trifásica"
   ]
  },
  {
   "cell_type": "code",
   "execution_count": 4,
   "metadata": {},
   "outputs": [
    {
     "name": "stdout",
     "output_type": "stream",
     "text": [
      "Sg = 7384.6+4923.1j VA\n",
      "Pg = 7384.6 W\n",
      "Qg = 4923.1 var\n"
     ]
    }
   ],
   "source": [
    "Sg = 3*400/np.sqrt(3)*np.conj(i[0])\n",
    "\n",
    "print('Sg = {:1.1f} VA'.format(Sg))\n",
    "print('Pg = {:1.1f} W'.format(Sg.real))\n",
    "print('Qg = {:1.1f} var'.format(Sg.imag))"
   ]
  },
  {
   "cell_type": "markdown",
   "metadata": {},
   "source": [
    "Se comprueba que se cumple el balance de potencias:\n",
    "\n",
    "$$ P_g = P_1+P_2+P_3+ Perd $$\n",
    "\n",
    "$$ Q_g = Q_1+Q_2+Q_3 $$ "
   ]
  },
  {
   "cell_type": "code",
   "execution_count": null,
   "metadata": {},
   "outputs": [],
   "source": []
  },
  {
   "cell_type": "code",
   "execution_count": null,
   "metadata": {},
   "outputs": [],
   "source": []
  },
  {
   "cell_type": "code",
   "execution_count": null,
   "metadata": {},
   "outputs": [],
   "source": []
  }
 ],
 "metadata": {
  "anaconda-cloud": {},
  "kernelspec": {
   "display_name": "Python [conda root]",
   "language": "python",
   "name": "conda-root-py"
  },
  "language_info": {
   "codemirror_mode": {
    "name": "ipython",
    "version": 3
   },
   "file_extension": ".py",
   "mimetype": "text/x-python",
   "name": "python",
   "nbconvert_exporter": "python",
   "pygments_lexer": "ipython3",
   "version": "3.5.2"
  }
 },
 "nbformat": 4,
 "nbformat_minor": 1
}
