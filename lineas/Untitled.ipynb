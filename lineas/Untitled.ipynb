{
 "cells": [
  {
   "cell_type": "markdown",
   "metadata": {},
   "source": [
    "Este es un texto:\n",
    "\n",
    "$$ V_a = 3 \\frac{a}{b}$$"
   ]
  },
  {
   "cell_type": "code",
   "execution_count": 17,
   "metadata": {
    "collapsed": false
   },
   "outputs": [
    {
     "name": "stdout",
     "output_type": "stream",
     "text": [
      "4.16507968675\n"
     ]
    },
    {
     "data": {
      "text/plain": [
       "1.2566370614359173e-06"
      ]
     },
     "execution_count": 17,
     "metadata": {},
     "output_type": "execute_result"
    }
   ],
   "source": [
    "import numpy as np\n",
    "import scipy.constants as const\n",
    "\n",
    "\n",
    "np.sin(2.0)\n",
    "\n",
    "seccion = 54.5 # mm**2\n",
    "Radio = np.sqrt(seccion/np.pi)\n",
    "print(Radio)\n",
    "\n"
   ]
  },
  {
   "cell_type": "code",
   "execution_count": 23,
   "metadata": {
    "collapsed": false
   },
   "outputs": [
    {
     "name": "stdout",
     "output_type": "stream",
     "text": [
      "0.0941077928865\n"
     ]
    }
   ],
   "source": [
    "Radio =4.16507968675e-3  # m\n",
    "rho = 2.82e-8 # Ohm*m\n",
    "\n",
    "def R_calc(Radio):\n",
    "    seccion = np.pi*Radio**2 # m**2\n",
    "    R_m = rho/seccion\n",
    "    return R_m\n",
    "\n",
    "def X_calc(Radio):\n",
    "    RMG = Radio\n",
    "    DMG = (1.6*1.6*3.0)**(1.0/3.0)\n",
    "    L_m = const.mu_0/(4*np.pi)*(0.5+ 2*np.log(DMG/RMG))\n",
    "    F = 50.0\n",
    "    Omega = 2.0*np.pi*F\n",
    "    X_m = Omega*L_m\n",
    "    return X_m\n",
    "\n",
    "def Du_calc(Radio,Long):\n",
    "    R_m = R_calc(Radio)\n",
    "    X_m = X_calc(Radio)\n",
    "    Du = np.sqrt(3)*I/U*(R_m*np.cos(phi)+X_m*np.sin(phi))*Long\n",
    "    return Du\n",
    "\n",
    "\n",
    "R = R_calc(Radio)\n",
    "X = X_calc(Radio)\n",
    "\n",
    "I = 250.0\n",
    "U = 15.0e3\n",
    "fp = 0.85\n",
    "phi = np.arccos(fp)\n",
    "\n",
    "Du = Du_calc(Radio,5000.0)\n",
    "print(Du)"
   ]
  },
  {
   "cell_type": "code",
   "execution_count": null,
   "metadata": {
    "collapsed": true
   },
   "outputs": [],
   "source": []
  }
 ],
 "metadata": {
  "kernelspec": {
   "display_name": "Python 3",
   "language": "python",
   "name": "python3"
  },
  "language_info": {
   "codemirror_mode": {
    "name": "ipython",
    "version": 3
   },
   "file_extension": ".py",
   "mimetype": "text/x-python",
   "name": "python",
   "nbconvert_exporter": "python",
   "pygments_lexer": "ipython3",
   "version": "3.4.3"
  }
 },
 "nbformat": 4,
 "nbformat_minor": 0
}
