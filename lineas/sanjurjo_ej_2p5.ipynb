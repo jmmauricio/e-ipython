{
 "cells": [
  {
   "cell_type": "markdown",
   "metadata": {},
   "source": [
    "## Libro Sanjurjo, ejemplo 2.5"
   ]
  },
  {
   "cell_type": "markdown",
   "metadata": {},
   "source": [
    "Una línea atrifásica de alta tensión tiene los hilos conductores situados en triágulo isóceles de lados 1,6 m, 1,6 m y 3,0 m. El tipo de cable es LA-56. Obtener la reactancia por unidad de longitud de 50 Hz, de dicha línea."
   ]
  },
  {
   "cell_type": "code",
   "execution_count": 1,
   "metadata": {
    "collapsed": true
   },
   "outputs": [],
   "source": [
    "import numpy as np\n",
    "import scipy.constants as const "
   ]
  },
  {
   "cell_type": "code",
   "execution_count": 2,
   "metadata": {
    "collapsed": false
   },
   "outputs": [],
   "source": [
    "D = (1.6*1.6*3.0)**(1.0/3.0)\n",
    "R = 4.16e-3\n",
    "mu_0 = 4.0*np.pi*1.0e-7\n",
    "F = 50.0\n",
    "Omega = 2.0*np.pi*F\n",
    "L = const.mu_0/(4.0*np.pi)*(0.5+2.0*np.log(D/R))\n",
    "X = Omega*L\n",
    "\n",
    "C = np.pi*const.epsilon_0/(np.log(D/R))"
   ]
  },
  {
   "cell_type": "code",
   "execution_count": 3,
   "metadata": {
    "collapsed": false
   },
   "outputs": [
    {
     "data": {
      "text/plain": [
       "4.5143207252840627e-12"
      ]
     },
     "execution_count": 3,
     "metadata": {},
     "output_type": "execute_result"
    }
   ],
   "source": [
    "C"
   ]
  },
  {
   "cell_type": "code",
   "execution_count": null,
   "metadata": {
    "collapsed": false
   },
   "outputs": [],
   "source": []
  },
  {
   "cell_type": "code",
   "execution_count": null,
   "metadata": {
    "collapsed": false
   },
   "outputs": [],
   "source": []
  },
  {
   "cell_type": "code",
   "execution_count": 16,
   "metadata": {
    "collapsed": false
   },
   "outputs": [
    {
     "name": "stdout",
     "output_type": "stream",
     "text": [
      "0.281749951421\n"
     ]
    }
   ],
   "source": [
    "#fp = 0.85 # factor de potencia\n",
    "U = 20.0e3 # Tension nominal\n",
    "rho = 1.0/57.0 # resitividad del conductor\n",
    "Long = 10.0e3   # longitud de la linea\n",
    "DMG = (2.0*2.0*4.0)**(1.0/3.0)  # diametro medio geometrico\n",
    "P = 15.0e6\n",
    "Q = 2.0e6\n",
    "S = P + 1j*Q\n",
    "# S_aparente = sqrt(3)*U*I\n",
    "# S_aparente = abs(S)\n",
    "S_aparente = np.abs(S)\n",
    "I = S_aparente/(np.sqrt(3)*U)\n",
    "fp = P/(np.sqrt(P**2+Q**2))\n",
    "Radio = 2.84e-3\n",
    "\n",
    "\n",
    "def X_calc(Radio):\n",
    "    '''\n",
    "    Devuelve la reactancia por unidad de longitud (Ohms/m)\n",
    "    '''\n",
    "    L = const.mu_0/(4.0*np.pi)*(0.5+2.0*np.log(DMG/Radio))\n",
    "    X = Omega*L\n",
    "    return X\n",
    "\n",
    "def R_calc(Radio):\n",
    "    '''\n",
    "    Devuelve la resistenca por unidad de longitud (Ohms/m)\n",
    "    '''\n",
    "    R = rho/(np.pi*(Radio*1000.0)**2)\n",
    "    return R\n",
    "\n",
    "\n",
    "def Du_calc(Radio,I,fp):\n",
    "    '''\n",
    "    Devuelve la caida de tension en p.u.\n",
    "    '''\n",
    "    phi = np.arccos(fp)\n",
    "    R = R_calc(Radio)\n",
    "    X_l = X_calc(Radio)\n",
    "    Du = np.sqrt(3.0)*I/U*(R*np.cos(phi)+X_l*np.sin(phi))*Long\n",
    "    \n",
    "    return Du\n",
    "    \n",
    "print(Du_calc(Radio,I,fp))"
   ]
  },
  {
   "cell_type": "code",
   "execution_count": 6,
   "metadata": {
    "collapsed": true
   },
   "outputs": [],
   "source": [
    "import scipy"
   ]
  },
  {
   "cell_type": "code",
   "execution_count": 17,
   "metadata": {
    "collapsed": false
   },
   "outputs": [
    {
     "data": {
      "text/plain": [
       "array([ 0.006442])"
      ]
     },
     "execution_count": 17,
     "metadata": {},
     "output_type": "execute_result"
    }
   ],
   "source": [
    "import scipy.optimize as opt # optimization toolbox from scipy\n",
    "    \n",
    "def f(x): \n",
    "    # function example\n",
    "    Radio = x\n",
    "    return Du_calc(Radio,I,fp)-0.07\n",
    "\n",
    "opt.fsolve(f,[1.0e-3])"
   ]
  },
  {
   "cell_type": "code",
   "execution_count": 5,
   "metadata": {
    "collapsed": false
   },
   "outputs": [
    {
     "ename": "TypeError",
     "evalue": "Du_calc() missing 2 required positional arguments: 'I' and 'fp'",
     "output_type": "error",
     "traceback": [
      "\u001b[1;31m---------------------------------------------------------------------------\u001b[0m",
      "\u001b[1;31mTypeError\u001b[0m                                 Traceback (most recent call last)",
      "\u001b[1;32m<ipython-input-5-597284eb4705>\u001b[0m in \u001b[0;36m<module>\u001b[1;34m()\u001b[0m\n\u001b[0;32m      9\u001b[0m \u001b[0mx_0\u001b[0m \u001b[1;33m=\u001b[0m \u001b[1;33m[\u001b[0m\u001b[1;36m1.0e-3\u001b[0m\u001b[1;33m]\u001b[0m \u001b[1;31m# initial guess\u001b[0m\u001b[1;33m\u001b[0m\u001b[0m\n\u001b[0;32m     10\u001b[0m \u001b[1;33m\u001b[0m\u001b[0m\n\u001b[1;32m---> 11\u001b[1;33m \u001b[0mx\u001b[0m \u001b[1;33m=\u001b[0m \u001b[0mopt\u001b[0m\u001b[1;33m.\u001b[0m\u001b[0mnewton_krylov\u001b[0m\u001b[1;33m(\u001b[0m\u001b[0mf\u001b[0m\u001b[1;33m,\u001b[0m \u001b[0mx_0\u001b[0m\u001b[1;33m,\u001b[0m \u001b[0mf_tol\u001b[0m\u001b[1;33m=\u001b[0m\u001b[1;36m1e-14\u001b[0m\u001b[1;33m)\u001b[0m   \u001b[1;31m# solution using broyden1\u001b[0m\u001b[1;33m\u001b[0m\u001b[0m\n\u001b[0m\u001b[0;32m     12\u001b[0m \u001b[0mRadio\u001b[0m \u001b[1;33m=\u001b[0m \u001b[0mx\u001b[0m\u001b[1;33m\u001b[0m\u001b[0m\n\u001b[0;32m     13\u001b[0m \u001b[1;33m\u001b[0m\u001b[0m\n",
      "\u001b[1;32m/home/jmmauricio/bin/anaconda3/lib/python3.4/site-packages/scipy/optimize/nonlin.py\u001b[0m in \u001b[0;36mnewton_krylov\u001b[1;34m(F, xin, iter, rdiff, method, inner_maxiter, inner_M, outer_k, verbose, maxiter, f_tol, f_rtol, x_tol, x_rtol, tol_norm, line_search, callback, **kw)\u001b[0m\n",
      "\u001b[1;32m/home/jmmauricio/bin/anaconda3/lib/python3.4/site-packages/scipy/optimize/nonlin.py\u001b[0m in \u001b[0;36mnonlin_solve\u001b[1;34m(F, x0, jacobian, iter, verbose, maxiter, f_tol, f_rtol, x_tol, x_rtol, tol_norm, line_search, callback, full_output, raise_exception)\u001b[0m\n\u001b[0;32m    278\u001b[0m \u001b[1;33m\u001b[0m\u001b[0m\n\u001b[0;32m    279\u001b[0m     \u001b[0mdx\u001b[0m \u001b[1;33m=\u001b[0m \u001b[0mnp\u001b[0m\u001b[1;33m.\u001b[0m\u001b[0minf\u001b[0m\u001b[1;33m\u001b[0m\u001b[0m\n\u001b[1;32m--> 280\u001b[1;33m     \u001b[0mFx\u001b[0m \u001b[1;33m=\u001b[0m \u001b[0mfunc\u001b[0m\u001b[1;33m(\u001b[0m\u001b[0mx\u001b[0m\u001b[1;33m)\u001b[0m\u001b[1;33m\u001b[0m\u001b[0m\n\u001b[0m\u001b[0;32m    281\u001b[0m     \u001b[0mFx_norm\u001b[0m \u001b[1;33m=\u001b[0m \u001b[0mnorm\u001b[0m\u001b[1;33m(\u001b[0m\u001b[0mFx\u001b[0m\u001b[1;33m)\u001b[0m\u001b[1;33m\u001b[0m\u001b[0m\n\u001b[0;32m    282\u001b[0m \u001b[1;33m\u001b[0m\u001b[0m\n",
      "\u001b[1;32m/home/jmmauricio/bin/anaconda3/lib/python3.4/site-packages/scipy/optimize/nonlin.py\u001b[0m in \u001b[0;36m<lambda>\u001b[1;34m(z)\u001b[0m\n\u001b[0;32m    274\u001b[0m \u001b[1;33m\u001b[0m\u001b[0m\n\u001b[0;32m    275\u001b[0m     \u001b[0mx0\u001b[0m \u001b[1;33m=\u001b[0m \u001b[0m_as_inexact\u001b[0m\u001b[1;33m(\u001b[0m\u001b[0mx0\u001b[0m\u001b[1;33m)\u001b[0m\u001b[1;33m\u001b[0m\u001b[0m\n\u001b[1;32m--> 276\u001b[1;33m     \u001b[0mfunc\u001b[0m \u001b[1;33m=\u001b[0m \u001b[1;32mlambda\u001b[0m \u001b[0mz\u001b[0m\u001b[1;33m:\u001b[0m \u001b[0m_as_inexact\u001b[0m\u001b[1;33m(\u001b[0m\u001b[0mF\u001b[0m\u001b[1;33m(\u001b[0m\u001b[0m_array_like\u001b[0m\u001b[1;33m(\u001b[0m\u001b[0mz\u001b[0m\u001b[1;33m,\u001b[0m \u001b[0mx0\u001b[0m\u001b[1;33m)\u001b[0m\u001b[1;33m)\u001b[0m\u001b[1;33m)\u001b[0m\u001b[1;33m.\u001b[0m\u001b[0mflatten\u001b[0m\u001b[1;33m(\u001b[0m\u001b[1;33m)\u001b[0m\u001b[1;33m\u001b[0m\u001b[0m\n\u001b[0m\u001b[0;32m    277\u001b[0m     \u001b[0mx\u001b[0m \u001b[1;33m=\u001b[0m \u001b[0mx0\u001b[0m\u001b[1;33m.\u001b[0m\u001b[0mflatten\u001b[0m\u001b[1;33m(\u001b[0m\u001b[1;33m)\u001b[0m\u001b[1;33m\u001b[0m\u001b[0m\n\u001b[0;32m    278\u001b[0m \u001b[1;33m\u001b[0m\u001b[0m\n",
      "\u001b[1;32m<ipython-input-5-597284eb4705>\u001b[0m in \u001b[0;36mf\u001b[1;34m(x)\u001b[0m\n\u001b[0;32m      4\u001b[0m     \u001b[1;31m# function example\u001b[0m\u001b[1;33m\u001b[0m\u001b[1;33m\u001b[0m\u001b[0m\n\u001b[0;32m      5\u001b[0m     \u001b[0mRadio\u001b[0m \u001b[1;33m=\u001b[0m \u001b[0mx\u001b[0m\u001b[1;33m\u001b[0m\u001b[0m\n\u001b[1;32m----> 6\u001b[1;33m     \u001b[1;32mreturn\u001b[0m \u001b[1;33m(\u001b[0m\u001b[0mDu_calc\u001b[0m\u001b[1;33m(\u001b[0m\u001b[0mRadio\u001b[0m\u001b[1;33m)\u001b[0m\u001b[1;33m-\u001b[0m\u001b[1;36m0.07\u001b[0m\u001b[1;33m)\u001b[0m\u001b[1;33m\u001b[0m\u001b[0m\n\u001b[0m\u001b[0;32m      7\u001b[0m \u001b[1;33m\u001b[0m\u001b[0m\n\u001b[0;32m      8\u001b[0m \u001b[1;33m\u001b[0m\u001b[0m\n",
      "\u001b[1;31mTypeError\u001b[0m: Du_calc() missing 2 required positional arguments: 'I' and 'fp'"
     ]
    }
   ],
   "source": [
    "import scipy.optimize as opt # optimization toolbox from scipy\n",
    "\n",
    "def f(x): \n",
    "    # function example\n",
    "    Radio = x\n",
    "    return (Du_calc(Radio)-0.07)\n",
    "\n",
    "\n",
    "x_0 = [1.0e-3] # initial guess\n",
    "\n",
    "x = opt.newton_krylov(f, x_0, f_tol=1e-14)   # solution using broyden1\n",
    "Radio = x\n",
    "\n",
    "print(Radio)  # obtained solution"
   ]
  },
  {
   "cell_type": "code",
   "execution_count": null,
   "metadata": {
    "collapsed": false
   },
   "outputs": [],
   "source": [
    "print(Du_calc(Radio))"
   ]
  },
  {
   "cell_type": "code",
   "execution_count": 21,
   "metadata": {
    "collapsed": false
   },
   "outputs": [
    {
     "data": {
      "text/plain": [
       "0.092720124042898533"
      ]
     },
     "execution_count": 21,
     "metadata": {},
     "output_type": "execute_result"
    }
   ],
   "source": [
    "\n",
    "\n",
    "def catenaria(x):\n",
    "    '''\n",
    "    Devuelve la catenaria\n",
    "    '''\n",
    "    \n",
    "    T_0 = 407.25 # kg\n",
    "    p_m = 0.1888 # kg/m\n",
    "    \n",
    "    lam = T_0/p_m\n",
    "    y = lam * np.cosh(x/lam) \n",
    "    \n",
    "    return y\n",
    "\n",
    "catenaria(20)-catenaria(0)"
   ]
  },
  {
   "cell_type": "code",
   "execution_count": null,
   "metadata": {
    "collapsed": true
   },
   "outputs": [],
   "source": []
  }
 ],
 "metadata": {
  "kernelspec": {
   "display_name": "Python 3",
   "language": "python",
   "name": "python3"
  },
  "language_info": {
   "codemirror_mode": {
    "name": "ipython",
    "version": 3
   },
   "file_extension": ".py",
   "mimetype": "text/x-python",
   "name": "python",
   "nbconvert_exporter": "python",
   "pygments_lexer": "ipython3",
   "version": "3.4.3"
  }
 },
 "nbformat": 4,
 "nbformat_minor": 0
}
