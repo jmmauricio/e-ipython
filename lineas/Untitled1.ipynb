{
 "cells": [
  {
   "cell_type": "code",
   "execution_count": 36,
   "metadata": {
    "collapsed": false
   },
   "outputs": [
    {
     "name": "stdout",
     "output_type": "stream",
     "text": [
      "T_1 = 1379.8 kgf -> T_2 = 702.1 kgf\n"
     ]
    }
   ],
   "source": [
    "import numpy as np\n",
    "import scipy.optimize\n",
    "\n",
    "E = 8200.0\n",
    "alpha = 17.8e-6\n",
    "p = 0.548 # kgf/m\n",
    "\n",
    "s = 147.1 # mm2 \n",
    "t_1 = 9.38 # kgf/mm2\n",
    "T_1 = t_1 * s\n",
    "a = 275 # m\n",
    "\n",
    "q_1 = -15.0\n",
    "q_2 =  65.0\n",
    "\n",
    "def F(x):\n",
    "    \n",
    "    \n",
    "    T_2 = x\n",
    "    \n",
    "    L_1 = a*(1 + a**2*p**2/(24*T_1**2))\n",
    "    L_2 = a*(1 + a**2*p**2/(24*T_2**2))\n",
    "    \n",
    "    Dlm = (T_2 - T_1)/(s*E)\n",
    "    Dlq = L_1*(q_2 - q_1)*alpha\n",
    "    \n",
    "    Dl = L_2 - L_1\n",
    "    \n",
    "    return Dl - Dlm - Dlq \n",
    "\n",
    "T_2_0 = T_1\n",
    "x = scipy.optimize.broyden1(F, [T_1], f_tol=1e-8)\n",
    "\n",
    "T_2 = x \n",
    "print('T_1 = {:2.1f} kgf -> T_2 = {:2.1f} kgf'.format(T_1, T_2[0]) )\n"
   ]
  },
  {
   "cell_type": "code",
   "execution_count": 39,
   "metadata": {
    "collapsed": false
   },
   "outputs": [
    {
     "name": "stdout",
     "output_type": "stream",
     "text": [
      "flecha_1 = 3.8 m -> flecha_2 = 7.4 m\n"
     ]
    }
   ],
   "source": [
    "T_0 = T_1\n",
    "flecha_1 = p*a**2/(8*T_0)\n",
    "\n",
    "T_0 = T_2[0]\n",
    "flecha_2 = p*a**2/(8*T_0)\n",
    "\n",
    "print('flecha_1 = {:2.1f} m -> flecha_2 = {:2.1f} m'.format(flecha_1, flecha_2) )\n",
    "\n"
   ]
  },
  {
   "cell_type": "code",
   "execution_count": 38,
   "metadata": {
    "collapsed": false
   },
   "outputs": [
    {
     "data": {
      "text/plain": [
       "702.08765494518764"
      ]
     },
     "execution_count": 38,
     "metadata": {},
     "output_type": "execute_result"
    }
   ],
   "source": [
    "T_2[0]"
   ]
  },
  {
   "cell_type": "code",
   "execution_count": 42,
   "metadata": {
    "collapsed": true
   },
   "outputs": [],
   "source": [
    "import matplotlib.pyplot as plt\n",
    "%matplotlib inline"
   ]
  },
  {
   "cell_type": "code",
   "execution_count": 44,
   "metadata": {
    "collapsed": false
   },
   "outputs": [
    {
     "name": "stderr",
     "output_type": "stream",
     "text": [
      "/home/jmmauricio/bin/anaconda3/lib/python3.5/site-packages/matplotlib/figure.py:397: UserWarning: matplotlib is currently using a non-GUI backend, so cannot show the figure\n",
      "  \"matplotlib is currently using a non-GUI backend, \"\n"
     ]
    },
    {
     "data": {
      "image/png": "[encoded data removed]",
      "text/plain": [
       "<matplotlib.figure.Figure at 0x7f62b5600da0>"
      ]
     },
     "metadata": {},
     "output_type": "display_data"
    }
   ],
   "source": [
    "x = np.linspace(-a/2,a/2,100)\n",
    "\n",
    "T_0 = T_1\n",
    "y_1 = (T_0/p + p/2*x**2/T_0) \n",
    "\n",
    "T_0 = T_2\n",
    "y_2 = (T_0/p + p/2*x**2/T_0) \n",
    "\n",
    "fig, (ax0) = plt.subplots(nrows=1)   # creates a figure with one axe\n",
    "\n",
    "H = 20.0\n",
    "ax0.plot(x,y_1-y_1[0]+H) \n",
    "ax0.plot(x,y_2-y_2[0]+H) \n",
    "fig.show()"
   ]
  },
  {
   "cell_type": "code",
   "execution_count": null,
   "metadata": {
    "collapsed": true
   },
   "outputs": [],
   "source": []
  }
 ],
 "metadata": {
  "anaconda-cloud": {},
  "kernelspec": {
   "display_name": "Python [default]",
   "language": "python",
   "name": "python3"
  },
  "language_info": {
   "codemirror_mode": {
    "name": "ipython",
    "version": 3
   },
   "file_extension": ".py",
   "mimetype": "text/x-python",
   "name": "python",
   "nbconvert_exporter": "python",
   "pygments_lexer": "ipython3",
   "version": "3.5.2"
  }
 },
 "nbformat": 4,
 "nbformat_minor": 1
}
