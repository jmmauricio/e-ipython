{
 "cells": [
  {
   "cell_type": "code",
   "execution_count": 1,
   "metadata": {
    "collapsed": false
   },
   "outputs": [
    {
     "name": "stderr",
     "output_type": "stream",
     "text": [
      "/home/jmmauricio/bin/anaconda3/lib/python3.5/site-packages/matplotlib/__init__.py:1041: UserWarning: Duplicate key in file \"../presentation.mplstyle\", line #10\n",
      "  (fname, cnt))\n",
      "/home/jmmauricio/bin/anaconda3/lib/python3.5/site-packages/matplotlib/__init__.py:1041: UserWarning: Duplicate key in file \"../presentation.mplstyle\", line #11\n",
      "  (fname, cnt))\n",
      "/home/jmmauricio/bin/anaconda3/lib/python3.5/site-packages/matplotlib/__init__.py:878: UserWarning: axes.color_cycle is deprecated and replaced with axes.prop_cycle; please use the latter.\n",
      "  warnings.warn(self.msg_depr % (key, alt_key))\n"
     ]
    }
   ],
   "source": [
    "import numpy as np\n",
    "import scipy.constants as const \n",
    "import matplotlib.pyplot as plt\n",
    "from IPython.display import Image\n",
    "%matplotlib inline\n",
    "plt.style.use('../presentation.mplstyle')\n"
   ]
  },
  {
   "cell_type": "code",
   "execution_count": null,
   "metadata": {
    "collapsed": true
   },
   "outputs": [],
   "source": []
  },
  {
   "cell_type": "code",
   "execution_count": 2,
   "metadata": {
    "collapsed": false
   },
   "outputs": [
    {
     "data": {
      "text/plain": [
       "0.092720124042898533"
      ]
     },
     "execution_count": 2,
     "metadata": {},
     "output_type": "execute_result"
    }
   ],
   "source": [
    "def catenaria(x,T_0):\n",
    "    '''\n",
    "    Devuelve la catenaria\n",
    "    '''\n",
    "    \n",
    "    \n",
    "    p_m = 0.1888 # kg/m\n",
    "    \n",
    "    lam = T_0/p_m\n",
    "    y = lam * np.cosh(x/lam) \n",
    "    \n",
    "    return y\n",
    "\n",
    "H = 10.0\n",
    "T_0 = 407.25 # kg\n",
    "catenaria(20,T_0)-catenaria(0,T_0)"
   ]
  },
  {
   "cell_type": "code",
   "execution_count": 3,
   "metadata": {
    "collapsed": false
   },
   "outputs": [
    {
     "name": "stderr",
     "output_type": "stream",
     "text": [
      "/home/jmmauricio/bin/anaconda3/lib/python3.5/site-packages/matplotlib/figure.py:397: UserWarning: matplotlib is currently using a non-GUI backend, so cannot show the figure\n",
      "  \"matplotlib is currently using a non-GUI backend, \"\n"
     ]
    },
    {
     "data": {
      "image/png": "[encoded data removed]",
      "text/plain": [
       "<matplotlib.figure.Figure at 0x7f5c2d03b278>"
      ]
     },
     "metadata": {},
     "output_type": "display_data"
    }
   ],
   "source": [
    "fig, (ax0) = plt.subplots(nrows=1)   # creates a figure with one axe\n",
    "H = 10.0\n",
    "vano = 150.0\n",
    "T_0 = 407.25 # kg\n",
    "\n",
    "x = np.linspace(-vano,vano,100)\n",
    "\n",
    "y = catenaria(x,T_0) \n",
    "\n",
    "ax0.plot(x,y-y[0]+ H) \n",
    "ax0.set_xlim((-vano-1,vano+1))\n",
    "ax0.set_ylim((0,H+1))\n",
    "fig.show()"
   ]
  },
  {
   "cell_type": "code",
   "execution_count": 4,
   "metadata": {
    "collapsed": false
   },
   "outputs": [
    {
     "data": {
      "image/png": "[encoded data removed]",
      "text/plain": [
       "<IPython.core.display.Image object>"
      ]
     },
     "execution_count": 4,
     "metadata": {},
     "output_type": "execute_result"
    }
   ],
   "source": [
    "\n",
    "Image(\"catenaria3.png\")"
   ]
  },
  {
   "cell_type": "code",
   "execution_count": 5,
   "metadata": {
    "collapsed": false
   },
   "outputs": [
    {
     "data": {
      "image/png": "[encoded data removed]",
      "text/plain": [
       "<IPython.core.display.Image object>"
      ]
     },
     "execution_count": 5,
     "metadata": {},
     "output_type": "execute_result"
    }
   ],
   "source": [
    "Image(\"catenaria3.png\")"
   ]
  },
  {
   "cell_type": "markdown",
   "metadata": {},
   "source": [
    "### Interactivo\n",
    "\n",
    "esta prueba"
   ]
  },
  {
   "cell_type": "code",
   "execution_count": 6,
   "metadata": {
    "collapsed": true
   },
   "outputs": [],
   "source": [
    "from ipywidgets import widgets"
   ]
  },
  {
   "cell_type": "code",
   "execution_count": 7,
   "metadata": {
    "collapsed": false
   },
   "outputs": [
    {
     "data": {
      "text/html": [
       "\n",
       "    <div class=\"bk-root\">\n",
       "        <a href=\"http://bokeh.pydata.org\" target=\"_blank\" class=\"bk-logo bk-logo-small bk-logo-notebook\"></a>\n",
       "        <span id=\"717a74cc-7ebd-440f-afdc-39df68e86d8e\">Loading BokehJS ...</span>\n",
       "    </div>"
      ]
     },
     "metadata": {},
     "output_type": "display_data"
    },
    {
     "data": {
      "application/javascript": [
       "\n",
       "(function(global) {\n",
       "  function now() {\n",
       "    return new Date();\n",
       "  }\n",
       "\n",
       "  var force = \"1\";\n",
       "\n",
       "  if (typeof (window._bokeh_onload_callbacks) === \"undefined\" || force !== \"\") {\n",
       "    window._bokeh_onload_callbacks = [];\n",
       "    window._bokeh_is_loading = undefined;\n",
       "  }\n",
       "\n",
       "\n",
       "  \n",
       "  if (typeof (window._bokeh_timeout) === \"undefined\" || force !== \"\") {\n",
       "    window._bokeh_timeout = Date.now() + 5000;\n",
       "    window._bokeh_failed_load = false;\n",
       "  }\n",
       "\n",
       "  var NB_LOAD_WARNING = {'data': {'text/html':\n",
       "     \"<div style='background-color: #fdd'>\\n\"+\n",
       "     \"<p>\\n\"+\n",
       "     \"BokehJS does not appear to have successfully loaded. If loading BokehJS from CDN, this \\n\"+\n",
       "     \"may be due to a slow or bad network connection. Possible fixes:\\n\"+\n",
       "     \"</p>\\n\"+\n",
       "     \"<ul>\\n\"+\n",
       "     \"<li>re-rerun `output_notebook()` to attempt to load from CDN again, or</li>\\n\"+\n",
       "     \"<li>use INLINE resources instead, as so:</li>\\n\"+\n",
       "     \"</ul>\\n\"+\n",
       "     \"<code>\\n\"+\n",
       "     \"from bokeh.resources import INLINE\\n\"+\n",
       "     \"output_notebook(resources=INLINE)\\n\"+\n",
       "     \"</code>\\n\"+\n",
       "     \"</div>\"}};\n",
       "\n",
       "  function display_loaded() {\n",
       "    if (window.Bokeh !== undefined) {\n",
       "      Bokeh.$(\"#717a74cc-7ebd-440f-afdc-39df68e86d8e\").text(\"BokehJS successfully loaded.\");\n",
       "    } else if (Date.now() < window._bokeh_timeout) {\n",
       "      setTimeout(display_loaded, 100)\n",
       "    }\n",
       "  }\n",
       "\n",
       "  function run_callbacks() {\n",
       "    window._bokeh_onload_callbacks.forEach(function(callback) { callback() });\n",
       "    delete window._bokeh_onload_callbacks\n",
       "    console.info(\"Bokeh: all callbacks have finished\");\n",
       "  }\n",
       "\n",
       "  function load_libs(js_urls, callback) {\n",
       "    window._bokeh_onload_callbacks.push(callback);\n",
       "    if (window._bokeh_is_loading > 0) {\n",
       "      console.log(\"Bokeh: BokehJS is being loaded, scheduling callback at\", now());\n",
       "      return null;\n",
       "    }\n",
       "    if (js_urls == null || js_urls.length === 0) {\n",
       "      run_callbacks();\n",
       "      return null;\n",
       "    }\n",
       "    console.log(\"Bokeh: BokehJS not loaded, scheduling load and callback at\", now());\n",
       "    window._bokeh_is_loading = js_urls.length;\n",
       "    for (var i = 0; i < js_urls.length; i++) {\n",
       "      var url = js_urls[i];\n",
       "      var s = document.createElement('script');\n",
       "      s.src = url;\n",
       "      s.async = false;\n",
       "      s.onreadystatechange = s.onload = function() {\n",
       "        window._bokeh_is_loading--;\n",
       "        if (window._bokeh_is_loading === 0) {\n",
       "          console.log(\"Bokeh: all BokehJS libraries loaded\");\n",
       "          run_callbacks()\n",
       "        }\n",
       "      };\n",
       "      s.onerror = function() {\n",
       "        console.warn(\"failed to load library \" + url);\n",
       "      };\n",
       "      console.log(\"Bokeh: injecting script tag for BokehJS library: \", url);\n",
       "      document.getElementsByTagName(\"head\")[0].appendChild(s);\n",
       "    }\n",
       "  };var element = document.getElementById(\"717a74cc-7ebd-440f-afdc-39df68e86d8e\");\n",
       "  if (element == null) {\n",
       "    console.log(\"Bokeh: ERROR: autoload.js configured with elementid '717a74cc-7ebd-440f-afdc-39df68e86d8e' but no matching script tag was found. \")\n",
       "    return false;\n",
       "  }\n",
       "\n",
       "  var js_urls = ['https://cdn.pydata.org/bokeh/release/bokeh-0.12.3.min.js', 'https://cdn.pydata.org/bokeh/release/bokeh-widgets-0.12.3.min.js'];\n",
       "\n",
       "  var inline_js = [\n",
       "    function(Bokeh) {\n",
       "      Bokeh.set_log_level(\"info\");\n",
       "    },\n",
       "    \n",
       "    function(Bokeh) {\n",
       "      \n",
       "      Bokeh.$(\"#717a74cc-7ebd-440f-afdc-39df68e86d8e\").text(\"BokehJS is loading...\");\n",
       "    },\n",
       "    function(Bokeh) {\n",
       "      console.log(\"Bokeh: injecting CSS: https://cdn.pydata.org/bokeh/release/bokeh-0.12.3.min.css\");\n",
       "      Bokeh.embed.inject_css(\"https://cdn.pydata.org/bokeh/release/bokeh-0.12.3.min.css\");\n",
       "      console.log(\"Bokeh: injecting CSS: https://cdn.pydata.org/bokeh/release/bokeh-widgets-0.12.3.min.css\");\n",
       "      Bokeh.embed.inject_css(\"https://cdn.pydata.org/bokeh/release/bokeh-widgets-0.12.3.min.css\");\n",
       "    }\n",
       "  ];\n",
       "\n",
       "  function run_inline_js() {\n",
       "    \n",
       "    if ((window.Bokeh !== undefined) || (force === \"1\")) {\n",
       "      for (var i = 0; i < inline_js.length; i++) {\n",
       "        inline_js[i](window.Bokeh);\n",
       "      }if (force === \"1\") {\n",
       "        display_loaded();\n",
       "      }} else if (Date.now() < window._bokeh_timeout) {\n",
       "      setTimeout(run_inline_js, 100);\n",
       "    } else if (!window._bokeh_failed_load) {\n",
       "      console.log(\"Bokeh: BokehJS failed to load within specified timeout.\");\n",
       "      window._bokeh_failed_load = true;\n",
       "    } else if (!force) {\n",
       "      var cell = $(\"#717a74cc-7ebd-440f-afdc-39df68e86d8e\").parents('.cell').data().cell;\n",
       "      cell.output_area.append_execute_result(NB_LOAD_WARNING)\n",
       "    }\n",
       "\n",
       "  }\n",
       "\n",
       "  if (window._bokeh_is_loading === 0) {\n",
       "    console.log(\"Bokeh: BokehJS loaded, going straight to plotting\");\n",
       "    run_inline_js();\n",
       "  } else {\n",
       "    load_libs(js_urls, function() {\n",
       "      console.log(\"Bokeh: BokehJS plotting callback run at\", now());\n",
       "      run_inline_js();\n",
       "    });\n",
       "  }\n",
       "}(this));"
      ]
     },
     "metadata": {},
     "output_type": "display_data"
    }
   ],
   "source": [
    "from ipywidgets import interact\n",
    "import numpy as np\n",
    "from bokeh.layouts import column, row,widgetbox\n",
    "from bokeh.models import Label\n",
    "from bokeh.io import push_notebook, show, output_notebook\n",
    "from bokeh.plotting import figure\n",
    "from bokeh.io import output_file, show\n",
    "from bokeh.layouts import widgetbox\n",
    "from bokeh.models.widgets import TextInput\n",
    "\n",
    "output_notebook()\n"
   ]
  },
  {
   "cell_type": "code",
   "execution_count": 8,
   "metadata": {
    "collapsed": false
   },
   "outputs": [],
   "source": [
    "def catenaria(vano,T_0,H):\n",
    "    '''\n",
    "    Devuelve la catenaria\n",
    "    '''\n",
    "    \n",
    "    x = np.linspace(-vano/2,vano/2,100)\n",
    "        \n",
    "    lam = T_0/p_m\n",
    "    y = lam * np.cosh(x/lam) \n",
    "    y = y - y[0] + H\n",
    "    \n",
    "    T = T_0*np.cosh(x/lam) \n",
    "    return x,y,T\n",
    "\n",
    "H = 10.0\n",
    "vano = 150.0\n",
    "T_0 = 407.25 # kg\n",
    "\n",
    "p = 107.0 # kg/km\n",
    "T_0 = 990.0/4*10  # N\n",
    "\n",
    "p_m =  p/1000*9.81 # N/m\n",
    "\n",
    "\n",
    "\n",
    "x,y,T = catenaria(vano,T_0,H)\n",
    "\n",
    "pcatenary = figure(title=\"Catenary\", plot_height=300, plot_width=600, y_range=(0,H+2))\n",
    "pforce  = figure(title=\"Force\", plot_height=300, plot_width=600, y_range=(0,1000))\n",
    "\n",
    "rcatenary = pcatenary.line(x, y, color=\"#2222aa\", line_width=3)\n",
    "rforce    = pforce.line(x,T, color=\"#aa2222\", line_width=3)\n",
    "\n",
    "mytext = Label(x=70, y=70, text='here your text')\n",
    "\n",
    "text_min_height = TextInput(value='{:2.2f}'.format(np.min(y)), title=\"Minimum height:\")\n",
    "text_max_force  = TextInput(value='{:2.2f}'.format(np.max(T)), title=\"Maximum force:\")\n"
   ]
  },
  {
   "cell_type": "code",
   "execution_count": 9,
   "metadata": {
    "collapsed": true
   },
   "outputs": [],
   "source": [
    "def update(T_0 = 400, vano=150):\n",
    "\n",
    "    x,y,T = catenaria(vano,T_0,H)\n",
    "    rcatenary.data_source.data['x'] = x\n",
    "    rcatenary.data_source.data['y'] = y\n",
    "    rforce.data_source.data['x'] = x\n",
    "    rforce.data_source.data['y'] = T\n",
    "    text_min_height.value = '{:2.2f}'.format(np.min(y))\n",
    "    text_max_force.value  = '{:2.2f}'.format(np.max(T))\n",
    "    push_notebook()"
   ]
  },
  {
   "cell_type": "code",
   "execution_count": 10,
   "metadata": {
    "collapsed": false
   },
   "outputs": [
    {
     "data": {
      "text/html": [
       "\n",
       "\n",
       "    <div class=\"bk-root\">\n",
       "        <div class=\"plotdiv\" id=\"81018a37-e08f-44f4-903a-f5cac8ff73d9\"></div>\n",
       "    </div>\n",
       "<script type=\"text/javascript\">\n",
       "  \n",
       "  (function(global) {\n",
       "    function now() {\n",
       "      return new Date();\n",
       "    }\n",
       "  \n",
       "    var force = \"\";\n",
       "  \n",
       "    if (typeof (window._bokeh_onload_callbacks) === \"undefined\" || force !== \"\") {\n",
       "      window._bokeh_onload_callbacks = [];\n",
       "      window._bokeh_is_loading = undefined;\n",
       "    }\n",
       "  \n",
       "  \n",
       "    \n",
       "    if (typeof (window._bokeh_timeout) === \"undefined\" || force !== \"\") {\n",
       "      window._bokeh_timeout = Date.now() + 0;\n",
       "      window._bokeh_failed_load = false;\n",
       "    }\n",
       "  \n",
       "    var NB_LOAD_WARNING = {'data': {'text/html':\n",
       "       \"<div style='background-color: #fdd'>\\n\"+\n",
       "       \"<p>\\n\"+\n",
       "       \"BokehJS does not appear to have successfully loaded. If loading BokehJS from CDN, this \\n\"+\n",
       "       \"may be due to a slow or bad network connection. Possible fixes:\\n\"+\n",
       "       \"</p>\\n\"+\n",
       "       \"<ul>\\n\"+\n",
       "       \"<li>re-rerun `output_notebook()` to attempt to load from CDN again, or</li>\\n\"+\n",
       "       \"<li>use INLINE resources instead, as so:</li>\\n\"+\n",
       "       \"</ul>\\n\"+\n",
       "       \"<code>\\n\"+\n",
       "       \"from bokeh.resources import INLINE\\n\"+\n",
       "       \"output_notebook(resources=INLINE)\\n\"+\n",
       "       \"</code>\\n\"+\n",
       "       \"</div>\"}};\n",
       "  \n",
       "    function display_loaded() {\n",
       "      if (window.Bokeh !== undefined) {\n",
       "        Bokeh.$(\"#81018a37-e08f-44f4-903a-f5cac8ff73d9\").text(\"BokehJS successfully loaded.\");\n",
       "      } else if (Date.now() < window._bokeh_timeout) {\n",
       "        setTimeout(display_loaded, 100)\n",
       "      }\n",
       "    }if ((window.Jupyter !== undefined) && Jupyter.notebook.kernel) {\n",
       "      comm_manager = Jupyter.notebook.kernel.comm_manager\n",
       "      comm_manager.register_target(\"07f4d912-2b51-4ca4-8dbf-98a74291fa05\", function () {});\n",
       "    }\n",
       "  \n",
       "    function run_callbacks() {\n",
       "      window._bokeh_onload_callbacks.forEach(function(callback) { callback() });\n",
       "      delete window._bokeh_onload_callbacks\n",
       "      console.info(\"Bokeh: all callbacks have finished\");\n",
       "    }\n",
       "  \n",
       "    function load_libs(js_urls, callback) {\n",
       "      window._bokeh_onload_callbacks.push(callback);\n",
       "      if (window._bokeh_is_loading > 0) {\n",
       "        console.log(\"Bokeh: BokehJS is being loaded, scheduling callback at\", now());\n",
       "        return null;\n",
       "      }\n",
       "      if (js_urls == null || js_urls.length === 0) {\n",
       "        run_callbacks();\n",
       "        return null;\n",
       "      }\n",
       "      console.log(\"Bokeh: BokehJS not loaded, scheduling load and callback at\", now());\n",
       "      window._bokeh_is_loading = js_urls.length;\n",
       "      for (var i = 0; i < js_urls.length; i++) {\n",
       "        var url = js_urls[i];\n",
       "        var s = document.createElement('script');\n",
       "        s.src = url;\n",
       "        s.async = false;\n",
       "        s.onreadystatechange = s.onload = function() {\n",
       "          window._bokeh_is_loading--;\n",
       "          if (window._bokeh_is_loading === 0) {\n",
       "            console.log(\"Bokeh: all BokehJS libraries loaded\");\n",
       "            run_callbacks()\n",
       "          }\n",
       "        };\n",
       "        s.onerror = function() {\n",
       "          console.warn(\"failed to load library \" + url);\n",
       "        };\n",
       "        console.log(\"Bokeh: injecting script tag for BokehJS library: \", url);\n",
       "        document.getElementsByTagName(\"head\")[0].appendChild(s);\n",
       "      }\n",
       "    };var element = document.getElementById(\"81018a37-e08f-44f4-903a-f5cac8ff73d9\");\n",
       "    if (element == null) {\n",
       "      console.log(\"Bokeh: ERROR: autoload.js configured with elementid '81018a37-e08f-44f4-903a-f5cac8ff73d9' but no matching script tag was found. \")\n",
       "      return false;\n",
       "    }\n",
       "  \n",
       "    var js_urls = [];\n",
       "  \n",
       "    var inline_js = [\n",
       "      function(Bokeh) {\n",
       "        Bokeh.$(function() {\n",
       "            var docs_json = {\"8935d616-fd91-49d1-961f-0599be72e853\":{\"roots\":{\"references\":[{\"attributes\":{\"plot\":{\"id\":\"30d104bf-11dd-4e24-b383-d3fff49f56f0\",\"subtype\":\"Figure\",\"type\":\"Plot\"}},\"id\":\"f4f15ea0-76e3-4211-ac2e-4b77880eb64c\",\"type\":\"HelpTool\"},{\"attributes\":{\"plot\":{\"id\":\"8b1e675f-d7cf-48c6-bcea-ee7b3c28fb7a\",\"subtype\":\"Figure\",\"type\":\"Plot\"}},\"id\":\"877b5cc9-4d8d-4e31-82f3-61032fbbc0ca\",\"type\":\"PanTool\"},{\"attributes\":{\"callback\":null,\"end\":1000},\"id\":\"87781596-09af-41b1-9617-f4cd1dfb674e\",\"type\":\"Range1d\"},{\"attributes\":{\"callback\":null,\"column_names\":[\"x\",\"y\"],\"data\":{\"x\":[-75.0,-73.48484848484848,-71.96969696969697,-70.45454545454545,-68.93939393939394,-67.42424242424242,-65.9090909090909,-64.39393939393939,-62.878787878787875,-61.36363636363636,-59.848484848484844,-58.33333333333333,-56.81818181818182,-55.303030303030305,-53.78787878787879,-52.27272727272727,-50.75757575757576,-49.24242424242424,-47.72727272727273,-46.21212121212121,-44.696969696969695,-43.18181818181819,-41.666666666666664,-40.15151515151515,-38.63636363636364,-37.121212121212125,-35.60606060606061,-34.09090909090909,-32.57575757575758,-31.060606060606062,-29.545454545454547,-28.03030303030303,-26.515151515151516,-25.0,-23.484848484848484,-21.96969696969697,-20.454545454545453,-18.939393939393938,-17.424242424242422,-15.909090909090907,-14.393939393939391,-12.878787878787882,-11.363636363636367,-9.848484848484844,-8.333333333333329,-6.818181818181813,-5.303030303030297,-3.787878787878782,-2.2727272727272805,-0.7575757575757649,0.7575757575757507,2.2727272727272663,3.787878787878782,5.303030303030297,6.818181818181813,8.333333333333329,9.848484848484844,11.36363636363636,12.878787878787875,14.393939393939391,15.909090909090907,17.424242424242422,18.939393939393938,20.454545454545453,21.96969696969697,23.484848484848484,25.0,26.515151515151516,28.03030303030303,29.545454545454547,31.060606060606062,32.57575757575758,34.09090909090909,35.60606060606061,37.121212121212125,38.63636363636364,40.151515151515156,41.66666666666667,43.18181818181819,44.6969696969697,46.21212121212122,47.72727272727272,49.242424242424235,50.75757575757575,52.272727272727266,53.78787878787878,55.30303030303031,56.81818181818181,58.33333333333334,59.848484848484844,61.363636363636374,62.878787878787875,64.3939393939394,65.9090909090909,67.42424242424244,68.93939393939394,70.45454545454544,71.96969696969697,73.48484848484847,75.0],\"y\":[2476.252159101253,2476.2020737939733,2476.153010963323,2476.1049705890437,2476.057952651299,2476.0119571306727,2475.9669840081738,2475.923033265231,2475.8801048836967,2475.838198845844,2475.7973151343695,2475.757453732392,2475.7186146234512,2475.68079779151,2475.6440032209525,2475.6082308965856,2475.573480803639,2475.5397529277625,2475.5070472550296,2475.475363771935,2475.4447024653964,2475.415063322753,2475.3864463317664,2475.3588514806197,2475.3322787579186,2475.306728152691,2475.2821996543853,2475.2586932528748,2475.2362089384515,2475.214746701832,2475.1943065341543,2475.174888426978,2475.1564923722854,2475.139118362479,2475.1227663903865,2475.1074364492542,2475.093128532753,2475.0798426349747,2475.0675787504333,2475.056336874065,2475.046117001227,2475.0369191276995,2475.028743249685,2475.0215893638074,2475.0154574671124,2475.0103475570686,2475.0062596315647,2475.0031936889145,2475.001149727851,2475.0001277475303,2475.0001277475303,2475.001149727851,2475.0031936889145,2475.0062596315647,2475.0103475570686,2475.0154574671124,2475.0215893638074,2475.028743249685,2475.0369191276995,2475.046117001227,2475.056336874065,2475.0675787504333,2475.0798426349747,2475.093128532753,2475.1074364492542,2475.1227663903865,2475.139118362479,2475.1564923722854,2475.174888426978,2475.1943065341543,2475.214746701832,2475.2362089384515,2475.2586932528748,2475.2821996543853,2475.306728152691,2475.3322787579186,2475.3588514806197,2475.3864463317664,2475.415063322753,2475.4447024653964,2475.475363771935,2475.5070472550296,2475.5397529277625,2475.573480803639,2475.6082308965856,2475.6440032209525,2475.68079779151,2475.7186146234512,2475.757453732392,2475.7973151343695,2475.838198845844,2475.8801048836967,2475.923033265231,2475.9669840081738,2476.0119571306727,2476.057952651299,2476.1049705890437,2476.153010963323,2476.2020737939733,2476.252159101253]}},\"id\":\"95a93e47-7219-49cd-a858-6efaccd34fef\",\"type\":\"ColumnDataSource\"},{\"attributes\":{\"plot\":{\"id\":\"30d104bf-11dd-4e24-b383-d3fff49f56f0\",\"subtype\":\"Figure\",\"type\":\"Plot\"}},\"id\":\"c6486606-b1bf-450a-95f0-5fc10da529d9\",\"type\":\"WheelZoomTool\"},{\"attributes\":{\"line_alpha\":{\"value\":0.1},\"line_color\":{\"value\":\"#1f77b4\"},\"line_width\":{\"value\":3},\"x\":{\"field\":\"x\"},\"y\":{\"field\":\"y\"}},\"id\":\"7dbad9ad-0192-417b-9706-2ae118aae10a\",\"type\":\"Line\"},{\"attributes\":{\"callback\":null,\"column_names\":[\"x\",\"y\"],\"data\":{\"x\":[-75.0,-73.48484848484848,-71.96969696969697,-70.45454545454545,-68.93939393939394,-67.42424242424242,-65.9090909090909,-64.39393939393939,-62.878787878787875,-61.36363636363636,-59.848484848484844,-58.33333333333333,-56.81818181818182,-55.303030303030305,-53.78787878787879,-52.27272727272727,-50.75757575757576,-49.24242424242424,-47.72727272727273,-46.21212121212121,-44.696969696969695,-43.18181818181819,-41.666666666666664,-40.15151515151515,-38.63636363636364,-37.121212121212125,-35.60606060606061,-34.09090909090909,-32.57575757575758,-31.060606060606062,-29.545454545454547,-28.03030303030303,-26.515151515151516,-25.0,-23.484848484848484,-21.96969696969697,-20.454545454545453,-18.939393939393938,-17.424242424242422,-15.909090909090907,-14.393939393939391,-12.878787878787882,-11.363636363636367,-9.848484848484844,-8.333333333333329,-6.818181818181813,-5.303030303030297,-3.787878787878782,-2.2727272727272805,-0.7575757575757649,0.7575757575757507,2.2727272727272663,3.787878787878782,5.303030303030297,6.818181818181813,8.333333333333329,9.848484848484844,11.36363636363636,12.878787878787875,14.393939393939391,15.909090909090907,17.424242424242422,18.939393939393938,20.454545454545453,21.96969696969697,23.484848484848484,25.0,26.515151515151516,28.03030303030303,29.545454545454547,31.060606060606062,32.57575757575758,34.09090909090909,35.60606060606061,37.121212121212125,38.63636363636364,40.151515151515156,41.66666666666667,43.18181818181819,44.6969696969697,46.21212121212122,47.72727272727272,49.242424242424235,50.75757575757575,52.272727272727266,53.78787878787878,55.30303030303031,56.81818181818181,58.33333333333334,59.848484848484844,61.363636363636374,62.878787878787875,64.3939393939394,65.9090909090909,67.42424242424244,68.93939393939394,70.45454545454544,71.96969696969697,73.48484848484847,75.0],\"y\":[10.0,9.952284711119319,9.905543515648333,9.859776394286655,9.81498332813726,9.771164298703752,9.728319287891281,9.68644827800972,9.645551251768666,9.60562819228062,9.566679083061445,9.528703908027637,9.4917026514986,9.455675298195729,9.420621833242876,9.386542242164523,9.353436510890333,9.32130462574878,9.290146573472157,9.259962341195205,9.2307519164533,9.202515287186088,9.175252441732937,9.14896336883703,9.123648057643095,9.099306497697398,9.075938678949115,9.05354459174987,9.03212422685101,9.011677575408612,8.992204628979835,8.97370537952429,8.956179819402678,8.939627941378149,8.924049738616304,8.909445204684744,8.895814333552607,8.883157119591942,8.871473557575882,8.860763642680013,8.85102737048237,8.842264736961624,8.834475738500714,8.827660371883212,8.821818634294232,8.816950523322248,8.813056036956368,8.810135173589515,8.808187932015244,8.807214311428652,8.807214311428652,8.808187932015244,8.810135173589515,8.813056036956368,8.816950523322248,8.821818634294232,8.827660371883212,8.834475738500714,8.842264736961624,8.85102737048237,8.860763642680013,8.871473557575882,8.883157119591942,8.895814333552607,8.909445204684744,8.924049738616304,8.939627941378149,8.956179819402678,8.97370537952429,8.992204628979835,9.011677575408612,9.03212422685101,9.05354459174987,9.075938678949115,9.099306497697398,9.123648057643095,9.14896336883703,9.175252441732937,9.202515287186088,9.2307519164533,9.259962341195205,9.290146573472157,9.32130462574878,9.353436510890333,9.386542242164523,9.420621833242876,9.455675298195729,9.4917026514986,9.528703908027637,9.566679083061445,9.60562819228062,9.645551251768666,9.68644827800972,9.728319287891281,9.771164298703752,9.81498332813726,9.859776394286655,9.905543515648333,9.952284711119319,10.0]}},\"id\":\"579dcae6-659c-4373-8c8c-06435aedc815\",\"type\":\"ColumnDataSource\"},{\"attributes\":{\"plot\":{\"id\":\"30d104bf-11dd-4e24-b383-d3fff49f56f0\",\"subtype\":\"Figure\",\"type\":\"Plot\"}},\"id\":\"3ca3ee31-9fb3-4926-8cbc-de49f44112a6\",\"type\":\"SaveTool\"},{\"attributes\":{\"below\":[{\"id\":\"38092d1e-fae1-4ecc-8413-2b6daad80ca6\",\"type\":\"LinearAxis\"}],\"left\":[{\"id\":\"ffa36f03-02fa-4ab4-9ed9-a67eeb6d6979\",\"type\":\"LinearAxis\"}],\"plot_height\":300,\"renderers\":[{\"id\":\"38092d1e-fae1-4ecc-8413-2b6daad80ca6\",\"type\":\"LinearAxis\"},{\"id\":\"99a49a1a-2497-49d1-a2b5-f92d859b33b2\",\"type\":\"Grid\"},{\"id\":\"ffa36f03-02fa-4ab4-9ed9-a67eeb6d6979\",\"type\":\"LinearAxis\"},{\"id\":\"1716756e-2ab3-4a8a-9c85-a605c3f3dc3f\",\"type\":\"Grid\"},{\"id\":\"7e9f0174-e553-44a7-8d26-494f11a27729\",\"type\":\"BoxAnnotation\"},{\"id\":\"344fc272-e641-4622-bca6-817cacebcee2\",\"type\":\"GlyphRenderer\"}],\"title\":{\"id\":\"942b8c3b-6214-4f58-aec2-103b629a7d0f\",\"type\":\"Title\"},\"tool_events\":{\"id\":\"fa9eaf3a-9c4d-4cd6-b4a9-fd49e143d1b5\",\"type\":\"ToolEvents\"},\"toolbar\":{\"id\":\"5ae2fe67-e461-4a05-80ab-1397640b5231\",\"type\":\"Toolbar\"},\"x_range\":{\"id\":\"529cc3a9-301c-4b35-9175-faad74a49a02\",\"type\":\"DataRange1d\"},\"y_range\":{\"id\":\"87781596-09af-41b1-9617-f4cd1dfb674e\",\"type\":\"Range1d\"}},\"id\":\"8b1e675f-d7cf-48c6-bcea-ee7b3c28fb7a\",\"subtype\":\"Figure\",\"type\":\"Plot\"},{\"attributes\":{\"bottom_units\":\"screen\",\"fill_alpha\":{\"value\":0.5},\"fill_color\":{\"value\":\"lightgrey\"},\"left_units\":\"screen\",\"level\":\"overlay\",\"line_alpha\":{\"value\":1.0},\"line_color\":{\"value\":\"black\"},\"line_dash\":[4,4],\"line_width\":{\"value\":2},\"plot\":null,\"render_mode\":\"css\",\"right_units\":\"screen\",\"top_units\":\"screen\"},\"id\":\"b5f4dd12-9dbd-4fc5-9b7f-7c6a61740d26\",\"type\":\"BoxAnnotation\"},{\"attributes\":{\"callback\":null},\"id\":\"529cc3a9-301c-4b35-9175-faad74a49a02\",\"type\":\"DataRange1d\"},{\"attributes\":{},\"id\":\"e4cd9ba2-f9c0-404d-813b-f0f475de2582\",\"type\":\"ToolEvents\"},{\"attributes\":{\"plot\":{\"id\":\"8b1e675f-d7cf-48c6-bcea-ee7b3c28fb7a\",\"subtype\":\"Figure\",\"type\":\"Plot\"}},\"id\":\"8521f0ff-ea09-48c3-897c-e707cd68163e\",\"type\":\"SaveTool\"},{\"attributes\":{\"children\":[{\"id\":\"30d104bf-11dd-4e24-b383-d3fff49f56f0\",\"subtype\":\"Figure\",\"type\":\"Plot\"},{\"id\":\"aea2fe5f-8184-4970-bc20-6058556f2601\",\"type\":\"WidgetBox\"}]},\"id\":\"23bf2a55-f2f9-4970-8c47-bed671800666\",\"type\":\"Row\"},{\"attributes\":{\"callback\":null,\"title\":\"Minimum height:\",\"value\":\"8.81\"},\"id\":\"e4aebe5f-41e7-4eaa-b7d9-d64741d3613c\",\"type\":\"TextInput\"},{\"attributes\":{\"callback\":null},\"id\":\"7f5888f5-22d2-454f-9095-88c83ee5d5b6\",\"type\":\"DataRange1d\"},{\"attributes\":{},\"id\":\"aafd95e7-fcc5-4959-8d78-dc5e660446b4\",\"type\":\"BasicTickFormatter\"},{\"attributes\":{\"plot\":null,\"text\":\"Force\"},\"id\":\"942b8c3b-6214-4f58-aec2-103b629a7d0f\",\"type\":\"Title\"},{\"attributes\":{},\"id\":\"fa9eaf3a-9c4d-4cd6-b4a9-fd49e143d1b5\",\"type\":\"ToolEvents\"},{\"attributes\":{\"formatter\":{\"id\":\"aafd95e7-fcc5-4959-8d78-dc5e660446b4\",\"type\":\"BasicTickFormatter\"},\"plot\":{\"id\":\"30d104bf-11dd-4e24-b383-d3fff49f56f0\",\"subtype\":\"Figure\",\"type\":\"Plot\"},\"ticker\":{\"id\":\"13f69b9e-c840-4f3e-a72d-97458748ae96\",\"type\":\"BasicTicker\"}},\"id\":\"919ad5e3-a186-45be-836c-62f3ddfb3464\",\"type\":\"LinearAxis\"},{\"attributes\":{},\"id\":\"57c5da36-b141-40c5-966a-0dfa8b8e61ec\",\"type\":\"BasicTicker\"},{\"attributes\":{\"active_drag\":\"auto\",\"active_scroll\":\"auto\",\"active_tap\":\"auto\",\"tools\":[{\"id\":\"877b5cc9-4d8d-4e31-82f3-61032fbbc0ca\",\"type\":\"PanTool\"},{\"id\":\"68fdf4e1-81bf-491a-a508-b44cbd80e6f5\",\"type\":\"WheelZoomTool\"},{\"id\":\"793bb42a-eb13-4403-b279-299b8ab5e24c\",\"type\":\"BoxZoomTool\"},{\"id\":\"8521f0ff-ea09-48c3-897c-e707cd68163e\",\"type\":\"SaveTool\"},{\"id\":\"16e9a229-c36d-470a-96c8-fa213a8eb771\",\"type\":\"ResetTool\"},{\"id\":\"a56eb2fd-ca9a-42de-94db-cece06ce3280\",\"type\":\"HelpTool\"}]},\"id\":\"5ae2fe67-e461-4a05-80ab-1397640b5231\",\"type\":\"Toolbar\"},{\"attributes\":{},\"id\":\"13f69b9e-c840-4f3e-a72d-97458748ae96\",\"type\":\"BasicTicker\"},{\"attributes\":{\"overlay\":{\"id\":\"b5f4dd12-9dbd-4fc5-9b7f-7c6a61740d26\",\"type\":\"BoxAnnotation\"},\"plot\":{\"id\":\"30d104bf-11dd-4e24-b383-d3fff49f56f0\",\"subtype\":\"Figure\",\"type\":\"Plot\"}},\"id\":\"b79af351-5bef-4ccd-9790-1996fd98f3b6\",\"type\":\"BoxZoomTool\"},{\"attributes\":{\"plot\":{\"id\":\"30d104bf-11dd-4e24-b383-d3fff49f56f0\",\"subtype\":\"Figure\",\"type\":\"Plot\"}},\"id\":\"9d3fd27c-7041-4ca1-ae3d-fa1daee53fcd\",\"type\":\"ResetTool\"},{\"attributes\":{\"formatter\":{\"id\":\"04c0b1d3-4f2b-4e62-a988-a0462fedff1f\",\"type\":\"BasicTickFormatter\"},\"plot\":{\"id\":\"8b1e675f-d7cf-48c6-bcea-ee7b3c28fb7a\",\"subtype\":\"Figure\",\"type\":\"Plot\"},\"ticker\":{\"id\":\"57c5da36-b141-40c5-966a-0dfa8b8e61ec\",\"type\":\"BasicTicker\"}},\"id\":\"ffa36f03-02fa-4ab4-9ed9-a67eeb6d6979\",\"type\":\"LinearAxis\"},{\"attributes\":{},\"id\":\"08ee92a5-a1b5-4ed4-91e7-03c6ece0bde9\",\"type\":\"BasicTickFormatter\"},{\"attributes\":{\"plot\":{\"id\":\"30d104bf-11dd-4e24-b383-d3fff49f56f0\",\"subtype\":\"Figure\",\"type\":\"Plot\"},\"ticker\":{\"id\":\"13f69b9e-c840-4f3e-a72d-97458748ae96\",\"type\":\"BasicTicker\"}},\"id\":\"faadfed5-2ca5-4807-b08f-2131878eac21\",\"type\":\"Grid\"},{\"attributes\":{\"plot\":{\"id\":\"30d104bf-11dd-4e24-b383-d3fff49f56f0\",\"subtype\":\"Figure\",\"type\":\"Plot\"}},\"id\":\"6bbe46ae-eafb-44cd-8075-6de6e4a76a11\",\"type\":\"PanTool\"},{\"attributes\":{\"plot\":{\"id\":\"8b1e675f-d7cf-48c6-bcea-ee7b3c28fb7a\",\"subtype\":\"Figure\",\"type\":\"Plot\"}},\"id\":\"16e9a229-c36d-470a-96c8-fa213a8eb771\",\"type\":\"ResetTool\"},{\"attributes\":{},\"id\":\"fbd57196-edda-44ee-b287-7c824a1f972f\",\"type\":\"BasicTicker\"},{\"attributes\":{\"callback\":null,\"end\":12.0},\"id\":\"b693d62e-89dd-45c4-90f0-37ee844e3445\",\"type\":\"Range1d\"},{\"attributes\":{},\"id\":\"fada9e3d-071d-4f79-91c3-7d64fb123259\",\"type\":\"BasicTickFormatter\"},{\"attributes\":{\"callback\":null,\"title\":\"Maximum force:\",\"value\":\"2476.25\"},\"id\":\"94640458-7b0a-4c55-8a76-7ff9751a46c7\",\"type\":\"TextInput\"},{\"attributes\":{\"active_drag\":\"auto\",\"active_scroll\":\"auto\",\"active_tap\":\"auto\",\"tools\":[{\"id\":\"6bbe46ae-eafb-44cd-8075-6de6e4a76a11\",\"type\":\"PanTool\"},{\"id\":\"c6486606-b1bf-450a-95f0-5fc10da529d9\",\"type\":\"WheelZoomTool\"},{\"id\":\"b79af351-5bef-4ccd-9790-1996fd98f3b6\",\"type\":\"BoxZoomTool\"},{\"id\":\"3ca3ee31-9fb3-4926-8cbc-de49f44112a6\",\"type\":\"SaveTool\"},{\"id\":\"9d3fd27c-7041-4ca1-ae3d-fa1daee53fcd\",\"type\":\"ResetTool\"},{\"id\":\"f4f15ea0-76e3-4211-ac2e-4b77880eb64c\",\"type\":\"HelpTool\"}]},\"id\":\"ed239fad-b464-4f77-a47b-dc6370f1c069\",\"type\":\"Toolbar\"},{\"attributes\":{\"overlay\":{\"id\":\"7e9f0174-e553-44a7-8d26-494f11a27729\",\"type\":\"BoxAnnotation\"},\"plot\":{\"id\":\"8b1e675f-d7cf-48c6-bcea-ee7b3c28fb7a\",\"subtype\":\"Figure\",\"type\":\"Plot\"}},\"id\":\"793bb42a-eb13-4403-b279-299b8ab5e24c\",\"type\":\"BoxZoomTool\"},{\"attributes\":{\"dimension\":1,\"plot\":{\"id\":\"8b1e675f-d7cf-48c6-bcea-ee7b3c28fb7a\",\"subtype\":\"Figure\",\"type\":\"Plot\"},\"ticker\":{\"id\":\"57c5da36-b141-40c5-966a-0dfa8b8e61ec\",\"type\":\"BasicTicker\"}},\"id\":\"1716756e-2ab3-4a8a-9c85-a605c3f3dc3f\",\"type\":\"Grid\"},{\"attributes\":{\"children\":[{\"id\":\"e4aebe5f-41e7-4eaa-b7d9-d64741d3613c\",\"type\":\"TextInput\"},{\"id\":\"94640458-7b0a-4c55-8a76-7ff9751a46c7\",\"type\":\"TextInput\"}]},\"id\":\"aea2fe5f-8184-4970-bc20-6058556f2601\",\"type\":\"WidgetBox\"},{\"attributes\":{},\"id\":\"04c0b1d3-4f2b-4e62-a988-a0462fedff1f\",\"type\":\"BasicTickFormatter\"},{\"attributes\":{\"line_color\":{\"value\":\"#aa2222\"},\"line_width\":{\"value\":3},\"x\":{\"field\":\"x\"},\"y\":{\"field\":\"y\"}},\"id\":\"6121786c-609d-403c-b1d3-e634ba253356\",\"type\":\"Line\"},{\"attributes\":{\"plot\":{\"id\":\"8b1e675f-d7cf-48c6-bcea-ee7b3c28fb7a\",\"subtype\":\"Figure\",\"type\":\"Plot\"},\"ticker\":{\"id\":\"fbd57196-edda-44ee-b287-7c824a1f972f\",\"type\":\"BasicTicker\"}},\"id\":\"99a49a1a-2497-49d1-a2b5-f92d859b33b2\",\"type\":\"Grid\"},{\"attributes\":{\"line_alpha\":{\"value\":0.1},\"line_color\":{\"value\":\"#1f77b4\"},\"line_width\":{\"value\":3},\"x\":{\"field\":\"x\"},\"y\":{\"field\":\"y\"}},\"id\":\"877a5ea1-a2f6-40cb-b7a9-f111ad72c33c\",\"type\":\"Line\"},{\"attributes\":{},\"id\":\"b9f564ab-5b72-4cd1-8f06-77230f8e7845\",\"type\":\"BasicTicker\"},{\"attributes\":{\"plot\":{\"id\":\"8b1e675f-d7cf-48c6-bcea-ee7b3c28fb7a\",\"subtype\":\"Figure\",\"type\":\"Plot\"}},\"id\":\"a56eb2fd-ca9a-42de-94db-cece06ce3280\",\"type\":\"HelpTool\"},{\"attributes\":{\"plot\":{\"id\":\"8b1e675f-d7cf-48c6-bcea-ee7b3c28fb7a\",\"subtype\":\"Figure\",\"type\":\"Plot\"}},\"id\":\"68fdf4e1-81bf-491a-a508-b44cbd80e6f5\",\"type\":\"WheelZoomTool\"},{\"attributes\":{\"data_source\":{\"id\":\"579dcae6-659c-4373-8c8c-06435aedc815\",\"type\":\"ColumnDataSource\"},\"glyph\":{\"id\":\"19de64e7-9643-45f9-8f78-0c5bb20c7a09\",\"type\":\"Line\"},\"hover_glyph\":null,\"nonselection_glyph\":{\"id\":\"7dbad9ad-0192-417b-9706-2ae118aae10a\",\"type\":\"Line\"},\"selection_glyph\":null},\"id\":\"ab408623-ea02-4fe9-9c2c-20562dbcc668\",\"type\":\"GlyphRenderer\"},{\"attributes\":{\"formatter\":{\"id\":\"fada9e3d-071d-4f79-91c3-7d64fb123259\",\"type\":\"BasicTickFormatter\"},\"plot\":{\"id\":\"8b1e675f-d7cf-48c6-bcea-ee7b3c28fb7a\",\"subtype\":\"Figure\",\"type\":\"Plot\"},\"ticker\":{\"id\":\"fbd57196-edda-44ee-b287-7c824a1f972f\",\"type\":\"BasicTicker\"}},\"id\":\"38092d1e-fae1-4ecc-8413-2b6daad80ca6\",\"type\":\"LinearAxis\"},{\"attributes\":{\"data_source\":{\"id\":\"95a93e47-7219-49cd-a858-6efaccd34fef\",\"type\":\"ColumnDataSource\"},\"glyph\":{\"id\":\"6121786c-609d-403c-b1d3-e634ba253356\",\"type\":\"Line\"},\"hover_glyph\":null,\"nonselection_glyph\":{\"id\":\"877a5ea1-a2f6-40cb-b7a9-f111ad72c33c\",\"type\":\"Line\"},\"selection_glyph\":null},\"id\":\"344fc272-e641-4622-bca6-817cacebcee2\",\"type\":\"GlyphRenderer\"},{\"attributes\":{\"below\":[{\"id\":\"919ad5e3-a186-45be-836c-62f3ddfb3464\",\"type\":\"LinearAxis\"}],\"left\":[{\"id\":\"5e6edc65-6c2b-492b-877f-b1164d30320e\",\"type\":\"LinearAxis\"}],\"plot_height\":300,\"renderers\":[{\"id\":\"919ad5e3-a186-45be-836c-62f3ddfb3464\",\"type\":\"LinearAxis\"},{\"id\":\"faadfed5-2ca5-4807-b08f-2131878eac21\",\"type\":\"Grid\"},{\"id\":\"5e6edc65-6c2b-492b-877f-b1164d30320e\",\"type\":\"LinearAxis\"},{\"id\":\"1bea4316-d202-4995-8b46-d244f6f069a2\",\"type\":\"Grid\"},{\"id\":\"b5f4dd12-9dbd-4fc5-9b7f-7c6a61740d26\",\"type\":\"BoxAnnotation\"},{\"id\":\"ab408623-ea02-4fe9-9c2c-20562dbcc668\",\"type\":\"GlyphRenderer\"}],\"title\":{\"id\":\"32087a08-83ff-4a69-bd77-cb60ac467352\",\"type\":\"Title\"},\"tool_events\":{\"id\":\"e4cd9ba2-f9c0-404d-813b-f0f475de2582\",\"type\":\"ToolEvents\"},\"toolbar\":{\"id\":\"ed239fad-b464-4f77-a47b-dc6370f1c069\",\"type\":\"Toolbar\"},\"x_range\":{\"id\":\"7f5888f5-22d2-454f-9095-88c83ee5d5b6\",\"type\":\"DataRange1d\"},\"y_range\":{\"id\":\"b693d62e-89dd-45c4-90f0-37ee844e3445\",\"type\":\"Range1d\"}},\"id\":\"30d104bf-11dd-4e24-b383-d3fff49f56f0\",\"subtype\":\"Figure\",\"type\":\"Plot\"},{\"attributes\":{\"bottom_units\":\"screen\",\"fill_alpha\":{\"value\":0.5},\"fill_color\":{\"value\":\"lightgrey\"},\"left_units\":\"screen\",\"level\":\"overlay\",\"line_alpha\":{\"value\":1.0},\"line_color\":{\"value\":\"black\"},\"line_dash\":[4,4],\"line_width\":{\"value\":2},\"plot\":null,\"render_mode\":\"css\",\"right_units\":\"screen\",\"top_units\":\"screen\"},\"id\":\"7e9f0174-e553-44a7-8d26-494f11a27729\",\"type\":\"BoxAnnotation\"},{\"attributes\":{\"dimension\":1,\"plot\":{\"id\":\"30d104bf-11dd-4e24-b383-d3fff49f56f0\",\"subtype\":\"Figure\",\"type\":\"Plot\"},\"ticker\":{\"id\":\"b9f564ab-5b72-4cd1-8f06-77230f8e7845\",\"type\":\"BasicTicker\"}},\"id\":\"1bea4316-d202-4995-8b46-d244f6f069a2\",\"type\":\"Grid\"},{\"attributes\":{\"formatter\":{\"id\":\"08ee92a5-a1b5-4ed4-91e7-03c6ece0bde9\",\"type\":\"BasicTickFormatter\"},\"plot\":{\"id\":\"30d104bf-11dd-4e24-b383-d3fff49f56f0\",\"subtype\":\"Figure\",\"type\":\"Plot\"},\"ticker\":{\"id\":\"b9f564ab-5b72-4cd1-8f06-77230f8e7845\",\"type\":\"BasicTicker\"}},\"id\":\"5e6edc65-6c2b-492b-877f-b1164d30320e\",\"type\":\"LinearAxis\"},{\"attributes\":{\"line_color\":{\"value\":\"#2222aa\"},\"line_width\":{\"value\":3},\"x\":{\"field\":\"x\"},\"y\":{\"field\":\"y\"}},\"id\":\"19de64e7-9643-45f9-8f78-0c5bb20c7a09\",\"type\":\"Line\"},{\"attributes\":{\"plot\":null,\"text\":\"Catenary\"},\"id\":\"32087a08-83ff-4a69-bd77-cb60ac467352\",\"type\":\"Title\"},{\"attributes\":{\"children\":[{\"id\":\"23bf2a55-f2f9-4970-8c47-bed671800666\",\"type\":\"Row\"},{\"id\":\"8b1e675f-d7cf-48c6-bcea-ee7b3c28fb7a\",\"subtype\":\"Figure\",\"type\":\"Plot\"}]},\"id\":\"145308ca-ea5f-4227-ac96-6b9a1420d0d2\",\"type\":\"Column\"}],\"root_ids\":[\"145308ca-ea5f-4227-ac96-6b9a1420d0d2\"]},\"title\":\"Bokeh Application\",\"version\":\"0.12.3\"}};\n",
       "            var render_items = [{\"docid\":\"8935d616-fd91-49d1-961f-0599be72e853\",\"elementid\":\"81018a37-e08f-44f4-903a-f5cac8ff73d9\",\"modelid\":\"145308ca-ea5f-4227-ac96-6b9a1420d0d2\",\"notebook_comms_target\":\"07f4d912-2b51-4ca4-8dbf-98a74291fa05\"}];\n",
       "            \n",
       "            Bokeh.embed.embed_items(docs_json, render_items);\n",
       "        });\n",
       "      },\n",
       "      function(Bokeh) {\n",
       "      }\n",
       "    ];\n",
       "  \n",
       "    function run_inline_js() {\n",
       "      \n",
       "      if ((window.Bokeh !== undefined) || (force === \"1\")) {\n",
       "        for (var i = 0; i < inline_js.length; i++) {\n",
       "          inline_js[i](window.Bokeh);\n",
       "        }if (force === \"1\") {\n",
       "          display_loaded();\n",
       "        }} else if (Date.now() < window._bokeh_timeout) {\n",
       "        setTimeout(run_inline_js, 100);\n",
       "      } else if (!window._bokeh_failed_load) {\n",
       "        console.log(\"Bokeh: BokehJS failed to load within specified timeout.\");\n",
       "        window._bokeh_failed_load = true;\n",
       "      } else if (!force) {\n",
       "        var cell = $(\"#81018a37-e08f-44f4-903a-f5cac8ff73d9\").parents('.cell').data().cell;\n",
       "        cell.output_area.append_execute_result(NB_LOAD_WARNING)\n",
       "      }\n",
       "  \n",
       "    }\n",
       "  \n",
       "    if (window._bokeh_is_loading === 0) {\n",
       "      console.log(\"Bokeh: BokehJS loaded, going straight to plotting\");\n",
       "      run_inline_js();\n",
       "    } else {\n",
       "      load_libs(js_urls, function() {\n",
       "        console.log(\"Bokeh: BokehJS plotting callback run at\", now());\n",
       "        run_inline_js();\n",
       "      });\n",
       "    }\n",
       "  }(this));\n",
       "</script>"
      ]
     },
     "metadata": {},
     "output_type": "display_data"
    },
    {
     "data": {
      "text/html": [
       "<p><code>&lt;Bokeh Notebook handle for <strong>In[10]</strong>&gt;</code></p>"
      ],
      "text/plain": [
       "<bokeh.io._CommsHandle at 0x7f5c246be320>"
      ]
     },
     "execution_count": 10,
     "metadata": {},
     "output_type": "execute_result"
    }
   ],
   "source": [
    "show(column(row(pcatenary,widgetbox(text_min_height,text_max_force)),pforce), notebook_handle=True)"
   ]
  },
  {
   "cell_type": "code",
   "execution_count": 11,
   "metadata": {
    "collapsed": false
   },
   "outputs": [
    {
     "data": {
      "text/plain": [
       "<function __main__.update>"
      ]
     },
     "execution_count": 11,
     "metadata": {},
     "output_type": "execute_result"
    }
   ],
   "source": [
    "interact(update, vano=(10,300), T_0=(200,1000))"
   ]
  },
  {
   "cell_type": "code",
   "execution_count": null,
   "metadata": {
    "collapsed": true
   },
   "outputs": [],
   "source": []
  },
  {
   "cell_type": "markdown",
   "metadata": {},
   "source": [
    "$$ l_{I} = a \\left( 1 + \\frac{a^2p_{I}^2}{24 T_{X_{I}}^2}  \\right)$$\n",
    "\n",
    "$$ l_{II} = a \\left( 1 + \\frac{a^2p_{II}^2}{24 T_{X_{II}}^2}  \\right)$$"
   ]
  },
  {
   "cell_type": "markdown",
   "metadata": {},
   "source": [
    "$$ \\Delta l = \\Delta l_n + \\Delta l_\\theta = l_{II} - l_{I} $$  "
   ]
  },
  {
   "cell_type": "markdown",
   "metadata": {},
   "source": [
    "$$ \\Delta l_n = \\frac{T_{II} - T_{I}}{S E} $$\n",
    "\n",
    "$$ \\Delta l_\\theta = l_I \\alpha \\left( \\theta_{II} - \\theta_{I} \\right) $$"
   ]
  },
  {
   "cell_type": "code",
   "execution_count": 12,
   "metadata": {
    "collapsed": false
   },
   "outputs": [
    {
     "name": "stdout",
     "output_type": "stream",
     "text": [
      "l_I  = 50.00671\n",
      "l_I_2 = 50.00671\n",
      "T_I  = 925.000\n",
      "T_II = -39010.424\n",
      "lam = 881.229\n"
     ]
    },
    {
     "data": {
      "text/plain": [
       "0.009551281015082786"
      ]
     },
     "execution_count": 12,
     "metadata": {},
     "output_type": "execute_result"
    }
   ],
   "source": [
    "import scipy.optimize\n",
    "\n",
    "E = 7900.0*10 # daN/mm2\n",
    "alpha = 19.1e-6 # 1/C\n",
    "p = 107.0 # kg/km\n",
    "s_total = 31.1 # mm2\n",
    "a = 50.0 # m\n",
    "\n",
    "T_I = 990.0/4*10  # N\n",
    "T_I = 925.0\n",
    "p_I =  p/1000*9.81 # N/m\n",
    "p_II = p/1000*9.81 # N/m\n",
    "\n",
    "S = s_total \n",
    "\n",
    "theta_I  = 40.0\n",
    "theta_II = 50.0\n",
    "\n",
    "def f(x):\n",
    "    \n",
    "    T_II = x\n",
    "    \n",
    "    T_XI  = T_I\n",
    "    T_XII = T_II\n",
    "    \n",
    "    \n",
    "    \n",
    "    l_I =  a * ( 1 + (a**2 * p_I **2)/(24 * T_XI**2))\n",
    "    l_II = a * ( 1 + (a**2 * p_II**2)/(24 * T_XII**2))\n",
    "    \n",
    "    Dl_n = (T_II - T_I)/(S*E)\n",
    "    Dl_theta = l_I*alpha*(theta_II - theta_I)\n",
    "    \n",
    "    Eq = Dl_n + Dl_theta - (l_II - l_I) \n",
    "    \n",
    "    return Eq\n",
    "                \n",
    "T_II = scipy.optimize.broyden2(f, [T_I], f_tol=1e-14)\n",
    "\n",
    "T_XI  = T_I\n",
    "\n",
    "lam = T_I/p_I\n",
    "\n",
    "l_I =  a * ( 1 + (a**2 * p_I**2)/(24 * T_XI**2))\n",
    "l_I_2 =  2 * lam * np.sinh(a/(2*lam))\n",
    "\n",
    "print('l_I  = {:2.5f}'.format(l_I)) \n",
    "print('l_I_2 = {:2.5f}'.format(l_I_2))\n",
    "\n",
    "print('T_I  = {:2.3f}'.format(T_I)) \n",
    "print('T_II = {:2.3f}'.format(T_II[0]))\n",
    "\n",
    "print('lam = {:2.3f}'.format(T_I/p_I))\n",
    "\n",
    "l_I*alpha*(theta_II - theta_I)"
   ]
  },
  {
   "cell_type": "code",
   "execution_count": 13,
   "metadata": {
    "collapsed": false
   },
   "outputs": [
    {
     "ename": "SyntaxError",
     "evalue": "invalid syntax (<ipython-input-13-1e67a75a1b3e>, line 1)",
     "output_type": "error",
     "traceback": [
      "\u001b[0;36m  File \u001b[0;32m\"<ipython-input-13-1e67a75a1b3e>\"\u001b[0;36m, line \u001b[0;32m1\u001b[0m\n\u001b[0;31m    T481300 LA-30\u001b[0m\n\u001b[0m             ^\u001b[0m\n\u001b[0;31mSyntaxError\u001b[0m\u001b[0;31m:\u001b[0m invalid syntax\n"
     ]
    }
   ],
   "source": [
    "T481300 LA-30\n",
    " 26,7\n",
    " 31,1\n",
    " 17\n",
    " 2,38\n",
    " 7,14\n",
    " 6 2,38 1 2,38 990\n",
    " 1,0749\n",
    " 107,9\n",
    " 7900\n",
    " 19,1\n",
    "T481400 LA-56\n",
    " 46,8\n",
    " 54,6\n",
    " 30\n",
    " 3,15\n",
    " 9,45\n",
    " 6 3,15 1 3,15 1640\n",
    " 0,6136\n",
    " 189,1\n",
    " 7900\n",
    " 19,1\n",
    "T481500 LA-78\n",
    " 67,4\n",
    " 78,6\n",
    " 42\n",
    " 3,78\n",
    " 11,34\n",
    " 6 3,78 1 3,78 2310\n",
    " 0,4261\n",
    " 272,1\n",
    " 7900\n",
    " 19,1\n",
    "T481700 LA-110\n",
    " 94,2\n",
    " 116,2\n",
    " 60\n",
    " 6,00\n",
    " 14,00\n",
    " 30 2,00 7 2,00 4310\n",
    " 0,3066\n",
    " 433\n",
    " 8000\n",
    " 17,8\n",
    "T481800 LA-145\n",
    " 119,3\n",
    " 147,1\n",
    " 75\n",
    " 6,75\n",
    " 15,75\n",
    " 30 2,25 7 2,25 5410\n",
    " 0,2422\n",
    " 548\n",
    " 8000\n",
    " 17,8\n",
    "T481900 LA-180\n",
    " 147,3\n",
    " 181,6\n",
    " 93\n",
    " 7,50\n",
    " 17,50\n",
    " 30 2,50 7 2,50 6390\n",
    " 0,1962\n",
    " 676\n",
    " 8000\n",
    " 17,8\n",
    "T482100 LA-280\n",
    " 241,7\n",
    " 281,1\n",
    " 152\n",
    " 8,04\n",
    " 21,80\n",
    " 26 3,44 7 2,68 8450\n",
    " 0,1194\n",
    " 977\n",
    " 7500\n",
    " 18,9\n"
   ]
  },
  {
   "cell_type": "code",
   "execution_count": 84,
   "metadata": {
    "collapsed": false
   },
   "outputs": [
    {
     "name": "stdout",
     "output_type": "stream",
     "text": [
      "9.38\n",
      "[ 9.38]\n",
      "[ 8.63511815]\n"
     ]
    }
   ],
   "source": [
    "import scipy.optimize\n",
    "\n",
    "E = 8200.0\n",
    "alpha = 17.8e-6 # 1/C\n",
    "p = 0.548 # kg/m\n",
    "s_total = 147.1 # mm2\n",
    "a = 275.0 # m\n",
    "\n",
    "s = s_total \n",
    "\n",
    "q_1  = -15\n",
    "q_2 = -15\n",
    "\n",
    "t_1 = 9.38\n",
    "\n",
    "m_1 = 2.3\n",
    "m_2 = 2.3\n",
    "P_0 = p/S\n",
    "\n",
    "\n",
    "def f(x):\n",
    "    \n",
    "    T_I = t_1*s\n",
    "    t_2 = x\n",
    "  \n",
    "    T_2 = s*t_2\n",
    "    \n",
    "    T_II = T_2\n",
    "    \n",
    "    T_XI  = T_I\n",
    "    T_XII = T_II\n",
    "    \n",
    "    p_I = m_1*p\n",
    "    p_II = m_2*p\n",
    "    \n",
    "    theta_II = q_2\n",
    "    theta_I = q_1\n",
    "    \n",
    "    l_I =  a * ( 1 + (a**2 * p_I **2)/(24 * T_XI**2))\n",
    "    l_II = a * ( 1 + (a**2 * p_II**2)/(24 * T_XII**2))\n",
    "    \n",
    "    Dl_n = (T_II - T_I)/(s*E)\n",
    "    Dl_theta = l_I*alpha*(theta_II - theta_I)\n",
    "    \n",
    "    Eq = Dl_n + Dl_theta - (l_II - l_I)     \n",
    "    return Eq\n",
    "                \n",
    "t_2= scipy.optimize.broyden2(f, [t_1], f_tol=1e-10)\n",
    "\n",
    "print(t_1)\n",
    "\n",
    "print(t_2)\n",
    "\n",
    "T_2 = t_2*s\n",
    "P_2 = m_2*p\n",
    "\n",
    "flecha_2 = P_2*a**2/(8*T_2)\n",
    "\n",
    "print(flecha_2)"
   ]
  },
  {
   "cell_type": "code",
   "execution_count": 34,
   "metadata": {
    "collapsed": false
   },
   "outputs": [
    {
     "data": {
      "text/plain": [
       "2.988472028013965"
      ]
     },
     "execution_count": 34,
     "metadata": {},
     "output_type": "execute_result"
    }
   ],
   "source": [
    "E = 8200.0\n",
    "alpha = 17.8e-6 # 1/C\n",
    "p = 0.548 # kg/m\n",
    "s_total = 147.1 # mm2\n",
    "a = 275.0 # m\n",
    "\n",
    "s = s_total \n",
    "\n",
    "q_1  = -15\n",
    "q_2 = 65\n",
    "\n",
    "t_1 = 9.38\n",
    "\n",
    "m_1 = 2.3\n",
    "m_2 = 1\n",
    "P_0 = p/S\n",
    "\n",
    "\n",
    "def f(x):\n",
    "    \n",
    "    t_2 = x\n",
    "  \n",
    "    \n",
    "    \n",
    "    Eq = t_2**2*(t_2 + (m_1**2*P_0**2*a**2)/(24*t_1**2)*E + (q_2-q_1)*alpha*E-t_1 )-(m_2**2*P_0**2*a**2/24*E)\n",
    "    \n",
    "    return Eq\n",
    "                \n",
    "t_2= scipy.optimize.broyden2(f, [t_1], f_tol=1e-10)\n",
    "\n",
    "print(t_1)\n",
    "\n",
    "print(t_2)\n",
    "\n",
    "T_2 = t_2*s\n",
    "P_2 = m_2*p\n",
    "\n",
    "flecha_2 = P_2*a**2/(8*T_2)\n",
    "\n",
    "print(flecha_2)\n"
   ]
  },
  {
   "cell_type": "code",
   "execution_count": 46,
   "metadata": {
    "collapsed": false
   },
   "outputs": [
    {
     "data": {
      "text/plain": [
       "1.7320508075688772"
      ]
     },
     "execution_count": 46,
     "metadata": {},
     "output_type": "execute_result"
    }
   ],
   "source": [
    "np.sqrt(3)"
   ]
  },
  {
   "cell_type": "code",
   "execution_count": null,
   "metadata": {
    "collapsed": true
   },
   "outputs": [],
   "source": []
  }
 ],
 "metadata": {
  "anaconda-cloud": {},
  "kernelspec": {
   "display_name": "Python [default]",
   "language": "python",
   "name": "python3"
  },
  "language_info": {
   "codemirror_mode": {
    "name": "ipython",
    "version": 3
   },
   "file_extension": ".py",
   "mimetype": "text/x-python",
   "name": "python",
   "nbconvert_exporter": "python",
   "pygments_lexer": "ipython3",
   "version": "3.5.2"
  },
  "widgets": {
   "state": {
    "fe686d4fbf014b88b7ae8c02e6569db9": {
     "views": [
      {
       "cell_index": 12
      }
     ]
    }
   },
   "version": "1.2.0"
  }
 },
 "nbformat": 4,
 "nbformat_minor": 0
}
