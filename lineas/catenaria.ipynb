{
 "cells": [
  {
   "cell_type": "code",
   "execution_count": 1,
   "metadata": {
    "collapsed": false
   },
   "outputs": [
    {
     "name": "stderr",
     "output_type": "stream",
     "text": [
      "/home/jmmauricio/bin/anaconda3/lib/python3.4/site-packages/matplotlib/__init__.py:1011: UserWarning: Duplicate key in file \"../presentation.mplstyle\", line #10\n",
      "  (fname, cnt))\n",
      "/home/jmmauricio/bin/anaconda3/lib/python3.4/site-packages/matplotlib/__init__.py:1011: UserWarning: Duplicate key in file \"../presentation.mplstyle\", line #11\n",
      "  (fname, cnt))\n"
     ]
    }
   ],
   "source": [
    "import numpy as np\n",
    "import scipy.constants as const \n",
    "import matplotlib.pyplot as plt\n",
    "from IPython.display import Image\n",
    "%matplotlib inline\n",
    "plt.style.use('../presentation.mplstyle')\n"
   ]
  },
  {
   "cell_type": "code",
   "execution_count": 2,
   "metadata": {
    "collapsed": false
   },
   "outputs": [
    {
     "data": {
      "text/plain": [
       "0.092720124042898533"
      ]
     },
     "execution_count": 2,
     "metadata": {},
     "output_type": "execute_result"
    }
   ],
   "source": [
    "def catenaria(x,T_0):\n",
    "    '''\n",
    "    Devuelve la catenaria\n",
    "    '''\n",
    "    \n",
    "    \n",
    "    p_m = 0.1888 # kg/m\n",
    "    \n",
    "    lam = T_0/p_m\n",
    "    y = lam * np.cosh(x/lam) \n",
    "    \n",
    "    return y\n",
    "\n",
    "H = 10.0\n",
    "T_0 = 407.25 # kg\n",
    "catenaria(20,T_0)-catenaria(0,T_0)"
   ]
  },
  {
   "cell_type": "code",
   "execution_count": 16,
   "metadata": {
    "collapsed": false
   },
   "outputs": [
    {
     "name": "stderr",
     "output_type": "stream",
     "text": [
      "/home/jmmauricio/bin/anaconda3/lib/python3.4/site-packages/matplotlib/figure.py:387: UserWarning: matplotlib is currently using a non-GUI backend, so cannot show the figure\n",
      "  \"matplotlib is currently using a non-GUI backend, \"\n"
     ]
    },
    {
     "data": {
      "image/png": "[encoded data removed]",
      "text/plain": [
       "<matplotlib.figure.Figure at 0x7fa12873e278>"
      ]
     },
     "metadata": {},
     "output_type": "display_data"
    }
   ],
   "source": [
    "fig, (ax0) = plt.subplots(nrows=1)   # creates a figure with one axe\n",
    "H = 10.0\n",
    "vano = 150.0\n",
    "T_0 = 407.25 # kg\n",
    "\n",
    "x = np.linspace(-vano,vano,100)\n",
    "\n",
    "y = catenaria(x,T_0) \n",
    "\n",
    "ax0.plot(x,y-y[0]+ H) \n",
    "ax0.set_xlim((-vano-1,vano+1))\n",
    "ax0.set_ylim((0,H+1))\n",
    "fig.show()"
   ]
  },
  {
   "cell_type": "code",
   "execution_count": 13,
   "metadata": {
    "collapsed": false
   },
   "outputs": [
    {
     "data": {
      "text/plain": [
       "array([ 229.07883946,  228.84221661,  228.61050662,  228.38370427,\n",
       "        228.16180449,  227.94480228,  227.73269278,  227.52547123,\n",
       "        227.32313297,  227.12567345,  226.93308826,  226.74537306,\n",
       "        226.56252364,  226.38453589,  226.21140583,  226.04312955,\n",
       "        225.87970329,  225.72112338,  225.56738626,  225.41848847,\n",
       "        225.27442667,  225.13519763,  225.00079822,  224.87122543,\n",
       "        224.74647634,  224.62654817,  224.5114382 ,  224.40114387,\n",
       "        224.29566268,  224.19499229,  224.09913042,  224.00807492,\n",
       "        223.92182376,  223.84037498,  223.76372678,  223.69187741,\n",
       "        223.62482528,  223.56256887,  223.50510679,  223.45243775,\n",
       "        223.40456057,  223.36147416,  223.32317757,  223.28966994,\n",
       "        223.26095051,  223.23701863,  223.21787377,  223.20351551,\n",
       "        223.19394351,  223.18915756,  223.18915756,  223.19394351,\n",
       "        223.20351551,  223.21787377,  223.23701863,  223.26095051,\n",
       "        223.28966994,  223.32317757,  223.36147416,  223.40456057,\n",
       "        223.45243775,  223.50510679,  223.56256887,  223.62482528,\n",
       "        223.69187741,  223.76372678,  223.84037498,  223.92182376,\n",
       "        224.00807492,  224.09913042,  224.19499229,  224.29566268,\n",
       "        224.40114387,  224.5114382 ,  224.62654817,  224.74647634,\n",
       "        224.87122543,  225.00079822,  225.13519763,  225.27442667,\n",
       "        225.41848847,  225.56738626,  225.72112338,  225.87970329,\n",
       "        226.04312955,  226.21140583,  226.38453589,  226.56252364,\n",
       "        226.74537306,  226.93308826,  227.12567345,  227.32313297,\n",
       "        227.52547123,  227.73269278,  227.94480228,  228.16180449,\n",
       "        228.38370427,  228.61050662,  228.84221661,  229.07883946])"
      ]
     },
     "execution_count": 13,
     "metadata": {},
     "output_type": "execute_result"
    }
   ],
   "source": [
    "y\n"
   ]
  },
  {
   "cell_type": "code",
   "execution_count": 4,
   "metadata": {
    "collapsed": false
   },
   "outputs": [
    {
     "data": {
      "image/png": "[encoded data removed]",
      "text/plain": [
       "<IPython.core.display.Image object>"
      ]
     },
     "execution_count": 4,
     "metadata": {},
     "output_type": "execute_result"
    }
   ],
   "source": [
    "\n",
    "Image(\"catenaria3.png\")"
   ]
  },
  {
   "cell_type": "code",
   "execution_count": 5,
   "metadata": {
    "collapsed": false
   },
   "outputs": [
    {
     "data": {
      "image/png": "[encoded data removed]",
      "text/plain": [
       "<IPython.core.display.Image object>"
      ]
     },
     "execution_count": 5,
     "metadata": {},
     "output_type": "execute_result"
    }
   ],
   "source": [
    "Image(\"catenaria3.png\")"
   ]
  },
  {
   "cell_type": "markdown",
   "metadata": {},
   "source": [
    "### Este es un titulo\n",
    "\n",
    "esta prueba"
   ]
  },
  {
   "cell_type": "code",
   "execution_count": null,
   "metadata": {
    "collapsed": true
   },
   "outputs": [],
   "source": []
  }
 ],
 "metadata": {
  "kernelspec": {
   "display_name": "Python 3",
   "language": "python",
   "name": "python3"
  },
  "language_info": {
   "codemirror_mode": {
    "name": "ipython",
    "version": 3
   },
   "file_extension": ".py",
   "mimetype": "text/x-python",
   "name": "python",
   "nbconvert_exporter": "python",
   "pygments_lexer": "ipython3",
   "version": "3.4.3"
  }
 },
 "nbformat": 4,
 "nbformat_minor": 0
}
