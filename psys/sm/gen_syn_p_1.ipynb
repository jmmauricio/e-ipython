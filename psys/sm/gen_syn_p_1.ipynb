{
 "cells": [
  {
   "cell_type": "markdown",
   "metadata": {},
   "source": [
    "Un generador síncrono de rotor liso, 10 MVA, 11 kV y 13.2 Ω /fase se ncuentra girando en vacío con la tensión nominal en bornas. Determinar las condiciones de funcionamiento en los siguientes casos: \n",
    "\n",
    "1. El generador trabaja en forma aislada alimentando una carga puramente resistiva cuyas características nominales son 10 MW a 11 kV. ¿Qué actuaciones es necesario realizar para alimentar a la carga en condiciones nominales? \n",
    "2. El generador se conecta a una red de potencia inﬁnita a 11 kV, y suministra 10 MW con factor de potencia unidad. \n",
    " "
   ]
  },
  {
   "cell_type": "code",
   "execution_count": null,
   "metadata": {
    "collapsed": false
   },
   "outputs": [],
   "source": []
  }
 ],
 "metadata": {
  "anaconda-cloud": {},
  "kernelspec": {
   "display_name": "Python [default]",
   "language": "python",
   "name": "python3"
  },
  "language_info": {
   "codemirror_mode": {
    "name": "ipython",
    "version": 3
   },
   "file_extension": ".py",
   "mimetype": "text/x-python",
   "name": "python",
   "nbconvert_exporter": "python",
   "pygments_lexer": "ipython3",
   "version": "3.5.2"
  }
 },
 "nbformat": 4,
 "nbformat_minor": 0
}
