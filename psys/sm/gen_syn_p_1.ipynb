{
 "metadata": {
  "name": "",
  "signature": "sha256:6b719fc86799a183f8798ffdb68e49f8ee4d33b31d6d4debe5868f5b4fd177f2"
 },
 "nbformat": 3,
 "nbformat_minor": 0,
 "worksheets": [
  {
   "cells": [
    {
     "cell_type": "markdown",
     "metadata": {},
     "source": [
      "Un generador s\u00edncrono de rotor liso, 10 MVA, 11 kV y 13.2 \u03a9 /fase se ncuentra girando en vac\u00edo con la tensi\u00f3n nominal en bornas. Determinar las condiciones de funcionamiento en los siguientes casos: \n",
      "\n",
      "1. El generador trabaja en forma aislada alimentando una carga puramente resistiva cuyas caracter\u00edsticas nominales son 10 MW a 11 kV. \u00bfQu\u00e9 actuaciones es necesario realizar para alimentar a la carga en condiciones nominales? \n",
      "2. El generador se conecta a una red de potencia in\ufb01nita a 11 kV, y suministra 10 MW con factor de potencia unidad. \n",
      " "
     ]
    },
    {
     "cell_type": "code",
     "collapsed": false,
     "input": [],
     "language": "python",
     "metadata": {},
     "outputs": []
    }
   ],
   "metadata": {}
  }
 ]
}