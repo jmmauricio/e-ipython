{
 "metadata": {
  "name": "",
  "signature": "sha256:351a22d660d3bc14e7abed1bea1f5d987864ef6dda5c88dbbfaefa6a6ca3c8b4"
 },
 "nbformat": 3,
 "nbformat_minor": 0,
 "worksheets": [
  {
   "cells": [
    {
     "cell_type": "markdown",
     "metadata": {},
     "source": [
      "Un generador s\u00edncrono de 6 polos, 50 Hz, 10 kVA, 220 V, reactancia s\u00edncrona Xs = 3 \u03a9 y conectado en estrella, tiene la siguiente curva de magnetizaci\u00f3n."
     ]
    },
    {
     "cell_type": "markdown",
     "metadata": {},
     "source": [
      "<img src=\"mag_p2.png\" width=500/>\n",
      "<img src=\"curva_ie_e.png\" width=500/>"
     ]
    },
    {
     "cell_type": "markdown",
     "metadata": {},
     "source": [
      "La fuerza electromotriz est\u00e1 expresada en voltios fase-neutro, y la intensidad de exitaci\u00f3n en amperios de corriente continua.\n"
     ]
    },
    {
     "cell_type": "markdown",
     "metadata": {},
     "source": [
      "Determinar\n",
      "\n",
      "1. Velocidad de giro del generador.\n",
      "2. Intensidad de exitaci\u00f3n necesaria para tener la tensi\u00f3n nominal en bornas cuando el generador se encuentra en vac\u00edo.\n",
      "3. Intensidad de exitaci\u00f3n necesaria para tener la tensi\u00f3n nominal en bornas cuando el generador se encuentra en plena carga con factor de potencia 0,8 en retraso."
     ]
    },
    {
     "cell_type": "code",
     "collapsed": false,
     "input": [],
     "language": "python",
     "metadata": {},
     "outputs": []
    },
    {
     "cell_type": "code",
     "collapsed": false,
     "input": [
      "import numpy as np\n",
      "\n",
      "ie_e = np.array([[0.01, 26.72],\n",
      "                 [0.44, 55.56],\n",
      "                 [0.83, 86.47],\n",
      "                 [1.10, 107.08],\n",
      "                 [1.46, 133.18],\n",
      "                 [1.84, 159.96],\n",
      "                 [2.18, 177.45],\n",
      "                 [2.43, 187.04],\n",
      "                 [2.70, 194.90],\n",
      "                 [2.84, 196.94]])\n",
      "\n",
      "import matplotlib.pyplot as plt\n",
      "\n",
      "fig = plt.figure()\n",
      "ax = fig.add_subplot(111)\n",
      "\n",
      "ax.plot(ie_e[:,0],ie_e[:,1])\n",
      "ax.set_xlabel(u'Intensidad de exitaci\u00f3n (A)')\n",
      "ax.set_ylabel(u'Tensi\u00f3n de vac\u00edo (V)')\n",
      "ax.grid(True)\n",
      "fig.savefig('curva_ie_e.png')"
     ],
     "language": "python",
     "metadata": {},
     "outputs": [],
     "prompt_number": 5
    },
    {
     "cell_type": "code",
     "collapsed": false,
     "input": [
      "ie=np.interp(220.0/np.sqrt(3),ie_e[:,1],ie_e[:,0])\n",
      "print ie"
     ],
     "language": "python",
     "metadata": {},
     "outputs": [
      {
       "output_type": "stream",
       "stream": "stdout",
       "text": [
        "1.3749939203\n"
       ]
      }
     ],
     "prompt_number": 10
    },
    {
     "cell_type": "code",
     "collapsed": false,
     "input": [],
     "language": "python",
     "metadata": {},
     "outputs": []
    }
   ],
   "metadata": {}
  }
 ]
}