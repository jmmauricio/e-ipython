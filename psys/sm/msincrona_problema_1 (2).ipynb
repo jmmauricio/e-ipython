{
 "metadata": {
  "name": "",
  "signature": "sha256:21b79058cf23b4c3670fe0498d0e0c7e347a5c83e943412a94ec845e9210dd7d"
 },
 "nbformat": 3,
 "nbformat_minor": 0,
 "worksheets": [
  {
   "cells": [
    {
     "cell_type": "heading",
     "level": 1,
     "metadata": {},
     "source": [
      "Problema de m\u00e1quina s\u00edncrona"
     ]
    },
    {
     "cell_type": "markdown",
     "metadata": {},
     "source": [
      "Un generador s\u00edncrono de 6 polos, 50 Hz, 10 kVA, 220 V, reactancia s\u00edncrona Xs = 3 \u03a9 y conectado en estrella, tiene la siguiente curva de magnetizaci\u00f3n."
     ]
    },
    {
     "cell_type": "markdown",
     "metadata": {},
     "source": [
      "<img src=\"mag_p2.png\" width=500/>\n",
      "<img src=\"curva_ie_e.png\" width=500/>"
     ]
    },
    {
     "cell_type": "markdown",
     "metadata": {},
     "source": [
      "La fuerza electromotriz est\u00e1 expresada en voltios fase-neutro, y la intensidad de exitaci\u00f3n en amperios de corriente continua.\n"
     ]
    },
    {
     "cell_type": "markdown",
     "metadata": {},
     "source": [
      "Determinar\n",
      "\n",
      "1. Velocidad de giro del generador.\n",
      "2. Intensidad de exitaci\u00f3n necesaria para tener la tensi\u00f3n nominal en bornas cuando el generador se encuentra en vac\u00edo.\n",
      "3. Intensidad de exitaci\u00f3n necesaria para tener la tensi\u00f3n nominal en bornas cuando el generador se encuentra en plena carga con factor de potencia 0,8 en retraso."
     ]
    },
    {
     "cell_type": "markdown",
     "metadata": {},
     "source": [
      "Datos:"
     ]
    },
    {
     "cell_type": "code",
     "collapsed": false,
     "input": [
      "import numpy as np\n",
      "\n",
      "ie_e = np.array([[0.01, 26.72],\n",
      "                 [0.44, 55.56],\n",
      "                 [0.83, 86.47],\n",
      "                 [1.10, 107.08],\n",
      "                 [1.46, 133.18],\n",
      "                 [1.84, 159.96],\n",
      "                 [2.18, 177.45],\n",
      "                 [2.43, 187.04],\n",
      "                 [2.70, 194.90],\n",
      "                 [2.84, 196.94]])\n",
      "\n",
      "import matplotlib.pyplot as plt\n",
      "\n",
      "fig = plt.figure()\n",
      "ax = fig.add_subplot(111)\n",
      "\n",
      "ax.plot(ie_e[:,0],ie_e[:,1])\n",
      "ax.set_xlabel(u'Intensidad de exitaci\u00f3n (A)')\n",
      "ax.set_ylabel(u'Tensi\u00f3n de vac\u00edo (V)')\n",
      "ax.grid(True)\n",
      "fig.savefig('curva_ie_e.png')"
     ],
     "language": "python",
     "metadata": {},
     "outputs": [],
     "prompt_number": 2
    },
    {
     "cell_type": "markdown",
     "metadata": {},
     "source": [
      "## Ejemplo de interpolaci\u00f3n"
     ]
    },
    {
     "cell_type": "code",
     "collapsed": false,
     "input": [
      "ie=np.interp(220.0/np.sqrt(3),ie_e[:,1],ie_e[:,0])\n",
      "print ie"
     ],
     "language": "python",
     "metadata": {},
     "outputs": [
      {
       "output_type": "stream",
       "stream": "stdout",
       "text": [
        "1.3749939203\n"
       ]
      }
     ],
     "prompt_number": 3
    },
    {
     "cell_type": "code",
     "collapsed": false,
     "input": [
      "help(np.interp)"
     ],
     "language": "python",
     "metadata": {},
     "outputs": [
      {
       "output_type": "stream",
       "stream": "stdout",
       "text": [
        "Help on function interp in module numpy.lib.function_base:\n",
        "\n",
        "interp(x, xp, fp, left=None, right=None)\n",
        "    One-dimensional linear interpolation.\n",
        "    \n",
        "    Returns the one-dimensional piecewise linear interpolant to a function\n",
        "    with given values at discrete data-points.\n",
        "    \n",
        "    Parameters\n",
        "    ----------\n",
        "    x : array_like\n",
        "        The x-coordinates of the interpolated values.\n",
        "    \n",
        "    xp : 1-D sequence of floats\n",
        "        The x-coordinates of the data points, must be increasing.\n",
        "    \n",
        "    fp : 1-D sequence of floats\n",
        "        The y-coordinates of the data points, same length as `xp`.\n",
        "    \n",
        "    left : float, optional\n",
        "        Value to return for `x < xp[0]`, default is `fp[0]`.\n",
        "    \n",
        "    right : float, optional\n",
        "        Value to return for `x > xp[-1]`, defaults is `fp[-1]`.\n",
        "    \n",
        "    Returns\n",
        "    -------\n",
        "    y : {float, ndarray}\n",
        "        The interpolated values, same shape as `x`.\n",
        "    \n",
        "    Raises\n",
        "    ------\n",
        "    ValueError\n",
        "        If `xp` and `fp` have different length\n",
        "    \n",
        "    Notes\n",
        "    -----\n",
        "    Does not check that the x-coordinate sequence `xp` is increasing.\n",
        "    If `xp` is not increasing, the results are nonsense.\n",
        "    A simple check for increasing is::\n",
        "    \n",
        "        np.all(np.diff(xp) > 0)\n",
        "    \n",
        "    \n",
        "    Examples\n",
        "    --------\n",
        "    >>> xp = [1, 2, 3]\n",
        "    >>> fp = [3, 2, 0]\n",
        "    >>> np.interp(2.5, xp, fp)\n",
        "    1.0\n",
        "    >>> np.interp([0, 1, 1.5, 2.72, 3.14], xp, fp)\n",
        "    array([ 3. ,  3. ,  2.5 ,  0.56,  0. ])\n",
        "    >>> UNDEF = -99.0\n",
        "    >>> np.interp(3.14, xp, fp, right=UNDEF)\n",
        "    -99.0\n",
        "    \n",
        "    Plot an interpolant to the sine function:\n",
        "    \n",
        "    >>> x = np.linspace(0, 2*np.pi, 10)\n",
        "    >>> y = np.sin(x)\n",
        "    >>> xvals = np.linspace(0, 2*np.pi, 50)\n",
        "    >>> yinterp = np.interp(xvals, x, y)\n",
        "    >>> import matplotlib.pyplot as plt\n",
        "    >>> plt.plot(x, y, 'o')\n",
        "    [<matplotlib.lines.Line2D object at 0x...>]\n",
        "    >>> plt.plot(xvals, yinterp, '-x')\n",
        "    [<matplotlib.lines.Line2D object at 0x...>]\n",
        "    >>> plt.show()\n",
        "\n"
       ]
      }
     ],
     "prompt_number": 4
    },
    {
     "cell_type": "code",
     "collapsed": false,
     "input": [],
     "language": "python",
     "metadata": {},
     "outputs": [],
     "prompt_number": 4
    }
   ],
   "metadata": {}
  }
 ]
}