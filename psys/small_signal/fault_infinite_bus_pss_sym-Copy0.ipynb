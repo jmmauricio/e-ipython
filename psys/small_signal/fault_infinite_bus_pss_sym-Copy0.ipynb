{
 "metadata": {
  "name": "",
  "signature": "sha256:85ba4ae342ea55873f5bca61f61b7ad5b7109779bb0140f616b103543bf3ee3d"
 },
 "nbformat": 3,
 "nbformat_minor": 0,
 "worksheets": [
  {
   "cells": [
    {
     "cell_type": "code",
     "collapsed": false,
     "input": [
      "from sympy import symbols, sin, cos, Matrix,N\n"
     ],
     "language": "python",
     "metadata": {},
     "outputs": [],
     "prompt_number": 2
    },
    {
     "cell_type": "heading",
     "level": 2,
     "metadata": {},
     "source": [
      "Generator to infinite bus"
     ]
    },
    {
     "cell_type": "heading",
     "level": 3,
     "metadata": {},
     "source": [
      "Model"
     ]
    },
    {
     "cell_type": "code",
     "collapsed": false,
     "input": [
      "delta,p_m, X, e,v,H,omega_s,omega,D,Omega_b,e_0 = symbols('delta,p_m, X, e,v,H,omega_s,omega,D,Omega_b,e_0' )\n",
      "T1d0,dum  = symbols('T1d0,dum' )\n"
     ],
     "language": "python",
     "metadata": {},
     "outputs": [],
     "prompt_number": 5
    },
    {
     "cell_type": "code",
     "collapsed": false,
     "input": [
      "K_stab =8.0\n",
      "v_f = e_0 + K_stab*(omega - 1.0)\n",
      "p_e = e*v/X*sin(delta)\n",
      "\n",
      "f_1 = ddelta = Omega_b*(omega - omega_s)\n",
      "f_2 = domega = 1.0/(2*H)*(p_m - p_e - D*(omega - omega_s))\n",
      "f_3 = 1.0/T1d0*(v_f - e)\n",
      "\n"
     ],
     "language": "python",
     "metadata": {},
     "outputs": [],
     "prompt_number": 6
    },
    {
     "cell_type": "heading",
     "level": 3,
     "metadata": {},
     "source": [
      "Initial values"
     ]
    },
    {
     "cell_type": "code",
     "collapsed": false,
     "input": [
      "f = Matrix([f_1,f_2,f_3])\n",
      "x = Matrix([delta,omega,e])\n",
      "A = f.jacobian(x)\n",
      "print(A)"
     ],
     "language": "python",
     "metadata": {},
     "outputs": [
      {
       "output_type": "stream",
       "stream": "stdout",
       "text": [
        "[                        0,  Omega_b,                       0]\n",
        "[-0.5*e*v*cos(delta)/(H*X), -0.5*D/H, -0.5*v*sin(delta)/(H*X)]\n",
        "[                        0, 8.0/T1d0,               -1.0/T1d0]\n"
       ]
      }
     ],
     "prompt_number": 7
    },
    {
     "cell_type": "heading",
     "level": 3,
     "metadata": {},
     "source": [
      "Numerical evaluation"
     ]
    },
    {
     "cell_type": "code",
     "collapsed": false,
     "input": [
      "import numpy as np\n",
      "\n",
      "p_m = 1.0\n",
      "X = 0.5\n",
      "e = 1.0\n",
      "e_0 = e\n",
      "v = 1.0\n",
      "H = 3.5\n",
      "omega_s = 1.0\n",
      "omega = omega_s\n",
      "D = 0.0\n",
      "Omega_b = 2.0*np.pi*50.0\n",
      "p_e = p_m\n",
      "delta = np.arcsin(p_e*X/(e*v))  \n",
      "omega = omega_s\n",
      "T1d0 = 0.1\n",
      "A_n  = np.array(A.evalf(subs={'T1d0':T1d0,'Omega_b':Omega_b,'H':H,'D':D,'X':X,'delta':delta,'e':e,'v':v, 'omega_s':omega_s, 'omega':omega, 'e_0':e_0}))\n",
      "A_n = np.array(A_n, dtype = np.float)\n",
      "print A_n"
     ],
     "language": "python",
     "metadata": {},
     "outputs": [
      {
       "output_type": "stream",
       "stream": "stdout",
       "text": [
        "[[  0.00000000e+00   3.14159265e+02   0.00000000e+00]\n",
        " [ -2.47435830e-01   0.00000000e+00  -1.42857143e-01]\n",
        " [  0.00000000e+00   8.00000000e+01  -1.00000000e+01]]\n"
       ]
      }
     ],
     "prompt_number": 12
    },
    {
     "cell_type": "heading",
     "level": 3,
     "metadata": {},
     "source": [
      "Small signal"
     ]
    },
    {
     "cell_type": "code",
     "collapsed": false,
     "input": [
      "w, v = np.linalg.eig(A_n)\n",
      "print w"
     ],
     "language": "python",
     "metadata": {},
     "outputs": [
      {
       "output_type": "stream",
       "stream": "stdout",
       "text": [
        "[-0.32349606+9.11080994j -0.32349606-9.11080994j -9.35300788+0.j        ]\n"
       ]
      }
     ],
     "prompt_number": 13
    },
    {
     "cell_type": "code",
     "collapsed": false,
     "input": [
      "%matplotlib inline   \n",
      "import matplotlib.pyplot as plt\n",
      "fig_1 = plt.figure( figsize=(8, 8))\n",
      "    \n",
      "ax_rlocus = fig_1.add_subplot(1,1,1)\n",
      "\n",
      "\n",
      "ax_rlocus.plot(w.real, w.imag, 'ro', linewidth=2)\n",
      "\n",
      "ax_rlocus.set_xlabel('Real')\n",
      "ax_rlocus.set_ylabel('Imaginary')\n",
      "\n",
      "ax_rlocus.grid(True)\n",
      "ax_rlocus.set_xlim([-10,0.1])\n",
      "#fig_1.savefig('machine_1_delta_omega_{:d}.png'.format(int(fault_ms)))\n",
      "plt.show()\n"
     ],
     "language": "python",
     "metadata": {},
     "outputs": [
      {
       "metadata": {},
       "output_type": "display_data",
       "png": "[encoded data removed]",
       "text": [
        "<matplotlib.figure.Figure at 0x52c54d0>"
       ]
      }
     ],
     "prompt_number": 16
    },
    {
     "cell_type": "code",
     "collapsed": false,
     "input": [],
     "language": "python",
     "metadata": {},
     "outputs": [],
     "prompt_number": 262
    }
   ],
   "metadata": {}
  }
 ]
}