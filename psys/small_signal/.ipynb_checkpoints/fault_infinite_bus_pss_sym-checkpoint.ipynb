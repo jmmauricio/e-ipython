{
 "cells": [
  {
   "cell_type": "code",
   "execution_count": 1,
   "metadata": {},
   "outputs": [],
   "source": [
    "from sympy import symbols, sin, cos, Matrix,N\n"
   ]
  },
  {
   "cell_type": "markdown",
   "metadata": {},
   "source": [
    "## Generator to infinite bus"
   ]
  },
  {
   "cell_type": "markdown",
   "metadata": {},
   "source": [
    "### Model"
   ]
  },
  {
   "cell_type": "code",
   "execution_count": 2,
   "metadata": {},
   "outputs": [],
   "source": [
    "delta,p_m, X, e,v,H,omega_s,omega,D,Omega_b,e_0 = symbols('delta,p_m, X, e,v,H,omega_s,omega,D,Omega_b,e_0' )\n"
   ]
  },
  {
   "cell_type": "code",
   "execution_count": 3,
   "metadata": {},
   "outputs": [],
   "source": [
    "K_stab =8.0\n",
    "e = e_0 + K_stab*(omega - 1.0)\n",
    "p_e = e*v/X*sin(delta)\n",
    "\n",
    "f_1 = ddelta = Omega_b*(omega - omega_s)\n",
    "f_2 = domega = 1.0/(2*H)*(p_m - p_e - D*(omega - omega_s))"
   ]
  },
  {
   "cell_type": "markdown",
   "metadata": {},
   "source": [
    "### Initial values"
   ]
  },
  {
   "cell_type": "code",
   "execution_count": 4,
   "metadata": {},
   "outputs": [
    {
     "name": "stdout",
     "output_type": "stream",
     "text": [
      "Matrix([[0, Omega_b], [-0.5*v*(e_0 + 8.0*omega - 8.0)*cos(delta)/(H*X), 0.5*(-D - 8.0*v*sin(delta)/X)/H]])\n"
     ]
    }
   ],
   "source": [
    "f = Matrix([f_1,f_2])\n",
    "x = Matrix([delta,omega])\n",
    "A = f.jacobian(x)\n",
    "print(A)"
   ]
  },
  {
   "cell_type": "markdown",
   "metadata": {},
   "source": [
    "### Numerical evaluation"
   ]
  },
  {
   "cell_type": "code",
   "execution_count": 6,
   "metadata": {},
   "outputs": [
    {
     "name": "stdout",
     "output_type": "stream",
     "text": [
      "[[ 0.00000000e+00  3.14159265e+02]\n",
      " [-2.47435830e-01 -1.14285714e+00]]\n"
     ]
    }
   ],
   "source": [
    "import numpy as np\n",
    "\n",
    "p_m = 1.0\n",
    "X = 0.5\n",
    "e = 1.0\n",
    "e_0 = e\n",
    "v = 1.0\n",
    "H = 3.5\n",
    "omega_s = 1.0\n",
    "omega = omega_s\n",
    "D = 0.0\n",
    "Omega_b = 2.0*np.pi*50.0\n",
    "p_e = p_m\n",
    "delta = np.arcsin(p_e*X/(e*v))  \n",
    "omega = omega_s\n",
    "\n",
    "A_n  = np.array(A.evalf(subs={'Omega_b':Omega_b,'H':H,'D':D,'X':X,'delta':delta,'e':e,'v':v, 'omega_s':omega_s, 'omega':omega, 'e_0':e_0}))\n",
    "A_n = np.array(A_n, dtype = np.float)\n",
    "print(A_n)"
   ]
  },
  {
   "cell_type": "markdown",
   "metadata": {},
   "source": [
    "### Small signal"
   ]
  },
  {
   "cell_type": "code",
   "execution_count": 8,
   "metadata": {},
   "outputs": [
    {
     "name": "stdout",
     "output_type": "stream",
     "text": [
      "[-0.57142857+8.79816616j -0.57142857-8.79816616j]\n"
     ]
    }
   ],
   "source": [
    "w, v = np.linalg.eig(A_n)\n",
    "print(w)"
   ]
  },
  {
   "cell_type": "code",
   "execution_count": 9,
   "metadata": {},
   "outputs": [
    {
     "data": {
      "image/png": "[encoded data removed]",
      "text/plain": [
       "<matplotlib.figure.Figure at 0x7ff02d8809b0>"
      ]
     },
     "metadata": {},
     "output_type": "display_data"
    }
   ],
   "source": [
    "%matplotlib inline   \n",
    "import matplotlib.pyplot as plt\n",
    "fig_1 = plt.figure( figsize=(8, 8))\n",
    "    \n",
    "ax_rlocus = fig_1.add_subplot(1,1,1)\n",
    "\n",
    "\n",
    "ax_rlocus.plot(w.real, w.imag, 'ro', linewidth=2)\n",
    "\n",
    "ax_rlocus.set_xlabel('Real')\n",
    "ax_rlocus.set_ylabel('Imaginary')\n",
    "\n",
    "ax_rlocus.grid(True)\n",
    "ax_rlocus.set_xlim([-0.6,0.1])\n",
    "#fig_1.savefig('machine_1_delta_omega_{:d}.png'.format(int(fault_ms)))\n",
    "plt.show()\n"
   ]
  },
  {
   "cell_type": "code",
   "execution_count": 262,
   "metadata": {},
   "outputs": [],
   "source": []
  }
 ],
 "metadata": {
  "kernelspec": {
   "display_name": "Python 3",
   "language": "python",
   "name": "python3"
  },
  "language_info": {
   "codemirror_mode": {
    "name": "ipython",
    "version": 3
   },
   "file_extension": ".py",
   "mimetype": "text/x-python",
   "name": "python",
   "nbconvert_exporter": "python",
   "pygments_lexer": "ipython3",
   "version": "3.6.4"
  }
 },
 "nbformat": 4,
 "nbformat_minor": 1
}
