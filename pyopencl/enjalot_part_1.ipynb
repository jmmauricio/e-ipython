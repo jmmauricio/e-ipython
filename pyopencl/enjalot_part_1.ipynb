{
 "cells": [
  {
   "cell_type": "code",
   "execution_count": 2,
   "metadata": {
    "collapsed": false
   },
   "outputs": [
    {
     "ename": "ImportError",
     "evalue": "No module named 'pyopencl'",
     "output_type": "error",
     "traceback": [
      "\u001b[1;31m---------------------------------------------------------------------------\u001b[0m",
      "\u001b[1;31mImportError\u001b[0m                               Traceback (most recent call last)",
      "\u001b[1;32m<ipython-input-2-d0ae346eafb5>\u001b[0m in \u001b[0;36m<module>\u001b[1;34m()\u001b[0m\n\u001b[0;32m      6\u001b[0m \u001b[1;31m# Elapsed time is 10.165289 seconds.\u001b[0m\u001b[1;33m\u001b[0m\u001b[1;33m\u001b[0m\u001b[0m\n\u001b[0;32m      7\u001b[0m \u001b[1;33m\u001b[0m\u001b[0m\n\u001b[1;32m----> 8\u001b[1;33m \u001b[1;32mimport\u001b[0m \u001b[0mpyopencl\u001b[0m \u001b[1;32mas\u001b[0m \u001b[0mcl\u001b[0m\u001b[1;33m\u001b[0m\u001b[0m\n\u001b[0m\u001b[0;32m      9\u001b[0m \u001b[1;32mimport\u001b[0m \u001b[0mnumpy\u001b[0m\u001b[1;33m\u001b[0m\u001b[0m\n\u001b[0;32m     10\u001b[0m \u001b[1;32mimport\u001b[0m \u001b[0mtime\u001b[0m\u001b[1;33m\u001b[0m\u001b[0m\n",
      "\u001b[1;31mImportError\u001b[0m: No module named 'pyopencl'"
     ]
    }
   ],
   "source": [
    "#Port from Adventures in OpenCL Part1 to PyOpenCL\n",
    "# http://enja.org/2010/07/13/adventures-in-opencl-part-1-getting-started/\n",
    "# http://documen.tician.de/pyopencl/\n",
    "\n",
    "# >> N = 1e8; a=0:N; b=0:N; tic; sin(a.*b); toc;\n",
    "# Elapsed time is 10.165289 seconds.\n",
    "\n",
    "import pyopencl as cl\n",
    "import numpy\n",
    "import time \n",
    "import numpy as np\n",
    "\n",
    "N = int(1e8)\n",
    "\n",
    "class CL:\n",
    "    def __init__(self):\n",
    "        self.ctx = cl.create_some_context()\n",
    "        self.queue = cl.CommandQueue(self.ctx)\n",
    "\n",
    "    def loadProgram(self, filename):\n",
    "        #read in the OpenCL source file as a string\n",
    "        fstr = \"\"\"__kernel void part1(__global float* a, __global float* b, __global float* c)\n",
    "        {\n",
    "            unsigned int i = get_global_id(0);\n",
    "\n",
    "            c[i] = sin(a[i] * b[i]);\n",
    "        }\"\"\"\n",
    "        #create the program\n",
    "        self.program = cl.Program(self.ctx, fstr).build()\n",
    "\n",
    "    def popCorn(self):\n",
    "        mf = cl.mem_flags\n",
    "\n",
    "        #initialize client side (CPU) arrays\n",
    "        self.a = numpy.array(range(N), dtype=numpy.float32)\n",
    "        self.b = numpy.array(range(N), dtype=numpy.float32)\n",
    "\n",
    "        #create OpenCL buffers\n",
    "        self.a_buf = cl.Buffer(self.ctx, mf.READ_ONLY | mf.COPY_HOST_PTR, hostbuf=self.a)\n",
    "        self.b_buf = cl.Buffer(self.ctx, mf.READ_ONLY | mf.COPY_HOST_PTR, hostbuf=self.b)\n",
    "        self.dest_buf = cl.Buffer(self.ctx, mf.WRITE_ONLY, self.b.nbytes)\n",
    "\n",
    "    def execute(self):\n",
    "        self.program.part1(self.queue, self.a.shape, None, self.a_buf, self.b_buf, self.dest_buf)\n",
    "        c = numpy.empty_like(self.a)\n",
    "        cl.enqueue_copy(self.queue, self.dest_buf, c).wait()\n",
    "        #print(\"a\", self.a)\n",
    "        #print(\"b\", self.b)\n",
    "        #print( \"c\", c)\n",
    "\n",
    "\n",
    "\n",
    "if __name__ == \"__main__\":\n",
    "    example = CL()\n",
    "    example.loadProgram(\"part1.cl\")\n",
    "    t_0 = time.time()\n",
    "    example.popCorn()\n",
    "    t_pop = time.time()-t_0\n",
    "    print('t_pop', t_pop)\n",
    "    \n",
    "    t_0 = time.time()\n",
    "    example.execute()\n",
    "    t_gpu = time.time()-t_0\n",
    "    \n",
    "    print(t_gpu)\n",
    "    \n",
    "    \n",
    "    a = numpy.array(range(N), dtype=numpy.float32)\n",
    "    b = numpy.array(range(N), dtype=numpy.float32)\n",
    "    t_0 = time.time()\n",
    "    np.sin(a*b)\n",
    "    print(time.time()-t_0)\n",
    "    "
   ]
  },
  {
   "cell_type": "code",
   "execution_count": null,
   "metadata": {
    "collapsed": true
   },
   "outputs": [],
   "source": []
  },
  {
   "cell_type": "code",
   "execution_count": null,
   "metadata": {
    "collapsed": true
   },
   "outputs": [],
   "source": []
  }
 ],
 "metadata": {
  "kernelspec": {
   "display_name": "Python 3",
   "language": "python",
   "name": "python3"
  },
  "language_info": {
   "codemirror_mode": {
    "name": "ipython",
    "version": 3
   },
   "file_extension": ".py",
   "mimetype": "text/x-python",
   "name": "python",
   "nbconvert_exporter": "python",
   "pygments_lexer": "ipython3",
   "version": "3.5.1"
  }
 },
 "nbformat": 4,
 "nbformat_minor": 0
}
