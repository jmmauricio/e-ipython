{
 "metadata": {
  "name": "",
  "signature": "sha256:169b8a4e88b232c2f1d93b1ba9a66479d379d225c460fb15ac0141ce20823b58"
 },
 "nbformat": 3,
 "nbformat_minor": 0,
 "worksheets": [
  {
   "cells": [
    {
     "cell_type": "heading",
     "level": 1,
     "metadata": {},
     "source": [
      "Problema acometida aeropuerto San Pablo"
     ]
    },
    {
     "cell_type": "heading",
     "level": 2,
     "metadata": {},
     "source": [
      "C\u00e1lculo de los par\u00e1metros caracter\u00edsticos del circuito"
     ]
    },
    {
     "cell_type": "code",
     "collapsed": false,
     "input": [
      "import numpy as np\n",
      "#Calculo de los parametros del circuito pi\n",
      "ro=2.82e-8 #resistividad\n",
      "alfa=3.9e-3 #coeficiente temperatura aluminio LA-56\n",
      "long=10000 #longitud cable (m)\n",
      "sec=54.6e-6  #seccion cable (mm^2)\n",
      "T_0=293.15 #K\n",
      "T_max=343.15  #temperatura maxima a la que va a estar sometida el cable (K)\n",
      "R_0=ro*long/sec #resistencia a temperatura ambiente\n",
      "R=R_0*(1+alfa*(T_max-T_0)) #resistencia a temperatura maxima\n",
      "R_km=R/10 #resistencia kilometrica\n",
      "print('Resistencia kilometrica: {:2.3f} km'.format(R_km))\n",
      "\n",
      "d=2  #distancia entre fases\n",
      "r=9.45e-3  #radio conductor \u00bf9.45mm radio exterior?\n",
      "L_km=(0.5+4.605*np.log10(d/r))*1e-4 #http://www.coitiab.es/reglamentos/electricidad/reglamentos/jccm/iberdrola/mt_2-21-60.htm\n",
      "omega=2*np.pi*50\n",
      "X_km=omega*L_km #reactancia kilometrica\n",
      "print('Reactancia kilometrica: {:2.3f} km'.format(X_km))"
     ],
     "language": "python",
     "metadata": {},
     "outputs": [
      {
       "output_type": "stream",
       "stream": "stdout",
       "text": [
        "Resistencia kilometrica: 0.617 km\n",
        "Reactancia kilometrica: 0.352 km\n"
       ]
      }
     ],
     "prompt_number": 3
    },
    {
     "cell_type": "heading",
     "level": 2,
     "metadata": {},
     "source": [
      "C\u00e1lculo de la ca\u00edda de tensi\u00f3n y de las p\u00e9rdidas por efecto Joules"
     ]
    },
    {
     "cell_type": "code",
     "collapsed": false,
     "input": [
      "U_2=20000 #tension en el aeropuerto\n",
      "S=2e6 #potencia aparente\n",
      "cos_fi=0.75\n",
      "fi=np.arccos(cos_fi)\n",
      "sen_fi=np.sin(fi)\n",
      "\n",
      "Du=np.array([])\n",
      "Perdidas=np.array([])\n",
      "Q_c=np.linspace(0,1322875.6555322953,num=100) #El vector va desde 0 hasta Q=S*sen_fi\n",
      "for q in Q_c:\n",
      "    P=S*cos_fi \n",
      "    Q=S*sen_fi-q #Potencia reactiva inicial: S*sen_fi menos potencia condensadores:q\n",
      "    S_compleja=P+1j*Q #Potencia aparente tras a\u00f1adir potencia reactiva condensadores\n",
      "    I_n=np.conj(S_compleja/(np.sqrt(3)*U_2))\n",
      "    #U_1=np.abs((R_km+1j*X_km)*I_n+U_2)\n",
      "    #du=np.abs(U_2-U_1)\n",
      "    nuevo_fp=np.arctan(Q/P) #nuevo factor de potencia tras a\u00f1adir condensadores\n",
      "    du=(P*np.abs(R_km+1j*X_km))/(np.sqrt(3)*U_2*np.cos(nuevo_fp)) #http://www.rtrenergia.es/rtr/ficheros/reactiva_2012.pdf\n",
      "    #P,Z y U_2 son ctes. Lo unico que varia es nuevo_fp\n",
      "    perdidas=R_km*(np.abs(I_n))**2 #Perdidas por efecto Joules con el modulo de la intensidad\n",
      "    Du=np.hstack((Du,du)) #Almacenar en vectores: (vector antiguo(vector vacio al principio),nueva cantidad calculada tras cada bucle)\n",
      "    Perdidas=np.hstack((Perdidas,perdidas))\n",
      "    Q=np.hstack((Q,q))    \n",
      "\n",
      "import matplotlib.pyplot as plt #importar libreria graficas\n",
      "fig_1=plt.figure()\n",
      "#fig_2=plt.figure()\n",
      "ax_q_Du=fig_1.add_subplot(211)\n",
      "ax_q_perdidas=fig_1.add_subplot(212)\n",
      "\n",
      "\n",
      "ax_q_Du.plot(Q_c,Du)\n",
      "\n",
      "ax_q_perdidas.grid(True)\n",
      "ax_q_perdidas.plot(Q_c,Perdidas)\n",
      "\n",
      "fig_1.show()\n",
      "#fig_2.show()"
     ],
     "language": "python",
     "metadata": {},
     "outputs": [
      {
       "output_type": "stream",
       "stream": "stderr",
       "text": [
        "C:\\Python27\\lib\\site-packages\\matplotlib\\figure.py:371: UserWarning: matplotlib is currently using a non-GUI backend, so cannot show the figure\n",
        "  \"matplotlib is currently using a non-GUI backend, \"\n"
       ]
      },
      {
       "metadata": {},
       "output_type": "display_data",
       "png": "[encoded data removed]",
       "text": [
        "<matplotlib.figure.Figure at 0x5af2d50>"
       ]
      }
     ],
     "prompt_number": 4
    },
    {
     "cell_type": "code",
     "collapsed": false,
     "input": [],
     "language": "python",
     "metadata": {},
     "outputs": []
    }
   ],
   "metadata": {}
  }
 ]
}