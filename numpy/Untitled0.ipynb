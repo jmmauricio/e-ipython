{
 "metadata": {
  "name": "",
  "signature": "sha256:1f3be921ba5408ca760e14cf69353e36255e95df681b66db385f596e49793ef9"
 },
 "nbformat": 3,
 "nbformat_minor": 0,
 "worksheets": [
  {
   "cells": [
    {
     "cell_type": "code",
     "collapsed": false,
     "input": [],
     "language": "python",
     "metadata": {},
     "outputs": []
    }
   ],
   "metadata": {}
  }
 ]
}