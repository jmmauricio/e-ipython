{
 "cells": [
  {
   "cell_type": "code",
   "execution_count": 5,
   "metadata": {},
   "outputs": [
    {
     "name": "stdout",
     "output_type": "stream",
     "text": [
      "11.274\n",
      "2.271\n",
      "25.603253999999996\n"
     ]
    }
   ],
   "source": [
    "fobj_charge = open('/sys/class/power_supply/BAT1/charge_now','r')\n",
    "fobj_voltage = open('/sys/class/power_supply/BAT1/voltage_now','r')\n",
    "fobj_current = open('/sys/class/power_supply/BAT1/current_now','r')\n",
    "v = float(fobj_voltage.read())/1e6\n",
    "i = float(fobj_current.read())/1e6\n",
    "p = v*i\n",
    "print(v)\n",
    "print(i)\n",
    "print(p)"
   ]
  },
  {
   "cell_type": "code",
   "execution_count": null,
   "metadata": {
    "collapsed": true
   },
   "outputs": [],
   "source": []
  }
 ],
 "metadata": {
  "kernelspec": {
   "display_name": "Python 3",
   "language": "python",
   "name": "python3"
  },
  "language_info": {
   "codemirror_mode": {
    "name": "ipython",
    "version": 3
   },
   "file_extension": ".py",
   "mimetype": "text/x-python",
   "name": "python",
   "nbconvert_exporter": "python",
   "pygments_lexer": "ipython3",
   "version": "3.6.2"
  }
 },
 "nbformat": 4,
 "nbformat_minor": 1
}
