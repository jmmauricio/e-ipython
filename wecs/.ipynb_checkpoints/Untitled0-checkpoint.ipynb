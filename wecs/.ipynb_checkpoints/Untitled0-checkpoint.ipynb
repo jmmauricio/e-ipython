{
 "metadata": {
  "name": "",
  "signature": "sha256:272b83d77954c92834b7c3b52d216335ea1f691587d493a4e5c8e24b361a6a7d"
 },
 "nbformat": 3,
 "nbformat_minor": 0,
 "worksheets": []
}