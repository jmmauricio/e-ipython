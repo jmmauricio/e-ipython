{
 "cells": [
  {
   "cell_type": "markdown",
   "metadata": {},
   "source": [
    "## Power Flow Example 1\n",
    "\n",
    "Power flow equations for a 2 bus system:\n",
    "\n",
    "\\begin{eqnarray}\n",
    "P_i^{sp} &=& -b_{ij} V_i V_j \\sin \\left( \\theta_i - \\theta_j \\right)\\\\\n",
    "Q_i^{sp} &=& -\\left(b_{sh} + b_{ij}\\right) V_i^2 + b_{ij} V_i V_j \\cos \\left( \\theta_i - \\theta_j \\right)\\\\\n",
    "\\end{eqnarray}\n",
    "\n",
    "Intermediate vector $y$, \n",
    "\n",
    "\\begin{eqnarray}\n",
    "y_1 &=& L_{ij} = V_i V_j \\sin \\left( \\theta_i - \\theta_j \\right) \\\\\n",
    "y_2 &=& U_i = V_i^2 \\\\\n",
    "y_3 &=& K_{ij} = V_i V_j \\cos \\left( \\theta_i - \\theta_j \\right) \\\\\n",
    "\\end{eqnarray}\n",
    "\n",
    "Underdetermined linear system:\n",
    "\n",
    "\\begin{eqnarray}\n",
    "P_i^{sp} &=& -b_{ij} y_1\\\\\n",
    "Q_i^{sp} &=& -\\left(b_{sh} + b_{ij}\\right) y_2 + b_{ij} y_3\\\\\n",
    "\\end{eqnarray}\n",
    "\n",
    "\n",
    "\n",
    "\n",
    "Underdetermined linear system:\n",
    "\n",
    "$$ \n",
    "\\left( \n",
    "\\begin{array}{c}\n",
    " P_i^{sp} \\\\\n",
    " Q_i^{sp}\n",
    "\\end{array}\n",
    "\\right)\n",
    "=\n",
    "\\underbrace{\n",
    "\\left( \n",
    "\\begin{array}{cc}\n",
    " -b_{ij} & 0 & 0  \\\\\n",
    " 0 &-\\left(b_{sh} + b_{ij}\\right) & b_{ij} \n",
    "\\end{array}\n",
    "\\right) }_{E}\n",
    "\\left( \n",
    "\\begin{array}{c}\n",
    " y_1 \\\\\n",
    " y_2 \\\\\n",
    " y_3 \n",
    "\\end{array}\n",
    "\\right) \n",
    "$$ \n",
    "\n",
    "Intermediate vector $u$,\n",
    " $$u = \\left \\{ \\alpha_i,  \\alpha_{ij},\\theta_{ij}  \\right \\}$$ \n",
    " \n",
    "with,\n",
    "\n",
    "$$ \\alpha_i = \\ln V_i^2 $$\n",
    "$$ \\alpha_{ij} = \\alpha_i +\\alpha_j $$\n",
    "$$ \\theta_{ij} = \\theta_i - \\theta_j $$\n",
    "\n",
    "\n",
    "\n",
    "$$\n",
    "x =\n",
    "\\left [ \n",
    "\\begin{array}{c}\n",
    " \\alpha_1 \\\\\n",
    " \\alpha_2 \\\\\n",
    " \\vdots   \\\\\n",
    " \\alpha_N  \\\\\n",
    " \\hline\n",
    " \\theta_1 \\\\\n",
    " \\theta_2 \\\\\n",
    " \\vdots \\\\\n",
    " \\theta_{N-1} \n",
    "\\end{array}\n",
    "\\right] \n",
    "$$\n",
    "\n",
    "\n",
    "$$\n",
    "\\alpha_2 = \\ln y_2\n",
    "$$\n",
    "\n",
    "\\begin{eqnarray}\n",
    "y_1 &=& L_{ij} = V_i V_j \\sin \\left( \\theta_{ij} \\right) \\\\\n",
    "y_2 &=& U_i = V_i^2 \\\\\n",
    "y_3 &=& K_{ij} = V_i V_j \\cos \\left( \\theta_{ij} \\right) \\\\\n",
    "\\end{eqnarray}\n",
    "\n",
    "\\begin{eqnarray}\n",
    "P_i^{sp} &=& -b_{ij} V_i V_j \\sin \\left( \\theta_i - \\theta_j \\right)\\\\\n",
    "Q_i^{sp} &=& -\\left(b_{sh} + b_{ij}\\right) V_i^2 + b_{ij} V_i V_j \\cos \\left( \\theta_i - \\theta_j \\right)\\\\\n",
    "\\end{eqnarray}\n"
   ]
  },
  {
   "cell_type": "markdown",
   "metadata": {},
   "source": [
    "\\begin{eqnarray}\n",
    "u_1 &=& \\ln \\left( y_3^2 + y_1^2 \\right) \\\\\n",
    "u_2 &=& \\ln y_2 \\\\\n",
    "u_3 &=& \\arctan \\left( \\frac{y_1}{y_3} \\right) \\\\\n",
    "\\end{eqnarray}\n",
    "\n",
    "\n"
   ]
  },
  {
   "cell_type": "markdown",
   "metadata": {},
   "source": [
    "$$\\frac{\\partial u_1}{\\partial y_1} = \\frac{1}{y_3^2 + y_1^2 } 2 y_1$$\n",
    "\n",
    "$$\\frac{\\partial u_1}{\\partial y_2} = 0$$\n",
    "\n",
    "$$\\frac{\\partial u_1}{\\partial y_3} = \\frac{1}{y_3^2 + y_1^2 } 2 y_3$$"
   ]
  },
  {
   "cell_type": "markdown",
   "metadata": {},
   "source": [
    "$$\\frac{\\partial u_2}{\\partial y_1} = 0$$\n",
    "\n",
    "$$\\frac{\\partial u_2}{\\partial y_2} = \\frac{1}{y_2 }$$\n",
    "\n",
    "$$\\frac{\\partial u_2}{\\partial y_3} = 0$$"
   ]
  },
  {
   "cell_type": "markdown",
   "metadata": {},
   "source": [
    "$$\\frac{\\partial u_3}{\\partial y_1} = \\frac{1}{1 + \\left(\\frac{y_1}{y_3}\\right)^2 } \\frac{y_3}{y_3^2} $$\n",
    "\n",
    "$$\\frac{\\partial u_3}{\\partial y_2} = 0$$\n",
    "\n",
    "$$\\frac{\\partial u_3}{\\partial y_3} = \\frac{1}{1 + \\left(\\frac{y_1}{y_3}\\right)^2 } \\frac{-y_1}{y_3^2} $$\n"
   ]
  },
  {
   "cell_type": "code",
   "execution_count": 2,
   "metadata": {
    "collapsed": true
   },
   "outputs": [],
   "source": [
    "import sympy as sym"
   ]
  },
  {
   "cell_type": "code",
   "execution_count": 20,
   "metadata": {
    "collapsed": false
   },
   "outputs": [
    {
     "data": {
      "text/plain": [
       "Matrix([\n",
       "[y_1/2,   0,  y_3],\n",
       "[    0, y_2,    0],\n",
       "[y_3/2,   0, -y_1]])"
      ]
     },
     "execution_count": 20,
     "metadata": {},
     "output_type": "execute_result"
    }
   ],
   "source": [
    "y_1,y_2,y_3 = sym.symbols('y_1,y_2,y_3')\n",
    "u_1,u_2,u_3 = sym.symbols('u_1,u_2,u_3')\n",
    "\n",
    "f_1 = sym.log(y_1**2 + y_3**2)\n",
    "f_2 = sym.log(y_2)\n",
    "f_3 = sym.atan(y_1/y_3)\n",
    "\n",
    "y = sym.Matrix([[y_1],[y_2],[y_3]])\n",
    "u = sym.Matrix([[u_1],[u_2],[u_3]])\n",
    "f = sym.Matrix([[f_1],[f_2],[f_3]])\n",
    "\n",
    "F_y = f.jacobian(y)\n",
    "\n",
    "F_inv = F_y.inv()\n",
    "\n",
    "F_inv = sym.simplify(F_inv)\n",
    "\n",
    "F_inv"
   ]
  },
  {
   "cell_type": "code",
   "execution_count": 18,
   "metadata": {
    "collapsed": false
   },
   "outputs": [
    {
     "data": {
      "text/plain": [
       "log(y_1**2 + y_3**2)"
      ]
     },
     "execution_count": 18,
     "metadata": {},
     "output_type": "execute_result"
    }
   ],
   "source": [
    "u_1"
   ]
  },
  {
   "cell_type": "code",
   "execution_count": 22,
   "metadata": {
    "collapsed": true
   },
   "outputs": [],
   "source": [
    "import numpy as np"
   ]
  },
  {
   "cell_type": "code",
   "execution_count": 23,
   "metadata": {
    "collapsed": false
   },
   "outputs": [
    {
     "ename": "NameError",
     "evalue": "name 'V_i' is not defined",
     "output_type": "error",
     "traceback": [
      "\u001b[1;31m---------------------------------------------------------------------------\u001b[0m",
      "\u001b[1;31mNameError\u001b[0m                                 Traceback (most recent call last)",
      "\u001b[1;32m<ipython-input-23-bd15dad7b01b>\u001b[0m in \u001b[0;36m<module>\u001b[1;34m()\u001b[0m\n\u001b[0;32m     68\u001b[0m \u001b[1;33m\u001b[0m\u001b[0m\n\u001b[0;32m     69\u001b[0m     \u001b[1;31m# step 0\u001b[0m\u001b[1;33m\u001b[0m\u001b[1;33m\u001b[0m\u001b[0m\n\u001b[1;32m---> 70\u001b[1;33m     \u001b[0my_k\u001b[0m \u001b[1;33m=\u001b[0m \u001b[0mf_inv\u001b[0m\u001b[1;33m(\u001b[0m\u001b[0mnp\u001b[0m\u001b[1;33m.\u001b[0m\u001b[0mmatmul\u001b[0m\u001b[1;33m(\u001b[0m\u001b[0mC\u001b[0m\u001b[1;33m,\u001b[0m\u001b[0mx_k\u001b[0m\u001b[1;33m)\u001b[0m\u001b[1;33m)\u001b[0m\u001b[1;33m\u001b[0m\u001b[0m\n\u001b[0m\u001b[0;32m     71\u001b[0m \u001b[1;33m\u001b[0m\u001b[0m\n\u001b[0;32m     72\u001b[0m     \u001b[1;31m# step 1\u001b[0m\u001b[1;33m\u001b[0m\u001b[1;33m\u001b[0m\u001b[0m\n",
      "\u001b[1;32m<ipython-input-23-bd15dad7b01b>\u001b[0m in \u001b[0;36mf_inv\u001b[1;34m(x)\u001b[0m\n\u001b[0;32m     34\u001b[0m     \u001b[0malpha_i\u001b[0m \u001b[1;33m=\u001b[0m \u001b[0mx\u001b[0m\u001b[1;33m[\u001b[0m\u001b[1;36m1\u001b[0m\u001b[1;33m,\u001b[0m\u001b[1;36m0\u001b[0m\u001b[1;33m]\u001b[0m\u001b[1;33m\u001b[0m\u001b[0m\n\u001b[0;32m     35\u001b[0m \u001b[1;33m\u001b[0m\u001b[0m\n\u001b[1;32m---> 36\u001b[1;33m     \u001b[0my_1\u001b[0m \u001b[1;33m=\u001b[0m \u001b[0mV_i\u001b[0m\u001b[1;33m*\u001b[0m\u001b[0mV_j\u001b[0m\u001b[1;33m*\u001b[0m\u001b[0mnp\u001b[0m\u001b[1;33m.\u001b[0m\u001b[0msin\u001b[0m\u001b[1;33m(\u001b[0m\u001b[0mtheta_i\u001b[0m \u001b[1;33m-\u001b[0m \u001b[0mtheta_j\u001b[0m \u001b[1;33m)\u001b[0m\u001b[1;33m\u001b[0m\u001b[0m\n\u001b[0m\u001b[0;32m     37\u001b[0m     \u001b[0my_2\u001b[0m \u001b[1;33m=\u001b[0m \u001b[0malpha_1\u001b[0m\u001b[1;33m\u001b[0m\u001b[0m\n\u001b[0;32m     38\u001b[0m     \u001b[0my_3\u001b[0m \u001b[1;33m=\u001b[0m \u001b[0mV_i\u001b[0m\u001b[1;33m*\u001b[0m\u001b[0mV_j\u001b[0m\u001b[1;33m*\u001b[0m\u001b[0mnp\u001b[0m\u001b[1;33m.\u001b[0m\u001b[0mcos\u001b[0m\u001b[1;33m(\u001b[0m\u001b[0mtheta_i\u001b[0m \u001b[1;33m-\u001b[0m \u001b[0mtheta_j\u001b[0m \u001b[1;33m)\u001b[0m\u001b[1;33m\u001b[0m\u001b[0m\n",
      "\u001b[1;31mNameError\u001b[0m: name 'V_i' is not defined"
     ]
    }
   ],
   "source": [
    "b_sh = 0.0\n",
    "b_ij = 10.0\n",
    "\n",
    "E = np.array([[-b_ij,           0,   0],\n",
    "              [    0,-(b_sh+b_ij),b_ij]]) \n",
    "\n",
    "C = np.array([[1,0],\n",
    "              [0,1],\n",
    "              [1,-1]]) \n",
    "\n",
    "p = np.array([[0.8],\n",
    "              [0.2]]) \n",
    "\n",
    "theta_j = 0.0\n",
    "V_j = 1.0\n",
    "\n",
    "def f(y):\n",
    "    \n",
    "    y_1 = y[0,0]\n",
    "    y_2 = y[1,0]    \n",
    "    y_3 = y[2,0]    \n",
    "    \n",
    "    u_1 = np.log(y_1**2 + y_3**2)\n",
    "    u_2 = np.log(y_2)\n",
    "    u_3 = np.atan(y_1/y_3)\n",
    "   \n",
    "    u = np.array([[u_1],[u_2],[u_3]]) \n",
    "    \n",
    "    return u\n",
    "\n",
    "def f_inv(x):\n",
    "    \n",
    "    theta_i = x[0,0]\n",
    "    alpha_i = x[1,0]\n",
    "    \n",
    "    y_1 = V_i*V_j*np.sin(theta_i - theta_j )\n",
    "    y_2 = alpha_1\n",
    "    y_3 = V_i*V_j*np.cos(theta_i - theta_j )\n",
    "\n",
    "    y = np.array([[y_1],[y_2],[y_3]]) \n",
    "    \n",
    "    return y\n",
    "\n",
    "\n",
    "def F_inv(u,y):\n",
    "    \n",
    "    u_1 = u[0,0]\n",
    "    u_2 = u[1,0]\n",
    "    u_3 = u[2,0]\n",
    "\n",
    "    y_1 = y[0,0]\n",
    "    y_2 = y[1,0]\n",
    "    y_3 = y[2,0]\n",
    "    \n",
    "    return np.array([\n",
    "                    [y_1/2,   0,  y_3],\n",
    "                    [    0, y_2,    0],\n",
    "                    [y_3/2,   0, -y_1]])\n",
    "\n",
    "\n",
    "x_0 = np.array([[1-0j],\n",
    "                [-1-0j]]) \n",
    "\n",
    "max_iter = 200\n",
    "\n",
    "x_k = x_0\n",
    "for it in range(max_iter):\n",
    "    \n",
    "    # step 0\n",
    "    y_k = f_inv(np.matmul(C,x_k))\n",
    "    \n",
    "    # step 1\n",
    "    lam = np.linalg.solve(np.matmul(E,E.T), p-np.matmul(E,y_k))\n",
    "    y_ = y_k  +  np.matmul(E.T,lam)\n",
    "    u_ = f(y_)\n",
    "\n",
    "    # step 2\n",
    "    H_ = np.matmul(E,np.matmul(F_inv(u_),C))\n",
    "    \n",
    "    x_0 = x_k\n",
    "    x_k = np.linalg.solve(H_, np.matmul(E,np.matmul(F_inv(u_),f(y_))))\n",
    "    \n",
    "    epsilon = np.linalg.norm(x_k-x_0, np.inf)\n",
    "    if epsilon < 0.00001:\n",
    "        print('Convergence reached after {:d} iterations'.format(it+1))      \n",
    "        \n",
    "        x_alpha = np.exp(x_k)\n",
    "        print(x_alpha)\n",
    "        break\n",
    "        \n",
    "    if it>=max_iter-1:\n",
    "        print('Max. iteration number reached')\n",
    "        print(x_k)"
   ]
  },
  {
   "cell_type": "code",
   "execution_count": 40,
   "metadata": {
    "collapsed": false
   },
   "outputs": [
    {
     "name": "stdout",
     "output_type": "stream",
     "text": [
      "Convergence reached after 5 iterations\n",
      "[[ 2.+0.j]\n",
      " [ 3.+0.j]]\n"
     ]
    }
   ],
   "source": [
    "E = np.array([[ 1, 1, 0, 0],\n",
    "              [ 0, 0, 2,-1]]) \n",
    "\n",
    "C = np.array([[1,1],\n",
    "              [1,2],\n",
    "              [2,1],\n",
    "              [2,0]]) \n",
    "\n",
    "p = np.array([[24],\n",
    "              [20]]) \n",
    "\n",
    "def f(y):   \n",
    "    return  np.log(y)\n",
    "\n",
    "def f_inv(u):\n",
    "    return np.exp(u)\n",
    "\n",
    "\n",
    "def F_inv(u): \n",
    "    return np.diagflat(np.exp(u))\n",
    "\n",
    "x_0 = np.array([[ 1-0j],\n",
    "                [ 1-0j]]) \n",
    "\n",
    "max_iter = 200\n",
    "\n",
    "x_k = x_0\n",
    "for it in range(max_iter):\n",
    "    \n",
    "    # step 0\n",
    "    y_k = f_inv(np.matmul(C,x_k))\n",
    "    \n",
    "    # step 1\n",
    "    lam = np.linalg.solve(np.matmul(E,E.T), p-np.matmul(E,y_k))\n",
    "    y_ = y_k  +  np.matmul(E.T,lam)\n",
    "    u_ = f(y_)\n",
    "\n",
    "    # step 2\n",
    "    H_ = np.matmul(E,np.matmul(F_inv(u_),C))\n",
    "    \n",
    "    x_0 = x_k\n",
    "    x_k = np.linalg.solve(H_, np.matmul(E,np.matmul(F_inv(u_),f(y_))))\n",
    "    \n",
    "    epsilon = np.linalg.norm(x_k-x_0, np.inf)\n",
    "    if epsilon < 0.00001:\n",
    "        print('Convergence reached after {:d} iterations'.format(it+1))      \n",
    "        \n",
    "        x_alpha = np.exp(x_k)\n",
    "        print(x_alpha)\n",
    "        break\n",
    "        \n",
    "    if it>=max_iter-1:\n",
    "        print('Max. iteration number reached')\n",
    "        print(x_k)"
   ]
  },
  {
   "cell_type": "markdown",
   "metadata": {},
   "source": [
    "## Solution with Newthon-Raphson"
   ]
  },
  {
   "cell_type": "markdown",
   "metadata": {},
   "source": [
    "\\begin{eqnarray}\n",
    "p_1 = x_1 x_2 +x_1 x_2^2\\\\\n",
    "p_2 = 2 x_1^2 x_2 −x_2^2 \n",
    "\\end{eqnarray}"
   ]
  },
  {
   "cell_type": "code",
   "execution_count": 43,
   "metadata": {
    "collapsed": true
   },
   "outputs": [],
   "source": [
    "import sympy as sym"
   ]
  },
  {
   "cell_type": "code",
   "execution_count": 44,
   "metadata": {
    "collapsed": true
   },
   "outputs": [],
   "source": [
    "x_1,x_2 = sym.symbols('x_1,x_2')"
   ]
  },
  {
   "cell_type": "code",
   "execution_count": 89,
   "metadata": {
    "collapsed": false
   },
   "outputs": [],
   "source": [
    "x = sym.Matrix([[x_1],[x_2]])\n",
    "h_sym = sym.Matrix([[x_1*x_2+x_1*x_2**2],[2*x_1**2*x_2-x_1**2]])\n",
    "H_sym = h_sym.jacobian(x)\n",
    "\n",
    "from sympy import lambdify \n",
    "h = lambdify((x, y), Matrix([x, y]), modules=array2mat)\n",
    ">>> f(1, 2)\n",
    "matrix([[1],\n",
    "        [2]])\n"
   ]
  },
  {
   "cell_type": "code",
   "execution_count": 128,
   "metadata": {
    "collapsed": false
   },
   "outputs": [
    {
     "name": "stdout",
     "output_type": "stream",
     "text": [
      "Convergence reached after 8 iterations\n",
      "[[ 2.]\n",
      " [ 3.]]\n"
     ]
    }
   ],
   "source": [
    "def h(x):\n",
    "    x_1 = x[0,0]\n",
    "    x_2 = x[1,0]\n",
    "    \n",
    "    return np.array([[x_1*x_2+x_1*x_2**2],[2*x_1**2*x_2-x_1**2]])\n",
    "\n",
    "def H(x):\n",
    "    x_1 = x[0,0]\n",
    "    x_2 = x[1,0]\n",
    "    \n",
    "    return np.array([\n",
    "                    [x_2**2 + x_2     , 2*x_1*x_2 + x_1],\n",
    "                    [4*x_1*x_2 - 2*x_1,       2*x_1**2]\n",
    "                    ])\n",
    "\n",
    "p = np.array([[24.0],\n",
    "              [20.0]]) \n",
    "\n",
    "x_0 = np.array([[1.0],\n",
    "                [1.0]]) \n",
    "\n",
    "\n",
    "max_iter = 100\n",
    "for it in range(max_iter):\n",
    "\n",
    "    Dp = p - h(x_0)\n",
    "    Dx = np.linalg.solve(H(x_0), Dp)\n",
    "\n",
    "    x_0 = Dx + x_0\n",
    "    \n",
    "    epsilon = np.linalg.norm(Dx, np.inf)\n",
    "    if epsilon < 0.00001:\n",
    "        print('Convergence reached after {:d} iterations'.format(it+1))      \n",
    "\n",
    "        print(x_0)\n",
    "        break\n",
    "        \n",
    "    if it>=max_iter-1:\n",
    "        print('Max. iteration number reached')\n",
    "        print(x_k)"
   ]
  },
  {
   "cell_type": "code",
   "execution_count": null,
   "metadata": {
    "collapsed": true
   },
   "outputs": [],
   "source": []
  }
 ],
 "metadata": {
  "kernelspec": {
   "display_name": "Python 3",
   "language": "python",
   "name": "python3"
  },
  "language_info": {
   "codemirror_mode": {
    "name": "ipython",
    "version": 3
   },
   "file_extension": ".py",
   "mimetype": "text/x-python",
   "name": "python",
   "nbconvert_exporter": "python",
   "pygments_lexer": "ipython3",
   "version": "3.5.1"
  }
 },
 "nbformat": 4,
 "nbformat_minor": 0
}
