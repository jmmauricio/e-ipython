{
 "cells": [
  {
   "cell_type": "markdown",
   "metadata": {},
   "source": [
    "## Example 4\n",
    "\n",
    "Consider the following nonlinear system in three unknowns:\n",
    "\\begin{eqnarray}\n",
    "\\frac{d\\delta}{dt} &=& \\Omega_b \\Delta \\omega \\\\\n",
    "\\frac{d\\Delta \\omega}{dt} &=& \\frac{1}{2H}\\left(  P_m - p_e - K_d \\Delta \\omega \\right)\\\\\n",
    "0 &=& p_e - \\frac{E' V_\\infty}{X} \\sin \\left( \\delta  \\right) \\\\\n",
    "\\end{eqnarray}\n",
    "\n",
    "which, upon introduction  y variables, \n",
    "\n"
   ]
  },
  {
   "cell_type": "markdown",
   "metadata": {},
   "source": [
    "Consider the following nonlinear system in three unknowns:\n",
    "\\begin{eqnarray}\n",
    "\\frac{d\\delta}{dt} &\\approx& \\frac{\\delta^{i+1}-\\delta^{i}}{\\Delta t} \\\\\n",
    "\\frac{d\\delta}{dt} &\\approx& \\frac{\\Delta \\omega^{i+1}-\\Delta \\omega^{i}}{\\Delta t} \\\\\n",
    "0 &=& p_e - \\frac{E' V_\\infty}{X} \\sin \\left( \\delta  \\right) \\\\\n",
    "\\end{eqnarray}\n",
    "\n",
    "which, upon introduction  y variables, "
   ]
  },
  {
   "cell_type": "markdown",
   "metadata": {},
   "source": [
    "\\begin{eqnarray}\n",
    "\\frac{d\\delta}{dt} &=& - \\frac{\\delta^{i+1}}{\\Delta t} + \\Omega_b \\Delta \\omega \\\\\n",
    "\\frac{d\\Delta \\omega}{dt} &=& P_m - p_e - K_d \\Delta \\omega \\\\\n",
    "0 &=& p_e - \\frac{E' V_\\infty}{X} \\sin \\left( \\delta  \\right) \\\\\n",
    "\\end{eqnarray}\n",
    "\n",
    "\\begin{eqnarray}\n",
    "\\frac{d\\delta}{dt} &\\approx& \\frac{\\delta^{i+1}-\\delta^{i}}{\\Delta t} \\\\\n",
    "\\frac{d\\delta}{dt} &\\approx& \\frac{\\Delta \\omega^{i+1}-\\Delta \\omega^{i}}{\\Delta t} \\\\\n",
    "0 &=& p_e - \\frac{E' V_\\infty}{X} \\sin \\left( \\delta  \\right) \\\\\n",
    "\\end{eqnarray}\n",
    "\n",
    "\n",
    "which, upon introduction  y variables, "
   ]
  },
  {
   "cell_type": "markdown",
   "metadata": {},
   "source": [
    "\\begin{eqnarray}\n",
    "\\delta^{i}        &=& \\delta^{i+1} - \\Delta t \\left(\\Omega_b \\Delta \\omega^{i+1}  \\right) \\\\\n",
    "\\Delta \\omega^{i} &=& \\Delta \\omega^{i+1} - \\Delta t  \\left( P_m - p_e^{i+1} - K_d \\Delta \\omega^{i+1} \\right) \\\\\n",
    "0 &=& p_e^{i+1} - \\frac{E' V_\\infty}{X} \\sin \\left( \\delta^{i+1}  \\right) \\\\\n",
    "\\end{eqnarray}\n"
   ]
  },
  {
   "cell_type": "markdown",
   "metadata": {},
   "source": [
    "\\begin{eqnarray}\n",
    "\\delta^{i}        &=& \\delta - \\Delta t \\left(\\Omega_b \\Delta \\omega  \\right) \\\\\n",
    "\\Delta \\omega^{i} &=& \\Delta \\omega -  \\frac{\\Delta t}{2H}  \\left( P_m - p_e- K_d \\Delta \\omega \\right) \\\\\n",
    "0 &=& p_e - \\frac{E' V_\\infty}{X} \\sin \\left( \\delta  \\right) \\\\\n",
    "\\end{eqnarray}"
   ]
  },
  {
   "cell_type": "markdown",
   "metadata": {},
   "source": [
    "\\begin{eqnarray}\n",
    "\\delta^{i}        &=& \\delta - \\Delta t  \\Omega_b \\Delta \\omega \\\\\n",
    "\\Delta \\omega^{i} + \\frac{\\Delta t}{2H} P_m &=& \\Delta \\omega + \\frac{\\Delta t}{2H}  p_e + \\frac{\\Delta t}{2H}  K_d \\Delta \\omega \\\\\n",
    "0 &=& p_e - \\frac{E' V_\\infty}{X} \\sin \\left( \\delta  \\right) \\\\\n",
    "\\end{eqnarray}"
   ]
  },
  {
   "cell_type": "markdown",
   "metadata": {},
   "source": [
    "\\begin{eqnarray}\n",
    "y_1 &=& \\delta  \\\\\n",
    "y_2 &=& \\Delta \\omega \\\\\n",
    "y_3 &=& p_e\\\\\n",
    "y_4 &=& \\sin \\left( \\delta  \\right)\n",
    "\\end{eqnarray}\n"
   ]
  },
  {
   "cell_type": "code",
   "execution_count": null,
   "metadata": {
    "collapsed": true
   },
   "outputs": [],
   "source": []
  },
  {
   "cell_type": "code",
   "execution_count": 1,
   "metadata": {
    "collapsed": false
   },
   "outputs": [
    {
     "name": "stdout",
     "output_type": "stream",
     "text": [
      "Matrix([[1, -Dt*Omega_b, 0, 0], [0, Dt*K_d/(2*H) + 1, Dt/(2*H), 0], [0, 0, 1, -E*V/X]])\n",
      "\\left[\\begin{matrix}1 & - Dt \\Omega_{b} & 0 & 0\\\\0 & \\frac{Dt K_{d}}{2 H} + 1 & \\frac{Dt}{2 H} & 0\\\\0 & 0 & 1 & - \\frac{E V}{X}\\end{matrix}\\right]\n",
      "\\left[\\begin{matrix}\\delta_{i}\\\\Domega_{i} + P_{m}\\\\0\\end{matrix}\\right] = \\left[\\begin{matrix}- Dt \\Omega_{b} y_{2} + y_{1}\\\\\\frac{Dt y_{3}}{2 H} + y_{2} \\left(\\frac{Dt K_{d}}{2 H} + 1\\right)\\\\- \\frac{E V}{X} y_{4} + y_{3}\\end{matrix}\\right]\n"
     ]
    }
   ],
   "source": [
    "import sympy as sym \n",
    "\n",
    "sqrt = sym.sqrt\n",
    "arcsin = sym.asin\n",
    "sin = sym.sin\n",
    "\n",
    "log = sym.ln\n",
    "delta,Domega,p_e = sym.symbols('delta,Domega,p_e')\n",
    "delta_i,Domega_i,p_e_i,Dt = sym.symbols('delta_i,Domega_i,p_e_i,Dt')\n",
    "Omega_b,P_m,K_d,E,X,V,H = sym.symbols('Omega_b,P_m,K_d,E,X,V,H') \n",
    "a_1,a_2,a_3 = sym.symbols('a_1,a_2,a_3') \n",
    "y_1,y_2,y_3,y_4,y_5,y_6 = sym.symbols(['y_1','y_2','y_3','y_4','y_5','y_6'])  \n",
    "\n",
    "y = sym.Matrix([[y_1],[y_2],[y_3],[y_4]])\n",
    "\n",
    "rh1 = delta - Dt * Omega_b * Domega \n",
    "rh2 = Domega + Dt/(2*H)*p_e + Dt/(2*H)*K_d*Domega\n",
    "rh3 = p_e - E*V/X*sin(delta)\n",
    "\n",
    "rh_x = [rh1,rh2,rh3]\n",
    "\n",
    "p = sym.Matrix([[delta_i],[Domega_i + P_m],[0]])\n",
    "\n",
    "\n",
    "x2y = [(y_1,delta),\n",
    "       (y_2,Domega),\n",
    "       (y_3,p_e),\n",
    "       (y_4,sin(delta))]\n",
    "\n",
    "rh1 = y_1 - Dt * Omega_b * y_2 \n",
    "rh2 = y_2 + Dt/(2*H)*y_3 + Dt/(2*H)*K_d *y_2\n",
    "rh3 = y_3 - E*V/X*y_4\n",
    "\n",
    "rh_y = [[rh1],[rh2],[rh3]]\n",
    "\n",
    "RH_y = sym.Matrix(rh_y)\n",
    "\n",
    "E =RH_y.jacobian(y)\n",
    "print(E)\n",
    "print(sym.latex(E))\n",
    "print(sym.latex(p) + ' = ' + sym.latex(E*y))"
   ]
  },
  {
   "cell_type": "markdown",
   "metadata": {},
   "source": [
    "$$  \\left[\\begin{matrix}\\delta_{i}\\\\\n",
    "Domega_{i} + P_{m}\\\\0\\end{matrix}\\right] = \\left[\\begin{matrix}- Dt \\Omega_{b} y_{2} + y_{1}\\\\Dt y_{3} + y_{2} \\left(Dt K_{d} + 1\\right)\\\\- \\frac{E V}{X} y_{4} + y_{3}\\end{matrix}\\right] $$"
   ]
  },
  {
   "cell_type": "markdown",
   "metadata": {},
   "source": [
    "$$\n",
    "E = \n",
    "\\left[\\begin{matrix}1 & - Dt \\Omega_{b} & 0 & 0\\\\0 & Dt K_{d} + 1 & Dt & 0\\\\0 & 0 & 1 & - \\frac{E V}{X}\\end{matrix}\\right]\n",
    "$$"
   ]
  },
  {
   "cell_type": "code",
   "execution_count": 2,
   "metadata": {
    "collapsed": false
   },
   "outputs": [
    {
     "ename": "NameError",
     "evalue": "name 'u_1' is not defined",
     "output_type": "error",
     "traceback": [
      "\u001b[1;31m---------------------------------------------------------------------------\u001b[0m",
      "\u001b[1;31mNameError\u001b[0m                                 Traceback (most recent call last)",
      "\u001b[1;32m<ipython-input-2-1b62100ba772>\u001b[0m in \u001b[0;36m<module>\u001b[1;34m()\u001b[0m\n\u001b[1;32m----> 1\u001b[1;33m y2u = [(u_1,y_1),       # y_1 = Domega = u_1\n\u001b[0m\u001b[0;32m      2\u001b[0m        \u001b[1;33m(\u001b[0m\u001b[0mu_2\u001b[0m\u001b[1;33m,\u001b[0m\u001b[0my_2\u001b[0m\u001b[1;33m)\u001b[0m\u001b[1;33m,\u001b[0m       \u001b[1;31m# y_2 = p_e    = u_2\u001b[0m\u001b[1;33m\u001b[0m\u001b[0m\n\u001b[0;32m      3\u001b[0m        (u_3,asin(y_3))] # asin(y_3) = delta \n",
      "\u001b[1;31mNameError\u001b[0m: name 'u_1' is not defined"
     ]
    }
   ],
   "source": [
    "y2u = [(u_1,y_1),       # y_1 = Domega = u_1\n",
    "       (u_2,y_2),       # y_2 = p_e    = u_2\n",
    "       (u_3,asin(y_3))] # asin(y_3) = delta "
   ]
  },
  {
   "cell_type": "markdown",
   "metadata": {},
   "source": [
    "\\begin{eqnarray}\n",
    "p_1 &=& y_1 - y_2\\\\\n",
    "p_2 &=& y_3 - y_4 \\\\\n",
    "0 &=& y_2 + y_5 - y_6\n",
    "\\end{eqnarray}"
   ]
  },
  {
   "cell_type": "code",
   "execution_count": null,
   "metadata": {
    "collapsed": false
   },
   "outputs": [],
   "source": [
    "import sympy as sym\n",
    "\n",
    "y_1,y_2,y_3,y_4,y_5,y_6 = sym.symbols(['y_1','y_2','y_3','y_4','y_5','y_6']) \n",
    "\n",
    "sym.diff(sym.asin(y_1),y_1)"
   ]
  },
  {
   "cell_type": "code",
   "execution_count": null,
   "metadata": {
    "collapsed": true
   },
   "outputs": [],
   "source": [
    "import numpy as np"
   ]
  },
  {
   "cell_type": "code",
   "execution_count": null,
   "metadata": {
    "collapsed": false
   },
   "outputs": [],
   "source": [
    "Omega_b =  2.0*np.pi*50.0\n",
    "K_d = 0.5\n",
    "E_p = 1.0\n",
    "V = 1.0\n",
    "X = 0.4\n",
    "Dt =  0.001\n",
    "H = 3.5\n",
    "E = np.array([[1, -Dt*Omega_b, 0, 0], \n",
    "              [0, Dt/(2*H)*K_d + 1, Dt/(2*H), 0], \n",
    "              [0, 0, 1, -E_p*V/X]]) \n",
    "\n",
    "C = np.array([[1,0,0],\n",
    "              [0,1,0],\n",
    "              [0,0,1],\n",
    "              [1,0,0]\n",
    "             ]) \n",
    "\n",
    "def f(y):\n",
    "    \n",
    "    y_1 = y[0,0]\n",
    "    y_2 = y[1,0]\n",
    "    y_3 = y[2,0]\n",
    "    y_4 = y[3,0]\n",
    "    \n",
    "    u_1 = y_1\n",
    "    u_2 = y_2\n",
    "    u_3 = y_3\n",
    "    u_4 = np.arcsin(y_4)\n",
    "    \n",
    "    u = np.array([[u_1],[u_2],[u_3],[u_4]]) \n",
    "    \n",
    "    return u\n",
    "\n",
    "def f_inv(u):\n",
    "    \n",
    "    u_1 = u[0,0]\n",
    "    u_2 = u[1,0]\n",
    "    u_3 = u[2,0]\n",
    "    u_4 = u[3,0]\n",
    "    \n",
    "    y_1 = u_1\n",
    "    y_2 = u_2\n",
    "    y_3 = u_3\n",
    "    y_4 = np.sin(u_4)\n",
    "    \n",
    "    y = np.array([[y_1],[y_2],[y_3],[y_4]]) \n",
    "    \n",
    "    return y\n",
    "\n",
    "\n",
    "def F_inv(u):\n",
    "    \n",
    "    u_1 = u[0,0]\n",
    "    u_2 = u[1,0]\n",
    "    u_3 = u[2,0]\n",
    "    u_4 = u[3,0]\n",
    "    \n",
    "    return np.diag([1,\n",
    "                    1,\n",
    "                    1,\n",
    "                    1/np.sqrt(-u_4**2 + 1)])\n",
    "\n",
    "P_m = 0.8\n",
    "P_e_0 = P_m\n",
    "delta_0 = np.arcsin(P_e_0*X/(E_p*V))\n",
    "Domega_0 = 0.0\n",
    "\n",
    "\n",
    "p = np.array([[delta_0],\n",
    "              [Domega_0+Dt*P_m/(2*H)],\n",
    "              [0]]) \n",
    "\n",
    "\n",
    "\n",
    "max_iter = 200\n",
    "\n",
    "\n",
    "x_0 = np.array([[delta_0+0j],\n",
    "                [Domega_0+0j],\n",
    "                [P_e_0+0j]]) \n",
    "\n",
    "\n",
    "x_k = x_0\n",
    "t_list = [-Dt.real]\n",
    "delta_list = [x_0[0,0].real]\n",
    "Domega_list = [x_0[1,0].real]\n",
    "p_e_list = [x_0[2,0].real]\n",
    "    \n",
    "t_end = 5.0\n",
    "for it_t  in range(int(t_end/Dt)): \n",
    "    t = Dt * it_t \n",
    "    if t>1.0:\n",
    "        E_p = 0\n",
    "    if t>1.1:\n",
    "        E_p = 1.0     \n",
    "\n",
    "    E = np.array([[1, -Dt*Omega_b, 0, 0], \n",
    "                  [0, Dt/(2*H)*K_d + 1, Dt/(2*H), 0], \n",
    "                  [0, 0, 1, -E_p*V/X]]) \n",
    "\n",
    "    for it in range(max_iter):\n",
    "\n",
    "        # step 0\n",
    "        y_k = f_inv(np.matmul(C,x_k))\n",
    "\n",
    "        # step 1\n",
    "        lam = np.linalg.solve(np.matmul(E,E.T), p-np.matmul(E,y_k))\n",
    "        y_ = y_k  +  np.matmul(E.T,lam)\n",
    "        u_ = f(y_)\n",
    "\n",
    "        # step 2\n",
    "        H_ = np.matmul(E,np.matmul(F_inv(u_),C))\n",
    "\n",
    "        x_0 = x_k\n",
    "        x_k = np.linalg.solve(H_, np.matmul(E,np.matmul(F_inv(u_),f(y_))))\n",
    "\n",
    "        epsilon = np.linalg.norm(x_k-x_0, np.inf)\n",
    "\n",
    "        if epsilon < 0.00000001:\n",
    "            #print('Convergence reached after {:d} iterations'.format(it+1))      \n",
    "            x = x_k        \n",
    "            #print(t,x[1,0])\n",
    "\n",
    "            break\n",
    "\n",
    "        if it>=max_iter-1:\n",
    "            print('Max. iteration number reached')\n",
    "            x = x_k\n",
    "            print(x)\n",
    "        \n",
    "    delta = x[0,0]\n",
    "    Domega = x[1,0]\n",
    "    p_e = x[2,0]\n",
    "    \n",
    "    p = np.array([[delta],\n",
    "                  [Domega + Dt*P_m/(2*H)],\n",
    "                  [0]]) \n",
    "\n",
    "    t_list += [t]\n",
    "    delta_list += [delta.real]\n",
    "    Domega_list += [Domega.real]\n",
    "    p_e_list += [p_e.real]\n",
    "\n",
    "time = np.array(t_list)\n",
    "delta  = np.array(delta_list)\n",
    "Domega  = np.array(Domega_list)\n",
    "p_e  = np.array(p_e_list)"
   ]
  },
  {
   "cell_type": "code",
   "execution_count": null,
   "metadata": {
    "collapsed": false
   },
   "outputs": [],
   "source": [
    "from bokeh.plotting import figure, output_file, show,output_notebook,gridplot\n",
    "output_notebook()\n",
    "#output_file(\"line.html\")\n",
    "\n",
    "s1 = figure(plot_width=300, plot_height=300)\n",
    "s2 = figure(plot_width=300, plot_height=300, x_range=s1.x_range)\n",
    "s3 = figure(plot_width=300, plot_height=300, x_range=s1.x_range)\n",
    "s4 = figure(plot_width=300, plot_height=300, x_range=s1.y_range, y_range=s2.y_range)\n",
    "# add a line renderer\n",
    "s1.line(time.real, delta.real, line_width=2)\n",
    "s2.line(time.real, Domega.real, line_width=2)\n",
    "s3.line(time.real, p_e.real, line_width=2)\n",
    "s4.line(delta.real, p_e.real, line_width=2)\n",
    "# NEW: put the subplots in a gridplot\n",
    "plt = gridplot([[s1, s2],[s3, s4]])\n",
    "show(plt)"
   ]
  },
  {
   "cell_type": "code",
   "execution_count": null,
   "metadata": {
    "collapsed": false
   },
   "outputs": [],
   "source": [
    "delta"
   ]
  },
  {
   "cell_type": "markdown",
   "metadata": {},
   "source": [
    "## Solution with Newthon-Raphson"
   ]
  },
  {
   "cell_type": "markdown",
   "metadata": {},
   "source": [
    "\\begin{eqnarray}\n",
    "p_1 = x_1 x_2 +x_1 x_2^2\\\\\n",
    "p_2 = 2 x_1^2 x_2 −x_2^2 \n",
    "\\end{eqnarray}"
   ]
  },
  {
   "cell_type": "code",
   "execution_count": null,
   "metadata": {
    "collapsed": true
   },
   "outputs": [],
   "source": [
    "import sympy as sym"
   ]
  },
  {
   "cell_type": "code",
   "execution_count": null,
   "metadata": {
    "collapsed": true
   },
   "outputs": [],
   "source": [
    "x_1,x_2= sym.symbols('x_1,x_2')"
   ]
  },
  {
   "cell_type": "code",
   "execution_count": null,
   "metadata": {
    "collapsed": false
   },
   "outputs": [],
   "source": [
    "x = sym.Matrix([[x_1],[x_2]])\n",
    "h_sym = sym.Matrix([[x_1*sym.sin(x_1**2+x_2)-x_1**2],\n",
    "                    [x_1**2*x_2-sym.sqrt(x_2)]])\n",
    "H_sym = h_sym.jacobian(x)\n",
    "\n",
    "print(H_sym)\n"
   ]
  },
  {
   "cell_type": "code",
   "execution_count": null,
   "metadata": {
    "collapsed": false,
    "scrolled": true
   },
   "outputs": [],
   "source": [
    "def h(x):\n",
    "    x_1 = x[0,0]\n",
    "    x_2 = x[1,0]\n",
    "    \n",
    "    return np.array([[x_1*np.sin(x_1**2+x_2)-x_1**2],\n",
    "                    [x_1**2*x_2-np.sqrt(x_2)]])\n",
    "\n",
    "def H(x):\n",
    "    x_1 = x[0,0]\n",
    "    x_2 = x[1,0]\n",
    "    \n",
    "    return np.array([\n",
    "                    [2*x_1**2*np.cos(x_1**2 + x_2) - 2*x_1 + np.sin(x_1**2 + x_2), x_1*np.cos(x_1**2 + x_2)], \n",
    "                    [2*x_1*x_2, x_1**2 - 1/(2*np.sqrt(x_2))]\n",
    "                    ])\n",
    "\n",
    "p = np.array([[0.0],\n",
    "              [1.0]]) \n",
    "\n",
    "x_0 = np.array([[1.0],\n",
    "                [1.0]]) \n",
    "\n",
    "\n",
    "max_iter = 100\n",
    "for it in range(max_iter):\n",
    "\n",
    "    Dp = p - h(x_0)\n",
    "    \n",
    "    print(Dp)\n",
    "    Dx = np.linalg.solve(H(x_0), Dp)\n",
    "\n",
    "    x_0 = Dx + x_0\n",
    "    \n",
    "    epsilon = np.linalg.norm(Dx, np.inf)\n",
    "    if epsilon < 0.00001:\n",
    "        print('Convergence reached after {:d} iterations'.format(it+1))      \n",
    "\n",
    "        print(x_0)\n",
    "        break\n",
    "        \n",
    "    if it>=max_iter-1:\n",
    "        print('Max. iteration number reached')\n",
    "        print(x_k)\n",
    "\n",
    "print(h(x_0))"
   ]
  },
  {
   "cell_type": "code",
   "execution_count": null,
   "metadata": {
    "collapsed": false
   },
   "outputs": [],
   "source": [
    "import sympy as sym\n",
    "\n",
    "y_6,u_6 = sym.symbols('y_6,u_6')\n",
    "f_6 = sym.asin(sym.exp(u_6))\n",
    "#f_6 = sym.log(sym.sin(y_6))\n",
    "sym.diff(f_6,u_6)"
   ]
  },
  {
   "cell_type": "code",
   "execution_count": null,
   "metadata": {
    "collapsed": false
   },
   "outputs": [],
   "source": [
    "f=sym.poly(y_6+2*y_6**2+u_6)"
   ]
  },
  {
   "cell_type": "code",
   "execution_count": null,
   "metadata": {
    "collapsed": false
   },
   "outputs": [],
   "source": [
    "import sympy as sym \n",
    "\n",
    "sqrt = sym.sqrt\n",
    "arcsin = sym.asin\n",
    "\n",
    "log = sym.ln\n",
    "x_1,x_2,x_3 = sym.symbols('x_1,x_2,x_3') \n",
    "a_1,a_2,a_3 = sym.symbols('a_1,a_2,a_3') \n",
    "y_1,y_2,y_3,y_4,y_5,y_6 = sym.symbols(['y_1','y_2','y_3','y_4','y_5','y_6'])  \n",
    "\n",
    "rh1 = x_1 * x_3 - x_1**2\n",
    "rh2 = x_1**2 * x_2 - sqrt(x_2)\n",
    "rh3 = x_1**2 + x_2 - arcsin(x_3)\n",
    "\n",
    "rh_x = [rh1,rh2,rh3]\n",
    "x2y = [y_1:x_1*x_3,\n",
    "       y_2:x_1**2,\n",
    "       y_3:x_1**2*x_2,\n",
    "       y_4:sqrt(x_2),\n",
    "       y_5:x_2,\n",
    "       y_6:arcsin(x_3)]\n",
    "f_y = []\n",
    "for rh in rh_x:    \n",
    "    r = rh.as_ordered_terms()\n",
    "    for r_i in r:\n",
    "        r_new = r_i\n",
    "        for x2y_k,x2y_v in x2y.items():\n",
    "\n",
    "            r_new=r_new.subs(x2y_v, x2y_k)\n",
    "        print(r_i,r_new)\n",
    "\n",
    "    #print(r)\n",
    "    f_y += [rh]\n",
    "        \n",
    "    "
   ]
  },
  {
   "cell_type": "code",
   "execution_count": null,
   "metadata": {
    "collapsed": false
   },
   "outputs": [],
   "source": [
    "a=rh2.as_ordered_terms()\n"
   ]
  },
  {
   "cell_type": "code",
   "execution_count": null,
   "metadata": {
    "collapsed": false
   },
   "outputs": [],
   "source": [
    "a[0].args"
   ]
  },
  {
   "cell_type": "code",
   "execution_count": null,
   "metadata": {
    "collapsed": true
   },
   "outputs": [],
   "source": [
    "y_1,y_2,y_3,y_4,y_5,y_6 = sym.symbols(['y_1','y_2','y_3','y_4','y_5','y_6']) "
   ]
  },
  {
   "cell_type": "code",
   "execution_count": null,
   "metadata": {
    "collapsed": false
   },
   "outputs": [],
   "source": [
    "x_2 in x2y.values()"
   ]
  },
  {
   "cell_type": "code",
   "execution_count": null,
   "metadata": {
    "collapsed": false
   },
   "outputs": [],
   "source": [
    "a[0].replace(x,b)"
   ]
  },
  {
   "cell_type": "code",
   "execution_count": null,
   "metadata": {
    "collapsed": false
   },
   "outputs": [],
   "source": [
    "(x_1*sym.sin(x_2)).subs([(x_1,x_2),(x_2,x_1)],simultaneous=True)"
   ]
  },
  {
   "cell_type": "code",
   "execution_count": null,
   "metadata": {
    "collapsed": false
   },
   "outputs": [],
   "source": [
    "ln = sym.ln\n",
    "\n",
    "x2y = [(y_1,x_1*x_3),\n",
    "       (y_2,x_1**2),\n",
    "       (y_3,x_1**2*x_2),\n",
    "       (y_4,sqrt(x_2)),\n",
    "       (y_5,x_2),\n",
    "       (y_6,arcsin(x_3))]\n",
    "\n",
    "x2a = [(a_1,ln(x_1)),\n",
    "       (a_2,ln(x_2)),\n",
    "       (a_3,ln(x_3))]"
   ]
  },
  {
   "cell_type": "code",
   "execution_count": null,
   "metadata": {
    "collapsed": false
   },
   "outputs": [],
   "source": [
    "y_1,y_2,y_3,y_4,y_5,y_6 = sym.symbols(['y_1','y_2','y_3','y_4','y_5','y_6']) \n",
    "\n",
    "y = sym.Matrix([[y_1],[y_2],[y_3],[y_4],[y_5],[y_6]])"
   ]
  },
  {
   "cell_type": "code",
   "execution_count": null,
   "metadata": {
    "collapsed": false
   },
   "outputs": [],
   "source": [
    "x_terms = list(x2y.values())\n",
    "y_terms = list(x2y.keys())\n",
    "rh_y = []\n",
    "\n",
    "for rh_x_i in rh_x:  \n",
    "    terms = rh_x_i.args\n",
    "    rh_y_i = 0\n",
    "    for term_idx in list(range(len(terms))):\n",
    "        if len(terms[term_idx].args)>1:\n",
    "            if terms[term_idx].args[0] == -1:\n",
    "                if -terms[term_idx] in  x_terms:\n",
    "                    idx = x_terms.index(-terms[term_idx])\n",
    "                    rh_y_i += -y_terms[idx] \n",
    "            \n",
    "        if terms[term_idx] in  x_terms:\n",
    "            idx = x_terms.index(terms[term_idx])           \n",
    "            rh_y_i += y_terms[idx]\n",
    "           \n",
    "    rh_y += [[rh_y_i]]\n",
    "    \n",
    "rh_y =sym.Matrix(rh_y)\n",
    "\n",
    "E=rh_y.jacobian(y)\n",
    "            "
   ]
  },
  {
   "cell_type": "code",
   "execution_count": null,
   "metadata": {
    "collapsed": false
   },
   "outputs": [],
   "source": [
    "for y_i, x2y_i in x2y:\n",
    "    alpha_x = sym.expand_log(sym.log(x2y_i), force=True)\n",
    "    print(alpha_x)\n"
   ]
  },
  {
   "cell_type": "code",
   "execution_count": null,
   "metadata": {
    "collapsed": false
   },
   "outputs": [],
   "source": [
    "term_idx"
   ]
  },
  {
   "cell_type": "code",
   "execution_count": null,
   "metadata": {
    "collapsed": false
   },
   "outputs": [],
   "source": [
    "list(x2y.values())"
   ]
  },
  {
   "cell_type": "code",
   "execution_count": null,
   "metadata": {
    "collapsed": false
   },
   "outputs": [],
   "source": [
    "x2y"
   ]
  },
  {
   "cell_type": "code",
   "execution_count": 12,
   "metadata": {
    "collapsed": false
   },
   "outputs": [],
   "source": [
    "import sympy as sym \n",
    "import numpy as np\n",
    "\n",
    "sqrt = sym.sqrt\n",
    "arcsin = sym.asin\n",
    "arccos = sym.acos\n",
    "sin = sym.sin\n",
    "cos = sym.cos\n",
    "exp = sym.exp\n",
    "ln = sym.ln\n",
    "\n",
    "for it in range(20):\n",
    "    exec('y_{:d} = sym.Symbol(\"y_{:d}\")'.format(it,it))\n",
    "    exec('u_{:d} = sym.Symbol(\"u_{:d}\")'.format(it,it))\n",
    "    exec('a_{:d} = sym.Symbol(\"a_{:d}\")'.format(it,it))\n",
    "\n",
    "delta,Domega,p_e,i_d,i_q,v_d,v_q = sym.symbols('delta,Domega,p_e,i_d,i_q,v_d,v_q')\n",
    "delta_0,Domega_0,E_p = sym.symbols('delta_0,Domega_0,E_p')\n",
    "\n",
    "n =3\n",
    "m = 4\n",
    "\n",
    "x = sym.Matrix([delta,Domega,p_e]).reshape(n,1)\n",
    "\n",
    "params_str='Omega_b,P_m,K_d,E,X,V,H,R_a,X1d,V_h,theta_h'\n",
    "params_str+=',' + 'Dt'\n",
    "for item in params_str.split(','):\n",
    "    exec('{:s} = sym.Symbol(\"{:s}\")'.format(item,item))\n",
    "\n",
    "ph = [\n",
    "{'p':delta_0,'h':delta - Dt * Omega_b * Domega, \n",
    "             'hy':y_1 - Dt * Omega_b * y_2 }, \n",
    "{'p':Domega_0+Dt*P_m/(2*H),'h':Domega + Dt/(2*H)*p_e + Dt/(2*H)*K_d*Domega, \n",
    "                           'hy':y_2 + Dt/(2*H)*y_3 + Dt/(2*H)*K_d*y_2},\n",
    "{'p':0, 'h':-p_e + E_p*V_h/X1d*sin(delta), \n",
    "       'hy': -y_3 + E_p*V_h/X1d*y_4 },\n",
    "]\n",
    "\n",
    "uyxa =[\n",
    "        {'u(y)':y_1,'u(x)':delta,'u(a)':a_1,'y(u)':u_1},\n",
    "        {'u(y)':y_2,'u(x)':Domega,'u(a)':a_2,'y(u)':u_2},\n",
    "        {'u(y)':y_3,'u(x)':p_e,'u(a)':a_3,'y(u)':u_3},\n",
    "        {'u(y)':arcsin(y_4),'u(x)':delta,'u(a)':a_1,'y(u)':sin(u_4)},\n",
    "     ]\n",
    "\n",
    "xa =[\n",
    "    {'x':delta, 'x(a)':a_1, 'a(x)':delta},\n",
    "    {'x':Domega,'x(a)':a_2, 'a(x)':Domega},\n",
    "    {'x':p_e,   'x(a)':a_3, 'a(x)':p_e},\n",
    " ]\n",
    "\n",
    "\n",
    "params = dict(\n",
    "            Omega_b =  2.0*np.pi*50.0,\n",
    "            K_d = 0.5,\n",
    "            E_p = 1.0,\n",
    "            V_h = 1.0,\n",
    "            X = 0.4,\n",
    "            Dt =  0.001,\n",
    "            H = 3.5,\n",
    "            R_a = 0.01,\n",
    "            X1d = 0.3,\n",
    "            theta_h = 0.0,\n",
    "            delta_0 = 0.0,\n",
    "            Domega_0 = 0.0,\n",
    "            P_m = 0.3\n",
    "            )\n",
    "\n",
    "u_list = []\n",
    "for it in range(m):\n",
    "    exec('u_list += [u_{:d}]'.format(it+1))\n",
    "u = sym.Matrix(u_list).reshape(m,1)\n",
    "\n",
    "y_list = []\n",
    "for it in range(m):\n",
    "    exec('y_list += [y_{:d}]'.format(it+1))\n",
    "y = sym.Matrix(y_list).reshape(m,1)\n",
    "\n",
    "a_list = []\n",
    "for it in range(n):\n",
    "    exec('a_list += [a_{:d}]'.format(it+1))\n",
    "a = sym.Matrix(a_list).reshape(n,1)\n",
    "\n",
    "\n",
    "h_list = []\n",
    "for item in ph:\n",
    "    h_list += [item['h']]\n",
    "h = sym.Matrix(h_list).reshape(n,1)    \n",
    "\n",
    "H_x_sym = h.jacobian(x)\n",
    "\n",
    "\n",
    "hy_list = []\n",
    "for item in ph:\n",
    "    hy_list += [item['hy']]\n",
    "hy = sym.Matrix(hy_list).reshape(n,1)   \n",
    "\n",
    "E_sym = hy.jacobian(y)\n",
    "\n",
    "p_list = []\n",
    "for item in ph:\n",
    "    p_list += [item['p']]\n",
    "p = sym.Matrix(p_list).reshape(n,1)\n",
    "\n",
    "ay_list = []\n",
    "for item in uyxa:\n",
    "    ay_list += [item['u(a)']]\n",
    "ay = sym.Matrix(ay_list).reshape(m,1)   \n",
    "\n",
    "C_sym = ay.jacobian(a)\n",
    "\n",
    "\n",
    "# u = f(y)\n",
    "f_list = [] \n",
    "for item in uyxa:\n",
    "    f_list += [item['u(y)']]\n",
    "f = sym.Matrix(f_list).reshape(m,1)    \n",
    "\n",
    "\n",
    "# y = f_inv(u)\n",
    "f_inv_list = [] \n",
    "for item in uyxa:\n",
    "    f_inv_list += [item['y(u)']]\n",
    "f_inv = sym.Matrix(f_inv_list).reshape(m,1)  \n",
    "\n",
    "F_inv_sym = f_inv.jacobian(u)\n",
    "\n",
    "\n",
    "\n",
    "\n",
    "tab = ' '*4\n",
    "\n",
    "f_str = ''\n",
    "\n",
    "f_str += 'import numpy as np\\n\\n'\n",
    "f_str += 'exp = np.exp \\n'\n",
    "f_str += 'log = np.log \\n'\n",
    "f_str += 'sin = np.sin \\n'\n",
    "f_str += 'cos = np.cos \\n'\n",
    "f_str += 'asin = np.arcsin \\n'\n",
    "f_str += 'acos = np.arccos \\n'\n",
    "f_str += '\\n'\n",
    "\n",
    "f_str += 'class formulation():\\n\\n'\n",
    "\n",
    "# __init__\n",
    "f_str += tab + 'def __init__(self):\\n\\n'\n",
    "f_str += 2*tab + 'self.n = {:d} \\n'.format(n)\n",
    "f_str += 2*tab + 'self.m = {:d} \\n'.format(m)\n",
    "f_str += '\\n'\n",
    "f_str += 2*tab + 'self.F_inv = np.zeros((self.m,self.m)) \\n'\n",
    "f_str += 2*tab + 'self.E = np.zeros((self.n,self.m)) \\n'\n",
    "f_str += 2*tab + 'self.C = np.zeros((self.m,self.n)) \\n'\n",
    "f_str += 2*tab + 'self.p = np.zeros((self.n,1)) \\n'\n",
    "f_str += 2*tab + 'self.u = np.zeros((self.m,1)) \\n'\n",
    "f_str += 2*tab + 'self.y = np.zeros((self.m,1)) \\n'\n",
    "f_str += 1*'\\n'\n",
    "# \n",
    "for item_id,item_val in params.items(): \n",
    "    f_str += 2*tab + 'self.{:s} = {} \\n'.format(item_id,item_val)\n",
    "f_str += 2*'\\n'\n",
    "f_str += 2*tab + 'self.E_eval() \\n'\n",
    "f_str += 2*tab + 'self.C_eval() \\n'\n",
    "f_str += 2*tab + 'self.p_eval() \\n'\n",
    "f_str += 1*'\\n'\n",
    "\n",
    "\n",
    "\n",
    "# E_eval\n",
    "f_str += tab + 'def E_eval(self):\\n\\n'\n",
    "for item_id,item_val in params.items(): \n",
    "    f_str += 2*tab + '{:s} = self.{:s} \\n'.format(item_id,item_id)\n",
    "f_str += 2*'\\n'\n",
    "\n",
    "# E\n",
    "for it in range(n): \n",
    "    for jt in range(m):\n",
    "        element = str(E_sym[it,jt])\n",
    "        if element!='0':            \n",
    "            f_str += 2*tab + 'self.E[{:d},{:d}]={:s} \\n'.format(it,jt,str(E_sym[it,jt]))\n",
    "f_str += 2*'\\n'\n",
    "\n",
    "\n",
    "\n",
    "\n",
    "\n",
    "# C_eval\n",
    "f_str += tab + 'def C_eval(self):\\n\\n'\n",
    "for item_id,item_val in params.items(): \n",
    "    f_str += 2*tab + '{:s} = self.{:s} \\n'.format(item_id,item_id)\n",
    "f_str += 2*'\\n'\n",
    "\n",
    "# C\n",
    "for it in range(m): \n",
    "    for jt in range(n):\n",
    "        element = str(C_sym[it,jt])\n",
    "        if element!='0':            \n",
    "            f_str += 2*tab + 'self.C[{:d},{:d}]={:s} \\n'.format(it,jt,str(C_sym[it,jt]))\n",
    "f_str += 2*'\\n'\n",
    "\n",
    "\n",
    "# p_eval\n",
    "f_str += tab + 'def p_eval(self):\\n\\n'\n",
    "for item_id,item_val in params.items(): \n",
    "    f_str += 2*tab + '{:s} = self.{:s} \\n'.format(item_id,item_id)\n",
    "f_str += 2*'\\n'\n",
    "\n",
    "# p\n",
    "for it in range(n): \n",
    "    f_str += 2*tab + 'self.p[{:d},0]={:s} \\n'.format(it,str(p[it]))\n",
    "f_str += 2*'\\n'\n",
    "\n",
    "# f\n",
    "f_str += tab + 'def f(self,y):\\n\\n'\n",
    "for item_id,item_val in params.items(): \n",
    "    f_str += 2*tab + '{:s} = self.{:s} \\n'.format(item_id,item_id)\n",
    "f_str += 2*'\\n'\n",
    "for it in range(m):  \n",
    "    sep = ','\n",
    "    if it==m-1:\n",
    "        sep = ''\n",
    "    f_str += 2*tab +'y_{:d} = y[{:d},0] \\n'.format(it+1,it) \n",
    "f_str += '\\n'\n",
    "f_str += 2*tab +'return np.array([\\n'\n",
    "for it in range(m):  \n",
    "    sep = ','\n",
    "    if it==m-1:\n",
    "        sep = ''\n",
    "    f_str += 4*tab + str(f[it,0]) + sep + '\\n' \n",
    "f_str += 4*tab + ']).reshape(self.m,1)'\n",
    "f_str += '\\n'\n",
    "\n",
    "# f_inv\n",
    "f_str += tab + 'def f_inv(self,u):\\n\\n'\n",
    "for item_id,item_val in params.items(): \n",
    "    f_str += 2*tab + '{:s} = self.{:s} \\n'.format(item_id,item_id)\n",
    "f_str += 2*'\\n'\n",
    "for it in range(m):  \n",
    "    sep = ','\n",
    "    if it==m-1:\n",
    "        sep = ''\n",
    "    f_str += 2*tab +'u_{:d} = u[{:d},0] \\n'.format(it+1,it) \n",
    "f_str += '\\n'\n",
    "f_str += 2*tab +'return np.array([\\n'\n",
    "for it in range(m):  \n",
    "    sep = ','\n",
    "    if it==m-1:\n",
    "        sep = ''\n",
    "    f_str += 4*tab + str(f_inv[it,0]) + sep + '\\n' \n",
    "f_str += 4*tab + ']).reshape(self.m,1)'\n",
    "f_str += '\\n'\n",
    "f_str += '\\n'\n",
    "\n",
    "# F_inv\n",
    "f_str +=tab + 'def F_inv_eval(self,u):\\n\\n'\n",
    "for it in range(m):  \n",
    "    sep = ','\n",
    "    if it==m-1:\n",
    "        sep = ''\n",
    "    f_str += 2*tab +'u_{:d} = u[{:d},0] \\n'.format(it+1,it) \n",
    "f_str += 2*'\\n'\n",
    "\n",
    "for item_id,item_val in params.items(): \n",
    "    f_str += 2*tab + '{:s} = self.{:s} \\n'.format(item_id,item_id)\n",
    "f_str += 2*'\\n'\n",
    "\n",
    "for it in range(m): \n",
    "    for jt in range(m):\n",
    "        element = str(F_inv_sym[it,jt])\n",
    "        if element!='0':\n",
    "            \n",
    "            f_str += 2*tab + 'self.F_inv[{:d},{:d}]={:s} \\n'.format(it,jt,str(F_inv_sym[it,jt]))\n",
    "\n",
    "# a to x\n",
    "f_str += tab + 'def a2x(self,a):\\n\\n'\n",
    "for it in range(n): \n",
    "    f_str += 2*tab +'a_{:d} = a[{:d},0] \\n'.format(it+1,it) \n",
    "f_str += 2*'\\n'\n",
    "for item in xa: \n",
    "    f_str += 2*tab + '{:s} = {:s} \\n'.format(str(item['x']),str(item['x(a)']))\n",
    "f_str += 2*'\\n'\n",
    "f_str += 2*tab + 'return np.array([\\n'\n",
    "it = 0\n",
    "for item in xa: \n",
    "    f_str += 3*tab + '{:s}'.format(str(item['x']))\n",
    "    if it < n-1:\n",
    "        f_str += ',\\n'\n",
    "    else:\n",
    "        f_str += '\\n'\n",
    "    it += 1\n",
    "f_str += 3*tab +']).reshape(self.n,1)'\n",
    "f_str += 2*'\\n'\n",
    "\n",
    "\n",
    "# x to a\n",
    "f_str += tab + 'def x2a(self,x):\\n\\n'\n",
    "it = 0\n",
    "for item in xa: \n",
    "    f_str += 2*tab + '{:s} = x[{:d},0] \\n'.format(str(item['x']),it)\n",
    "    it += 1\n",
    "f_str += 2*'\\n'\n",
    "it = 0\n",
    "for item in xa: \n",
    "    f_str += 2*tab + 'a_{:d} = {:s} \\n'.format(it,str(item['a(x)']))\n",
    "    it += 1\n",
    "f_str += 2*'\\n'\n",
    "f_str += 2*tab + 'return np.array([\\n'\n",
    "it = 0\n",
    "for item in xa: \n",
    "    f_str += 3*tab + 'a_{:d}'.format(it+1)\n",
    "    if it < n-1:\n",
    "        f_str += ',\\n'\n",
    "    else:\n",
    "        f_str += '\\n'\n",
    "    it += 1\n",
    "f_str += 3*tab +']).reshape(self.n,1)'\n",
    "f_str += 2*'\\n'\n",
    "\n",
    "fobj = open('factor.py','w')\n",
    "fobj.write(f_str)\n",
    "fobj.close()"
   ]
  },
  {
   "cell_type": "code",
   "execution_count": 9,
   "metadata": {
    "collapsed": false
   },
   "outputs": [
    {
     "data": {
      "text/plain": [
       "a_3"
      ]
     },
     "execution_count": 9,
     "metadata": {},
     "output_type": "execute_result"
    }
   ],
   "source": [
    "a[2]"
   ]
  },
  {
   "cell_type": "code",
   "execution_count": 10,
   "metadata": {
    "collapsed": false
   },
   "outputs": [
    {
     "data": {
      "text/plain": [
       "array([[  1.00000000e+00,  -3.14159265e-01,   0.00000000e+00,\n",
       "          0.00000000e+00],\n",
       "       [  0.00000000e+00,   1.00007143e+00,   1.42857143e-04,\n",
       "          0.00000000e+00],\n",
       "       [  0.00000000e+00,   0.00000000e+00,  -1.00000000e+00,\n",
       "          1.00000000e+00]])"
      ]
     },
     "execution_count": 10,
     "metadata": {},
     "output_type": "execute_result"
    }
   ],
   "source": [
    "import factor\n",
    "fac = factor.formulation()\n",
    "fac.p_eval()\n",
    "fac.p\n",
    "E = fac.E\n",
    "E"
   ]
  },
  {
   "cell_type": "code",
   "execution_count": 11,
   "metadata": {
    "collapsed": false,
    "scrolled": true
   },
   "outputs": [
    {
     "name": "stdout",
     "output_type": "stream",
     "text": [
      "[[  1.02342882e-05+0.j]\n",
      " [  3.25767513e-05+0.j]\n",
      " [  7.19464528e-02+0.j]]\n",
      "[[  1.34617061e-05+0.j]\n",
      " [  4.28499414e-05+0.j]\n",
      " [  2.89849851e-05+0.j]]\n",
      "[[  1.34624027e-05+0.j]\n",
      " [  4.28521588e-05+0.j]\n",
      " [  1.34624027e-05+0.j]]\n",
      "[[  1.34624027e-05+0.j]\n",
      " [  4.28521588e-05+0.j]\n",
      " [  1.34624027e-05+0.j]]\n",
      "Convergence reached after 4 iterations\n",
      "[[  1.34624027e-05+0.j]\n",
      " [  4.28521588e-05+0.j]\n",
      " [  1.34624027e-05+0.j]]\n"
     ]
    },
    {
     "name": "stderr",
     "output_type": "stream",
     "text": [
      "/home/jmmauricio/Documents/public/workspace/e-ipython/factored/factor.py:196: ComplexWarning: Casting complex values to real discards the imaginary part\n",
      "  self.F_inv[3,3]=cos(u_4)\n"
     ]
    },
    {
     "ename": "ValueError",
     "evalue": "total size of new array must be unchanged",
     "output_type": "error",
     "traceback": [
      "\u001b[1;31m---------------------------------------------------------------------------\u001b[0m",
      "\u001b[1;31mValueError\u001b[0m                                Traceback (most recent call last)",
      "\u001b[1;32m<ipython-input-11-2dfd4d58225a>\u001b[0m in \u001b[0;36m<module>\u001b[1;34m()\u001b[0m\n\u001b[0;32m     64\u001b[0m             \u001b[0mprint\u001b[0m\u001b[1;33m(\u001b[0m\u001b[0ma\u001b[0m\u001b[1;33m)\u001b[0m\u001b[1;33m\u001b[0m\u001b[0m\n\u001b[0;32m     65\u001b[0m \u001b[1;33m\u001b[0m\u001b[0m\n\u001b[1;32m---> 66\u001b[1;33m     \u001b[0mx\u001b[0m \u001b[1;33m=\u001b[0m \u001b[0mfac\u001b[0m\u001b[1;33m.\u001b[0m\u001b[0ma2x\u001b[0m\u001b[1;33m(\u001b[0m\u001b[0ma\u001b[0m\u001b[1;33m)\u001b[0m\u001b[1;33m\u001b[0m\u001b[0m\n\u001b[0m\u001b[0;32m     67\u001b[0m     \u001b[0mdelta\u001b[0m \u001b[1;33m=\u001b[0m \u001b[0mx\u001b[0m\u001b[1;33m[\u001b[0m\u001b[1;36m0\u001b[0m\u001b[1;33m,\u001b[0m\u001b[1;36m0\u001b[0m\u001b[1;33m]\u001b[0m\u001b[1;33m\u001b[0m\u001b[0m\n\u001b[0;32m     68\u001b[0m     \u001b[0mDomega\u001b[0m \u001b[1;33m=\u001b[0m \u001b[0mx\u001b[0m\u001b[1;33m[\u001b[0m\u001b[1;36m1\u001b[0m\u001b[1;33m,\u001b[0m\u001b[1;36m0\u001b[0m\u001b[1;33m]\u001b[0m\u001b[1;33m\u001b[0m\u001b[0m\n",
      "\u001b[1;32m/home/jmmauricio/Documents/public/workspace/e-ipython/factored/factor.py\u001b[0m in \u001b[0;36ma2x\u001b[1;34m(self, a)\u001b[0m\n\u001b[0;32m    211\u001b[0m             \u001b[0mDomega\u001b[0m\u001b[1;33m,\u001b[0m\u001b[1;33m\u001b[0m\u001b[0m\n\u001b[0;32m    212\u001b[0m             \u001b[0mp_e\u001b[0m\u001b[1;33m\u001b[0m\u001b[0m\n\u001b[1;32m--> 213\u001b[1;33m             ]).reshape(self.n,1)\n\u001b[0m\u001b[0;32m    214\u001b[0m \u001b[1;33m\u001b[0m\u001b[0m\n\u001b[0;32m    215\u001b[0m     \u001b[1;32mdef\u001b[0m \u001b[0mx2a\u001b[0m\u001b[1;33m(\u001b[0m\u001b[0mself\u001b[0m\u001b[1;33m,\u001b[0m\u001b[0mx\u001b[0m\u001b[1;33m)\u001b[0m\u001b[1;33m:\u001b[0m\u001b[1;33m\u001b[0m\u001b[0m\n",
      "\u001b[1;31mValueError\u001b[0m: total size of new array must be unchanged"
     ]
    }
   ],
   "source": [
    "E = fac.E\n",
    "C = fac.C\n",
    "f = fac.f\n",
    "f_inv = fac.f_inv\n",
    "F_inv = fac.F_inv\n",
    "p = fac.p\n",
    "max_iter = 200\n",
    "\n",
    "x_0 = np.array([np.arcsin(fac.P_m*fac.X1d/(fac.E_p*fac.V_h)),0.0,fac.P_m]).reshape(3,1)\n",
    "a_0 = np.zeros((3,1)) +1+0j\n",
    "\n",
    "a_0[2,0]=0.3\n",
    "a_k = a_0\n",
    "\n",
    "t_list = [-fac.Dt.real]\n",
    "delta_list = [x_0[0,0].real]\n",
    "Domega_list = [x_0[1,0].real]\n",
    "p_e_list = [x_0[2,0].real]\n",
    "\n",
    "t_end = 5.0\n",
    "#for it_t  in range(int(t_end/Dt)): \n",
    "for it_t  in range(1): \n",
    "    t = Dt * it_t \n",
    "    E_p = 1.0\n",
    "    if t>1.0:\n",
    "        E_p = 0\n",
    "    if t>1.1:\n",
    "        E_p = 1.0     \n",
    "\n",
    "    fac.E_p = E_p\n",
    "    \n",
    "    fac.E_eval()\n",
    "    E =  fac.E\n",
    "\n",
    "    for it in range(max_iter):\n",
    "\n",
    "        # step 0\n",
    "        y_k = f_inv(np.matmul(C,a_k))\n",
    "\n",
    "        # step 1\n",
    "        lam = np.linalg.solve(np.matmul(E,E.T), p-np.matmul(E,y_k))\n",
    "        y_ = y_k  +  np.matmul(E.T,lam)\n",
    "        u_ = f(y_)\n",
    "\n",
    "        # step 2\n",
    "        fac.F_inv_eval(u_)\n",
    "        H_ = np.matmul(E,np.matmul(fac.F_inv,C))\n",
    "\n",
    "        a_0 = a_k\n",
    "        a_k = np.linalg.solve(H_, np.matmul(E,np.matmul(fac.F_inv,f(y_))))\n",
    "\n",
    "        epsilon = np.linalg.norm(a_k-a_0, np.inf)\n",
    "        print(a_k)\n",
    "        if epsilon < 1e-8:\n",
    "            print('Convergence reached after {:d} iterations'.format(it+1))      \n",
    "            a = a_k        \n",
    "            print(a)\n",
    "\n",
    "            break\n",
    "\n",
    "        if it>=max_iter-1:\n",
    "            print('Max. iteration number reached')\n",
    "            a = a_k\n",
    "            print(a)\n",
    "    \n",
    "    x = fac.a2x(a)\n",
    "    delta = x[0,0]\n",
    "    Domega = x[1,0]\n",
    "    p_e = x[2,0]\n",
    "    \n",
    "    p = np.array([[delta],\n",
    "                  [Domega + Dt*P_m/(2*H)],\n",
    "                  [0]])\n",
    "\n",
    "    t_list += [t]\n",
    "    delta_list += [delta.real]\n",
    "    Domega_list += [Domega.real]\n",
    "    p_e_list += [p_e.real]\n",
    "\n",
    "time = np.array(t_list)\n",
    "delta  = np.array(delta_list)\n",
    "Domega  = np.array(Domega_list)\n",
    "p_e  = np.array(p_e_list)"
   ]
  },
  {
   "cell_type": "code",
   "execution_count": 6,
   "metadata": {
    "collapsed": false
   },
   "outputs": [
    {
     "data": {
      "text/plain": [
       "array([[  1.34624027e-05+0.j],\n",
       "       [  4.28521588e-05+0.j],\n",
       "       [  1.34624027e-05+0.j]])"
      ]
     },
     "execution_count": 6,
     "metadata": {},
     "output_type": "execute_result"
    }
   ],
   "source": [
    "a"
   ]
  },
  {
   "cell_type": "code",
   "execution_count": 7,
   "metadata": {
    "collapsed": false
   },
   "outputs": [
    {
     "ename": "ValueError",
     "evalue": "total size of new array must be unchanged",
     "output_type": "error",
     "traceback": [
      "\u001b[1;31m---------------------------------------------------------------------------\u001b[0m",
      "\u001b[1;31mValueError\u001b[0m                                Traceback (most recent call last)",
      "\u001b[1;32m<ipython-input-7-1cf2283ba3bd>\u001b[0m in \u001b[0;36m<module>\u001b[1;34m()\u001b[0m\n\u001b[1;32m----> 1\u001b[1;33m \u001b[0mfac\u001b[0m\u001b[1;33m.\u001b[0m\u001b[0ma2x\u001b[0m\u001b[1;33m(\u001b[0m\u001b[0ma\u001b[0m\u001b[1;33m)\u001b[0m\u001b[1;33m\u001b[0m\u001b[0m\n\u001b[0m",
      "\u001b[1;32m/home/jmmauricio/Documents/public/workspace/e-ipython/factored/factor.py\u001b[0m in \u001b[0;36ma2x\u001b[1;34m(self, a)\u001b[0m\n\u001b[0;32m    211\u001b[0m             \u001b[0mDomega\u001b[0m\u001b[1;33m,\u001b[0m\u001b[1;33m\u001b[0m\u001b[0m\n\u001b[0;32m    212\u001b[0m             \u001b[0mp_e\u001b[0m\u001b[1;33m\u001b[0m\u001b[0m\n\u001b[1;32m--> 213\u001b[1;33m             ]).reshape(self.n,0)\n\u001b[0m\u001b[0;32m    214\u001b[0m \u001b[1;33m\u001b[0m\u001b[0m\n\u001b[0;32m    215\u001b[0m     \u001b[1;32mdef\u001b[0m \u001b[0mx2a\u001b[0m\u001b[1;33m(\u001b[0m\u001b[0mself\u001b[0m\u001b[1;33m,\u001b[0m\u001b[0mx\u001b[0m\u001b[1;33m)\u001b[0m\u001b[1;33m:\u001b[0m\u001b[1;33m\u001b[0m\u001b[0m\n",
      "\u001b[1;31mValueError\u001b[0m: total size of new array must be unchanged"
     ]
    }
   ],
   "source": [
    "fac.a2x(a)"
   ]
  },
  {
   "cell_type": "code",
   "execution_count": null,
   "metadata": {
    "collapsed": false
   },
   "outputs": [],
   "source": [
    "fac.n"
   ]
  },
  {
   "cell_type": "code",
   "execution_count": null,
   "metadata": {
    "collapsed": true
   },
   "outputs": [],
   "source": []
  }
 ],
 "metadata": {
  "kernelspec": {
   "display_name": "Python 3",
   "language": "python",
   "name": "python3"
  },
  "language_info": {
   "codemirror_mode": {
    "name": "ipython",
    "version": 3
   },
   "file_extension": ".py",
   "mimetype": "text/x-python",
   "name": "python",
   "nbconvert_exporter": "python",
   "pygments_lexer": "ipython3",
   "version": "3.5.1"
  }
 },
 "nbformat": 4,
 "nbformat_minor": 0
}
