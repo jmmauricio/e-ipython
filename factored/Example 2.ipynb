{
 "cells": [
  {
   "cell_type": "markdown",
   "metadata": {},
   "source": [
    "## Example 2\n",
    "\n",
    "Consider the simple nonlinear function,\n",
    "$$ p = \\sin x - \\cos x $$\n",
    "\n",
    "Introducing two auxiliary variables, \n",
    "\n",
    "$$ y_1 =\\sin u_1 \\; \\;\\;\\; y_2 = \\cos u_2 $$\n",
    "\n",
    "\n",
    "leads to,\n",
    "\n",
    "$$ p=y1 + y2 $$"
   ]
  },
  {
   "cell_type": "code",
   "execution_count": 2,
   "metadata": {
    "collapsed": true
   },
   "outputs": [],
   "source": [
    "import numpy as np"
   ]
  },
  {
   "cell_type": "code",
   "execution_count": 3,
   "metadata": {
    "collapsed": false
   },
   "outputs": [
    {
     "name": "stdout",
     "output_type": "stream",
     "text": [
      "Convergence reached after 7 iterations\n",
      "[[ 0.64350111 +1.15500826e-12j]]\n"
     ]
    }
   ],
   "source": [
    "E = np.array([[1, 1]]) \n",
    "C = np.array([[1],[1]]) \n",
    "\n",
    "p = 1.4\n",
    "\n",
    "def f(y):\n",
    "    \n",
    "    y_1 = y[0,0]\n",
    "    y_2 = y[1,0]\n",
    "    \n",
    "    u_1 = np.arcsin(y_1)\n",
    "    u_2 = np.arccos(y_2)\n",
    "    \n",
    "    u = np.array([[u_1],[u_2]]) \n",
    "    \n",
    "    return u\n",
    "\n",
    "def f_inv(u):\n",
    "    \n",
    "    u_1 = u[0,0]\n",
    "    u_2 = u[1,0]\n",
    "    \n",
    "    y_1 = np.sin(u_1)\n",
    "    y_2 = np.cos(u_2)\n",
    "    \n",
    "    y = np.array([[y_1],[y_2]]) \n",
    "    \n",
    "    return y\n",
    "\n",
    "\n",
    "def F_inv(u):\n",
    "    \n",
    "    u_1 = u[0,0]\n",
    "    u_2 = u[1,0]\n",
    "       \n",
    "    return np.array([\n",
    "                    [np.cos(u_1),          0],\n",
    "                    [          0, -np.sin(u_2)]\n",
    "                    ])\n",
    "\n",
    "\n",
    "x_0 = np.array([[0.0-0j]]) \n",
    "\n",
    "max_iter = 200\n",
    "\n",
    "x_k = x_0\n",
    "for it in range(max_iter):\n",
    "    \n",
    "    # step 0\n",
    "    y_k = f_inv(np.matmul(C,x_k))\n",
    "\n",
    "    # step 1\n",
    "    lam = np.linalg.solve(np.matmul(E,E.T), p-np.matmul(E,y_k))\n",
    "    y_ = y_k  + E.T*lam\n",
    "    u_ = f(y_)\n",
    "\n",
    "    # step 2\n",
    "    H_ = np.matmul(E,np.matmul(F_inv(u_),C))\n",
    "    \n",
    "    x_0 = x_k\n",
    "    x_k = np.linalg.solve(H_, np.matmul(E,np.matmul(F_inv(u_),f(y_))))\n",
    "    \n",
    "    epsilon = np.linalg.norm(x_k-x_0, np.inf)\n",
    "    if epsilon < 0.00001:\n",
    "        print('Convergence reached after {:d} iterations'.format(it+1))\n",
    "        print(x_k)\n",
    "        break\n",
    "        \n",
    "    if it>=max_iter-1:\n",
    "        print('Max. iteration number reached')\n",
    "        print(x_k)"
   ]
  },
  {
   "cell_type": "code",
   "execution_count": null,
   "metadata": {
    "collapsed": true
   },
   "outputs": [],
   "source": []
  }
 ],
 "metadata": {
  "kernelspec": {
   "display_name": "Python 3",
   "language": "python",
   "name": "python3"
  },
  "language_info": {
   "codemirror_mode": {
    "name": "ipython",
    "version": 3
   },
   "file_extension": ".py",
   "mimetype": "text/x-python",
   "name": "python",
   "nbconvert_exporter": "python",
   "pygments_lexer": "ipython3",
   "version": "3.5.1"
  }
 },
 "nbformat": 4,
 "nbformat_minor": 0
}
