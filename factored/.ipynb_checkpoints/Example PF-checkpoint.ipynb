{
 "cells": [
  {
   "cell_type": "markdown",
   "metadata": {},
   "source": [
    "## Example 3\n",
    "\n",
    "Consider the following nonlinear systemin two unknowns:\n",
    "\\begin{eqnarray}\n",
    "p_1 = x_1 x_2 +x_1 x_2^2\\\\\n",
    "p_2 = 2 x_1^2 x_2 −x_2^2 \n",
    "\\end{eqnarray}\n",
    "\n",
    "which, upon introduction of four y variables, \n",
    "\n",
    "\\begin{eqnarray}\n",
    "y_1 &=& x_1 x_2 \\\\\n",
    "y_2 &=& x_1 x_2^2\\\\\n",
    "y_3 &=& 2 x_1^2 x_2 \\\\\n",
    "y_4 &=& −x_2^2 \n",
    "\\end{eqnarray}\n",
    "\n",
    "\n",
    "is converted into an underdetermined linear system:\n",
    "\n",
    "$$ \n",
    "\\left( \n",
    "\\begin{array}{c}\n",
    " p_1 \\\\\n",
    " p_2\n",
    "\\end{array}\n",
    "\\right)\n",
    "=\n",
    "\\left( \n",
    "\\begin{array}{cc}\n",
    " 1 & 1 & 0 & 0 \\\\\n",
    " 0 & 0 & 2 & -1\n",
    "\\end{array}\n",
    "\\right) \n",
    "\\left( \n",
    "\\begin{array}{c}\n",
    " y_1 \\\\\n",
    " y_2 \\\\\n",
    " y_3 \\\\\n",
    " y_4\n",
    "\\end{array}\n",
    "\\right) \n",
    "$$ "
   ]
  },
  {
   "cell_type": "code",
   "execution_count": 41,
   "metadata": {
    "collapsed": true
   },
   "outputs": [],
   "source": [
    "import numpy as np"
   ]
  },
  {
   "cell_type": "code",
   "execution_count": 42,
   "metadata": {
    "collapsed": false
   },
   "outputs": [
    {
     "name": "stdout",
     "output_type": "stream",
     "text": [
      "Convergence reached after 5 iterations\n",
      "[[ 2.+0.j]\n",
      " [ 3.+0.j]]\n"
     ]
    }
   ],
   "source": [
    "E = np.array([[1, 1,0,0],\n",
    "              [0,0,2,-1]]) \n",
    "\n",
    "C = np.array([[1,1],\n",
    "              [1,2],\n",
    "              [2,1],\n",
    "              [2,0]]) \n",
    "\n",
    "p = np.array([[24],\n",
    "              [20]]) \n",
    "\n",
    "def f(y):\n",
    "    \n",
    "    y_1 = y[0,0]\n",
    "    y_2 = y[1,0]\n",
    "    y_3 = y[2,0]\n",
    "    y_4 = y[3,0]\n",
    "    \n",
    "    u_1 = np.log(y_1)\n",
    "    u_2 = np.log(y_2)\n",
    "    u_3 = np.log(y_3)\n",
    "    u_4 = np.log(y_4)\n",
    "        \n",
    "    u = np.array([[u_1],[u_2],[u_3],[u_4]]) \n",
    "    \n",
    "    return u\n",
    "\n",
    "def f_inv(u):\n",
    "    \n",
    "    u_1 = u[0,0]\n",
    "    u_2 = u[1,0]\n",
    "    u_3 = u[2,0]\n",
    "    u_4 = u[3,0]\n",
    "    \n",
    "    y_1 = np.exp(u_1)\n",
    "    y_2 = np.exp(u_2)\n",
    "    y_3 = np.exp(u_3)\n",
    "    y_4 = np.exp(u_4)\n",
    "    \n",
    "    y = np.array([[y_1],[y_2],[y_3],[y_4]]) \n",
    "    \n",
    "    return y\n",
    "\n",
    "\n",
    "def F_inv(u):\n",
    "    \n",
    "    u_1 = u[0,0]\n",
    "    u_2 = u[1,0]\n",
    "    u_3 = u[2,0]\n",
    "    u_4 = u[3,0]\n",
    "       \n",
    "    return np.diag([np.exp(u_1),\n",
    "                    np.exp(u_2),\n",
    "                    np.exp(u_3),\n",
    "                    np.exp(u_4)])\n",
    "\n",
    "\n",
    "x_0 = np.array([[1-0j],\n",
    "                [-1-0j]]) \n",
    "\n",
    "max_iter = 200\n",
    "\n",
    "x_k = x_0\n",
    "for it in range(max_iter):\n",
    "    \n",
    "    # step 0\n",
    "    y_k = f_inv(np.matmul(C,x_k))\n",
    "    \n",
    "    # step 1\n",
    "    lam = np.linalg.solve(np.matmul(E,E.T), p-np.matmul(E,y_k))\n",
    "    y_ = y_k  +  np.matmul(E.T,lam)\n",
    "    u_ = f(y_)\n",
    "\n",
    "    # step 2\n",
    "    H_ = np.matmul(E,np.matmul(F_inv(u_),C))\n",
    "    \n",
    "    x_0 = x_k\n",
    "    x_k = np.linalg.solve(H_, np.matmul(E,np.matmul(F_inv(u_),f(y_))))\n",
    "    \n",
    "    epsilon = np.linalg.norm(x_k-x_0, np.inf)\n",
    "    if epsilon < 0.00001:\n",
    "        print('Convergence reached after {:d} iterations'.format(it+1))      \n",
    "        \n",
    "        x_alpha = np.exp(x_k)\n",
    "        print(x_alpha)\n",
    "        break\n",
    "        \n",
    "    if it>=max_iter-1:\n",
    "        print('Max. iteration number reached')\n",
    "        print(x_k)"
   ]
  },
  {
   "cell_type": "code",
   "execution_count": 40,
   "metadata": {
    "collapsed": false
   },
   "outputs": [
    {
     "name": "stdout",
     "output_type": "stream",
     "text": [
      "Convergence reached after 5 iterations\n",
      "[[ 2.+0.j]\n",
      " [ 3.+0.j]]\n"
     ]
    }
   ],
   "source": [
    "E = np.array([[ 1, 1, 0, 0],\n",
    "              [ 0, 0, 2,-1]]) \n",
    "\n",
    "C = np.array([[1,1],\n",
    "              [1,2],\n",
    "              [2,1],\n",
    "              [2,0]]) \n",
    "\n",
    "p = np.array([[24],\n",
    "              [20]]) \n",
    "\n",
    "def f(y):   \n",
    "    return  np.log(y)\n",
    "\n",
    "def f_inv(u):\n",
    "    return np.exp(u)\n",
    "\n",
    "\n",
    "def F_inv(u): \n",
    "    return np.diagflat(np.exp(u))\n",
    "\n",
    "x_0 = np.array([[ 1-0j],\n",
    "                [ 1-0j]]) \n",
    "\n",
    "max_iter = 200\n",
    "\n",
    "x_k = x_0\n",
    "for it in range(max_iter):\n",
    "    \n",
    "    # step 0\n",
    "    y_k = f_inv(np.matmul(C,x_k))\n",
    "    \n",
    "    # step 1\n",
    "    lam = np.linalg.solve(np.matmul(E,E.T), p-np.matmul(E,y_k))\n",
    "    y_ = y_k  +  np.matmul(E.T,lam)\n",
    "    u_ = f(y_)\n",
    "\n",
    "    # step 2\n",
    "    H_ = np.matmul(E,np.matmul(F_inv(u_),C))\n",
    "    \n",
    "    x_0 = x_k\n",
    "    x_k = np.linalg.solve(H_, np.matmul(E,np.matmul(F_inv(u_),f(y_))))\n",
    "    \n",
    "    epsilon = np.linalg.norm(x_k-x_0, np.inf)\n",
    "    if epsilon < 0.00001:\n",
    "        print('Convergence reached after {:d} iterations'.format(it+1))      \n",
    "        \n",
    "        x_alpha = np.exp(x_k)\n",
    "        print(x_alpha)\n",
    "        break\n",
    "        \n",
    "    if it>=max_iter-1:\n",
    "        print('Max. iteration number reached')\n",
    "        print(x_k)"
   ]
  },
  {
   "cell_type": "markdown",
   "metadata": {},
   "source": [
    "## Solution with Newthon-Raphson"
   ]
  },
  {
   "cell_type": "markdown",
   "metadata": {},
   "source": [
    "\\begin{eqnarray}\n",
    "p_1 = x_1 x_2 +x_1 x_2^2\\\\\n",
    "p_2 = 2 x_1^2 x_2 −x_2^2 \n",
    "\\end{eqnarray}"
   ]
  },
  {
   "cell_type": "code",
   "execution_count": 43,
   "metadata": {
    "collapsed": true
   },
   "outputs": [],
   "source": [
    "import sympy as sym"
   ]
  },
  {
   "cell_type": "code",
   "execution_count": 44,
   "metadata": {
    "collapsed": true
   },
   "outputs": [],
   "source": [
    "x_1,x_2 = sym.symbols('x_1,x_2')"
   ]
  },
  {
   "cell_type": "code",
   "execution_count": 89,
   "metadata": {
    "collapsed": false
   },
   "outputs": [],
   "source": [
    "x = sym.Matrix([[x_1],[x_2]])\n",
    "h_sym = sym.Matrix([[x_1*x_2+x_1*x_2**2],[2*x_1**2*x_2-x_1**2]])\n",
    "H_sym = h_sym.jacobian(x)\n",
    "\n",
    "from sympy import lambdify \n",
    "h = lambdify((x, y), Matrix([x, y]), modules=array2mat)\n",
    ">>> f(1, 2)\n",
    "matrix([[1],\n",
    "        [2]])\n"
   ]
  },
  {
   "cell_type": "code",
   "execution_count": 128,
   "metadata": {
    "collapsed": false
   },
   "outputs": [
    {
     "name": "stdout",
     "output_type": "stream",
     "text": [
      "Convergence reached after 8 iterations\n",
      "[[ 2.]\n",
      " [ 3.]]\n"
     ]
    }
   ],
   "source": [
    "def h(x):\n",
    "    x_1 = x[0,0]\n",
    "    x_2 = x[1,0]\n",
    "    \n",
    "    return np.array([[x_1*x_2+x_1*x_2**2],[2*x_1**2*x_2-x_1**2]])\n",
    "\n",
    "def H(x):\n",
    "    x_1 = x[0,0]\n",
    "    x_2 = x[1,0]\n",
    "    \n",
    "    return np.array([\n",
    "                    [x_2**2 + x_2     , 2*x_1*x_2 + x_1],\n",
    "                    [4*x_1*x_2 - 2*x_1,       2*x_1**2]\n",
    "                    ])\n",
    "\n",
    "p = np.array([[24.0],\n",
    "              [20.0]]) \n",
    "\n",
    "x_0 = np.array([[1.0],\n",
    "                [1.0]]) \n",
    "\n",
    "\n",
    "max_iter = 100\n",
    "for it in range(max_iter):\n",
    "\n",
    "    Dp = p - h(x_0)\n",
    "    Dx = np.linalg.solve(H(x_0), Dp)\n",
    "\n",
    "    x_0 = Dx + x_0\n",
    "    \n",
    "    epsilon = np.linalg.norm(Dx, np.inf)\n",
    "    if epsilon < 0.00001:\n",
    "        print('Convergence reached after {:d} iterations'.format(it+1))      \n",
    "\n",
    "        print(x_0)\n",
    "        break\n",
    "        \n",
    "    if it>=max_iter-1:\n",
    "        print('Max. iteration number reached')\n",
    "        print(x_k)"
   ]
  },
  {
   "cell_type": "code",
   "execution_count": null,
   "metadata": {
    "collapsed": true
   },
   "outputs": [],
   "source": []
  }
 ],
 "metadata": {
  "kernelspec": {
   "display_name": "Python 3",
   "language": "python",
   "name": "python3"
  },
  "language_info": {
   "codemirror_mode": {
    "name": "ipython",
    "version": 3
   },
   "file_extension": ".py",
   "mimetype": "text/x-python",
   "name": "python",
   "nbconvert_exporter": "python",
   "pygments_lexer": "ipython3",
   "version": "3.5.1"
  }
 },
 "nbformat": 4,
 "nbformat_minor": 0
}
