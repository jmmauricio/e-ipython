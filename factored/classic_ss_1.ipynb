{
 "cells": [
  {
   "cell_type": "markdown",
   "metadata": {},
   "source": [
    "## Classic steady state\n",
    "\n",
    "Consider the following nonlinear system in three unknowns:\n",
    "\\begin{eqnarray}\n",
    "0 &=& \\Omega_b \\Delta \\omega \\\\\n",
    "0 &=& P_m - p_e - K_d \\Delta \\omega \\\\\n",
    "0 &=& p_e - \\frac{e' V_\\infty}{X} \\sin \\left( \\delta  \\right) \\\\\n",
    "\\end{eqnarray}\n",
    "\n",
    "which, upon introduction  y variables, \n",
    "\n"
   ]
  },
  {
   "cell_type": "markdown",
   "metadata": {},
   "source": [
    "\\begin{eqnarray}\n",
    "y_1 &=& \\Delta \\omega \\\\\n",
    "y_2 &=& p_e\\\\\n",
    "y_3 &=& \\sin \\left( \\delta  \\right)\n",
    "\\end{eqnarray}\n"
   ]
  },
  {
   "cell_type": "code",
   "execution_count": 69,
   "metadata": {
    "collapsed": false
   },
   "outputs": [
    {
     "name": "stdout",
     "output_type": "stream",
     "text": [
      "\\left[\\begin{matrix}\\Omega_{b} & 0 & 0\\\\K_{d} & 1 & 0\\\\0 & 1 & - \\frac{E V}{X}\\end{matrix}\\right]\n",
      "\\left[\\begin{matrix}0\\\\P_{m}\\\\0\\end{matrix}\\right] = \\left[\\begin{matrix}\\Omega_{b} y_{1}\\\\K_{d} y_{1} + y_{2}\\\\- \\frac{E V}{X} y_{3} + y_{2}\\end{matrix}\\right]\n"
     ]
    }
   ],
   "source": [
    "import sympy as sym \n",
    "\n",
    "sqrt = sym.sqrt\n",
    "arcsin = sym.asin\n",
    "sin = sym.sin\n",
    "\n",
    "log = sym.ln\n",
    "delta,Domega,p_e = sym.symbols('delta,Domega,p_e')\n",
    "Omega_b,P_m,K_d,E,X,V = sym.symbols('Omega_b,P_m,K_d,E,X,V') \n",
    "a_1,a_2,a_3 = sym.symbols('a_1,a_2,a_3') \n",
    "y_1,y_2,y_3,y_4,y_5,y_6 = sym.symbols(['y_1','y_2','y_3','y_4','y_5','y_6'])  \n",
    "\n",
    "y = sym.Matrix([[y_1],[y_2],[y_3]])\n",
    "\n",
    "rh1 = Omega_b * Domega \n",
    "rh2 = p_e + K_d *Domega\n",
    "rh3 = p_e - E*V/X*sin(delta)\n",
    "\n",
    "rh_x = [rh1,rh2,rh3]\n",
    "\n",
    "p = sym.Matrix([[0],[P_m],[0]])\n",
    "\n",
    "\n",
    "x2y = [(y_1,Domega),\n",
    "       (y_2,p_e),\n",
    "       (y_3,sin(delta))]\n",
    "\n",
    "rh1 = Omega_b * y_1 \n",
    "rh2 = y_2 + K_d *y_1\n",
    "rh3 = y_2 - E*V/X*y_3\n",
    "\n",
    "rh_y = [[rh1],[rh2],[rh3]]\n",
    "\n",
    "RH_y = sym.Matrix(rh_y)\n",
    "\n",
    "E =RH_y.jacobian(y)\n",
    "\n",
    "print(sym.latex(E))\n",
    "print(sym.latex(p) + ' = ' + sym.latex(E*y))"
   ]
  },
  {
   "cell_type": "markdown",
   "metadata": {},
   "source": [
    "$$  \\begin{matrix}0 = \\\\P_{m} = \\\\0 = \\end{matrix}    \\begin{matrix}\\Omega_{b} y_{1}\\\\K_{d} y_{1} + y_{2}\\\\- \\frac{E V}{X} y_{3} + y_{2}\\end{matrix}  $$"
   ]
  },
  {
   "cell_type": "markdown",
   "metadata": {},
   "source": [
    "$$\n",
    "E = \n",
    "\\left[\\begin{matrix}\\Omega_{b} & 0 & 0\\\\K_{d} & 1 & 0\\\\0 & 1 & - \\frac{E V}{X}\\end{matrix}\\right]\n",
    "$$"
   ]
  },
  {
   "cell_type": "code",
   "execution_count": null,
   "metadata": {
    "collapsed": true
   },
   "outputs": [],
   "source": [
    "y2u = [(u_1,y_1),       # y_1 = Domega = u_1\n",
    "       (u_2,y_2),       # y_2 = p_e    = u_2\n",
    "       (u_3,asin(y_3))] # asin(y_3) = delta "
   ]
  },
  {
   "cell_type": "markdown",
   "metadata": {},
   "source": [
    "\\begin{eqnarray}\n",
    "p_1 &=& y_1 -y_2\\\\\n",
    "p_2 &=& y_3 - y_4 \\\\\n",
    "0 &=& y_2 + y_5 - y_6\n",
    "\\end{eqnarray}"
   ]
  },
  {
   "cell_type": "markdown",
   "metadata": {},
   "source": [
    "is converted into an underdetermined linear system:\n",
    "\n",
    "$$ \n",
    "\\left( \n",
    "\\begin{array}{c}\n",
    " p_1 \\\\\n",
    " p_2 \\\\\n",
    " 0 \n",
    "\\end{array}\n",
    "\\right)\n",
    "=\n",
    "\\underbrace{\n",
    "\\left( \n",
    "\\begin{array}{cc}\n",
    " 1 & -1 & 0 & 0 & 0 & 0 \\\\\n",
    " 0 & 0 & 1 & -1 & 0 & 0 \\\\\n",
    " 0 & 1 & 0 & 0 & 1 & -1 \\\\\n",
    "\\end{array}\n",
    "\\right) \n",
    "}_{E}\n",
    "\\left( \n",
    "\\begin{array}{c}\n",
    " y_1 \\\\\n",
    " y_2 \\\\\n",
    " y_3 \\\\\n",
    " y_4 \\\\\n",
    " y_5 \\\\\n",
    " y_6   \n",
    "\\end{array}\n",
    "\\right) \n",
    "$$ "
   ]
  },
  {
   "cell_type": "markdown",
   "metadata": {},
   "source": [
    "\\begin{eqnarray}\n",
    "\\ln x_1  &=& \\alpha_1 \\\\\n",
    "\\ln x_2  &=& \\alpha_2 \\\\\n",
    "\\ln x_3  &=& \\alpha_3 \n",
    "\\end{eqnarray}"
   ]
  },
  {
   "cell_type": "markdown",
   "metadata": {},
   "source": [
    "\n",
    "\\begin{eqnarray}\n",
    " u_1  &=& \\ln y_1 =  \\alpha_1 + \\alpha_3 \\\\\n",
    " u_2  &=& \\ln y_2 = 2 \\alpha_1\\\\\n",
    " u_3  &=& \\ln y_3 = 2 \\alpha_1 + \\alpha_2\\\\\n",
    " u_4  &=& \\ln y_4 = 1/2 \\alpha_2 \\\\\n",
    " u_5  &=& \\ln y_5 = \\alpha_2\\\\\n",
    " u_6  &=& \\ln \\left( \\sin y_6 \\right) = \\alpha_3\n",
    "\\end{eqnarray}\n",
    "\n",
    "\n",
    "\\begin{eqnarray}\n",
    " y_1  &=& e^{u_1} \\\\\n",
    " y_2  &=& e^{u_2} \\\\\n",
    " y_3  &=& e^{u_3} \\\\\n",
    " y_4  &=& e^{u_4} \\\\\n",
    " y_5  &=& e^{u_5} \\\\\n",
    " y_6  &=& \\arcsin \\left( {e^{u^6}} \\right)\n",
    "\\end{eqnarray}\n",
    "\n",
    "$$\\frac{\\partial y_6}{\\partial u_6} = \\frac{e^(u_6)}{\\sqrt{-e^{2 u_6} + 1}}$$"
   ]
  },
  {
   "cell_type": "markdown",
   "metadata": {},
   "source": [
    "$$ \n",
    "F^{-1}\n",
    "=\n",
    "\\left( \n",
    "\\begin{array}{cccccc}\n",
    " e^{u_1} & 0 & 0 & 0 & 0 & 0 \\\\\n",
    " 0 & e^{u_2} & 0 & 0 & 0 & 0 \\\\\n",
    " 0 & 0 & e^{u_3} & 0 & 0 & 0 \\\\\n",
    " 0 & 0 & 0 & e^{u_4} & 0 & 0  \\\\\n",
    " 0 & 0 & 0 & 0 & e^{u_5} & 0 \\\\\n",
    " 0 & 0 & 0 & 0 & 0 & \\frac{e^{u_6}}{\\sqrt{-e^{2 u_6} + 1}} \\\\\n",
    "\\end{array}\n",
    "\\right) \n",
    "$$"
   ]
  },
  {
   "cell_type": "code",
   "execution_count": 15,
   "metadata": {
    "collapsed": false
   },
   "outputs": [
    {
     "data": {
      "text/plain": [
       "1/sqrt(-y_1**2 + 1)"
      ]
     },
     "execution_count": 15,
     "metadata": {},
     "output_type": "execute_result"
    }
   ],
   "source": [
    "import sympy as sym\n",
    "\n",
    "y_1,y_2,y_3,y_4,y_5,y_6 = sym.symbols(['y_1','y_2','y_3','y_4','y_5','y_6']) \n",
    "\n",
    "sym.diff(sym.asin(y_1),y_1)"
   ]
  },
  {
   "cell_type": "code",
   "execution_count": 14,
   "metadata": {
    "collapsed": true
   },
   "outputs": [],
   "source": [
    "import numpy as np"
   ]
  },
  {
   "cell_type": "markdown",
   "metadata": {},
   "source": [
    "log(x_1) + log(x_3)\n",
    "2*log(x_1)\n",
    "2*log(x_1) + log(x_2)\n",
    "log(x_2)/2\n",
    "log(x_2)\n",
    "log(asin(x_3))"
   ]
  },
  {
   "cell_type": "code",
   "execution_count": 60,
   "metadata": {
    "collapsed": false
   },
   "outputs": [
    {
     "name": "stdout",
     "output_type": "stream",
     "text": [
      "Convergence reached after 2 iterations\n",
      "[[ 0.30469265+0.j]\n",
      " [ 0.00000000+0.j]\n",
      " [ 1.00000000+0.j]]\n",
      "((-4.3598356225107899e-15+0j), 0j, 2.22044604925031e-16)\n"
     ]
    }
   ],
   "source": [
    "Omega_b =  2.0*np.pi*50.0\n",
    "K_d = 0.1\n",
    "E = 1.0\n",
    "V = 1.0\n",
    "X = 0.3\n",
    "E = np.array([[Omega_b, 0, 0],\n",
    "              [K_d,    1, 0],\n",
    "              [0,  -1, E*V/X]\n",
    "             ]) \n",
    "\n",
    "C = np.array([[0,1,0],\n",
    "              [0,0,1],\n",
    "              [1,0,0]\n",
    "             ]) \n",
    "\n",
    "def f(y):\n",
    "    \n",
    "    y_1 = y[0,0]\n",
    "    y_2 = y[1,0]\n",
    "    y_3 = y[2,0]\n",
    "\n",
    "    u_1 = y_1\n",
    "    u_2 = y_2\n",
    "    u_3 = np.arcsin(y_3)\n",
    "    \n",
    "    u = np.array([[u_1],[u_2],[u_3]]) \n",
    "    \n",
    "    return u\n",
    "\n",
    "def f_inv(u):\n",
    "    \n",
    "    u_1 = u[0,0]\n",
    "    u_2 = u[1,0]\n",
    "    u_3 = u[2,0]\n",
    "\n",
    "    y_1 = u_1\n",
    "    y_2 = u_2\n",
    "    y_3 = np.sin(u_3)\n",
    "    \n",
    "    y = np.array([[y_1],[y_2],[y_3]]) \n",
    "    \n",
    "    return y\n",
    "\n",
    "\n",
    "def F_inv(u):\n",
    "    \n",
    "    u_1 = u[0,0]\n",
    "    u_2 = u[1,0]\n",
    "    u_3 = u[2,0]\n",
    "\n",
    "    return np.diag([1,\n",
    "                    1,\n",
    "                    1/np.sqrt(-u_3**2 + 1)])\n",
    "\n",
    "p = np.array([[0],\n",
    "              [1],\n",
    "              [0]]) \n",
    "\n",
    "\n",
    "\n",
    "max_iter = 200\n",
    "\n",
    "\n",
    "x_0 = np.array([[0+0j],\n",
    "                [0+0j],\n",
    "                [0+0j]]) \n",
    "\n",
    "\n",
    "x_k = x_0\n",
    "\n",
    "for it in range(max_iter):\n",
    "    \n",
    "    # step 0\n",
    "    y_k = f_inv(np.matmul(C,x_k))\n",
    "    \n",
    "    # step 1\n",
    "    lam = np.linalg.solve(np.matmul(E,E.T), p-np.matmul(E,y_k))\n",
    "    y_ = y_k  +  np.matmul(E.T,lam)\n",
    "    u_ = f(y_)\n",
    "\n",
    "    # step 2\n",
    "    H_ = np.matmul(E,np.matmul(F_inv(u_),C))\n",
    "    \n",
    "    x_0 = x_k\n",
    "    x_k = np.linalg.solve(H_, np.matmul(E,np.matmul(F_inv(u_),f(y_))))\n",
    "    \n",
    "    epsilon = np.linalg.norm(x_k-x_0, np.inf)\n",
    "    \n",
    "    if epsilon < 0.00000001:\n",
    "        print('Convergence reached after {:d} iterations'.format(it+1))      \n",
    "        x = x_k        \n",
    "        print(x)\n",
    "        \n",
    "        break\n",
    "        \n",
    "    if it>=max_iter-1:\n",
    "        print('Max. iteration number reached')\n",
    "        x = np.exp(a_k)\n",
    "        print(x)\n",
    "        \n",
    "        \n",
    "\n",
    "\n",
    "def res(x,p):\n",
    "    \n",
    "    delta = x[0,0]\n",
    "    Domega = x[1,0]\n",
    "    p_e = x[2,0]\n",
    "    \n",
    "\n",
    "    \n",
    "    P_m = p[1,0]\n",
    "    \n",
    "\n",
    "\n",
    "    r_1 = Omega_b * Domega \n",
    "    r_2 = p_e + K_d *Domega - P_m\n",
    "    r_3 = p_e - 1*V/X*sin(delta)\n",
    "\n",
    "\n",
    "    return r_1,r_2,r_3\n",
    "\n",
    "#p = np.array([[0.0],[1.0]]) \n",
    "#x = np.array([[  0.41587743],[ 44.23825053]])\n",
    "x = x_0\n",
    "print(res(x,p))"
   ]
  },
  {
   "cell_type": "code",
   "execution_count": 35,
   "metadata": {
    "collapsed": false
   },
   "outputs": [
    {
     "data": {
      "text/plain": [
       "array([[  0.00000000e+00+0.j],\n",
       "       [  0.00000000e+00+0.j],\n",
       "       [  2.22044605e-16+0.j]])"
      ]
     },
     "execution_count": 35,
     "metadata": {},
     "output_type": "execute_result"
    }
   ],
   "source": [
    "x"
   ]
  },
  {
   "cell_type": "markdown",
   "metadata": {},
   "source": [
    "## Solution with Newthon-Raphson"
   ]
  },
  {
   "cell_type": "markdown",
   "metadata": {},
   "source": [
    "\\begin{eqnarray}\n",
    "p_1 = x_1 x_2 +x_1 x_2^2\\\\\n",
    "p_2 = 2 x_1^2 x_2 −x_2^2 \n",
    "\\end{eqnarray}"
   ]
  },
  {
   "cell_type": "code",
   "execution_count": 8,
   "metadata": {
    "collapsed": true
   },
   "outputs": [],
   "source": [
    "import sympy as sym"
   ]
  },
  {
   "cell_type": "code",
   "execution_count": 9,
   "metadata": {
    "collapsed": true
   },
   "outputs": [],
   "source": [
    "x_1,x_2= sym.symbols('x_1,x_2')"
   ]
  },
  {
   "cell_type": "code",
   "execution_count": 21,
   "metadata": {
    "collapsed": false
   },
   "outputs": [
    {
     "name": "stdout",
     "output_type": "stream",
     "text": [
      "Matrix([[2*x_1**2*cos(x_1**2 + x_2) - 2*x_1 + sin(x_1**2 + x_2), x_1*cos(x_1**2 + x_2)], [2*x_1*x_2, x_1**2 - 1/(2*sqrt(x_2))]])\n"
     ]
    }
   ],
   "source": [
    "x = sym.Matrix([[x_1],[x_2]])\n",
    "h_sym = sym.Matrix([[x_1*sym.sin(x_1**2+x_2)-x_1**2],\n",
    "                    [x_1**2*x_2-sym.sqrt(x_2)]])\n",
    "H_sym = h_sym.jacobian(x)\n",
    "\n",
    "print(H_sym)\n"
   ]
  },
  {
   "cell_type": "code",
   "execution_count": 87,
   "metadata": {
    "collapsed": false,
    "scrolled": true
   },
   "outputs": [
    {
     "name": "stdout",
     "output_type": "stream",
     "text": [
      "[[ 0.09070257]\n",
      " [ 1.        ]]\n",
      "[[   4.18960146]\n",
      " [-109.18747732]]\n",
      "[[ -0.20149224]\n",
      " [-14.25458779]]\n",
      "[[ 0.63468367]\n",
      " [-1.8938833 ]]\n",
      "[[ 0.09897883]\n",
      " [-0.16513232]]\n",
      "[[ 0.0040719 ]\n",
      " [-0.00016424]]\n",
      "[[  1.00253790e-05]\n",
      " [  1.96483178e-07]]\n",
      "[[  6.19996277e-11]\n",
      " [  9.47686374e-13]]\n",
      "Convergence reached after 8 iterations\n",
      "[[  0.41587743]\n",
      " [ 44.23825053]]\n",
      "[[  7.21644966e-16]\n",
      " [  1.00000000e+00]]\n"
     ]
    }
   ],
   "source": [
    "def h(x):\n",
    "    x_1 = x[0,0]\n",
    "    x_2 = x[1,0]\n",
    "    \n",
    "    return np.array([[x_1*np.sin(x_1**2+x_2)-x_1**2],\n",
    "                    [x_1**2*x_2-np.sqrt(x_2)]])\n",
    "\n",
    "def H(x):\n",
    "    x_1 = x[0,0]\n",
    "    x_2 = x[1,0]\n",
    "    \n",
    "    return np.array([\n",
    "                    [2*x_1**2*np.cos(x_1**2 + x_2) - 2*x_1 + np.sin(x_1**2 + x_2), x_1*np.cos(x_1**2 + x_2)], \n",
    "                    [2*x_1*x_2, x_1**2 - 1/(2*np.sqrt(x_2))]\n",
    "                    ])\n",
    "\n",
    "p = np.array([[0.0],\n",
    "              [1.0]]) \n",
    "\n",
    "x_0 = np.array([[1.0],\n",
    "                [1.0]]) \n",
    "\n",
    "\n",
    "max_iter = 100\n",
    "for it in range(max_iter):\n",
    "\n",
    "    Dp = p - h(x_0)\n",
    "    \n",
    "    print(Dp)\n",
    "    Dx = np.linalg.solve(H(x_0), Dp)\n",
    "\n",
    "    x_0 = Dx + x_0\n",
    "    \n",
    "    epsilon = np.linalg.norm(Dx, np.inf)\n",
    "    if epsilon < 0.00001:\n",
    "        print('Convergence reached after {:d} iterations'.format(it+1))      \n",
    "\n",
    "        print(x_0)\n",
    "        break\n",
    "        \n",
    "    if it>=max_iter-1:\n",
    "        print('Max. iteration number reached')\n",
    "        print(x_k)\n",
    "\n",
    "print(h(x_0))"
   ]
  },
  {
   "cell_type": "code",
   "execution_count": 142,
   "metadata": {
    "collapsed": false
   },
   "outputs": [
    {
     "data": {
      "text/plain": [
       "exp(u_6)/sqrt(-exp(2*u_6) + 1)"
      ]
     },
     "execution_count": 142,
     "metadata": {},
     "output_type": "execute_result"
    }
   ],
   "source": [
    "import sympy as sym\n",
    "\n",
    "y_6,u_6 = sym.symbols('y_6,u_6')\n",
    "f_6 = sym.asin(sym.exp(u_6))\n",
    "#f_6 = sym.log(sym.sin(y_6))\n",
    "sym.diff(f_6,u_6)"
   ]
  },
  {
   "cell_type": "code",
   "execution_count": 122,
   "metadata": {
    "collapsed": false
   },
   "outputs": [],
   "source": [
    "f=sym.poly(y_6+2*y_6**2+u_6)"
   ]
  },
  {
   "cell_type": "code",
   "execution_count": 365,
   "metadata": {
    "collapsed": false
   },
   "outputs": [
    {
     "ename": "SyntaxError",
     "evalue": "invalid syntax (<ipython-input-365-e8ebc219b512>, line 16)",
     "output_type": "error",
     "traceback": [
      "\u001b[1;36m  File \u001b[1;32m\"<ipython-input-365-e8ebc219b512>\"\u001b[1;36m, line \u001b[1;32m16\u001b[0m\n\u001b[1;33m    x2y = [y_1:x_1*x_3,\u001b[0m\n\u001b[1;37m              ^\u001b[0m\n\u001b[1;31mSyntaxError\u001b[0m\u001b[1;31m:\u001b[0m invalid syntax\n"
     ]
    }
   ],
   "source": [
    "import sympy as sym \n",
    "\n",
    "sqrt = sym.sqrt\n",
    "arcsin = sym.asin\n",
    "\n",
    "log = sym.ln\n",
    "x_1,x_2,x_3 = sym.symbols('x_1,x_2,x_3') \n",
    "a_1,a_2,a_3 = sym.symbols('a_1,a_2,a_3') \n",
    "y_1,y_2,y_3,y_4,y_5,y_6 = sym.symbols(['y_1','y_2','y_3','y_4','y_5','y_6'])  \n",
    "\n",
    "rh1 = x_1 * x_3 - x_1**2\n",
    "rh2 = x_1**2 * x_2 - sqrt(x_2)\n",
    "rh3 = x_1**2 + x_2 - arcsin(x_3)\n",
    "\n",
    "rh_x = [rh1,rh2,rh3]\n",
    "x2y = [y_1:x_1*x_3,\n",
    "       y_2:x_1**2,\n",
    "       y_3:x_1**2*x_2,\n",
    "       y_4:sqrt(x_2),\n",
    "       y_5:x_2,\n",
    "       y_6:arcsin(x_3)]\n",
    "f_y = []\n",
    "for rh in rh_x:    \n",
    "    r = rh.as_ordered_terms()\n",
    "    for r_i in r:\n",
    "        r_new = r_i\n",
    "        for x2y_k,x2y_v in x2y.items():\n",
    "\n",
    "            r_new=r_new.subs(x2y_v, x2y_k)\n",
    "        print(r_i,r_new)\n",
    "\n",
    "    #print(r)\n",
    "    f_y += [rh]\n",
    "        \n",
    "    "
   ]
  },
  {
   "cell_type": "code",
   "execution_count": 200,
   "metadata": {
    "collapsed": false
   },
   "outputs": [],
   "source": [
    "a=rh2.as_ordered_terms()\n"
   ]
  },
  {
   "cell_type": "code",
   "execution_count": 205,
   "metadata": {
    "collapsed": false
   },
   "outputs": [
    {
     "data": {
      "text/plain": [
       "(x_2, x_1**2)"
      ]
     },
     "execution_count": 205,
     "metadata": {},
     "output_type": "execute_result"
    }
   ],
   "source": [
    "a[0].args"
   ]
  },
  {
   "cell_type": "code",
   "execution_count": 152,
   "metadata": {
    "collapsed": true
   },
   "outputs": [],
   "source": [
    "y_1,y_2,y_3,y_4,y_5,y_6 = sym.symbols(['y_1','y_2','y_3','y_4','y_5','y_6']) "
   ]
  },
  {
   "cell_type": "code",
   "execution_count": 192,
   "metadata": {
    "collapsed": false
   },
   "outputs": [
    {
     "data": {
      "text/plain": [
       "True"
      ]
     },
     "execution_count": 192,
     "metadata": {},
     "output_type": "execute_result"
    }
   ],
   "source": [
    "x_2 in x2y.values()"
   ]
  },
  {
   "cell_type": "code",
   "execution_count": 198,
   "metadata": {
    "collapsed": false
   },
   "outputs": [
    {
     "ename": "NameError",
     "evalue": "name 'b' is not defined",
     "output_type": "error",
     "traceback": [
      "\u001b[1;31m---------------------------------------------------------------------------\u001b[0m",
      "\u001b[1;31mNameError\u001b[0m                                 Traceback (most recent call last)",
      "\u001b[1;32m<ipython-input-198-f5c8f68a1cd4>\u001b[0m in \u001b[0;36m<module>\u001b[1;34m()\u001b[0m\n\u001b[1;32m----> 1\u001b[1;33m \u001b[0ma\u001b[0m\u001b[1;33m[\u001b[0m\u001b[1;36m0\u001b[0m\u001b[1;33m]\u001b[0m\u001b[1;33m.\u001b[0m\u001b[0mreplace\u001b[0m\u001b[1;33m(\u001b[0m\u001b[0mx\u001b[0m\u001b[1;33m,\u001b[0m\u001b[0mb\u001b[0m\u001b[1;33m)\u001b[0m\u001b[1;33m\u001b[0m\u001b[0m\n\u001b[0m",
      "\u001b[1;31mNameError\u001b[0m: name 'b' is not defined"
     ]
    }
   ],
   "source": [
    "a[0].replace(x,b)"
   ]
  },
  {
   "cell_type": "code",
   "execution_count": 208,
   "metadata": {
    "collapsed": false
   },
   "outputs": [
    {
     "data": {
      "text/plain": [
       "x_2*sin(x_1)"
      ]
     },
     "execution_count": 208,
     "metadata": {},
     "output_type": "execute_result"
    }
   ],
   "source": [
    "(x_1*sym.sin(x_2)).subs([(x_1,x_2),(x_2,x_1)],simultaneous=True)"
   ]
  },
  {
   "cell_type": "code",
   "execution_count": 366,
   "metadata": {
    "collapsed": false
   },
   "outputs": [],
   "source": [
    "ln = sym.ln\n",
    "\n",
    "x2y = [(y_1,x_1*x_3),\n",
    "       (y_2,x_1**2),\n",
    "       (y_3,x_1**2*x_2),\n",
    "       (y_4,sqrt(x_2)),\n",
    "       (y_5,x_2),\n",
    "       (y_6,arcsin(x_3))]\n",
    "\n",
    "x2a = [(a_1,ln(x_1)),\n",
    "       (a_2,ln(x_2)),\n",
    "       (a_3,ln(x_3))]"
   ]
  },
  {
   "cell_type": "code",
   "execution_count": 350,
   "metadata": {
    "collapsed": false
   },
   "outputs": [],
   "source": [
    "y_1,y_2,y_3,y_4,y_5,y_6 = sym.symbols(['y_1','y_2','y_3','y_4','y_5','y_6']) \n",
    "\n",
    "y = sym.Matrix([[y_1],[y_2],[y_3],[y_4],[y_5],[y_6]])"
   ]
  },
  {
   "cell_type": "code",
   "execution_count": 351,
   "metadata": {
    "collapsed": false
   },
   "outputs": [],
   "source": [
    "x_terms = list(x2y.values())\n",
    "y_terms = list(x2y.keys())\n",
    "rh_y = []\n",
    "\n",
    "for rh_x_i in rh_x:  \n",
    "    terms = rh_x_i.args\n",
    "    rh_y_i = 0\n",
    "    for term_idx in list(range(len(terms))):\n",
    "        if len(terms[term_idx].args)>1:\n",
    "            if terms[term_idx].args[0] == -1:\n",
    "                if -terms[term_idx] in  x_terms:\n",
    "                    idx = x_terms.index(-terms[term_idx])\n",
    "                    rh_y_i += -y_terms[idx] \n",
    "            \n",
    "        if terms[term_idx] in  x_terms:\n",
    "            idx = x_terms.index(terms[term_idx])           \n",
    "            rh_y_i += y_terms[idx]\n",
    "           \n",
    "    rh_y += [[rh_y_i]]\n",
    "    \n",
    "rh_y =sym.Matrix(rh_y)\n",
    "\n",
    "E=rh_y.jacobian(y)\n",
    "            "
   ]
  },
  {
   "cell_type": "code",
   "execution_count": 368,
   "metadata": {
    "collapsed": false
   },
   "outputs": [
    {
     "name": "stdout",
     "output_type": "stream",
     "text": [
      "log(x_1) + log(x_3)\n",
      "2*log(x_1)\n",
      "2*log(x_1) + log(x_2)\n",
      "log(x_2)/2\n",
      "log(x_2)\n",
      "log(asin(x_3))\n"
     ]
    }
   ],
   "source": [
    "for y_i, x2y_i in x2y:\n",
    "    alpha_x = sym.expand_log(sym.log(x2y_i), force=True)\n",
    "    print(alpha_x)\n"
   ]
  },
  {
   "cell_type": "code",
   "execution_count": 353,
   "metadata": {
    "collapsed": false
   },
   "outputs": [
    {
     "data": {
      "text/plain": [
       "2"
      ]
     },
     "execution_count": 353,
     "metadata": {},
     "output_type": "execute_result"
    }
   ],
   "source": [
    "term_idx"
   ]
  },
  {
   "cell_type": "code",
   "execution_count": 362,
   "metadata": {
    "collapsed": false
   },
   "outputs": [
    {
     "data": {
      "text/plain": [
       "[x_2, sqrt(x_2), x_1**2, x_1**2*x_2, asin(x_3), x_1*x_3]"
      ]
     },
     "execution_count": 362,
     "metadata": {},
     "output_type": "execute_result"
    }
   ],
   "source": [
    "list(x2y.values())"
   ]
  },
  {
   "cell_type": "code",
   "execution_count": 367,
   "metadata": {
    "collapsed": false
   },
   "outputs": [
    {
     "data": {
      "text/plain": [
       "[(y_1, x_1*x_3),\n",
       " (y_2, x_1**2),\n",
       " (y_3, x_1**2*x_2),\n",
       " (y_4, sqrt(x_2)),\n",
       " (y_5, x_2),\n",
       " (y_6, asin(x_3))]"
      ]
     },
     "execution_count": 367,
     "metadata": {},
     "output_type": "execute_result"
    }
   ],
   "source": [
    "x2y"
   ]
  },
  {
   "cell_type": "code",
   "execution_count": null,
   "metadata": {
    "collapsed": true
   },
   "outputs": [],
   "source": []
  }
 ],
 "metadata": {
  "kernelspec": {
   "display_name": "Python 3",
   "language": "python",
   "name": "python3"
  },
  "language_info": {
   "codemirror_mode": {
    "name": "ipython",
    "version": 3
   },
   "file_extension": ".py",
   "mimetype": "text/x-python",
   "name": "python",
   "nbconvert_exporter": "python",
   "pygments_lexer": "ipython3",
   "version": "3.5.1"
  }
 },
 "nbformat": 4,
 "nbformat_minor": 0
}
