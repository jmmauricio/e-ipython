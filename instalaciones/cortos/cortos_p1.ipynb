{
 "cells": [
  {
   "cell_type": "markdown",
   "metadata": {},
   "source": [
    "# Cálculo de corrientes de cortocircuito"
   ]
  },
  {
   "cell_type": "markdown",
   "metadata": {},
   "source": [
    "## Enunciado"
   ]
  },
  {
   "cell_type": "markdown",
   "metadata": {},
   "source": [
    "En la instalación de la figura determinar las intensidades de cortocircuito máximas y míniminas para seleccionar los equipos de protección frente a cortocircuitos. Considerando:\n",
    "1. Red de potencia infinita, $\\sf S''_k = \\infty$\n",
    "2. Red de potencia $\\sf S''_k = 500MVA$\n",
    "\n",
    "\n",
    "\n",
    "<img src='problema_4cortos.svg' width=400 \\>"
   ]
  },
  {
   "cell_type": "code",
   "execution_count": 12,
   "metadata": {
    "collapsed": false
   },
   "outputs": [],
   "source": [
    "import numpy as np  # módulo para realizar cálculos con vectores y complejos"
   ]
  },
  {
   "cell_type": "markdown",
   "metadata": {},
   "source": [
    "### Datos"
   ]
  },
  {
   "cell_type": "markdown",
   "metadata": {},
   "source": [
    "#### Transformador"
   ]
  },
  {
   "cell_type": "code",
   "execution_count": 13,
   "metadata": {
    "collapsed": false
   },
   "outputs": [],
   "source": [
    "S_t_n = 630.0e3\n",
    "U_t_1 = 20.0e3\n",
    "U_t_2 = 0.4e3\n",
    "epsilon_rcc = 0.01\n",
    "epsilon_xcc = 0.03"
   ]
  },
  {
   "cell_type": "markdown",
   "metadata": {},
   "source": [
    "#### Línea L1"
   ]
  },
  {
   "cell_type": "code",
   "execution_count": 14,
   "metadata": {
    "collapsed": false
   },
   "outputs": [],
   "source": [
    "long_l1 = 10.0    # m\n",
    "s_l1    = 120.0*2 # mm2\n",
    "X_1_km  = 0.07    # ohm/km "
   ]
  },
  {
   "cell_type": "markdown",
   "metadata": {},
   "source": [
    "#### Línea L2"
   ]
  },
  {
   "cell_type": "code",
   "execution_count": 15,
   "metadata": {
    "collapsed": false
   },
   "outputs": [],
   "source": [
    "long_l2 = 150.0  # m\n",
    "s_l2    = 50.0   # mm2\n",
    "X_2_km  = 0.08   # ohm/km "
   ]
  },
  {
   "cell_type": "markdown",
   "metadata": {},
   "source": [
    "#### Línea L3"
   ]
  },
  {
   "cell_type": "code",
   "execution_count": 16,
   "metadata": {
    "collapsed": false
   },
   "outputs": [],
   "source": [
    "long_l3 = 20.0  # m\n",
    "s_l3    = 16    # mm2\n",
    "X_3_km  = 0.08  # ohm/km "
   ]
  },
  {
   "cell_type": "markdown",
   "metadata": {},
   "source": [
    "#### Conductores de cobre"
   ]
  },
  {
   "cell_type": "code",
   "execution_count": 17,
   "metadata": {
    "collapsed": false
   },
   "outputs": [],
   "source": [
    "rho_cu_20 = 1.0/54"
   ]
  },
  {
   "cell_type": "markdown",
   "metadata": {},
   "source": [
    "## Solución para red de potencia infinita"
   ]
  },
  {
   "cell_type": "markdown",
   "metadata": {},
   "source": [
    "#### Transformador"
   ]
  },
  {
   "cell_type": "markdown",
   "metadata": {},
   "source": [
    "De los datos de potencia nominal y tensión nominal del transformador se pueden definir la potencia base y la tensión base a considerar para determinar la impenacia base del transformador.\n",
    "\n",
    "$$\\sf U_b = U_{T2n} = 380V$$\n",
    "\n",
    "$$\\sf S_b = S_{Tn} = 630kVA$$\n",
    "\n",
    "$$\\sf Z_b = \\frac{U_b^2}{S_b}$$"
   ]
  },
  {
   "cell_type": "markdown",
   "metadata": {},
   "source": [
    "Con la impedancia base y la impedancia en p.u. dada por el enunciado se puede calcular la impedancia en $\\sf \\Omega$:\n",
    "\n",
    "$$\\sf \\underline Z = R +j X = Z_b \\left(\\epsilon_{Rcc} + j \\epsilon_{Xcc}  \\right)  \\; (\\Omega)$$"
   ]
  },
  {
   "cell_type": "code",
   "execution_count": 18,
   "metadata": {
    "collapsed": false
   },
   "outputs": [
    {
     "data": {
      "text/plain": [
       "(0.0025396825396825397+0.007619047619047618j)"
      ]
     },
     "execution_count": 18,
     "metadata": {},
     "output_type": "execute_result"
    }
   ],
   "source": [
    "U_2_n = U_t_2\n",
    "U_base = U_2_n\n",
    "S_base = S_t_n\n",
    "Z_base= U_base**2/S_base\n",
    "Z_trafo = Z_base*(epsilon_rcc+1j*epsilon_xcc)\n",
    "Z_trafo"
   ]
  },
  {
   "cell_type": "markdown",
   "metadata": {},
   "source": [
    "#### Línea L1"
   ]
  },
  {
   "cell_type": "code",
   "execution_count": 19,
   "metadata": {
    "collapsed": false
   },
   "outputs": [
    {
     "name": "stdout",
     "output_type": "stream",
     "text": [
      "Z_l_1_20 = 0.000772+0.0007j Ω\n",
      "Z_l_1_90 = 0.000988+0.0007j Ω\n"
     ]
    }
   ],
   "source": [
    "R_l_1_20  = rho_cu_20*long_l1/s_l1  # resistencia a 20ºC\n",
    "alpha = 0.004                       # coef de temperatura\n",
    "DT = 90.0-20.0                      # variación de la temperatura en ºC\n",
    "R_l_1_90  = R_l_1_20*(1.0+alpha*DT) # resistencia a 90ºC\n",
    "\n",
    "X_l_1 = X_1_km/1000.0*long_l1       # reactancia\n",
    "\n",
    "Z_l_1_20 = R_l_1_20 + 1j*X_l_1   # impedancia con resistencia a 20ºC\n",
    "Z_l_1_90 = R_l_1_90 + 1j*X_l_1   # impedancia con resistencia a 90ºC\n",
    "\n",
    "print('Z_l_1_20 = {:2.3g} Ω'.format(Z_l_1_20))\n",
    "print('Z_l_1_90 = {:2.3g} Ω'.format(Z_l_1_90))"
   ]
  },
  {
   "cell_type": "markdown",
   "metadata": {},
   "source": [
    "#### Línea L2"
   ]
  },
  {
   "cell_type": "code",
   "execution_count": 20,
   "metadata": {
    "collapsed": false
   },
   "outputs": [
    {
     "name": "stdout",
     "output_type": "stream",
     "text": [
      "Z_l_2_20 = 0.0556+0.0105j Ω\n",
      "Z_l_2_90 = 0.0711+0.0105j Ω\n"
     ]
    }
   ],
   "source": [
    "R_l_2_20  = rho_cu_20*long_l2/s_l2  # resistencia a 20ºC\n",
    "alpha = 0.004                       # coef de temperatura\n",
    "DT = 90.0-20.0                      # variación de la temperatura en ºC\n",
    "R_l_2_90  = R_l_2_20*(1.0+alpha*DT) # resistencia a 90ºC\n",
    "\n",
    "X_l_2 = X_1_km/1000.0*long_l2       # reactancia\n",
    "\n",
    "Z_l_2_20 = R_l_2_20 + 1j*X_l_2   # impedancia con resistencia a 20ºC\n",
    "Z_l_2_90 = R_l_2_90 + 1j*X_l_2   # impedancia con resistencia a 90ºC\n",
    "\n",
    "print('Z_l_2_20 = {:2.3g} Ω'.format(Z_l_2_20))\n",
    "print('Z_l_2_90 = {:2.3g} Ω'.format(Z_l_2_90))"
   ]
  },
  {
   "cell_type": "markdown",
   "metadata": {},
   "source": [
    "#### Línea L3"
   ]
  },
  {
   "cell_type": "code",
   "execution_count": 21,
   "metadata": {
    "collapsed": false
   },
   "outputs": [
    {
     "name": "stdout",
     "output_type": "stream",
     "text": [
      "Z_l_3_20 = 0.0231+0.0014j Ω\n",
      "Z_l_3_90 = 0.0296+0.0014j Ω\n"
     ]
    }
   ],
   "source": [
    "R_l_3_20  = rho_cu_20*long_l3/s_l3  # resistencia a 20ºC\n",
    "alpha = 0.004                       # coef de temperatura\n",
    "DT = 90.0-20.0                      # variación de la temperatura en ºC\n",
    "R_l_3_90  = R_l_3_20*(1.0+alpha*DT) # resistencia a 90ºC\n",
    "\n",
    "X_l_3 = X_1_km/1000.0*long_l3       # reactancia\n",
    "\n",
    "Z_l_3_20 = R_l_3_20 + 1j*X_l_3   # impedancia con resistencia a 20ºC\n",
    "Z_l_3_90 = R_l_3_90 + 1j*X_l_3   # impedancia con resistencia a 90ºC\n",
    "\n",
    "print('Z_l_3_20 = {:2.3g} Ω'.format(Z_l_3_20))\n",
    "print('Z_l_3_90 = {:2.3g} Ω'.format(Z_l_3_90))"
   ]
  },
  {
   "cell_type": "markdown",
   "metadata": {},
   "source": [
    "<img src='tabla_c.png' width=600 />"
   ]
  },
  {
   "cell_type": "markdown",
   "metadata": {},
   "source": [
    "### Cortocircuito en el punto A"
   ]
  },
  {
   "cell_type": "code",
   "execution_count": 22,
   "metadata": {
    "collapsed": false
   },
   "outputs": [
    {
     "name": "stdout",
     "output_type": "stream",
     "text": [
      "Icc máx en A = 30.05 kA\n",
      "Icc min en A = 22.47 kA\n"
     ]
    }
   ],
   "source": [
    "U_n = 380.0\n",
    "\n",
    "C_max = 1.1\n",
    "I_cc_3ph = C_max*U_n/(np.sqrt(3)*(Z_trafo))\n",
    "Ippk_a_max = I_cc_3ph\n",
    "\n",
    "C_min = 0.95\n",
    "I_cc_3ph = C_min*U_n/(np.sqrt(3)*(Z_trafo))\n",
    "Ippk_a_min = I_cc_3ph*np.sqrt(3)/2.0\n",
    "\n",
    "print('Icc máx en A = {:2.2f} kA'.format(np.abs(Ippk_a_max)/1000.0))\n",
    "print('Icc min en A = {:2.2f} kA'.format(np.abs(Ippk_a_min)/1000.0))"
   ]
  },
  {
   "cell_type": "markdown",
   "metadata": {},
   "source": [
    "### Cortocircuito en el punto B"
   ]
  },
  {
   "cell_type": "code",
   "execution_count": 11,
   "metadata": {
    "collapsed": false
   },
   "outputs": [
    {
     "ename": "NameError",
     "evalue": "name 'np' is not defined",
     "output_type": "error",
     "traceback": [
      "\u001b[0;31m---------------------------------------------------------------------------\u001b[0m",
      "\u001b[0;31mNameError\u001b[0m                                 Traceback (most recent call last)",
      "\u001b[0;32m<ipython-input-11-085c006ec02b>\u001b[0m in \u001b[0;36m<module>\u001b[0;34m()\u001b[0m\n\u001b[1;32m      1\u001b[0m \u001b[0mC\u001b[0m \u001b[0;34m=\u001b[0m \u001b[0;36m1.1\u001b[0m\u001b[0;34m\u001b[0m\u001b[0m\n\u001b[0;32m----> 2\u001b[0;31m \u001b[0mI_cc_3ph\u001b[0m \u001b[0;34m=\u001b[0m \u001b[0mC\u001b[0m\u001b[0;34m*\u001b[0m\u001b[0mU_n\u001b[0m\u001b[0;34m/\u001b[0m\u001b[0;34m(\u001b[0m\u001b[0mnp\u001b[0m\u001b[0;34m.\u001b[0m\u001b[0msqrt\u001b[0m\u001b[0;34m(\u001b[0m\u001b[0;36m3\u001b[0m\u001b[0;34m)\u001b[0m\u001b[0;34m*\u001b[0m\u001b[0;34m(\u001b[0m\u001b[0mZ_trafo\u001b[0m\u001b[0;34m+\u001b[0m\u001b[0mZ_l_1_20\u001b[0m\u001b[0;34m)\u001b[0m\u001b[0;34m)\u001b[0m\u001b[0;34m\u001b[0m\u001b[0m\n\u001b[0m\u001b[1;32m      3\u001b[0m \u001b[0mIppk_b_max\u001b[0m \u001b[0;34m=\u001b[0m \u001b[0mI_cc_3ph\u001b[0m\u001b[0;34m\u001b[0m\u001b[0m\n\u001b[1;32m      4\u001b[0m \u001b[0;34m\u001b[0m\u001b[0m\n\u001b[1;32m      5\u001b[0m \u001b[0mC\u001b[0m \u001b[0;34m=\u001b[0m \u001b[0;36m0.95\u001b[0m\u001b[0;34m\u001b[0m\u001b[0m\n",
      "\u001b[0;31mNameError\u001b[0m: name 'np' is not defined"
     ]
    }
   ],
   "source": [
    "C = 1.1\n",
    "I_cc_3ph = C*U_n/(np.sqrt(3)*(Z_trafo+Z_l_1_20))\n",
    "Ippk_b_max = I_cc_3ph\n",
    "\n",
    "C = 0.95\n",
    "I_cc_3ph = C*U_n/(np.sqrt(3)*(Z_trafo+Z_l_1_90))\n",
    "Ippk_b_min = I_cc_3ph*np.sqrt(3)/2.0\n",
    "\n",
    "print('Icc máx en B = {:2.2f} kA'.format(np.abs(Ippk_b_max)/1000.0))\n",
    "print('Icc min en B = {:2.2f} kA'.format(np.abs(Ippk_b_min)/1000.0))"
   ]
  },
  {
   "cell_type": "markdown",
   "metadata": {},
   "source": [
    "### Cortocircuito en el punto C"
   ]
  },
  {
   "cell_type": "code",
   "execution_count": 138,
   "metadata": {
    "collapsed": false
   },
   "outputs": [
    {
     "name": "stdout",
     "output_type": "stream",
     "text": [
      "Icc máx en C = 3.93 kA\n",
      "Icc min en C = 2.36 kA\n"
     ]
    }
   ],
   "source": [
    "C = 1.1\n",
    "I_cc_3ph = C*U_n/(np.sqrt(3)*(Z_trafo+Z_l_1_20+Z_l_2_20))\n",
    "Ippk_c_max = I_cc_3ph\n",
    "\n",
    "C = 0.95\n",
    "I_cc_3ph = C*U_n/(np.sqrt(3)*(Z_trafo+Z_l_1_90+Z_l_2_90))\n",
    "Ippk_c_min = I_cc_3ph*np.sqrt(3)/2.0\n",
    "\n",
    "print('Icc máx en C = {:2.2f} kA'.format(np.abs(Ippk_c_max)/1000.0))\n",
    "print('Icc min en C = {:2.2f} kA'.format(np.abs(Ippk_c_min)/1000.0))"
   ]
  },
  {
   "cell_type": "markdown",
   "metadata": {},
   "source": [
    "### Cortocircuito en el punto D"
   ]
  },
  {
   "cell_type": "code",
   "execution_count": 139,
   "metadata": {
    "collapsed": false
   },
   "outputs": [
    {
     "name": "stdout",
     "output_type": "stream",
     "text": [
      "Icc máx en D = 2.87 kA\n",
      "Icc min en D = 1.71 kA\n"
     ]
    }
   ],
   "source": [
    "C = 1.1\n",
    "I_cc_3ph = C*U_n/(np.sqrt(3)*(Z_trafo+Z_l_1_20+Z_l_2_20+Z_l_3_20))\n",
    "Ippk_d_max = I_cc_3ph\n",
    "\n",
    "C = 0.95\n",
    "I_cc_3ph = C*U_n/(np.sqrt(3)*(Z_trafo+Z_l_1_90+Z_l_2_90+Z_l_3_90))  # corto trifásico\n",
    "Ippk_d_min = I_cc_3ph*np.sqrt(3)/2.0                                # corto bifásico \n",
    "# Nota: en este problema el corto monofásico se considera como el mínimo\n",
    "\n",
    "print('Icc máx en D = {:2.2f} kA'.format(np.abs(Ippk_d_max)/1000.0))\n",
    "print('Icc min en D = {:2.2f} kA'.format(np.abs(Ippk_d_min)/1000.0))"
   ]
  },
  {
   "cell_type": "markdown",
   "metadata": {},
   "source": [
    "## Cálculo con $\\sf S''_k$ = 500 MVA "
   ]
  },
  {
   "cell_type": "code",
   "execution_count": 140,
   "metadata": {
    "collapsed": false
   },
   "outputs": [
    {
     "name": "stdout",
     "output_type": "stream",
     "text": [
      "Z_red = 0+0.000318j Ω\n"
     ]
    }
   ],
   "source": [
    "Sppk  = 500.0e6  #  Potencia de cortocircuito considerando sobretensión U = C*U_n\n",
    "U_n_1 = 20.0e3   #  Tensión nominal del lado de MT (primario del trafo)\n",
    "\n",
    "Ippk = Sppk/(np.sqrt(3.0)*U_n_1) #  Corriente de cortocircuito considerando sobretensión U = C*U_n\n",
    "C = 1.1\n",
    "Z_red_mt = C*U/(np.sqrt(3)*Ippk) # Impedancia equivalente si no se considera sobretensión\n",
    "\n",
    "r_t = 20.0/0.38  # relación de transformación              \n",
    "Z_red_bt_m = Z_red_mt*(1/r_t**2) # módulo de la impedancia red de lado de baja tensión \n",
    "Z_red = 1j*Z_red_bt_m\n",
    "\n",
    "print('Z_red = {:2.3g} Ω'.format(Z_red))"
   ]
  },
  {
   "cell_type": "markdown",
   "metadata": {},
   "source": [
    "### Cortocircuito en el punto A"
   ]
  },
  {
   "cell_type": "code",
   "execution_count": 141,
   "metadata": {
    "collapsed": false
   },
   "outputs": [
    {
     "name": "stdout",
     "output_type": "stream",
     "text": [
      "Icc máx en A (con red)= 31.96 kA\n",
      "Icc min en A (con red)= 23.91 kA\n"
     ]
    }
   ],
   "source": [
    "C = 1.1\n",
    "I_cc_3ph = C*U_n/(np.sqrt(3)*(Z_red+Z_trafo))\n",
    "Ippk_a_max_red = I_cc_3ph\n",
    "\n",
    "C = 0.95\n",
    "I_cc_3ph = C*U_n/(np.sqrt(3)*(Z_red+Z_trafo))  # corto trifásico\n",
    "Ippk_a_min_red = I_cc_3ph*np.sqrt(3)/2.0                # corto bifásico \n",
    "# Nota: en este problema el corto monofásico se considera como el mínimo\n",
    "\n",
    "print('Icc máx en A (con red)= {:2.2f} kA'.format(np.abs(Ippk_a_max_red)/1000.0))\n",
    "print('Icc min en A (con red)= {:2.2f} kA'.format(np.abs(Ippk_a_min_red)/1000.0))"
   ]
  },
  {
   "cell_type": "code",
   "execution_count": 142,
   "metadata": {
    "collapsed": false
   },
   "outputs": [
    {
     "name": "stdout",
     "output_type": "stream",
     "text": [
      "Icc máx en B (con red)= 28.50 kA\n",
      "Icc min en B (con red)= 21.12 kA\n"
     ]
    }
   ],
   "source": [
    "C = 1.1\n",
    "I_cc_3ph = C*U_n/(np.sqrt(3)*(Z_red+Z_trafo+Z_l_1_20))\n",
    "Ippk_b_max_red = I_cc_3ph\n",
    "\n",
    "C = 0.95\n",
    "I_cc_3ph = C*U_n/(np.sqrt(3)*(Z_red+Z_trafo+Z_l_1_90))  # corto trifásico\n",
    "Ippk_b_min_red = I_cc_3ph*np.sqrt(3)/2.0                # corto bifásico \n",
    "# Nota: en este problema el corto monofásico se considera como el mínimo\n",
    "\n",
    "print('Icc máx en B (con red)= {:2.2f} kA'.format(np.abs(Ippk_b_max_red)/1000.0))\n",
    "print('Icc min en B (con red)= {:2.2f} kA'.format(np.abs(Ippk_b_min_red)/1000.0))\n"
   ]
  },
  {
   "cell_type": "code",
   "execution_count": 143,
   "metadata": {
    "collapsed": false
   },
   "outputs": [
    {
     "name": "stdout",
     "output_type": "stream",
     "text": [
      "Icc máx en C (con red)= 3.93 kA\n",
      "Icc min en C (con red)= 2.36 kA\n"
     ]
    }
   ],
   "source": [
    "C = 1.1\n",
    "I_cc_3ph = C*U_n/(np.sqrt(3)*(Z_red+Z_trafo+Z_l_1_20+Z_l_2_20))\n",
    "Ippk_c_max_red = I_cc_3ph\n",
    "\n",
    "C = 0.95\n",
    "I_cc_3ph = C*U_n/(np.sqrt(3)*(Z_red+Z_trafo+Z_l_1_90+Z_l_2_90))  # corto trifásico\n",
    "Ippk_c_min_red = I_cc_3ph*np.sqrt(3)/2.0                                # corto bifásico \n",
    "# Nota: en este problema el corto monofásico se considera como el mínimo\n",
    "\n",
    "print('Icc máx en C (con red)= {:2.2f} kA'.format(np.abs(Ippk_c_max_red)/1000.0))\n",
    "print('Icc min en C (con red)= {:2.2f} kA'.format(np.abs(Ippk_c_min_red)/1000.0))\n"
   ]
  },
  {
   "cell_type": "code",
   "execution_count": 144,
   "metadata": {
    "collapsed": false
   },
   "outputs": [
    {
     "name": "stdout",
     "output_type": "stream",
     "text": [
      "Icc máx en D (con red)= 2.87 kA\n",
      "Icc min en D (con red)= 1.70 kA\n"
     ]
    }
   ],
   "source": [
    "C = 1.1\n",
    "I_cc_3ph = C*U_n/(np.sqrt(3)*(Z_red+Z_trafo+Z_l_1_20+Z_l_2_20+Z_l_3_20))\n",
    "Ippk_d_max_red = I_cc_3ph\n",
    "\n",
    "C = 0.95\n",
    "I_cc_3ph = C*U_n/(np.sqrt(3)*(Z_red+Z_trafo+Z_l_1_90+Z_l_2_90+Z_l_3_90))  # corto trifásico\n",
    "Ippk_d_min_red = I_cc_3ph*np.sqrt(3)/2.0                                # corto bifásico \n",
    "# Nota: en este problema el corto monofásico se considera como el mínimo\n",
    "\n",
    "print('Icc máx en D (con red)= {:2.2f} kA'.format(np.abs(Ippk_d_max_red)/1000.0))\n",
    "print('Icc min en D (con red)= {:2.2f} kA'.format(np.abs(Ippk_d_min_red)/1000.0))"
   ]
  },
  {
   "cell_type": "code",
   "execution_count": 144,
   "metadata": {
    "collapsed": false
   },
   "outputs": [],
   "source": []
  }
 ],
 "metadata": {
  "anaconda-cloud": {},
  "kernelspec": {
   "display_name": "Python [default]",
   "language": "python",
   "name": "python3"
  },
  "language_info": {
   "codemirror_mode": {
    "name": "ipython",
    "version": 3
   },
   "file_extension": ".py",
   "mimetype": "text/x-python",
   "name": "python",
   "nbconvert_exporter": "python",
   "pygments_lexer": "ipython3",
   "version": "3.5.2"
  }
 },
 "nbformat": 4,
 "nbformat_minor": 0
}
