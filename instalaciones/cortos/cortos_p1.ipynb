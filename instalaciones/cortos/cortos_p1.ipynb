{
 "metadata": {
  "name": "",
  "signature": "sha256:65fe0a0d5bd340b4eb195ae3e072c2699e8d79f1e8addf17e36eda5b70a27de5"
 },
 "nbformat": 3,
 "nbformat_minor": 0,
 "worksheets": [
  {
   "cells": [
    {
     "cell_type": "heading",
     "level": 1,
     "metadata": {},
     "source": [
      "C\u00e1lculo de corrientes de cortocircuito"
     ]
    },
    {
     "cell_type": "heading",
     "level": 2,
     "metadata": {},
     "source": [
      "Enunciado"
     ]
    },
    {
     "cell_type": "markdown",
     "metadata": {},
     "source": [
      "En la instalaci\u00f3n de la figura determinar las intensidades de cortocircuito m\u00e1ximas y m\u00edniminas para seleccionar los equipos de protecci\u00f3n frente a cortocircuitos. Considerando:\n",
      "1. Red de potencia infinita, $\\sf S''_k = \\infty$\n",
      "2. Red de potencia $\\sf S''_k = 500MVA$\n",
      "\n",
      "\n",
      "\n",
      "<img src='problema_4cortos.svg' width=400 \\>"
     ]
    },
    {
     "cell_type": "code",
     "collapsed": false,
     "input": [
      "import numpy as np  # m\u00f3dulo para realizar c\u00e1lculos con vectores y complejos"
     ],
     "language": "python",
     "metadata": {},
     "outputs": [],
     "prompt_number": 126
    },
    {
     "cell_type": "heading",
     "level": 3,
     "metadata": {},
     "source": [
      "Datos"
     ]
    },
    {
     "cell_type": "heading",
     "level": 4,
     "metadata": {},
     "source": [
      "Transformador"
     ]
    },
    {
     "cell_type": "code",
     "collapsed": false,
     "input": [
      "S_t_n = 630.0e3\n",
      "U_t_1 = 20.0e3\n",
      "U_t_2 = 0.38e3\n",
      "epsilon_rcc = 0.01\n",
      "epsilon_xcc = 0.03"
     ],
     "language": "python",
     "metadata": {},
     "outputs": [],
     "prompt_number": 127
    },
    {
     "cell_type": "heading",
     "level": 4,
     "metadata": {},
     "source": [
      "L\u00ednea L1"
     ]
    },
    {
     "cell_type": "code",
     "collapsed": false,
     "input": [
      "long_l1 = 10.0    # m\n",
      "s_l1    = 120.0*2 # mm2\n",
      "X_1_km  = 0.07    # ohm/km "
     ],
     "language": "python",
     "metadata": {},
     "outputs": [],
     "prompt_number": 128
    },
    {
     "cell_type": "heading",
     "level": 4,
     "metadata": {},
     "source": [
      "L\u00ednea L2"
     ]
    },
    {
     "cell_type": "code",
     "collapsed": false,
     "input": [
      "long_l2 = 150.0  # m\n",
      "s_l2    = 50.0   # mm2\n",
      "X_2_km  = 0.08   # ohm/km "
     ],
     "language": "python",
     "metadata": {},
     "outputs": [],
     "prompt_number": 129
    },
    {
     "cell_type": "heading",
     "level": 4,
     "metadata": {},
     "source": [
      "L\u00ednea L3"
     ]
    },
    {
     "cell_type": "code",
     "collapsed": false,
     "input": [
      "long_l3 = 20.0  # m\n",
      "s_l3    = 16    # mm2\n",
      "X_3_km  = 0.08  # ohm/km "
     ],
     "language": "python",
     "metadata": {},
     "outputs": [],
     "prompt_number": 130
    },
    {
     "cell_type": "heading",
     "level": 4,
     "metadata": {},
     "source": [
      "Conductores de cobre"
     ]
    },
    {
     "cell_type": "code",
     "collapsed": false,
     "input": [
      "rho_cu_20 = 1.0/54"
     ],
     "language": "python",
     "metadata": {},
     "outputs": [],
     "prompt_number": 131
    },
    {
     "cell_type": "heading",
     "level": 2,
     "metadata": {},
     "source": [
      "Soluci\u00f3n para red de potencia infinita"
     ]
    },
    {
     "cell_type": "heading",
     "level": 4,
     "metadata": {},
     "source": [
      "Transformador"
     ]
    },
    {
     "cell_type": "markdown",
     "metadata": {},
     "source": [
      "De los datos de potencia nominal y tensi\u00f3n nominal del transformador se pueden definir la potencia base y la tensi\u00f3n base a considerar para determinar la impenacia base del transformador.\n",
      "\n",
      "$$\\sf U_b = U_{T2n} = 380V$$\n",
      "\n",
      "$$\\sf S_b = S_{Tn} = 630kVA$$\n",
      "\n",
      "$$\\sf Z_b = \\frac{U_b^2}{S_b}$$"
     ]
    },
    {
     "cell_type": "markdown",
     "metadata": {},
     "source": [
      "Con la impedancia base y la impedancia en p.u. dada por el enunciado se puede calcular la impedancia en $\\sf \\Omega$:\n",
      "\n",
      "$$\\sf \\underline Z = R +j X = Z_b \\left(\\epsilon_{Rcc} + j \\epsilon_{Xcc}  \\right)  \\; (\\Omega)$$"
     ]
    },
    {
     "cell_type": "code",
     "collapsed": false,
     "input": [
      "U_2_n = U_t_2\n",
      "U_base = U_2_n\n",
      "S_base = S_t_n\n",
      "Z_base= U_base**2/S_base\n",
      "Z_trafo = Z_base*(epsilon_rcc+1j*epsilon_xcc)\n",
      "Z_trafo"
     ],
     "language": "python",
     "metadata": {},
     "outputs": [
      {
       "metadata": {},
       "output_type": "pyout",
       "prompt_number": 132,
       "text": [
        "(0.0022920634920634924+0.006876190476190477j)"
       ]
      }
     ],
     "prompt_number": 132
    },
    {
     "cell_type": "heading",
     "level": 4,
     "metadata": {},
     "source": [
      "L\u00ednea L1"
     ]
    },
    {
     "cell_type": "code",
     "collapsed": false,
     "input": [
      "R_l_1_20  = rho_cu_20*long_l1/s_l1  # resistencia a 20\u00baC\n",
      "alpha = 0.004                       # coef de temperatura\n",
      "DT = 90.0-20.0                      # variaci\u00f3n de la temperatura en \u00baC\n",
      "R_l_1_90  = R_l_1_20*(1.0+alpha*DT) # resistencia a 90\u00baC\n",
      "\n",
      "X_l_1 = X_1_km/1000.0*long_l1       # reactancia\n",
      "\n",
      "Z_l_1_20 = R_l_1_20 + 1j*X_l_1   # impedancia con resistencia a 20\u00baC\n",
      "Z_l_1_90 = R_l_1_90 + 1j*X_l_1   # impedancia con resistencia a 90\u00baC\n",
      "\n",
      "print('Z_l_1_20 = {:2.3g} \u03a9'.format(Z_l_1_20))\n",
      "print('Z_l_1_90 = {:2.3g} \u03a9'.format(Z_l_1_90))"
     ],
     "language": "python",
     "metadata": {},
     "outputs": [
      {
       "output_type": "stream",
       "stream": "stdout",
       "text": [
        "Z_l_1_20 = 0.000772+0.0007j \u03a9\n",
        "Z_l_1_90 = 0.000988+0.0007j \u03a9\n"
       ]
      }
     ],
     "prompt_number": 133
    },
    {
     "cell_type": "heading",
     "level": 4,
     "metadata": {},
     "source": [
      "L\u00ednea L2"
     ]
    },
    {
     "cell_type": "code",
     "collapsed": false,
     "input": [
      "R_l_2_20  = rho_cu_20*long_l2/s_l2  # resistencia a 20\u00baC\n",
      "alpha = 0.004                       # coef de temperatura\n",
      "DT = 90.0-20.0                      # variaci\u00f3n de la temperatura en \u00baC\n",
      "R_l_2_90  = R_l_2_20*(1.0+alpha*DT) # resistencia a 90\u00baC\n",
      "\n",
      "X_l_2 = X_1_km/1000.0*long_l2       # reactancia\n",
      "\n",
      "Z_l_2_20 = R_l_2_20 + 1j*X_l_2   # impedancia con resistencia a 20\u00baC\n",
      "Z_l_2_90 = R_l_2_90 + 1j*X_l_2   # impedancia con resistencia a 90\u00baC\n",
      "\n",
      "print('Z_l_2_20 = {:2.3g} \u03a9'.format(Z_l_2_20))\n",
      "print('Z_l_2_90 = {:2.3g} \u03a9'.format(Z_l_2_90))"
     ],
     "language": "python",
     "metadata": {},
     "outputs": [
      {
       "output_type": "stream",
       "stream": "stdout",
       "text": [
        "Z_l_2_20 = 0.0556+0.0105j \u03a9\n",
        "Z_l_2_90 = 0.0711+0.0105j \u03a9\n"
       ]
      }
     ],
     "prompt_number": 134
    },
    {
     "cell_type": "heading",
     "level": 4,
     "metadata": {},
     "source": [
      "L\u00ednea L3"
     ]
    },
    {
     "cell_type": "code",
     "collapsed": false,
     "input": [
      "R_l_3_20  = rho_cu_20*long_l3/s_l3  # resistencia a 20\u00baC\n",
      "alpha = 0.004                       # coef de temperatura\n",
      "DT = 90.0-20.0                      # variaci\u00f3n de la temperatura en \u00baC\n",
      "R_l_3_90  = R_l_3_20*(1.0+alpha*DT) # resistencia a 90\u00baC\n",
      "\n",
      "X_l_3 = X_1_km/1000.0*long_l3       # reactancia\n",
      "\n",
      "Z_l_3_20 = R_l_3_20 + 1j*X_l_3   # impedancia con resistencia a 20\u00baC\n",
      "Z_l_3_90 = R_l_3_90 + 1j*X_l_3   # impedancia con resistencia a 90\u00baC\n",
      "\n",
      "print('Z_l_3_20 = {:2.3g} \u03a9'.format(Z_l_3_20))\n",
      "print('Z_l_3_90 = {:2.3g} \u03a9'.format(Z_l_3_90))"
     ],
     "language": "python",
     "metadata": {},
     "outputs": [
      {
       "output_type": "stream",
       "stream": "stdout",
       "text": [
        "Z_l_3_20 = 0.0231+0.0014j \u03a9\n",
        "Z_l_3_90 = 0.0296+0.0014j \u03a9\n"
       ]
      }
     ],
     "prompt_number": 135
    },
    {
     "cell_type": "markdown",
     "metadata": {},
     "source": [
      "<img src='tabla_c.png' width=600 />"
     ]
    },
    {
     "cell_type": "heading",
     "level": 3,
     "metadata": {},
     "source": [
      "Cortocircuito en el punto A"
     ]
    },
    {
     "cell_type": "code",
     "collapsed": false,
     "input": [
      "U_n = 380.0\n",
      "\n",
      "C_max = 1.1\n",
      "I_cc_3ph = C_max*U_n/(np.sqrt(3)*(Z_trafo))\n",
      "Ippk_a_max = I_cc_3ph\n",
      "\n",
      "C_min = 0.95\n",
      "I_cc_3ph = C_min*U_n/(np.sqrt(3)*(Z_trafo))\n",
      "Ippk_a_min = I_cc_3ph*np.sqrt(3)/2.0\n",
      "\n",
      "print('Icc m\u00e1x en A = {:2.2f} kA'.format(np.abs(Ippk_a_max)/1000.0))\n",
      "print('Icc min en A = {:2.2f} kA'.format(np.abs(Ippk_a_min)/1000.0))"
     ],
     "language": "python",
     "metadata": {},
     "outputs": [
      {
       "output_type": "stream",
       "stream": "stdout",
       "text": [
        "Icc m\u00e1x en A = 33.30 kA\n",
        "Icc min en A = 24.90 kA\n"
       ]
      }
     ],
     "prompt_number": 136
    },
    {
     "cell_type": "heading",
     "level": 3,
     "metadata": {},
     "source": [
      "Cortocircuito en el punto B"
     ]
    },
    {
     "cell_type": "code",
     "collapsed": false,
     "input": [
      "C = 1.1\n",
      "I_cc_3ph = C*U_n/(np.sqrt(3)*(Z_trafo+Z_l_1_20))\n",
      "Ippk_b_max = I_cc_3ph\n",
      "\n",
      "C = 0.95\n",
      "I_cc_3ph = C*U_n/(np.sqrt(3)*(Z_trafo+Z_l_1_90))\n",
      "Ippk_b_min = I_cc_3ph*np.sqrt(3)/2.0\n",
      "\n",
      "print('Icc m\u00e1x en B = {:2.2f} kA'.format(np.abs(Ippk_b_max)/1000.0))\n",
      "print('Icc min en B = {:2.2f} kA'.format(np.abs(Ippk_b_min)/1000.0))"
     ],
     "language": "python",
     "metadata": {},
     "outputs": [
      {
       "output_type": "stream",
       "stream": "stdout",
       "text": [
        "Icc m\u00e1x en B = 29.53 kA\n",
        "Icc min en B = 21.86 kA\n"
       ]
      }
     ],
     "prompt_number": 137
    },
    {
     "cell_type": "heading",
     "level": 3,
     "metadata": {},
     "source": [
      "Cortocircuito en el punto C"
     ]
    },
    {
     "cell_type": "code",
     "collapsed": false,
     "input": [
      "C = 1.1\n",
      "I_cc_3ph = C*U_n/(np.sqrt(3)*(Z_trafo+Z_l_1_20+Z_l_2_20))\n",
      "Ippk_c_max = I_cc_3ph\n",
      "\n",
      "C = 0.95\n",
      "I_cc_3ph = C*U_n/(np.sqrt(3)*(Z_trafo+Z_l_1_90+Z_l_2_90))\n",
      "Ippk_c_min = I_cc_3ph*np.sqrt(3)/2.0\n",
      "\n",
      "print('Icc m\u00e1x en C = {:2.2f} kA'.format(np.abs(Ippk_c_max)/1000.0))\n",
      "print('Icc min en C = {:2.2f} kA'.format(np.abs(Ippk_c_min)/1000.0))"
     ],
     "language": "python",
     "metadata": {},
     "outputs": [
      {
       "output_type": "stream",
       "stream": "stdout",
       "text": [
        "Icc m\u00e1x en C = 3.93 kA\n",
        "Icc min en C = 2.36 kA\n"
       ]
      }
     ],
     "prompt_number": 138
    },
    {
     "cell_type": "heading",
     "level": 3,
     "metadata": {},
     "source": [
      "Cortocircuito en el punto D"
     ]
    },
    {
     "cell_type": "code",
     "collapsed": false,
     "input": [
      "C = 1.1\n",
      "I_cc_3ph = C*U_n/(np.sqrt(3)*(Z_trafo+Z_l_1_20+Z_l_2_20+Z_l_3_20))\n",
      "Ippk_d_max = I_cc_3ph\n",
      "\n",
      "C = 0.95\n",
      "I_cc_3ph = C*U_n/(np.sqrt(3)*(Z_trafo+Z_l_1_90+Z_l_2_90+Z_l_3_90))  # corto trif\u00e1sico\n",
      "Ippk_d_min = I_cc_3ph*np.sqrt(3)/2.0                                # corto bif\u00e1sico \n",
      "# Nota: en este problema el corto monof\u00e1sico se considera como el m\u00ednimo\n",
      "\n",
      "print('Icc m\u00e1x en D = {:2.2f} kA'.format(np.abs(Ippk_d_max)/1000.0))\n",
      "print('Icc min en D = {:2.2f} kA'.format(np.abs(Ippk_d_min)/1000.0))"
     ],
     "language": "python",
     "metadata": {},
     "outputs": [
      {
       "output_type": "stream",
       "stream": "stdout",
       "text": [
        "Icc m\u00e1x en D = 2.87 kA\n",
        "Icc min en D = 1.71 kA\n"
       ]
      }
     ],
     "prompt_number": 139
    },
    {
     "cell_type": "heading",
     "level": 2,
     "metadata": {},
     "source": [
      "C\u00e1lculo con $\\sf S''_k$ = 500 MVA "
     ]
    },
    {
     "cell_type": "code",
     "collapsed": false,
     "input": [
      "Sppk  = 500.0e6  #  Potencia de cortocircuito considerando sobretensi\u00f3n U = C*U_n\n",
      "U_n_1 = 20.0e3   #  Tensi\u00f3n nominal del lado de MT (primario del trafo)\n",
      "\n",
      "Ippk = Sppk/(np.sqrt(3.0)*U_n_1) #  Corriente de cortocircuito considerando sobretensi\u00f3n U = C*U_n\n",
      "C = 1.1\n",
      "Z_red_mt = C*U/(np.sqrt(3)*Ippk) # Impedancia equivalente si no se considera sobretensi\u00f3n\n",
      "\n",
      "r_t = 20.0/0.38  # relaci\u00f3n de transformaci\u00f3n              \n",
      "Z_red_bt_m = Z_red_mt*(1/r_t**2) # m\u00f3dulo de la impedancia red de lado de baja tensi\u00f3n \n",
      "Z_red = 1j*Z_red_bt_m\n",
      "\n",
      "print('Z_red = {:2.3g} \u03a9'.format(Z_red))"
     ],
     "language": "python",
     "metadata": {},
     "outputs": [
      {
       "output_type": "stream",
       "stream": "stdout",
       "text": [
        "Z_red = 0+0.000318j \u03a9\n"
       ]
      }
     ],
     "prompt_number": 140
    },
    {
     "cell_type": "heading",
     "level": 3,
     "metadata": {},
     "source": [
      "Cortocircuito en el punto A"
     ]
    },
    {
     "cell_type": "code",
     "collapsed": false,
     "input": [
      "C = 1.1\n",
      "I_cc_3ph = C*U_n/(np.sqrt(3)*(Z_red+Z_trafo))\n",
      "Ippk_a_max_red = I_cc_3ph\n",
      "\n",
      "C = 0.95\n",
      "I_cc_3ph = C*U_n/(np.sqrt(3)*(Z_red+Z_trafo))  # corto trif\u00e1sico\n",
      "Ippk_a_min_red = I_cc_3ph*np.sqrt(3)/2.0                # corto bif\u00e1sico \n",
      "# Nota: en este problema el corto monof\u00e1sico se considera como el m\u00ednimo\n",
      "\n",
      "print('Icc m\u00e1x en A (con red)= {:2.2f} kA'.format(np.abs(Ippk_a_max_red)/1000.0))\n",
      "print('Icc min en A (con red)= {:2.2f} kA'.format(np.abs(Ippk_a_min_red)/1000.0))"
     ],
     "language": "python",
     "metadata": {},
     "outputs": [
      {
       "output_type": "stream",
       "stream": "stdout",
       "text": [
        "Icc m\u00e1x en A (con red)= 31.96 kA\n",
        "Icc min en A (con red)= 23.91 kA\n"
       ]
      }
     ],
     "prompt_number": 141
    },
    {
     "cell_type": "code",
     "collapsed": false,
     "input": [
      "C = 1.1\n",
      "I_cc_3ph = C*U_n/(np.sqrt(3)*(Z_red+Z_trafo+Z_l_1_20))\n",
      "Ippk_b_max_red = I_cc_3ph\n",
      "\n",
      "C = 0.95\n",
      "I_cc_3ph = C*U_n/(np.sqrt(3)*(Z_red+Z_trafo+Z_l_1_90))  # corto trif\u00e1sico\n",
      "Ippk_b_min_red = I_cc_3ph*np.sqrt(3)/2.0                # corto bif\u00e1sico \n",
      "# Nota: en este problema el corto monof\u00e1sico se considera como el m\u00ednimo\n",
      "\n",
      "print('Icc m\u00e1x en B (con red)= {:2.2f} kA'.format(np.abs(Ippk_b_max_red)/1000.0))\n",
      "print('Icc min en B (con red)= {:2.2f} kA'.format(np.abs(Ippk_b_min_red)/1000.0))\n"
     ],
     "language": "python",
     "metadata": {},
     "outputs": [
      {
       "output_type": "stream",
       "stream": "stdout",
       "text": [
        "Icc m\u00e1x en B (con red)= 28.50 kA\n",
        "Icc min en B (con red)= 21.12 kA\n"
       ]
      }
     ],
     "prompt_number": 142
    },
    {
     "cell_type": "code",
     "collapsed": false,
     "input": [
      "C = 1.1\n",
      "I_cc_3ph = C*U_n/(np.sqrt(3)*(Z_red+Z_trafo+Z_l_1_20+Z_l_2_20))\n",
      "Ippk_c_max_red = I_cc_3ph\n",
      "\n",
      "C = 0.95\n",
      "I_cc_3ph = C*U_n/(np.sqrt(3)*(Z_red+Z_trafo+Z_l_1_90+Z_l_2_90))  # corto trif\u00e1sico\n",
      "Ippk_c_min_red = I_cc_3ph*np.sqrt(3)/2.0                                # corto bif\u00e1sico \n",
      "# Nota: en este problema el corto monof\u00e1sico se considera como el m\u00ednimo\n",
      "\n",
      "print('Icc m\u00e1x en C (con red)= {:2.2f} kA'.format(np.abs(Ippk_c_max_red)/1000.0))\n",
      "print('Icc min en C (con red)= {:2.2f} kA'.format(np.abs(Ippk_c_min_red)/1000.0))\n"
     ],
     "language": "python",
     "metadata": {},
     "outputs": [
      {
       "output_type": "stream",
       "stream": "stdout",
       "text": [
        "Icc m\u00e1x en C (con red)= 3.93 kA\n",
        "Icc min en C (con red)= 2.36 kA\n"
       ]
      }
     ],
     "prompt_number": 143
    },
    {
     "cell_type": "code",
     "collapsed": false,
     "input": [
      "C = 1.1\n",
      "I_cc_3ph = C*U_n/(np.sqrt(3)*(Z_red+Z_trafo+Z_l_1_20+Z_l_2_20+Z_l_3_20))\n",
      "Ippk_d_max_red = I_cc_3ph\n",
      "\n",
      "C = 0.95\n",
      "I_cc_3ph = C*U_n/(np.sqrt(3)*(Z_red+Z_trafo+Z_l_1_90+Z_l_2_90+Z_l_3_90))  # corto trif\u00e1sico\n",
      "Ippk_d_min_red = I_cc_3ph*np.sqrt(3)/2.0                                # corto bif\u00e1sico \n",
      "# Nota: en este problema el corto monof\u00e1sico se considera como el m\u00ednimo\n",
      "\n",
      "print('Icc m\u00e1x en D (con red)= {:2.2f} kA'.format(np.abs(Ippk_d_max_red)/1000.0))\n",
      "print('Icc min en D (con red)= {:2.2f} kA'.format(np.abs(Ippk_d_min_red)/1000.0))"
     ],
     "language": "python",
     "metadata": {},
     "outputs": [
      {
       "output_type": "stream",
       "stream": "stdout",
       "text": [
        "Icc m\u00e1x en D (con red)= 2.87 kA\n",
        "Icc min en D (con red)= 1.70 kA\n"
       ]
      }
     ],
     "prompt_number": 144
    },
    {
     "cell_type": "code",
     "collapsed": false,
     "input": [],
     "language": "python",
     "metadata": {},
     "outputs": [],
     "prompt_number": 144
    }
   ],
   "metadata": {}
  }
 ]
}