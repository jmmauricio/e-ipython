{
 "cells": [
  {
   "cell_type": "code",
   "execution_count": 5,
   "metadata": {},
   "outputs": [],
   "source": [
    "import numpy as np"
   ]
  },
  {
   "cell_type": "code",
   "execution_count": 6,
   "metadata": {},
   "outputs": [],
   "source": [
    "S_red = 2000.0e6\n",
    "\n"
   ]
  },
  {
   "cell_type": "code",
   "execution_count": 7,
   "metadata": {},
   "outputs": [],
   "source": [
    "S_t_n = 20.0e6\n",
    "\n",
    "U_t_1 = 66.0e3\n",
    "U_t_2 = 20.0e3\n",
    "\n",
    "epsilon_xcc = 0.1"
   ]
  },
  {
   "cell_type": "code",
   "execution_count": 8,
   "metadata": {},
   "outputs": [],
   "source": [
    "R_km = 0.15\n",
    "X_km = 0.15\n",
    "Z_km = R_km + 1j*X_km\n"
   ]
  },
  {
   "cell_type": "markdown",
   "metadata": {},
   "source": [
    "a)"
   ]
  },
  {
   "cell_type": "code",
   "execution_count": 9,
   "metadata": {},
   "outputs": [
    {
     "name": "stdout",
     "output_type": "stream",
     "text": [
      "Potencia de corto en MT: 181.82 MVA\n"
     ]
    }
   ],
   "source": [
    "Z_red = 1j*U_t_2**2/S_red\n",
    "\n",
    "Z_t_b = U_t_2**2/S_t_n\n",
    "\n",
    "Z_trafo = Z_t_b*(1j*epsilon_xcc)\n",
    "\n",
    "I_cc_20kV = U_t_2/(np.sqrt(3)*(Z_trafo+Z_red))\n",
    "\n",
    "S_cc_20kV = np.sqrt(3)*U_t_2*np.abs(I_cc_20kV)\n",
    "\n",
    "print('Potencia de corto en MT: {:2.2f} MVA'.format(S_cc_20kV/1.0e6))"
   ]
  },
  {
   "cell_type": "markdown",
   "metadata": {},
   "source": [
    "b)"
   ]
  },
  {
   "cell_type": "code",
   "execution_count": 10,
   "metadata": {},
   "outputs": [
    {
     "name": "stdout",
     "output_type": "stream",
     "text": [
      "Corto en CT2: 5.107 kA\n"
     ]
    }
   ],
   "source": [
    "Z_linea = Z_km*0.2\n",
    "\n",
    "I_cc_ct2 = U_t_2/(np.sqrt(3)*(Z_trafo+Z_red+2*Z_linea))\n",
    "\n",
    "print('Corto en CT2: {:2.3f} kA'.format(np.abs(I_cc_ct2)/1.0e3))"
   ]
  },
  {
   "cell_type": "code",
   "execution_count": 11,
   "metadata": {},
   "outputs": [
    {
     "name": "stdout",
     "output_type": "stream",
     "text": [
      "Corto en CT2 lado BT referidoa MT: 0.273 kA\n",
      "Corto en CT2 lado BT: 13.66 kA\n"
     ]
    }
   ],
   "source": [
    "S_t_ct = 400.0e3\n",
    "Z_t_b = U_t_2**2/S_t_ct\n",
    "\n",
    "Z_t_ct = Z_t_b*(1j*0.04)\n",
    "\n",
    "I_cc_ct2_bt_mt = U_t_2/(np.sqrt(3)*(Z_trafo+Z_red+2*Z_linea+Z_t_ct))\n",
    "I_cc_ct2_bt = I_cc_ct2_bt_mt*(20.0/0.4)\n",
    "\n",
    "print('Corto en CT2 lado BT referidoa MT: {:2.3f} kA'.format(np.abs(I_cc_ct2_bt_mt)/1.0e3))\n",
    "print('Corto en CT2 lado BT: {:2.2f} kA'.format(np.abs(I_cc_ct2_bt)/1.0e3))\n"
   ]
  },
  {
   "cell_type": "code",
   "execution_count": 12,
   "metadata": {},
   "outputs": [
    {
     "data": {
      "text/plain": [
       "40j"
      ]
     },
     "execution_count": 12,
     "metadata": {},
     "output_type": "execute_result"
    }
   ],
   "source": [
    "Z_t_ct\n"
   ]
  },
  {
   "cell_type": "code",
   "execution_count": 13,
   "metadata": {},
   "outputs": [
    {
     "name": "stdout",
     "output_type": "stream",
     "text": [
      "Corto en CT2 con seccionador cerrado: 10.215 kA\n"
     ]
    }
   ],
   "source": [
    "\n",
    "\n",
    "print('Corto en CT2 con seccionador cerrado: {:2.3f} kA'.format(np.abs(I_cc_ct2*2)/1.0e3))"
   ]
  },
  {
   "cell_type": "code",
   "execution_count": 14,
   "metadata": {},
   "outputs": [
    {
     "data": {
      "text/plain": [
       "40j"
      ]
     },
     "execution_count": 14,
     "metadata": {},
     "output_type": "execute_result"
    }
   ],
   "source": [
    "Z_t_ct"
   ]
  },
  {
   "cell_type": "code",
   "execution_count": 15,
   "metadata": {},
   "outputs": [
    {
     "data": {
      "text/plain": [
       "(0.03+0.03j)"
      ]
     },
     "execution_count": 15,
     "metadata": {},
     "output_type": "execute_result"
    }
   ],
   "source": [
    "Z_linea\n"
   ]
  },
  {
   "cell_type": "code",
   "execution_count": 16,
   "metadata": {},
   "outputs": [
    {
     "data": {
      "text/plain": [
       "2j"
      ]
     },
     "execution_count": 16,
     "metadata": {},
     "output_type": "execute_result"
    }
   ],
   "source": [
    "Z_trafo\n"
   ]
  },
  {
   "cell_type": "code",
   "execution_count": 17,
   "metadata": {},
   "outputs": [
    {
     "data": {
      "text/plain": [
       "0.2j"
      ]
     },
     "execution_count": 17,
     "metadata": {},
     "output_type": "execute_result"
    }
   ],
   "source": [
    "Z_red"
   ]
  },
  {
   "cell_type": "code",
   "execution_count": 18,
   "metadata": {},
   "outputs": [
    {
     "data": {
      "text/plain": [
       "40j"
      ]
     },
     "execution_count": 18,
     "metadata": {},
     "output_type": "execute_result"
    }
   ],
   "source": [
    "Z_t_ct"
   ]
  },
  {
   "cell_type": "code",
   "execution_count": 19,
   "metadata": {},
   "outputs": [
    {
     "data": {
      "text/plain": [
       "40j"
      ]
     },
     "execution_count": 19,
     "metadata": {},
     "output_type": "execute_result"
    }
   ],
   "source": [
    "Z_t_ct"
   ]
  },
  {
   "cell_type": "code",
   "execution_count": 20,
   "metadata": {},
   "outputs": [
    {
     "data": {
      "text/plain": [
       "13650.0"
      ]
     },
     "execution_count": 20,
     "metadata": {},
     "output_type": "execute_result"
    }
   ],
   "source": [
    "273.0*20/0.4"
   ]
  },
  {
   "cell_type": "code",
   "execution_count": null,
   "metadata": {},
   "outputs": [],
   "source": []
  },
  {
   "cell_type": "code",
   "execution_count": null,
   "metadata": {
    "collapsed": true
   },
   "outputs": [],
   "source": []
  },
  {
   "cell_type": "code",
   "execution_count": null,
   "metadata": {
    "collapsed": true
   },
   "outputs": [],
   "source": []
  }
 ],
 "metadata": {
  "kernelspec": {
   "display_name": "Python 3",
   "language": "python",
   "name": "python3"
  },
  "language_info": {
   "codemirror_mode": {
    "name": "ipython",
    "version": 3
   },
   "file_extension": ".py",
   "mimetype": "text/x-python",
   "name": "python",
   "nbconvert_exporter": "python",
   "pygments_lexer": "ipython3",
   "version": "3.6.2"
  }
 },
 "nbformat": 4,
 "nbformat_minor": 1
}
