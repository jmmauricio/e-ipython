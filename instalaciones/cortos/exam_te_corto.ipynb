{
 "metadata": {
  "name": "",
  "signature": "sha256:55ac0e93dbd6cb65658472bbf12c1e442330b50ed377cf31a9004f10c397e95e"
 },
 "nbformat": 3,
 "nbformat_minor": 0,
 "worksheets": [
  {
   "cells": [
    {
     "cell_type": "code",
     "collapsed": false,
     "input": [
      "import numpy as np"
     ],
     "language": "python",
     "metadata": {},
     "outputs": [],
     "prompt_number": 56
    },
    {
     "cell_type": "code",
     "collapsed": false,
     "input": [
      "S_red = 2000.0e6\n",
      "\n"
     ],
     "language": "python",
     "metadata": {},
     "outputs": [],
     "prompt_number": 57
    },
    {
     "cell_type": "code",
     "collapsed": false,
     "input": [
      "S_t_n = 20.0e6\n",
      "\n",
      "U_t_1 = 66.0e3\n",
      "U_t_2 = 20.0e3\n",
      "\n",
      "epsilon_xcc = 0.1"
     ],
     "language": "python",
     "metadata": {},
     "outputs": [],
     "prompt_number": 58
    },
    {
     "cell_type": "code",
     "collapsed": false,
     "input": [
      "R_km = 0.15\n",
      "X_km = 0.15\n",
      "Z_km = R_km + 1j*X_km\n"
     ],
     "language": "python",
     "metadata": {},
     "outputs": [],
     "prompt_number": 59
    },
    {
     "cell_type": "markdown",
     "metadata": {},
     "source": [
      "a)"
     ]
    },
    {
     "cell_type": "code",
     "collapsed": false,
     "input": [
      "Z_red = 1j*U_t_2**2/S_red\n",
      "\n",
      "Z_t_b = U_t_2**2/S_t_n\n",
      "\n",
      "Z_trafo = Z_t_b*(1j*epsilon_xcc)\n",
      "\n",
      "I_cc_20kV = U_t_2/(np.sqrt(3)*(Z_trafo+Z_red))\n",
      "\n",
      "S_cc_20kV = np.sqrt(3)*U_t_2*np.abs(I_cc_20kV)\n",
      "\n",
      "print('Potencia de corto en MT: {:2.2f} MVA'.format(S_cc_20kV/1.0e6))"
     ],
     "language": "python",
     "metadata": {},
     "outputs": [
      {
       "output_type": "stream",
       "stream": "stdout",
       "text": [
        "Potencia de corto en MT: 181.82 MVA\n"
       ]
      }
     ],
     "prompt_number": 60
    },
    {
     "cell_type": "markdown",
     "metadata": {},
     "source": [
      "b)"
     ]
    },
    {
     "cell_type": "code",
     "collapsed": false,
     "input": [
      "Z_linea = Z_km*0.2\n",
      "\n",
      "I_cc_ct2 = U_t_2/(np.sqrt(3)*(Z_trafo+Z_red+2*Z_linea))\n",
      "\n",
      "print('Corto en CT2: {:2.3f} kA'.format(np.abs(I_cc_ct2)/1.0e3))"
     ],
     "language": "python",
     "metadata": {},
     "outputs": [
      {
       "output_type": "stream",
       "stream": "stdout",
       "text": [
        "Corto en CT2: 5.107 kA\n"
       ]
      }
     ],
     "prompt_number": 61
    },
    {
     "cell_type": "code",
     "collapsed": false,
     "input": [
      "S_t_ct = 400.0e3\n",
      "Z_t_b = U_t_2**2/S_t_ct\n",
      "\n",
      "Z_t_ct = Z_t_b*(1j*0.04)\n",
      "\n",
      "I_cc_ct2_bt_mt = U_t_2/(np.sqrt(3)*(Z_trafo+Z_red+2*Z_linea+Z_t_ct))\n",
      "I_cc_ct2_bt = I_cc_ct2_bt_mt*(20.0/0.4)\n",
      "\n",
      "print('Corto en CT2 lado BT referidoa MT: {:2.3f} kA'.format(np.abs(I_cc_ct2_bt_mt)/1.0e3))\n",
      "print('Corto en CT2 lado BT: {:2.2f} kA'.format(np.abs(I_cc_ct2_bt)/1.0e3))\n"
     ],
     "language": "python",
     "metadata": {},
     "outputs": [
      {
       "output_type": "stream",
       "stream": "stdout",
       "text": [
        "Corto en CT2 lado BT referidoa MT: 0.273 kA\n",
        "Corto en CT2 lado BT: 13.66 kA\n"
       ]
      }
     ],
     "prompt_number": 74
    },
    {
     "cell_type": "code",
     "collapsed": false,
     "input": [
      "Z_t_ct\n"
     ],
     "language": "python",
     "metadata": {},
     "outputs": [
      {
       "metadata": {},
       "output_type": "pyout",
       "prompt_number": 63,
       "text": [
        "40j"
       ]
      }
     ],
     "prompt_number": 63
    },
    {
     "cell_type": "code",
     "collapsed": false,
     "input": [
      "\n",
      "\n",
      "print('Corto en CT2 con seccionador cerrado: {:2.3f} kA'.format(np.abs(I_cc_ct2*2)/1.0e3))"
     ],
     "language": "python",
     "metadata": {},
     "outputs": [
      {
       "output_type": "stream",
       "stream": "stdout",
       "text": [
        "Corto en CT2 con seccionador cerrado: 10.215 kA\n"
       ]
      }
     ],
     "prompt_number": 64
    },
    {
     "cell_type": "code",
     "collapsed": false,
     "input": [
      "Z_t_ct"
     ],
     "language": "python",
     "metadata": {},
     "outputs": [
      {
       "metadata": {},
       "output_type": "pyout",
       "prompt_number": 65,
       "text": [
        "40j"
       ]
      }
     ],
     "prompt_number": 65
    },
    {
     "cell_type": "code",
     "collapsed": false,
     "input": [
      "Z_linea\n"
     ],
     "language": "python",
     "metadata": {},
     "outputs": [
      {
       "metadata": {},
       "output_type": "pyout",
       "prompt_number": 66,
       "text": [
        "(0.03+0.03j)"
       ]
      }
     ],
     "prompt_number": 66
    },
    {
     "cell_type": "code",
     "collapsed": false,
     "input": [
      "Z_trafo\n"
     ],
     "language": "python",
     "metadata": {},
     "outputs": [
      {
       "metadata": {},
       "output_type": "pyout",
       "prompt_number": 67,
       "text": [
        "2j"
       ]
      }
     ],
     "prompt_number": 67
    },
    {
     "cell_type": "code",
     "collapsed": false,
     "input": [
      "Z_red"
     ],
     "language": "python",
     "metadata": {},
     "outputs": [
      {
       "metadata": {},
       "output_type": "pyout",
       "prompt_number": 68,
       "text": [
        "0.2j"
       ]
      }
     ],
     "prompt_number": 68
    },
    {
     "cell_type": "code",
     "collapsed": false,
     "input": [
      "Z_t_ct"
     ],
     "language": "python",
     "metadata": {},
     "outputs": [
      {
       "metadata": {},
       "output_type": "pyout",
       "prompt_number": 69,
       "text": [
        "40j"
       ]
      }
     ],
     "prompt_number": 69
    },
    {
     "cell_type": "code",
     "collapsed": false,
     "input": [
      "Z_t_ct"
     ],
     "language": "python",
     "metadata": {},
     "outputs": [
      {
       "metadata": {},
       "output_type": "pyout",
       "prompt_number": 70,
       "text": [
        "40j"
       ]
      }
     ],
     "prompt_number": 70
    },
    {
     "cell_type": "code",
     "collapsed": false,
     "input": [
      "273.0*20/0.4"
     ],
     "language": "python",
     "metadata": {},
     "outputs": [
      {
       "metadata": {},
       "output_type": "pyout",
       "prompt_number": 71,
       "text": [
        "13650.0"
       ]
      }
     ],
     "prompt_number": 71
    },
    {
     "cell_type": "code",
     "collapsed": false,
     "input": [],
     "language": "python",
     "metadata": {},
     "outputs": []
    }
   ],
   "metadata": {}
  }
 ]
}