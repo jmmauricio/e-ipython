{
 "metadata": {
  "name": "",
  "signature": "sha256:f3bee55821d206f978b613bd375feb7206a75a8f2eec6c84301e80307fd376fc"
 },
 "nbformat": 3,
 "nbformat_minor": 0,
 "worksheets": [
  {
   "cells": [
    {
     "cell_type": "heading",
     "level": 1,
     "metadata": {},
     "source": [
      "M\u00e1quina s\u00edncrona durante cortocircuitos"
     ]
    },
    {
     "cell_type": "markdown",
     "metadata": {},
     "source": [
      "<img src='sm_corto_unifilar.png' width= 400/>"
     ]
    },
    {
     "cell_type": "heading",
     "level": 3,
     "metadata": {},
     "source": [
      "Par\u00e1metros de la m\u00e1quina s\u00edncrona"
     ]
    },
    {
     "cell_type": "markdown",
     "metadata": {},
     "source": [
      "<img src='sm_corto_basic_data.png' width= 400/>\n",
      "\n",
      "<img src='sm_corto_emt_data.png' width= 700/>"
     ]
    },
    {
     "cell_type": "heading",
     "level": 3,
     "metadata": {},
     "source": [
      "Simulaci\u00f3n electromagn\u00e9tica"
     ]
    },
    {
     "cell_type": "markdown",
     "metadata": {},
     "source": [
      "<img src='sym_corto_emag.png' width= 800/>"
     ]
    },
    {
     "cell_type": "heading",
     "level": 3,
     "metadata": {},
     "source": [
      "Simulaci\u00f3n fasorial"
     ]
    },
    {
     "cell_type": "markdown",
     "metadata": {},
     "source": [
      "<img src='sym_corto_i_rms_abc.png' width= 800/>"
     ]
    },
    {
     "cell_type": "markdown",
     "metadata": {},
     "source": [
      "<img src='sym_corto_emag_fluxs_D_Q.png' width= 700/>\n",
      "<img src=\"imagenotfound.gif\" alt=\"Image not found\" onError=\"this.src='sym_corto_emag_fluxs_D_Q.png';\" />"
     ]
    },
    {
     "cell_type": "code",
     "collapsed": false,
     "input": [
      "import numpy as np\n",
      "x_d = 1.5\n",
      "x_q = 0.75\n",
      "\n",
      "xpd = 0.256\n",
      "\n",
      "xppd = 0.168\n",
      "xppq = 0.184\n",
      "\n",
      "S_b = 4.855 # MVA\n",
      "U_b = 10.5  # kV\n",
      "\n",
      "Z_b = U_b**2/S_b\n",
      "\n",
      "Z = Z_b*np.sqrt(x_d**2+x_q**2)\n",
      "Z2 = Z_b*np.sqrt(xppd**2+xppq**2)\n",
      "Z1 = Z_b*np.sqrt(xpd**2+xpd**2)\n",
      "\n",
      "I_cc = U_b/np.sqrt(3)/Z\n",
      "print(I_cc)\n",
      "\n",
      "I1cc =U_b/np.sqrt(3)/Z1\n",
      "print(I1cc)\n",
      "\n",
      "I2cc =U_b/np.sqrt(3)/Z2\n",
      "print(I2cc)"
     ],
     "language": "python",
     "metadata": {},
     "outputs": [
      {
       "output_type": "stream",
       "stream": "stdout",
       "text": [
        "0.159181664727\n",
        "0.737368099034\n",
        "1.07142913962\n"
       ]
      }
     ],
     "prompt_number": 18
    },
    {
     "cell_type": "code",
     "collapsed": false,
     "input": [
      "Z"
     ],
     "language": "python",
     "metadata": {},
     "outputs": [
      {
       "metadata": {},
       "output_type": "pyout",
       "prompt_number": 19,
       "text": [
        "38.083392562206768"
       ]
      }
     ],
     "prompt_number": 19
    },
    {
     "cell_type": "code",
     "collapsed": false,
     "input": [],
     "language": "python",
     "metadata": {},
     "outputs": [],
     "prompt_number": 19
    }
   ],
   "metadata": {}
  }
 ]
}