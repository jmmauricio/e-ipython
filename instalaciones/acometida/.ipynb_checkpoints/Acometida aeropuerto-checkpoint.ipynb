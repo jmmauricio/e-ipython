{
 "metadata": {
  "name": "",
  "signature": "sha256:0e6779e08a24d8fe7941be7132d6f793b1dea29d87e6756f14d0ca5d91f750ff"
 },
 "nbformat": 3,
 "nbformat_minor": 0,
 "worksheets": [
  {
   "cells": [
    {
     "cell_type": "markdown",
     "metadata": {},
     "source": [
      "# Problema de acometida"
     ]
    },
    {
     "cell_type": "markdown",
     "metadata": {},
     "source": [
      "<img src=\"acometida.png\">"
     ]
    },
    {
     "cell_type": "markdown",
     "metadata": {},
     "source": [
      "Se importan los modulos a utilizar:"
     ]
    },
    {
     "cell_type": "code",
     "collapsed": false,
     "input": [
      "import numpy as np\n",
      "import scipy.optimize\n",
      "import matplotlib.pyplot as plt"
     ],
     "language": "python",
     "metadata": {},
     "outputs": [],
     "prompt_number": 4
    },
    {
     "cell_type": "markdown",
     "metadata": {},
     "source": [
      "## Datos del sistema"
     ]
    },
    {
     "cell_type": "markdown",
     "metadata": {},
     "source": [
      "### Datos de la carga (aeropuerto)"
     ]
    },
    {
     "cell_type": "code",
     "collapsed": false,
     "input": [
      "S_2_m =  2.0e6                      # modulo de la potencia \n",
      "fp_2 = 0.8                          # factor de optencia\n",
      "P_2 = S_2_m*fp_2                    # potencia activa W\n",
      "Q_2 = S_2_m*np.sin(np.arccos(fp_2)) # potencia activa var"
     ],
     "language": "python",
     "metadata": {},
     "outputs": [],
     "prompt_number": 7
    },
    {
     "cell_type": "markdown",
     "metadata": {},
     "source": [
      "### Datos de la l\u00ednea y de la red"
     ]
    },
    {
     "cell_type": "code",
     "collapsed": false,
     "input": [
      "R_km = 0.03 # \u03a9/km\n",
      "L_km = 0.4e-3 # H/km\n",
      "C_km = 0.003e-6 # F/km\n",
      "\n",
      "U_kv = 20.0 # kV\n",
      "\n",
      "Long = 100.0 # km\n",
      "\n",
      "omega = 2.0*np.pi*50.0\n",
      "\n",
      "C = C_km*Long\n",
      "X_km = omega*L_km\n",
      "\n",
      "U_1 = 20.0e3\n",
      "\n",
      "X = X_km*Long\n",
      "R = R_km*Long\n",
      "B = omega*C"
     ],
     "language": "python",
     "metadata": {},
     "outputs": [],
     "prompt_number": 10
    },
    {
     "cell_type": "markdown",
     "metadata": {},
     "source": [
      "## Sitema de ecuaciones\n",
      "\n",
      "\\begin{align}\n",
      "\\sf 0 &= \\sf \\underline S_2 - \\sqrt 3  \\underline  U_2 \\overline {\\underline I_2}  \\\\\n",
      "\\sf 0 &= \\sf \\frac{\\underline U_1}{\\sqrt 3} - \\frac{\\underline U_2}{\\sqrt 3} - \\underline I_s \\underline Z\n",
      "\\end{align}\n",
      "\n"
     ]
    },
    {
     "cell_type": "code",
     "collapsed": false,
     "input": [
      "def f(x):\n",
      "    \n",
      "    \n",
      "    U_2_r = x[0]\n",
      "    U_2_i = x[1]\n",
      "    I_1_r = x[2]\n",
      "    I_1_i = x[3]    \n",
      "    \n",
      "    U_2 = U_2_r + 1j*U_2_i\n",
      "    I_1 = I_1_r + 1j*I_1_i\n",
      "    \n",
      "    I_c1 = (U_1/np.sqrt(3.0))*(1j*B/2)\n",
      "    I_c2 = (U_2/np.sqrt(3.0))*(1j*B/2)\n",
      "    \n",
      "    I_2 = I_1 - I_c1 - I_c2 \n",
      "    I_s = I_1 - I_c1\n",
      "    \n",
      "    eq_1 = S_2 - np.sqrt(3) * U_2 * np.conjugate(I_2)\n",
      "    eq_2 = U_1 - U_2  - I_s * ( R + 1j*X)*np.sqrt(3.0)\n",
      "    \n",
      "    out = [eq_1.real, eq_1.imag, eq_2.real, eq_2.imag]\n",
      "    \n",
      "    return out"
     ],
     "language": "python",
     "metadata": {},
     "outputs": [],
     "prompt_number": 13
    },
    {
     "cell_type": "markdown",
     "metadata": {},
     "source": [
      "## C\u00e1lculos"
     ]
    },
    {
     "cell_type": "code",
     "collapsed": false,
     "input": [
      "S_2 = P_2 + 1j*(Q_2+0.0)\n",
      "\n",
      "U_2_r = U_1\n",
      "U_2_i = 0.0\n",
      "\n",
      "I_1_r = P_2/U_1\n",
      "I_1_i = Q_2/U_1  \n",
      "    \n",
      "Q_cap = np.linspace(0.0,Q_2,10)\n",
      "P_j = np.array([])\n",
      "DV = np.array([])\n",
      "\n",
      "for q_cap in Q_cap:\n",
      "    S_2 = P_2 + 1j*(Q_2-q_cap) \n",
      "    x = scipy.optimize.broyden1(f, [U_2_r,U_2_i,I_1_r,I_1_i])    \n",
      "\n",
      "\n",
      "    U_2_r = x[0]\n",
      "    U_2_i = x[1]\n",
      "\n",
      "    I_1_r = x[2]\n",
      "    I_1_i = x[3]  \n",
      "\n",
      "    U_2 = U_2_r + 1j*U_2_i\n",
      "    I_1 = I_1_r + 1j*I_1_i\n",
      "\n",
      "    Dv =  np.abs(U_1) - np.abs(U_2)\n",
      "\n",
      "    p_j = 3.0*R*np.abs(I_1)**2\n",
      "    DV  = np.hstack((DV,Dv))\n",
      "    P_j = np.hstack((P_j,p_j))\n",
      "\n",
      "    \n",
      "    print('Tensi\u00f3n en la carga: %2.2f kV' %(np.abs(U_2)/1000.0))\n",
      "    print('Corriente I_1: %2.2f A' %(np.abs(I_1)))\n",
      "    print('P\u00e9rdidas: %2.2f kW' %(p_j/1000.0))"
     ],
     "language": "python",
     "metadata": {},
     "outputs": [
      {
       "output_type": "stream",
       "stream": "stdout",
       "text": [
        "Tensi\u00f3n en la carga: 18.94 kV\n",
        "Corriente I_1: 60.31 A\n",
        "P\u00e9rdidas: 32.73 kW\n",
        "Tensi\u00f3n en la carga: 19.04 kV\n",
        "Corriente I_1: 57.72 A\n",
        "P\u00e9rdidas: 29.99 kW\n",
        "Tensi\u00f3n en la carga: 19.13 kV\n",
        "Corriente I_1: 55.36 A\n",
        "P\u00e9rdidas: 27.59 kW\n",
        "Tensi\u00f3n en la carga: 19.22 kV\n",
        "Corriente I_1: 53.25 A\n",
        "P\u00e9rdidas: 25.52 kW\n",
        "Tensi\u00f3n en la carga: 19.31 kV\n",
        "Corriente I_1: 51.41 A\n",
        "P\u00e9rdidas: 23.79 kW\n",
        "Tensi\u00f3n en la carga: 19.40 kV\n",
        "Corriente I_1: 49.85 A\n",
        "P\u00e9rdidas: 22.37 kW\n",
        "Tensi\u00f3n en la carga: 19.48 kV"
       ]
      },
      {
       "output_type": "stream",
       "stream": "stdout",
       "text": [
        "\n",
        "Corriente I_1: 48.60 A\n",
        "P\u00e9rdidas: 21.25 kW\n",
        "Tensi\u00f3n en la carga: 19.57 kV\n",
        "Corriente I_1: 47.66 A\n",
        "P\u00e9rdidas: 20.44 kW\n",
        "Tensi\u00f3n en la carga: 19.66 kV\n",
        "Corriente I_1: 47.05 A\n",
        "P\u00e9rdidas: 19.93 kW\n",
        "Tensi\u00f3n en la carga: 19.74 kV\n",
        "Corriente I_1: 46.78 A\n",
        "P\u00e9rdidas: 19.69 kW\n"
       ]
      }
     ],
     "prompt_number": 16
    },
    {
     "cell_type": "markdown",
     "metadata": {},
     "source": [
      "## Resultados"
     ]
    },
    {
     "cell_type": "markdown",
     "metadata": {},
     "source": [
      "### Curvas"
     ]
    },
    {
     "cell_type": "code",
     "collapsed": false,
     "input": [
      "%pylab inline\n",
      "fig = plt.figure()\n",
      "ax_v  = fig.add_subplot(211)\n",
      "ax_pj = fig.add_subplot(212)\n",
      "\n",
      "ax_v.plot(Q_cap/1000.0, DV/1000.0, 'b-')  \n",
      "ax_pj.plot(Q_cap/1000.0, P_j/1000.0, 'r-')\n",
      "\n",
      "ax_v.set_ylabel('$\\sf \\Delta$V (kV)')\n",
      "ax_pj.set_ylabel('Power losses (kW)')\n",
      "\n",
      "ax_pj.set_xlabel('Reactive power (kvar)')\n"
     ],
     "language": "python",
     "metadata": {},
     "outputs": [
      {
       "output_type": "stream",
       "stream": "stdout",
       "text": [
        "Populating the interactive namespace from numpy and matplotlib\n"
       ]
      },
      {
       "metadata": {},
       "output_type": "pyout",
       "prompt_number": 20,
       "text": [
        "<matplotlib.text.Text at 0x53bc450>"
       ]
      },
      {
       "metadata": {},
       "output_type": "display_data",
       "png": "[encoded data removed]",
       "text": [
        "<matplotlib.figure.Figure at 0x57f6790>"
       ]
      }
     ],
     "prompt_number": 20
    },
    {
     "cell_type": "code",
     "collapsed": false,
     "input": [],
     "language": "python",
     "metadata": {},
     "outputs": []
    }
   ],
   "metadata": {}
  }
 ]
}