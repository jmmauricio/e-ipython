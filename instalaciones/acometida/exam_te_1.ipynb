{
 "metadata": {
  "name": "",
  "signature": "sha256:5717090443d453c514d3494b00753c83afdbae052e9945ff39d54d5536276b0d"
 },
 "nbformat": 3,
 "nbformat_minor": 0,
 "worksheets": [
  {
   "cells": [
    {
     "cell_type": "markdown",
     "metadata": {},
     "source": [
      "# Problema de acometida"
     ]
    },
    {
     "cell_type": "markdown",
     "metadata": {},
     "source": [
      "<img src=\"acometida.png\">"
     ]
    },
    {
     "cell_type": "markdown",
     "metadata": {},
     "source": [
      "Se importan los modulos a utilizar:"
     ]
    },
    {
     "cell_type": "code",
     "collapsed": false,
     "input": [
      "import numpy as np"
     ],
     "language": "python",
     "metadata": {},
     "outputs": [],
     "prompt_number": 29
    },
    {
     "cell_type": "markdown",
     "metadata": {},
     "source": [
      "## Datos del sistema"
     ]
    },
    {
     "cell_type": "markdown",
     "metadata": {},
     "source": [
      "### Datos de la carga"
     ]
    },
    {
     "cell_type": "code",
     "collapsed": false,
     "input": [
      "P_1 =  40.0e6                      # potencia activa \n",
      "Q_1 =  30.0e6                      # potencia reactiva"
     ],
     "language": "python",
     "metadata": {},
     "outputs": [],
     "prompt_number": 30
    },
    {
     "cell_type": "markdown",
     "metadata": {},
     "source": [
      "### Datos de la l\u00ednea y de la red"
     ]
    },
    {
     "cell_type": "code",
     "collapsed": false,
     "input": [
      "R_km = 0.03 # \u03a9/km\n",
      "L_km = 0.4e-3 # H/km\n",
      "C_km = 0.003e-6 # F/km\n",
      "\n",
      "Long = 100.0 # km\n",
      "\n",
      "omega = 2.0*np.pi*50.0\n",
      "\n",
      "C = C_km*Long\n",
      "X_km = omega*L_km\n",
      "\n",
      "U_1 = 240.0e3\n",
      "\n",
      "X = X_km*Long\n",
      "R = R_km*Long\n",
      "B = omega*C"
     ],
     "language": "python",
     "metadata": {},
     "outputs": [],
     "prompt_number": 31
    },
    {
     "cell_type": "markdown",
     "metadata": {},
     "source": [
      "## Sitema de ecuaciones\n",
      "\n",
      "\\begin{align}\n",
      "\\sf 0 &= \\sf \\underline S_1 - \\sqrt 3  \\underline  U_1 \\overline {\\underline I_1}  \\\\\n",
      "\\sf 0 &= \\sf \\frac{\\underline U_1}{\\sqrt 3} - \\frac{\\underline U_2}{\\sqrt 3} - \\underline I_s \\underline Z\n",
      "\\end{align}\n",
      "\n"
     ]
    },
    {
     "cell_type": "code",
     "collapsed": false,
     "input": [
      "100.0/(0.3*10.0)"
     ],
     "language": "python",
     "metadata": {},
     "outputs": [
      {
       "metadata": {},
       "output_type": "pyout",
       "prompt_number": 88,
       "text": [
        "33.333333333333336"
       ]
      }
     ],
     "prompt_number": 88
    },
    {
     "cell_type": "markdown",
     "metadata": {},
     "source": [
      "## C\u00e1lculos"
     ]
    },
    {
     "cell_type": "code",
     "collapsed": false,
     "input": [
      "S_1 = P_1 + 1j*Q_1\n",
      "\n",
      "I_1 = np.conj(S_1/(np.sqrt(3)*U_1))\n",
      "\n",
      "I_c1 = (U_1/np.sqrt(3.0))*(1j*B/2)\n",
      "\n",
      "I_s = I_1 - I_c1\n",
      "\n",
      "U_1_f = U_1 / np.sqrt(3)\n",
      "\n",
      "U_2_f = U_1_f -  I_s * ( R + 1j*X)\n",
      "\n",
      "I_c2 = U_2_f*(1j*B/2)\n",
      "\n",
      "I_2 = I_s - I_c2\n",
      "\n",
      "p_j = 3.0*R*np.abs(I_s)**2\n",
      "\n",
      "U_2 = np.sqrt(3)*U_2_f\n",
      "\n",
      "print('Intensidad serie de la l\u00ednea: %2.2f A' %(np.abs(I_s)))\n",
      "print('P\u00e9rdidas en la l\u00ednea: %2.2f kW' %(p_j/1000.0))\n",
      "print('Tensi\u00f3n en la carga: %2.2f kV' %(np.abs(U_2)/1000.0))\n",
      "   \n"
     ],
     "language": "python",
     "metadata": {},
     "outputs": [
      {
       "output_type": "stream",
       "stream": "stdout",
       "text": [
        "Intensidad serie de la l\u00ednea: 124.31 A\n",
        "P\u00e9rdidas en la l\u00ednea: 139.07 kW\n",
        "Tensi\u00f3n en la carga: 237.79 kV\n"
       ]
      }
     ],
     "prompt_number": 89
    },
    {
     "cell_type": "code",
     "collapsed": false,
     "input": [
      "E_f=11.0e3/np.sqrt(3)\n",
      "U_f=E_f\n",
      "delta = 10.0/180*np.pi\n",
      "X=35.0\n",
      "P = 3.0*U_f*E_f/X*np.sin(delta)\n",
      "Q = 3.0*U_f/X*(E_f*np.cos(delta)- U_f)\n",
      "\n",
      "S = P+1j*Q\n",
      "I = np.abs(S)/(3*U_f)\n",
      "fp = P/(np.abs(S))\n",
      "print('Potencia activa entregada: {:2.2f} kW'.format(P/1000.0))\n",
      "print('Potencia reactiva entregada: {:2.2f} kvar'.format(Q/1000.0))\n",
      "print('Intensidad entregada: {:2.2f} A'.format(I))\n",
      "print('Factor de potencia: {:2.3f} A'.format(fp))"
     ],
     "language": "python",
     "metadata": {},
     "outputs": [
      {
       "output_type": "stream",
       "stream": "stdout",
       "text": [
        "Potencia activa entregada: 600.33 kW\n",
        "Potencia reactiva entregada: -52.52 kvar\n",
        "Intensidad entregada: 31.63 A\n",
        "Factor de potencia: 0.996 A\n"
       ]
      }
     ],
     "prompt_number": 107
    },
    {
     "cell_type": "code",
     "collapsed": false,
     "input": [],
     "language": "python",
     "metadata": {},
     "outputs": []
    }
   ],
   "metadata": {}
  }
 ]
}