{
 "metadata": {
  "name": "",
  "signature": "sha256:8a5048d45af3d34c0437878cebf58aa61dc63d841bcdc6ee80c9ea40019f4618"
 },
 "nbformat": 3,
 "nbformat_minor": 0,
 "worksheets": [
  {
   "cells": [
    {
     "cell_type": "markdown",
     "metadata": {},
     "source": [
      "# Catenaria"
     ]
    },
    {
     "cell_type": "markdown",
     "metadata": {},
     "source": [
      "<img src=\"catenaria.png\" width=600>"
     ]
    },
    {
     "cell_type": "markdown",
     "metadata": {},
     "source": [
      "Se importan los modulos a utilizar:"
     ]
    },
    {
     "cell_type": "code",
     "collapsed": false,
     "input": [
      "import numpy as np\n",
      "import scipy.optimize\n",
      "import matplotlib.pyplot as plt"
     ],
     "language": "python",
     "metadata": {},
     "outputs": [],
     "prompt_number": 4
    },
    {
     "cell_type": "markdown",
     "metadata": {},
     "source": [
      "### Datos cable normalizado LAC 110"
     ]
    },
    {
     "cell_type": "code",
     "collapsed": false,
     "input": [
      "C_s =  10.0                      # coeficiente de seguridad \n",
      "S_mm = 116.2                    # secci\u00f3n mm2\n",
      "carga_rotura = 4317.0\n",
      "T_0 = carga_rotura/C_s\n",
      "p = 0.4325\n",
      "lam =T_0/p\n",
      "print lam\n"
     ],
     "language": "python",
     "metadata": {},
     "outputs": [
      {
       "output_type": "stream",
       "stream": "stdout",
       "text": [
        "998.150289017\n"
       ]
      }
     ],
     "prompt_number": 48
    },
    {
     "cell_type": "markdown",
     "metadata": {},
     "source": [
      "## Comparaci\u00f3n entre catenaria y par\u00e1bola"
     ]
    },
    {
     "cell_type": "markdown",
     "metadata": {},
     "source": [
      "### Datos de la l\u00ednea"
     ]
    },
    {
     "cell_type": "code",
     "collapsed": false,
     "input": [
      "a = 200.0              # vano (m)"
     ],
     "language": "python",
     "metadata": {},
     "outputs": []
    },
    {
     "cell_type": "code",
     "collapsed": false,
     "input": [
      "flecha_catenaria = lam*(np.cosh(a/(2*lam))-1)\n",
      "flecha_parabola = p*a**2/(8*T_0)\n",
      "\n",
      "print(u'Flecha catenaria con catenaria: {:2.3f} m'.format(flecha_catenaria))\n",
      "print('Flecha catenaria con parabola: {:2.3f} m'.format(flecha_parabola))\n",
      "print('Error cometido con parabola: {:2.3f} %'.format((flecha_parabola-flecha_catenaria)/flecha_catenaria*100))"
     ],
     "language": "python",
     "metadata": {},
     "outputs": [
      {
       "output_type": "stream",
       "stream": "stdout",
       "text": [
        "Flecha catenaria con catenaria: 5.013 m\n",
        "Flecha catenaria con parabola: 5.009 m\n",
        "Error cometido con parabola: -0.084 %\n"
       ]
      }
     ],
     "prompt_number": 36
    },
    {
     "cell_type": "markdown",
     "metadata": {},
     "source": [
      "### Comparaci\u00f3n"
     ]
    },
    {
     "cell_type": "code",
     "collapsed": false,
     "input": [
      "a = 1300.0\n",
      "X = np.linspace(-a/2.0,a/2.0,100)\n",
      "Y_catenaria = lam*np.cosh(X/lam)\n",
      "Y_parabola = (T_0/p+p/2.0*(X**2/T_0))\n",
      "\n",
      "T = np.sqrt(T_0**2+p**2*X**2)\n"
     ],
     "language": "python",
     "metadata": {},
     "outputs": [],
     "prompt_number": 49
    },
    {
     "cell_type": "code",
     "collapsed": false,
     "input": [
      "%pylab inline\n",
      "fig = plt.figure(figsize(8,8))\n",
      "ax_cat  = fig.add_subplot(211)\n",
      "ax_T = fig.add_subplot(212)\n",
      "\n",
      "ax_cat.plot(X,Y_catenaria, 'r-') \n",
      "ax_cat.plot(X,Y_parabola, 'b-')  \n",
      "\n",
      "ax_T.plot(X,Y_catenaria-Y_parabola, 'b-') \n"
     ],
     "language": "python",
     "metadata": {},
     "outputs": [
      {
       "output_type": "stream",
       "stream": "stdout",
       "text": [
        "Populating the interactive namespace from numpy and matplotlib\n"
       ]
      },
      {
       "metadata": {},
       "output_type": "pyout",
       "prompt_number": 50,
       "text": [
        "[<matplotlib.lines.Line2D at 0x774b910>]"
       ]
      },
      {
       "metadata": {},
       "output_type": "display_data",
       "png": "[encoded data removed]",
       "text": [
        "<matplotlib.figure.Figure at 0x6c38c90>"
       ]
      }
     ],
     "prompt_number": 50
    },
    {
     "cell_type": "code",
     "collapsed": false,
     "input": [],
     "language": "python",
     "metadata": {},
     "outputs": []
    }
   ],
   "metadata": {}
  }
 ]
}