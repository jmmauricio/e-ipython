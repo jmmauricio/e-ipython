{
 "metadata": {
  "name": "",
  "signature": "sha256:2181186b052dd9cc11cddbc9c4ae1feb290e0dc617e7a18deaed37ab43fd09fd"
 },
 "nbformat": 3,
 "nbformat_minor": 0,
 "worksheets": [
  {
   "cells": [
    {
     "cell_type": "heading",
     "level": 2,
     "metadata": {},
     "source": [
      "esta es $\\frac{U}{Z_{cc}}$"
     ]
    },
    {
     "cell_type": "markdown",
     "metadata": {},
     "source": [
      "# Catenaria"
     ]
    },
    {
     "cell_type": "markdown",
     "metadata": {},
     "source": [
      "<img src=\"catenaria.png\" width=500>"
     ]
    },
    {
     "cell_type": "markdown",
     "metadata": {},
     "source": [
      "Se importan los modulos a utilizar:"
     ]
    },
    {
     "cell_type": "code",
     "collapsed": false,
     "input": [
      "import numpy as np\n",
      "import scipy.optimize\n",
      "import matplotlib.pyplot as plt"
     ],
     "language": "python",
     "metadata": {},
     "outputs": [],
     "prompt_number": 40
    },
    {
     "cell_type": "markdown",
     "metadata": {},
     "source": [
      "### Datos cable normalizado LAC 110"
     ]
    },
    {
     "cell_type": "code",
     "collapsed": false,
     "input": [
      "C_s =  10.0                      # coeficiente de seguridad \n",
      "S_mm = 116.2                    # secci\u00f3n mm2\n",
      "carga_rotura = 4317.0\n",
      "T_0 = carga_rotura/C_s\n",
      "p = 0.4325\n",
      "lam =T_0/p\n",
      "print lam\n"
     ],
     "language": "python",
     "metadata": {},
     "outputs": [
      {
       "output_type": "stream",
       "stream": "stdout",
       "text": [
        "998.150289017\n"
       ]
      }
     ],
     "prompt_number": 41
    },
    {
     "cell_type": "markdown",
     "metadata": {},
     "source": [
      "## Comparaci\u00f3n entre catenaria y par\u00e1bola"
     ]
    },
    {
     "cell_type": "markdown",
     "metadata": {},
     "source": [
      "### Datos de la l\u00ednea"
     ]
    },
    {
     "cell_type": "code",
     "collapsed": false,
     "input": [
      "a = 200.0              # vano (m)"
     ],
     "language": "python",
     "metadata": {},
     "outputs": [],
     "prompt_number": 42
    },
    {
     "cell_type": "code",
     "collapsed": false,
     "input": [
      "flecha_catenaria = lam*(np.cosh(a/(2*lam))-1)\n",
      "flecha_parabola = p*a**2/(8*T_0)\n",
      "\n",
      "print(u'Flecha catenaria con catenaria: {:2.3f} m'.format(flecha_catenaria))\n",
      "print('Flecha catenaria con parabola: {:2.3f} m'.format(flecha_parabola))\n",
      "print('Error cometido con parabola: {:2.3f} %'.format((flecha_parabola-flecha_catenaria)/flecha_catenaria*100))"
     ],
     "language": "python",
     "metadata": {},
     "outputs": [
      {
       "output_type": "stream",
       "stream": "stdout",
       "text": [
        "Flecha catenaria con catenaria: 5.013 m\n",
        "Flecha catenaria con parabola: 5.009 m\n",
        "Error cometido con parabola: -0.084 %\n"
       ]
      }
     ],
     "prompt_number": 43
    },
    {
     "cell_type": "markdown",
     "metadata": {},
     "source": [
      "### Comparaci\u00f3n"
     ]
    },
    {
     "cell_type": "code",
     "collapsed": false,
     "input": [
      "a = 1300.0\n",
      "X = np.linspace(-a/2.0,a/2.0,100)\n",
      "Y_catenaria = lam*np.cosh(X/lam)\n",
      "Y_parabola = (T_0/p+p/2.0*(X**2/T_0))\n",
      "\n",
      "T = np.sqrt(T_0**2+p**2*X**2)\n"
     ],
     "language": "python",
     "metadata": {},
     "outputs": [],
     "prompt_number": 44
    },
    {
     "cell_type": "code",
     "collapsed": false,
     "input": [
      "%pylab inline\n",
      "fig = plt.figure(figsize(8,8))\n",
      "ax_cat  = fig.add_subplot(211)\n",
      "ax_T = fig.add_subplot(212)\n",
      "\n",
      "ax_cat.plot(X,Y_catenaria, 'r-') \n",
      "ax_cat.plot(X,Y_parabola, 'b-')  \n",
      "\n",
      "ax_T.plot(X,Y_catenaria-Y_parabola, 'b-') \n"
     ],
     "language": "python",
     "metadata": {},
     "outputs": [
      {
       "output_type": "stream",
       "stream": "stdout",
       "text": [
        "Populating the interactive namespace from numpy and matplotlib\n"
       ]
      },
      {
       "metadata": {},
       "output_type": "pyout",
       "prompt_number": 45,
       "text": [
        "[<matplotlib.lines.Line2D at 0x4b9c550>]"
       ]
      },
      {
       "metadata": {},
       "output_type": "display_data",
       "png": "[encoded data removed]",
       "text": [
        "<matplotlib.figure.Figure at 0x4a11610>"
       ]
      }
     ],
     "prompt_number": 45
    },
    {
     "cell_type": "code",
     "collapsed": false,
     "input": [
      "flecha_parabola = 300.0\n",
      "flecha_catenaria = flecha_parabola\n",
      "def flecha(x):\n",
      "    \n",
      "    T_0 = x[0]\n",
      "    \n",
      "    lam =T_0/p\n",
      "    \n",
      "    \n",
      "    eq  = flecha_parabola - p*a**2/(8*T_0)\n",
      "    eq  = flecha_catenaria - lam*(np.cosh(a/(2*lam))-1)\n",
      "\n",
      "    return eq\n",
      "\n",
      "import scipy.optimize\n",
      "x = scipy.optimize.broyden1(flecha, [400], f_tol=1e-14)\n",
      "\n",
      "print('Resultado: {:2.3f}'.format(float(x)))"
     ],
     "language": "python",
     "metadata": {},
     "outputs": [
      {
       "output_type": "stream",
       "stream": "stdout",
       "text": [
        "Resultado: 324.129\n"
       ]
      }
     ],
     "prompt_number": 46
    },
    {
     "cell_type": "code",
     "collapsed": false,
     "input": [
      "# LA-110\n",
      "'''\n",
      "94.2\n",
      "116.2\n",
      "60.\n",
      "6.00\n",
      "14.00\n",
      "30\n",
      "   2.00 \n",
      " 2,00 4310\n",
      " 0,3066\n",
      " 433\n",
      " 8000\n",
      " 17,8\n",
      "'''\n",
      "a = 200.0\n",
      "alpha = 17.8e-6   # \u00baC\n",
      "C_s =  2.0                      # coeficiente de seguridad \n",
      "S_mm = 116.2                    # secci\u00f3n mm2\n",
      "carga_rotura = 4310.0e1 # N \n",
      "T_0 = carga_rotura/C_s  # N \n",
      "E = 8000.0e1  #         # N mm2\n",
      "a = 200.0              # vano (m)\n",
      "theta_1 = 50.0\n",
      "theta_2 = 50.0\n",
      "\n",
      "T_0_1 = T_0\n",
      "\n",
      "p_km =  433.0             # kg/km\n",
      "p_1 = p_2 = p_km/1000.0 # kg/m\n",
      "\n",
      "def f(x):\n",
      "    T_0_2 = x[0]\n",
      "    lam_1 = T_0_1/p_1\n",
      "    lam_2 = T_0_2/p_2    \n",
      "    \n",
      "    long_1 = a*(1+a**2/(24*lam_1))\n",
      "    long_2 = a*(1+a**2/(24*lam_2))\n",
      "    \n",
      "    Dlong_theta = a*(theta_2 - theta_1)*alpha\n",
      "    Dlong_mec = a*(T_0/S_mm)/(E)\n",
      "    Dlong = Dlong_theta + Dlong_mec\n",
      "    \n",
      "    \n",
      "    eq  = Dlong - (long_2 - long_1)\n",
      "\n",
      "    return eq\n",
      "\n",
      "import scipy.optimize\n",
      "x = scipy.optimize.broyden1(f, [T_0_1], f_tol=1e-12)\n",
      "T_0_2 = x\n",
      "print('Resultado: {:2.3f}'.format(float(x)))\n",
      "\n",
      "Dlong_mec = a*(T_0/S_mm)/(E)\n",
      "print Dlong_mec\n",
      "Dlong_theta = a*(theta_2 - theta_1)*alpha\n",
      "print Dlong_theta"
     ],
     "language": "python",
     "metadata": {},
     "outputs": [
      {
       "output_type": "stream",
       "stream": "stdout",
       "text": [
        "Resultado: 20154.789\n",
        "0.463640275387\n",
        "0.0\n"
       ]
      }
     ],
     "prompt_number": 63
    },
    {
     "cell_type": "code",
     "collapsed": false,
     "input": [
      "X = np.linspace(-a/2.0,a/2.0,100)\n",
      "lam_1 = T_0_1/p_1\n",
      "lam_2 = T_0_2/p_2   \n",
      "Y_catenaria_1 = lam_1*np.cosh(X/lam_1)\n",
      "Y_catenaria_2 = lam_2*np.cosh(X/lam_2)\n"
     ],
     "language": "python",
     "metadata": {},
     "outputs": [],
     "prompt_number": 61
    },
    {
     "cell_type": "code",
     "collapsed": false,
     "input": [
      "fig = plt.figure(figsize(8,8))\n",
      "ax_cat_theta  = fig.add_subplot(211)\n",
      "\n",
      "ax_cat_theta.plot(X,Y_catenaria_1-Y_catenaria_1[0], 'r-') \n",
      "ax_cat_theta.plot(X,Y_catenaria_2-Y_catenaria_2[0], 'b-')  \n",
      "\n",
      "#ax_T.plot(X,Y_catenaria-Y_parabola, 'b-') \n"
     ],
     "language": "python",
     "metadata": {},
     "outputs": [
      {
       "metadata": {},
       "output_type": "pyout",
       "prompt_number": 62,
       "text": [
        "[<matplotlib.lines.Line2D at 0x57ea190>]"
       ]
      },
      {
       "metadata": {},
       "output_type": "display_data",
       "png": "[encoded data removed]",
       "text": [
        "<matplotlib.figure.Figure at 0x4fb9690>"
       ]
      }
     ],
     "prompt_number": 62
    },
    {
     "cell_type": "code",
     "collapsed": false,
     "input": [
      "a"
     ],
     "language": "python",
     "metadata": {},
     "outputs": []
    },
    {
     "cell_type": "code",
     "collapsed": false,
     "input": [],
     "language": "python",
     "metadata": {},
     "outputs": []
    }
   ],
   "metadata": {}
  }
 ]
}