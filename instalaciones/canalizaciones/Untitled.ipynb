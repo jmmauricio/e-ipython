{
 "cells": [
  {
   "cell_type": "markdown",
   "metadata": {},
   "source": [
    "## Problema 1"
   ]
  },
  {
   "cell_type": "markdown",
   "metadata": {},
   "source": [
    "Calcular la sección de los conductores de la linea monofásica de la figura, que alimenta una instalación cuya tensión nominal es 230 V y que consume 30 A con factor de potencia unidad. Los cables serán unipolares con conductor de cobre, aislamiento XLPE, 0.6/1 kV (Retenax-Flam) e irán dispuestos en canalización al aire bajo tubo a una temperatura ambiente de 40 °C. Considérese el circuito para su diseño como parte de una red de distribución. Realizar el diseño aplicando el criterio térmico y comprobar si se verifica e1 criterio de caída de tensión, teniendo presente que la máxima caída de tensión permitida es del 1%.  \n",
    "\n",
    "<img src='figura_p1.png' width=400 /img>"
   ]
  },
  {
   "cell_type": "code",
   "execution_count": null,
   "metadata": {
    "collapsed": true
   },
   "outputs": [],
   "source": []
  }
 ],
 "metadata": {
  "kernelspec": {
   "display_name": "Python 3",
   "language": "python",
   "name": "python3"
  },
  "language_info": {
   "codemirror_mode": {
    "name": "ipython",
    "version": 3
   },
   "file_extension": ".py",
   "mimetype": "text/x-python",
   "name": "python",
   "nbconvert_exporter": "python",
   "pygments_lexer": "ipython3",
   "version": "3.4.3"
  }
 },
 "nbformat": 4,
 "nbformat_minor": 0
}
