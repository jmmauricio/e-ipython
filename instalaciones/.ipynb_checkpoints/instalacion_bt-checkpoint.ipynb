{
 "metadata": {
  "name": "",
  "signature": "sha256:91f2dc0a24bb29a3f29fbb045e0f6110c7096fd10208355e4b849c44ff277ab4"
 },
 "nbformat": 3,
 "nbformat_minor": 0,
 "worksheets": []
}