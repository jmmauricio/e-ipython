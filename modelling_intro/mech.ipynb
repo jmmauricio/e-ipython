{
 "cells": [
  {
   "cell_type": "markdown",
   "metadata": {},
   "source": [
    "## Newton's second law"
   ]
  },
  {
   "cell_type": "markdown",
   "metadata": {},
   "source": [
    "### Linear motion\n",
    "\n",
    "The second law states that the rate of change of momentum of a body, is directly proportional to the force applied and this change in momentum takes place in the direction of the applied force (wikipedia).\n",
    "\n",
    "$$ \\sf \\sum f = \\frac{dp}{dt} $$\n",
    "\n",
    "If $\\sf p=M \\frac{d \\nu}{dt}$ then:\n",
    "\n",
    "$$ \\sf \\sum f = M \\frac{d \\nu}{dt} $$\n",
    "\n",
    "\n",
    "### Rotational motion\n",
    "\n",
    "$$ \\sf \\sum \\tau = \\frac{dl}{dt} $$\n",
    "\n",
    "If $\\sf l=J \\frac{d \\omega}{dt}$ then:\n",
    "\n",
    "$$ \\sf \\sum \\tau = J \\frac{d \\omega}{dt} $$\n",
    "\n"
   ]
  },
  {
   "cell_type": "markdown",
   "metadata": {},
   "source": [
    "### Linear motion example\n",
    "\n",
    "<img src=\"./svg/cuerpo_1.svg\", width=500>\n",
    "\n",
    "\\begin{equation}\n",
    "\\nonumber\n",
    "\t\\begin{split}\t\n",
    "\t\\sf  \\frac{d\\nu}{dt} &= \\sf \\frac{1}{M} \\left( f_w -f_d - f_r - f_\\beta \\right)\n",
    "\t\\end{split}\n",
    "\\end{equation}\n",
    "\n",
    "\n",
    "With:\n",
    "\n",
    "\\begin{equation}\n",
    "\\nonumber\n",
    "\t\\begin{split}\t\n",
    "\t\\sf  f_\\beta &= \\sf M \\cdot G \\sin \\beta \\\\\n",
    "    \\sf  f_d &= \\sf K_d \\nu \\left|\\nu \\right| \\\\\n",
    "    \\sf  f_r &= \\sf K_r  \\\\\n",
    "\t\\end{split}\n",
    "\\end{equation}\n",
    "\n",
    "\\begin{equation}\n",
    "\\nonumber\n",
    "\t\\begin{split}\n",
    "    \\sf  M &= \\sf 1200 \\; kg \\\\\n",
    "\t\\sf  G &= \\sf 9.81 \\; m^2/s \\\\\n",
    "    \\sf  K_d &=  \\sf 0.41747 \\; N s^4/m^2\\\\\n",
    "    \\sf  K_r  &= \\sf 353.16 \\cdot sigm(\\nu)\\; N \\\\\n",
    "\t\\end{split}\n",
    "\\end{equation}\n",
    "\n",
    "\n",
    "\n"
   ]
  },
  {
   "cell_type": "code",
   "execution_count": null,
   "metadata": {
    "collapsed": false
   },
   "outputs": [],
   "source": [
    "M = 1200.0\n",
    "G = 9.81\n",
    "K_d = 0.041747\n",
    "K_r = 353.16\n",
    "\n"
   ]
  },
  {
   "cell_type": "code",
   "execution_count": null,
   "metadata": {
    "collapsed": true
   },
   "outputs": [],
   "source": []
  },
  {
   "cell_type": "code",
   "execution_count": null,
   "metadata": {
    "collapsed": true
   },
   "outputs": [],
   "source": []
  }
 ],
 "metadata": {
  "anaconda-cloud": {},
  "kernelspec": {
   "display_name": "Python [default]",
   "language": "python",
   "name": "python3"
  },
  "language_info": {
   "codemirror_mode": {
    "name": "ipython",
    "version": 3
   },
   "file_extension": ".py",
   "mimetype": "text/x-python",
   "name": "python",
   "nbconvert_exporter": "python",
   "pygments_lexer": "ipython3",
   "version": "3.5.2"
  }
 },
 "nbformat": 4,
 "nbformat_minor": 1
}
