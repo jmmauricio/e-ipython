{
 "cells": [
  {
   "cell_type": "markdown",
   "metadata": {},
   "source": [
    "## Newton's second law"
   ]
  },
  {
   "cell_type": "markdown",
   "metadata": {},
   "source": [
    "### Linear motion\n",
    "\n",
    "$$ \\sf \\sum f = \\frac{dp}{dt} $$\n",
    "\n",
    "If $\\sf p=M \\frac{d \\nu}{dt}$ then:\n",
    "\n",
    "$$ \\sf \\sum f = M \\frac{d \\nu}{dt} $$\n",
    "\n",
    "\n",
    "### Rotational motion\n",
    "\n",
    "$$ \\sf \\sum \\tau = \\frac{dl}{dt} $$\n",
    "\n",
    "If $\\sf l=J \\frac{d \\omega}{dt}$ then:\n",
    "\n",
    "$$ \\sf \\sum \\tau = J \\frac{d \\omega}{dt} $$\n",
    "\n"
   ]
  },
  {
   "cell_type": "markdown",
   "metadata": {},
   "source": [
    "### Linear motion example\n",
    "\n",
    "<img src=\"./svg/cuerpo_1.svg\", width=500>\n",
    "\n",
    "\\begin{equation}\n",
    "\\nonumber\n",
    "\t\\begin{split}\t\n",
    "\t\\sf  \\frac{d\\nu}{dt} &= \\sf \\frac{1}{M} \\left( f_w -f_d - f_r - f_\\beta \\right)\n",
    "\t\\end{split}\n",
    "\\end{equation}"
   ]
  },
  {
   "cell_type": "code",
   "execution_count": 4,
   "metadata": {
    "collapsed": false
   },
   "outputs": [
    {
     "ename": "TypeError",
     "evalue": "__init__() got an unexpected keyword argument 'width'",
     "output_type": "error",
     "traceback": [
      "\u001b[0;31m---------------------------------------------------------------------------\u001b[0m",
      "\u001b[0;31mTypeError\u001b[0m                                 Traceback (most recent call last)",
      "\u001b[0;32m<ipython-input-4-203f9eaaf874>\u001b[0m in \u001b[0;36m<module>\u001b[0;34m()\u001b[0m\n\u001b[1;32m      1\u001b[0m \u001b[0;32mfrom\u001b[0m \u001b[0mIPython\u001b[0m\u001b[0;34m.\u001b[0m\u001b[0mdisplay\u001b[0m \u001b[0;32mimport\u001b[0m \u001b[0mSVG\u001b[0m\u001b[0;34m\u001b[0m\u001b[0m\n\u001b[0;32m----> 2\u001b[0;31m \u001b[0mSVG\u001b[0m\u001b[0;34m(\u001b[0m\u001b[0;34m'./svg/cuerpo_2.svg'\u001b[0m\u001b[0;34m,\u001b[0m \u001b[0mwidth\u001b[0m\u001b[0;34m=\u001b[0m\u001b[0;36m500\u001b[0m\u001b[0;34m)\u001b[0m\u001b[0;34m\u001b[0m\u001b[0m\n\u001b[0m",
      "\u001b[0;31mTypeError\u001b[0m: __init__() got an unexpected keyword argument 'width'"
     ]
    }
   ],
   "source": [
    "from IPython.display import SVG\n",
    "SVG('./svg/cuerpo_2.svg')"
   ]
  },
  {
   "cell_type": "code",
   "execution_count": null,
   "metadata": {
    "collapsed": true
   },
   "outputs": [],
   "source": []
  },
  {
   "cell_type": "code",
   "execution_count": null,
   "metadata": {
    "collapsed": true
   },
   "outputs": [],
   "source": []
  }
 ],
 "metadata": {
  "anaconda-cloud": {},
  "kernelspec": {
   "display_name": "Python [default]",
   "language": "python",
   "name": "python3"
  },
  "language_info": {
   "codemirror_mode": {
    "name": "ipython",
    "version": 3
   },
   "file_extension": ".py",
   "mimetype": "text/x-python",
   "name": "python",
   "nbconvert_exporter": "python",
   "pygments_lexer": "ipython3",
   "version": "3.5.2"
  }
 },
 "nbformat": 4,
 "nbformat_minor": 1
}
