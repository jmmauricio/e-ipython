{
 "cells": [
  {
   "cell_type": "markdown",
   "metadata": {},
   "source": [
    "## Low voltage network\n",
    "\n",
    "<img src=\"./svg/bench_1.svg\", width=800>"
   ]
  },
  {
   "cell_type": "code",
   "execution_count": 6,
   "metadata": {
    "collapsed": false
   },
   "outputs": [
    {
     "data": {
      "text/html": [
       "\n",
       "    <div class=\"bk-root\">\n",
       "        <a href=\"http://bokeh.pydata.org\" target=\"_blank\" class=\"bk-logo bk-logo-small bk-logo-notebook\"></a>\n",
       "        <span id=\"a52c941f-b986-4c17-bb3f-906a6f493783\">Loading BokehJS ...</span>\n",
       "    </div>"
      ]
     },
     "metadata": {},
     "output_type": "display_data"
    },
    {
     "data": {
      "application/javascript": [
       "\n",
       "(function(global) {\n",
       "  function now() {\n",
       "    return new Date();\n",
       "  }\n",
       "\n",
       "  var force = \"1\";\n",
       "\n",
       "  if (typeof (window._bokeh_onload_callbacks) === \"undefined\" || force !== \"\") {\n",
       "    window._bokeh_onload_callbacks = [];\n",
       "    window._bokeh_is_loading = undefined;\n",
       "  }\n",
       "\n",
       "\n",
       "  \n",
       "  if (typeof (window._bokeh_timeout) === \"undefined\" || force !== \"\") {\n",
       "    window._bokeh_timeout = Date.now() + 5000;\n",
       "    window._bokeh_failed_load = false;\n",
       "  }\n",
       "\n",
       "  var NB_LOAD_WARNING = {'data': {'text/html':\n",
       "     \"<div style='background-color: #fdd'>\\n\"+\n",
       "     \"<p>\\n\"+\n",
       "     \"BokehJS does not appear to have successfully loaded. If loading BokehJS from CDN, this \\n\"+\n",
       "     \"may be due to a slow or bad network connection. Possible fixes:\\n\"+\n",
       "     \"</p>\\n\"+\n",
       "     \"<ul>\\n\"+\n",
       "     \"<li>re-rerun `output_notebook()` to attempt to load from CDN again, or</li>\\n\"+\n",
       "     \"<li>use INLINE resources instead, as so:</li>\\n\"+\n",
       "     \"</ul>\\n\"+\n",
       "     \"<code>\\n\"+\n",
       "     \"from bokeh.resources import INLINE\\n\"+\n",
       "     \"output_notebook(resources=INLINE)\\n\"+\n",
       "     \"</code>\\n\"+\n",
       "     \"</div>\"}};\n",
       "\n",
       "  function display_loaded() {\n",
       "    if (window.Bokeh !== undefined) {\n",
       "      Bokeh.$(\"#a52c941f-b986-4c17-bb3f-906a6f493783\").text(\"BokehJS successfully loaded.\");\n",
       "    } else if (Date.now() < window._bokeh_timeout) {\n",
       "      setTimeout(display_loaded, 100)\n",
       "    }\n",
       "  }\n",
       "\n",
       "  function run_callbacks() {\n",
       "    window._bokeh_onload_callbacks.forEach(function(callback) { callback() });\n",
       "    delete window._bokeh_onload_callbacks\n",
       "    console.info(\"Bokeh: all callbacks have finished\");\n",
       "  }\n",
       "\n",
       "  function load_libs(js_urls, callback) {\n",
       "    window._bokeh_onload_callbacks.push(callback);\n",
       "    if (window._bokeh_is_loading > 0) {\n",
       "      console.log(\"Bokeh: BokehJS is being loaded, scheduling callback at\", now());\n",
       "      return null;\n",
       "    }\n",
       "    if (js_urls == null || js_urls.length === 0) {\n",
       "      run_callbacks();\n",
       "      return null;\n",
       "    }\n",
       "    console.log(\"Bokeh: BokehJS not loaded, scheduling load and callback at\", now());\n",
       "    window._bokeh_is_loading = js_urls.length;\n",
       "    for (var i = 0; i < js_urls.length; i++) {\n",
       "      var url = js_urls[i];\n",
       "      var s = document.createElement('script');\n",
       "      s.src = url;\n",
       "      s.async = false;\n",
       "      s.onreadystatechange = s.onload = function() {\n",
       "        window._bokeh_is_loading--;\n",
       "        if (window._bokeh_is_loading === 0) {\n",
       "          console.log(\"Bokeh: all BokehJS libraries loaded\");\n",
       "          run_callbacks()\n",
       "        }\n",
       "      };\n",
       "      s.onerror = function() {\n",
       "        console.warn(\"failed to load library \" + url);\n",
       "      };\n",
       "      console.log(\"Bokeh: injecting script tag for BokehJS library: \", url);\n",
       "      document.getElementsByTagName(\"head\")[0].appendChild(s);\n",
       "    }\n",
       "  };var element = document.getElementById(\"a52c941f-b986-4c17-bb3f-906a6f493783\");\n",
       "  if (element == null) {\n",
       "    console.log(\"Bokeh: ERROR: autoload.js configured with elementid 'a52c941f-b986-4c17-bb3f-906a6f493783' but no matching script tag was found. \")\n",
       "    return false;\n",
       "  }\n",
       "\n",
       "  var js_urls = ['https://cdn.pydata.org/bokeh/release/bokeh-0.12.3.min.js', 'https://cdn.pydata.org/bokeh/release/bokeh-widgets-0.12.3.min.js'];\n",
       "\n",
       "  var inline_js = [\n",
       "    function(Bokeh) {\n",
       "      Bokeh.set_log_level(\"info\");\n",
       "    },\n",
       "    \n",
       "    function(Bokeh) {\n",
       "      \n",
       "      Bokeh.$(\"#a52c941f-b986-4c17-bb3f-906a6f493783\").text(\"BokehJS is loading...\");\n",
       "    },\n",
       "    function(Bokeh) {\n",
       "      console.log(\"Bokeh: injecting CSS: https://cdn.pydata.org/bokeh/release/bokeh-0.12.3.min.css\");\n",
       "      Bokeh.embed.inject_css(\"https://cdn.pydata.org/bokeh/release/bokeh-0.12.3.min.css\");\n",
       "      console.log(\"Bokeh: injecting CSS: https://cdn.pydata.org/bokeh/release/bokeh-widgets-0.12.3.min.css\");\n",
       "      Bokeh.embed.inject_css(\"https://cdn.pydata.org/bokeh/release/bokeh-widgets-0.12.3.min.css\");\n",
       "    }\n",
       "  ];\n",
       "\n",
       "  function run_inline_js() {\n",
       "    \n",
       "    if ((window.Bokeh !== undefined) || (force === \"1\")) {\n",
       "      for (var i = 0; i < inline_js.length; i++) {\n",
       "        inline_js[i](window.Bokeh);\n",
       "      }if (force === \"1\") {\n",
       "        display_loaded();\n",
       "      }} else if (Date.now() < window._bokeh_timeout) {\n",
       "      setTimeout(run_inline_js, 100);\n",
       "    } else if (!window._bokeh_failed_load) {\n",
       "      console.log(\"Bokeh: BokehJS failed to load within specified timeout.\");\n",
       "      window._bokeh_failed_load = true;\n",
       "    } else if (!force) {\n",
       "      var cell = $(\"#a52c941f-b986-4c17-bb3f-906a6f493783\").parents('.cell').data().cell;\n",
       "      cell.output_area.append_execute_result(NB_LOAD_WARNING)\n",
       "    }\n",
       "\n",
       "  }\n",
       "\n",
       "  if (window._bokeh_is_loading === 0) {\n",
       "    console.log(\"Bokeh: BokehJS loaded, going straight to plotting\");\n",
       "    run_inline_js();\n",
       "  } else {\n",
       "    load_libs(js_urls, function() {\n",
       "      console.log(\"Bokeh: BokehJS plotting callback run at\", now());\n",
       "      run_inline_js();\n",
       "    });\n",
       "  }\n",
       "}(this));"
      ]
     },
     "metadata": {},
     "output_type": "display_data"
    }
   ],
   "source": [
    "import numpy as np\n",
    "inv = np.linalg.inv\n",
    "import matplotlib.pyplot as plt\n",
    "%matplotlib inline\n",
    "\n",
    "from bokeh.io import output_notebook, show\n",
    "from bokeh.plotting import figure\n",
    "from bokeh.layouts import gridplot\n",
    "output_notebook()\n",
    "\n",
    "alpha = np.exp(1j*2.0/3.0*np.pi)\n",
    "\n",
    "def vec3(amp,deg_ang):\n",
    "    vec = np.array([[1.0],[np.exp(-2.0/3.0j*np.pi)],[np.exp(-4.0/3.0j*np.pi)]])\n",
    "    return amp*vec*np.exp(-1j*np.deg2rad(deg_ang))\n",
    "    \n",
    "def vec4(amp,deg_ang):\n",
    "    vec = np.array([[1.0],[np.exp(-2.0/3.0j*np.pi)],[np.exp(-4.0/3.0j*np.pi)]])\n",
    "    abc = amp*vec*np.exp(-1j*np.deg2rad(deg_ang))   \n",
    "    n = -np.sum(abc)\n",
    "    return np.vstack((abc,n))\n",
    "    \n",
    "    \n",
    "\n",
    "def diag_2d_inv(Z_lines):\n",
    "    \n",
    "    N_cols = 0\n",
    "    for item in Z_lines:\n",
    "        N_cols += item.shape[0]\n",
    "    \n",
    "    Y = np.zeros((N_cols,N_cols))+0j\n",
    "    it = 0\n",
    "    for item in Z_lines:\n",
    "        diag = np.zeros((len(Z_lines),))\n",
    "        diag[it] = 1\n",
    "        I = np.diag(diag)\n",
    "        Y += np.kron(I,np.linalg.inv(item))\n",
    "        it += 1\n",
    "        \n",
    "    return Y\n",
    "\n",
    "def diag_2d(Z_lines):\n",
    "    \n",
    "    N_cols = 0\n",
    "    for item in Z_lines:\n",
    "        N_cols += item.shape[0]\n",
    "    \n",
    "    Z = np.zeros((N_cols,N_cols))+0j\n",
    "    it = 0\n",
    "    for item in Z_lines:\n",
    "        diag = np.zeros((len(Z_lines),))\n",
    "        diag[it] = 1\n",
    "        I = np.diag(diag)\n",
    "        Z += np.kron(I,item)\n",
    "        it += 1\n",
    "        \n",
    "    return Z\n",
    "\n"
   ]
  },
  {
   "cell_type": "markdown",
   "metadata": {},
   "source": [
    "$$ \\sf \\mathbf{Y} = \\mathbf{A} \\mathbf{Y}_{lines} \\mathbf{A}^{T} $$"
   ]
  },
  {
   "cell_type": "markdown",
   "metadata": {},
   "source": [
    "$$ \n",
    "\\sf \\mathbf{i} =  \\mathbf{Y} \\mathbf{v} \n",
    "$$\n",
    "\n",
    "\n",
    "\n",
    "$$ \n",
    "\\sf\n",
    "\\mathbf{Y} =\n",
    "\\left[\n",
    "\\begin{array}{r|r}\n",
    "\\sf \\mathbf{Y}_{slack} &  \\sf\\mathbf{Y}_{sr} \\\\\n",
    "\\hline\n",
    "\\sf\\mathbf{Y}_{rs} & \\sf\\mathbf{Y}_r\n",
    "\\end{array} \n",
    "\\right]\n",
    "$$\n",
    "\n",
    "$$ \n",
    "\\sf\n",
    "\\mathbf{v} =\n",
    "\\left[\n",
    "\\begin{array}{r}\n",
    "\\sf \\mathbf{v}_{src} \\\\\n",
    "\\hline\n",
    "\\sf \\mathbf{v}_{uk} \n",
    "\\end{array} \n",
    "\\right]\n",
    "$$\n",
    "\n",
    "$$ \n",
    "\\sf\n",
    "\\mathbf{i} =\n",
    "\\left[\n",
    "\\begin{array}{r}\n",
    "\\sf \\mathbf{i}_{uk} \\\\\n",
    "\\hline\n",
    "\\sf \\mathbf{i}_{src} \n",
    "\\end{array} \n",
    "\\right]\n",
    "$$\n",
    "\n",
    "$$\n",
    "\\left[\n",
    "\\begin{array}{r}\n",
    "\\sf \\mathbf{i}_{uk} \\\\\n",
    "\\hline\n",
    "\\sf \\mathbf{i}_{src} \n",
    "\\end{array} \n",
    "\\right]\n",
    "=\n",
    "\\left[\n",
    "\\begin{array}{r|r}\n",
    "\\sf \\mathbf{Y}_{slack} &  \\sf\\mathbf{Y}_{sr} \\\\\n",
    "\\hline\n",
    "\\sf \\mathbf{Y}_{rs} & \\sf\\mathbf{Y}_r\n",
    "\\end{array} \n",
    "\\right]\n",
    "\\left[\n",
    "\\begin{array}{r}\n",
    "\\sf \\mathbf{v}_{src} \\\\\n",
    "\\hline\n",
    "\\sf \\mathbf{v}_{uk} \n",
    "\\end{array} \n",
    "\\right]\n",
    "$$\n",
    "\n",
    "\n",
    "$$ \n",
    "\\sf \\mathbf{v}_{uk} =  \\mathbf{Y}_r^{-1} \\left(\\mathbf{i}_{src} - \\mathbf{Y}_{rs} \\mathbf{v}_{src} \\right)\n",
    "$$\n",
    "\n",
    "$$ \n",
    "\\sf \\mathbf{i}_{uk} =  \\mathbf{Y}_{slack} \\mathbf{v}_{src} + \\mathbf{Y}_{sr} \\mathbf{v}_{uk} \n",
    "$$\n"
   ]
  },
  {
   "cell_type": "markdown",
   "metadata": {
    "collapsed": false
   },
   "source": [
    "## Only voltages network "
   ]
  },
  {
   "cell_type": "markdown",
   "metadata": {},
   "source": [
    "$$ \n",
    "\\sf \\mathbf{v}_l =  \\mathbf{L} \\frac{d \\mathbf{i}_l}{dt} +  \\mathbf{R} \\mathbf{i_l} \n",
    "$$\n",
    "\n",
    "$$ \n",
    "\\sf \\mathbf{i_n} = 0\n",
    "$$\n"
   ]
  },
  {
   "cell_type": "markdown",
   "metadata": {},
   "source": [
    "$$ \n",
    "\\sf \\mathbf{A}_v^T \\mathbf{v}_v + \\mathbf{A}_i^T \\mathbf{v}_i  =  \\mathbf{L} \\frac{d \\mathbf{i}_l}{dt} +  \\mathbf{R} \\mathbf{i}_l \n",
    "$$\n",
    "\n",
    "$$ \n",
    "\\sf \\mathbf{A}_i \\mathbf{i}_l = 0\n",
    "$$\n"
   ]
  },
  {
   "cell_type": "markdown",
   "metadata": {},
   "source": [
    "$$ \n",
    "\\mathbf{R} \\mathbf{i}_l  = \\sf \\mathbf{A}_v^T \\mathbf{v}_v + \\mathbf{A}_i^T \\mathbf{v}_i  - \\mathbf{L} \\frac{d \\mathbf{i}_l}{dt} \n",
    "$$\n",
    "\n",
    "$$ \n",
    " \\mathbf{i}_l  = \\mathbf{R} ^{-1}\\sf \\mathbf{A}_v^T \\mathbf{v}_v +  \\mathbf{R} ^{-1}\\mathbf{A}_i^T \\mathbf{v}_i  -  \\mathbf{R} ^{-1}\\mathbf{L} \\frac{d \\mathbf{i}_l}{dt} \n",
    "$$"
   ]
  },
  {
   "cell_type": "markdown",
   "metadata": {},
   "source": [
    "\n",
    "\n",
    "$$ \n",
    " \\mathbf{A}_i \\mathbf{R} ^{-1}\\sf \\mathbf{A}_v^T \\mathbf{v}_v +  \\mathbf{A}_i\\mathbf{R} ^{-1}\\mathbf{A}_i^T \\mathbf{v}_i  -  \\mathbf{A}_i\\mathbf{R} ^{-1}\\mathbf{L} \\frac{d \\mathbf{i}_l}{dt} =  \\mathbf{0}  \n",
    "$$\n",
    "\n",
    "$$ \n",
    " \\mathbf{G}_{iv} \\mathbf{v}_v +   \\mathbf{G}_{ii} \\mathbf{v}_i  -  \\mathbf{T}_{i} \\frac{d \\mathbf{i}_l}{dt} =  \\mathbf{0}  \n",
    "$$\n",
    "\n",
    "\n",
    "$$ \n",
    "\\sf \\mathbf{G}_{iv} = \\mathbf{A}_i \\mathbf{R} ^{-1}\\sf \\mathbf{A}_v^T \n",
    "$$\n",
    "\n",
    "$$ \n",
    "\\sf \\mathbf{G}_{ii} = \\mathbf{A}_i\\mathbf{R} ^{-1}\\mathbf{A}_i^T\n",
    "$$\n",
    "\n",
    "\n",
    "$$ \n",
    "\\sf \\mathbf{T}_{i} = \\mathbf{A}_i\\mathbf{R} ^{-1}\\mathbf{L} \n",
    "$$"
   ]
  },
  {
   "cell_type": "markdown",
   "metadata": {},
   "source": [
    "$$ \n",
    "\\mathbf{v}_i  = \\mathbf{G}_{ii}^{-1}  \\left(- \\mathbf{G}_{iv}\\mathbf{v}_v + \\mathbf{T}_{i}\\mathbf{L} \\frac{d \\mathbf{i}_l}{dt} \\right)\n",
    "$$"
   ]
  },
  {
   "cell_type": "markdown",
   "metadata": {},
   "source": [
    "$$ \n",
    "\\sf \\mathbf{A}_v^T \\mathbf{v}_v + \\mathbf{A}_i^T \\mathbf{G}_{ii}^{-1}  \\left(- \\mathbf{G}_{iv} \\mathbf{v}_v + \\mathbf{T}_{i}\\mathbf{L} \\frac{d \\mathbf{i}_l}{dt} \\right)  =  \\mathbf{L} \\frac{d \\mathbf{i}_l}{dt} +  \\mathbf{R} \\mathbf{i}_l \n",
    "$$"
   ]
  },
  {
   "cell_type": "markdown",
   "metadata": {},
   "source": [
    "$$ \n",
    "\\sf \\left( \\mathbf{L} - \\mathbf{A}_i^T \\mathbf{G}_{ii}^{-1}  \\mathbf{T}_{i}\\mathbf{L}  \\right) \\frac{d \\mathbf{i}_l}{dt} = \\left( \\mathbf{A}_v^T  - \\mathbf{A}_i^T \\mathbf{G}_{ii}^{-1} \\mathbf{G}_{iv}  \\right) \\mathbf{v}_v - \\mathbf{R} \\mathbf{i}_l    \n",
    "$$"
   ]
  },
  {
   "cell_type": "markdown",
   "metadata": {},
   "source": [
    "$$ \n",
    "\\sf  \\mathbf{\\hat L} =  \\mathbf{L} - \\mathbf{A}_i^T \\mathbf{G}_{ii}^{-1}  \\mathbf{T}_{i}\\mathbf{L}  \n",
    "$$\n",
    "\n",
    "$$ \n",
    "\\sf  \\mathbf{G}_v = \\left( \\mathbf{A}_v^T  - \\mathbf{A}_i^T \\mathbf{G}_{ii}^{-1} \\mathbf{G}_{iv}  \\right)\n",
    "$$\n",
    "\n"
   ]
  },
  {
   "cell_type": "markdown",
   "metadata": {},
   "source": [
    "$$ \n",
    "\\sf \\frac{d \\mathbf{i}_l}{dt } = \\mathbf{\\hat L}^{-1} \\left( \\mathbf{G}_v \\mathbf{v}_v - \\mathbf{R} \\mathbf{i}_l \\right)\n",
    "$$"
   ]
  },
  {
   "cell_type": "code",
   "execution_count": 25,
   "metadata": {
    "collapsed": false
   },
   "outputs": [
    {
     "name": "stdout",
     "output_type": "stream",
     "text": [
      "The slowest run took 6423.23 times longer than the fastest. This could mean that an intermediate result is being cached.\n",
      "1 loop, best of 3: 265 µs per loop\n"
     ]
    }
   ],
   "source": [
    "import numba \n",
    "lines = [\n",
    "        {'bus_j': 'R1',  'bus_k': 'R2',  'code': 'UG1', 'm': 35.0, },\n",
    "        {'bus_j': 'R2',  'bus_k': 'R3',  'code': 'UG1', 'm': 35.0, },\n",
    "        {'bus_j': 'R3',  'bus_k': 'R4',  'code': 'UG1', 'm': 35.0, },\n",
    "        {'bus_j': 'R4',  'bus_k': 'R5',  'code': 'UG1', 'm': 35.0, },\n",
    "        {'bus_j': 'R5',  'bus_k': 'R6',  'code': 'UG1', 'm': 35.0, },\n",
    "        {'bus_j': 'R6',  'bus_k': 'R7',  'code': 'UG1', 'm': 35.0, },\n",
    "        {'bus_j': 'R7',  'bus_k': 'R8',  'code': 'UG1', 'm': 35.0, },\n",
    "        {'bus_j': 'R8',  'bus_k': 'R9',  'code': 'UG1', 'm': 35.0, },\n",
    "        {'bus_j': 'R9',  'bus_k': 'R10', 'code': 'UG1', 'm': 35.0, },\n",
    "        {'bus_j': 'R3',  'bus_k': 'R11', 'code': 'UG3', 'm': 30.0, },\n",
    "        {'bus_j': 'R4',  'bus_k': 'R12', 'code': 'UG3', 'm': 35.0, },\n",
    "        {'bus_j': 'R12', 'bus_k': 'R13', 'code': 'UG3', 'm': 35.0, },\n",
    "        {'bus_j': 'R13', 'bus_k': 'R14', 'code': 'UG3', 'm': 35.0, },\n",
    "        {'bus_j': 'R14', 'bus_k': 'R15', 'code': 'UG3', 'm': 30.0, },\n",
    "        {'bus_j': 'R6',  'bus_k': 'R16', 'code': 'UG3', 'm': 30.0, },\n",
    "        {'bus_j': 'R9',  'bus_k': 'R17', 'code': 'UG3', 'm': 30.0, },\n",
    "        ]\n",
    "\n",
    "loads = [\n",
    "         {'bus':1, 'type':'v','kV':[0.231]*3, 'deg':0.0, 'pos_x':0.0, 'pos_y':0},\n",
    "         {'bus':2, 'type':'i','A':[0.0]*3,'fp':[0.8]*3, 'pos_x':0.2, 'pos_y':0.0},\n",
    "         {'bus':3, 'type':'i','A':[0.0]*3,'fp':[1.0]*3, 'pos_x':0.4, 'pos_y':0},\n",
    "         {'bus':4, 'type':'i','A':[0.0]*3,'fp':[1.0]*3, 'pos_x':0.4, 'pos_y':-0.2},  \n",
    "         {'bus':5, 'type':'i','A':[-10.0]*3,'fp':[1.0]*3, 'pos_x':0.6, 'pos_y':0},   \n",
    "        ]\n",
    "\n",
    "vscs = [\n",
    "         {'bus':1, 'type':'v','kV':[0.231]*3, 'deg':0.0, 'pos_x':0.0, 'pos_y':0},\n",
    "         {'bus':2, 'type':'i','A':[0.0]*3,'fp':[0.8]*3, 'pos_x':0.2, 'pos_y':0.0},\n",
    "         {'bus':3, 'type':'i','A':[0.0]*3,'fp':[1.0]*3, 'pos_x':0.4, 'pos_y':0},\n",
    "         {'bus':4, 'type':'i','A':[0.0]*3,'fp':[1.0]*3, 'pos_x':0.4, 'pos_y':-0.2},  \n",
    "         {'bus':5, 'type':'i','A':[-10.0]*3,'fp':[1.0]*3, 'pos_x':0.6, 'pos_y':0},   \n",
    "        ]\n",
    "\n",
    "line_codes = {'OH1':np.array([[0.540 + 0.777j, 0.049 + 0.505j, 0.049 + 0.462j, 0.049 + 0.436j],\n",
    "                              [0.049 + 0.505j, 0.540 + 0.777j, 0.049 + 0.505j, 0.049 + 0.462j],\n",
    "                              [0.049 + 0.462j, 0.049 + 0.505j, 0.540 + 0.777j, 0.049 + 0.505j],\n",
    "                              [0.049 + 0.436j, 0.049 + 0.462j, 0.049 + 0.505j, 0.540 + 0.777j]]),\n",
    "              'OH2':np.array([[1.369 + 0.812j, 0.049 + 0.505j, 0.049 + 0.462j, 0.049 + 0.436j], \n",
    "                              [0.049 + 0.505j, 1.369 + 0.812j, 0.049 + 0.505j, 0.049 + 0.462j], \n",
    "                              [0.049 + 0.462j, 0.049 + 0.505j, 1.369 + 0.812j, 0.049 + 0.505j], \n",
    "                              [0.049 + 0.436j, 0.049 + 0.462j, 0.049 + 0.505j, 1.369 + 0.812j]]),\n",
    "              'OH3':np.array([[2.065 + 0.825j, 0.049 + 0.505j, 0.049 + 0.462j, 0.049 + 0.436j], \n",
    "                              [0.049 + 0.505j, 2.065 + 0.825j, 0.049 + 0.505j, 0.049 + 0.462j], \n",
    "                              [0.049 + 0.462j, 0.049 + 0.505j, 2.065 + 0.825j, 0.049 + 0.505j], \n",
    "                              [0.049 + 0.436j, 0.049 + 0.462j, 0.049 + 0.505j, 2.065 + 0.825j]]), \n",
    "              'UG1':np.array([[0.211 + 0.747j, 0.049 + 0.673j, 0.049 + 0.651j, 0.049 + 0.673j], \n",
    "                              [0.049 + 0.673j, 0.211 + 0.747j, 0.049 + 0.673j, 0.049 + 0.651j], \n",
    "                              [0.049 + 0.651j, 0.049 + 0.673j, 0.211 + 0.747j, 0.049 + 0.673j], \n",
    "                              [0.049 + 0.673j, 0.049 + 0.651j, 0.049 + 0.673j, 0.211 + 0.747j]]),\n",
    "              'UG2':np.array([[0.314 + 0.762j, 0.049 + 0.687j, 0.049 + 0.665j, 0.049 + 0.687j], \n",
    "                              [0.049 + 0.687j, 0.314 + 0.762j, 0.049 + 0.687j, 0.049 + 0.665j], \n",
    "                              [0.049 + 0.665j, 0.049 + 0.687j, 0.314 + 0.762j, 0.049 + 0.687j], \n",
    "                              [0.049 + 0.687j, 0.049 + 0.665j, 0.049 + 0.687j, 0.314 + 0.762j]]), \n",
    "              'UG3':np.array([[0.871 + 0.797j, 0.049 + 0.719j, 0.049 + 0.697j, 0.049 + 0.719j], \n",
    "                              [0.049 + 0.719j, 0.871 + 0.797j, 0.049 + 0.719j, 0.049 + 0.697j], \n",
    "                              [0.049 + 0.697j, 0.049 + 0.719j, 0.871 + 0.797j, 0.049 + 0.719j], \n",
    "                              [0.049 + 0.719j, 0.049 + 0.697j, 0.049 + 0.719j, 0.871 + 0.797j]]),\n",
    "              'EQU':np.array([[0.871 + 0.797j, 0.049 + 0.719j, 0.049 + 0.719j, 0.049 + 0.719j], \n",
    "                              [0.049 + 0.719j, 0.871 + 0.797j, 0.049 + 0.719j, 0.049 + 0.719j], \n",
    "                              [0.049 + 0.719j, 0.049 + 0.719j, 0.871 + 0.797j, 0.049 + 0.719j], \n",
    "                              [0.049 + 0.719j, 0.049 + 0.719j, 0.049 + 0.719j, 0.871 + 0.797j]]),\n",
    "             }\n",
    "\n",
    "sys = {'lines':lines,'vscs':vscs,'line_codes':line_codes}\n",
    "\n",
    "class system(object):\n",
    "    \n",
    "    def __init__(self):\n",
    "        self.max_iter = 25\n",
    "        \n",
    "        \n",
    "    def read_sys(self, sys):\n",
    "    \n",
    "        lines = sys['lines']\n",
    "        vscs = sys['vscs']\n",
    "        line_codes = sys['line_codes']\n",
    "\n",
    "        vsc_v_buses = []\n",
    "        vsc_i_buses = []\n",
    "        buses_id = []\n",
    "        buses_number = []\n",
    "        buses_number_i = []\n",
    "        buses_number_v = []\n",
    "        buses_number_pq = []\n",
    "        it_vsc = 0\n",
    "        it_vsc_i = 0\n",
    "        it_vsc_v = 0\n",
    "        V_known = []\n",
    "        known_1 = []\n",
    "        known_2 = []\n",
    "        buses_number_fixed_i = []\n",
    "        buses_number_fixed_pq = []\n",
    "        for vsc in vscs:\n",
    "            if vsc['type'] == 'v': \n",
    "                vsc_v_buses += [vsc['bus']]  #  buses with knowm v\n",
    "                buses_number_v += [it_vsc_v]\n",
    "                V_a = vsc['kV'][0]*1000.0*np.exp(1j*(np.deg2rad(vsc['deg']-0.0)))\n",
    "                V_b = vsc['kV'][1]*1000.0*np.exp(1j*(np.deg2rad(vsc['deg']-120.0)))\n",
    "                V_c =   vsc['kV'][2]*1000.0*np.exp(1j*(np.deg2rad(vsc['deg']-240.0)))\n",
    "                V_known += [V_a]\n",
    "                V_known += [V_b]\n",
    "                V_known += [V_c]\n",
    "                V_known += [V_a + V_b + V_c]\n",
    "                it_vsc_v += 1\n",
    "            if vsc['type'] == 'i': \n",
    "                vsc_i_buses += [vsc['bus']]  #  buses with knowm i\n",
    "                buses_number_i +=  [it_vsc_i]\n",
    "                buses_number_fixed_i += list(4*it_vsc_i+np.array([0,1,2,3]))\n",
    "                I_a = vsc['A'][0]\n",
    "                I_b = vsc['A'][1]\n",
    "                I_c = vsc['A'][2]\n",
    "                known_1 += [I_a, I_b, I_c, I_a + I_b + I_c]\n",
    "                known_2 += list(np.arccos(np.array(vsc['fp']))*np.sign(np.array(vsc['fp'])) ) \n",
    "                known_2 += [0.0]\n",
    "                it_vsc_i += 1\n",
    "            if vsc['type'] == 'pq':         #  buses with knowm pq \n",
    "                vsc_i_buses += [vsc['bus']]  \n",
    "                buses_number_i += [it_vsc_i]\n",
    "                buses_number_fixed_pq += list(4*it_vsc_i+np.array([0,1,2,3]))\n",
    "                p_a = vsc['kW'][0]\n",
    "                p_b = vsc['kW'][1]\n",
    "                p_c = vsc['kW'][2]\n",
    "                known_1 += [p_a, p_b, p_c, 0.0]\n",
    "                q_a = vsc['kvar'][0]\n",
    "                q_b = vsc['kvar'][1]\n",
    "                q_c = vsc['kvar'][2]\n",
    "                known_2 += [q_a, q_b, q_c, 0.0]\n",
    "                it_vsc_i += 1\n",
    "                \n",
    "            buses_id += [vsc['bus']]\n",
    "            buses_number += [it_vsc]\n",
    "            it_vsc += 1\n",
    "\n",
    "        sys.update({'vsc_v_buses':vsc_v_buses,'vsc_i_buses':vsc_i_buses, \n",
    "                    'buses_id_to_number':dict(zip(buses_id,buses_number)),\n",
    "                    'buses_id_to_number_v':dict(zip(vsc_v_buses,buses_number_v)),\n",
    "                    'buses_id_to_number_i':dict(zip(vsc_i_buses,buses_number_i)),\n",
    "                    'buses_number_fixed_i':np.array(buses_number_fixed_i).reshape(len(buses_number_fixed_i),),\n",
    "                    'buses_number_fixed_pq':np.array(buses_number_fixed_pq).reshape(len(buses_number_fixed_pq),),\n",
    "                    'v_known':np.array(V_known).reshape(len(V_known),1),\n",
    "                    'known_1':np.array(known_1).reshape(len(known_1),1),\n",
    "                    'known_2':np.array(known_2).reshape(len(known_2),1)})\n",
    "\n",
    "        buses_j = []\n",
    "        buses_k = []\n",
    "        for line in lines:    \n",
    "            buses_j += [line['bus_j']]\n",
    "            buses_k += [line['bus_k']]\n",
    "\n",
    "        sys.update({'line_buses_j':buses_j,'line_buses_k':buses_k})  # lines to buses\n",
    "\n",
    "\n",
    "\n",
    "        A_i_bus = np.zeros((len(sys['vsc_i_buses']),len(lines)))\n",
    "        A_v_bus = np.zeros((len(sys['vsc_v_buses']),len(lines)))\n",
    "\n",
    "        it_line = 0\n",
    "        it_j,it_k = 0,0\n",
    "        for line in lines:    \n",
    "            if line['bus_j'] in sys['vsc_v_buses']:\n",
    "                A_v_bus[sys['buses_id_to_number_v'][line['bus_j']],it_line] = 1\n",
    "                it_j += 1\n",
    "            if line['bus_k'] in sys['vsc_v_buses']:\n",
    "                A_v_bus[sys['buses_id_to_number_v'][line['bus_k']],it_line] = -1 \n",
    "                it_k += 1\n",
    "            it_line += 1\n",
    "\n",
    "        it_line = 0\n",
    "        it_j,it_k = 0,0   \n",
    "        for line in lines:    \n",
    "            if line['bus_j'] in sys['vsc_i_buses']:\n",
    "                A_i_bus[sys['buses_id_to_number_i'][line['bus_j']],it_line] = 1\n",
    "                it_j += 1\n",
    "            if line['bus_k'] in sys['vsc_i_buses']:\n",
    "                A_i_bus[sys['buses_id_to_number_i'][line['bus_k']],it_line] = -1 \n",
    "                it_k += 1\n",
    "            it_line += 1\n",
    "\n",
    "\n",
    "\n",
    "        Y_lines_list = []\n",
    "        for line in lines:          \n",
    "            Y_lines_list += [line_codes[line['code']]]\n",
    "\n",
    "        A_i = np.kron(A_i_bus,np.eye(4))   \n",
    "        A_v = np.kron(A_v_bus,np.eye(4))\n",
    "\n",
    "        Y_lines = diag_2d_inv(Y_lines_list)\n",
    "\n",
    "        Y_ii = A_i @ Y_lines @ A_i.T\n",
    "        Y_iv = A_i @ Y_lines @ A_v.T\n",
    "        Y_vv = A_v @ Y_lines @ A_v.T\n",
    "        Y_vi = A_v @ Y_lines @ A_i.T\n",
    "\n",
    "        sys.update({'A_i_ss':A_i,\n",
    "                    'A_v_ss':A_v,\n",
    "                    'Y_ii_ss':Y_ii,'Y_iv_ss':Y_iv,\n",
    "                    'Y_vi_ss':Y_vi,'Y_vv_ss':Y_vv})\n",
    "\n",
    "        self.A_i_ss = A_i\n",
    "        self.A_v_ss = A_v\n",
    "        \n",
    "        self.Y_ii_ss = Y_ii\n",
    "        self.Y_iv_ss = Y_iv\n",
    "        self.Y_vi_ss = Y_vi\n",
    "        self.Y_vv_ss = Y_vv\n",
    "        \n",
    "        # calculation:\n",
    "\n",
    "    #    V_known = sys['v_known']\n",
    "    #    I_m_known= sys['i_m_known']\n",
    "    #    phi_known = sys['phi_known']\n",
    "\n",
    "    #    I_known = I_m_known * np.exp(1j*(np.angle(V_known)+phi_known))\n",
    "    #    V_v =inv(Y_ii)@(I_known - Y_iv @ V_known)\n",
    "        #I_uk =Y_slack @ V_src + Y_sr @ V_uk\n",
    "\n",
    "\n",
    "        return sys    \n",
    "\n",
    "    \n",
    "@numba.jit(nopython=True)   \n",
    "def pf(V_known,known_1,known_2,i_fp_modes,pq_modes,Y_vv,Y_vi,Y_iv,Y_ii,V_unknown_0):\n",
    "    I_known = np.zeros((known_1.shape))+0j\n",
    "    max_iter = 25\n",
    "    \n",
    "    V_unknown = V_unknown_0\n",
    "    for it in range(max_iter):\n",
    "        if len(i_fp_modes)>0:\n",
    "            I_known[i_fp_modes] = known_1[i_fp_modes]*np.exp(1j*(np.angle(V_unknown[i_fp_modes]) + known_2[i_fp_modes]))\n",
    "        # if len(pq_modes)>0:\n",
    "        #    I_known[pq_modes] = 1000.0*np.conj((known_1[pq_modes] +1j*known_2[pq_modes])/V_unknown[pq_modes])\n",
    "\n",
    "        I_known[3::4] = I_known[0::4]+I_known[1::4]+I_known[2::4]\n",
    "        V_unknown =inv(Y_ii)@(I_known - Y_iv @ V_known)\n",
    "        \n",
    "        error = np.abs((V_unknown - V_unknown_0))\n",
    "        if np.max(error) < 1.0e-6: break\n",
    "        \n",
    "        V_unknown_0 = V_unknown\n",
    "\n",
    "    I_unknown =Y_vv @ V_known + Y_vi @ V_unknown\n",
    "    \n",
    "    return V_unknown,I_unknown,I_known,it\n",
    "    #return it        \n",
    "\n",
    "    \n",
    "    \n",
    "    \n",
    "sys_1 = system()\n",
    "sys_1.read_sys(sys)\n",
    "\n",
    "V_known = sys['v_known']\n",
    "known_1= sys['known_1']\n",
    "known_2 = sys['known_2']\n",
    "Y_vv = sys['Y_vv_ss']\n",
    "Y_vi = sys['Y_vi_ss']\n",
    "Y_iv = sys['Y_iv_ss']\n",
    "Y_ii = sys['Y_ii_ss']    \n",
    "i_fp_modes = sys['buses_number_fixed_i']\n",
    "pq_modes = sys['buses_number_fixed_pq']\n",
    "V_unknown_0 = np.ones(known_1.shape)*231.0+0j\n",
    "\n",
    "\n",
    "\n",
    "#    return V_unknown,I_unknown\n",
    "%timeit V_unknown,I_unknown,I_known,it = pf(V_known,known_1,known_2,i_fp_modes,pq_modes,Y_vv,Y_vi,Y_iv,Y_ii,V_unknown_0)\n",
    "\n",
    "V_unknown,I_unknown,I_known,it = pf(V_known,known_1,known_2,i_fp_modes,pq_modes,Y_vv,Y_vi,Y_iv,Y_ii,V_unknown_0)"
   ]
  },
  {
   "cell_type": "code",
   "execution_count": 26,
   "metadata": {
    "collapsed": false
   },
   "outputs": [
    {
     "data": {
      "text/plain": [
       "array([[ 0.99992585],\n",
       "       [-0.50974831],\n",
       "       [ 0.4895    ],\n",
       "       [ 0.6230975 ],\n",
       "       [ 0.99968877],\n",
       "       [-0.51986358],\n",
       "       [ 0.47848679],\n",
       "       [ 0.6230975 ],\n",
       "       [ 0.99968877],\n",
       "       [-0.51986358],\n",
       "       [ 0.47848679],\n",
       "       [ 0.6230975 ],\n",
       "       [-1.        ],\n",
       "       [-1.        ],\n",
       "       [-1.        ],\n",
       "       [ 0.07286796]])"
      ]
     },
     "execution_count": 26,
     "metadata": {},
     "output_type": "execute_result"
    }
   ],
   "source": [
    "np.cos(np.angle(I_known) - np.angle(V_unknown))"
   ]
  },
  {
   "cell_type": "code",
   "execution_count": 27,
   "metadata": {
    "collapsed": false
   },
   "outputs": [
    {
     "data": {
      "text/plain": [
       "array([[ 225.60669493],\n",
       "       [ 226.03592248],\n",
       "       [ 226.36560208],\n",
       "       [   0.57133118],\n",
       "       [ 220.24848169],\n",
       "       [ 221.10196631],\n",
       "       [ 221.76562893],\n",
       "       [   1.14266235],\n",
       "       [ 220.24848169],\n",
       "       [ 221.10196631],\n",
       "       [ 221.76562893],\n",
       "       [   1.14266235],\n",
       "       [ 214.92798485],\n",
       "       [ 216.20019372],\n",
       "       [ 217.20226773],\n",
       "       [   1.71399353]])"
      ]
     },
     "execution_count": 27,
     "metadata": {},
     "output_type": "execute_result"
    }
   ],
   "source": [
    "np.abs(V_unknown)"
   ]
  },
  {
   "cell_type": "code",
   "execution_count": 28,
   "metadata": {
    "collapsed": false
   },
   "outputs": [
    {
     "data": {
      "text/plain": [
       "[2, 3, 4, 5]"
      ]
     },
     "execution_count": 28,
     "metadata": {},
     "output_type": "execute_result"
    }
   ],
   "source": [
    "sys['vsc_i_buses']"
   ]
  },
  {
   "cell_type": "code",
   "execution_count": 29,
   "metadata": {
    "collapsed": false
   },
   "outputs": [
    {
     "data": {
      "text/plain": [
       "array([[  0.        ],\n",
       "       [  0.        ],\n",
       "       [  0.        ],\n",
       "       [  0.        ],\n",
       "       [  0.        ],\n",
       "       [  0.        ],\n",
       "       [  0.        ],\n",
       "       [  0.        ],\n",
       "       [  0.        ],\n",
       "       [  0.        ],\n",
       "       [  0.        ],\n",
       "       [  0.        ],\n",
       "       [ 10.        ],\n",
       "       [ 10.        ],\n",
       "       [ 10.        ],\n",
       "       [  0.02687683]])"
      ]
     },
     "execution_count": 29,
     "metadata": {},
     "output_type": "execute_result"
    }
   ],
   "source": [
    "np.abs(I_known)"
   ]
  },
  {
   "cell_type": "markdown",
   "metadata": {},
   "source": [
    "\n",
    "## Symmetrical components"
   ]
  },
  {
   "cell_type": "code",
   "execution_count": 42,
   "metadata": {
    "collapsed": false
   },
   "outputs": [],
   "source": [
    "import numpy as np\n",
    "inv = np.linalg.inv\n",
    "alpha = np.exp(1j*np.pi*2.0/3.0)"
   ]
  },
  {
   "cell_type": "code",
   "execution_count": 35,
   "metadata": {
    "collapsed": true
   },
   "outputs": [],
   "source": [
    "A_s = np.array([[1,       1,       1],\n",
    "                [1, alpha**2,   alpha],\n",
    "                [1,   alpha, alpha**2]])"
   ]
  },
  {
   "cell_type": "code",
   "execution_count": 36,
   "metadata": {
    "collapsed": false
   },
   "outputs": [
    {
     "data": {
      "text/plain": [
       "array([[ 1.0+0.j       ,  1.0+0.j       ,  1.0+0.j       ],\n",
       "       [ 1.0+0.j       , -0.5-0.8660254j, -0.5+0.8660254j],\n",
       "       [ 1.0+0.j       , -0.5+0.8660254j, -0.5-0.8660254j]])"
      ]
     },
     "execution_count": 36,
     "metadata": {},
     "output_type": "execute_result"
    }
   ],
   "source": [
    "A_s"
   ]
  },
  {
   "cell_type": "code",
   "execution_count": 43,
   "metadata": {
    "collapsed": false
   },
   "outputs": [
    {
     "data": {
      "text/plain": [
       "array([[  1.57699970e-01],\n",
       "       [  2.26002722e+02],\n",
       "       [  2.82298018e-01]])"
      ]
     },
     "execution_count": 43,
     "metadata": {},
     "output_type": "execute_result"
    }
   ],
   "source": [
    "np.abs(inv(A_s)  @ V_unknown[0:3])"
   ]
  },
  {
   "cell_type": "code",
   "execution_count": 34,
   "metadata": {
    "collapsed": false
   },
   "outputs": [
    {
     "data": {
      "text/plain": [
       "array([[ 225.58996699  -2.74728776j],\n",
       "       [-115.22143028-194.46403333j],\n",
       "       [-110.80596148+197.39155176j]])"
      ]
     },
     "execution_count": 34,
     "metadata": {},
     "output_type": "execute_result"
    }
   ],
   "source": [
    "V_unknown[0:3]"
   ]
  },
  {
   "cell_type": "code",
   "execution_count": 39,
   "metadata": {
    "collapsed": false
   },
   "outputs": [
    {
     "data": {
      "text/plain": [
       "array([[ 225.60669493],\n",
       "       [ 226.03592248],\n",
       "       [ 226.36560208]])"
      ]
     },
     "execution_count": 39,
     "metadata": {},
     "output_type": "execute_result"
    }
   ],
   "source": [
    "np.abs(V_unknown[0:3])"
   ]
  },
  {
   "cell_type": "code",
   "execution_count": 45,
   "metadata": {
    "collapsed": false
   },
   "outputs": [
    {
     "data": {
      "text/plain": [
       "array([[ 226.  +0.j        ],\n",
       "       [-113.-195.72174126j],\n",
       "       [-113.+195.72174126j]])"
      ]
     },
     "execution_count": 45,
     "metadata": {},
     "output_type": "execute_result"
    }
   ],
   "source": [
    "A_s  @ np.array([[0],[226],[0]])"
   ]
  },
  {
   "cell_type": "code",
   "execution_count": null,
   "metadata": {
    "collapsed": true
   },
   "outputs": [],
   "source": []
  }
 ],
 "metadata": {
  "anaconda-cloud": {},
  "kernelspec": {
   "display_name": "Python [default]",
   "language": "python",
   "name": "python3"
  },
  "language_info": {
   "codemirror_mode": {
    "name": "ipython",
    "version": 3
   },
   "file_extension": ".py",
   "mimetype": "text/x-python",
   "name": "python",
   "nbconvert_exporter": "python",
   "pygments_lexer": "ipython3",
   "version": "3.5.2"
  }
 },
 "nbformat": 4,
 "nbformat_minor": 1
}
