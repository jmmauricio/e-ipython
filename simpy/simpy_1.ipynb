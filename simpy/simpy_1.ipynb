{
 "cells": [
  {
   "cell_type": "code",
   "execution_count": 67,
   "metadata": {
    "collapsed": true
   },
   "outputs": [],
   "source": [
    "import simpy\n",
    "import random\n",
    "import numba"
   ]
  },
  {
   "cell_type": "code",
   "execution_count": 68,
   "metadata": {
    "collapsed": false
   },
   "outputs": [
    {
     "name": "stdout",
     "output_type": "stream",
     "text": [
      "now=4, value=42\n"
     ]
    }
   ],
   "source": [
    "def example(env):\n",
    "    value = yield env.timeout(random.gauss(5,1), value=42)\n",
    "    print('now=%d, value=%d' % (env.now, value))\n",
    "\n",
    "env = simpy.Environment()\n",
    "p = env.process(example(env))\n",
    "env.run()"
   ]
  },
  {
   "cell_type": "code",
   "execution_count": 85,
   "metadata": {
    "collapsed": false
   },
   "outputs": [
    {
     "ename": "ValueError",
     "evalue": "<_dynfunc._Generator object at 0x7f438657d930> is not a generator.",
     "output_type": "error",
     "traceback": [
      "\u001b[0;31m---------------------------------------------------------------------------\u001b[0m",
      "\u001b[0;31mValueError\u001b[0m                                Traceback (most recent call last)",
      "\u001b[0;32m<ipython-input-85-d050dbb5c419>\u001b[0m in \u001b[0;36m<module>\u001b[0;34m()\u001b[0m\n\u001b[1;32m      8\u001b[0m \u001b[0;34m\u001b[0m\u001b[0m\n\u001b[1;32m      9\u001b[0m \u001b[0menv\u001b[0m \u001b[0;34m=\u001b[0m \u001b[0msimpy\u001b[0m\u001b[0;34m.\u001b[0m\u001b[0mEnvironment\u001b[0m\u001b[0;34m(\u001b[0m\u001b[0;34m)\u001b[0m\u001b[0;34m\u001b[0m\u001b[0m\n\u001b[0;32m---> 10\u001b[0;31m \u001b[0mproc\u001b[0m \u001b[0;34m=\u001b[0m \u001b[0menv\u001b[0m\u001b[0;34m.\u001b[0m\u001b[0mprocess\u001b[0m\u001b[0;34m(\u001b[0m\u001b[0mexample\u001b[0m\u001b[0;34m(\u001b[0m\u001b[0menv\u001b[0m\u001b[0;34m)\u001b[0m\u001b[0;34m)\u001b[0m\u001b[0;34m\u001b[0m\u001b[0m\n\u001b[0m\u001b[1;32m     11\u001b[0m \u001b[0menv\u001b[0m\u001b[0;34m.\u001b[0m\u001b[0mrun\u001b[0m\u001b[0;34m(\u001b[0m\u001b[0muntil\u001b[0m\u001b[0;34m=\u001b[0m\u001b[0mproc\u001b[0m\u001b[0;34m)\u001b[0m\u001b[0;34m\u001b[0m\u001b[0m\n\u001b[1;32m     12\u001b[0m \u001b[0;32mimport\u001b[0m \u001b[0msimpy\u001b[0m\u001b[0;34m.\u001b[0m\u001b[0mrt\u001b[0m\u001b[0;34m\u001b[0m\u001b[0m\n",
      "\u001b[0;32m/home/jmmauricio/bin/anaconda3/lib/python3.5/site-packages/simpy/events.py\u001b[0m in \u001b[0;36m__init__\u001b[0;34m(self, env, generator)\u001b[0m\n\u001b[1;32m    309\u001b[0m             \u001b[0;31m# ``next`` in Python 2).\u001b[0m\u001b[0;34m\u001b[0m\u001b[0;34m\u001b[0m\u001b[0m\n\u001b[1;32m    310\u001b[0m             \u001b[0;31m# Remove this workaround if it causes issues in production!\u001b[0m\u001b[0;34m\u001b[0m\u001b[0;34m\u001b[0m\u001b[0m\n\u001b[0;32m--> 311\u001b[0;31m             \u001b[0;32mraise\u001b[0m \u001b[0mValueError\u001b[0m\u001b[0;34m(\u001b[0m\u001b[0;34m'%s is not a generator.'\u001b[0m \u001b[0;34m%\u001b[0m \u001b[0mgenerator\u001b[0m\u001b[0;34m)\u001b[0m\u001b[0;34m\u001b[0m\u001b[0m\n\u001b[0m\u001b[1;32m    312\u001b[0m \u001b[0;34m\u001b[0m\u001b[0m\n\u001b[1;32m    313\u001b[0m         \u001b[0;31m# NOTE: The following initialization code is inlined from\u001b[0m\u001b[0;34m\u001b[0m\u001b[0;34m\u001b[0m\u001b[0m\n",
      "\u001b[0;31mValueError\u001b[0m: <_dynfunc._Generator object at 0x7f438657d930> is not a generator."
     ]
    }
   ],
   "source": [
    "import time\n",
    "@numba.jit\n",
    "def example(env):\n",
    "    start = time.perf_counter()\n",
    "    yield env.timeout(1)\n",
    "    end = time.perf_counter()\n",
    "    print('Duration of one simulation time unit: %.2fs' % (end - start))\n",
    "\n",
    "env = simpy.Environment()\n",
    "proc = env.process(example(env))\n",
    "env.run(until=proc)\n",
    "import simpy.rt\n",
    "env = simpy.rt.RealtimeEnvironment(factor=1)\n",
    "proc = env.process(example(env))\n",
    "env.run()"
   ]
  },
  {
   "cell_type": "code",
   "execution_count": 84,
   "metadata": {
    "collapsed": false
   },
   "outputs": [
    {
     "data": {
      "text/plain": [
       "<_dynfunc._Generator at 0x7f43866e0b88>"
      ]
     },
     "execution_count": 84,
     "metadata": {},
     "output_type": "execute_result"
    }
   ],
   "source": [
    "@numba.jit\n",
    "def gen(x, y):\n",
    "    yield x + y\n",
    "    yield x - y\n",
    "\n",
    "gen(2,3)"
   ]
  },
  {
   "cell_type": "code",
   "execution_count": 82,
   "metadata": {
    "collapsed": false
   },
   "outputs": [
    {
     "ename": "TypeError",
     "evalue": "'NoneType' object is not callable",
     "output_type": "error",
     "traceback": [
      "\u001b[0;31m---------------------------------------------------------------------------\u001b[0m",
      "\u001b[0;31mTypeError\u001b[0m                                 Traceback (most recent call last)",
      "\u001b[0;32m<ipython-input-82-c74d1dd78e5a>\u001b[0m in \u001b[0;36m<module>\u001b[0;34m()\u001b[0m\n\u001b[0;32m----> 1\u001b[0;31m \u001b[0ma\u001b[0m\u001b[0;34m.\u001b[0m\u001b[0mgi_yieldfrom\u001b[0m\u001b[0;34m(\u001b[0m\u001b[0;34m)\u001b[0m\u001b[0;34m\u001b[0m\u001b[0m\n\u001b[0m",
      "\u001b[0;31mTypeError\u001b[0m: 'NoneType' object is not callable"
     ]
    }
   ],
   "source": [
    "a.gi_yieldfrom()"
   ]
  },
  {
   "cell_type": "code",
   "execution_count": 46,
   "metadata": {
    "collapsed": false
   },
   "outputs": [
    {
     "name": "stdout",
     "output_type": "stream",
     "text": [
      "Process communication\n",
      "\n",
      "One-to-one pipe communication\n",
      "\n",
      "at time 0: Consumer A received message: Generator A says hello at 0.\n",
      "LATE Getting Message: at time 6: Consumer A received message: Generator A says hello at 1\n",
      "LATE Getting Message: at time 10: Consumer A received message: Generator A says hello at 1\n",
      "LATE Getting Message: at time 18: Consumer A received message: Generator A says hello at 2\n",
      "LATE Getting Message: at time 23: Consumer A received message: Generator A says hello at 3\n",
      "LATE Getting Message: at time 27: Consumer A received message: Generator A says hello at 3\n",
      "LATE Getting Message: at time 33: Consumer A received message: Generator A says hello at 4\n",
      "LATE Getting Message: at time 39: Consumer A received message: Generator A says hello at 5\n",
      "LATE Getting Message: at time 45: Consumer A received message: Generator A says hello at 6\n",
      "LATE Getting Message: at time 51: Consumer A received message: Generator A says hello at 7\n",
      "LATE Getting Message: at time 56: Consumer A received message: Generator A says hello at 8\n",
      "LATE Getting Message: at time 60: Consumer A received message: Generator A says hello at 8\n",
      "LATE Getting Message: at time 64: Consumer A received message: Generator A says hello at 9\n",
      "LATE Getting Message: at time 71: Consumer A received message: Generator A says hello at 9\n",
      "LATE Getting Message: at time 78: Consumer A received message: Generator A says hello at 10\n",
      "LATE Getting Message: at time 82: Consumer A received message: Generator A says hello at 11\n",
      "LATE Getting Message: at time 86: Consumer A received message: Generator A says hello at 12\n",
      "LATE Getting Message: at time 94: Consumer A received message: Generator A says hello at 13\n",
      "LATE Getting Message: at time 99: Consumer A received message: Generator A says hello at 14\n",
      "\n",
      "One-to-many pipe communication\n",
      "\n",
      "at time 1: Consumer A received message: Generator A says hello at 1.\n",
      "at time 1: Consumer B received message: Generator A says hello at 1.\n",
      "LATE Getting Message: at time 6: Consumer A received message: Generator A says hello at 2\n",
      "LATE Getting Message: at time 6: Consumer B received message: Generator A says hello at 2\n",
      "LATE Getting Message: at time 12: Consumer B received message: Generator A says hello at 2\n",
      "LATE Getting Message: at time 14: Consumer A received message: Generator A says hello at 2\n",
      "LATE Getting Message: at time 16: Consumer B received message: Generator A says hello at 3\n",
      "LATE Getting Message: at time 18: Consumer A received message: Generator A says hello at 3\n",
      "LATE Getting Message: at time 23: Consumer B received message: Generator A says hello at 4\n",
      "LATE Getting Message: at time 24: Consumer A received message: Generator A says hello at 4\n",
      "LATE Getting Message: at time 29: Consumer B received message: Generator A says hello at 5\n",
      "LATE Getting Message: at time 30: Consumer A received message: Generator A says hello at 5\n",
      "LATE Getting Message: at time 33: Consumer B received message: Generator A says hello at 6\n",
      "LATE Getting Message: at time 34: Consumer A received message: Generator A says hello at 6\n",
      "LATE Getting Message: at time 38: Consumer B received message: Generator A says hello at 7\n",
      "LATE Getting Message: at time 38: Consumer A received message: Generator A says hello at 7\n",
      "LATE Getting Message: at time 43: Consumer A received message: Generator A says hello at 7\n",
      "LATE Getting Message: at time 46: Consumer B received message: Generator A says hello at 7\n",
      "LATE Getting Message: at time 51: Consumer A received message: Generator A says hello at 8\n",
      "LATE Getting Message: at time 51: Consumer B received message: Generator A says hello at 8\n",
      "LATE Getting Message: at time 55: Consumer B received message: Generator A says hello at 9\n",
      "LATE Getting Message: at time 58: Consumer A received message: Generator A says hello at 9\n",
      "LATE Getting Message: at time 60: Consumer B received message: Generator A says hello at 9\n",
      "LATE Getting Message: at time 63: Consumer A received message: Generator A says hello at 9\n",
      "LATE Getting Message: at time 67: Consumer B received message: Generator A says hello at 10\n",
      "LATE Getting Message: at time 67: Consumer A received message: Generator A says hello at 10\n",
      "LATE Getting Message: at time 72: Consumer B received message: Generator A says hello at 11\n",
      "LATE Getting Message: at time 74: Consumer A received message: Generator A says hello at 11\n",
      "LATE Getting Message: at time 79: Consumer B received message: Generator A says hello at 11\n",
      "LATE Getting Message: at time 81: Consumer A received message: Generator A says hello at 11\n",
      "LATE Getting Message: at time 85: Consumer B received message: Generator A says hello at 12\n",
      "LATE Getting Message: at time 89: Consumer A received message: Generator A says hello at 12\n",
      "LATE Getting Message: at time 92: Consumer B received message: Generator A says hello at 13\n",
      "LATE Getting Message: at time 93: Consumer A received message: Generator A says hello at 13\n",
      "LATE Getting Message: at time 97: Consumer B received message: Generator A says hello at 14\n",
      "LATE Getting Message: at time 97: Consumer A received message: Generator A says hello at 14\n"
     ]
    }
   ],
   "source": [
    "\"\"\"\n",
    "Process communication example\n",
    "\n",
    "Covers:\n",
    "\n",
    "- Resources: Store\n",
    "\n",
    "Scenario:\n",
    "  This example shows how to interconnect simulation model elements\n",
    "  together using :class:`~simpy.resources.store.Store` for one-to-one,\n",
    "  and many-to-one asynchronous processes. For one-to-many a simple\n",
    "  BroadCastPipe class is constructed from Store.\n",
    "\n",
    "When Useful:\n",
    "  When a consumer process does not always wait on a generating process\n",
    "  and these processes run asynchronously. This example shows how to\n",
    "  create a buffer and also tell is the consumer process was late\n",
    "  yielding to the event from a generating process.\n",
    "\n",
    "  This is also useful when some information needs to be broadcast to\n",
    "  many receiving processes\n",
    "\n",
    "  Finally, using pipes can simplify how processes are interconnected to\n",
    "  each other in a simulation model.\n",
    "\n",
    "Example By:\n",
    "  Keith Smith\n",
    "\n",
    "\"\"\"\n",
    "import random\n",
    "\n",
    "import simpy\n",
    "\n",
    "\n",
    "RANDOM_SEED = 42\n",
    "SIM_TIME = 100\n",
    "\n",
    "\n",
    "class BroadcastPipe(object):\n",
    "    \"\"\"A Broadcast pipe that allows one process to send messages to many.\n",
    "\n",
    "    This construct is useful when message consumers are running at\n",
    "    different rates than message generators and provides an event\n",
    "    buffering to the consuming processes.\n",
    "\n",
    "    The parameters are used to create a new\n",
    "    :class:`~simpy.resources.store.Store` instance each time\n",
    "    :meth:`get_output_conn()` is called.\n",
    "\n",
    "    \"\"\"\n",
    "    def __init__(self, env, capacity=simpy.core.Infinity):\n",
    "        self.env = env\n",
    "        self.capacity = capacity\n",
    "        self.pipes = []\n",
    "\n",
    "    def put(self, value):\n",
    "        \"\"\"Broadcast a *value* to all receivers.\"\"\"\n",
    "        if not self.pipes:\n",
    "            raise RuntimeError('There are no output pipes.')\n",
    "        events = [store.put(value) for store in self.pipes]\n",
    "        return self.env.all_of(events)  # Condition event for all \"events\"\n",
    "\n",
    "    def get_output_conn(self):\n",
    "        \"\"\"Get a new output connection for this broadcast pipe.\n",
    "\n",
    "        The return value is a :class:`~simpy.resources.store.Store`.\n",
    "\n",
    "        \"\"\"\n",
    "        pipe = simpy.Store(self.env, capacity=self.capacity)\n",
    "        self.pipes.append(pipe)\n",
    "        return pipe\n",
    "\n",
    "\n",
    "def message_generator(name, env, out_pipe):\n",
    "    \"\"\"A process which randomly generates messages.\"\"\"\n",
    "    while True:\n",
    "        # wait for next transmission\n",
    "        yield env.timeout(random.randint(6, 10)/10)\n",
    "\n",
    "        # messages are time stamped to later check if the consumer was\n",
    "        # late getting them.  Note, using event.triggered to do this may\n",
    "        # result in failure due to FIFO nature of simulation yields.\n",
    "        # (i.e. if at the same env.now, message_generator puts a message\n",
    "        # in the pipe first and then message_consumer gets from pipe,\n",
    "        # the event.triggered will be True in the other order it will be\n",
    "        # False\n",
    "        msg = (env.now, '%s says hello at %d' % (name, env.now))\n",
    "        out_pipe.put(msg)\n",
    "\n",
    "\n",
    "def message_consumer(name, env, in_pipe):\n",
    "    \"\"\"A process which consumes messages.\"\"\"\n",
    "    while True:\n",
    "        # Get event for message pipe\n",
    "        msg = yield in_pipe.get()\n",
    "\n",
    "        if msg[0] < env.now:\n",
    "            # if message was already put into pipe, then\n",
    "            # message_consumer was late getting to it. Depending on what\n",
    "            # is being modeled this, may, or may not have some\n",
    "            # significance\n",
    "            print('LATE Getting Message: at time %d: %s received message: %s' %\n",
    "                  (env.now, name, msg[1]))\n",
    "\n",
    "        else:\n",
    "            # message_consumer is synchronized with message_generator\n",
    "            print('at time %d: %s received message: %s.' %\n",
    "                  (env.now, name, msg[1]))\n",
    "\n",
    "        # Process does some other work, which may result in missing messages\n",
    "        yield env.timeout(random.randint(4, 8))\n",
    "\n",
    "\n",
    "# Setup and start the simulation\n",
    "print('Process communication')\n",
    "random.seed(RANDOM_SEED)\n",
    "env = simpy.Environment()\n",
    "\n",
    "# For one-to-one or many-to-one type pipes, use Store\n",
    "pipe = simpy.Store(env)\n",
    "env.process(message_generator('Generator A', env, pipe))\n",
    "env.process(message_consumer('Consumer A', env, pipe))\n",
    "\n",
    "print('\\nOne-to-one pipe communication\\n')\n",
    "env.run(until=SIM_TIME)\n",
    "\n",
    "# For one-to many use BroadcastPipe\n",
    "# (Note: could also be used for one-to-one,many-to-one or many-to-many)\n",
    "env = simpy.Environment()\n",
    "bc_pipe = BroadcastPipe(env)\n",
    "\n",
    "env.process(message_generator('Generator A', env, bc_pipe))\n",
    "env.process(message_consumer('Consumer A', env, bc_pipe.get_output_conn()))\n",
    "env.process(message_consumer('Consumer B', env, bc_pipe.get_output_conn()))\n",
    "\n",
    "print('\\nOne-to-many pipe communication\\n')\n",
    "env.run(until=SIM_TIME)\n"
   ]
  },
  {
   "cell_type": "code",
   "execution_count": 3,
   "metadata": {
    "collapsed": false
   },
   "outputs": [
    {
     "data": {
      "text/plain": [
       "8"
      ]
     },
     "execution_count": 3,
     "metadata": {},
     "output_type": "execute_result"
    }
   ],
   "source": [
    "random.randint(6, 10)"
   ]
  },
  {
   "cell_type": "code",
   "execution_count": null,
   "metadata": {
    "collapsed": true
   },
   "outputs": [],
   "source": []
  }
 ],
 "metadata": {
  "anaconda-cloud": {},
  "kernelspec": {
   "display_name": "Python [conda root]",
   "language": "python",
   "name": "conda-root-py"
  },
  "language_info": {
   "codemirror_mode": {
    "name": "ipython",
    "version": 3
   },
   "file_extension": ".py",
   "mimetype": "text/x-python",
   "name": "python",
   "nbconvert_exporter": "python",
   "pygments_lexer": "ipython3",
   "version": "3.5.2"
  }
 },
 "nbformat": 4,
 "nbformat_minor": 1
}
