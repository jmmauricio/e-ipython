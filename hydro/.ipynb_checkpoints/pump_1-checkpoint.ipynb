{
 "cells": [
  {
   "cell_type": "code",
   "execution_count": 44,
   "metadata": {
    "collapsed": false
   },
   "outputs": [],
   "source": [
    "import numpy as np\n",
    "import matplotlib.pyplot as plt\n",
    "from scipy import constants as ctes\n",
    "from scipy import interpolate\n",
    "%matplotlib inline"
   ]
  },
  {
   "cell_type": "code",
   "execution_count": 51,
   "metadata": {
    "collapsed": false
   },
   "outputs": [],
   "source": [
    "Q = np.array([50.0,100.0,150.0,200.0,250.0,275.0,300.0])/3600.0 # m3/s\n",
    "H = np.array([53.0,50.0,47.0,42.5,36.0,32.0,27.5])\n",
    "P_mec = np.array([35.0,38.0,40.5,43.0,45.5,46.5,48])*ctes.hp\n",
    "rho = 997.0 #kg/m3\n",
    "g = 9.81 \n",
    "gamma = rho*g # N/m3\n",
    "\n",
    "P_h = gamma*Q*H\n",
    "rend = P_h/P_mec\n",
    "\n",
    "QH = interpolate.InterpolatedUnivariateSpline(Q, H)\n",
    "QP_mec = interpolate.InterpolatedUnivariateSpline(Q, P_mec)"
   ]
  },
  {
   "cell_type": "code",
   "execution_count": 56,
   "metadata": {
    "collapsed": false
   },
   "outputs": [
    {
     "name": "stderr",
     "output_type": "stream",
     "text": [
      "/home/jmmauricio/bin/anaconda3/lib/python3.4/site-packages/matplotlib/figure.py:387: UserWarning: matplotlib is currently using a non-GUI backend, so cannot show the figure\n",
      "  \"matplotlib is currently using a non-GUI backend, \"\n"
     ]
    },
    {
     "data": {
      "image/png": "[encoded data removed]",
      "text/plain": [
       "<matplotlib.figure.Figure at 0x7f139efc66d8>"
      ]
     },
     "metadata": {},
     "output_type": "display_data"
    }
   ],
   "source": [
    "Q_new = np.linspace(50.,300.0,100)/3600\n",
    "fig, (ax0,ax1,ax_rend) = plt.subplots(nrows=3)   # creates a figure with one axe\n",
    "\n",
    "ax0.plot(Q,H)\n",
    "ax0.plot(Q_new,QH(Q_new))\n",
    "ax1.plot(Q,P_mec)\n",
    "ax1.plot(Q_new,QP_mec(Q_new))\n",
    "ax_rend.plot(Q,rend)\n",
    "ax_rend.plot(Q_new,  gamma*Q_new*QH(Q_new)/QP_mec(Q_new))\n",
    "fig.show()\n",
    "\n"
   ]
  },
  {
   "cell_type": "code",
   "execution_count": 41,
   "metadata": {
    "collapsed": false
   },
   "outputs": [
    {
     "data": {
      "text/plain": [
       "array([ 0.27585155,  0.47938452,  0.63420796,  0.72019163,  0.72065717,\n",
       "        0.68948896,  0.62619603])"
      ]
     },
     "execution_count": 41,
     "metadata": {},
     "output_type": "execute_result"
    }
   ],
   "source": [
    "def rend(Q,omega):\n",
    "    omega_n = 2400.0\n",
    "    Q = omega/omega_n\n",
    "    H = (omega/omega_n)**2\n",
    "    P_mec = (omega/omega_n)**3\n",
    "    \n",
    "    return gamma*Q_new*QH(Q_new)/QP_mec(Q_new)\n",
    "    \n",
    "\n",
    "    \n",
    "    "
   ]
  },
  {
   "cell_type": "code",
   "execution_count": 57,
   "metadata": {
    "collapsed": false
   },
   "outputs": [
    {
     "data": {
      "text/plain": [
       "array([ 0.01388889,  0.02777778,  0.04166667,  0.05555556,  0.06944444,\n",
       "        0.07638889,  0.08333333])"
      ]
     },
     "execution_count": 57,
     "metadata": {},
     "output_type": "execute_result"
    }
   ],
   "source": [
    "Q"
   ]
  },
  {
   "cell_type": "code",
   "execution_count": 25,
   "metadata": {
    "collapsed": false
   },
   "outputs": [
    {
     "data": {
      "text/plain": [
       "array([ 0.9927031 ,  1.72515434,  2.28231529,  2.59174349,  2.59341883,\n",
       "        2.48125424,  2.25348285])"
      ]
     },
     "execution_count": 25,
     "metadata": {},
     "output_type": "execute_result"
    }
   ],
   "source": [
    "P_h/P_mec"
   ]
  },
  {
   "cell_type": "code",
   "execution_count": 30,
   "metadata": {
    "collapsed": false
   },
   "outputs": [
    {
     "data": {
      "text/plain": [
       "2.7576825439646218"
      ]
     },
     "execution_count": 30,
     "metadata": {},
     "output_type": "execute_result"
    }
   ],
   "source": [
    "9.8/(50.0*53.0)*ctes.hp"
   ]
  },
  {
   "cell_type": "code",
   "execution_count": 34,
   "metadata": {
    "collapsed": true
   },
   "outputs": [],
   "source": [
    "rho = 997.0 #kg/m3\n",
    "g = 9.81\n",
    "gamma = rho*g"
   ]
  },
  {
   "cell_type": "code",
   "execution_count": 35,
   "metadata": {
    "collapsed": false
   },
   "outputs": [
    {
     "data": {
      "text/plain": [
       "9780.57"
      ]
     },
     "execution_count": 35,
     "metadata": {},
     "output_type": "execute_result"
    }
   ],
   "source": [
    "gamma"
   ]
  },
  {
   "cell_type": "code",
   "execution_count": 37,
   "metadata": {
    "collapsed": false
   },
   "outputs": [
    {
     "data": {
      "text/plain": [
       "array([ 25918510.5,  48902850. ,  68953018.5,  83134845. ,  88025130. ,\n",
       "        86069016. ,  80689702.5])"
      ]
     },
     "execution_count": 37,
     "metadata": {},
     "output_type": "execute_result"
    }
   ],
   "source": [
    "P_h"
   ]
  },
  {
   "cell_type": "code",
   "execution_count": null,
   "metadata": {
    "collapsed": true
   },
   "outputs": [],
   "source": [
    "\n"
   ]
  }
 ],
 "metadata": {
  "kernelspec": {
   "display_name": "Python 3",
   "language": "python",
   "name": "python3"
  },
  "language_info": {
   "codemirror_mode": {
    "name": "ipython",
    "version": 3
   },
   "file_extension": ".py",
   "mimetype": "text/x-python",
   "name": "python",
   "nbconvert_exporter": "python",
   "pygments_lexer": "ipython3",
   "version": "3.4.3"
  }
 },
 "nbformat": 4,
 "nbformat_minor": 0
}
