{
 "cells": [
  {
   "cell_type": "markdown",
   "metadata": {},
   "source": [
    "https://docs.scipy.org/doc/scipy-0.15.1/reference/signal.html"
   ]
  },
  {
   "cell_type": "code",
   "execution_count": 12,
   "metadata": {
    "collapsed": false
   },
   "outputs": [],
   "source": [
    "%matplotlib inline\n",
    "import scipy.signal as ctrl\n",
    "import matplotlib.pyplot as plt\n",
    "import numpy as np"
   ]
  },
  {
   "cell_type": "markdown",
   "metadata": {},
   "source": [
    "$$ \\sf T_W = \\frac{L \\cdot Q}{g \\cdot A \\cdot H}  \\;\\;\\; (s)$$\n",
    "\n",
    "* $\\sf  \\Delta g$: Incremento de posición de la compuerta/válvula $\\sf  (pu)$\n",
    "* $\\sf  \\Delta p$: Incremento de potencia mecánica $\\sf  (pu)$\n",
    "* $\\sf  H$: Altura a nivel de carga inicial $\\sf (m)$\t\n",
    "* $\\sf  Q$:  Caudal a nivel de carga inicial $\\sf( m^{3}/s)$\n",
    "* $\\sf  L$:  Longitud de la tubería $\\sf (m)$\t\n",
    "* $\\sf  g$: Aceleración de la gravedad $\\sf  (m/s^{2})$\t\t\n",
    "* $\\sf  A$:  Sección de la  tubería $\\sf  (m^{2})$\t\t\n"
   ]
  },
  {
   "cell_type": "code",
   "execution_count": 92,
   "metadata": {
    "collapsed": false
   },
   "outputs": [
    {
     "data": {
      "text/plain": [
       "[<matplotlib.lines.Line2D at 0xab3e7d0>]"
      ]
     },
     "execution_count": 92,
     "metadata": {},
     "output_type": "execute_result"
    },
    {
     "data": {
      "image/png": "[encoded data removed]",
      "text/plain": [
       "<matplotlib.figure.Figure at 0x9701f10>"
      ]
     },
     "metadata": {},
     "output_type": "display_data"
    }
   ],
   "source": [
    "rho_agua=1000.0 # kg/m^3\n",
    "K=2.074e9 # N/m^2\n",
    "Q = 10.0 # m/s\n",
    "H = 200.0 # m\n",
    "L = 300.0 # m\n",
    "R = 0.3 # m\n",
    "A = np.pi*R**2 #\n",
    "g = 9.81 # m/s**2\n",
    "\n",
    "T_w = L*Q/(g*A*H)\n",
    "#T_w = 10.0\n",
    "G =ctrl.lti([-T_w, 1],[0.5*T_w,1])\n",
    "\n",
    "t,y = ctrl.step(G)\n",
    "\n",
    "plt.plot(t,y)\n",
    "t = [0.0,1.0,20.0,100.0]\n",
    "u = [0.0,0.0,1.0,1.0]\n",
    "\n",
    "time = np.arange(0.0,50.0,0.01)\n",
    "u_vector = np.interp(time,t,u)\n",
    "\n",
    "t_out,y_out,x_out= ctrl.lsim(G,u_vector,time)\n",
    "plt.close('all')\n",
    "plt.plot(t_out,y_out)\n",
    "#plt.plot(time,u_vector)\n"
   ]
  },
  {
   "cell_type": "code",
   "execution_count": 74,
   "metadata": {
    "collapsed": false
   },
   "outputs": [
    {
     "name": "stdout",
     "output_type": "stream",
     "text": [
      "velocidad de propagación: 1041.9 m/s\n"
     ]
    }
   ],
   "source": [
    "import numpy as np\n",
    "rho = 1000.0\n",
    "# ejercicio página 403\n",
    "e_1 = 1.0 # mm\n",
    "e_2 = 60.0 # mm\n",
    "\n",
    "K = 2.03e9\n",
    "c_agua = np.sqrt(K/rho)\n",
    "# k=10.0e10/K_p\n",
    "\n",
    "k_1 = 0.5\n",
    "k_2 = 5.0\n",
    "\n",
    "K_1_p = 10.0e10/k_1\n",
    "K_2_p = 10.0e10/k_2\n",
    "\n",
    "e = e_1 + K_2_p/K_1_p*e_2\n",
    "\n",
    "K_p = K_1_p\n",
    "\n",
    "D= 600.0 # mm\n",
    "\n",
    "\n",
    "c = np.sqrt(K/rho)/np.sqrt(1+K/K_p*D/e)\n",
    "\n",
    "print 'velocidad de propagación: {:2.1f} m/s'.format(c)"
   ]
  },
  {
   "cell_type": "code",
   "execution_count": 42,
   "metadata": {
    "collapsed": false
   },
   "outputs": [
    {
     "data": {
      "text/plain": [
       "108.15830315453302"
      ]
     },
     "execution_count": 42,
     "metadata": {},
     "output_type": "execute_result"
    }
   ],
   "source": [
    "T_w"
   ]
  },
  {
   "cell_type": "code",
   "execution_count": 79,
   "metadata": {
    "collapsed": false
   },
   "outputs": [
    {
     "data": {
      "text/plain": [
       "array([  0.        ,   0.19118892,   0.38237784,   0.57356676,\n",
       "         0.76475568,   0.9559446 ,   1.14713352,   1.33832244,\n",
       "         1.52951136,   1.72070028,   1.9118892 ,   2.10307812,\n",
       "         2.29426704,   2.48545596,   2.67664488,   2.8678338 ,\n",
       "         3.05902272,   3.25021164,   3.44140055,   3.63258947,\n",
       "         3.82377839,   4.01496731,   4.20615623,   4.39734515,\n",
       "         4.58853407,   4.77972299,   4.97091191,   5.16210083,\n",
       "         5.35328975,   5.54447867,   5.73566759,   5.92685651,\n",
       "         6.11804543,   6.30923435,   6.50042327,   6.69161219,\n",
       "         6.88280111,   7.07399003,   7.26517895,   7.45636787,\n",
       "         7.64755679,   7.83874571,   8.02993463,   8.22112355,\n",
       "         8.41231247,   8.60350139,   8.79469031,   8.98587923,\n",
       "         9.17706815,   9.36825707,   9.55944599,   9.75063491,\n",
       "         9.94182383,  10.13301275,  10.32420166,  10.51539058,\n",
       "        10.7065795 ,  10.89776842,  11.08895734,  11.28014626,\n",
       "        11.47133518,  11.6625241 ,  11.85371302,  12.04490194,\n",
       "        12.23609086,  12.42727978,  12.6184687 ,  12.80965762,\n",
       "        13.00084654,  13.19203546,  13.38322438,  13.5744133 ,\n",
       "        13.76560222,  13.95679114,  14.14798006,  14.33916898,\n",
       "        14.5303579 ,  14.72154682,  14.91273574,  15.10392466,\n",
       "        15.29511358,  15.4863025 ,  15.67749142,  15.86868034,\n",
       "        16.05986926,  16.25105818,  16.4422471 ,  16.63343602,\n",
       "        16.82462494,  17.01581385,  17.20700277,  17.39819169,\n",
       "        17.58938061,  17.78056953,  17.97175845,  18.16294737,\n",
       "        18.35413629,  18.54532521,  18.73651413,  18.92770305])"
      ]
     },
     "execution_count": 79,
     "metadata": {},
     "output_type": "execute_result"
    }
   ],
   "source": [
    "t"
   ]
  },
  {
   "cell_type": "code",
   "execution_count": null,
   "metadata": {
    "collapsed": false
   },
   "outputs": [],
   "source": []
  }
 ],
 "metadata": {
  "anaconda-cloud": {},
  "kernelspec": {
   "display_name": "Python [default]",
   "language": "python",
   "name": "python3"
  },
  "language_info": {
   "codemirror_mode": {
    "name": "ipython",
    "version": 3
   },
   "file_extension": ".py",
   "mimetype": "text/x-python",
   "name": "python",
   "nbconvert_exporter": "python",
   "pygments_lexer": "ipython3",
   "version": "3.5.2"
  }
 },
 "nbformat": 4,
 "nbformat_minor": 0
}
