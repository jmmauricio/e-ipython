{
 "cells": [
  {
   "cell_type": "code",
   "execution_count": 2,
   "metadata": {
    "collapsed": false,
    "scrolled": true
   },
   "outputs": [
    {
     "name": "stdout",
     "output_type": "stream",
     "text": [
      "WARNING: Implicitly replacing the Component attribute obj (type=<class 'pyomo.core.base.objective.SimpleObjective'>) on block unknown with a new Component (type=<class 'pyomo.core.base.objective.SimpleObjective'>).\n",
      "\tThis is usually indicative of a modelling error.\n",
      "\tTo avoid this warning, use block.del_component() and block.add_component().\n",
      "WARNING: DEPRECATION WARNING: Transformation.apply() has been deprecated.\n",
      "\tPlease use either Transformation.apply_to() for in-place transformations\n",
      "\tor Transformation.create_using() for transformations that create a new,\n",
      "\tindependent transformed model instance.\n"
     ]
    },
    {
     "ename": "AttributeError",
     "evalue": "'NoneType' object has no attribute '_transformation_data'",
     "output_type": "error",
     "traceback": [
      "\u001b[1;31m---------------------------------------------------------------------------\u001b[0m",
      "\u001b[1;31mAttributeError\u001b[0m                            Traceback (most recent call last)",
      "\u001b[1;32m<ipython-input-2-f8f6c6751830>\u001b[0m in \u001b[0;36m<module>\u001b[1;34m()\u001b[0m\n\u001b[0;32m     74\u001b[0m \u001b[0mopt\u001b[0m\u001b[1;33m=\u001b[0m\u001b[0mSolverFactory\u001b[0m\u001b[1;33m(\u001b[0m\u001b[0msolver\u001b[0m\u001b[1;33m)\u001b[0m\u001b[1;33m\u001b[0m\u001b[0m\n\u001b[0;32m     75\u001b[0m \u001b[1;33m\u001b[0m\u001b[0m\n\u001b[1;32m---> 76\u001b[1;33m \u001b[0mresults\u001b[0m \u001b[1;33m=\u001b[0m \u001b[0mopt\u001b[0m\u001b[1;33m.\u001b[0m\u001b[0msolve\u001b[0m\u001b[1;33m(\u001b[0m\u001b[0mdisc_instance\u001b[0m\u001b[1;33m,\u001b[0m\u001b[0mtee\u001b[0m\u001b[1;33m=\u001b[0m\u001b[1;32mTrue\u001b[0m\u001b[1;33m)\u001b[0m\u001b[1;33m\u001b[0m\u001b[0m\n\u001b[0m\u001b[0;32m     77\u001b[0m \u001b[0mdisc_instance\u001b[0m\u001b[1;33m.\u001b[0m\u001b[0mload\u001b[0m\u001b[1;33m(\u001b[0m\u001b[0mresults\u001b[0m\u001b[1;33m)\u001b[0m\u001b[1;33m\u001b[0m\u001b[0m\n\u001b[0;32m     78\u001b[0m \u001b[1;33m\u001b[0m\u001b[0m\n",
      "\u001b[1;32m/home/jmmauricio/bin/anaconda3/lib/python3.5/site-packages/Pyomo-4.4-py3.5.egg/pyomo/opt/base/solvers.py\u001b[0m in \u001b[0;36msolve\u001b[1;34m(self, *args, **kwds)\u001b[0m\n\u001b[0;32m    557\u001b[0m             \u001b[0minitial_time\u001b[0m \u001b[1;33m=\u001b[0m \u001b[0mtime\u001b[0m\u001b[1;33m.\u001b[0m\u001b[0mtime\u001b[0m\u001b[1;33m(\u001b[0m\u001b[1;33m)\u001b[0m\u001b[1;33m\u001b[0m\u001b[0m\n\u001b[0;32m    558\u001b[0m \u001b[1;33m\u001b[0m\u001b[0m\n\u001b[1;32m--> 559\u001b[1;33m             \u001b[0mself\u001b[0m\u001b[1;33m.\u001b[0m\u001b[0m_presolve\u001b[0m\u001b[1;33m(\u001b[0m\u001b[1;33m*\u001b[0m\u001b[0margs\u001b[0m\u001b[1;33m,\u001b[0m \u001b[1;33m**\u001b[0m\u001b[0mkwds\u001b[0m\u001b[1;33m)\u001b[0m\u001b[1;33m\u001b[0m\u001b[0m\n\u001b[0m\u001b[0;32m    560\u001b[0m \u001b[1;33m\u001b[0m\u001b[0m\n\u001b[0;32m    561\u001b[0m             \u001b[0mpresolve_completion_time\u001b[0m \u001b[1;33m=\u001b[0m \u001b[0mtime\u001b[0m\u001b[1;33m.\u001b[0m\u001b[0mtime\u001b[0m\u001b[1;33m(\u001b[0m\u001b[1;33m)\u001b[0m\u001b[1;33m\u001b[0m\u001b[0m\n",
      "\u001b[1;32m/home/jmmauricio/bin/anaconda3/lib/python3.5/site-packages/Pyomo-4.4-py3.5.egg/pyomo/solvers/plugins/solvers/ASL.py\u001b[0m in \u001b[0;36m_presolve\u001b[1;34m(self, *args, **kwds)\u001b[0m\n\u001b[0;32m    176\u001b[0m             \u001b[0mself\u001b[0m\u001b[1;33m.\u001b[0m\u001b[0m_instance\u001b[0m \u001b[1;33m=\u001b[0m \u001b[0margs\u001b[0m\u001b[1;33m[\u001b[0m\u001b[1;36m0\u001b[0m\u001b[1;33m]\u001b[0m\u001b[1;33m\u001b[0m\u001b[0m\n\u001b[0;32m    177\u001b[0m             \u001b[0mxfrm\u001b[0m \u001b[1;33m=\u001b[0m \u001b[0mTransformationFactory\u001b[0m\u001b[1;33m(\u001b[0m\u001b[1;34m'mpec.nl'\u001b[0m\u001b[1;33m)\u001b[0m\u001b[1;33m\u001b[0m\u001b[0m\n\u001b[1;32m--> 178\u001b[1;33m             \u001b[0mxfrm\u001b[0m\u001b[1;33m.\u001b[0m\u001b[0mapply_to\u001b[0m\u001b[1;33m(\u001b[0m\u001b[0mself\u001b[0m\u001b[1;33m.\u001b[0m\u001b[0m_instance\u001b[0m\u001b[1;33m)\u001b[0m\u001b[1;33m\u001b[0m\u001b[0m\n\u001b[0m\u001b[0;32m    179\u001b[0m             \u001b[1;32mif\u001b[0m \u001b[0mlen\u001b[0m\u001b[1;33m(\u001b[0m\u001b[0mself\u001b[0m\u001b[1;33m.\u001b[0m\u001b[0m_instance\u001b[0m\u001b[1;33m.\u001b[0m\u001b[0m_transformation_data\u001b[0m\u001b[1;33m[\u001b[0m\u001b[1;34m'mpec.nl'\u001b[0m\u001b[1;33m]\u001b[0m\u001b[1;33m.\u001b[0m\u001b[0mcompl_cuids\u001b[0m\u001b[1;33m)\u001b[0m \u001b[1;33m==\u001b[0m \u001b[1;36m0\u001b[0m\u001b[1;33m:\u001b[0m\u001b[1;33m\u001b[0m\u001b[0m\n\u001b[0;32m    180\u001b[0m                 \u001b[1;31m# There were no complementarity conditions\u001b[0m\u001b[1;33m\u001b[0m\u001b[1;33m\u001b[0m\u001b[0m\n",
      "\u001b[1;32m/home/jmmauricio/bin/anaconda3/lib/python3.5/site-packages/Pyomo-4.4-py3.5.egg/pyomo/core/base/plugin.py\u001b[0m in \u001b[0;36mapply_to\u001b[1;34m(self, model, **kwds)\u001b[0m\n\u001b[0;32m    327\u001b[0m         \"\"\"\n\u001b[0;32m    328\u001b[0m         \u001b[1;32mif\u001b[0m \u001b[1;32mnot\u001b[0m \u001b[0mhasattr\u001b[0m\u001b[1;33m(\u001b[0m\u001b[0mmodel\u001b[0m\u001b[1;33m,\u001b[0m \u001b[1;34m'_transformation_data'\u001b[0m\u001b[1;33m)\u001b[0m\u001b[1;33m:\u001b[0m\u001b[1;33m\u001b[0m\u001b[0m\n\u001b[1;32m--> 329\u001b[1;33m             \u001b[0mmodel\u001b[0m\u001b[1;33m.\u001b[0m\u001b[0m_transformation_data\u001b[0m \u001b[1;33m=\u001b[0m \u001b[0mTransformationData\u001b[0m\u001b[1;33m(\u001b[0m\u001b[1;33m)\u001b[0m\u001b[1;33m\u001b[0m\u001b[0m\n\u001b[0m\u001b[0;32m    330\u001b[0m         \u001b[0mself\u001b[0m\u001b[1;33m.\u001b[0m\u001b[0m_apply_to\u001b[0m\u001b[1;33m(\u001b[0m\u001b[0mmodel\u001b[0m\u001b[1;33m,\u001b[0m \u001b[1;33m**\u001b[0m\u001b[0mkwds\u001b[0m\u001b[1;33m)\u001b[0m\u001b[1;33m\u001b[0m\u001b[0m\n\u001b[0;32m    331\u001b[0m \u001b[1;33m\u001b[0m\u001b[0m\n",
      "\u001b[1;31mAttributeError\u001b[0m: 'NoneType' object has no attribute '_transformation_data'"
     ]
    }
   ],
   "source": [
    "from pyomo.environ import *\n",
    "from pyomo.dae import *\n",
    "\n",
    "m = ConcreteModel()\n",
    "\n",
    "m.t = ContinuousSet(bounds=(0,1)) \n",
    "\n",
    "m.x1 = Var(m.t, bounds=(-10,10))\n",
    "m.x2 = Var(m.t, bounds=(0,10))\n",
    "m.u = Var(m.t, initialize=0, bounds=(-10,10))\n",
    "\n",
    "T1 = 0.1\n",
    "T2 = 0.5\n",
    "m.x1dot = DerivativeVar(m.x1)\n",
    "m.x2dot = DerivativeVar(m.x2)\n",
    "\n",
    "m.obj = Objective(expr=(m.x2[1]-2)**2)\n",
    "\n",
    "def _obj(M):\n",
    "    #e=0.0\n",
    "    #x=0\n",
    "    #for i in range(len(M.u)):\n",
    "\n",
    "    #    e += M.u[i]**2\n",
    "    #for i in range(len(M.x2)):\n",
    "    #    x += (M.x2[i]-3)**2\n",
    "    #e = Integral(expr=M.u, wrt=M.u, bounds=(0,1))\n",
    "    #x = Integral(expr=(m.x2-2)**2, wrt=M.x1, bounds=(0,1))\n",
    "    return sum(((M.x1[i]-5)**2+\n",
    "               (M.x2[i]-5)**2+\n",
    "               (M.u[i])**2) for i in M.t) \n",
    "m.obj = Objective(rule=_obj, sense=minimize, doc='Define objective function')\n",
    "\n",
    "def _x1dot(M,i):\n",
    "    if i == 0:\n",
    "        return Constraint.Skip\n",
    "    return M.x1dot[i] ==1/T1*(M.u[i] - M.x1[i] )\n",
    "\n",
    "m.x1dotcon = Constraint(m.t, rule=_x1dot)\n",
    "\n",
    "def _x2dot(M,i):\n",
    "    if i == 0:\n",
    "        return Constraint.Skip\n",
    "    return M.x2dot[i] == 1/T2*(M.x1[i] -  M.x2[i])\n",
    "m.x2dotcon = Constraint(m.t, rule=_x2dot)\n",
    "\n",
    "def _init(M):\n",
    "    yield M.x1[0] == 0\n",
    "    yield M.x2[0] == 0\n",
    "    yield ConstraintList.End\n",
    "m.init_conditions = ConstraintList(rule=_init)\n",
    "\n",
    "from pyomo.environ import *\n",
    "from pyomo.dae import *\n",
    "from pyomo.opt import SolverFactory\n",
    "from pyomo.dae.plugins.finitedifference import Finite_Difference_Transformation\n",
    "from pyomo.dae.plugins.colloc import Collocation_Discretization_Transformation\n",
    "\n",
    "\n",
    "instance = m\n",
    "\n",
    "# Discretize model using Backward Finite Difference method\n",
    "#discretize = Finite_Difference_Transformation()\n",
    "#disc_instance = discretize.apply(instance,nfe=20,scheme='BACKWARD')\n",
    "\n",
    "# Discretize model using Orthogonal Collocation\n",
    "discretize = Collocation_Discretization_Transformation()\n",
    "disc_instance = discretize.apply(instance,nfe=20,ncp=10,scheme='LAGRANGE-RADAU')\n",
    "# Will reimplement this method in future release of pyomo.dae\n",
    "# disc_instance = discretize.reduce_collocation_points(var=instance.u,\n",
    "# \tncp=2, diffset=instance.t)\n",
    "\n",
    "solver='ipopt'\n",
    "opt=SolverFactory(solver)\n",
    "\n",
    "results = opt.solve(disc_instance,tee=True)\n",
    "disc_instance.load(results)\n",
    "\n",
    "x1 = []\n",
    "x2 = []\n",
    "u = []\n",
    "t=[]\n",
    "\n",
    "print(sorted(disc_instance.t))\n",
    "\n",
    "for i in sorted(disc_instance.t):\n",
    "    t.append(i)\n",
    "    x1.append(value(disc_instance.x1[i]))\n",
    "    x2.append(value(disc_instance.x2[i]))\n",
    "    u.append(value(disc_instance.u[i]))\n",
    "\n",
    "\n",
    "    \n"
   ]
  },
  {
   "cell_type": "code",
   "execution_count": 73,
   "metadata": {
    "collapsed": false
   },
   "outputs": [],
   "source": [
    "import matplotlib.pyplot as plt\n",
    "\n",
    "plt.plot(t,x1)\n",
    "\n",
    "plt.plot(t,x2) \n",
    "plt.show()\n",
    "\n",
    "plt.plot(t,u) \n",
    "plt.show()\n"
   ]
  },
  {
   "cell_type": "code",
   "execution_count": 15,
   "metadata": {
    "collapsed": false
   },
   "outputs": [
    {
     "data": {
      "text/plain": [
       "43"
      ]
     },
     "execution_count": 15,
     "metadata": {},
     "output_type": "execute_result"
    }
   ],
   "source": []
  },
  {
   "cell_type": "code",
   "execution_count": 16,
   "metadata": {
    "collapsed": false
   },
   "outputs": [],
   "source": []
  },
  {
   "cell_type": "code",
   "execution_count": null,
   "metadata": {
    "collapsed": true
   },
   "outputs": [],
   "source": []
  }
 ],
 "metadata": {
  "kernelspec": {
   "display_name": "Python 3",
   "language": "python",
   "name": "python3"
  },
  "language_info": {
   "codemirror_mode": {
    "name": "ipython",
    "version": 3
   },
   "file_extension": ".py",
   "mimetype": "text/x-python",
   "name": "python",
   "nbconvert_exporter": "python",
   "pygments_lexer": "ipython3",
   "version": "3.5.1"
  }
 },
 "nbformat": 4,
 "nbformat_minor": 0
}
