{
 "cells": [
  {
   "cell_type": "code",
   "execution_count": 3,
   "metadata": {
    "collapsed": false
   },
   "outputs": [],
   "source": [
    "# Sample Problem 1 (Ex 1 from Dynopt Guide)\n",
    "#\n",
    "#       min X2(tf)\n",
    "#       s.t.    X1_dot = u                      X1(0) = 1\n",
    "#               X2_dot = X1^2 + u^2             X2(0) = 0\n",
    "#               tf = 1\n",
    "from pyomo.environ import *\n",
    "from pyomo.dae import *\n",
    "m = ConcreteModel()\n",
    "m.t = ContinuousSet(bounds=(0,1))\n",
    "m.x1 = Var(m.t, bounds=(0,1))\n",
    "m.x2 = Var(m.t, bounds=(0,1))\n",
    "m.u = Var(m.t, initialize=0)\n",
    "m.x1dot = DerivativeVar(m.x1)\n",
    "m.x2dot = DerivativeVar(m.x2)\n",
    "m.obj = Objective(expr=m.x2[1])\n",
    "def _x1dot(M,i):\n",
    "        if i == 0:\n",
    "                return Constraint.Skip\n",
    "        return M.x1dot[i] == M.u[i]\n",
    "m.x1dotcon = Constraint(m.t, rule=_x1dot)\n",
    "def _x2dot(M,i):\n",
    "        if i == 0:\n",
    "                return Constraint.Skip\n",
    "        return M.x2dot[i] == M.x1[i]**2 + M.u[i]**2\n",
    "m.x2dotcon = Constraint(m.t, rule=_x2dot)\n",
    "def _init(M):\n",
    "        yield M.x1[0] == 1\n",
    "        yield M.x2[0] == 0\n",
    "        yield ConstraintList.End\n",
    "m.init_conditions = ConstraintList(rule=_init)"
   ]
  },
  {
   "cell_type": "code",
   "execution_count": 7,
   "metadata": {
    "collapsed": false
   },
   "outputs": [
    {
     "ename": "AttributeError",
     "evalue": "'Collocation_Discretization_Transformation' object has no attribute 'reduce_collocation_points'",
     "output_type": "error",
     "traceback": [
      "\u001b[1;31m---------------------------------------------------------------------------\u001b[0m",
      "\u001b[1;31mAttributeError\u001b[0m                            Traceback (most recent call last)",
      "\u001b[1;32m<ipython-input-7-141afabefdec>\u001b[0m in \u001b[0;36m<module>\u001b[1;34m()\u001b[0m\n\u001b[0;32m     12\u001b[0m \u001b[0mdiscretize\u001b[0m \u001b[1;33m=\u001b[0m \u001b[0mCollocation_Discretization_Transformation\u001b[0m\u001b[1;33m(\u001b[0m\u001b[1;33m)\u001b[0m\u001b[1;33m\u001b[0m\u001b[0m\n\u001b[0;32m     13\u001b[0m \u001b[0mdisc_instance\u001b[0m \u001b[1;33m=\u001b[0m \u001b[0mdiscretize\u001b[0m\u001b[1;33m.\u001b[0m\u001b[0mapply\u001b[0m\u001b[1;33m(\u001b[0m\u001b[0minstance\u001b[0m\u001b[1;33m,\u001b[0m\u001b[0mnfe\u001b[0m\u001b[1;33m=\u001b[0m\u001b[1;36m10\u001b[0m\u001b[1;33m,\u001b[0m\u001b[0mncp\u001b[0m\u001b[1;33m=\u001b[0m\u001b[1;36m5\u001b[0m\u001b[1;33m,\u001b[0m\u001b[0mscheme\u001b[0m\u001b[1;33m=\u001b[0m\u001b[1;34m'LAGRANGE-LEGENDRE'\u001b[0m\u001b[1;33m)\u001b[0m\u001b[1;33m\u001b[0m\u001b[0m\n\u001b[1;32m---> 14\u001b[1;33m disc_instance = discretize.reduce_collocation_points(var=instance.u,\n\u001b[0m\u001b[0;32m     15\u001b[0m         ncp=2, diffset=instance.t)\n\u001b[0;32m     16\u001b[0m \u001b[0msolver\u001b[0m\u001b[1;33m=\u001b[0m\u001b[1;34m'ipopt'\u001b[0m\u001b[1;33m\u001b[0m\u001b[0m\n",
      "\u001b[1;31mAttributeError\u001b[0m: 'Collocation_Discretization_Transformation' object has no attribute 'reduce_collocation_points'"
     ]
    }
   ],
   "source": [
    "from pyomo.environ import *\n",
    "from pyomo.dae import *\n",
    "from pyomo.opt import SolverFactory\n",
    "from pyomo.dae.plugins.finitedifference import Finite_Difference_Transformation\n",
    "from pyomo.dae.plugins.colloc import Collocation_Discretization_Transformation\n",
    "\n",
    "instance = m\n",
    "# Discretize model using Backward Finite Difference method\n",
    "#discretize = Finite_Difference_Transformation()\n",
    "#disc_instance = discretize.apply(instance,nfe=20,scheme='BACKWARD')\n",
    "# Discretize model using Orthogonal Collocation\n",
    "discretize = Collocation_Discretization_Transformation()\n",
    "disc_instance = discretize.apply(instance,nfe=10,ncp=5,scheme='LAGRANGE-LEGENDRE')\n",
    "disc_instance = discretize.reduce_collocation_points(var=instance.u,\n",
    "        ncp=2, diffset=instance.t)\n",
    "solver='ipopt'\n",
    "opt=SolverFactory(solver)\n",
    "results = opt.solve(disc_instance,tee=True)\n",
    "disc_instance.load(results)\n",
    "x1 = []\n",
    "x2 = []\n",
    "u = []\n",
    "t=[]\n",
    "\n",
    "for i in sorted(disc_instance.t):\n",
    "    t.append(i)\n",
    "    x1.append(value(disc_instance.x1[i]))\n",
    "    x2.append(value(disc_instance.x2[i]))\n",
    "    u.append(value(disc_instance.u[i]))\n",
    "import matplotlib.pyplot as plt\n",
    "plt.plot(t,x1)\n",
    "plt.plot(t,x2)\n",
    "plt.show()\n",
    "plt.plot(t,u)\n",
    "plt.show()\n"
   ]
  },
  {
   "cell_type": "code",
   "execution_count": null,
   "metadata": {
    "collapsed": true
   },
   "outputs": [],
   "source": []
  }
 ],
 "metadata": {
  "kernelspec": {
   "display_name": "Python 3",
   "language": "python",
   "name": "python3"
  },
  "language_info": {
   "codemirror_mode": {
    "name": "ipython",
    "version": 3
   },
   "file_extension": ".py",
   "mimetype": "text/x-python",
   "name": "python",
   "nbconvert_exporter": "python",
   "pygments_lexer": "ipython3",
   "version": "3.5.1"
  }
 },
 "nbformat": 4,
 "nbformat_minor": 0
}
