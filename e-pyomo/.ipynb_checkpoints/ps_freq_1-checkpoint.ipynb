{
 "cells": [
  {
   "cell_type": "code",
   "execution_count": 1,
   "metadata": {
    "collapsed": false,
    "scrolled": true
   },
   "outputs": [
    {
     "name": "stdout",
     "output_type": "stream",
     "text": [
      "WARNING: DEPRECATION WARNING: Transformation.apply() has been deprecated.\n",
      "\tPlease use either Transformation.apply_to() for in-place transformations\n",
      "\tor Transformation.create_using() for transformations that create a new,\n",
      "\tindependent transformed model instance.\n"
     ]
    },
    {
     "ename": "AttributeError",
     "evalue": "'NoneType' object has no attribute '_transformation_data'",
     "output_type": "error",
     "traceback": [
      "\u001b[1;31m---------------------------------------------------------------------------\u001b[0m",
      "\u001b[1;31mAttributeError\u001b[0m                            Traceback (most recent call last)",
      "\u001b[1;32m<ipython-input-1-a017ad64c514>\u001b[0m in \u001b[0;36m<module>\u001b[1;34m()\u001b[0m\n\u001b[0;32m     89\u001b[0m \u001b[0mopt\u001b[0m\u001b[1;33m=\u001b[0m\u001b[0mSolverFactory\u001b[0m\u001b[1;33m(\u001b[0m\u001b[0msolver\u001b[0m\u001b[1;33m)\u001b[0m\u001b[1;33m\u001b[0m\u001b[0m\n\u001b[0;32m     90\u001b[0m \u001b[1;33m\u001b[0m\u001b[0m\n\u001b[1;32m---> 91\u001b[1;33m \u001b[0mresults\u001b[0m \u001b[1;33m=\u001b[0m \u001b[0mopt\u001b[0m\u001b[1;33m.\u001b[0m\u001b[0msolve\u001b[0m\u001b[1;33m(\u001b[0m\u001b[0mdisc_instance\u001b[0m\u001b[1;33m,\u001b[0m\u001b[0mtee\u001b[0m\u001b[1;33m=\u001b[0m\u001b[1;32mTrue\u001b[0m\u001b[1;33m)\u001b[0m\u001b[1;33m\u001b[0m\u001b[0m\n\u001b[0m\u001b[0;32m     92\u001b[0m \u001b[0mdisc_instance\u001b[0m\u001b[1;33m.\u001b[0m\u001b[0mload\u001b[0m\u001b[1;33m(\u001b[0m\u001b[0mresults\u001b[0m\u001b[1;33m)\u001b[0m\u001b[1;33m\u001b[0m\u001b[0m\n\u001b[0;32m     93\u001b[0m \u001b[1;33m\u001b[0m\u001b[0m\n",
      "\u001b[1;32m/home/jmmauricio/bin/anaconda3/lib/python3.5/site-packages/Pyomo-4.4-py3.5.egg/pyomo/opt/base/solvers.py\u001b[0m in \u001b[0;36msolve\u001b[1;34m(self, *args, **kwds)\u001b[0m\n\u001b[0;32m    557\u001b[0m             \u001b[0minitial_time\u001b[0m \u001b[1;33m=\u001b[0m \u001b[0mtime\u001b[0m\u001b[1;33m.\u001b[0m\u001b[0mtime\u001b[0m\u001b[1;33m(\u001b[0m\u001b[1;33m)\u001b[0m\u001b[1;33m\u001b[0m\u001b[0m\n\u001b[0;32m    558\u001b[0m \u001b[1;33m\u001b[0m\u001b[0m\n\u001b[1;32m--> 559\u001b[1;33m             \u001b[0mself\u001b[0m\u001b[1;33m.\u001b[0m\u001b[0m_presolve\u001b[0m\u001b[1;33m(\u001b[0m\u001b[1;33m*\u001b[0m\u001b[0margs\u001b[0m\u001b[1;33m,\u001b[0m \u001b[1;33m**\u001b[0m\u001b[0mkwds\u001b[0m\u001b[1;33m)\u001b[0m\u001b[1;33m\u001b[0m\u001b[0m\n\u001b[0m\u001b[0;32m    560\u001b[0m \u001b[1;33m\u001b[0m\u001b[0m\n\u001b[0;32m    561\u001b[0m             \u001b[0mpresolve_completion_time\u001b[0m \u001b[1;33m=\u001b[0m \u001b[0mtime\u001b[0m\u001b[1;33m.\u001b[0m\u001b[0mtime\u001b[0m\u001b[1;33m(\u001b[0m\u001b[1;33m)\u001b[0m\u001b[1;33m\u001b[0m\u001b[0m\n",
      "\u001b[1;32m/home/jmmauricio/bin/anaconda3/lib/python3.5/site-packages/Pyomo-4.4-py3.5.egg/pyomo/solvers/plugins/solvers/ASL.py\u001b[0m in \u001b[0;36m_presolve\u001b[1;34m(self, *args, **kwds)\u001b[0m\n\u001b[0;32m    176\u001b[0m             \u001b[0mself\u001b[0m\u001b[1;33m.\u001b[0m\u001b[0m_instance\u001b[0m \u001b[1;33m=\u001b[0m \u001b[0margs\u001b[0m\u001b[1;33m[\u001b[0m\u001b[1;36m0\u001b[0m\u001b[1;33m]\u001b[0m\u001b[1;33m\u001b[0m\u001b[0m\n\u001b[0;32m    177\u001b[0m             \u001b[0mxfrm\u001b[0m \u001b[1;33m=\u001b[0m \u001b[0mTransformationFactory\u001b[0m\u001b[1;33m(\u001b[0m\u001b[1;34m'mpec.nl'\u001b[0m\u001b[1;33m)\u001b[0m\u001b[1;33m\u001b[0m\u001b[0m\n\u001b[1;32m--> 178\u001b[1;33m             \u001b[0mxfrm\u001b[0m\u001b[1;33m.\u001b[0m\u001b[0mapply_to\u001b[0m\u001b[1;33m(\u001b[0m\u001b[0mself\u001b[0m\u001b[1;33m.\u001b[0m\u001b[0m_instance\u001b[0m\u001b[1;33m)\u001b[0m\u001b[1;33m\u001b[0m\u001b[0m\n\u001b[0m\u001b[0;32m    179\u001b[0m             \u001b[1;32mif\u001b[0m \u001b[0mlen\u001b[0m\u001b[1;33m(\u001b[0m\u001b[0mself\u001b[0m\u001b[1;33m.\u001b[0m\u001b[0m_instance\u001b[0m\u001b[1;33m.\u001b[0m\u001b[0m_transformation_data\u001b[0m\u001b[1;33m[\u001b[0m\u001b[1;34m'mpec.nl'\u001b[0m\u001b[1;33m]\u001b[0m\u001b[1;33m.\u001b[0m\u001b[0mcompl_cuids\u001b[0m\u001b[1;33m)\u001b[0m \u001b[1;33m==\u001b[0m \u001b[1;36m0\u001b[0m\u001b[1;33m:\u001b[0m\u001b[1;33m\u001b[0m\u001b[0m\n\u001b[0;32m    180\u001b[0m                 \u001b[1;31m# There were no complementarity conditions\u001b[0m\u001b[1;33m\u001b[0m\u001b[1;33m\u001b[0m\u001b[0m\n",
      "\u001b[1;32m/home/jmmauricio/bin/anaconda3/lib/python3.5/site-packages/Pyomo-4.4-py3.5.egg/pyomo/core/base/plugin.py\u001b[0m in \u001b[0;36mapply_to\u001b[1;34m(self, model, **kwds)\u001b[0m\n\u001b[0;32m    327\u001b[0m         \"\"\"\n\u001b[0;32m    328\u001b[0m         \u001b[1;32mif\u001b[0m \u001b[1;32mnot\u001b[0m \u001b[0mhasattr\u001b[0m\u001b[1;33m(\u001b[0m\u001b[0mmodel\u001b[0m\u001b[1;33m,\u001b[0m \u001b[1;34m'_transformation_data'\u001b[0m\u001b[1;33m)\u001b[0m\u001b[1;33m:\u001b[0m\u001b[1;33m\u001b[0m\u001b[0m\n\u001b[1;32m--> 329\u001b[1;33m             \u001b[0mmodel\u001b[0m\u001b[1;33m.\u001b[0m\u001b[0m_transformation_data\u001b[0m \u001b[1;33m=\u001b[0m \u001b[0mTransformationData\u001b[0m\u001b[1;33m(\u001b[0m\u001b[1;33m)\u001b[0m\u001b[1;33m\u001b[0m\u001b[0m\n\u001b[0m\u001b[0;32m    330\u001b[0m         \u001b[0mself\u001b[0m\u001b[1;33m.\u001b[0m\u001b[0m_apply_to\u001b[0m\u001b[1;33m(\u001b[0m\u001b[0mmodel\u001b[0m\u001b[1;33m,\u001b[0m \u001b[1;33m**\u001b[0m\u001b[0mkwds\u001b[0m\u001b[1;33m)\u001b[0m\u001b[1;33m\u001b[0m\u001b[0m\n\u001b[0;32m    331\u001b[0m \u001b[1;33m\u001b[0m\u001b[0m\n",
      "\u001b[1;31mAttributeError\u001b[0m: 'NoneType' object has no attribute '_transformation_data'"
     ]
    }
   ],
   "source": [
    "from pyomo.environ import *\n",
    "from pyomo.dae import *\n",
    "import numpy as np\n",
    "\n",
    "m = ConcreteModel()\n",
    "\n",
    "t_end = 15\n",
    "m.t = ContinuousSet(bounds=(0,t_end)) \n",
    "\n",
    "m.p_nc = Var(m.t,initialize=0, bounds=(-0.1,0.1))\n",
    "\n",
    "m.Df = Var(m.t, initialize=0, bounds=(-5,5))\n",
    "m.p_g = Var(m.t, bounds=(-10,10))\n",
    "m.Df_int = Var(m.t, bounds=(-5,5))\n",
    "m.e_nc = Var(m.t, initialize=0, bounds=(-10,10))\n",
    "\n",
    "H = 3.5\n",
    "K_d = 1.0\n",
    "Droop = 0.05\n",
    "\n",
    "m.dDf  = DerivativeVar(m.Df)\n",
    "m.dp_g = DerivativeVar(m.p_g)\n",
    "m.dDf_int = DerivativeVar(m.Df_int)\n",
    "m.de_nc = DerivativeVar(m.e_nc)\n",
    "\n",
    "def _obj(M):\n",
    "    return -M.Df_int[t_end] - (1.0-M.e_nc[t_end])\n",
    "m.obj = Objective(rule=_obj, sense=minimize, doc='Define objective function')\n",
    "\n",
    "def _dDf(M,i):\n",
    "    if i == 0:\n",
    "        return Constraint.Skip\n",
    "    return M.dDf[i] == 1.0/(2.0*H)*(M.p_g[i] + M.p_nc[i] - 0.2)\n",
    "\n",
    "m.dxcon = Constraint(m.t, rule=_dDf)\n",
    "\n",
    "def _dp_g(M,i):\n",
    "    if i == 0:\n",
    "        return Constraint.Skip\n",
    "    return M.dp_g[i] == 1.0/2.0*(-1.0/Droop*M.Df[i] - M.p_g[i])\n",
    "m.dpgcon = Constraint(m.t, rule=_dp_g)\n",
    "\n",
    "def _dDf_int(M,i):\n",
    "    if i == 0:\n",
    "        return Constraint.Skip\n",
    "    return M.dDf_int[i] == M.Df[i]\n",
    "m.dvcon = Constraint(m.t, rule=_dDf_int)\n",
    "\n",
    "def _de_nc(M,i):\n",
    "    if i == 0:\n",
    "        return Constraint.Skip\n",
    "    return M.de_nc[i] == -M.p_g[i]\n",
    "m.degcon = Constraint(m.t, rule=_de_nc)\n",
    "\n",
    "#def _power(M,i):\n",
    "#    return M.u[i]*M.v[i] < 20.0e6\n",
    "#m.power = Constraint(m.t, rule=_power)\n",
    "\n",
    "def _init(M):\n",
    "    yield M.Df[0] == 0\n",
    "    yield M.p_g[0] == 0\n",
    "    yield M.Df_int[0] == 0\n",
    "    yield M.e_nc[0] == 0\n",
    "    yield ConstraintList.End\n",
    "m.init_conditions = ConstraintList(rule=_init)\n",
    "\n",
    "from pyomo.environ import *\n",
    "from pyomo.dae import *\n",
    "from pyomo.opt import SolverFactory\n",
    "from pyomo.dae.plugins.finitedifference import Finite_Difference_Transformation\n",
    "from pyomo.dae.plugins.colloc import Collocation_Discretization_Transformation\n",
    "\n",
    "\n",
    "instance = m\n",
    "\n",
    "# Discretize model using Backward Finite Difference method\n",
    "#discretize = Finite_Difference_Transformation()\n",
    "#disc_instance = discretize.apply(instance,nfe=20,scheme='BACKWARD')\n",
    "\n",
    "# Discretize model using Orthogonal Collocation\n",
    "discretize = Collocation_Discretization_Transformation()\n",
    "disc_instance = discretize.apply(instance,nfe=40,ncp=10,scheme='LAGRANGE-RADAU')\n",
    "\n",
    "# Will reimplement this method in future release of pyomo.dae\n",
    "# disc_instance = discretize.reduce_collocation_points(var=instance.u,\n",
    "# \tncp=2, diffset=instance.t)\n",
    "\n",
    "solver='ipopt'\n",
    "opt=SolverFactory(solver)\n",
    "\n",
    "results = opt.solve(disc_instance,tee=True)\n",
    "disc_instance.load(results)\n",
    "\n",
    "Df = []\n",
    "p_g = []\n",
    "p_nc = []\n",
    "e_nc = []\n",
    "t=[]\n",
    "\n",
    "#print(sorted(disc_instance.t))\n",
    "\n",
    "for i in sorted(disc_instance.t):\n",
    "    t.append(i)\n",
    "    Df.append(value(disc_instance.Df[i]))\n",
    "    p_g.append(value(disc_instance.p_g[i]))\n",
    "    p_nc.append(value(disc_instance.p_nc[i]))\n",
    "    e_nc.append(value(disc_instance.e_nc[i]))\n",
    "t = np.array(t)    \n",
    "Df = np.array(Df)    \n",
    "p_g = np.array(p_g)    \n",
    "p_nc = np.array(p_nc)   \n",
    "e_nc = np.array(e_nc)   "
   ]
  },
  {
   "cell_type": "code",
   "execution_count": 47,
   "metadata": {
    "collapsed": false
   },
   "outputs": [],
   "source": [
    "import matplotlib.pyplot as plt\n",
    "\n",
    "\n",
    "\n",
    "\n",
    "fig, (ax0,ax1,ax2,ax3) = plt.subplots(nrows=4)   # creates a figure with one axe\n",
    "\n",
    "ax0.plot(t,Df/1.0e3)\n",
    "ax1.plot(t,p_g, 'g', lw=1)\n",
    "ax2.plot(t,p_nc, 'b', lw=1)\n",
    "ax3.plot(t,e_nc, 'b', lw=1)\n",
    "plt.show()\n",
    "\n",
    "#fig, (ax0,ax1) = plt.subplots(nrows=2)   # creates a figure with one axe\n",
    "\n",
    "#ax0.plot(t,u/1.0e3) \n",
    "#ax1.plot(t,p/1.0e6) \n",
    "#plt.show()\n"
   ]
  },
  {
   "cell_type": "code",
   "execution_count": null,
   "metadata": {
    "collapsed": false
   },
   "outputs": [],
   "source": []
  },
  {
   "cell_type": "code",
   "execution_count": null,
   "metadata": {
    "collapsed": false
   },
   "outputs": [],
   "source": []
  },
  {
   "cell_type": "code",
   "execution_count": null,
   "metadata": {
    "collapsed": true
   },
   "outputs": [],
   "source": []
  }
 ],
 "metadata": {
  "kernelspec": {
   "display_name": "Python 3",
   "language": "python",
   "name": "python3"
  },
  "language_info": {
   "codemirror_mode": {
    "name": "ipython",
    "version": 3
   },
   "file_extension": ".py",
   "mimetype": "text/x-python",
   "name": "python",
   "nbconvert_exporter": "python",
   "pygments_lexer": "ipython3",
   "version": "3.5.1"
  }
 },
 "nbformat": 4,
 "nbformat_minor": 0
}
