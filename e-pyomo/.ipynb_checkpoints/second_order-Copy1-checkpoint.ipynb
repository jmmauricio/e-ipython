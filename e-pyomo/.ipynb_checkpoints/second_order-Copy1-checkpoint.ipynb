{
 "cells": [
  {
   "cell_type": "code",
   "execution_count": 17,
   "metadata": {
    "collapsed": false,
    "scrolled": true
   },
   "outputs": [
    {
     "name": "stdout",
     "output_type": "stream",
     "text": [
      "ERROR: Rule failed when generating expression for objective obj:\n",
      "\tValueError: Integral must be indexed by a ContinuousSet\n",
      "ERROR: Constructing component 'obj' from data=None failed:\n",
      "\tValueError: Integral must be indexed by a ContinuousSet\n"
     ]
    },
    {
     "ename": "ValueError",
     "evalue": "Integral must be indexed by a ContinuousSet",
     "output_type": "error",
     "traceback": [
      "\u001b[1;31m---------------------------------------------------------------------------\u001b[0m",
      "\u001b[1;31mValueError\u001b[0m                                Traceback (most recent call last)",
      "\u001b[1;32m<ipython-input-17-ecb89bc995ae>\u001b[0m in \u001b[0;36m<module>\u001b[1;34m()\u001b[0m\n\u001b[0;32m     26\u001b[0m     \u001b[0mx\u001b[0m \u001b[1;33m=\u001b[0m \u001b[0mIntegral\u001b[0m\u001b[1;33m(\u001b[0m\u001b[0mexpr\u001b[0m\u001b[1;33m=\u001b[0m\u001b[0mM\u001b[0m\u001b[1;33m.\u001b[0m\u001b[0mx1\u001b[0m\u001b[1;33m[\u001b[0m\u001b[0mi\u001b[0m\u001b[1;33m]\u001b[0m\u001b[1;33m**\u001b[0m\u001b[1;36m2\u001b[0m\u001b[1;33m,\u001b[0m \u001b[0mwrt\u001b[0m\u001b[1;33m=\u001b[0m\u001b[0mM\u001b[0m\u001b[1;33m.\u001b[0m\u001b[0mx1\u001b[0m\u001b[1;33m)\u001b[0m\u001b[1;33m\u001b[0m\u001b[0m\n\u001b[0;32m     27\u001b[0m     \u001b[1;32mreturn\u001b[0m \u001b[0mx\u001b[0m \u001b[1;33m+\u001b[0m \u001b[0me\u001b[0m\u001b[1;33m\u001b[0m\u001b[0m\n\u001b[1;32m---> 28\u001b[1;33m \u001b[0mm\u001b[0m\u001b[1;33m.\u001b[0m\u001b[0mobj\u001b[0m \u001b[1;33m=\u001b[0m \u001b[0mObjective\u001b[0m\u001b[1;33m(\u001b[0m\u001b[0mrule\u001b[0m\u001b[1;33m=\u001b[0m\u001b[0m_obj\u001b[0m\u001b[1;33m,\u001b[0m \u001b[0msense\u001b[0m\u001b[1;33m=\u001b[0m\u001b[0mminimize\u001b[0m\u001b[1;33m,\u001b[0m \u001b[0mdoc\u001b[0m\u001b[1;33m=\u001b[0m\u001b[1;34m'Define objective function'\u001b[0m\u001b[1;33m)\u001b[0m\u001b[1;33m\u001b[0m\u001b[0m\n\u001b[0m\u001b[0;32m     29\u001b[0m \u001b[1;33m\u001b[0m\u001b[0m\n\u001b[0;32m     30\u001b[0m \u001b[1;32mdef\u001b[0m \u001b[0m_x1dot\u001b[0m\u001b[1;33m(\u001b[0m\u001b[0mM\u001b[0m\u001b[1;33m,\u001b[0m\u001b[0mi\u001b[0m\u001b[1;33m)\u001b[0m\u001b[1;33m:\u001b[0m\u001b[1;33m\u001b[0m\u001b[0m\n",
      "\u001b[1;32m/home/jmmauricio/bin/anaconda3/envs/pyomo35/lib/python3.5/site-packages/Pyomo-4.2.10784-py3.5.egg/pyomo/core/base/block.py\u001b[0m in \u001b[0;36m__setattr__\u001b[1;34m(self, name, val)\u001b[0m\n\u001b[0;32m    446\u001b[0m                 \u001b[1;31m# Pyomo components are added with the add_component method.\u001b[0m\u001b[1;33m\u001b[0m\u001b[1;33m\u001b[0m\u001b[0m\n\u001b[0;32m    447\u001b[0m                 \u001b[1;31m#\u001b[0m\u001b[1;33m\u001b[0m\u001b[1;33m\u001b[0m\u001b[0m\n\u001b[1;32m--> 448\u001b[1;33m                 \u001b[0mself\u001b[0m\u001b[1;33m.\u001b[0m\u001b[0madd_component\u001b[0m\u001b[1;33m(\u001b[0m\u001b[0mname\u001b[0m\u001b[1;33m,\u001b[0m \u001b[0mval\u001b[0m\u001b[1;33m)\u001b[0m\u001b[1;33m\u001b[0m\u001b[0m\n\u001b[0m\u001b[0;32m    449\u001b[0m             \u001b[1;32melse\u001b[0m\u001b[1;33m:\u001b[0m\u001b[1;33m\u001b[0m\u001b[0m\n\u001b[0;32m    450\u001b[0m                 \u001b[1;31m#\u001b[0m\u001b[1;33m\u001b[0m\u001b[1;33m\u001b[0m\u001b[0m\n",
      "\u001b[1;32m/home/jmmauricio/bin/anaconda3/envs/pyomo35/lib/python3.5/site-packages/Pyomo-4.2.10784-py3.5.egg/pyomo/core/base/block.py\u001b[0m in \u001b[0;36madd_component\u001b[1;34m(self, name, val)\u001b[0m\n\u001b[0;32m    778\u001b[0m                               _blockName, str(data) )\n\u001b[0;32m    779\u001b[0m             \u001b[1;32mtry\u001b[0m\u001b[1;33m:\u001b[0m\u001b[1;33m\u001b[0m\u001b[0m\n\u001b[1;32m--> 780\u001b[1;33m                 \u001b[0mval\u001b[0m\u001b[1;33m.\u001b[0m\u001b[0mconstruct\u001b[0m\u001b[1;33m(\u001b[0m\u001b[0mdata\u001b[0m\u001b[1;33m)\u001b[0m\u001b[1;33m\u001b[0m\u001b[0m\n\u001b[0m\u001b[0;32m    781\u001b[0m             \u001b[1;32mexcept\u001b[0m\u001b[1;33m:\u001b[0m\u001b[1;33m\u001b[0m\u001b[0m\n\u001b[0;32m    782\u001b[0m                 \u001b[0merr\u001b[0m \u001b[1;33m=\u001b[0m \u001b[0msys\u001b[0m\u001b[1;33m.\u001b[0m\u001b[0mexc_info\u001b[0m\u001b[1;33m(\u001b[0m\u001b[1;33m)\u001b[0m\u001b[1;33m[\u001b[0m\u001b[1;36m1\u001b[0m\u001b[1;33m]\u001b[0m\u001b[1;33m\u001b[0m\u001b[0m\n",
      "\u001b[1;32m/home/jmmauricio/bin/anaconda3/envs/pyomo35/lib/python3.5/site-packages/Pyomo-4.2.10784-py3.5.egg/pyomo/core/base/objective.py\u001b[0m in \u001b[0;36mconstruct\u001b[1;34m(self, data)\u001b[0m\n\u001b[0;32m    387\u001b[0m             \u001b[1;32melse\u001b[0m\u001b[1;33m:\u001b[0m\u001b[1;33m\u001b[0m\u001b[0m\n\u001b[0;32m    388\u001b[0m                 \u001b[1;32mtry\u001b[0m\u001b[1;33m:\u001b[0m\u001b[1;33m\u001b[0m\u001b[0m\n\u001b[1;32m--> 389\u001b[1;33m                     \u001b[0mtmp\u001b[0m \u001b[1;33m=\u001b[0m \u001b[0m_init_rule\u001b[0m\u001b[1;33m(\u001b[0m\u001b[0m_self_parent\u001b[0m\u001b[1;33m)\u001b[0m\u001b[1;33m\u001b[0m\u001b[0m\n\u001b[0m\u001b[0;32m    390\u001b[0m                 \u001b[1;32mexcept\u001b[0m \u001b[0mException\u001b[0m\u001b[1;33m:\u001b[0m\u001b[1;33m\u001b[0m\u001b[0m\n\u001b[0;32m    391\u001b[0m                     \u001b[0merr\u001b[0m \u001b[1;33m=\u001b[0m \u001b[0msys\u001b[0m\u001b[1;33m.\u001b[0m\u001b[0mexc_info\u001b[0m\u001b[1;33m(\u001b[0m\u001b[1;33m)\u001b[0m\u001b[1;33m[\u001b[0m\u001b[1;36m1\u001b[0m\u001b[1;33m]\u001b[0m\u001b[1;33m\u001b[0m\u001b[0m\n",
      "\u001b[1;32m<ipython-input-17-ecb89bc995ae>\u001b[0m in \u001b[0;36m_obj\u001b[1;34m(M)\u001b[0m\n\u001b[0;32m     23\u001b[0m     \u001b[1;31m#for i in range(len(M.x2)):\u001b[0m\u001b[1;33m\u001b[0m\u001b[1;33m\u001b[0m\u001b[0m\n\u001b[0;32m     24\u001b[0m     \u001b[1;31m#    x += (M.x2[i]-3)**2\u001b[0m\u001b[1;33m\u001b[0m\u001b[1;33m\u001b[0m\u001b[0m\n\u001b[1;32m---> 25\u001b[1;33m     \u001b[0me\u001b[0m \u001b[1;33m=\u001b[0m \u001b[0mIntegral\u001b[0m\u001b[1;33m(\u001b[0m\u001b[0mexpr\u001b[0m\u001b[1;33m=\u001b[0m\u001b[0mM\u001b[0m\u001b[1;33m.\u001b[0m\u001b[0mu\u001b[0m\u001b[1;33m[\u001b[0m\u001b[0mi\u001b[0m\u001b[1;33m]\u001b[0m\u001b[1;33m**\u001b[0m\u001b[1;36m2\u001b[0m\u001b[1;33m,\u001b[0m \u001b[0mwrt\u001b[0m\u001b[1;33m=\u001b[0m\u001b[0mM\u001b[0m\u001b[1;33m.\u001b[0m\u001b[0mu\u001b[0m\u001b[1;33m)\u001b[0m\u001b[1;33m\u001b[0m\u001b[0m\n\u001b[0m\u001b[0;32m     26\u001b[0m     \u001b[0mx\u001b[0m \u001b[1;33m=\u001b[0m \u001b[0mIntegral\u001b[0m\u001b[1;33m(\u001b[0m\u001b[0mexpr\u001b[0m\u001b[1;33m=\u001b[0m\u001b[0mM\u001b[0m\u001b[1;33m.\u001b[0m\u001b[0mx1\u001b[0m\u001b[1;33m[\u001b[0m\u001b[0mi\u001b[0m\u001b[1;33m]\u001b[0m\u001b[1;33m**\u001b[0m\u001b[1;36m2\u001b[0m\u001b[1;33m,\u001b[0m \u001b[0mwrt\u001b[0m\u001b[1;33m=\u001b[0m\u001b[0mM\u001b[0m\u001b[1;33m.\u001b[0m\u001b[0mx1\u001b[0m\u001b[1;33m)\u001b[0m\u001b[1;33m\u001b[0m\u001b[0m\n\u001b[0;32m     27\u001b[0m     \u001b[1;32mreturn\u001b[0m \u001b[0mx\u001b[0m \u001b[1;33m+\u001b[0m \u001b[0me\u001b[0m\u001b[1;33m\u001b[0m\u001b[0m\n",
      "\u001b[1;32m/home/jmmauricio/bin/anaconda3/envs/pyomo35/lib/python3.5/site-packages/Pyomo-4.2.10784-py3.5.egg/pyomo/dae/integral.py\u001b[0m in \u001b[0;36m__new__\u001b[1;34m(cls, *args, **kwds)\u001b[0m\n\u001b[0;32m     43\u001b[0m             \u001b[1;32mreturn\u001b[0m \u001b[0msuper\u001b[0m\u001b[1;33m(\u001b[0m\u001b[0mIntegral\u001b[0m\u001b[1;33m,\u001b[0m \u001b[0mcls\u001b[0m\u001b[1;33m)\u001b[0m\u001b[1;33m.\u001b[0m\u001b[0m__new__\u001b[0m\u001b[1;33m(\u001b[0m\u001b[0mcls\u001b[0m\u001b[1;33m)\u001b[0m\u001b[1;33m\u001b[0m\u001b[0m\n\u001b[0;32m     44\u001b[0m         \u001b[1;32mif\u001b[0m \u001b[0mlen\u001b[0m\u001b[1;33m(\u001b[0m\u001b[0margs\u001b[0m\u001b[1;33m)\u001b[0m \u001b[1;33m==\u001b[0m \u001b[1;36m0\u001b[0m\u001b[1;33m:\u001b[0m\u001b[1;33m\u001b[0m\u001b[0m\n\u001b[1;32m---> 45\u001b[1;33m             \u001b[1;32mraise\u001b[0m \u001b[0mValueError\u001b[0m\u001b[1;33m(\u001b[0m\u001b[1;34m\"Integral must be indexed by a ContinuousSet\"\u001b[0m\u001b[1;33m)\u001b[0m\u001b[1;33m\u001b[0m\u001b[0m\n\u001b[0m\u001b[0;32m     46\u001b[0m         \u001b[1;32melif\u001b[0m \u001b[0mlen\u001b[0m\u001b[1;33m(\u001b[0m\u001b[0margs\u001b[0m\u001b[1;33m)\u001b[0m \u001b[1;33m==\u001b[0m \u001b[1;36m1\u001b[0m\u001b[1;33m:\u001b[0m\u001b[1;33m\u001b[0m\u001b[0m\n\u001b[0;32m     47\u001b[0m             \u001b[1;32mreturn\u001b[0m \u001b[0mSimpleIntegral\u001b[0m\u001b[1;33m.\u001b[0m\u001b[0m__new__\u001b[0m\u001b[1;33m(\u001b[0m\u001b[0mSimpleIntegral\u001b[0m\u001b[1;33m)\u001b[0m\u001b[1;33m\u001b[0m\u001b[0m\n",
      "\u001b[1;31mValueError\u001b[0m: Integral must be indexed by a ContinuousSet"
     ]
    }
   ],
   "source": [
    "from pyomo.environ import *\n",
    "from pyomo.dae import *\n",
    "\n",
    "m = ConcreteModel()\n",
    "\n",
    "m.t = ContinuousSet(bounds=(0,1)) \n",
    "\n",
    "m.x1 = Var(m.t, bounds=(-10,10))\n",
    "m.x2 = Var(m.t, bounds=(0,10))\n",
    "m.u = Var(m.t, initialize=0, bounds=(-10,10))\n",
    "\n",
    "m.x1dot = DerivativeVar(m.x1)\n",
    "m.x2dot = DerivativeVar(m.x2)\n",
    "\n",
    "#m.obj = Objective(expr=(m.x1[1]-2)**2)\n",
    "\n",
    "def _obj(M):\n",
    "    #e=0.0\n",
    "    #x=0\n",
    "    #for i in range(len(M.u)):\n",
    "\n",
    "    #    e += M.u[i]**2\n",
    "    #for i in range(len(M.x2)):\n",
    "    #    x += (M.x2[i]-3)**2\n",
    "    e = Integral(expr=M.u[i]**2, wrt=M.u)\n",
    "    x = Integral(expr=M.x1[i]**2, wrt=M.x1)\n",
    "    return x + e\n",
    "m.obj = Objective(rule=_obj, sense=minimize, doc='Define objective function')\n",
    "\n",
    "def _x1dot(M,i):\n",
    "\tif i == 0:\n",
    "\t\treturn Constraint.Skip\n",
    "\treturn M.x1dot[i] ==1/T1*(M.u[i] - M.x1[i] )\n",
    "\n",
    "m.x1dotcon = Constraint(m.t, rule=_x1dot)\n",
    "\n",
    "def _x2dot(M,i):\n",
    "\tif i == 0:\n",
    "\t\treturn Constraint.Skip\n",
    "\treturn M.x2dot[i] == 1/T2*M.x1[i] -  M.x2[i] \n",
    "m.x2dotcon = Constraint(m.t, rule=_x2dot)\n",
    "\n",
    "def _init(M):\n",
    "\tyield M.x1[0] == 0\n",
    "\tyield M.x2[0] == 0\n",
    "\tyield ConstraintList.End\n",
    "m.init_conditions = ConstraintList(rule=_init)\n",
    "\n",
    "from pyomo.environ import *\n",
    "from pyomo.dae import *\n",
    "from pyomo.opt import SolverFactory\n",
    "from pyomo.dae.plugins.finitedifference import Finite_Difference_Transformation\n",
    "from pyomo.dae.plugins.colloc import Collocation_Discretization_Transformation\n",
    "\n",
    "\n",
    "instance = m\n",
    "\n",
    "# Discretize model using Backward Finite Difference method\n",
    "#discretize = Finite_Difference_Transformation()\n",
    "#disc_instance = discretize.apply(instance,nfe=20,scheme='BACKWARD')\n",
    "\n",
    "# Discretize model using Orthogonal Collocation\n",
    "discretize = Collocation_Discretization_Transformation()\n",
    "disc_instance = discretize.apply(instance,nfe=20,ncp=6,scheme='LAGRANGE-RADAU')\n",
    "# Will reimplement this method in future release of pyomo.dae\n",
    "# disc_instance = discretize.reduce_collocation_points(var=instance.u,\n",
    "# \tncp=2, diffset=instance.t)\n",
    "\n",
    "solver='ipopt'\n",
    "opt=SolverFactory(solver)\n",
    "\n",
    "results = opt.solve(disc_instance,tee=True)\n",
    "disc_instance.load(results)\n",
    "\n",
    "x1 = []\n",
    "x2 = []\n",
    "u = []\n",
    "t=[]\n",
    "\n",
    "print(sorted(disc_instance.t))\n",
    "\n",
    "for i in sorted(disc_instance.t):\n",
    "    t.append(i)\n",
    "    x1.append(value(disc_instance.x1[i]))\n",
    "    x2.append(value(disc_instance.x2[i]))\n",
    "    u.append(value(disc_instance.u[i]))\n",
    "\n",
    "\n",
    "    \n"
   ]
  },
  {
   "cell_type": "code",
   "execution_count": 62,
   "metadata": {
    "collapsed": false
   },
   "outputs": [],
   "source": [
    "import matplotlib.pyplot as plt\n",
    "\n",
    "plt.plot(t,x1)\n",
    "\n",
    "plt.plot(t,x2) \n",
    "plt.show()\n",
    "\n",
    "plt.plot(t,u) \n",
    "plt.show()\n"
   ]
  },
  {
   "cell_type": "code",
   "execution_count": 60,
   "metadata": {
    "collapsed": false
   },
   "outputs": [
    {
     "data": {
      "text/plain": [
       "43"
      ]
     },
     "execution_count": 60,
     "metadata": {},
     "output_type": "execute_result"
    }
   ],
   "source": [
    "len([0, 0.0056870000000000002, 0.028288000000000001, 0.062567999999999999, 0.099351999999999996, 0.12878100000000001, 0.142857, 0.14854400000000001, 0.17114499999999999, 0.205425, 0.24220900000000001, 0.27163799999999999, 0.285714, 0.29140100000000002, 0.314002, 0.34828199999999998, 0.38506600000000002, 0.414495, 0.428571, 0.43425799999999998, 0.45685900000000002, 0.49113899999999999, 0.52792399999999995, 0.55735199999999996, 0.571429, 0.57711599999999996, 0.59971699999999994, 0.63399700000000003, 0.67078099999999996, 0.70021, 0.714286, 0.71997299999999997, 0.74257399999999996, 0.77685400000000004, 0.81363799999999997, 0.84306700000000001, 0.857143, 0.86282999999999999, 0.88543099999999997, 0.91971099999999995, 0.95649499999999998, 0.98592400000000002, 1]\n",
    ")"
   ]
  },
  {
   "cell_type": "code",
   "execution_count": 16,
   "metadata": {
    "collapsed": false
   },
   "outputs": [],
   "source": [
    "# Heat Conduction Model\n",
    "from pyomo.environ import *\n",
    "from pyomo.dae import *\n",
    "m = ConcreteModel()\n",
    "m.time = ContinuousSet(bounds=(0,1))\n",
    "m.x = ContinuousSet(bounds=(0,10))\n",
    "m.y = ContinuousSet(bounds=(0,5))\n",
    "m.T = Var(m.x,m.y,m.time)\n",
    "m.u = Var(m.x,m.y,m.time)\n",
    "m.T0 = Param(initialize=5)\n",
    "m.TD = Param(m.x,m.y,initialize=25)\n",
    "m.Ux0 = Param(initialize=10)\n",
    "m.Uy5 = Param(initialize=15)\n",
    "m.dTdx = DerivativeVar(m.T,wrt=m.x)\n",
    "m.d2Tdx2 = DerivativeVar(m.T,wrt=(m.x,m.x))\n",
    "m.dTdy = DerivativeVar(m.T,wrt=m.y)\n",
    "m.d2Tdy2 = DerivativeVar(m.T,wrt=(m.y,m.y))\n",
    "m.dTdt = DerivativeVar(m.T,wrt=m.time)\n",
    "def _heateq(m,i,j,k):\n",
    "    return m.d2Tdx2[i,j,k] + m.d2Tdy2[i,j,k] + m.u[i,j,k] == m.dTdt[i,j,k]\n",
    "m.heateq = Constraint(m.x,m.y,m.time,rule=_heateq)\n",
    "def _initT(m,i,j):\n",
    "    return m.T[i,j,0] == m.T0\n",
    "m.initT = Constraint(m.x,m.y,rule=_initT)\n",
    "def _xbound(m,j,k):\n",
    "    return m.dTdx[0,j,k] == m.Ux0\n",
    "m.xbound = Constraint(m.y,m.time,rule=_xbound)\n",
    "def _ybound(m,i,k):\n",
    "    return m.dTdy[i,5,k] == m.Uy5\n",
    "m.ybound = Constraint(m.x,m.time,rule=_ybound)\n",
    "# def _intExp(m,i,j):\n",
    "#     return m.T[i,j,1] - m.TD[i,j]\n",
    "# m.intExp = Expression(m.x,m.y,rule=_intExp)\n",
    "# def _obj(m):\n",
    "#     return Integral(Integral(expr=m.intExp,wrt=m.x,bounds=(0,10)),\n",
    "#                     wrt=m.y,bounds=(0,5))\n",
    "# m.obj = Objective(rule=_obj)\n"
   ]
  },
  {
   "cell_type": "code",
   "execution_count": null,
   "metadata": {
    "collapsed": true
   },
   "outputs": [],
   "source": []
  }
 ],
 "metadata": {
  "kernelspec": {
   "display_name": "Python 3",
   "language": "python",
   "name": "python3"
  },
  "language_info": {
   "codemirror_mode": {
    "name": "ipython",
    "version": 3
   },
   "file_extension": ".py",
   "mimetype": "text/x-python",
   "name": "python",
   "nbconvert_exporter": "python",
   "pygments_lexer": "ipython3",
   "version": "3.4.4"
  }
 },
 "nbformat": 4,
 "nbformat_minor": 0
}
