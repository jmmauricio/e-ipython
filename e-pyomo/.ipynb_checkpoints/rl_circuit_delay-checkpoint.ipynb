{
 "cells": [
  {
   "cell_type": "code",
   "execution_count": 119,
   "metadata": {
    "collapsed": false
   },
   "outputs": [],
   "source": [
    "# Import of the pyomo module\n",
    "from pyomo.environ import *\n",
    "import numpy as np\n",
    "import matplotlib.pyplot as plt\n",
    "\n",
    "# Creation of a Concrete Model\n",
    "model = ConcreteModel()\n",
    "\n",
    "idx_end = 100\n",
    "Dt = 0.1\n",
    "model.i = Set(initialize=range(idx_end), doc='tiempo')\n",
    "model.j = Set(initialize=range(idx_end-1), doc='tiempo reducido')\n",
    "\n",
    "\n",
    "model.x = Var(model.i, bounds=(0.0,None), doc='current')\n",
    "model.v = Var(model.i, bounds=(-5,5), doc='voltage')\n",
    "\n",
    "\n",
    "def con(model, i):\n",
    "    return model.x[i+1] == model.x[i] + Dt*0.5*(1/1.0*(model.v[i+1]-0.1*model.x[i+1])+1/1.0*(model.v[i]-0.1*model.x[i]))\n",
    "model.demand = Constraint(model.j, rule=con, doc='restr')\n",
    "\n",
    "def con_desired_1(model):\n",
    "    return model.x[50] == 10\n",
    "model.desired1 = Constraint(rule=con_desired_1, doc='restr')\n",
    "\n",
    "def con_desired_2(model):\n",
    "    return model.x[99] == 5\n",
    "model.desired2 = Constraint(rule=con_desired_2, doc='restr')\n",
    "\n",
    "def initial(model):\n",
    "    return model.x[0] == 0\n",
    "model.initial = Constraint(rule=initial, doc='initial value')\n",
    "\n",
    "def objective_rule(model):\n",
    "    e = 0\n",
    "    for i in range(100):\n",
    "        e += model.v[i]*model.x[i] + 10*model.x[i]**2\n",
    "    \n",
    "    return  e\n",
    "model.objective = Objective(rule=objective_rule, sense=minimize, doc='Define objective function')\n",
    "\n",
    "\n",
    "from pyomo.opt import SolverFactory\n",
    "import pyomo.environ\n",
    "opt = SolverFactory(\"ipopt\")\n",
    "results = opt.solve(model)\n",
    "\n",
    "t = np.array([item for item in model.x.get_values()])*1.0\n",
    "x = np.array([item for item in model.x.get_values().values()])\n",
    "v = np.array([item for item in model.v.get_values().values()])"
   ]
  },
  {
   "cell_type": "code",
   "execution_count": 120,
   "metadata": {
    "collapsed": false
   },
   "outputs": [],
   "source": [
    "fig, (ax0,ax1) = plt.subplots(nrows=2)   # creates a figure with one axe\n",
    "\n",
    "ax0.plot(t,x)\n",
    "ax1.plot(t,v, 'g', lw=1)\n",
    "#ax1.plot(t,v_1)\n",
    "#ax1.plot(t,v_2)\n",
    "#ax1.plot(t,v_3)\n",
    "\n",
    "ax0.grid(True)\n",
    "ax1.grid(True)\n",
    "\n",
    "plt.show()\n"
   ]
  },
  {
   "cell_type": "code",
   "execution_count": 34,
   "metadata": {
    "collapsed": false
   },
   "outputs": [
    {
     "data": {
      "text/plain": [
       "array([<pyomo.core.base.var._VarData object at 0x7f145aae3768>,\n",
       "       <pyomo.core.base.var._VarData object at 0x7f145aae3888>,\n",
       "       <pyomo.core.base.var._VarData object at 0x7f145aae38e8>,\n",
       "       <pyomo.core.base.var._VarData object at 0x7f145aae3948>,\n",
       "       <pyomo.core.base.var._VarData object at 0x7f145aae39a8>,\n",
       "       <pyomo.core.base.var._VarData object at 0x7f145aae3a08>,\n",
       "       <pyomo.core.base.var._VarData object at 0x7f145aae3a68>,\n",
       "       <pyomo.core.base.var._VarData object at 0x7f145aae3ac8>,\n",
       "       <pyomo.core.base.var._VarData object at 0x7f145aae3b28>,\n",
       "       <pyomo.core.base.var._VarData object at 0x7f145aae3b88>,\n",
       "       <pyomo.core.base.var._VarData object at 0x7f145aae3be8>,\n",
       "       <pyomo.core.base.var._VarData object at 0x7f145aae3c48>,\n",
       "       <pyomo.core.base.var._VarData object at 0x7f145aae3ca8>,\n",
       "       <pyomo.core.base.var._VarData object at 0x7f145aae3d08>,\n",
       "       <pyomo.core.base.var._VarData object at 0x7f145aae3d68>], dtype=object)"
      ]
     },
     "execution_count": 34,
     "metadata": {},
     "output_type": "execute_result"
    }
   ],
   "source": [
    "t"
   ]
  },
  {
   "cell_type": "code",
   "execution_count": 108,
   "metadata": {
    "collapsed": false
   },
   "outputs": [
    {
     "data": {
      "text/plain": [
       "{'Solution': [OrderedDict([('number of solutions', 0), ('number of solutions displayed', 0)])], 'Problem': [{'Number of objectives': 1, 'Number of constraints': 102, 'Number of variables': 200, 'Upper bound': inf, 'Lower bound': -inf, 'Sense': 'unknown'}], 'Solver': [{'Termination condition': 'optimal', 'Status': 'ok', 'Id': 0, 'Error rc': 0, 'Message': 'Ipopt 3.7.1\\\\x3a Optimal Solution Found', 'Time': 1.3075017929077148}]}"
      ]
     },
     "execution_count": 108,
     "metadata": {},
     "output_type": "execute_result"
    }
   ],
   "source": [
    "results"
   ]
  },
  {
   "cell_type": "code",
   "execution_count": null,
   "metadata": {
    "collapsed": true
   },
   "outputs": [],
   "source": []
  }
 ],
 "metadata": {
  "kernelspec": {
   "display_name": "Python 3",
   "language": "python",
   "name": "python3"
  },
  "language_info": {
   "codemirror_mode": {
    "name": "ipython",
    "version": 3
   },
   "file_extension": ".py",
   "mimetype": "text/x-python",
   "name": "python",
   "nbconvert_exporter": "python",
   "pygments_lexer": "ipython3",
   "version": "3.5.1"
  }
 },
 "nbformat": 4,
 "nbformat_minor": 0
}
