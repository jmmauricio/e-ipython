{
 "cells": [
  {
   "cell_type": "code",
   "execution_count": 1,
   "metadata": {
    "collapsed": false,
    "scrolled": true
   },
   "outputs": [
    {
     "name": "stdout",
     "output_type": "stream",
     "text": [
      "K_d: 8.000\n"
     ]
    },
    {
     "ename": "TypeError",
     "evalue": "'dict_keys' object does not support indexing",
     "output_type": "error",
     "traceback": [
      "\u001b[1;31m---------------------------------------------------------------------------\u001b[0m",
      "\u001b[1;31mTypeError\u001b[0m                                 Traceback (most recent call last)",
      "\u001b[1;32m<ipython-input-1-61e10bf70425>\u001b[0m in \u001b[0;36m<module>\u001b[1;34m()\u001b[0m\n\u001b[0;32m     21\u001b[0m \u001b[0mprint\u001b[0m\u001b[1;33m(\u001b[0m\u001b[1;34m'K_d: {:2.3f}'\u001b[0m\u001b[1;33m.\u001b[0m\u001b[0mformat\u001b[0m\u001b[1;33m(\u001b[0m\u001b[0mK_d\u001b[0m\u001b[1;33m)\u001b[0m\u001b[1;33m)\u001b[0m\u001b[1;33m\u001b[0m\u001b[0m\n\u001b[0;32m     22\u001b[0m \u001b[1;33m\u001b[0m\u001b[0m\n\u001b[1;32m---> 23\u001b[1;33m \u001b[0mm\u001b[0m\u001b[1;33m.\u001b[0m\u001b[0mdx\u001b[0m \u001b[1;33m=\u001b[0m \u001b[0mDerivativeVar\u001b[0m\u001b[1;33m(\u001b[0m\u001b[0mm\u001b[0m\u001b[1;33m.\u001b[0m\u001b[0mx\u001b[0m\u001b[1;33m)\u001b[0m\u001b[1;33m\u001b[0m\u001b[0m\n\u001b[0m\u001b[0;32m     24\u001b[0m \u001b[0mm\u001b[0m\u001b[1;33m.\u001b[0m\u001b[0mdv\u001b[0m \u001b[1;33m=\u001b[0m \u001b[0mDerivativeVar\u001b[0m\u001b[1;33m(\u001b[0m\u001b[0mm\u001b[0m\u001b[1;33m.\u001b[0m\u001b[0mv\u001b[0m\u001b[1;33m)\u001b[0m\u001b[1;33m\u001b[0m\u001b[0m\n\u001b[0;32m     25\u001b[0m \u001b[1;33m\u001b[0m\u001b[0m\n",
      "\u001b[1;32m/home/jmmauricio/bin/anaconda3/lib/python3.5/site-packages/Pyomo-4.2.10784-py3.5.egg/pyomo/dae/diffvar.py\u001b[0m in \u001b[0;36m__init__\u001b[1;34m(self, sVar, **kwds)\u001b[0m\n\u001b[0;32m    180\u001b[0m                     \u001b[1;34m\"The variable %s is indexed by multiple ContinuousSets. The desired \"\u001b[0m\u001b[1;33m\u001b[0m\u001b[0m\n\u001b[0;32m    181\u001b[0m                     \"ContinuousSet must be specified using the keyword argument 'wrt'\" % (sVar))\n\u001b[1;32m--> 182\u001b[1;33m             \u001b[0mwrt\u001b[0m \u001b[1;33m=\u001b[0m \u001b[1;33m[\u001b[0m\u001b[0msVar\u001b[0m\u001b[1;33m.\u001b[0m\u001b[0m_contset\u001b[0m\u001b[1;33m.\u001b[0m\u001b[0mkeys\u001b[0m\u001b[1;33m(\u001b[0m\u001b[1;33m)\u001b[0m\u001b[1;33m[\u001b[0m\u001b[1;36m0\u001b[0m\u001b[1;33m]\u001b[0m\u001b[1;33m,\u001b[0m\u001b[1;33m]\u001b[0m\u001b[1;33m\u001b[0m\u001b[0m\n\u001b[0m\u001b[0;32m    183\u001b[0m         \u001b[1;32melif\u001b[0m \u001b[0mtype\u001b[0m\u001b[1;33m(\u001b[0m\u001b[0mwrt\u001b[0m\u001b[1;33m)\u001b[0m \u001b[1;32mis\u001b[0m \u001b[0mContinuousSet\u001b[0m\u001b[1;33m:\u001b[0m\u001b[1;33m\u001b[0m\u001b[0m\n\u001b[0;32m    184\u001b[0m             \u001b[1;32mif\u001b[0m \u001b[1;32mnot\u001b[0m \u001b[0msVar\u001b[0m\u001b[1;33m.\u001b[0m\u001b[0m_contset\u001b[0m\u001b[1;33m.\u001b[0m\u001b[0mhas_key\u001b[0m\u001b[1;33m(\u001b[0m\u001b[0mwrt\u001b[0m\u001b[1;33m)\u001b[0m\u001b[1;33m:\u001b[0m\u001b[1;33m\u001b[0m\u001b[0m\n",
      "\u001b[1;31mTypeError\u001b[0m: 'dict_keys' object does not support indexing"
     ]
    }
   ],
   "source": [
    "from pyomo.environ import *\n",
    "from pyomo.dae import *\n",
    "import numpy as np\n",
    "\n",
    "m = ConcreteModel()\n",
    "\n",
    "t_end = 2*60*60\n",
    "m.t = ContinuousSet(bounds=(0,t_end)) \n",
    "\n",
    "m.x = Var(m.t, bounds=(0,600e3))\n",
    "m.v = Var(m.t, bounds=(0,150))\n",
    "m.u = Var(m.t, initialize=0, bounds=(-200e3,200e3))\n",
    "\n",
    "Mass = 300.0e3\n",
    "v_max = 100.0\n",
    "p_max = 8.0e6\n",
    "f_max = p_max/v_max\n",
    "x_end = 500e3\n",
    "\n",
    "K_d = f_max/v_max**2\n",
    "print('K_d: {:2.3f}'.format(K_d))\n",
    "\n",
    "m.dx = DerivativeVar(m.x)\n",
    "m.dv = DerivativeVar(m.v)\n",
    "\n",
    "m.obj = Objective(expr=(m.x[t_end]-x_end)**2+m.v[t_end]**2)\n",
    "\n",
    "def _obj(M):\n",
    "    #e=0.0\n",
    "    #x=0\n",
    "    #for i in range(len(M.u)):\n",
    "\n",
    "    #    e += M.u[i]**2\n",
    "    #for i in range(len(M.x2)):\n",
    "    #    x += (M.x2[i]-3)**2\n",
    "    #e = Integral(expr=M.u, wrt=M.u, bounds=(0,1))\n",
    "    #x = Integral(expr=(m.x2-2)**2, wrt=M.x1, bounds=(0,1))\n",
    "    e = 0\n",
    "    for i in M.t:\n",
    "        p = m.v[i]*M.u[i]\n",
    "        #if p<0:\n",
    "        #    p=0\n",
    "            \n",
    "        e += p\n",
    "        \n",
    "    return 10*e + (m.x[t_end]-x_end)**2 + 100000*m.v[t_end]**2\n",
    "m.obj = Objective(rule=_obj, sense=minimize, doc='Define objective function')\n",
    "\n",
    "def _dx(M,i):\n",
    "    if i == 0:\n",
    "        return Constraint.Skip\n",
    "    return M.dx[i] == M.v[i]\n",
    "\n",
    "m.dxcon = Constraint(m.t, rule=_dx)\n",
    "\n",
    "def _dv(M,i):\n",
    "    if i == 0:\n",
    "        return Constraint.Skip\n",
    "    return M.dv[i] == 1/Mass*(M.u[i]  - 2*K_d*M.v[i]*abs(M.v[i]))\n",
    "m.dvcon = Constraint(m.t, rule=_dv)\n",
    "\n",
    "\n",
    "#def _power(M,i):\n",
    "#    return M.u[i]*M.v[i] < 20.0e6\n",
    "#m.power = Constraint(m.t, rule=_power)\n",
    "\n",
    "def _init(M):\n",
    "    yield M.x[0] == 0\n",
    "    yield M.v[0] == 0\n",
    "    yield ConstraintList.End\n",
    "m.init_conditions = ConstraintList(rule=_init)\n",
    "\n",
    "from pyomo.environ import *\n",
    "from pyomo.dae import *\n",
    "from pyomo.opt import SolverFactory\n",
    "from pyomo.dae.plugins.finitedifference import Finite_Difference_Transformation\n",
    "from pyomo.dae.plugins.colloc import Collocation_Discretization_Transformation\n",
    "\n",
    "\n",
    "instance = m\n",
    "\n",
    "# Discretize model using Backward Finite Difference method\n",
    "#discretize = Finite_Difference_Transformation()\n",
    "#disc_instance = discretize.apply(instance,nfe=20,scheme='BACKWARD')\n",
    "\n",
    "# Discretize model using Orthogonal Collocation\n",
    "discretize = Collocation_Discretization_Transformation()\n",
    "disc_instance = discretize.apply(instance,nfe=40,ncp=10,scheme='LAGRANGE-RADAU')\n",
    "\n",
    "# Will reimplement this method in future release of pyomo.dae\n",
    "# disc_instance = discretize.reduce_collocation_points(var=instance.u,\n",
    "# \tncp=2, diffset=instance.t)\n",
    "\n",
    "solver='ipopt'\n",
    "opt=SolverFactory(solver)\n",
    "\n",
    "results = opt.solve(disc_instance,tee=True)\n",
    "disc_instance.load(results)\n",
    "\n",
    "x = []\n",
    "v = []\n",
    "u = []\n",
    "p = []\n",
    "t=[]\n",
    "\n",
    "#print(sorted(disc_instance.t))\n",
    "\n",
    "for i in sorted(disc_instance.t):\n",
    "    t.append(i)\n",
    "    x.append(value(disc_instance.x[i]))\n",
    "    v.append(value(disc_instance.v[i]))\n",
    "    u.append(value(disc_instance.u[i]))\n",
    "    p.append(value(disc_instance.u[i])*value(disc_instance.v[i]))\n",
    "\n",
    "t = np.array(t)    \n",
    "x = np.array(x)    \n",
    "v = np.array(v)    \n",
    "u = np.array(u)    "
   ]
  },
  {
   "cell_type": "code",
   "execution_count": 5,
   "metadata": {
    "collapsed": false
   },
   "outputs": [],
   "source": [
    "import matplotlib.pyplot as plt\n",
    "\n",
    "\n",
    "p = v*u\n",
    "\n",
    "fig, (ax0,ax1) = plt.subplots(nrows=2)   # creates a figure with one axe\n",
    "\n",
    "ax0.plot(t,x/1.0e3)\n",
    "ax1.plot(t,v, 'g', lw=1)\n",
    "#ax1.plot(t,v_1)\n",
    "#ax1.plot(t,v_2)\n",
    "#ax1.plot(t,v_3)\n",
    "\n",
    "fig.show()\n",
    "\n",
    "fig, (ax0,ax1) = plt.subplots(nrows=2)   # creates a figure with one axe\n",
    "\n",
    "ax0.plot(t,u/1.0e3) \n",
    "ax1.plot(t,p/1.0e6) \n",
    "plt.show()\n"
   ]
  },
  {
   "cell_type": "code",
   "execution_count": null,
   "metadata": {
    "collapsed": false
   },
   "outputs": [],
   "source": []
  },
  {
   "cell_type": "code",
   "execution_count": null,
   "metadata": {
    "collapsed": false
   },
   "outputs": [],
   "source": []
  },
  {
   "cell_type": "code",
   "execution_count": null,
   "metadata": {
    "collapsed": true
   },
   "outputs": [],
   "source": []
  }
 ],
 "metadata": {
  "kernelspec": {
   "display_name": "Python 3",
   "language": "python",
   "name": "python3"
  },
  "language_info": {
   "codemirror_mode": {
    "name": "ipython",
    "version": 3
   },
   "file_extension": ".py",
   "mimetype": "text/x-python",
   "name": "python",
   "nbconvert_exporter": "python",
   "pygments_lexer": "ipython3",
   "version": "3.5.1"
  }
 },
 "nbformat": 4,
 "nbformat_minor": 0
}
