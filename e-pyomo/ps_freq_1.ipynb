{
 "cells": [
  {
   "cell_type": "code",
   "execution_count": 44,
   "metadata": {
    "collapsed": false
   },
   "outputs": [
    {
     "name": "stdout",
     "output_type": "stream",
     "text": [
      "ERROR: Rule failed when generating expression for objective objective:\n",
      "\tKeyError: \"Error accessing indexed component: Index '1' is not valid for array component 'p_nc'\"\n",
      "ERROR: Constructing component 'objective' from data=None failed:\n",
      "\tKeyError: \"Error accessing indexed component: Index '1' is not valid for array component 'p_nc'\"\n"
     ]
    },
    {
     "ename": "KeyError",
     "evalue": "\"Error accessing indexed component: Index '1' is not valid for array component 'p_nc'\"",
     "output_type": "error",
     "traceback": [
      "\u001b[1;31m---------------------------------------------------------------------------\u001b[0m",
      "\u001b[1;31mKeyError\u001b[0m                                  Traceback (most recent call last)",
      "\u001b[1;32m<ipython-input-44-6612d9d199eb>\u001b[0m in \u001b[0;36m<module>\u001b[1;34m()\u001b[0m\n\u001b[0;32m     29\u001b[0m         \u001b[0me\u001b[0m \u001b[1;33m+=\u001b[0m\u001b[1;33m(\u001b[0m\u001b[0mp\u001b[0m\u001b[1;33m)\u001b[0m\u001b[1;33m**\u001b[0m\u001b[1;36m2\u001b[0m\u001b[1;33m\u001b[0m\u001b[0m\n\u001b[0;32m     30\u001b[0m     \u001b[1;32mreturn\u001b[0m  \u001b[0me\u001b[0m\u001b[1;33m\u001b[0m\u001b[0m\n\u001b[1;32m---> 31\u001b[1;33m \u001b[0mm\u001b[0m\u001b[1;33m.\u001b[0m\u001b[0mobjective\u001b[0m \u001b[1;33m=\u001b[0m \u001b[0mObjective\u001b[0m\u001b[1;33m(\u001b[0m\u001b[0mrule\u001b[0m\u001b[1;33m=\u001b[0m\u001b[0mobjective_rule\u001b[0m\u001b[1;33m,\u001b[0m \u001b[0msense\u001b[0m\u001b[1;33m=\u001b[0m\u001b[0mminimize\u001b[0m\u001b[1;33m,\u001b[0m \u001b[0mdoc\u001b[0m\u001b[1;33m=\u001b[0m\u001b[1;34m'Define objective function'\u001b[0m\u001b[1;33m)\u001b[0m\u001b[1;33m\u001b[0m\u001b[0m\n\u001b[0m\u001b[0;32m     32\u001b[0m \u001b[1;33m\u001b[0m\u001b[0m\n\u001b[0;32m     33\u001b[0m \u001b[1;33m\u001b[0m\u001b[0m\n",
      "\u001b[1;32m/home/jmmauricio/bin/anaconda3/lib/python3.5/site-packages/Pyomo-4.4-py3.5.egg/pyomo/core/base/block.py\u001b[0m in \u001b[0;36m__setattr__\u001b[1;34m(self, name, val)\u001b[0m\n\u001b[0;32m    481\u001b[0m                 \u001b[1;31m# Pyomo components are added with the add_component method.\u001b[0m\u001b[1;33m\u001b[0m\u001b[1;33m\u001b[0m\u001b[0m\n\u001b[0;32m    482\u001b[0m                 \u001b[1;31m#\u001b[0m\u001b[1;33m\u001b[0m\u001b[1;33m\u001b[0m\u001b[0m\n\u001b[1;32m--> 483\u001b[1;33m                 \u001b[0mself\u001b[0m\u001b[1;33m.\u001b[0m\u001b[0madd_component\u001b[0m\u001b[1;33m(\u001b[0m\u001b[0mname\u001b[0m\u001b[1;33m,\u001b[0m \u001b[0mval\u001b[0m\u001b[1;33m)\u001b[0m\u001b[1;33m\u001b[0m\u001b[0m\n\u001b[0m\u001b[0;32m    484\u001b[0m             \u001b[1;32melse\u001b[0m\u001b[1;33m:\u001b[0m\u001b[1;33m\u001b[0m\u001b[0m\n\u001b[0;32m    485\u001b[0m                 \u001b[1;31m#\u001b[0m\u001b[1;33m\u001b[0m\u001b[1;33m\u001b[0m\u001b[0m\n",
      "\u001b[1;32m/home/jmmauricio/bin/anaconda3/lib/python3.5/site-packages/Pyomo-4.4-py3.5.egg/pyomo/core/base/block.py\u001b[0m in \u001b[0;36madd_component\u001b[1;34m(self, name, val)\u001b[0m\n\u001b[0;32m    847\u001b[0m                               _blockName, str(data) )\n\u001b[0;32m    848\u001b[0m             \u001b[1;32mtry\u001b[0m\u001b[1;33m:\u001b[0m\u001b[1;33m\u001b[0m\u001b[0m\n\u001b[1;32m--> 849\u001b[1;33m                 \u001b[0mval\u001b[0m\u001b[1;33m.\u001b[0m\u001b[0mconstruct\u001b[0m\u001b[1;33m(\u001b[0m\u001b[0mdata\u001b[0m\u001b[1;33m)\u001b[0m\u001b[1;33m\u001b[0m\u001b[0m\n\u001b[0m\u001b[0;32m    850\u001b[0m             \u001b[1;32mexcept\u001b[0m\u001b[1;33m:\u001b[0m\u001b[1;33m\u001b[0m\u001b[0m\n\u001b[0;32m    851\u001b[0m                 \u001b[0merr\u001b[0m \u001b[1;33m=\u001b[0m \u001b[0msys\u001b[0m\u001b[1;33m.\u001b[0m\u001b[0mexc_info\u001b[0m\u001b[1;33m(\u001b[0m\u001b[1;33m)\u001b[0m\u001b[1;33m[\u001b[0m\u001b[1;36m1\u001b[0m\u001b[1;33m]\u001b[0m\u001b[1;33m\u001b[0m\u001b[0m\n",
      "\u001b[1;32m/home/jmmauricio/bin/anaconda3/lib/python3.5/site-packages/Pyomo-4.4-py3.5.egg/pyomo/core/base/objective.py\u001b[0m in \u001b[0;36mconstruct\u001b[1;34m(self, data)\u001b[0m\n\u001b[0;32m    305\u001b[0m             \u001b[1;32melse\u001b[0m\u001b[1;33m:\u001b[0m\u001b[1;33m\u001b[0m\u001b[0m\n\u001b[0;32m    306\u001b[0m                 \u001b[1;32mtry\u001b[0m\u001b[1;33m:\u001b[0m\u001b[1;33m\u001b[0m\u001b[0m\n\u001b[1;32m--> 307\u001b[1;33m                     \u001b[0mtmp\u001b[0m \u001b[1;33m=\u001b[0m \u001b[0m_init_rule\u001b[0m\u001b[1;33m(\u001b[0m\u001b[0m_self_parent\u001b[0m\u001b[1;33m)\u001b[0m\u001b[1;33m\u001b[0m\u001b[0m\n\u001b[0m\u001b[0;32m    308\u001b[0m                 \u001b[1;32mexcept\u001b[0m \u001b[0mException\u001b[0m\u001b[1;33m:\u001b[0m\u001b[1;33m\u001b[0m\u001b[0m\n\u001b[0;32m    309\u001b[0m                     \u001b[0merr\u001b[0m \u001b[1;33m=\u001b[0m \u001b[0msys\u001b[0m\u001b[1;33m.\u001b[0m\u001b[0mexc_info\u001b[0m\u001b[1;33m(\u001b[0m\u001b[1;33m)\u001b[0m\u001b[1;33m[\u001b[0m\u001b[1;36m1\u001b[0m\u001b[1;33m]\u001b[0m\u001b[1;33m\u001b[0m\u001b[0m\n",
      "\u001b[1;32m<ipython-input-44-6612d9d199eb>\u001b[0m in \u001b[0;36mobjective_rule\u001b[1;34m(M)\u001b[0m\n\u001b[0;32m     26\u001b[0m     \u001b[0me\u001b[0m \u001b[1;33m=\u001b[0m \u001b[1;36m0\u001b[0m\u001b[1;33m\u001b[0m\u001b[0m\n\u001b[0;32m     27\u001b[0m     \u001b[1;32mfor\u001b[0m \u001b[0mi\u001b[0m \u001b[1;32min\u001b[0m \u001b[0mrange\u001b[0m\u001b[1;33m(\u001b[0m\u001b[1;36m200\u001b[0m\u001b[1;33m)\u001b[0m\u001b[1;33m:\u001b[0m\u001b[1;33m\u001b[0m\u001b[0m\n\u001b[1;32m---> 28\u001b[1;33m         \u001b[0mp\u001b[0m \u001b[1;33m=\u001b[0m \u001b[0mM\u001b[0m\u001b[1;33m.\u001b[0m\u001b[0mp_nc\u001b[0m\u001b[1;33m[\u001b[0m\u001b[0mi\u001b[0m\u001b[1;33m]\u001b[0m\u001b[1;33m\u001b[0m\u001b[0m\n\u001b[0m\u001b[0;32m     29\u001b[0m         \u001b[0me\u001b[0m \u001b[1;33m+=\u001b[0m\u001b[1;33m(\u001b[0m\u001b[0mp\u001b[0m\u001b[1;33m)\u001b[0m\u001b[1;33m**\u001b[0m\u001b[1;36m2\u001b[0m\u001b[1;33m\u001b[0m\u001b[0m\n\u001b[0;32m     30\u001b[0m     \u001b[1;32mreturn\u001b[0m  \u001b[0me\u001b[0m\u001b[1;33m\u001b[0m\u001b[0m\n",
      "\u001b[1;32m/home/jmmauricio/bin/anaconda3/lib/python3.5/site-packages/Pyomo-4.4-py3.5.egg/pyomo/core/base/indexed_component.py\u001b[0m in \u001b[0;36m__getitem__\u001b[1;34m(self, ndx)\u001b[0m\n\u001b[0;32m    501\u001b[0m                   \u001b[1;34m\"Index '%s' is not valid for array component '%s'\"\u001b[0m\u001b[0;31m \u001b[0m\u001b[0;31m\\\u001b[0m\u001b[1;33m\u001b[0m\u001b[0m\n\u001b[0;32m    502\u001b[0m                   \u001b[1;33m%\u001b[0m \u001b[1;33m(\u001b[0m \u001b[0mndx\u001b[0m\u001b[1;33m,\u001b[0m \u001b[0mself\u001b[0m\u001b[1;33m.\u001b[0m\u001b[0mcname\u001b[0m\u001b[1;33m(\u001b[0m\u001b[1;32mTrue\u001b[0m\u001b[1;33m)\u001b[0m\u001b[1;33m,\u001b[0m \u001b[1;33m)\u001b[0m\u001b[1;33m\u001b[0m\u001b[0m\n\u001b[1;32m--> 503\u001b[1;33m         \u001b[1;32mraise\u001b[0m \u001b[0mKeyError\u001b[0m\u001b[1;33m(\u001b[0m\u001b[0mmsg\u001b[0m\u001b[1;33m)\u001b[0m\u001b[1;33m\u001b[0m\u001b[0m\n\u001b[0m\u001b[0;32m    504\u001b[0m \u001b[1;33m\u001b[0m\u001b[0m\n\u001b[0;32m    505\u001b[0m \u001b[1;33m\u001b[0m\u001b[0m\n",
      "\u001b[1;31mKeyError\u001b[0m: \"Error accessing indexed component: Index '1' is not valid for array component 'p_nc'\""
     ]
    }
   ],
   "source": [
    "from pyomo.environ import *\n",
    "from pyomo.dae import *\n",
    "\n",
    "m = ConcreteModel()\n",
    "\n",
    "H = 3.5\n",
    "K_d = 2.0\n",
    "Droop = 0.05\n",
    "T_g = 1.0\n",
    "\n",
    "m.t = ContinuousSet(bounds=(0,10)) \n",
    "\n",
    "m.Df   = Var(m.t, bounds=(-1,1))\n",
    "m.p_g  = Var(m.t, bounds=(-1,1))\n",
    "#m.p_f  = Var(m.t, bounds=(-1,1))\n",
    "m.p_nc = Var(m.t, initialize=0.0,bounds=(-0.1,0.1))\n",
    "m.e_nc = Var(m.t, initialize=0.4,bounds=(0.0,1.0))\n",
    "\n",
    "m.dDf   = DerivativeVar(m.Df)\n",
    "m.dp_g  = DerivativeVar(m.p_g)\n",
    "m.de_nc = DerivativeVar(m.e_nc)\n",
    "\n",
    "#m.obj = Objective(expr=m.p_nc[10]**2)\n",
    "\n",
    "def objective_rule(M):\n",
    "    e = 0\n",
    "    for i in range(200):\n",
    "        p = M.p_nc[i]\n",
    "        e +=(p)**2    \n",
    "    return  e\n",
    "m.objective = Objective(rule=objective_rule, sense=minimize, doc='Define objective function')\n",
    "\n",
    "\n",
    "\n",
    "def _dDf(M,i):\n",
    "    if i == 0:\n",
    "        return Constraint.Skip\n",
    "    #M.p_f[i] = -1.0/Droop*M.Df[i]\n",
    "    return M.dDf[i] == 1.0/(2.0*H)*(M.p_g[i] + M.p_nc[i] - 0.2 - K_d*M.Df[i])\n",
    "m.dDfcon = Constraint(m.t, rule=_dDf)\n",
    "\n",
    "def _dp_g(M,i):\n",
    "    if i == 0:\n",
    "        return Constraint.Skip\n",
    "    \n",
    "    return M.dp_g[i] == 1.0/T_g*(-1.0/Droop*M.Df[i]- M.p_g[i])\n",
    "m.xdp_gcon = Constraint(m.t, rule=_dp_g)\n",
    "\n",
    "def _de_nc(M,i):\n",
    "    if i == 0:\n",
    "        return Constraint.Skip\n",
    "    return M.de_nc[i] == - M.p_nc[i]\n",
    "m.de_nccon = Constraint(m.t, rule=_de_nc)\n",
    "\n",
    "\n",
    "def _init(M):\n",
    "    yield M.Df[0]  == 0.0\n",
    "    yield M.p_g[0] == 0.0\n",
    "    yield M.p_nc[0] == 0.0\n",
    "    #yield M.p_f[0] == 0.0\n",
    "    yield M.e_nc[0] == 0.4\n",
    "    yield ConstraintList.End\n",
    "m.init_conditions = ConstraintList(rule=_init)\n"
   ]
  },
  {
   "cell_type": "code",
   "execution_count": 37,
   "metadata": {
    "collapsed": false
   },
   "outputs": [
    {
     "name": "stdout",
     "output_type": "stream",
     "text": [
      "\n",
      "\n",
      "******************************************************************************\n",
      "This program contains Ipopt, a library for large-scale nonlinear optimization.\n",
      " Ipopt is released as open source code under the Common Public License (CPL).\n",
      "         For more information visit http://projects.coin-or.org/Ipopt\n",
      "******************************************************************************\n",
      "\n",
      "NOTE: You are using Ipopt by default with the MUMPS linear solver.\n",
      "      Other linear solvers might be more efficient (see Ipopt documentation).\n",
      "\n",
      "\n",
      "This is Ipopt version 3.7.1, running with linear solver mumps.\n",
      "\n",
      "Number of nonzeros in equality constraint Jacobian...:     3803\n",
      "Number of nonzeros in inequality constraint Jacobian.:        0\n",
      "Number of nonzeros in Lagrangian Hessian.............:        1\n",
      "\n",
      "Total number of variables............................:     1053\n",
      "                     variables with only lower bounds:        0\n",
      "                variables with lower and upper bounds:      603\n",
      "                     variables with only upper bounds:        0\n",
      "Total number of equality constraints.................:     1003\n",
      "Total number of inequality constraints...............:        0\n",
      "        inequality constraints with only lower bounds:        0\n",
      "   inequality constraints with lower and upper bounds:        0\n",
      "        inequality constraints with only upper bounds:        0\n",
      "\n",
      "iter    objective    inf_pr   inf_du lg(mu)  ||d||  lg(rg) alpha_du alpha_pr  ls\n",
      "   0  0.0000000e+00 2.86e-02 0.00e+00  -1.0 0.00e+00    -  0.00e+00 0.00e+00   0\n",
      "   1  5.5299873e-08 4.92e-15 8.57e-02  -1.7 2.33e-01    -  8.16e-01 1.00e+00h  1\n",
      "   2  1.0031926e-09 4.75e-15 2.34e-14  -1.7 2.28e-02    -  1.00e+00 1.00e+00f  1\n",
      "   3  7.7400681e-10 4.89e-15 5.20e-16  -3.8 5.19e-04    -  1.00e+00 1.00e+00f  1\n",
      "   4  1.5551694e-12 4.20e-15 2.97e-18  -5.7 8.13e-04    -  1.00e+00 1.00e+00h  1\n",
      "   5  6.0452739e-19 3.55e-15 4.63e-20  -8.6 8.93e-05    -  1.00e+00 1.00e+00h  1\n",
      "\n",
      "Number of Iterations....: 5\n",
      "\n",
      "                                   (scaled)                 (unscaled)\n",
      "Objective...............:   6.0452739434928810e-19    6.0452739434928810e-19\n",
      "Dual infeasibility......:   4.6341966637670822e-20    4.6341966637670822e-20\n",
      "Constraint violation....:   3.5547194528195991e-15    3.5547194528195991e-15\n",
      "Complementarity.........:   2.8509661047200201e-09    2.8509661047200201e-09\n",
      "Overall NLP error.......:   2.8509661047200201e-09    2.8509661047200201e-09\n",
      "\n",
      "\n",
      "Number of objective function evaluations             = 6\n",
      "Number of objective gradient evaluations             = 6\n",
      "Number of equality constraint evaluations            = 6\n",
      "Number of inequality constraint evaluations          = 0\n",
      "Number of equality constraint Jacobian evaluations   = 6\n",
      "Number of inequality constraint Jacobian evaluations = 0\n",
      "Number of Lagrangian Hessian evaluations             = 5\n",
      "Total CPU secs in IPOPT (w/o function evaluations)   =      0.024\n",
      "Total CPU secs in NLP function evaluations           =      0.000\n",
      "\n",
      "EXIT: Optimal Solution Found.\n",
      " \n",
      "Ipopt 3.7.1: Optimal Solution Found\n"
     ]
    }
   ],
   "source": [
    "# Discretize model using Backward Finite Difference method\n",
    "# discretizer = TransformationFactory('dae.finite_difference')\n",
    "# discretizer.apply_to(m,nfe=20,scheme='BACKWARD')\n",
    "\n",
    "# Discretize model using Orthogonal Collocation\n",
    "discretizer = TransformationFactory('dae.collocation')\n",
    "discretizer.apply_to(m,nfe=50,ncp=3,scheme='LAGRANGE-RADAU')\n",
    "discretizer.reduce_collocation_points(m,var=m.p_nc,ncp=1,contset=m.t)\n",
    "\n",
    "solver=SolverFactory('ipopt')\n",
    "\n",
    "results = solver.solve(m,tee=True)"
   ]
  },
  {
   "cell_type": "code",
   "execution_count": 40,
   "metadata": {
    "collapsed": false
   },
   "outputs": [
    {
     "data": {
      "image/png": "[encoded data removed]",
      "text/plain": [
       "<matplotlib.figure.Figure at 0x7ff5aef8a240>"
      ]
     },
     "metadata": {},
     "output_type": "display_data"
    }
   ],
   "source": [
    "import matplotlib.pyplot as plt\n",
    "%matplotlib inline\n",
    "\n",
    "Df_list = []\n",
    "t_list=[]\n",
    "p_g_list=[]\n",
    "p_f_list=[]\n",
    "p_nc_list=[]\n",
    "e_nc_list=[]\n",
    "\n",
    "#print(sorted(m.t))\n",
    "\n",
    "for i in sorted(m.t):\n",
    "    t_list.append(i)\n",
    "    Df_list.append(value(m.Df[i]))\n",
    "    p_g_list.append(value(m.p_g[i]))\n",
    "    p_nc_list.append(value(m.p_nc[i]))\n",
    "    e_nc_list.append(value(m.e_nc[i]))\n",
    "   # p_f_list.append(value(m.p_f[i]))\n",
    "    \n",
    "    \n",
    "Df = np.array(Df_list)\n",
    "p_g = np.array(p_g_list)\n",
    "p_f = np.array(p_f_list)\n",
    "p_nc = np.array(p_nc_list)\n",
    "t = np.array(t_list)\n",
    "\n",
    "\n",
    "fig, (ax0,ax1,ax2,ax3) = plt.subplots(nrows=4, figsize=(8,10))   # creates a figure with one axe\n",
    "\n",
    "ax0.plot(t,Df/1.0e3)\n",
    "#ax1.plot(t,p_f, 'r', lw=1)\n",
    "ax1.plot(t,p_g, 'g', lw=1)\n",
    "ax2.plot(t,p_nc, 'b', lw=1)\n",
    "#ax3.plot(t,e_nc, 'b', lw=1)\n",
    "plt.show()\n",
    "\n",
    "#fig, (ax0,ax1) = plt.subplots(nrows=2)   # creates a figure with one axe\n",
    "\n",
    "#ax0.plot(t,u/1.0e3) \n",
    "#ax1.plot(t,p/1.0e6) \n",
    "#plt.show()\n"
   ]
  },
  {
   "cell_type": "code",
   "execution_count": null,
   "metadata": {
    "collapsed": false
   },
   "outputs": [],
   "source": []
  },
  {
   "cell_type": "code",
   "execution_count": null,
   "metadata": {
    "collapsed": false
   },
   "outputs": [],
   "source": []
  },
  {
   "cell_type": "code",
   "execution_count": null,
   "metadata": {
    "collapsed": true
   },
   "outputs": [],
   "source": []
  }
 ],
 "metadata": {
  "kernelspec": {
   "display_name": "Python 3",
   "language": "python",
   "name": "python3"
  },
  "language_info": {
   "codemirror_mode": {
    "name": "ipython",
    "version": 3
   },
   "file_extension": ".py",
   "mimetype": "text/x-python",
   "name": "python",
   "nbconvert_exporter": "python",
   "pygments_lexer": "ipython3",
   "version": "3.5.2"
  }
 },
 "nbformat": 4,
 "nbformat_minor": 0
}
