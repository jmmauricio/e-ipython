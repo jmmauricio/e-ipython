{
 "cells": [
  {
   "cell_type": "code",
   "execution_count": 1,
   "metadata": {
    "collapsed": false
   },
   "outputs": [],
   "source": [
    "# Import of the pyomo module\n",
    "from pyomo.environ import *\n",
    "import numpy as np\n",
    "import matplotlib.pyplot as plt\n",
    "\n",
    "# Creation of a Concrete Model\n",
    "model = ConcreteModel()\n",
    "\n",
    "idx_end = 100\n",
    "t_end = 10.0\n",
    "Dt = t_end/idx_end\n",
    "\n",
    "model.i = Set(initialize=range(idx_end), doc='tiempo')\n",
    "model.j = Set(initialize=range(idx_end-1), doc='tiempo reducido')\n",
    "model.k = Set(initialize=range(2), doc='tiempo reducido')\n",
    "\n",
    "model.Df  = Var(model.i, bounds=(-1.0,1.0), doc='current')\n",
    "model.p_g = Var(model.i, bounds=(-5,5), doc='voltage')\n",
    "model.p_nc  = Var(model.i, bounds=(-0.0001,0.1), doc='voltage')\n",
    "model.e_nc  = Var(model.i, bounds=(-10,10), doc='voltage')\n",
    "model.f_min  = Var(model.i, initialize=0.01, bounds=(-10,10), doc='minimum frequency')\n",
    "\n",
    "def _dp_g(model, i):\n",
    "    T_g = 3.0\n",
    "    Droop = 0.05\n",
    "    \n",
    "    def f(i):\n",
    "        p_c = -1.0/Droop*model.Df[i]\n",
    "        return 1/T_g*(p_c-model.p_g[i])\n",
    "    \n",
    "    return model.p_g[i+1] == model.p_g[i] + Dt*0.5*(f(i+1)+f(i))\n",
    "model.veq = Constraint(model.j, rule=_dp_g, doc='generator power')\n",
    "\n",
    "def _dDf(model, i):\n",
    "    p_l = 0.1\n",
    "    H = 3.5\n",
    "    def f(i):\n",
    "        return 1/(2*H)*(-p_l+model.p_nc[i]+model.p_g[i]-model.Df[i])    \n",
    "    return model.Df[i+1] == model.Df[i] + Dt*0.5*(f(i+1)+f(i))\n",
    "model.ileq = Constraint(model.j, rule=_dDf, doc='frequency increment')\n",
    "\n",
    "def _de(model, i):\n",
    "    def f(i):\n",
    "        return -model.p_nc[i]    \n",
    "    return model.e_nc[i+1] == model.e_nc[i] + Dt*0.5*(f(i+1)+f(i))\n",
    "model.e = Constraint(model.j, rule=_de, doc='frequency increment')\n",
    "\n",
    "def _f_min1(model, i):\n",
    "    def f(i):\n",
    "        #K=1\n",
    "        #for k in model.Df:\n",
    "            \n",
    "        #if value(model.Df[i]) < -0.1:\n",
    "        #    K=1\n",
    "        #else:\n",
    "        #    K=1\n",
    "        \n",
    "        u = model.Df[i]\n",
    "        f_value = 1.0/0.1*(u-model.f_min[i])\n",
    "        #else: \n",
    "        #    u = model.f_min[i]\n",
    "        #    f_value = 1.0/0.1*(u-model.f_min[i])\n",
    "        #if u == model.f_min[i]:\n",
    "        #    f_value =0\n",
    "        return f_value\n",
    "    delta = Dt*0.5*(f(i+1)+f(i)) \n",
    "    if value(delta) >0:\n",
    "        delta =0\n",
    "    return model.f_min[i+1] == model.f_min[i] + delta \n",
    "\n",
    "def _f_min2(model, i):\n",
    "    time = Dt*i\n",
    "    DF = model.Df[i]\n",
    "    if time>0.37:\n",
    "        DF = -.005\n",
    "        \n",
    "    return model.f_min[i+1] == model.f_min[i] + Dt*(model.Df[i]-(DF))**2\n",
    "\n",
    "\n",
    "def _f_min3(model, i):\n",
    "    return model.f_min[i] == min([value(item) for item in model.Df])\n",
    "\n",
    "def _f_min4(model, i):\n",
    "    return model.f_min[i+1] == min(model.f_min[i], model.Df[i])\n",
    "\n",
    "\n",
    "model.confmin = Constraint(model.j, rule=_f_min2, doc='frequency increment')\n",
    "\n",
    "def con_desired_1(model):\n",
    "    return model.e_nc[idx_end-1] == -0.04\n",
    "model.desired1 = Constraint(rule=con_desired_1, doc='restr')\n",
    "\n",
    "def con_desired_2(model):\n",
    "    return model.p_nc[idx_end-1] == 0\n",
    "model.desired2 = Constraint(rule=con_desired_2, doc='restr')\n",
    "\n",
    "def initial1(model):\n",
    "    return model.Df[0] == 0\n",
    "model.initial1 = Constraint(rule=initial1, doc='initial value')\n",
    "\n",
    "def initial2(model):\n",
    "    return model.p_g[0] == 0\n",
    "model.initial2 = Constraint(rule=initial2, doc='initial value')\n",
    "\n",
    "def initial3(model):\n",
    "    return model.e_nc[0] == 0\n",
    "model.initial3 = Constraint(rule=initial3, doc='initial value')\n",
    "\n",
    "def initial4(model):\n",
    "    return model.p_nc[0] == 0\n",
    "model.initial4 = Constraint(rule=initial4, doc='initial value')\n",
    "\n",
    "def initial5(model):\n",
    "    return model.f_min[0] == 0.01\n",
    "model.initial5 = Constraint(rule=initial5, doc='initial value')\n",
    "\n",
    "def objective_rule(model):\n",
    "#    D = 0\n",
    "#    for item in model.Df.values():\n",
    "#        D+=item**2\n",
    "#    print(np.min(model.Df.values()))\n",
    "    #print(min(model.Df[5],model.Df[10],model.Df[50]))\n",
    "    return model.f_min[idx_end-1]\n",
    "model.objective = Objective(rule=objective_rule, sense=minimize, doc='Define objective function')\n",
    "\n",
    "\n",
    "from pyomo.opt import SolverFactory\n",
    "import pyomo.environ\n",
    "opt = SolverFactory(\"ipopt\")\n",
    "results = opt.solve(model)\n",
    "\n",
    "t = np.array([item for item in model.Df.get_values()])*Dt\n",
    "Df = np.array([item for item in model.Df.get_values().values()])\n",
    "p_g = np.array([item for item in model.p_g.get_values().values()])\n",
    "p_nc = np.array([item for item in model.p_nc.get_values().values()])\n",
    "e_nc = np.array([item for item in model.e_nc.get_values().values()])\n",
    "f_min = np.array([item for item in model.f_min.get_values().values()])"
   ]
  },
  {
   "cell_type": "code",
   "execution_count": 2,
   "metadata": {
    "collapsed": false
   },
   "outputs": [],
   "source": [
    "fig, (ax0,ax1,ax2) = plt.subplots(nrows=3)   # creates a figure with one axe\n",
    "\n",
    "ax0.plot(t,Df)\n",
    "#ax0.plot(t,f_min)\n",
    "ax1.plot(t,p_g, 'r', lw=1)\n",
    "ax1.plot(t,p_nc, 'g', lw=1)\n",
    "ax2.plot(t,e_nc, 'g', lw=1)\n",
    "#ax1.plot(t,v_1)\n",
    "#ax1.plot(t,v_2)\n",
    "#ax1.plot(t,v_3)\n",
    "\n",
    "ax0.grid(True)\n",
    "ax1.grid(True)\n",
    "\n",
    "plt.show()\n"
   ]
  },
  {
   "cell_type": "code",
   "execution_count": 3,
   "metadata": {
    "collapsed": false
   },
   "outputs": [
    {
     "data": {
      "text/plain": [
       "array([ 0. ,  0.1,  0.2,  0.3,  0.4,  0.5,  0.6,  0.7,  0.8,  0.9,  1. ,\n",
       "        1.1,  1.2,  1.3,  1.4,  1.5,  1.6,  1.7,  1.8,  1.9,  2. ,  2.1,\n",
       "        2.2,  2.3,  2.4,  2.5,  2.6,  2.7,  2.8,  2.9,  3. ,  3.1,  3.2,\n",
       "        3.3,  3.4,  3.5,  3.6,  3.7,  3.8,  3.9,  4. ,  4.1,  4.2,  4.3,\n",
       "        4.4,  4.5,  4.6,  4.7,  4.8,  4.9,  5. ,  5.1,  5.2,  5.3,  5.4,\n",
       "        5.5,  5.6,  5.7,  5.8,  5.9,  6. ,  6.1,  6.2,  6.3,  6.4,  6.5,\n",
       "        6.6,  6.7,  6.8,  6.9,  7. ,  7.1,  7.2,  7.3,  7.4,  7.5,  7.6,\n",
       "        7.7,  7.8,  7.9,  8. ,  8.1,  8.2,  8.3,  8.4,  8.5,  8.6,  8.7,\n",
       "        8.8,  8.9,  9. ,  9.1,  9.2,  9.3,  9.4,  9.5,  9.6,  9.7,  9.8,\n",
       "        9.9])"
      ]
     },
     "execution_count": 3,
     "metadata": {},
     "output_type": "execute_result"
    }
   ],
   "source": [
    "t"
   ]
  },
  {
   "cell_type": "code",
   "execution_count": 4,
   "metadata": {
    "collapsed": false
   },
   "outputs": [
    {
     "data": {
      "text/plain": [
       "{'Solution': [OrderedDict([('number of solutions', 0), ('number of solutions displayed', 0)])], 'Solver': [{'Message': 'Ipopt 3.7.1\\\\x3a Optimal Solution Found', 'Error rc': 0, 'Time': 0.05650973320007324, 'Id': 0, 'Status': 'ok', 'Termination condition': 'optimal'}], 'Problem': [{'Sense': 'unknown', 'Lower bound': -inf, 'Upper bound': inf, 'Number of constraints': 403, 'Number of variables': 500, 'Number of objectives': 1}]}"
      ]
     },
     "execution_count": 4,
     "metadata": {},
     "output_type": "execute_result"
    }
   ],
   "source": [
    "results"
   ]
  },
  {
   "cell_type": "code",
   "execution_count": 5,
   "metadata": {
    "collapsed": false
   },
   "outputs": [
    {
     "data": {
      "text/plain": [
       "1"
      ]
     },
     "execution_count": 5,
     "metadata": {},
     "output_type": "execute_result"
    }
   ],
   "source": [
    "min([1,2,3])"
   ]
  },
  {
   "cell_type": "code",
   "execution_count": 6,
   "metadata": {
    "collapsed": false
   },
   "outputs": [
    {
     "name": "stdout",
     "output_type": "stream",
     "text": [
      "9\n"
     ]
    }
   ],
   "source": [
    "import time,sys\n",
    "from IPython.display import display, clear_output\n",
    "for i in range(10):\n",
    "    time.sleep(0.25)\n",
    "    clear_output(wait=True)\n",
    "    print(i)\n",
    "    sys.stdout.flush()"
   ]
  },
  {
   "cell_type": "code",
   "execution_count": null,
   "metadata": {
    "collapsed": true
   },
   "outputs": [],
   "source": []
  }
 ],
 "metadata": {
  "kernelspec": {
   "display_name": "Python 3",
   "language": "python",
   "name": "python3"
  },
  "language_info": {
   "codemirror_mode": {
    "name": "ipython",
    "version": 3
   },
   "file_extension": ".py",
   "mimetype": "text/x-python",
   "name": "python",
   "nbconvert_exporter": "python",
   "pygments_lexer": "ipython3",
   "version": "3.5.1"
  }
 },
 "nbformat": 4,
 "nbformat_minor": 0
}
