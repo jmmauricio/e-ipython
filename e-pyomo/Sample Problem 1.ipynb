{
 "cells": [
  {
   "cell_type": "markdown",
   "metadata": {},
   "source": [
    "## Sample Problem 1 (Ex 1 from Dynopt Guide)"
   ]
  },
  {
   "cell_type": "markdown",
   "metadata": {},
   "source": [
    "\n",
    "\\begin{align}\n",
    "\\sf minimize&: \\, \\sf x_2 \\left(t_f\\right) \\\\\n",
    "\\sf subject \\, to &:\\\\\n",
    "\\sf \\frac{dx_1}{dt} &= u \\\\\n",
    "\\sf \\frac{dx_2}{dt} &= x_1^2 +u^2\\\\\n",
    "\\sf  x_1\\left(0\\right) &= 1 \\\\\n",
    "\\sf  x_2\\left(0\\right) &= 0 \\\\\n",
    "\\sf t_f &= 1\n",
    "\\end{align}\n",
    "\n"
   ]
  },
  {
   "cell_type": "code",
   "execution_count": 31,
   "metadata": {
    "collapsed": false
   },
   "outputs": [],
   "source": [
    "from pyomo.environ import *\n",
    "from pyomo.dae import *\n",
    "\n",
    "m = ConcreteModel()\n",
    "\n",
    "m.t = ContinuousSet(bounds=(0,1)) \n",
    "\n",
    "m.x1 = Var(m.t, bounds=(0,1))\n",
    "m.x2 = Var(m.t, bounds=(0,1))\n",
    "m.u = Var(m.t, initialize=0)\n",
    "\n",
    "m.x1dot = DerivativeVar(m.x1)\n",
    "m.x2dot = DerivativeVar(m.x2)\n",
    "\n",
    "m.obj = Objective(expr=m.x2[1])\n",
    "\n",
    "def _x1dot(M,i):\n",
    "    if i == 0:\n",
    "        return Constraint.Skip\n",
    "    return M.x1dot[i] == M.u[i]\n",
    "m.x1dotcon = Constraint(m.t, rule=_x1dot)\n",
    "\n",
    "def _x2dot(M,i):\n",
    "    if i == 0:\n",
    "        return Constraint.Skip\n",
    "    return M.x2dot[i] == M.x1[i]**2 + M.u[i]**2\n",
    "m.x2dotcon = Constraint(m.t, rule=_x2dot)\n",
    "\n",
    "def _init(M):\n",
    "    yield M.x1[0] == 1\n",
    "    yield M.x2[0] == 0\n",
    "    yield ConstraintList.End\n",
    "m.init_conditions = ConstraintList(rule=_init)\n"
   ]
  },
  {
   "cell_type": "code",
   "execution_count": 32,
   "metadata": {
    "collapsed": false
   },
   "outputs": [
    {
     "name": "stdout",
     "output_type": "stream",
     "text": [
      "\n",
      "\n",
      "******************************************************************************\n",
      "This program contains Ipopt, a library for large-scale nonlinear optimization.\n",
      " Ipopt is released as open source code under the Common Public License (CPL).\n",
      "         For more information visit http://projects.coin-or.org/Ipopt\n",
      "******************************************************************************\n",
      "\n",
      "NOTE: You are using Ipopt by default with the MUMPS linear solver.\n",
      "      Other linear solvers might be more efficient (see Ipopt documentation).\n",
      "\n",
      "\n",
      "This is Ipopt version 3.7.1, running with linear solver mumps.\n",
      "\n",
      "Number of nonzeros in equality constraint Jacobian...:     2452\n",
      "Number of nonzeros in inequality constraint Jacobian.:        0\n",
      "Number of nonzeros in Lagrangian Hessian.............:      300\n",
      "\n",
      "Total number of variables............................:      752\n",
      "                     variables with only lower bounds:        0\n",
      "                variables with lower and upper bounds:      302\n",
      "                     variables with only upper bounds:        0\n",
      "Total number of equality constraints.................:      702\n",
      "Total number of inequality constraints...............:        0\n",
      "        inequality constraints with only lower bounds:        0\n",
      "   inequality constraints with lower and upper bounds:        0\n",
      "        inequality constraints with only upper bounds:        0\n",
      "\n",
      "iter    objective    inf_pr   inf_du lg(mu)  ||d||  lg(rg) alpha_du alpha_pr  ls\n",
      "   0  9.9999900e-03 9.90e-01 5.67e-05  -1.0 0.00e+00    -  0.00e+00 0.00e+00   0\n",
      "   1  5.5749571e-01 2.55e+01 1.88e+02  -1.7 4.12e+01    -  2.91e-04 1.61e-02F  1\n",
      "   2  2.1142671e-01 1.39e+01 7.49e+03  -1.7 1.73e+01    -  1.34e-04 9.90e-01f  1\n",
      "   3  6.4590846e-01 3.42e+00 9.54e+01  -1.7 1.83e+00   0.0 5.23e-01 9.90e-01h  1\n",
      "   4  8.2292542e-01 1.08e+00 1.19e+03  -1.7 4.60e+00    -  9.31e-01 9.90e-01h  1\n",
      "   5  8.3408288e-01 1.23e-02 5.47e-02  -1.7 5.79e-01    -  1.00e+00 1.00e+00h  1\n",
      "   6  8.2589258e-01 8.49e-03 4.17e+04  -3.8 3.86e-01    -  9.59e-01 1.00e+00h  1\n",
      "   7  7.1254706e-01 1.43e+00 4.70e+03  -3.8 4.94e+00    -  8.87e-01 1.00e+00h  1\n",
      "   8  7.5898668e-01 6.49e-02 3.08e+03  -3.8 9.89e-01    -  3.45e-01 1.00e+00h  1\n",
      "   9  7.6127954e-01 2.91e-02 8.56e-04  -3.8 2.77e-01    -  1.00e+00 1.00e+00h  1\n",
      "iter    objective    inf_pr   inf_du lg(mu)  ||d||  lg(rg) alpha_du alpha_pr  ls\n",
      "  10  7.6199863e-01 2.05e-03 3.69e-06  -3.8 1.01e-01    -  1.00e+00 1.00e+00h  1\n",
      "  11  7.6203945e-01 1.62e-07 2.17e-09  -3.8 1.39e-03    -  1.00e+00 1.00e+00h  1\n",
      "  12  7.6125247e-01 6.79e-03 1.53e+01  -5.7 1.38e-01    -  9.99e-01 1.00e+00h  1\n",
      "  13  7.6161220e-01 1.97e-05 3.19e-07  -5.7 4.43e-03    -  1.00e+00 1.00e+00h  1\n",
      "  14  7.6161392e-01 2.04e-11 1.26e-13  -5.7 1.30e-05    -  1.00e+00 1.00e+00h  1\n",
      "  15  7.6161378e-01 1.29e-06 1.01e-08  -8.6 1.70e-03    -  1.00e+00 1.00e+00h  1\n",
      "  16  7.6161385e-01 6.49e-13 1.01e-14  -8.6 8.05e-07    -  1.00e+00 1.00e+00h  1\n",
      "\n",
      "Number of Iterations....: 16\n",
      "\n",
      "                                   (scaled)                 (unscaled)\n",
      "Objective...............:   7.6161384900105988e-01    7.6161384900105988e-01\n",
      "Dual infeasibility......:   1.0103598730229479e-14    1.0103598730229479e-14\n",
      "Constraint violation....:   6.4859229098601645e-13    6.4859229098601645e-13\n",
      "Complementarity.........:   2.5059065330150689e-09    2.5059065330150689e-09\n",
      "Overall NLP error.......:   2.5059065330150689e-09    2.5059065330150689e-09\n",
      "\n",
      "\n",
      "Number of objective function evaluations             = 18\n",
      "Number of objective gradient evaluations             = 17\n",
      "Number of equality constraint evaluations            = 18\n",
      "Number of inequality constraint evaluations          = 0\n",
      "Number of equality constraint Jacobian evaluations   = 17\n",
      "Number of inequality constraint Jacobian evaluations = 0\n",
      "Number of Lagrangian Hessian evaluations             = 16\n",
      "Total CPU secs in IPOPT (w/o function evaluations)   =      0.176\n",
      "Total CPU secs in NLP function evaluations           =      0.000\n",
      "\n",
      "EXIT: Optimal Solution Found.\n",
      " \n",
      "Ipopt 3.7.1: Optimal Solution Found\n",
      "[0, 0.003101, 0.012899000000000001, 0.02, 0.023101, 0.032898999999999998, 0.04, 0.043101, 0.052899000000000002, 0.06, 0.063101000000000004, 0.072899000000000005, 0.08, 0.083100999999999994, 0.092898999999999995, 0.1, 0.103101, 0.112899, 0.12, 0.123101, 0.13289899999999999, 0.14, 0.14310100000000001, 0.15289900000000001, 0.16, 0.163101, 0.172899, 0.18, 0.18310100000000001, 0.19289899999999999, 0.2, 0.203101, 0.212899, 0.22, 0.22310099999999999, 0.23289899999999999, 0.24, 0.24310100000000001, 0.25289899999999998, 0.26, 0.26310099999999997, 0.272899, 0.28, 0.28310099999999999, 0.29289900000000002, 0.3, 0.30310100000000001, 0.31289899999999998, 0.32, 0.32310100000000003, 0.332899, 0.34, 0.34310099999999999, 0.35289900000000002, 0.36, 0.36310100000000001, 0.37289899999999998, 0.38, 0.38310100000000002, 0.392899, 0.4, 0.40310099999999999, 0.41289900000000002, 0.42, 0.423101, 0.43289899999999998, 0.44, 0.44310100000000002, 0.452899, 0.46, 0.46310099999999998, 0.47289900000000001, 0.48, 0.483101, 0.49289899999999998, 0.5, 0.50310100000000002, 0.51289899999999999, 0.52, 0.52310100000000004, 0.53289900000000001, 0.54, 0.54310099999999994, 0.55289900000000003, 0.56, 0.56310099999999996, 0.57289900000000005, 0.58, 0.58310099999999998, 0.59289899999999995, 0.6, 0.603101, 0.61289899999999997, 0.62, 0.62310100000000002, 0.63289899999999999, 0.64, 0.64310100000000003, 0.65289900000000001, 0.66, 0.66310100000000005, 0.67289900000000002, 0.68, 0.68310099999999996, 0.69289900000000004, 0.7, 0.70310099999999998, 0.71289899999999995, 0.72, 0.72310099999999999, 0.73289899999999997, 0.74, 0.74310100000000001, 0.75289899999999998, 0.76, 0.76310100000000003, 0.772899, 0.78, 0.78310100000000005, 0.79289900000000002, 0.8, 0.80310099999999995, 0.81289900000000004, 0.82, 0.82310099999999997, 0.83289899999999994, 0.84, 0.84310099999999999, 0.85289899999999996, 0.86, 0.86310100000000001, 0.87289899999999998, 0.88, 0.88310100000000002, 0.892899, 0.9, 0.90310100000000004, 0.91289900000000002, 0.92, 0.92310099999999995, 0.93289900000000003, 0.94, 0.94310099999999997, 0.95289900000000005, 0.96, 0.96310099999999998, 0.97289899999999996, 0.98, 0.983101, 0.99289899999999998, 1]\n"
     ]
    },
    {
     "data": {
      "image/png": "[encoded data removed]",
      "text/plain": [
       "<matplotlib.figure.Figure at 0x7f70dea3d278>"
      ]
     },
     "metadata": {},
     "output_type": "display_data"
    },
    {
     "data": {
      "image/png": "[encoded data removed]",
      "text/plain": [
       "<matplotlib.figure.Figure at 0x7f70c8677c18>"
      ]
     },
     "metadata": {},
     "output_type": "display_data"
    }
   ],
   "source": [
    "# Discretize model using Backward Finite Difference method\n",
    "# discretizer = TransformationFactory('dae.finite_difference')\n",
    "# discretizer.apply_to(m,nfe=20,scheme='BACKWARD')\n",
    "\n",
    "# Discretize model using Orthogonal Collocation\n",
    "discretizer = TransformationFactory('dae.collocation')\n",
    "discretizer.apply_to(m,nfe=50,ncp=3,scheme='LAGRANGE-RADAU')\n",
    "discretizer.reduce_collocation_points(m,var=m.u,ncp=1,contset=m.t)\n",
    "\n",
    "solver=SolverFactory('ipopt')\n",
    "\n",
    "results = solver.solve(m,tee=True)\n",
    "\n",
    "x1 = []\n",
    "x2 = []\n",
    "u = []\n",
    "t=[]\n",
    "\n",
    "print(sorted(m.t))\n",
    "\n",
    "for i in sorted(m.t):\n",
    "    t.append(i)\n",
    "    x1.append(value(m.x1[i]))\n",
    "    x2.append(value(m.x2[i]))\n",
    "    u.append(value(m.u[i]))\n",
    "\n",
    "import matplotlib.pyplot as plt\n",
    "%matplotlib inline\n",
    "\n",
    "plt.plot(t,x1, label='$\\sf x_1$')\n",
    "plt.plot(t,x2, label='$\\sf x_2$')\n",
    "plt.legend()\n",
    "plt.show()\n",
    "\n",
    "plt.plot(t,u)\n",
    "plt.show()\n"
   ]
  },
  {
   "cell_type": "code",
   "execution_count": 20,
   "metadata": {
    "collapsed": false
   },
   "outputs": [
    {
     "name": "stderr",
     "output_type": "stream",
     "text": [
      "/home/jmmauricio/bin/anaconda3/lib/python3.5/site-packages/matplotlib/axes/_axes.py:519: UserWarning: No labelled objects found. Use label='...' kwarg on individual plots.\n",
      "  warnings.warn(\"No labelled objects found. \"\n"
     ]
    },
    {
     "data": {
      "image/png": "[encoded data removed]",
      "text/plain": [
       "<matplotlib.figure.Figure at 0x7f70c87cdb70>"
      ]
     },
     "metadata": {},
     "output_type": "display_data"
    }
   ],
   "source": [
    "plt.legend()"
   ]
  },
  {
   "cell_type": "code",
   "execution_count": null,
   "metadata": {
    "collapsed": true
   },
   "outputs": [],
   "source": []
  }
 ],
 "metadata": {
  "kernelspec": {
   "display_name": "Python 3",
   "language": "python",
   "name": "python3"
  },
  "language_info": {
   "codemirror_mode": {
    "name": "ipython",
    "version": 3
   },
   "file_extension": ".py",
   "mimetype": "text/x-python",
   "name": "python",
   "nbconvert_exporter": "python",
   "pygments_lexer": "ipython3",
   "version": "3.5.1"
  }
 },
 "nbformat": 4,
 "nbformat_minor": 0
}
