{
 "cells": [
  {
   "cell_type": "code",
   "execution_count": 25,
   "metadata": {
    "collapsed": false
   },
   "outputs": [],
   "source": [
    "# Import of the pyomo module\n",
    "from pyomo.environ import *\n",
    "import numpy as np\n",
    "import matplotlib.pyplot as plt\n",
    "\n",
    "# Creation of a Concrete Model\n",
    "model = ConcreteModel()\n",
    "\n",
    "idx_end = 1000\n",
    "t_end = 10.0\n",
    "Dt = t_end/idx_end\n",
    "model.i = Set(initialize=range(idx_end), doc='tiempo')\n",
    "model.j = Set(initialize=range(idx_end-1), doc='tiempo reducido')\n",
    "model.k = Set(initialize=range(2), doc='tiempo reducido')\n",
    "\n",
    "model.i_l = Var(model.i, bounds=(0.0,None), doc='current')\n",
    "model.v_ref = Var(model.i, bounds=(-5,5), doc='voltage')\n",
    "model.v = Var(model.i, bounds=(-5,5), doc='voltage')\n",
    "\n",
    "def _dv(model, i):\n",
    "    T_filter = 0.01\n",
    "    return model.v[i+1] == model.v[i] + Dt*0.5*(1/T_filter*(model.v_ref[i+1]-model.v[i+1])+1/T_filter*(model.v_ref[i]-model.v[i]))\n",
    "model.veq = Constraint(model.j, rule=_dv, doc='restr')\n",
    "\n",
    "def _di_l(model, i):\n",
    "    return model.i_l[i+1] == model.i_l[i] + Dt*0.5*(1/1.0*(model.v[i+1]-0.1*model.i_l[i+1])+1/1.0*(model.v[i]-0.1*model.i_l[i]))\n",
    "model.ileq = Constraint(model.j, rule=_di_l, doc='restr')\n",
    "\n",
    "def con_desired_1(model):\n",
    "    return model.i_l[idx_end/2] == 10\n",
    "model.desired1 = Constraint(rule=con_desired_1, doc='restr')\n",
    "\n",
    "def con_desired_2(model):\n",
    "    return model.i_l[idx_end-1] == 5\n",
    "model.desired2 = Constraint(rule=con_desired_2, doc='restr')\n",
    "\n",
    "def initial1(model):\n",
    "    return model.v[0] == 0\n",
    "model.initial1 = Constraint(rule=initial1, doc='initial value')\n",
    "\n",
    "def initial2(model):\n",
    "    return model.i_l[0] == 0\n",
    "model.initial2 = Constraint(rule=initial2, doc='initial value')\n",
    "\n",
    "def objective_rule(model):\n",
    "    e = 0\n",
    "    for i in range(100):\n",
    "        e += model.v[i]*model.i_l[i] + 1000*model.i_l[i]**2\n",
    "    \n",
    "    return  e\n",
    "model.objective = Objective(rule=objective_rule, sense=minimize, doc='Define objective function')\n",
    "\n",
    "\n",
    "from pyomo.opt import SolverFactory\n",
    "import pyomo.environ\n",
    "opt = SolverFactory(\"ipopt\")\n",
    "results = opt.solve(model)\n",
    "\n",
    "t = np.array([item for item in model.i_l.get_values()])*1.0\n",
    "i_l = np.array([item for item in model.i_l.get_values().values()])\n",
    "v_ref = np.array([item for item in model.v_ref.get_values().values()])\n",
    "v = np.array([item for item in model.v.get_values().values()])"
   ]
  },
  {
   "cell_type": "code",
   "execution_count": 26,
   "metadata": {
    "collapsed": false
   },
   "outputs": [],
   "source": [
    "fig, (ax0,ax1) = plt.subplots(nrows=2)   # creates a figure with one axe\n",
    "\n",
    "ax0.plot(t,i_l)\n",
    "\n",
    "ax1.plot(t,v_ref, 'r', lw=1)\n",
    "ax1.plot(t,v, 'g', lw=1)\n",
    "#ax1.plot(t,v_1)\n",
    "#ax1.plot(t,v_2)\n",
    "#ax1.plot(t,v_3)\n",
    "\n",
    "ax0.grid(True)\n",
    "ax1.grid(True)\n",
    "\n",
    "plt.show()\n"
   ]
  },
  {
   "cell_type": "code",
   "execution_count": null,
   "metadata": {
    "collapsed": false
   },
   "outputs": [],
   "source": [
    "t"
   ]
  },
  {
   "cell_type": "code",
   "execution_count": null,
   "metadata": {
    "collapsed": false
   },
   "outputs": [],
   "source": [
    "results"
   ]
  },
  {
   "cell_type": "code",
   "execution_count": null,
   "metadata": {
    "collapsed": true
   },
   "outputs": [],
   "source": []
  }
 ],
 "metadata": {
  "kernelspec": {
   "display_name": "Python 3",
   "language": "python",
   "name": "python3"
  },
  "language_info": {
   "codemirror_mode": {
    "name": "ipython",
    "version": 3
   },
   "file_extension": ".py",
   "mimetype": "text/x-python",
   "name": "python",
   "nbconvert_exporter": "python",
   "pygments_lexer": "ipython3",
   "version": "3.5.1"
  }
 },
 "nbformat": 4,
 "nbformat_minor": 0
}
