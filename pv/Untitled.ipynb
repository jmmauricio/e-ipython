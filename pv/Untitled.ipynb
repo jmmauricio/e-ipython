{
 "cells": [
  {
   "cell_type": "markdown",
   "metadata": {},
   "source": [
    "<img src=\"png/instalacion_prysmian.png\",width=600,height=60>"
   ]
  },
  {
   "cell_type": "code",
   "execution_count": 2,
   "metadata": {},
   "outputs": [],
   "source": [
    "I_pmp = 7.44  # Corriente en el punto de máxima potencia\n",
    "U_pmp = 29.84 # Tensión en el punto de máxima potencia\n",
    "I_cc = 7.96   # Corriente de cortocircuito\n"
   ]
  },
  {
   "cell_type": "code",
   "execution_count": 5,
   "metadata": {},
   "outputs": [],
   "source": [
    "I_dc = 11*I_pmp\n",
    "V_dc = 16*U_pmp"
   ]
  },
  {
   "cell_type": "code",
   "execution_count": 7,
   "metadata": {},
   "outputs": [
    {
     "data": {
      "text/plain": [
       "477.44"
      ]
     },
     "execution_count": 7,
     "metadata": {},
     "output_type": "execute_result"
    }
   ],
   "source": [
    "I_dc\n",
    "V_dc"
   ]
  },
  {
   "cell_type": "code",
   "execution_count": 10,
   "metadata": {},
   "outputs": [
    {
     "data": {
      "text/plain": [
       "117221.0688"
      ]
     },
     "execution_count": 10,
     "metadata": {},
     "output_type": "execute_result"
    }
   ],
   "source": [
    "I_dc*V_dc*3"
   ]
  },
  {
   "cell_type": "markdown",
   "metadata": {},
   "source": [
    "La intensidad máxima que en régim\n",
    "en permanente va a circular por el cable va a ser 81,84 A, valor que debe ser incrementado en un 25% según nos indica el punto 5 de la ITC-BT 40 (Instalaciones generadoras de BT) del REBT."
   ]
  },
  {
   "cell_type": "markdown",
   "metadata": {},
   "source": [
    "Como la línea recibe la acción solar directa por estar a la intemperie y además la temperatura ambiente es de 50 ºC superior al estándar español de 40 ºC para el que están calculadas las intensidades de la tabla A.52-1 bis de instalaciones al aire de la UNE 20460-5-523 (2004). Debemos aplicar también coeficientes de corrección por estos motivos."
   ]
  },
  {
   "cell_type": "markdown",
   "metadata": {},
   "source": [
    "<img src=\"png/tabla_52_d1.png\",width=600,height=60>"
   ]
  },
  {
   "cell_type": "code",
   "execution_count": 14,
   "metadata": {},
   "outputs": [],
   "source": [
    "F_generador = 1.0/1.25\n",
    "F_sol = 0.9\n",
    "F_temperatura = 0.9\n",
    "\n",
    "I_z_deseada =  I_dc\n",
    "I_z_0_deseada = I_z_deseada/(F_generador*F_sol*F_temperatura)"
   ]
  },
  {
   "cell_type": "code",
   "execution_count": 15,
   "metadata": {},
   "outputs": [
    {
     "data": {
      "text/plain": [
       "126.29629629629628"
      ]
     },
     "execution_count": 15,
     "metadata": {},
     "output_type": "execute_result"
    }
   ],
   "source": [
    "I_z_0_deseada"
   ]
  },
  {
   "cell_type": "markdown",
   "metadata": {},
   "source": [
    "<img src=\"png/tabla_a_52_1_bis.png\",width=800,height=60>"
   ]
  },
  {
   "cell_type": "code",
   "execution_count": 16,
   "metadata": {},
   "outputs": [],
   "source": [
    "S_termica = 25"
   ]
  },
  {
   "cell_type": "code",
   "execution_count": null,
   "metadata": {},
   "outputs": [],
   "source": []
  },
  {
   "cell_type": "markdown",
   "metadata": {},
   "source": [
    "Del punto 5 de la ITC-BT 40 del REBT para leer que se tiene que la caída no debe superar el 1.5 %. Suponiendo una caída de 1% se tiene que la caída máxima debe ser:\n"
   ]
  },
  {
   "cell_type": "code",
   "execution_count": 17,
   "metadata": {},
   "outputs": [],
   "source": [
    "DU_max = 0.01*V_dc"
   ]
  },
  {
   "cell_type": "code",
   "execution_count": 19,
   "metadata": {},
   "outputs": [],
   "source": [
    "L = 45 # m\n",
    "lam = 46.82 # conductividad del cobre 70ºC [m/Ω.mm2]"
   ]
  },
  {
   "cell_type": "code",
   "execution_count": 22,
   "metadata": {},
   "outputs": [],
   "source": [
    "S = 2*L*I_dc/(lam*DU_max)"
   ]
  },
  {
   "cell_type": "code",
   "execution_count": 23,
   "metadata": {},
   "outputs": [
    {
     "data": {
      "text/plain": [
       "32.95018970605582"
      ]
     },
     "execution_count": 23,
     "metadata": {},
     "output_type": "execute_result"
    }
   ],
   "source": [
    "S"
   ]
  },
  {
   "cell_type": "code",
   "execution_count": null,
   "metadata": {},
   "outputs": [],
   "source": []
  }
 ],
 "metadata": {
  "anaconda-cloud": {},
  "kernelspec": {
   "display_name": "Python [conda root]",
   "language": "python",
   "name": "conda-root-py"
  },
  "language_info": {
   "codemirror_mode": {
    "name": "ipython",
    "version": 3
   },
   "file_extension": ".py",
   "mimetype": "text/x-python",
   "name": "python",
   "nbconvert_exporter": "python",
   "pygments_lexer": "ipython3",
   "version": "3.5.2"
  }
 },
 "nbformat": 4,
 "nbformat_minor": 2
}
