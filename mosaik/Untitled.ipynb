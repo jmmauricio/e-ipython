{
 "cells": [
  {
   "cell_type": "code",
   "execution_count": 2,
   "metadata": {
    "collapsed": false
   },
   "outputs": [],
   "source": [
    "import mosaik"
   ]
  },
  {
   "cell_type": "code",
   "execution_count": 3,
   "metadata": {
    "collapsed": true
   },
   "outputs": [],
   "source": [
    "sim_config = {\n",
    "  'ExampleSim': {'python': 'example_sim.mosaik:ExampleSim'},\n",
    " }"
   ]
  },
  {
   "cell_type": "code",
   "execution_count": 5,
   "metadata": {
    "collapsed": false
   },
   "outputs": [
    {
     "name": "stdout",
     "output_type": "stream",
     "text": [
      "Starting \"ExampleSim\" as \"ExampleSim-0\" ...\n",
      "Starting \"ExampleSim\" as \"ExampleSim-1\" ...\n",
      "Starting simulation.\n",
      "Progress: 25.00%\r",
      "Progress: 50.00%\r",
      "Progress: 75.00%\r",
      "Progress: 100.00%\r",
      "Simulation finished successfully.\n"
     ]
    }
   ],
   "source": [
    "def create_scenario(world):\n",
    "    exsim1 = world.start('ExampleSim')\n",
    "    exsim2 = world.start('ExampleSim')\n",
    "    a = [exsim1.A(init_val=0) for i in range(3)]\n",
    "    b = exsim2.B.create(2, init_val=0)\n",
    "    for i, j in zip(a, b):\n",
    "        world.connect(i, j, ('val_out', 'val_in'))\n",
    "\n",
    "world = mosaik.World(sim_config)\n",
    "create_scenario(world)\n",
    "world.run(until=2)"
   ]
  },
  {
   "cell_type": "code",
   "execution_count": null,
   "metadata": {
    "collapsed": true
   },
   "outputs": [],
   "source": []
  }
 ],
 "metadata": {
  "anaconda-cloud": {},
  "kernelspec": {
   "display_name": "Python [conda root]",
   "language": "python",
   "name": "conda-root-py"
  },
  "language_info": {
   "codemirror_mode": {
    "name": "ipython",
    "version": 3
   },
   "file_extension": ".py",
   "mimetype": "text/x-python",
   "name": "python",
   "nbconvert_exporter": "python",
   "pygments_lexer": "ipython3",
   "version": "3.5.2"
  }
 },
 "nbformat": 4,
 "nbformat_minor": 1
}
