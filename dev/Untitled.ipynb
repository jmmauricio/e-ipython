{
 "cells": [
  {
   "cell_type": "code",
   "execution_count": 5,
   "metadata": {
    "collapsed": false
   },
   "outputs": [
    {
     "name": "stdout",
     "output_type": "stream",
     "text": [
      "The fortranmagic extension is already loaded. To reload it, use:\n",
      "  %reload_ext fortranmagic\n"
     ]
    }
   ],
   "source": [
    "%load_ext fortranmagic"
   ]
  },
  {
   "cell_type": "code",
   "execution_count": 7,
   "metadata": {
    "collapsed": false
   },
   "outputs": [
    {
     "name": "stdout",
     "output_type": "stream",
     "text": [
      "Running...\n",
      "   f2py -m _fortran_magic_1f1638e0a06fb86e7b518021cfefeaf5 -c /home/jmmauricio/.cache/ipython/fortran/_fortran_magic_1f1638e0a06fb86e7b518021cfefeaf5.f90\n",
      "running build\n",
      "running config_cc\n",
      "unifing config_cc, config, build_clib, build_ext, build commands --compiler options\n",
      "running config_fc\n",
      "unifing config_fc, config, build_clib, build_ext, build commands --fcompiler options\n",
      "running build_src\n",
      "build_src\n",
      "building extension \"_fortran_magic_1f1638e0a06fb86e7b518021cfefeaf5\" sources\n",
      "f2py options: []\n",
      "f2py:> /tmp/tmpOYnxOS/src.linux-x86_64-2.7/_fortran_magic_1f1638e0a06fb86e7b518021cfefeaf5module.c\n",
      "creating /tmp/tmpOYnxOS/src.linux-x86_64-2.7\n",
      "Reading fortran codes...\n",
      "\tReading file '/home/jmmauricio/.cache/ipython/fortran/_fortran_magic_1f1638e0a06fb86e7b518021cfefeaf5.f90' (format:free)\n",
      "Post-processing...\n",
      "\tBlock: _fortran_magic_1f1638e0a06fb86e7b518021cfefeaf5\n",
      "\t\t\tBlock: hi\n",
      "Post-processing (stage 2)...\n",
      "\tBlock: _fortran_magic_1f1638e0a06fb86e7b518021cfefeaf5\n",
      "\t\tBlock: unknown_interface\n",
      "\t\t\tBlock: hi\n",
      "Building modules...\n",
      "\tBuilding module \"_fortran_magic_1f1638e0a06fb86e7b518021cfefeaf5\"...\n",
      "\t\tConstructing F90 module support for \"hi\"...\n",
      "\t\t  Variables: five\n",
      "\tWrote C/API module \"_fortran_magic_1f1638e0a06fb86e7b518021cfefeaf5\" to file \"/tmp/tmpOYnxOS/src.linux-x86_64-2.7/_fortran_magic_1f1638e0a06fb86e7b518021cfefeaf5module.c\"\n",
      "\tFortran 90 wrappers are saved to \"/tmp/tmpOYnxOS/src.linux-x86_64-2.7/_fortran_magic_1f1638e0a06fb86e7b518021cfefeaf5-f2pywrappers2.f90\"\n",
      "  adding '/tmp/tmpOYnxOS/src.linux-x86_64-2.7/fortranobject.c' to sources.\n",
      "  adding '/tmp/tmpOYnxOS/src.linux-x86_64-2.7' to include_dirs.\n",
      "copying /usr/local/lib/python2.7/dist-packages/numpy/f2py/src/fortranobject.c -> /tmp/tmpOYnxOS/src.linux-x86_64-2.7\n",
      "copying /usr/local/lib/python2.7/dist-packages/numpy/f2py/src/fortranobject.h -> /tmp/tmpOYnxOS/src.linux-x86_64-2.7\n",
      "  adding '/tmp/tmpOYnxOS/src.linux-x86_64-2.7/_fortran_magic_1f1638e0a06fb86e7b518021cfefeaf5-f2pywrappers2.f90' to sources.\n",
      "build_src: building npy-pkg config files\n",
      "running build_ext\n",
      "customize UnixCCompiler\n",
      "customize UnixCCompiler using build_ext\n",
      "customize Gnu95FCompiler\n",
      "Found executable /usr/bin/gfortran\n",
      "customize Gnu95FCompiler\n",
      "customize Gnu95FCompiler using build_ext\n",
      "building '_fortran_magic_1f1638e0a06fb86e7b518021cfefeaf5' extension\n",
      "compiling C sources\n",
      "C compiler: x86_64-linux-gnu-gcc -pthread -DNDEBUG -g -fwrapv -O2 -Wall -Wstrict-prototypes -fno-strict-aliasing -D_FORTIFY_SOURCE=2 -g -fstack-protector-strong -Wformat -Werror=format-security -fPIC\n",
      "\n",
      "creating /tmp/tmpOYnxOS/tmp\n",
      "creating /tmp/tmpOYnxOS/tmp/tmpOYnxOS\n",
      "creating /tmp/tmpOYnxOS/tmp/tmpOYnxOS/src.linux-x86_64-2.7\n",
      "compile options: '-I/tmp/tmpOYnxOS/src.linux-x86_64-2.7 -I/usr/local/lib/python2.7/dist-packages/numpy/core/include -I/usr/include/python2.7 -c'\n",
      "x86_64-linux-gnu-gcc: /tmp/tmpOYnxOS/src.linux-x86_64-2.7/_fortran_magic_1f1638e0a06fb86e7b518021cfefeaf5module.c\n",
      "In file included from /usr/local/lib/python2.7/dist-packages/numpy/core/include/numpy/ndarraytypes.h:1804:0,\n",
      "                 from /usr/local/lib/python2.7/dist-packages/numpy/core/include/numpy/ndarrayobject.h:17,\n",
      "                 from /usr/local/lib/python2.7/dist-packages/numpy/core/include/numpy/arrayobject.h:4,\n",
      "                 from /tmp/tmpOYnxOS/src.linux-x86_64-2.7/fortranobject.h:13,\n",
      "                 from /tmp/tmpOYnxOS/src.linux-x86_64-2.7/_fortran_magic_1f1638e0a06fb86e7b518021cfefeaf5module.c:17:\n",
      "/usr/local/lib/python2.7/dist-packages/numpy/core/include/numpy/npy_1_7_deprecated_api.h:15:2: warning: #warning \"Using deprecated NumPy API, disable it by \" \"#defining NPY_NO_DEPRECATED_API NPY_1_7_API_VERSION\" [-Wcpp]\n",
      " #warning \"Using deprecated NumPy API, disable it by \" \\\n",
      "  ^\n",
      "x86_64-linux-gnu-gcc: /tmp/tmpOYnxOS/src.linux-x86_64-2.7/fortranobject.c\n",
      "In file included from /usr/local/lib/python2.7/dist-packages/numpy/core/include/numpy/ndarraytypes.h:1804:0,\n",
      "                 from /usr/local/lib/python2.7/dist-packages/numpy/core/include/numpy/ndarrayobject.h:17,\n",
      "                 from /usr/local/lib/python2.7/dist-packages/numpy/core/include/numpy/arrayobject.h:4,\n",
      "                 from /tmp/tmpOYnxOS/src.linux-x86_64-2.7/fortranobject.h:13,\n",
      "                 from /tmp/tmpOYnxOS/src.linux-x86_64-2.7/fortranobject.c:2:\n",
      "/usr/local/lib/python2.7/dist-packages/numpy/core/include/numpy/npy_1_7_deprecated_api.h:15:2: warning: #warning \"Using deprecated NumPy API, disable it by \" \"#defining NPY_NO_DEPRECATED_API NPY_1_7_API_VERSION\" [-Wcpp]\n",
      " #warning \"Using deprecated NumPy API, disable it by \" \\\n",
      "  ^\n",
      "compiling Fortran 90 module sources\n",
      "Fortran f77 compiler: /usr/bin/gfortran -Wall -g -ffixed-form -fno-second-underscore -fPIC -O3 -funroll-loops\n",
      "Fortran f90 compiler: /usr/bin/gfortran -Wall -g -fno-second-underscore -fPIC -O3 -funroll-loops\n",
      "Fortran fix compiler: /usr/bin/gfortran -Wall -g -ffixed-form -fno-second-underscore -Wall -g -fno-second-underscore -fPIC -O3 -funroll-loops\n",
      "creating /tmp/tmpOYnxOS/home\n",
      "creating /tmp/tmpOYnxOS/home/jmmauricio\n",
      "creating /tmp/tmpOYnxOS/home/jmmauricio/.cache\n",
      "creating /tmp/tmpOYnxOS/home/jmmauricio/.cache/ipython\n",
      "creating /tmp/tmpOYnxOS/home/jmmauricio/.cache/ipython/fortran\n",
      "compile options: '-I/tmp/tmpOYnxOS/src.linux-x86_64-2.7 -I/usr/local/lib/python2.7/dist-packages/numpy/core/include -I/usr/include/python2.7 -c'\n",
      "extra options: '-J/tmp/tmpOYnxOS/ -I/tmp/tmpOYnxOS/'\n",
      "gfortran:f90: /home/jmmauricio/.cache/ipython/fortran/_fortran_magic_1f1638e0a06fb86e7b518021cfefeaf5.f90\n",
      "compiling Fortran sources\n",
      "Fortran f77 compiler: /usr/bin/gfortran -Wall -g -ffixed-form -fno-second-underscore -fPIC -O3 -funroll-loops\n",
      "Fortran f90 compiler: /usr/bin/gfortran -Wall -g -fno-second-underscore -fPIC -O3 -funroll-loops\n",
      "Fortran fix compiler: /usr/bin/gfortran -Wall -g -ffixed-form -fno-second-underscore -Wall -g -fno-second-underscore -fPIC -O3 -funroll-loops\n",
      "compile options: '-I/tmp/tmpOYnxOS/src.linux-x86_64-2.7 -I/usr/local/lib/python2.7/dist-packages/numpy/core/include -I/usr/include/python2.7 -c'\n",
      "extra options: '-J/tmp/tmpOYnxOS/ -I/tmp/tmpOYnxOS/'\n",
      "gfortran:f90: /tmp/tmpOYnxOS/src.linux-x86_64-2.7/_fortran_magic_1f1638e0a06fb86e7b518021cfefeaf5-f2pywrappers2.f90\n",
      "/usr/bin/gfortran -Wall -g -Wall -g -shared /tmp/tmpOYnxOS/tmp/tmpOYnxOS/src.linux-x86_64-2.7/_fortran_magic_1f1638e0a06fb86e7b518021cfefeaf5module.o /tmp/tmpOYnxOS/tmp/tmpOYnxOS/src.linux-x86_64-2.7/fortranobject.o /tmp/tmpOYnxOS/home/jmmauricio/.cache/ipython/fortran/_fortran_magic_1f1638e0a06fb86e7b518021cfefeaf5.o /tmp/tmpOYnxOS/tmp/tmpOYnxOS/src.linux-x86_64-2.7/_fortran_magic_1f1638e0a06fb86e7b518021cfefeaf5-f2pywrappers2.o -lgfortran -o ./_fortran_magic_1f1638e0a06fb86e7b518021cfefeaf5.so\n",
      "Removing build directory /tmp/tmpOYnxOS\n"
     ]
    },
    {
     "ename": "ImportError",
     "evalue": "/home/jmmauricio/.cache/ipython/fortran/_fortran_magic_1f1638e0a06fb86e7b518021cfefeaf5.cpython-34m.so: cannot open shared object file: No such file or directory",
     "output_type": "error",
     "traceback": [
      "\u001b[1;31m---------------------------------------------------------------------------\u001b[0m",
      "\u001b[1;31mImportError\u001b[0m                               Traceback (most recent call last)",
      "\u001b[1;32m<ipython-input-7-6b4f1751d2c4>\u001b[0m in \u001b[0;36m<module>\u001b[1;34m()\u001b[0m\n\u001b[0;32m      1\u001b[0m \u001b[1;33m\u001b[0m\u001b[0m\n\u001b[0;32m      2\u001b[0m \u001b[1;33m\u001b[0m\u001b[0m\n\u001b[1;32m----> 3\u001b[1;33m \u001b[0mget_ipython\u001b[0m\u001b[1;33m(\u001b[0m\u001b[1;33m)\u001b[0m\u001b[1;33m.\u001b[0m\u001b[0mrun_cell_magic\u001b[0m\u001b[1;33m(\u001b[0m\u001b[1;34m'fortran'\u001b[0m\u001b[1;33m,\u001b[0m \u001b[1;34m'-vvv'\u001b[0m\u001b[1;33m,\u001b[0m \u001b[1;34m'\\nmodule hi\\n  integer :: five = 5\\nend module   \\n\\n'\u001b[0m\u001b[1;33m)\u001b[0m\u001b[1;33m\u001b[0m\u001b[0m\n\u001b[0m",
      "\u001b[1;32m/home/jmmauricio/bin/anaconda3/lib/python3.4/site-packages/IPython/core/interactiveshell.py\u001b[0m in \u001b[0;36mrun_cell_magic\u001b[1;34m(self, magic_name, line, cell)\u001b[0m\n\u001b[0;32m   2291\u001b[0m             \u001b[0mmagic_arg_s\u001b[0m \u001b[1;33m=\u001b[0m \u001b[0mself\u001b[0m\u001b[1;33m.\u001b[0m\u001b[0mvar_expand\u001b[0m\u001b[1;33m(\u001b[0m\u001b[0mline\u001b[0m\u001b[1;33m,\u001b[0m \u001b[0mstack_depth\u001b[0m\u001b[1;33m)\u001b[0m\u001b[1;33m\u001b[0m\u001b[0m\n\u001b[0;32m   2292\u001b[0m             \u001b[1;32mwith\u001b[0m \u001b[0mself\u001b[0m\u001b[1;33m.\u001b[0m\u001b[0mbuiltin_trap\u001b[0m\u001b[1;33m:\u001b[0m\u001b[1;33m\u001b[0m\u001b[0m\n\u001b[1;32m-> 2293\u001b[1;33m                 \u001b[0mresult\u001b[0m \u001b[1;33m=\u001b[0m \u001b[0mfn\u001b[0m\u001b[1;33m(\u001b[0m\u001b[0mmagic_arg_s\u001b[0m\u001b[1;33m,\u001b[0m \u001b[0mcell\u001b[0m\u001b[1;33m)\u001b[0m\u001b[1;33m\u001b[0m\u001b[0m\n\u001b[0m\u001b[0;32m   2294\u001b[0m             \u001b[1;32mreturn\u001b[0m \u001b[0mresult\u001b[0m\u001b[1;33m\u001b[0m\u001b[0m\n\u001b[0;32m   2295\u001b[0m \u001b[1;33m\u001b[0m\u001b[0m\n",
      "\u001b[1;32m/home/jmmauricio/.ipython/extensions/fortranmagic.py\u001b[0m in \u001b[0;36mfortran\u001b[1;34m(self, line, cell)\u001b[0m\n",
      "\u001b[1;32m/home/jmmauricio/bin/anaconda3/lib/python3.4/site-packages/IPython/core/magic.py\u001b[0m in \u001b[0;36m<lambda>\u001b[1;34m(f, *a, **k)\u001b[0m\n\u001b[0;32m    191\u001b[0m     \u001b[1;31m# but it's overkill for just that one bit of state.\u001b[0m\u001b[1;33m\u001b[0m\u001b[1;33m\u001b[0m\u001b[0m\n\u001b[0;32m    192\u001b[0m     \u001b[1;32mdef\u001b[0m \u001b[0mmagic_deco\u001b[0m\u001b[1;33m(\u001b[0m\u001b[0marg\u001b[0m\u001b[1;33m)\u001b[0m\u001b[1;33m:\u001b[0m\u001b[1;33m\u001b[0m\u001b[0m\n\u001b[1;32m--> 193\u001b[1;33m         \u001b[0mcall\u001b[0m \u001b[1;33m=\u001b[0m \u001b[1;32mlambda\u001b[0m \u001b[0mf\u001b[0m\u001b[1;33m,\u001b[0m \u001b[1;33m*\u001b[0m\u001b[0ma\u001b[0m\u001b[1;33m,\u001b[0m \u001b[1;33m**\u001b[0m\u001b[0mk\u001b[0m\u001b[1;33m:\u001b[0m \u001b[0mf\u001b[0m\u001b[1;33m(\u001b[0m\u001b[1;33m*\u001b[0m\u001b[0ma\u001b[0m\u001b[1;33m,\u001b[0m \u001b[1;33m**\u001b[0m\u001b[0mk\u001b[0m\u001b[1;33m)\u001b[0m\u001b[1;33m\u001b[0m\u001b[0m\n\u001b[0m\u001b[0;32m    194\u001b[0m \u001b[1;33m\u001b[0m\u001b[0m\n\u001b[0;32m    195\u001b[0m         \u001b[1;32mif\u001b[0m \u001b[0mcallable\u001b[0m\u001b[1;33m(\u001b[0m\u001b[0marg\u001b[0m\u001b[1;33m)\u001b[0m\u001b[1;33m:\u001b[0m\u001b[1;33m\u001b[0m\u001b[0m\n",
      "\u001b[1;32m/home/jmmauricio/.ipython/extensions/fortranmagic.py\u001b[0m in \u001b[0;36mfortran\u001b[1;34m(self, line, cell)\u001b[0m\n\u001b[0;32m    365\u001b[0m \u001b[1;33m\u001b[0m\u001b[0m\n\u001b[0;32m    366\u001b[0m         \u001b[0mself\u001b[0m\u001b[1;33m.\u001b[0m\u001b[0m_code_cache\u001b[0m\u001b[1;33m[\u001b[0m\u001b[0mkey\u001b[0m\u001b[1;33m]\u001b[0m \u001b[1;33m=\u001b[0m \u001b[0mmodule_name\u001b[0m\u001b[1;33m\u001b[0m\u001b[0m\n\u001b[1;32m--> 367\u001b[1;33m         \u001b[0mmodule\u001b[0m \u001b[1;33m=\u001b[0m \u001b[0mimp\u001b[0m\u001b[1;33m.\u001b[0m\u001b[0mload_dynamic\u001b[0m\u001b[1;33m(\u001b[0m\u001b[0mmodule_name\u001b[0m\u001b[1;33m,\u001b[0m \u001b[0mmodule_path\u001b[0m\u001b[1;33m)\u001b[0m\u001b[1;33m\u001b[0m\u001b[0m\n\u001b[0m\u001b[0;32m    368\u001b[0m         \u001b[0mself\u001b[0m\u001b[1;33m.\u001b[0m\u001b[0m_import_all\u001b[0m\u001b[1;33m(\u001b[0m\u001b[0mmodule\u001b[0m\u001b[1;33m,\u001b[0m \u001b[0mverbosity\u001b[0m\u001b[1;33m=\u001b[0m\u001b[0margs\u001b[0m\u001b[1;33m.\u001b[0m\u001b[0mverbosity\u001b[0m\u001b[1;33m)\u001b[0m\u001b[1;33m\u001b[0m\u001b[0m\n\u001b[0;32m    369\u001b[0m \u001b[1;33m\u001b[0m\u001b[0m\n",
      "\u001b[1;31mImportError\u001b[0m: /home/jmmauricio/.cache/ipython/fortran/_fortran_magic_1f1638e0a06fb86e7b518021cfefeaf5.cpython-34m.so: cannot open shared object file: No such file or directory"
     ]
    }
   ],
   "source": [
    "\n",
    "\n",
    "%%fortran -vvv\n",
    "\n",
    "module hi\n",
    "  integer :: five = 5\n",
    "end module   \n",
    "\n",
    "\n"
   ]
  },
  {
   "cell_type": "code",
   "execution_count": 3,
   "metadata": {
    "collapsed": false
   },
   "outputs": [
    {
     "ename": "NameError",
     "evalue": "name 'f1' is not defined",
     "output_type": "error",
     "traceback": [
      "\u001b[1;31m---------------------------------------------------------------------------\u001b[0m",
      "\u001b[1;31mNameError\u001b[0m                                 Traceback (most recent call last)",
      "\u001b[1;32m<ipython-input-3-62d2c7633c2f>\u001b[0m in \u001b[0;36m<module>\u001b[1;34m()\u001b[0m\n\u001b[1;32m----> 1\u001b[1;33m \u001b[0mf1\u001b[0m\u001b[1;33m(\u001b[0m\u001b[1;36m1.0\u001b[0m\u001b[1;33m,\u001b[0m \u001b[1;36m2.1415\u001b[0m\u001b[1;33m)\u001b[0m\u001b[1;33m\u001b[0m\u001b[0m\n\u001b[0m",
      "\u001b[1;31mNameError\u001b[0m: name 'f1' is not defined"
     ]
    }
   ],
   "source": [
    "f1(1.0, 2.1415)\n"
   ]
  },
  {
   "cell_type": "code",
   "execution_count": null,
   "metadata": {
    "collapsed": true
   },
   "outputs": [],
   "source": []
  }
 ],
 "metadata": {
  "kernelspec": {
   "display_name": "Python 3",
   "language": "python",
   "name": "python3"
  },
  "language_info": {
   "codemirror_mode": {
    "name": "ipython",
    "version": 3
   },
   "file_extension": ".py",
   "mimetype": "text/x-python",
   "name": "python",
   "nbconvert_exporter": "python",
   "pygments_lexer": "ipython3",
   "version": "3.4.3"
  }
 },
 "nbformat": 4,
 "nbformat_minor": 0
}
