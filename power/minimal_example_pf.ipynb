{
 "cells": [
  {
   "cell_type": "markdown",
   "metadata": {},
   "source": [
    "# Minimal 3-node example of PyPSA power flow\n",
    "\n",
    "Available as a Jupyter notebook at <http://www.pypsa.org/examples/minimal_example_pf.ipynb>."
   ]
  },
  {
   "cell_type": "code",
   "execution_count": 1,
   "metadata": {
    "collapsed": true
   },
   "outputs": [],
   "source": [
    "\n",
    "# make the code as Python 3 compatible as possible                                                                                          \n",
    "from __future__ import print_function, division\n",
    "\n",
    "import pypsa\n",
    "\n",
    "import numpy as np"
   ]
  },
  {
   "cell_type": "code",
   "execution_count": 2,
   "metadata": {
    "collapsed": true
   },
   "outputs": [],
   "source": [
    "network = pypsa.Network()"
   ]
  },
  {
   "cell_type": "code",
   "execution_count": 3,
   "metadata": {
    "collapsed": false
   },
   "outputs": [],
   "source": [
    "#add three buses\n",
    "for i in range(3):\n",
    "    network.add(\"Bus\",\"My bus {}\".format(i),v_nom=20.)"
   ]
  },
  {
   "cell_type": "code",
   "execution_count": 4,
   "metadata": {
    "collapsed": false
   },
   "outputs": [
    {
     "name": "stdout",
     "output_type": "stream",
     "text": [
      "         control  y  v_mag_pu_min  x  v_mag_pu_max  v_nom current_type  \\\n",
      "name                                                                     \n",
      "My bus 0      PQ  0             0  0           NaN     20           AC   \n",
      "My bus 1      PQ  0             0  0           NaN     20           AC   \n",
      "My bus 2      PQ  0             0  0           NaN     20           AC   \n",
      "\n",
      "         sub_network           obj  \n",
      "name                                \n",
      "My bus 0              Bus My bus 0  \n",
      "My bus 1              Bus My bus 1  \n",
      "My bus 2              Bus My bus 2  \n"
     ]
    }
   ],
   "source": [
    "print(network.buses)"
   ]
  },
  {
   "cell_type": "code",
   "execution_count": 5,
   "metadata": {
    "collapsed": false
   },
   "outputs": [],
   "source": [
    "#add three lines in a ring\n",
    "for i in range(3):\n",
    "    network.add(\"Line\",\"My line {}\".format(i),\n",
    "                bus0=\"My bus {}\".format(i),\n",
    "                bus1=\"My bus {}\".format((i+1)%3),\n",
    "                x=0.1)"
   ]
  },
  {
   "cell_type": "code",
   "execution_count": 6,
   "metadata": {
    "collapsed": false
   },
   "outputs": [
    {
     "name": "stdout",
     "output_type": "stream",
     "text": [
      "           capital_cost  s_nom_min  s_nom_max s_nom_extendable  s_nom  \\\n",
      "name                                                                    \n",
      "My line 0             0          0        NaN            False      0   \n",
      "My line 1             0          0        NaN            False      0   \n",
      "My line 2             0          0        NaN            False      0   \n",
      "\n",
      "               bus1  s_nom_opt      bus0  g_pu  length       ...        b_pu  \\\n",
      "name                                                         ...               \n",
      "My line 0  My bus 1          0  My bus 0     0       1       ...           0   \n",
      "My line 1  My bus 2          0  My bus 1     0       1       ...           0   \n",
      "My line 2  My bus 0          0  My bus 2     0       1       ...           0   \n",
      "\n",
      "           terrain_factor    x  b  x_pu  r  sub_network  v_ang_max  g  \\\n",
      "name                                                                    \n",
      "My line 0               1  0.1  0     0  0                     NaN  0   \n",
      "My line 1               1  0.1  0     0  0                     NaN  0   \n",
      "My line 2               1  0.1  0     0  0                     NaN  0   \n",
      "\n",
      "                      obj  \n",
      "name                       \n",
      "My line 0  Line My line 0  \n",
      "My line 1  Line My line 1  \n",
      "My line 2  Line My line 2  \n",
      "\n",
      "[3 rows x 22 columns]\n"
     ]
    }
   ],
   "source": [
    "print(network.lines)"
   ]
  },
  {
   "cell_type": "code",
   "execution_count": 7,
   "metadata": {
    "collapsed": false
   },
   "outputs": [
    {
     "data": {
      "text/plain": [
       "Generator My gen"
      ]
     },
     "execution_count": 7,
     "metadata": {},
     "output_type": "execute_result"
    }
   ],
   "source": [
    "#add a generator at bus 0\n",
    "network.add(\"Generator\",\"My gen\",\n",
    "            bus=\"My bus 0\",\n",
    "            p_set=100)"
   ]
  },
  {
   "cell_type": "code",
   "execution_count": 8,
   "metadata": {
    "collapsed": false
   },
   "outputs": [
    {
     "name": "stdout",
     "output_type": "stream",
     "text": [
      "             bus  sign  capital_cost  p_nom control  dispatch source  \\\n",
      "name                                                                   \n",
      "My gen  My bus 0     1             0      0      PQ  flexible          \n",
      "\n",
      "        p_min_pu_fixed  p_nom_max  p_nom_min  p_nom_opt  marginal_cost  \\\n",
      "name                                                                     \n",
      "My gen               0        NaN          0          0              0   \n",
      "\n",
      "       p_nom_extendable  p_max_pu_fixed  efficiency               obj  \n",
      "name                                                                   \n",
      "My gen            False               1           1  Generator My gen  \n"
     ]
    }
   ],
   "source": [
    "print(network.generators)"
   ]
  },
  {
   "cell_type": "code",
   "execution_count": 9,
   "metadata": {
    "collapsed": false
   },
   "outputs": [
    {
     "name": "stdout",
     "output_type": "stream",
     "text": [
      "name  My gen\n",
      "now      100\n"
     ]
    }
   ],
   "source": [
    "print(network.generators_t.p_set)"
   ]
  },
  {
   "cell_type": "code",
   "execution_count": 10,
   "metadata": {
    "collapsed": false
   },
   "outputs": [
    {
     "data": {
      "text/plain": [
       "Load My load"
      ]
     },
     "execution_count": 10,
     "metadata": {},
     "output_type": "execute_result"
    }
   ],
   "source": [
    "#add a load at bus 1\n",
    "network.add(\"Load\",\"My load\",\n",
    "            bus=\"My bus 1\",\n",
    "            p_set=100)"
   ]
  },
  {
   "cell_type": "code",
   "execution_count": 11,
   "metadata": {
    "collapsed": false
   },
   "outputs": [
    {
     "name": "stdout",
     "output_type": "stream",
     "text": [
      "              bus  sign           obj\n",
      "name                                 \n",
      "My load  My bus 1    -1  Load My load\n"
     ]
    }
   ],
   "source": [
    "print(network.loads)"
   ]
  },
  {
   "cell_type": "code",
   "execution_count": 12,
   "metadata": {
    "collapsed": false
   },
   "outputs": [
    {
     "name": "stdout",
     "output_type": "stream",
     "text": [
      "name  My load\n",
      "now       100\n"
     ]
    }
   ],
   "source": [
    "print(network.loads_t.p_set)"
   ]
  },
  {
   "cell_type": "code",
   "execution_count": 13,
   "metadata": {
    "collapsed": true
   },
   "outputs": [],
   "source": [
    "network.loads_t.q_set = 100"
   ]
  },
  {
   "cell_type": "code",
   "execution_count": 14,
   "metadata": {
    "collapsed": false
   },
   "outputs": [
    {
     "ename": "AttributeError",
     "evalue": "'tuple' object has no attribute 'bus0'",
     "output_type": "error",
     "traceback": [
      "\u001b[1;31m---------------------------------------------------------------------------\u001b[0m",
      "\u001b[1;31mAttributeError\u001b[0m                            Traceback (most recent call last)",
      "\u001b[1;32m<ipython-input-14-73a03fb265d9>\u001b[0m in \u001b[0;36m<module>\u001b[1;34m()\u001b[0m\n\u001b[0;32m      1\u001b[0m \u001b[1;31m#Do a Newton-Raphson power flow\u001b[0m\u001b[1;33m\u001b[0m\u001b[1;33m\u001b[0m\u001b[0m\n\u001b[1;32m----> 2\u001b[1;33m \u001b[0mnetwork\u001b[0m\u001b[1;33m.\u001b[0m\u001b[0mpf\u001b[0m\u001b[1;33m(\u001b[0m\u001b[1;33m)\u001b[0m\u001b[1;33m\u001b[0m\u001b[0m\n\u001b[0m",
      "\u001b[1;32m/home/jmmauricio/bin/anaconda3/lib/python3.4/site-packages/pypsa/pf.py\u001b[0m in \u001b[0;36mnetwork_pf\u001b[1;34m(network, now, verbose, skip_pre, x_tol)\u001b[0m\n\u001b[0;32m     76\u001b[0m \u001b[1;33m\u001b[0m\u001b[0m\n\u001b[0;32m     77\u001b[0m     \u001b[1;32mif\u001b[0m \u001b[1;32mnot\u001b[0m \u001b[0mskip_pre\u001b[0m\u001b[1;33m:\u001b[0m\u001b[1;33m\u001b[0m\u001b[0m\n\u001b[1;32m---> 78\u001b[1;33m         \u001b[0mnetwork\u001b[0m\u001b[1;33m.\u001b[0m\u001b[0mbuild_graph\u001b[0m\u001b[1;33m(\u001b[0m\u001b[1;33m)\u001b[0m\u001b[1;33m\u001b[0m\u001b[0m\n\u001b[0m\u001b[0;32m     79\u001b[0m         \u001b[0mnetwork\u001b[0m\u001b[1;33m.\u001b[0m\u001b[0mdetermine_network_topology\u001b[0m\u001b[1;33m(\u001b[0m\u001b[1;33m)\u001b[0m\u001b[1;33m\u001b[0m\u001b[0m\n\u001b[0;32m     80\u001b[0m         \u001b[0mcalculate_dependent_values\u001b[0m\u001b[1;33m(\u001b[0m\u001b[0mnetwork\u001b[0m\u001b[1;33m)\u001b[0m\u001b[1;33m\u001b[0m\u001b[0m\n",
      "\u001b[1;32m/home/jmmauricio/bin/anaconda3/lib/python3.4/site-packages/pypsa/components.py\u001b[0m in \u001b[0;36mbuild_graph\u001b[1;34m(self)\u001b[0m\n\u001b[0;32m    695\u001b[0m         \u001b[1;31m#Multigraph uses object itself as key\u001b[0m\u001b[1;33m\u001b[0m\u001b[1;33m\u001b[0m\u001b[0m\n\u001b[0;32m    696\u001b[0m         self.graph.add_edges_from((branch.bus0, branch.bus1, branch.obj, {})\n\u001b[1;32m--> 697\u001b[1;33m                                   \u001b[1;32mfor\u001b[0m \u001b[0mt\u001b[0m \u001b[1;32min\u001b[0m \u001b[0mself\u001b[0m\u001b[1;33m.\u001b[0m\u001b[0miterate_components\u001b[0m\u001b[1;33m(\u001b[0m\u001b[0mbranch_types\u001b[0m\u001b[1;33m)\u001b[0m\u001b[1;33m\u001b[0m\u001b[0m\n\u001b[0m\u001b[0;32m    698\u001b[0m                                   for branch in t.df.itertuples())\n\u001b[0;32m    699\u001b[0m \u001b[1;33m\u001b[0m\u001b[0m\n",
      "\u001b[1;32m/home/jmmauricio/bin/anaconda3/lib/python3.4/site-packages/networkx/classes/multigraph.py\u001b[0m in \u001b[0;36madd_edges_from\u001b[1;34m(self, ebunch, attr_dict, **attr)\u001b[0m\n\u001b[0;32m    400\u001b[0m                     \"The attr_dict argument must be a dictionary.\")\n\u001b[0;32m    401\u001b[0m         \u001b[1;31m# process ebunch\u001b[0m\u001b[1;33m\u001b[0m\u001b[1;33m\u001b[0m\u001b[0m\n\u001b[1;32m--> 402\u001b[1;33m         \u001b[1;32mfor\u001b[0m \u001b[0me\u001b[0m \u001b[1;32min\u001b[0m \u001b[0mebunch\u001b[0m\u001b[1;33m:\u001b[0m\u001b[1;33m\u001b[0m\u001b[0m\n\u001b[0m\u001b[0;32m    403\u001b[0m             \u001b[0mne\u001b[0m \u001b[1;33m=\u001b[0m \u001b[0mlen\u001b[0m\u001b[1;33m(\u001b[0m\u001b[0me\u001b[0m\u001b[1;33m)\u001b[0m\u001b[1;33m\u001b[0m\u001b[0m\n\u001b[0;32m    404\u001b[0m             \u001b[1;32mif\u001b[0m \u001b[0mne\u001b[0m \u001b[1;33m==\u001b[0m \u001b[1;36m4\u001b[0m\u001b[1;33m:\u001b[0m\u001b[1;33m\u001b[0m\u001b[0m\n",
      "\u001b[1;32m/home/jmmauricio/bin/anaconda3/lib/python3.4/site-packages/pypsa/components.py\u001b[0m in \u001b[0;36m<genexpr>\u001b[1;34m(.0)\u001b[0m\n\u001b[0;32m    696\u001b[0m         self.graph.add_edges_from((branch.bus0, branch.bus1, branch.obj, {})\n\u001b[0;32m    697\u001b[0m                                   \u001b[1;32mfor\u001b[0m \u001b[0mt\u001b[0m \u001b[1;32min\u001b[0m \u001b[0mself\u001b[0m\u001b[1;33m.\u001b[0m\u001b[0miterate_components\u001b[0m\u001b[1;33m(\u001b[0m\u001b[0mbranch_types\u001b[0m\u001b[1;33m)\u001b[0m\u001b[1;33m\u001b[0m\u001b[0m\n\u001b[1;32m--> 698\u001b[1;33m                                   for branch in t.df.itertuples())\n\u001b[0m\u001b[0;32m    699\u001b[0m \u001b[1;33m\u001b[0m\u001b[0m\n\u001b[0;32m    700\u001b[0m     \u001b[1;32mdef\u001b[0m \u001b[0mdetermine_network_topology\u001b[0m\u001b[1;33m(\u001b[0m\u001b[0mself\u001b[0m\u001b[1;33m)\u001b[0m\u001b[1;33m:\u001b[0m\u001b[1;33m\u001b[0m\u001b[0m\n",
      "\u001b[1;31mAttributeError\u001b[0m: 'tuple' object has no attribute 'bus0'"
     ]
    }
   ],
   "source": [
    "#Do a Newton-Raphson power flow\n",
    "network.pf()"
   ]
  },
  {
   "cell_type": "code",
   "execution_count": null,
   "metadata": {
    "collapsed": false
   },
   "outputs": [],
   "source": [
    "print(network.lines_t.p0)"
   ]
  },
  {
   "cell_type": "code",
   "execution_count": null,
   "metadata": {
    "collapsed": false
   },
   "outputs": [],
   "source": [
    "print(network.buses_t.v_ang*180/np.pi)"
   ]
  },
  {
   "cell_type": "code",
   "execution_count": null,
   "metadata": {
    "collapsed": false
   },
   "outputs": [],
   "source": [
    "print(network.buses_t.v_mag_pu)"
   ]
  }
 ],
 "metadata": {
  "kernelspec": {
   "display_name": "Python 3",
   "language": "python",
   "name": "python3"
  },
  "language_info": {
   "codemirror_mode": {
    "name": "ipython",
    "version": 3
   },
   "file_extension": ".py",
   "mimetype": "text/x-python",
   "name": "python",
   "nbconvert_exporter": "python",
   "pygments_lexer": "ipython3",
   "version": "3.4.4"
  }
 },
 "nbformat": 4,
 "nbformat_minor": 0
}
