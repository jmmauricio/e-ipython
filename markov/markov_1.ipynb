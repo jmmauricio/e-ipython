{
 "cells": [
  {
   "cell_type": "code",
   "execution_count": 27,
   "metadata": {
    "collapsed": false
   },
   "outputs": [
    {
     "name": "stderr",
     "output_type": "stream",
     "text": [
      "/home/jmmauricio/bin/anaconda3/lib/python3.5/site-packages/matplotlib/__init__.py:1041: UserWarning: Duplicate key in file \"/home/jmmauricio/bin/anaconda3/lib/python3.5/site-packages/matplotlib/mpl-data/stylelib/presentation.mplstyle\", line #10\n",
      "  (fname, cnt))\n",
      "/home/jmmauricio/bin/anaconda3/lib/python3.5/site-packages/matplotlib/__init__.py:1041: UserWarning: Duplicate key in file \"/home/jmmauricio/bin/anaconda3/lib/python3.5/site-packages/matplotlib/mpl-data/stylelib/presentation.mplstyle\", line #11\n",
      "  (fname, cnt))\n",
      "/home/jmmauricio/bin/anaconda3/lib/python3.5/site-packages/matplotlib/__init__.py:878: UserWarning: axes.color_cycle is deprecated and replaced with axes.prop_cycle; please use the latter.\n",
      "  warnings.warn(self.msg_depr % (key, alt_key))\n"
     ]
    }
   ],
   "source": [
    "import numpy as np\n",
    "import pandas as pd\n",
    "import matplotlib.pyplot as plt\n",
    "import numba\n",
    "import random\n"
   ]
  },
  {
   "cell_type": "code",
   "execution_count": 18,
   "metadata": {
    "collapsed": false
   },
   "outputs": [
    {
     "name": "stdout",
     "output_type": "stream",
     "text": [
      "[[ 0.74  0.26]]\n",
      "[[ 0.848  0.152]]\n",
      "[[ 0.8696  0.1304]]\n",
      "[[ 0.87392  0.12608]]\n",
      "[[ 0.874784  0.125216]]\n",
      "[[ 0.8749568  0.1250432]]\n",
      "[[ 0.87499136  0.12500864]]\n",
      "[[ 0.87499827  0.12500173]]\n",
      "[[ 0.87499965  0.12500035]]\n",
      "[[ 0.87499993  0.12500007]]\n"
     ]
    }
   ],
   "source": [
    "P = np.array([[0.9, 0.1],[0.7, 0.3]])\n",
    "S_0 = np.array([[0.2, 0.8]])\n",
    "for it in range(10):\n",
    "    S_0 = S_0 @ P\n",
    "    print(S_0)"
   ]
  },
  {
   "cell_type": "code",
   "execution_count": 15,
   "metadata": {
    "collapsed": false
   },
   "outputs": [
    {
     "data": {
      "text/plain": [
       "array([[ 0.87499965,  0.12500035]])"
      ]
     },
     "execution_count": 15,
     "metadata": {},
     "output_type": "execute_result"
    }
   ],
   "source": [
    "S_0 = S_0 @ P\n",
    "S_0"
   ]
  },
  {
   "cell_type": "code",
   "execution_count": 17,
   "metadata": {
    "collapsed": false
   },
   "outputs": [
    {
     "name": "stdout",
     "output_type": "stream",
     "text": [
      "[[ 0.62  0.38]]\n",
      "[[ 0.724  0.276]]\n",
      "[[ 0.7448  0.2552]]\n",
      "[[ 0.74896  0.25104]]\n",
      "[[ 0.749792  0.250208]]\n",
      "[[ 0.7499584  0.2500416]]\n",
      "[[ 0.74999168  0.25000832]]\n",
      "[[ 0.74999834  0.25000166]]\n",
      "[[ 0.74999967  0.25000033]]\n",
      "[[ 0.74999993  0.25000007]]\n"
     ]
    }
   ],
   "source": [
    "P = np.array([[0.8, 0.2],[0.6, 0.4]])\n",
    "S_0 = np.array([[0.1, 0.9]])\n",
    "for it in range(10):\n",
    "    S_0 = S_0 @ P\n",
    "    print(S_0)"
   ]
  },
  {
   "cell_type": "code",
   "execution_count": 20,
   "metadata": {
    "collapsed": false
   },
   "outputs": [
    {
     "data": {
      "text/plain": [
       "array([[ 0.75,  0.25]])"
      ]
     },
     "execution_count": 20,
     "metadata": {},
     "output_type": "execute_result"
    }
   ],
   "source": [
    "P = np.array([[0.8, 0.2],[0.6, 0.4]])\n",
    "S_0 = np.array([[0.75, 0.25]])\n",
    "S_0 = S_0 @ P\n",
    "S_0"
   ]
  },
  {
   "cell_type": "code",
   "execution_count": 26,
   "metadata": {
    "collapsed": false
   },
   "outputs": [
    {
     "data": {
      "text/plain": [
       "array([[ 0.,  0.],\n",
       "       [ 0.,  0.]])"
      ]
     },
     "execution_count": 26,
     "metadata": {},
     "output_type": "execute_result"
    }
   ],
   "source": [
    "P**10000"
   ]
  },
  {
   "cell_type": "code",
   "execution_count": 39,
   "metadata": {
    "collapsed": false
   },
   "outputs": [],
   "source": [
    "P  = np.genfromtxt('markov_clearness.csv', delimiter=',')\n"
   ]
  },
  {
   "cell_type": "code",
   "execution_count": 41,
   "metadata": {
    "collapsed": false
   },
   "outputs": [
    {
     "data": {
      "text/plain": [
       "array([[  0.00000000e+000,   0.00000000e+000,   0.00000000e+000, ...,\n",
       "          0.00000000e+000,   0.00000000e+000,   0.00000000e+000],\n",
       "       [  0.00000000e+000,   6.68600633e-036,   3.08209983e-096, ...,\n",
       "          0.00000000e+000,   0.00000000e+000,   0.00000000e+000],\n",
       "       [  0.00000000e+000,   3.87347466e-321,   4.03708001e-017, ...,\n",
       "          0.00000000e+000,   0.00000000e+000,   0.00000000e+000],\n",
       "       ..., \n",
       "       [  0.00000000e+000,   0.00000000e+000,   0.00000000e+000, ...,\n",
       "          1.73727840e-121,   2.76690297e-179,   1.27552619e-153],\n",
       "       [  0.00000000e+000,   0.00000000e+000,   0.00000000e+000, ...,\n",
       "          1.30252552e-176,   7.76848203e-122,   1.62874255e-100],\n",
       "       [  0.00000000e+000,   0.00000000e+000,   0.00000000e+000, ...,\n",
       "          0.00000000e+000,   0.00000000e+000,   6.43099933e-009]])"
      ]
     },
     "execution_count": 41,
     "metadata": {},
     "output_type": "execute_result"
    }
   ],
   "source": [
    "P**200"
   ]
  },
  {
   "cell_type": "code",
   "execution_count": 35,
   "metadata": {
    "collapsed": false
   },
   "outputs": [
    {
     "data": {
      "text/plain": [
       "0      0.000000\n",
       "1      0.000000\n",
       "2      0.000000\n",
       "3      0.000000\n",
       "4      0.000000\n",
       "5      0.000000\n",
       "6      0.000000\n",
       "7      0.000000\n",
       "8      0.000000\n",
       "9      0.000000\n",
       "10     0.000000\n",
       "11     0.000000\n",
       "12     0.000000\n",
       "13     0.000000\n",
       "14     0.000000\n",
       "15     0.000000\n",
       "16     0.000000\n",
       "17     0.000000\n",
       "18     0.000000\n",
       "19     0.000000\n",
       "20     0.000000\n",
       "21     0.000000\n",
       "22     0.000000\n",
       "23     0.000000\n",
       "24     0.000000\n",
       "25     0.000000\n",
       "26     0.000000\n",
       "27     0.000000\n",
       "28     0.000000\n",
       "29     0.000000\n",
       "         ...   \n",
       "71     0.002221\n",
       "72     0.002974\n",
       "73     0.004219\n",
       "74     0.000000\n",
       "75     0.003007\n",
       "76     0.002209\n",
       "77     0.004410\n",
       "78     0.001783\n",
       "79     0.002409\n",
       "80     0.001378\n",
       "81     0.001064\n",
       "82     0.000656\n",
       "83     0.001100\n",
       "84     0.001533\n",
       "85     0.003768\n",
       "86     0.003339\n",
       "87     0.006016\n",
       "88     0.004169\n",
       "89     0.004333\n",
       "90     0.004507\n",
       "91     0.005747\n",
       "92     0.007709\n",
       "93     0.012384\n",
       "94     0.015184\n",
       "95     0.022021\n",
       "96     0.026621\n",
       "97     0.074047\n",
       "98     0.128276\n",
       "99     0.247781\n",
       "100    0.011828\n",
       "Name: 1, dtype: float64"
      ]
     },
     "execution_count": 35,
     "metadata": {},
     "output_type": "execute_result"
    }
   ],
   "source": [
    "df_ClearnessIndexTPM[1]"
   ]
  },
  {
   "cell_type": "code",
   "execution_count": null,
   "metadata": {
    "collapsed": true
   },
   "outputs": [],
   "source": []
  }
 ],
 "metadata": {
  "anaconda-cloud": {},
  "kernelspec": {
   "display_name": "Python [conda root]",
   "language": "python",
   "name": "conda-root-py"
  },
  "language_info": {
   "codemirror_mode": {
    "name": "ipython",
    "version": 3
   },
   "file_extension": ".py",
   "mimetype": "text/x-python",
   "name": "python",
   "nbconvert_exporter": "python",
   "pygments_lexer": "ipython3",
   "version": "3.5.2"
  }
 },
 "nbformat": 4,
 "nbformat_minor": 1
}
