{
 "cells": [
  {
   "cell_type": "code",
   "execution_count": 18,
   "metadata": {
    "collapsed": false
   },
   "outputs": [
    {
     "name": "stdout",
     "output_type": "stream",
     "text": [
      "[ 4.20283807]\n"
     ]
    }
   ],
   "source": [
    "import numpy as np   # for arrays, complex number support, etc.\n",
    "import scipy.optimize as opt # optimization toolbox from scipy\n",
    "\n",
    "\n",
    "def f(x): \n",
    "    # function example\n",
    "    return x*np.cos(x)+np.sqrt(x)\n",
    "\n",
    "\n",
    "x_0 = [10.0] # initial guess\n",
    "\n",
    "x = opt.broyden1(f, x_0, f_tol=1e-14)   # solution using broyden1\n",
    "\n",
    "print(x)  # obtained solution"
   ]
  },
  {
   "cell_type": "code",
   "execution_count": 3,
   "metadata": {
    "collapsed": false
   },
   "outputs": [
    {
     "data": {
      "text/plain": [
       "array([ 4.04674914,  3.91158389,  2.71791677,  1.61756251])"
      ]
     },
     "execution_count": 3,
     "metadata": {},
     "output_type": "execute_result"
    }
   ],
   "source": []
  },
  {
   "cell_type": "code",
   "execution_count": 19,
   "metadata": {
    "collapsed": false
   },
   "outputs": [],
   "source": [
    "import matplotlib.pyplot as plt\n",
    "\n",
    "X = np.arange(0.0,18.0,0.1)\n",
    "\n",
    "plt.plot(X,f(X))\n",
    "plt.plot(x,f(x),'ro')\n",
    "\n",
    "plt.grid(True)\n",
    "plt.xlabel('x')\n",
    "plt.ylabel('y')\n",
    "plt.show()"
   ]
  },
  {
   "cell_type": "code",
   "execution_count": null,
   "metadata": {
    "collapsed": true
   },
   "outputs": [],
   "source": []
  }
 ],
 "metadata": {
  "kernelspec": {
   "display_name": "Python 3",
   "language": "python",
   "name": "python3"
  },
  "language_info": {
   "codemirror_mode": {
    "name": "ipython",
    "version": 3
   },
   "file_extension": ".py",
   "mimetype": "text/x-python",
   "name": "python",
   "nbconvert_exporter": "python",
   "pygments_lexer": "ipython3",
   "version": "3.4.3"
  }
 },
 "nbformat": 4,
 "nbformat_minor": 0
}
