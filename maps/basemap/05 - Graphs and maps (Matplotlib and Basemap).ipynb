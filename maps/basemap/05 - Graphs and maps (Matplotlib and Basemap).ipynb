{
 "metadata": {
  "name": "",
  "signature": "sha256:b8aca388d010a8b5e9621f3bbb27627f8542e98a8a87cdb99bdec85ca97e606d"
 },
 "nbformat": 3,
 "nbformat_minor": 0,
 "worksheets": [
  {
   "cells": [
    {
     "cell_type": "heading",
     "level": 1,
     "metadata": {},
     "source": [
      "Graphs and maps (Matplotlib and Basemap)"
     ]
    },
    {
     "cell_type": "markdown",
     "metadata": {},
     "source": [
      "Nikolay Koldunov\n",
      "\n",
      "koldunovn@gmail.com"
     ]
    },
    {
     "cell_type": "markdown",
     "metadata": {},
     "source": [
      "This is part of [**Python for Geosciences**](https://github.com/koldunovn/python_for_geosciences) notes."
     ]
    },
    {
     "cell_type": "markdown",
     "metadata": {},
     "source": [
      "============="
     ]
    },
    {
     "cell_type": "markdown",
     "metadata": {},
     "source": [
      "[Matplotlib](http://matplotlib.org/) is a python 2D plotting library which produces publication quality figures in a variety of hardcopy formats and interactive environments across platforms."
     ]
    },
    {
     "cell_type": "markdown",
     "metadata": {},
     "source": [
      "Let's prepare some data:"
     ]
    },
    {
     "cell_type": "code",
     "collapsed": false,
     "input": [
      "from numpy import *\n",
      "from matplotlib.plt import *\n",
      "x = linspace(0,10,20)\n",
      "y = x ** 2"
     ],
     "language": "python",
     "metadata": {},
     "outputs": [
      {
       "ename": "ImportError",
       "evalue": "No module named plt",
       "output_type": "pyerr",
       "traceback": [
        "\u001b[1;31m---------------------------------------------------------------------------\u001b[0m\n\u001b[1;31mImportError\u001b[0m                               Traceback (most recent call last)",
        "\u001b[1;32m<ipython-input-8-f9925b2b5b40>\u001b[0m in \u001b[0;36m<module>\u001b[1;34m()\u001b[0m\n\u001b[0;32m      1\u001b[0m \u001b[1;32mfrom\u001b[0m \u001b[0mnumpy\u001b[0m \u001b[1;32mimport\u001b[0m \u001b[1;33m*\u001b[0m\u001b[1;33m\u001b[0m\u001b[0m\n\u001b[1;32m----> 2\u001b[1;33m \u001b[1;32mfrom\u001b[0m \u001b[0mmatplotlib\u001b[0m\u001b[1;33m.\u001b[0m\u001b[0mplt\u001b[0m \u001b[1;32mimport\u001b[0m \u001b[1;33m*\u001b[0m\u001b[1;33m\u001b[0m\u001b[0m\n\u001b[0m\u001b[0;32m      3\u001b[0m \u001b[0mx\u001b[0m \u001b[1;33m=\u001b[0m \u001b[0mlinspace\u001b[0m\u001b[1;33m(\u001b[0m\u001b[1;36m0\u001b[0m\u001b[1;33m,\u001b[0m\u001b[1;36m10\u001b[0m\u001b[1;33m,\u001b[0m\u001b[1;36m20\u001b[0m\u001b[1;33m)\u001b[0m\u001b[1;33m\u001b[0m\u001b[0m\n\u001b[0;32m      4\u001b[0m \u001b[0my\u001b[0m \u001b[1;33m=\u001b[0m \u001b[0mx\u001b[0m \u001b[1;33m**\u001b[0m \u001b[1;36m2\u001b[0m\u001b[1;33m\u001b[0m\u001b[0m\n",
        "\u001b[1;31mImportError\u001b[0m: No module named plt"
       ]
      }
     ],
     "prompt_number": 8
    },
    {
     "cell_type": "markdown",
     "metadata": {},
     "source": [
      "Plot is as easy as this:"
     ]
    },
    {
     "cell_type": "code",
     "collapsed": false,
     "input": [
      "plot(x,y)"
     ],
     "language": "python",
     "metadata": {},
     "outputs": [
      {
       "ename": "NameError",
       "evalue": "name 'plot' is not defined",
       "output_type": "pyerr",
       "traceback": [
        "\u001b[1;31m---------------------------------------------------------------------------\u001b[0m\n\u001b[1;31mNameError\u001b[0m                                 Traceback (most recent call last)",
        "\u001b[1;32m<ipython-input-7-5ab71f77a729>\u001b[0m in \u001b[0;36m<module>\u001b[1;34m()\u001b[0m\n\u001b[1;32m----> 1\u001b[1;33m \u001b[0mplot\u001b[0m\u001b[1;33m(\u001b[0m\u001b[0mx\u001b[0m\u001b[1;33m,\u001b[0m\u001b[0my\u001b[0m\u001b[1;33m)\u001b[0m\u001b[1;33m\u001b[0m\u001b[0m\n\u001b[0m",
        "\u001b[1;31mNameError\u001b[0m: name 'plot' is not defined"
       ]
      }
     ],
     "prompt_number": 7
    },
    {
     "cell_type": "markdown",
     "metadata": {},
     "source": [
      "Line style and labels are controlled in a way similar to Matlab:"
     ]
    },
    {
     "cell_type": "code",
     "collapsed": false,
     "input": [
      "plot(x, y, 'r--o')\n",
      "xlabel('x')\n",
      "ylabel('y')\n",
      "title('title')"
     ],
     "language": "python",
     "metadata": {},
     "outputs": []
    },
    {
     "cell_type": "markdown",
     "metadata": {},
     "source": [
      "You can plot several individual lines at once:"
     ]
    },
    {
     "cell_type": "code",
     "collapsed": false,
     "input": [
      "plot(x, y, 'r--o', x, y ** 1.1, 'bs', x, y ** 1.2, 'g^-' )"
     ],
     "language": "python",
     "metadata": {},
     "outputs": []
    },
    {
     "cell_type": "markdown",
     "metadata": {},
     "source": [
      "One more example:"
     ]
    },
    {
     "cell_type": "code",
     "collapsed": false,
     "input": [
      "mu, sigma = 100, 15\n",
      "x = mu + sigma * np.random.randn(10000)\n",
      "\n",
      "# the histogram of the data\n",
      "n, bins, patches = plt.hist(x, 50, normed=1, facecolor='g', alpha=0.75)\n",
      "\n",
      "xlabel('Smarts')\n",
      "ylabel('Probability')\n",
      "title('Histogram of IQ')\n",
      "text(60, .025, r'$\\mu=100,\\ \\sigma=15$')\n",
      "axis([40, 160, 0, 0.03])\n",
      "grid(True)"
     ],
     "language": "python",
     "metadata": {},
     "outputs": []
    },
    {
     "cell_type": "markdown",
     "metadata": {},
     "source": [
      "If you feel a bit playful (only in matplotlib > 1.3):"
     ]
    },
    {
     "cell_type": "code",
     "collapsed": false,
     "input": [
      "with xkcd():\n",
      "    x = np.linspace(0, 1)\n",
      "    y = np.sin(4 * np.pi * x) * np.exp(-5 * x)\n",
      "\n",
      "    plt.fill(x, y, 'r')\n",
      "    plt.grid(True)"
     ],
     "language": "python",
     "metadata": {},
     "outputs": []
    },
    {
     "cell_type": "markdown",
     "metadata": {},
     "source": [
      "Following example is from [matplotlib - 2D and 3D plotting in Python](http://nbviewer.ipython.org/urls/raw.github.com/jrjohansson/scientific-python-lectures/master/Lecture-4-Matplotlib.ipynb) - great place to start for people interested in matplotlib.\n"
     ]
    },
    {
     "cell_type": "code",
     "collapsed": false,
     "input": [
      "n = array([0,1,2,3,4,5])\n",
      "xx = np.linspace(-0.75, 1., 100)\n",
      "x = linspace(0, 5, 10)\n",
      "\n",
      "fig, axes = plt.subplots(1, 4, figsize=(12,3))\n",
      "\n",
      "axes[0].scatter(xx, xx + 0.25*randn(len(xx)))\n",
      "\n",
      "axes[1].step(n, n**2, lw=2)\n",
      "\n",
      "axes[2].bar(n, n**2, align=\"center\", width=0.5, alpha=0.5)\n",
      "\n",
      "axes[3].fill_between(x, x**2, x**3, color=\"green\", alpha=0.5);"
     ],
     "language": "python",
     "metadata": {},
     "outputs": []
    },
    {
     "cell_type": "markdown",
     "metadata": {},
     "source": [
      "When you going to plot something more or less complicated in Matplotlib, the first thing you do is open the [Matplotlib example gallery](http://matplotlib.org/gallery.html) and choose example closest to your case."
     ]
    },
    {
     "cell_type": "markdown",
     "metadata": {},
     "source": [
      "You can directly load python code (or basically any text file) to the notebook. This time we download code from the Matplotlib example gallery:"
     ]
    },
    {
     "cell_type": "code",
     "collapsed": false,
     "input": [
      "%load http://matplotlib.org/mpl_examples/pylab_examples/griddata_demo.py"
     ],
     "language": "python",
     "metadata": {},
     "outputs": []
    },
    {
     "cell_type": "code",
     "collapsed": false,
     "input": [
      "from numpy.random import uniform, seed\n",
      "from matplotlib.mlab import griddata\n",
      "import matplotlib.pyplot as plt\n",
      "import numpy as np\n",
      "# make up data.\n",
      "#npts = int(raw_input('enter # of random points to plot:'))\n",
      "seed(0)\n",
      "npts = 200\n",
      "x = uniform(-2,2,npts)\n",
      "y = uniform(-2,2,npts)\n",
      "z = x*np.exp(-x**2-y**2)\n",
      "# define grid.\n",
      "xi = np.linspace(-2.1,2.1,100)\n",
      "yi = np.linspace(-2.1,2.1,200)\n",
      "# grid the data.\n",
      "zi = griddata(x,y,z,xi,yi,interp='linear')\n",
      "# contour the gridded data, plotting dots at the nonuniform data points.\n",
      "CS = plt.contour(xi,yi,zi,15,linewidths=0.5,colors='k')\n",
      "CS = plt.contourf(xi,yi,zi,15,cmap=plt.cm.rainbow, \n",
      "                  vmax=abs(zi).max(), vmin=-abs(zi).max())\n",
      "plt.colorbar() # draw colorbar\n",
      "# plot data points.\n",
      "plt.scatter(x,y,marker='o',c='b',s=5,zorder=10)\n",
      "plt.xlim(-2,2)    \n",
      "plt.ylim(-2,2)     \n",
      "plt.title('griddata test (%d points)' % npts)\n",
      "plt.show()\n",
      "\n",
      "# test case that scikits.delaunay fails on, but natgrid passes..\n",
      "#data = np.array([[-1, -1], [-1, 0], [-1, 1],\n",
      "#                 [ 0, -1], [ 0, 0], [ 0, 1],\n",
      "#                 [ 1, -1 - np.finfo(np.float_).eps], [ 1, 0], [ 1, 1],\n",
      "#                ])\n",
      "#x = data[:,0]\n",
      "#y = data[:,1]\n",
      "#z = x*np.exp(-x**2-y**2)\n",
      "## define grid.\n",
      "#xi = np.linspace(-1.1,1.1,100)\n",
      "#yi = np.linspace(-1.1,1.1,100)\n",
      "## grid the data.\n",
      "#zi = griddata(x,y,z,xi,yi)\n"
     ],
     "language": "python",
     "metadata": {},
     "outputs": [
      {
       "output_type": "stream",
       "stream": "stderr",
       "text": [
        "/usr/local/lib/python2.7/dist-packages/matplotlib/tri/triangulation.py:110: FutureWarning: comparison to `None` will result in an elementwise object comparison in the future.\n",
        "  self._neighbors)\n"
       ]
      }
     ],
     "prompt_number": 9
    },
    {
     "cell_type": "heading",
     "level": 2,
     "metadata": {},
     "source": [
      "Maps"
     ]
    },
    {
     "cell_type": "markdown",
     "metadata": {},
     "source": [
      "In order to create a map we have to first import some data. We are going to use NCEP reanalysis file from previous section:"
     ]
    },
    {
     "cell_type": "code",
     "collapsed": false,
     "input": [
      "from scipy.io import netcdf"
     ],
     "language": "python",
     "metadata": {},
     "outputs": [],
     "prompt_number": 10
    },
    {
     "cell_type": "code",
     "collapsed": false,
     "input": [
      "f =netcdf.netcdf_file('air.sig995.2012.nc')"
     ],
     "language": "python",
     "metadata": {},
     "outputs": [
      {
       "ename": "IOError",
       "evalue": "[Errno 2] No such file or directory: 'air.sig995.2012.nc'",
       "output_type": "pyerr",
       "traceback": [
        "\u001b[1;31m---------------------------------------------------------------------------\u001b[0m\n\u001b[1;31mIOError\u001b[0m                                   Traceback (most recent call last)",
        "\u001b[1;32m<ipython-input-11-b03dac325b0a>\u001b[0m in \u001b[0;36m<module>\u001b[1;34m()\u001b[0m\n\u001b[1;32m----> 1\u001b[1;33m \u001b[0mf\u001b[0m \u001b[1;33m=\u001b[0m\u001b[0mnetcdf\u001b[0m\u001b[1;33m.\u001b[0m\u001b[0mnetcdf_file\u001b[0m\u001b[1;33m(\u001b[0m\u001b[1;34m'air.sig995.2012.nc'\u001b[0m\u001b[1;33m)\u001b[0m\u001b[1;33m\u001b[0m\u001b[0m\n\u001b[0m",
        "\u001b[1;32m/usr/local/lib/python2.7/dist-packages/scipy/io/netcdf.pyc\u001b[0m in \u001b[0;36m__init__\u001b[1;34m(self, filename, mode, mmap, version)\u001b[0m\n\u001b[0;32m    224\u001b[0m             \u001b[0mself\u001b[0m\u001b[1;33m.\u001b[0m\u001b[0mfilename\u001b[0m \u001b[1;33m=\u001b[0m \u001b[0mfilename\u001b[0m\u001b[1;33m\u001b[0m\u001b[0m\n\u001b[0;32m    225\u001b[0m             \u001b[0momode\u001b[0m \u001b[1;33m=\u001b[0m \u001b[1;34m'r+'\u001b[0m \u001b[1;32mif\u001b[0m \u001b[0mmode\u001b[0m \u001b[1;33m==\u001b[0m \u001b[1;34m'a'\u001b[0m \u001b[1;32melse\u001b[0m \u001b[0mmode\u001b[0m\u001b[1;33m\u001b[0m\u001b[0m\n\u001b[1;32m--> 226\u001b[1;33m             \u001b[0mself\u001b[0m\u001b[1;33m.\u001b[0m\u001b[0mfp\u001b[0m \u001b[1;33m=\u001b[0m \u001b[0mopen\u001b[0m\u001b[1;33m(\u001b[0m\u001b[0mself\u001b[0m\u001b[1;33m.\u001b[0m\u001b[0mfilename\u001b[0m\u001b[1;33m,\u001b[0m \u001b[1;34m'%sb'\u001b[0m \u001b[1;33m%\u001b[0m \u001b[0momode\u001b[0m\u001b[1;33m)\u001b[0m\u001b[1;33m\u001b[0m\u001b[0m\n\u001b[0m\u001b[0;32m    227\u001b[0m             \u001b[1;32mif\u001b[0m \u001b[0mmmap\u001b[0m \u001b[1;32mis\u001b[0m \u001b[0mNone\u001b[0m\u001b[1;33m:\u001b[0m\u001b[1;33m\u001b[0m\u001b[0m\n\u001b[0;32m    228\u001b[0m                 \u001b[0mmmap\u001b[0m \u001b[1;33m=\u001b[0m \u001b[0mTrue\u001b[0m\u001b[1;33m\u001b[0m\u001b[0m\n",
        "\u001b[1;31mIOError\u001b[0m: [Errno 2] No such file or directory: 'air.sig995.2012.nc'"
       ]
      }
     ],
     "prompt_number": 11
    },
    {
     "cell_type": "markdown",
     "metadata": {},
     "source": [
      "Here we create netCDF variable objec for *air* (we would like to have acces to some of the attributes), but from *lat* and *lon* we import only data valies:"
     ]
    },
    {
     "cell_type": "code",
     "collapsed": false,
     "input": [
      "air = f.variables['air']\n",
      "lat = f.variables['lat'][:]\n",
      "lon = f.variables['lon'][:]"
     ],
     "language": "python",
     "metadata": {},
     "outputs": []
    },
    {
     "cell_type": "markdown",
     "metadata": {},
     "source": [
      "Easiest way to look at the array is imshow:"
     ]
    },
    {
     "cell_type": "code",
     "collapsed": false,
     "input": [
      "imshow(air[0,:,:])\n",
      "colorbar()"
     ],
     "language": "python",
     "metadata": {},
     "outputs": []
    },
    {
     "cell_type": "markdown",
     "metadata": {},
     "source": [
      "But we want some real map :) First unpack and convert data from *air*:"
     ]
    },
    {
     "cell_type": "code",
     "collapsed": false,
     "input": [
      "air_c = ((air[:] * air.scale_factor) + air.add_offset) - 273.15"
     ],
     "language": "python",
     "metadata": {},
     "outputs": []
    },
    {
     "cell_type": "markdown",
     "metadata": {},
     "source": [
      "Our coordinate variables are vectors:"
     ]
    },
    {
     "cell_type": "code",
     "collapsed": false,
     "input": [
      "lat.shape"
     ],
     "language": "python",
     "metadata": {},
     "outputs": []
    },
    {
     "cell_type": "markdown",
     "metadata": {},
     "source": [
      "For the map we need 2d coordinate arrays. Convert lot lan to 2d:"
     ]
    },
    {
     "cell_type": "code",
     "collapsed": false,
     "input": [
      "lon2, lat2 = np.meshgrid(lon,lat)"
     ],
     "language": "python",
     "metadata": {},
     "outputs": []
    },
    {
     "cell_type": "markdown",
     "metadata": {},
     "source": [
      "Import Basemap - library for plotting 2D data on maps:"
     ]
    },
    {
     "cell_type": "code",
     "collapsed": false,
     "input": [
      "from mpl_toolkits.basemap import Basemap"
     ],
     "language": "python",
     "metadata": {},
     "outputs": []
    },
    {
     "cell_type": "markdown",
     "metadata": {},
     "source": [
      "Create Basemap instance (with certain characteristics) and convert lon lat to map coordinates"
     ]
    },
    {
     "cell_type": "code",
     "collapsed": false,
     "input": [
      "m = Basemap(projection='npstere',boundinglat=60,lon_0=0,resolution='l')\n",
      "x, y = m(lon2, lat2)"
     ],
     "language": "python",
     "metadata": {},
     "outputs": []
    },
    {
     "cell_type": "markdown",
     "metadata": {},
     "source": [
      "Creating the map now is only two lines:"
     ]
    },
    {
     "cell_type": "code",
     "collapsed": false,
     "input": [
      "m.drawcoastlines()\n",
      "m.contourf(x,y,air_c[0,:,:])"
     ],
     "language": "python",
     "metadata": {},
     "outputs": []
    },
    {
     "cell_type": "markdown",
     "metadata": {},
     "source": [
      "We can make the map look prettier by adding couple of lines:"
     ]
    },
    {
     "cell_type": "code",
     "collapsed": false,
     "input": [
      "fig = plt.figure(figsize=(15,7))\n",
      "m.fillcontinents(color='gray',lake_color='gray')\n",
      "m.drawcoastlines()\n",
      "m.drawparallels(np.arange(-80.,81.,20.))\n",
      "m.drawmeridians(np.arange(-180.,181.,20.))\n",
      "m.drawmapboundary(fill_color='white')\n",
      "m.contourf(x,y,air_c[0,:,:],40)\n",
      "plt.title('Monthly mean SAT')\n",
      "colorbar()"
     ],
     "language": "python",
     "metadata": {},
     "outputs": []
    },
    {
     "cell_type": "markdown",
     "metadata": {},
     "source": [
      "You can change map characteristics by changin the Basemap instance:"
     ]
    },
    {
     "cell_type": "code",
     "collapsed": false,
     "input": [
      "m = Basemap(projection='ortho',lat_0=45,lon_0=-100,resolution='l')\n",
      "x, y = m(lon2, lat2)"
     ],
     "language": "python",
     "metadata": {},
     "outputs": []
    },
    {
     "cell_type": "markdown",
     "metadata": {},
     "source": [
      "While the rest of the code might be the same:"
     ]
    },
    {
     "cell_type": "code",
     "collapsed": false,
     "input": [
      "fig = plt.figure(figsize=(15,7))\n",
      "#m.fillcontinents(color='gray',lake_color='gray')\n",
      "m.drawcoastlines()\n",
      "m.drawparallels(np.arange(-80.,81.,20.))\n",
      "m.drawmeridians(np.arange(-180.,181.,20.))\n",
      "m.drawmapboundary(fill_color='white')\n",
      "cs = m.contourf(x,y,air_c[0,:,:],20)\n",
      "plt.title('Monthly mean SAT')"
     ],
     "language": "python",
     "metadata": {},
     "outputs": []
    },
    {
     "cell_type": "markdown",
     "metadata": {},
     "source": [
      "One more map exampe:"
     ]
    },
    {
     "cell_type": "code",
     "collapsed": false,
     "input": [
      "m = Basemap(projection='cyl',llcrnrlat=-90,urcrnrlat=90,\\\n",
      "            llcrnrlon=0,urcrnrlon=360,resolution='c')\n",
      "x, y = m(lon2, lat2)"
     ],
     "language": "python",
     "metadata": {},
     "outputs": []
    },
    {
     "cell_type": "code",
     "collapsed": false,
     "input": [
      "fig = plt.figure(figsize=(15,7))\n",
      "#m.fillcontinents(color='gray',lake_color='gray')\n",
      "m.drawcoastlines()\n",
      "m.drawparallels(np.arange(-80.,81.,20.))\n",
      "m.drawmeridians(np.arange(0.,360.,20.))\n",
      "m.drawmapboundary(fill_color='white')\n",
      "cs = m.contourf(x,y,air[0,:,:],20)\n",
      "plt.title('Monthly mean SAT')"
     ],
     "language": "python",
     "metadata": {},
     "outputs": []
    },
    {
     "cell_type": "heading",
     "level": 2,
     "metadata": {},
     "source": [
      "Links:"
     ]
    },
    {
     "cell_type": "markdown",
     "metadata": {},
     "source": [
      "* [Basemap Example Gallery](http://matplotlib.org/basemap/users/examples.html)\n",
      "* [PyNGL Gallery](http://www.pyngl.ucar.edu/Examples/gallery.shtml)\n",
      "* [ggplot for python](http://blog.yhathq.com/posts/ggplot-for-python.html)\n",
      "* [Bokeh](https://github.com/ContinuumIO/Bokeh)\n",
      "* [d3py](https://github.com/mikedewar/d3py)"
     ]
    }
   ],
   "metadata": {}
  }
 ]
}