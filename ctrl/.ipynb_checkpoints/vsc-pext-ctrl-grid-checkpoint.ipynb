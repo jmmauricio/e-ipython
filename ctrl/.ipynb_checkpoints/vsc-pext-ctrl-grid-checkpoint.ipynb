{
 "cells": [
  {
   "cell_type": "code",
   "execution_count": 1,
   "metadata": {
    "collapsed": false,
    "slideshow": {
     "slide_type": "slide"
    }
   },
   "outputs": [],
   "source": [
    "import numpy as np\n",
    "import scipy.signal as sps\n",
    "import sympy as sym \n",
    "import scipy.optimize as sopt\n",
    "%matplotlib inline   \n",
    "import matplotlib.pyplot as plt\n",
    "from sympy.utilities.lambdify import lambdify"
   ]
  },
  {
   "cell_type": "markdown",
   "metadata": {},
   "source": [
    "## Without control\n",
    "$$ \\frac{di_d}{dt}  = \\frac{1}{L} \\left(\\eta_d \\frac{v_{dc}}{2} - R i_d + L \\omega i_q - v_{sd}\\right) $$\n",
    "$$ \\frac{di_q}{dt}  = \\frac{1}{L} \\left(\\eta_q \\frac{v_{dc}}{2} - R i_q - L \\omega i_d - v_{sq}\\right) $$\n",
    "$$ \\frac{dv_{dc}}{dt} = \\frac{1}{C} \\left( i_{dc} -  \\frac{3}{4} \\left( \\eta_d i_d + \\eta_q i_q \\right) \\right) $$\n"
   ]
  },
  {
   "cell_type": "code",
   "execution_count": 2,
   "metadata": {
    "collapsed": false
   },
   "outputs": [],
   "source": [
    "eta_d,eta_q = sym.symbols('eta_d,eta_q')\n",
    "i_d,i_q,v_dc,i_dc = sym.symbols('i_d,i_q,v_dc,i_dc')\n",
    "i_d_ref,i_q_ref,v_dc_ref = sym.symbols('i_d_ref,i_q_ref,v_dc_ref')\n",
    "v_sd,v_sq = sym.symbols('v_sd,v_sq')\n",
    "L,R,C,omega = sym.symbols('L,R,C,omega')\n",
    "u_d,u_q = sym.symbols('u_d,u_q')\n",
    "p_ext,i_ext = sym.symbols('p_ext,i_ext')\n",
    "K_p,T_pi,K_p_v,T_pi_v = sym.symbols('K_p,T_pi,K_p_v,T_pi_v') \n",
    "p_ref,q_ref = sym.symbols('p_ref,q_ref')\n",
    "xi_d,xi_q,xi_v_dc = sym.symbols('xi_d,xi_q,xi_v_dc')\n"
   ]
  },
  {
   "cell_type": "code",
   "execution_count": 3,
   "metadata": {
    "collapsed": false
   },
   "outputs": [],
   "source": [
    "K_p = L/0.001\n",
    "T_pi = L/R\n",
    "\n",
    "\n",
    "\n",
    "error_v_dc = v_dc_ref - v_dc\n",
    "\n",
    "p_ref =  K_p_v * (error_v_dc + xi_v_dc/T_pi_v)\n",
    "\n",
    "i_q_ref = 2.0/3.0*(p_ref*v_sq + q_ref*v_sd)/(v_sd**2 + v_sq**2)\n",
    "i_d_ref = 2.0/3.0*(p_ref*v_sd - q_ref*v_sq)/(v_sd**2 + v_sq**2)\n",
    "\n",
    "error_d = i_d_ref - i_d\n",
    "error_q = i_q_ref - i_q\n",
    "\n",
    "u_d = K_p * (error_d + xi_d/T_pi)\n",
    "u_q = K_p * (error_q + xi_q/T_pi)\n",
    "\n",
    "i_ext = p_ext/v_dc\n",
    "\n",
    "eta_d = 2.0/v_dc * (u_d - L*omega*i_q + v_sd)\n",
    "eta_q = 2.0/v_dc * (u_q + L*omega*i_d - v_sq)\n",
    "\n",
    "di_d  = 1/L*(eta_d*v_dc/2 - R*i_d + L*omega*i_q - v_sd)\n",
    "di_q  = 1/L*(eta_q*v_dc/2 - R*i_q - L*omega*i_d - v_sq)\n",
    "dv_dc = 1/C*(i_ext - 3/4*(eta_d*i_d + eta_q*i_q ))\n",
    "dxi_d  = error_d\n",
    "dxi_q  = error_q\n",
    "dxi_vdc  = error_v_dc\n",
    "\n",
    "f = sym.Matrix([[di_d],[di_q],[dv_dc],[dxi_d],[dxi_q],[dxi_vdc]])\n",
    "x = sym.Matrix([[i_d],[i_q],[v_dc],[xi_d],[xi_q],[xi_v_dc]])\n",
    "u = sym.Matrix([[v_sd],[v_sq],[p_ext],[v_dc_ref],[q_ref]])\n",
    "\n",
    "F_x = f.jacobian(x)\n",
    "\n"
   ]
  },
  {
   "cell_type": "code",
   "execution_count": null,
   "metadata": {
    "collapsed": false
   },
   "outputs": [],
   "source": []
  },
  {
   "cell_type": "code",
   "execution_count": 4,
   "metadata": {
    "collapsed": false
   },
   "outputs": [
    {
     "name": "stdout",
     "output_type": "stream",
     "text": [
      "[[ (1000.0*L*(-1 + (0.666666666666667*K_p_v*v_sd*(v_dc_ref - 3 + 7/T_pi_v) - 0.666666666666667*q_ref*v_sq)/(v_sd**2 + v_sq**2) + 5*R/L) - R)/L]\n",
      " [ (1000.0*L*(-2 + (0.666666666666667*K_p_v*v_sq*(v_dc_ref - 3 + 7/T_pi_v) + 0.666666666666667*q_ref*v_sd)/(v_sd**2 + v_sq**2) + 6*R/L) - 2*R - 2.0*v_sq)/L]\n",
      " [ (-1000.0*L*(-2 + (0.666666666666667*K_p_v*v_sq*(v_dc_ref - 3 + 7/T_pi_v) + 0.666666666666667*q_ref*v_sd)/(v_sd**2 + v_sq**2) + 6*R/L) - 500.0*L*(-1 + (0.666666666666667*K_p_v*v_sd*(v_dc_ref - 3 + 7/T_pi_v) - 0.666666666666667*q_ref*v_sq)/(v_sd**2 + v_sq**2) + 5*R/L) + p_ext/3 - 0.5*v_sd + 1.0*v_sq)/C]\n",
      " [ -1 + (0.666666666666667*K_p_v*v_sd*(v_dc_ref - 3 + 7/T_pi_v) - 0.666666666666667*q_ref*v_sq)/(v_sd**2 + v_sq**2)]\n",
      " [ -2 + (0.666666666666667*K_p_v*v_sq*(v_dc_ref - 3 + 7/T_pi_v) + 0.666666666666667*q_ref*v_sd)/(v_sd**2 + v_sq**2)]\n",
      " [v_dc_ref - 3]]\n"
     ]
    }
   ],
   "source": [
    "# test para ver si las cosas van bien\n",
    "from sympy.utilities.lambdify import lambdify\n",
    "func = lambdify(x, f,'numpy') # returns a numpy-ready function\n",
    "print(func(1,2,3,5,6,7))"
   ]
  },
  {
   "cell_type": "markdown",
   "metadata": {},
   "source": [
    "## Steady state"
   ]
  },
  {
   "cell_type": "code",
   "execution_count": 11,
   "metadata": {
    "collapsed": false,
    "scrolled": false
   },
   "outputs": [
    {
     "name": "stdout",
     "output_type": "stream",
     "text": [
      "i_d = 0.000, i_q = 81.650\n"
     ]
    },
    {
     "data": {
      "text/plain": [
       "Matrix([\n",
       "[-39999.9999999997],\n",
       "[                0]])"
      ]
     },
     "execution_count": 11,
     "metadata": {},
     "output_type": "execute_result"
    }
   ],
   "source": [
    "C_value = 2000.0e-6\n",
    "\n",
    "params = {'L':2.5e-3,\n",
    "          'R':1.0,\n",
    "          'C':C_value,\n",
    "          'omega':2.0*np.pi*50,\n",
    "          'K_p_v':800.0*C_value/0.005,\n",
    "          'T_pi_v':0.1,\n",
    "          'v_sq':-np.sqrt(2./3)*400.0,\n",
    "          'v_sd':0.0,\n",
    "          'v_dc_ref':800,\n",
    "          'q_ref':0.0e3,\n",
    "          'p_ext':-30e3\n",
    "         }\n",
    "\n",
    "# sym.pretty_print(f.subs(params))\n",
    "\n",
    "u = sym.Matrix([[i_d, i_q,v_dc,xi_d,xi_q,xi_v_dc ]])\n",
    "\n",
    "f_ss = lambdify(u, f.subs(params),'numpy') # returns a numpy-ready function\n",
    "\n",
    "def eqs_ss(x):\n",
    "    \n",
    "    i_d = x[0]\n",
    "    i_q = x[1]\n",
    "    v_dc = x[2]\n",
    "    xi_d = x[3]\n",
    "    xi_q = x[4]\n",
    "    xi_v_dc = x[5]\n",
    "        \n",
    "    return f_ss(i_d, i_q,v_dc,xi_d,xi_q,xi_v_dc )\n",
    "\n",
    "i_d_0 = 2.0/3.0*(-params['q_ref']/params['v_sq'])\n",
    "i_q_0 = 2.0/3.0*( params['p_ext']/params['v_sq'])\n",
    "\n",
    "\n",
    "x_0 = [i_d_0,i_q_0,800,0,0,0] \n",
    "sol = sopt.broyden1(eqs_ss, x_0, f_tol=1e-8)\n",
    "\n",
    "print('i_d = {:2.3f}, i_q = {:2.3f}'.format(sol[0],sol[1]))\n",
    "#print('[{:2.6f}, {:2.6f}]'.format(sol[0],sol[1]))\n",
    "\n",
    "p = 3/2*(v_sd*i_d + v_sq*i_q)\n",
    "q = 3/2*(v_sd*i_q - v_sq*i_d) \n",
    "\n",
    "h = sym.Matrix([[p],[q]])\n",
    "\n",
    "params_ss = params\n",
    "\n",
    "params_ss.update({'i_d':sol[0],\n",
    "                  'i_q':sol[1],\n",
    "                  'v_dc':sol[2],\n",
    "                  'xi_d':sol[3],\n",
    "                  'xi_q':sol[4],\n",
    "                  'xi_v_dc':sol[5]                         \n",
    "                 })\n",
    "\n",
    "sym.N(h.subs(params_ss))\n",
    "h.subs(params_ss)"
   ]
  },
  {
   "cell_type": "markdown",
   "metadata": {},
   "source": [
    "## Small Signal\n"
   ]
  },
  {
   "cell_type": "code",
   "execution_count": 6,
   "metadata": {
    "collapsed": false
   },
   "outputs": [
    {
     "name": "stdout",
     "output_type": "stream",
     "text": [
      "[ -1.00000000e+03  -1.00000000e+02  -1.00006498e+03   8.16675448e-01\n",
      "  -7.55622018e-01  -1.00000000e+02]\n"
     ]
    }
   ],
   "source": [
    "F_x = f.jacobian(x)\n",
    "f_A = lambdify([], F_x.subs(params_ss),'numpy')\n",
    "#F_u = f.jacobian(u)\n",
    "#f_B = lambdify([], F_u.subs(params),'numpy')\n",
    "#H_x = h.jacobian(x)\n",
    "#f_C = lambdify([], H_x.subs(params),'numpy')\n",
    "#H_u = h.jacobian(u)\n",
    "#f_D = lambdify([], H_u.subs(params),'numpy')\n",
    "\n",
    "A = f_A()\n",
    "#B = f_B()\n",
    "#C = f_C()\n",
    "#D = f_D()\n",
    "eig, evec = np.linalg.eig(A)\n",
    "\n",
    "print(eig)"
   ]
  },
  {
   "cell_type": "code",
   "execution_count": 103,
   "metadata": {
    "collapsed": false
   },
   "outputs": [
    {
     "data": {
      "text/plain": [
       "Matrix([\n",
       "[                                                                                                                                                                                                                                    (1000.0*L*(-i_d + (0.666666666666667*K_p_v*v_sd*(-v_dc + v_dc_ref + xi_v_dc/T_pi_v) - 0.666666666666667*q_ref*v_sq)/(v_sd**2 + v_sq**2) + R*xi_d/L) - R*i_d)/L],\n",
       "[                                                                                                                                                                                                                         (1000.0*L*(-i_q + (0.666666666666667*K_p_v*v_sq*(-v_dc + v_dc_ref + xi_v_dc/T_pi_v) + 0.666666666666667*q_ref*v_sd)/(v_sd**2 + v_sq**2) + R*xi_q/L) - R*i_q - 2.0*v_sq)/L],\n",
       "[(-1.5*i_d*(-L*i_q*omega + 1000.0*L*(-i_d + (0.666666666666667*K_p_v*v_sd*(-v_dc + v_dc_ref + xi_v_dc/T_pi_v) - 0.666666666666667*q_ref*v_sq)/(v_sd**2 + v_sq**2) + R*xi_d/L) + v_sd)/v_dc - 1.5*i_q*(L*i_d*omega + 1000.0*L*(-i_q + (0.666666666666667*K_p_v*v_sq*(-v_dc + v_dc_ref + xi_v_dc/T_pi_v) + 0.666666666666667*q_ref*v_sd)/(v_sd**2 + v_sq**2) + R*xi_q/L) - v_sq)/v_dc + p_ext/v_dc)/C],\n",
       "[                                                                                                                                                                                                                                                                      -i_d + (0.666666666666667*K_p_v*v_sd*(-v_dc + v_dc_ref + xi_v_dc/T_pi_v) - 0.666666666666667*q_ref*v_sq)/(v_sd**2 + v_sq**2)],\n",
       "[                                                                                                                                                                                                                                                                      -i_q + (0.666666666666667*K_p_v*v_sq*(-v_dc + v_dc_ref + xi_v_dc/T_pi_v) + 0.666666666666667*q_ref*v_sd)/(v_sd**2 + v_sq**2)],\n",
       "[                                                                                                                                                                                                                                                                                                                                                                                  -v_dc + v_dc_ref]])"
      ]
     },
     "execution_count": 103,
     "metadata": {},
     "output_type": "execute_result"
    }
   ],
   "source": [
    "f"
   ]
  },
  {
   "cell_type": "code",
   "execution_count": null,
   "metadata": {
    "collapsed": true
   },
   "outputs": [],
   "source": []
  }
 ],
 "metadata": {
  "anaconda-cloud": {},
  "kernelspec": {
   "display_name": "Python [default]",
   "language": "python",
   "name": "python3"
  },
  "language_info": {
   "codemirror_mode": {
    "name": "ipython",
    "version": 3
   },
   "file_extension": ".py",
   "mimetype": "text/x-python",
   "name": "python",
   "nbconvert_exporter": "python",
   "pygments_lexer": "ipython3",
   "version": "3.5.2"
  }
 },
 "nbformat": 4,
 "nbformat_minor": 0
}
