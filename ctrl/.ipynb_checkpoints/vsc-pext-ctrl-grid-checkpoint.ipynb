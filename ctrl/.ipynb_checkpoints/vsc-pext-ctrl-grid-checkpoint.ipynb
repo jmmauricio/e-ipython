{
 "cells": [
  {
   "cell_type": "code",
   "execution_count": 52,
   "metadata": {
    "collapsed": false,
    "slideshow": {
     "slide_type": "slide"
    }
   },
   "outputs": [],
   "source": [
    "import numpy as np\n",
    "import scipy.signal as sps\n",
    "import sympy as sym \n",
    "import scipy.optimize as sopt\n",
    "from scipy.integrate import ode\n",
    "%matplotlib inline   \n",
    "import matplotlib.pyplot as plt\n",
    "from sympy.utilities.lambdify import lambdify"
   ]
  },
  {
   "cell_type": "markdown",
   "metadata": {},
   "source": [
    "## Without control\n",
    "$$ \\frac{di_d}{dt}  = \\frac{1}{L} \\left(\\eta_d \\frac{v_{dc}}{2} - R i_d + L \\omega i_q - v_{sd}\\right) $$\n",
    "$$ \\frac{di_q}{dt}  = \\frac{1}{L} \\left(\\eta_q \\frac{v_{dc}}{2} - R i_q - L \\omega i_d - v_{sq}\\right) $$\n",
    "$$ \\frac{dv_{dc}}{dt} = \\frac{1}{C} \\left( i_{dc} -  \\frac{3}{4} \\left( \\eta_d i_d + \\eta_q i_q \\right) \\right) $$\n"
   ]
  },
  {
   "cell_type": "code",
   "execution_count": 2,
   "metadata": {
    "collapsed": false
   },
   "outputs": [],
   "source": [
    "eta_d,eta_q = sym.symbols('eta_d,eta_q')\n",
    "i_d,i_q,v_dc,i_dc = sym.symbols('i_d,i_q,v_dc,i_dc')\n",
    "i_d_ref,i_q_ref,v_dc_ref = sym.symbols('i_d_ref,i_q_ref,v_dc_ref')\n",
    "v_sd,v_sq = sym.symbols('v_sd,v_sq')\n",
    "v_gd,v_gq = sym.symbols('v_gd,v_gq')\n",
    "L_g,R_g = sym.symbols('L_g,R_g')\n",
    "L,R,C,omega = sym.symbols('L,R,C,omega')\n",
    "u_d,u_q = sym.symbols('u_d,u_q')\n",
    "p_ext,i_ext = sym.symbols('p_ext,i_ext')\n",
    "K_p,T_pi,K_p_v,T_pi_v = sym.symbols('K_p,T_pi,K_p_v,T_pi_v') \n",
    "p_ref,q_ref = sym.symbols('p_ref,q_ref')\n",
    "xi_d,xi_q,xi_v_dc = sym.symbols('xi_d,xi_q,xi_v_dc')\n"
   ]
  },
  {
   "cell_type": "code",
   "execution_count": 118,
   "metadata": {
    "collapsed": false
   },
   "outputs": [],
   "source": [
    "\n",
    "\n",
    "v_sd = v_gd + R_g*i_d - L_g*omega*i_q \n",
    "v_sq = v_gq + R_g*i_q + L_g*omega*i_d \n",
    "\n",
    "error_v_dc = v_dc_ref**2 - v_dc**2\n",
    "\n",
    "p_ref = - K_p_v * (error_v_dc + xi_v_dc/T_pi_v)\n",
    "\n",
    "i_q_ref = 2.0/3.0*(p_ref*v_sq + q_ref*v_sd)/(v_sd**2 + v_sq**2)\n",
    "i_d_ref = 2.0/3.0*(p_ref*v_sd - q_ref*v_sq)/(v_sd**2 + v_sq**2)\n",
    "\n",
    "error_d = i_d_ref - i_d\n",
    "error_q = i_q_ref - i_q\n",
    "\n",
    "u_d = K_p * (error_d + xi_d/T_pi)\n",
    "u_q = K_p * (error_q + xi_q/T_pi)\n",
    "\n",
    "i_ext = p_ext/v_dc\n",
    "\n",
    "eta_d = 2.0/v_dc * (u_d - L*omega*i_q + v_sd)\n",
    "eta_q = 2.0/v_dc * (u_q + L*omega*i_d - v_sq)\n",
    "\n",
    "\n",
    "di_d  = 1/L*(eta_d*v_dc/2 - R*i_d + L*omega*i_q - v_sd)\n",
    "di_q  = 1/L*(eta_q*v_dc/2 - R*i_q - L*omega*i_d - v_sq)\n",
    "dv_dc = 1/C*(i_ext - 3/4*(eta_d*i_d + eta_q*i_q ))\n",
    "dxi_d  = error_d\n",
    "dxi_q  = error_q\n",
    "dxi_vdc  = error_v_dc\n",
    "\n",
    "f = sym.Matrix([[di_d],[di_q],[dv_dc],[dxi_d],[dxi_q],[dxi_vdc]])\n",
    "x = sym.Matrix([[i_d],[i_q],[v_dc],[xi_d],[xi_q],[xi_v_dc]])\n",
    "u = sym.Matrix([[v_sd],[v_sq],[p_ext],[v_dc_ref],[q_ref]])\n",
    "\n",
    "F_x = f.jacobian(x)\n",
    "\n"
   ]
  },
  {
   "cell_type": "code",
   "execution_count": null,
   "metadata": {
    "collapsed": false
   },
   "outputs": [],
   "source": []
  },
  {
   "cell_type": "code",
   "execution_count": 75,
   "metadata": {
    "collapsed": false
   },
   "outputs": [
    {
     "name": "stdout",
     "output_type": "stream",
     "text": [
      "[[ (K_p*((-0.666666666666667*K_p_v*(v_dc_ref - 3 + 7/T_pi_v)*(-2*L_g*omega + R_g + v_gd) - 0.666666666666667*q_ref*(L_g*omega + 2*R_g + v_gq))/((-2*L_g*omega + R_g + v_gd)**2 + (L_g*omega + 2*R_g + v_gq)**2) - 1 + 5/T_pi) - R)/L]\n",
      " [ (K_p*((-0.666666666666667*K_p_v*(v_dc_ref - 3 + 7/T_pi_v)*(L_g*omega + 2*R_g + v_gq) + 0.666666666666667*q_ref*(-2*L_g*omega + R_g + v_gd))/((-2*L_g*omega + R_g + v_gd)**2 + (L_g*omega + 2*R_g + v_gq)**2) - 2 + 6/T_pi) - 2.0*L_g*omega - 2*R - 4.0*R_g - 2.0*v_gq)/L]\n",
      " [ (-0.5*K_p*((-0.666666666666667*K_p_v*(v_dc_ref - 3 + 7/T_pi_v)*(-2*L_g*omega + R_g + v_gd) - 0.666666666666667*q_ref*(L_g*omega + 2*R_g + v_gq))/((-2*L_g*omega + R_g + v_gd)**2 + (L_g*omega + 2*R_g + v_gq)**2) - 1 + 5/T_pi) - K_p*((-0.666666666666667*K_p_v*(v_dc_ref - 3 + 7/T_pi_v)*(L_g*omega + 2*R_g + v_gq) + 0.666666666666667*q_ref*(-2*L_g*omega + R_g + v_gd))/((-2*L_g*omega + R_g + v_gd)**2 + (L_g*omega + 2*R_g + v_gq)**2) - 2 + 6/T_pi) + 2.0*L_g*omega + 1.5*R_g + p_ext/3 - 0.5*v_gd + 1.0*v_gq)/C]\n",
      " [ (-0.666666666666667*K_p_v*(v_dc_ref - 3 + 7/T_pi_v)*(-2*L_g*omega + R_g + v_gd) - 0.666666666666667*q_ref*(L_g*omega + 2*R_g + v_gq))/((-2*L_g*omega + R_g + v_gd)**2 + (L_g*omega + 2*R_g + v_gq)**2) - 1]\n",
      " [ (-0.666666666666667*K_p_v*(v_dc_ref - 3 + 7/T_pi_v)*(L_g*omega + 2*R_g + v_gq) + 0.666666666666667*q_ref*(-2*L_g*omega + R_g + v_gd))/((-2*L_g*omega + R_g + v_gd)**2 + (L_g*omega + 2*R_g + v_gq)**2) - 2]\n",
      " [v_dc_ref - 3]]\n"
     ]
    }
   ],
   "source": [
    "# test para ver si las cosas van bien\n",
    "from sympy.utilities.lambdify import lambdify\n",
    "func = lambdify(x, f,'numpy') # returns a numpy-ready function\n",
    "print(func(1,2,3,5,6,7))"
   ]
  },
  {
   "cell_type": "markdown",
   "metadata": {},
   "source": [
    "## Steady state"
   ]
  },
  {
   "cell_type": "code",
   "execution_count": 153,
   "metadata": {
    "collapsed": false,
    "scrolled": false
   },
   "outputs": [
    {
     "name": "stdout",
     "output_type": "stream",
     "text": [
      "i_d = 27.691, i_q = 575.731\n",
      "P_ext = -250000.0 W\n",
      "P = -274917.4 W\n",
      "Q = 10000.0 var\n",
      "v_sd = -3.7 V\n",
      "v_sq = -318.2 V\n"
     ]
    }
   ],
   "source": [
    "C_value = 2000.0e-6;\n",
    "S_cc = 10e6;\n",
    "U_b = 400;\n",
    "XR = 0.5;\n",
    "R_value = 0.05;\n",
    "L_value = 1.0e-3;\n",
    "T_d_idq = 0.002;\n",
    "T_d_vdc = 0.01;\n",
    "\n",
    "Z_cc = U_b**2/S_cc\n",
    "\n",
    "# Z**2 = R**2 + X**2\n",
    "# Z**2 = R**2*XR**2 + R**2 = R**2*(XR**2+1)\n",
    "R_g_val = (Z_cc**2/(XR**2+1))**0.5\n",
    "X = XR*R_g_val\n",
    "omega_val = 2*np.pi*50\n",
    "\n",
    "L_g_val =  X/omega\n",
    "\n",
    "\n",
    "params = {'L':L_value,\n",
    "          'R':R_value,\n",
    "          'L_g':L_g_val,\n",
    "          'R_g':R_g_val,\n",
    "          'C':C_value,\n",
    "          'omega':2.0*np.pi*50,\n",
    "          'K_p_v':C_value/T_d_vdc,\n",
    "          'T_pi_v':0.1,\n",
    "          'v_gq':-np.sqrt(2./3)*400.0,\n",
    "          'v_gd':0.0,\n",
    "          'v_dc_ref':800,\n",
    "          'q_ref':10.0e3,\n",
    "          'p_ext':-250e3,\n",
    "          'K_p':L_value/T_d_idq,\n",
    "          'T_pi':L_value/R_value\n",
    "         }\n",
    "\n",
    "# sym.pretty_print(f.subs(params))\n",
    "\n",
    "u = sym.Matrix([[i_d, i_q,v_dc,xi_d,xi_q,xi_v_dc ]])\n",
    "\n",
    "f_ss = lambdify(u, f.subs(params),'numpy') # returns a numpy-ready function\n",
    "\n",
    "def eqs_ss(x):\n",
    "    \n",
    "    i_d = x[0]\n",
    "    i_q = x[1]\n",
    "    v_dc = x[2]\n",
    "    xi_d = x[3]\n",
    "    xi_q = x[4]\n",
    "    xi_v_dc = x[5]\n",
    "        \n",
    "    return f_ss(i_d, i_q,v_dc,xi_d,xi_q,xi_v_dc )\n",
    "\n",
    "i_d_0 = 2.0/3.0*(-params['q_ref']/params['v_gq'])\n",
    "i_q_0 = 2.0/3.0*( params['p_ext']/params['v_gq'])\n",
    "\n",
    "\n",
    "x_0 = [i_d_0,i_q_0,800,0,0,0] \n",
    "sol = sopt.broyden2(eqs_ss, x_0, f_tol=1e-8)\n",
    "\n",
    "print('i_d = {:2.3f}, i_q = {:2.3f}'.format(sol[0],sol[1]))\n",
    "#print('[{:2.6f}, {:2.6f}]'.format(sol[0],sol[1]))\n",
    "\n",
    "p = 3/2*(v_sd*i_d + v_sq*i_q)\n",
    "q = 3/2*(v_sd*i_q - v_sq*i_d) \n",
    "\n",
    "h = sym.Matrix([[p],[q]])\n",
    "\n",
    "params_ss = params\n",
    "\n",
    "params_ss.update({'i_d':sol[0],\n",
    "                  'i_q':sol[1],\n",
    "                  'v_dc':sol[2],\n",
    "                  'xi_d':sol[3],\n",
    "                  'xi_q':sol[4],\n",
    "                  'xi_v_dc':sol[5]                         \n",
    "                 })\n",
    "\n",
    "sym.N(h.subs(params_ss))\n",
    "print('P_ext = {:2.1f} W'.format(p_ext.subs(params_ss)))\n",
    "print('P = {:2.1f} W'.format(p.subs(params_ss)))\n",
    "print('Q = {:2.1f} var'.format(q.subs(params_ss)))\n",
    "print('v_sd = {:2.1f} V'.format(v_sd.subs(params_ss)))\n",
    "print('v_sq = {:2.1f} V'.format(v_sq.subs(params_ss)))"
   ]
  },
  {
   "cell_type": "code",
   "execution_count": 154,
   "metadata": {
    "collapsed": false
   },
   "outputs": [
    {
     "data": {
      "text/plain": [
       "Matrix([\n",
       "[ -4.57157511846162e-9],\n",
       "[  2.61934474110603e-9],\n",
       "[ -2.09547579288483e-9],\n",
       "[-1.54499524285256e-10],\n",
       "[ 9.41327016334981e-11],\n",
       "[                    0]])"
      ]
     },
     "execution_count": 154,
     "metadata": {},
     "output_type": "execute_result"
    }
   ],
   "source": [
    "f.subs(params)"
   ]
  },
  {
   "cell_type": "markdown",
   "metadata": {},
   "source": [
    "## Small Signal\n"
   ]
  },
  {
   "cell_type": "code",
   "execution_count": 155,
   "metadata": {
    "collapsed": false
   },
   "outputs": [
    {
     "name": "stdout",
     "output_type": "stream",
     "text": [
      "[-512.40066019  +0.j         -161.46977389+214.76088041j\n",
      " -161.46977389-214.76088041j  -51.59401922  +0.j          -50.00000000  +0.j\n",
      "  -10.65482295  +0.j        ]\n"
     ]
    }
   ],
   "source": [
    "F_x = f.jacobian(x)\n",
    "f_A = lambdify([], F_x.subs(params_ss),'numpy')\n",
    "#F_u = f.jacobian(u)\n",
    "#f_B = lambdify([], F_u.subs(params),'numpy')\n",
    "#H_x = h.jacobian(x)\n",
    "#f_C = lambdify([], H_x.subs(params),'numpy')\n",
    "#H_u = h.jacobian(u)\n",
    "#f_D = lambdify([], H_u.subs(params),'numpy')\n",
    "\n",
    "A = f_A()\n",
    "#B = f_B()\n",
    "#C = f_C()\n",
    "#D = f_D()\n",
    "eig, evec = np.linalg.eig(A)\n",
    "\n",
    "print(eig)"
   ]
  },
  {
   "cell_type": "markdown",
   "metadata": {},
   "source": [
    "## Simulation"
   ]
  },
  {
   "cell_type": "code",
   "execution_count": 157,
   "metadata": {
    "collapsed": false
   },
   "outputs": [
    {
     "data": {
      "image/png": "[encoded data removed]",
      "text/plain": [
       "<matplotlib.figure.Figure at 0x7fa16965cd30>"
      ]
     },
     "metadata": {},
     "output_type": "display_data"
    }
   ],
   "source": [
    "params_sim = {'L':L_value,\n",
    "          'R':R_value,\n",
    "          'L_g':L_g_val,\n",
    "          'R_g':R_g_val,\n",
    "          'C':C_value,\n",
    "          'omega':2.0*np.pi*50,\n",
    "          'K_p_v':800.0*C_value/T_d_vdc/800,\n",
    "          'T_pi_v':0.1,\n",
    "          'v_gq':-np.sqrt(2./3)*400.0,\n",
    "          'v_gd':0.0,\n",
    "          'v_dc_ref':800,\n",
    "          'q_ref':10.0e3,\n",
    "          'K_p':L_value/T_d_idq,\n",
    "          'T_pi':L_value/R_value\n",
    "         }\n",
    "\n",
    "# sym.pretty_print(f.subs(params))\n",
    "\n",
    "u = sym.Matrix([[i_d, i_q,v_dc,xi_d,xi_q,xi_v_dc,p_ext ]])\n",
    "\n",
    "f_sim = lambdify(u, f.subs(params_sim),'numpy') # returns a numpy-ready function\n",
    "\n",
    "def fun(t,x,params):\n",
    "    \n",
    "    i_d = x[0]\n",
    "    i_q = x[1]\n",
    "    v_dc = x[2]\n",
    "    xi_d = x[3]\n",
    "    xi_q = x[4]\n",
    "    xi_v_dc = x[5]\n",
    "        \n",
    "    return f_sim(i_d, i_q,v_dc,xi_d,xi_q,xi_v_dc,params)\n",
    "    \n",
    "\n",
    "r = ode(fun).set_integrator('dopri5')\n",
    "r.set_initial_value(sol,0.0).set_f_params(-250e3)\n",
    "t1 = 1.0\n",
    "dt = 0.001\n",
    "\n",
    "T = [0.0]\n",
    "X = [sol]\n",
    "\n",
    "while r.successful() and r.t < t1:\n",
    "    if r.t>0.5:\n",
    "        r.set_f_params(-260e3)\n",
    "\n",
    "    T += [r.t+dt]\n",
    "    X += [r.integrate(r.t+dt)]\n",
    "\n",
    "    \n",
    "T = np.array(T)\n",
    "X = np.array(X)\n",
    "\n",
    "fig = plt.figure(figsize=(10,8))\n",
    "\n",
    "ax1    = fig.add_subplot(2,1,1)\n",
    "ax2 = fig.add_subplot(2,1,2)\n",
    "\n",
    "ax1.plot(T,X[:,0])\n",
    "ax1.plot(T,X[:,1])\n",
    "ax2.plot(T,X[:,2])\n",
    "\n",
    "plt.show()    \n",
    "\n"
   ]
  },
  {
   "cell_type": "code",
   "execution_count": 113,
   "metadata": {
    "collapsed": true
   },
   "outputs": [],
   "source": [
    "S_cc = 10e6\n",
    "U_b = 400\n",
    "Z_cc = U_b**2/S_cc"
   ]
  },
  {
   "cell_type": "code",
   "execution_count": null,
   "metadata": {
    "collapsed": false
   },
   "outputs": [],
   "source": [
    "Z_cc"
   ]
  },
  {
   "cell_type": "code",
   "execution_count": null,
   "metadata": {
    "collapsed": false
   },
   "outputs": [],
   "source": [
    "S_cc = 10e6\n",
    "U_b = 400\n",
    "Z_cc = U_b**2/S_cc\n",
    "\n",
    "XR = 0.2\n",
    "# Z**2 = R**2 + X**2\n",
    "# Z**2 = R**2*XR**2 + R**2 = R**2*(XR**2+1)\n",
    "R_g_val = (Z_cc**2/(XR**2+1))**0.5\n",
    "X = XR*R_g_val\n",
    "omega_val = 2*np.pi*50\n",
    "\n",
    "L_g_val =  X/omega_val\n",
    "print('R: {:2.5f} mOhm'.format(R_g_val*1000))\n",
    "print('X: {:2.5f} mOhm'.format(X*1000))\n",
    "print('L: {:2.5f} mH'.format(L_g_val*1000))\n",
    "print('Z: {:2.5f} mOhm'.format((X**2+R_g_val**2)**0.5*1000))\n",
    "print('L/R: {:2.5f} s'.format(L_g_val/R_g_val))"
   ]
  },
  {
   "cell_type": "code",
   "execution_count": null,
   "metadata": {
    "collapsed": false
   },
   "outputs": [],
   "source": [
    "80**2*1*3\n"
   ]
  },
  {
   "cell_type": "code",
   "execution_count": null,
   "metadata": {
    "collapsed": true
   },
   "outputs": [],
   "source": []
  }
 ],
 "metadata": {
  "anaconda-cloud": {},
  "kernelspec": {
   "display_name": "Python [default]",
   "language": "python",
   "name": "python3"
  },
  "language_info": {
   "codemirror_mode": {
    "name": "ipython",
    "version": 3
   },
   "file_extension": ".py",
   "mimetype": "text/x-python",
   "name": "python",
   "nbconvert_exporter": "python",
   "pygments_lexer": "ipython3",
   "version": "3.5.2"
  }
 },
 "nbformat": 4,
 "nbformat_minor": 0
}
