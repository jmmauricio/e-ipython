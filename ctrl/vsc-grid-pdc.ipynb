{
 "cells": [
  {
   "cell_type": "code",
   "execution_count": 1,
   "metadata": {
    "collapsed": false,
    "slideshow": {
     "slide_type": "slide"
    }
   },
   "outputs": [],
   "source": [
    "import numpy as np\n",
    "import scipy.signal as sps\n",
    "import sympy as sym \n",
    "import scipy.optimize as sopt\n",
    "%matplotlib inline   \n",
    "import matplotlib.pyplot as plt"
   ]
  },
  {
   "cell_type": "code",
   "execution_count": 3,
   "metadata": {
    "collapsed": false
   },
   "outputs": [],
   "source": [
    "eta_1_d,eta_1_q = sym.symbols('eta_1_d,eta_1_q')\n",
    "i_1_d,i_1_q,v_1_dc,i_1_dc = sym.symbols('i_1_d,i_1_q,v_1_dc,i_1_dc')\n",
    "v_1_sd,v_1_sq = sym.symbols('v_1_sd,v_1_sq')\n",
    "L_1,R_1,C_1,omega_1 = sym.symbols('L_1,R_1,C_1,omega_1')\n",
    "\n",
    "R_dc = sym.symbols('R_dc')\n",
    "\n",
    "v_th_d,v_th_q = sym.symbols('v_th_d,v_th_q')\n",
    "R_th,L_th = sym.symbols('R_th,L_th')\n",
    "R_12,L_12 = sym.symbols('R_12,L_12')\n",
    "\n",
    "p_1,q_1 = sym.symbols('p_1,q_1')"
   ]
  },
  {
   "cell_type": "code",
   "execution_count": 4,
   "metadata": {
    "collapsed": false
   },
   "outputs": [
    {
     "ename": "NameError",
     "evalue": "name 'i_2_d' is not defined",
     "output_type": "error",
     "traceback": [
      "\u001b[1;31m---------------------------------------------------------------------------\u001b[0m",
      "\u001b[1;31mNameError\u001b[0m                                 Traceback (most recent call last)",
      "\u001b[1;32m<ipython-input-4-0ee4ebd37256>\u001b[0m in \u001b[0;36m<module>\u001b[1;34m()\u001b[0m\n\u001b[1;32m----> 1\u001b[1;33m \u001b[0mv_1_sd\u001b[0m \u001b[1;33m=\u001b[0m \u001b[0mR_th\u001b[0m\u001b[1;33m*\u001b[0m\u001b[1;33m(\u001b[0m\u001b[0mi_1_d\u001b[0m  \u001b[1;33m+\u001b[0m \u001b[0mi_2_d\u001b[0m\u001b[1;33m)\u001b[0m \u001b[1;33m+\u001b[0m \u001b[0mv_th_d\u001b[0m\u001b[1;33m\u001b[0m\u001b[0m\n\u001b[0m\u001b[0;32m      2\u001b[0m \u001b[0mv_1_sq\u001b[0m \u001b[1;33m=\u001b[0m \u001b[0mR_th\u001b[0m\u001b[1;33m*\u001b[0m\u001b[1;33m(\u001b[0m\u001b[0mi_1_q\u001b[0m  \u001b[1;33m+\u001b[0m \u001b[0mi_2_q\u001b[0m\u001b[1;33m)\u001b[0m \u001b[1;33m+\u001b[0m \u001b[0mv_th_q\u001b[0m\u001b[1;33m\u001b[0m\u001b[0m\n\u001b[0;32m      3\u001b[0m \u001b[1;33m\u001b[0m\u001b[0m\n\u001b[0;32m      4\u001b[0m \u001b[0mdi_1_d\u001b[0m  \u001b[1;33m=\u001b[0m \u001b[1;36m1\u001b[0m\u001b[1;33m/\u001b[0m\u001b[0mL_1\u001b[0m\u001b[1;33m*\u001b[0m\u001b[1;33m(\u001b[0m\u001b[0meta_1_d\u001b[0m\u001b[1;33m*\u001b[0m\u001b[0mv_1_dc\u001b[0m\u001b[1;33m/\u001b[0m\u001b[1;36m2\u001b[0m \u001b[1;33m-\u001b[0m \u001b[0mR_1\u001b[0m\u001b[1;33m*\u001b[0m\u001b[0mi_1_d\u001b[0m \u001b[1;33m-\u001b[0m \u001b[0mL_1\u001b[0m\u001b[1;33m*\u001b[0m\u001b[0momega_1\u001b[0m\u001b[1;33m*\u001b[0m\u001b[0mi_1_q\u001b[0m \u001b[1;33m-\u001b[0m \u001b[0mv_1_sd\u001b[0m\u001b[1;33m)\u001b[0m\u001b[1;33m\u001b[0m\u001b[0m\n\u001b[0;32m      5\u001b[0m \u001b[0mdi_1_q\u001b[0m  \u001b[1;33m=\u001b[0m \u001b[1;36m1\u001b[0m\u001b[1;33m/\u001b[0m\u001b[0mL_1\u001b[0m\u001b[1;33m*\u001b[0m\u001b[1;33m(\u001b[0m\u001b[0meta_1_q\u001b[0m\u001b[1;33m*\u001b[0m\u001b[0mv_1_dc\u001b[0m\u001b[1;33m/\u001b[0m\u001b[1;36m2\u001b[0m \u001b[1;33m-\u001b[0m \u001b[0mR_1\u001b[0m\u001b[1;33m*\u001b[0m\u001b[0mi_1_q\u001b[0m \u001b[1;33m+\u001b[0m \u001b[0mL_1\u001b[0m\u001b[1;33m*\u001b[0m\u001b[0momega_1\u001b[0m\u001b[1;33m*\u001b[0m\u001b[0mi_1_d\u001b[0m \u001b[1;33m-\u001b[0m \u001b[0mv_1_sq\u001b[0m\u001b[1;33m)\u001b[0m\u001b[1;33m\u001b[0m\u001b[0m\n",
      "\u001b[1;31mNameError\u001b[0m: name 'i_2_d' is not defined"
     ]
    }
   ],
   "source": [
    "v_1_sd = R_th*(i_1_d  + i_2_d) + v_th_d\n",
    "v_1_sq = R_th*(i_1_q  + i_2_q) + v_th_q\n",
    "\n",
    "di_1_d  = 1/L_1*(eta_1_d*v_1_dc/2 - R_1*i_1_d - L_1*omega_1*i_1_q - v_1_sd)\n",
    "di_1_q  = 1/L_1*(eta_1_q*v_1_dc/2 - R_1*i_1_q + L_1*omega_1*i_1_d - v_1_sq)\n",
    "\n",
    "i_dc = (v_1_dc -v_2_dc)/R_dc\n",
    "\n",
    "# p_dc = p_ac = 3/2*(eta_d*v_dc/2*i_d + eta_q*v_dc/2*i_q)\n",
    "# i_cap = i_dc - p_dc/v_dc\n",
    "# i_dc - 3/4*(eta_d*i_d + eta_q*i_q)\n",
    "dv_1_dc = 1/C_1*(-i_dc - 3/4*(eta_1_d*i_1_d + eta_1_q*i_1_q ))\n",
    "\n",
    "v_2_sd = R_12*(i_2_d) + v_1_sd\n",
    "v_2_sq = R_12*(i_2_q) + v_1_sq\n",
    "\n",
    "di_2_d  = 1/L_2*(eta_2_d*v_2_dc/2 - R_2*i_2_d - L_2*omega_2*i_2_q - v_2_sd)\n",
    "di_2_q  = 1/L_2*(eta_2_q*v_2_dc/2 - R_2*i_2_q + L_2*omega_2*i_2_d - v_2_sq)\n",
    "\n",
    "# p_dc = p_ac = 3/2*(eta_d*v_dc/2*i_d + eta_q*v_dc/2*i_q)\n",
    "# i_cap = i_dc - p_dc/v_dc\n",
    "# i_dc - 3/4*(eta_d*i_d + eta_q*i_q)\n",
    "dv_2_dc = 1/C_2*( i_dc - 3/4*(eta_2_d*i_2_d + eta_2_q*i_2_q ))\n",
    "\n",
    "\n",
    "f = sym.Matrix([[di_1_d],[di_1_q],[dv_1_dc], [di_2_d],[di_2_q],[dv_2_dc]])\n",
    "x = sym.Matrix([[i_1_d],[i_1_q],[v_1_dc],[i_2_d],[i_2_q],[v_2_dc]])\n",
    "\n",
    "F_x = f.jacobian(x)\n",
    "\n",
    "F_x"
   ]
  },
  {
   "cell_type": "markdown",
   "metadata": {},
   "source": [
    "## $\\sf i_d$-$\\sf i_q$ mode"
   ]
  },
  {
   "cell_type": "code",
   "execution_count": null,
   "metadata": {
    "collapsed": false
   },
   "outputs": [],
   "source": [
    "params = {'v_th_q':np.sqrt(2./3)*400.0,\n",
    "          'v_th_d':0.0,\n",
    "          'R_th':0.001,\n",
    "          'R_dc':0.02,\n",
    "          'R_12':0.001}\n",
    "\n",
    "params_1 = {'L_1':2.5e-3,\n",
    "            'R_1':1,\n",
    "            'C_1':2000.0e-6,\n",
    "            'omega_1':2.0*np.pi*50,\n",
    "            'i_1_d':0.0,\n",
    "            'v_1_dc':800.0\n",
    "           }\n",
    "\n",
    "params.update(params_1)\n",
    "\n",
    "i_2_q_N = -20.0\n",
    "params_2 = {'L_2':2.5e-3,\n",
    "            'R_2':1.0,\n",
    "            'C_2':2000.0e-6,\n",
    "            'omega_2':2.0*np.pi*50,\n",
    "            'i_2_d':5.0,\n",
    "            'i_2_q':i_2_q_N,\n",
    "           }\n",
    "\n",
    "params.update(params_2)\n",
    "\n",
    "f_ss_sym = f.subs(params)\n",
    "sym.pretty_print(f_ss_sym)\n",
    "\n",
    "#u = sym.Matrix([i_1_q,eta_1_d,eta_1_q,v_1_sd,v_1_sq,eta_2_d,eta_2_q,v_2_sd,v_2_sq,v_2_dc])\n",
    "u = sym.Matrix([eta_1_d,eta_1_q,i_1_q,eta_2_d,eta_2_q,v_2_dc])\n",
    "\n",
    "f_ss = sym.lambdify(u, f_ss_sym,'numpy') # returns a numpy-ready function\n",
    "\n",
    "def eqs_ss(x):\n",
    "    \n",
    "    eta_1_d,eta_1_q,i_1_q  = x[0],x[1],x[2]\n",
    "    eta_2_d,eta_2_q,v_2_dc = x[3],x[4],x[5]\n",
    "\n",
    "    \n",
    "    return f_ss(eta_1_d,eta_1_q,i_1_q,eta_2_d,eta_2_q,v_2_dc )\n",
    "\n",
    "sol = sopt.anderson(eqs_ss, [0.7,0,-i_2_q_N,0,0,890], f_tol=1e-6, iter = 5000)\n",
    "\n",
    "print(sol)\n",
    "print('eta_1_d = {:2.3f}, eta_1_q = {:2.3f}'.format(sol[0],sol[1]))\n",
    "print('eta_2_d = {:2.3f}, eta_2_q = {:2.3f}'.format(sol[3],sol[4]))\n",
    "\n",
    "params_s = {'eta_1_d':sol[0],\n",
    "            'eta_1_q':sol[1],\n",
    "            'i_1_q':sol[2],\n",
    "            'eta_2_d':sol[3],\n",
    "            'eta_2_q':sol[4],\n",
    "            'v_2_dc':sol[5],\n",
    "           }\n",
    "\n",
    "params.update(params_s)\n",
    "\n",
    "print(params_s)\n",
    "\n",
    "i_dc = (v_1_dc -v_2_dc)/R_dc\n",
    "\n",
    "sym.pretty_print(i_dc.subs(params))"
   ]
  },
  {
   "cell_type": "markdown",
   "metadata": {},
   "source": [
    "## $\\sf p$-$\\sf q$ mode"
   ]
  },
  {
   "cell_type": "code",
   "execution_count": null,
   "metadata": {
    "collapsed": false
   },
   "outputs": [],
   "source": [
    "v_1_dc_N = 900\n",
    "p_2_N = 10.0e3\n",
    "\n",
    "R_dc_N = 0.001\n",
    "\n",
    "params = {'v_th_q':np.sqrt(2./3)*400.0,\n",
    "          'v_th_d':0.0,\n",
    "          'R_th':0.001,\n",
    "          'R_dc':R_dc_N,\n",
    "          'R_12':0.001}\n",
    "\n",
    "\n",
    "\n",
    "params_1 = {'L_1':2.5e-3,\n",
    "            'R_1':0.5,\n",
    "            'C_1':2000.0e-6,\n",
    "            'omega_1':2.0*np.pi*50,\n",
    "            'q_1':0.0e3,\n",
    "            'v_1_dc':v_1_dc_N\n",
    "           }\n",
    "\n",
    "params.update(params_1)\n",
    "\n",
    "\n",
    "params_2 = {'L_2':2.5e-3,\n",
    "            'R_2':0.5,\n",
    "            'C_2':2000.0e-6,\n",
    "            'omega_2':2.0*np.pi*50,\n",
    "            'p_2':p_2_N,\n",
    "            'q_2':0.0,\n",
    "           }\n",
    "\n",
    "g_1_p = 3/2*(i_1_d*v_1_sd + i_1_q*v_1_sq ) - p_1\n",
    "g_1_q = 3/2*(i_1_q*v_1_sd - i_1_d*v_1_sq ) - q_1\n",
    "g_2_p = 3/2*(i_2_d*v_2_sd + i_2_q*v_2_sq ) - p_2\n",
    "g_2_q = 3/2*(i_2_q*v_2_sd - i_2_d*v_2_sq ) - q_2\n",
    "\n",
    "\n",
    "g = sym.Matrix([[g_1_p],[g_1_q],[g_2_p], [g_2_q]])\n",
    "y = sym.Matrix([[p_1],[q_1],[p_2],[q_2]])\n",
    "\n",
    "\n",
    "params.update(params_2)\n",
    "\n",
    "\n",
    "fg = f.row_insert(6,g)\n",
    "fg_ss_sym = fg.subs(params)\n",
    "#sym.pretty_print(fg_ss_sym)\n",
    "\n",
    "#u = sym.Matrix([i_1_q,eta_1_d,eta_1_q,v_1_sd,v_1_sq,eta_2_d,eta_2_q,v_2_sd,v_2_sq,v_2_dc])\n",
    "u = sym.Matrix([eta_1_d,eta_1_q,i_1_d,i_1_q,p_1,eta_2_d,eta_2_q,i_2_d,i_2_q,v_2_dc])\n",
    "\n",
    "fg_ss = sym.lambdify(u, fg_ss_sym,'numpy') # returns a numpy-ready function\n",
    "\n",
    "def eqs_ss(x):\n",
    "    \n",
    "    eta_1_d,eta_1_q,i_1_d,i_1_q,p_1  = x[0],x[1],x[2],x[3],x[4]\n",
    "    eta_2_d,eta_2_q,i_2_d,i_2_q,v_2_dc = x[5],x[6],x[7],x[8],x[9]\n",
    "\n",
    "    \n",
    "    return fg_ss(eta_1_d,eta_1_q,i_1_d,i_1_q,p_1,eta_2_d,eta_2_q,i_2_d,i_2_q,v_2_dc).reshape(10,)\n",
    "\n",
    "\n",
    "v_2_dc_0 = v_1_dc_N - p_2_N/v_1_dc_N*R_dc_N\n",
    "\n",
    "sol_obj = sopt.root(eqs_ss, [0.0,0.72,0.0,-p_2_N/325*2/3,-p_2_N,0.0,0.72,0.0,p_2_N/325*2/3,v_2_dc_0],method='hybr')\n",
    "\n",
    "print(sol_obj.success)\n",
    "sol = sol_obj.x\n",
    "\n",
    "params_s = {'eta_1_d':sol[0],\n",
    "            'eta_1_q':sol[1],\n",
    "            'i_1_d':sol[2],\n",
    "            'i_1_q':sol[3],\n",
    "            'p_1':sol[4],\n",
    "            'eta_2_d':sol[5],\n",
    "            'eta_2_q':sol[6],\n",
    "            'i_2_d':sol[7],\n",
    "            'i_2_q':sol[8],            \n",
    "            'v_2_dc':sol[9],\n",
    "           }\n",
    "\n",
    "params.update(params_s)\n",
    "\n",
    "print(params_s)\n",
    "\n",
    "i_dc = (v_1_dc -v_2_dc)/R_dc\n",
    "\n",
    "sym.pretty_print(i_dc.subs(params))"
   ]
  },
  {
   "cell_type": "code",
   "execution_count": null,
   "metadata": {
    "collapsed": false
   },
   "outputs": [],
   "source": [
    "sol.x"
   ]
  },
  {
   "cell_type": "markdown",
   "metadata": {},
   "source": [
    "## $\\sf i_d$-$\\sf v_{dc}$ mode"
   ]
  },
  {
   "cell_type": "code",
   "execution_count": null,
   "metadata": {
    "collapsed": false
   },
   "outputs": [],
   "source": [
    "%matplotlib inline   \n",
    "import matplotlib.pyplot as plt\n",
    "\n",
    "fig_bodes = plt.figure(figsize=(10,8))\n",
    "\n",
    "ax_rlocus     = fig_bodes.add_subplot(1,1,1)\n",
    "\n",
    "ax_rlocus.plot(eig.real,eig.imag, 'o')\n",
    "\n",
    "ax_rlocus.grid(True)\n",
    "\n",
    "plt.show()"
   ]
  },
  {
   "cell_type": "code",
   "execution_count": null,
   "metadata": {
    "collapsed": false
   },
   "outputs": [],
   "source": [
    "G = sps.ss2tf(A,B,C,D)\n",
    "G"
   ]
  },
  {
   "cell_type": "code",
   "execution_count": null,
   "metadata": {
    "collapsed": false
   },
   "outputs": [],
   "source": [
    "H_x"
   ]
  },
  {
   "cell_type": "code",
   "execution_count": null,
   "metadata": {
    "collapsed": false
   },
   "outputs": [],
   "source": [
    "np.linalg.eig(A)"
   ]
  },
  {
   "cell_type": "code",
   "execution_count": null,
   "metadata": {
    "collapsed": false
   },
   "outputs": [],
   "source": [
    "C"
   ]
  },
  {
   "cell_type": "code",
   "execution_count": null,
   "metadata": {
    "collapsed": false
   },
   "outputs": [],
   "source": [
    "from sympy.utilities.codegen import codegen\n",
    "\n"
   ]
  },
  {
   "cell_type": "code",
   "execution_count": null,
   "metadata": {
    "collapsed": false
   },
   "outputs": [],
   "source": [
    "codegen((\"f\", f),'c')"
   ]
  },
  {
   "cell_type": "code",
   "execution_count": null,
   "metadata": {
    "collapsed": false
   },
   "outputs": [],
   "source": [
    "f"
   ]
  },
  {
   "cell_type": "code",
   "execution_count": null,
   "metadata": {
    "collapsed": true
   },
   "outputs": [],
   "source": []
  },
  {
   "cell_type": "code",
   "execution_count": null,
   "metadata": {
    "collapsed": false
   },
   "outputs": [],
   "source": []
  },
  {
   "cell_type": "code",
   "execution_count": null,
   "metadata": {
    "collapsed": false
   },
   "outputs": [],
   "source": [
    "L = params_1['L_1']\n",
    "C = params_1['C_1']\n",
    "Vs = 400.0\n",
    "Ps0 = 100e3\n",
    "tau = 2*L*Ps0/(3*Vs**2)\n",
    "Gv = sps.lti([tau,1],[-C/2*1, 0])\n",
    "tv,yv = sps.step(Gv)\n",
    "Gint = sps.lti([-2/C],[1, 0])\n",
    "ti,yi = sps.step(Gint)\n",
    "\n",
    "fig = plt.figure(figsize=(10,8))\n",
    "ax= fig.add_subplot(1,1,1)\n",
    "#ax.plot(ti,yi)\n",
    "#ax.plot(tv,yv)\n",
    "ax.plot(ti,yi-yv)\n",
    "\n",
    "\n",
    "ax.grid(True)\n",
    "\n",
    "plt.show()\n"
   ]
  },
  {
   "cell_type": "code",
   "execution_count": null,
   "metadata": {
    "collapsed": false
   },
   "outputs": [],
   "source": [
    "tau"
   ]
  },
  {
   "cell_type": "code",
   "execution_count": null,
   "metadata": {
    "collapsed": true
   },
   "outputs": [],
   "source": []
  },
  {
   "cell_type": "code",
   "execution_count": null,
   "metadata": {
    "collapsed": true
   },
   "outputs": [],
   "source": []
  },
  {
   "cell_type": "code",
   "execution_count": null,
   "metadata": {
    "collapsed": true
   },
   "outputs": [],
   "source": []
  },
  {
   "cell_type": "code",
   "execution_count": null,
   "metadata": {
    "collapsed": true
   },
   "outputs": [],
   "source": []
  },
  {
   "cell_type": "code",
   "execution_count": null,
   "metadata": {
    "collapsed": true
   },
   "outputs": [],
   "source": []
  },
  {
   "cell_type": "code",
   "execution_count": null,
   "metadata": {
    "collapsed": true
   },
   "outputs": [],
   "source": []
  },
  {
   "cell_type": "code",
   "execution_count": null,
   "metadata": {
    "collapsed": true
   },
   "outputs": [],
   "source": []
  }
 ],
 "metadata": {
  "anaconda-cloud": {},
  "kernelspec": {
   "display_name": "Python 3",
   "language": "python",
   "name": "python3"
  },
  "language_info": {
   "codemirror_mode": {
    "name": "ipython",
    "version": 3
   },
   "file_extension": ".py",
   "mimetype": "text/x-python",
   "name": "python",
   "nbconvert_exporter": "python",
   "pygments_lexer": "ipython3",
   "version": "3.5.2"
  }
 },
 "nbformat": 4,
 "nbformat_minor": 0
}
