{
 "cells": [
  {
   "cell_type": "code",
   "execution_count": 19,
   "metadata": {
    "collapsed": false,
    "slideshow": {
     "slide_type": "slide"
    }
   },
   "outputs": [],
   "source": [
    "import numpy as np\n",
    "import scipy.signal as sps\n",
    "import sympy as sym \n",
    "import scipy.optimize as sopt\n",
    "%matplotlib inline   \n",
    "import matplotlib.pyplot as plt\n",
    "from sympy.utilities.lambdify import lambdify"
   ]
  },
  {
   "cell_type": "markdown",
   "metadata": {},
   "source": [
    "## Without control\n",
    "$$ \\frac{di_d}{dt}  = \\frac{1}{L} \\left(\\eta_d \\frac{v_{dc}}{2} - R i_d + L \\omega i_q - v_{sd}\\right) $$\n",
    "$$ \\frac{di_q}{dt}  = \\frac{1}{L} \\left(\\eta_q \\frac{v_{dc}}{2} - R i_q - L \\omega i_d - v_{sq}\\right) $$\n",
    "$$ \\frac{dv_{dc}}{dt} = \\frac{1}{C} \\left( i_{dc} -  \\frac{3}{4} \\left( \\eta_d i_d + \\eta_q i_q \\right) \\right) $$\n"
   ]
  },
  {
   "cell_type": "code",
   "execution_count": 20,
   "metadata": {
    "collapsed": false
   },
   "outputs": [],
   "source": [
    "eta_d,eta_q = sym.symbols('eta_d,eta_q')\n",
    "i_d,i_q,v_dc,i_dc = sym.symbols('i_d,i_q,v_dc,i_dc')\n",
    "i_d_ref,i_q_ref,v_dc_ref = sym.symbols('i_d_ref,i_q_ref,v_dc_ref')\n",
    "v_sd,v_sq = sym.symbols('v_sd,v_sq')\n",
    "L,R,C,omega = sym.symbols('L,R,C,omega')\n",
    "u_d,u_q = sym.symbols('u_d,u_q')\n",
    "p_ext,i_ext = sym.symbols('p_ext,i_ext')\n",
    "K_p,T_pi,K_p_v,T_pi_v = sym.symbols('K_p,T_pi,K_p_v,T_pi_v') \n",
    "p_ref,q_ref = sym.symbols('p_ref,q_ref')\n",
    "xi_d,xi_q,xi_v_dc = sym.symbols('xi_d,xi_q,xi_v_dc')\n"
   ]
  },
  {
   "cell_type": "code",
   "execution_count": 34,
   "metadata": {
    "collapsed": false
   },
   "outputs": [
    {
     "data": {
      "text/plain": [
       "Matrix([\n",
       "[                                                                                                                                                                                            (-1000.0*L - R)/L,                                                                                                                                                                                                           0,                                                                                                                                                                                                                                                                                                                                                                                                                        6666.66666666667*v_sd/(v_sd**2 + v_sq**2),               -1000.0,                     0, 0],\n",
       "[                                                                                                                                                                                                            0,                                                                                                                                                                                           (-1000.0*L - R)/L,                                                                                                                                                                                                                                                                                                                                                                                                                        6666.66666666667*v_sq/(v_sd**2 + v_sq**2),                     0,               -1000.0, 0],\n",
       "[(1500.0*L*i_d/v_dc - 1.5*L*i_q*omega/v_dc - 1.5*(-L*i_q*omega + 1000.0*L*(-i_d - xi_d + (-0.666666666666667*q_ref*v_sq + 0.666666666666667*v_sd*(10*v_dc - 10*v_dc_ref))/(v_sd**2 + v_sq**2)) + v_sd)/v_dc)/C, (1.5*L*i_d*omega/v_dc + 1500.0*L*i_q/v_dc - 1.5*(L*i_d*omega + 1000.0*L*(-i_q - xi_q + (0.666666666666667*q_ref*v_sd + 0.666666666666667*v_sq*(10*v_dc - 10*v_dc_ref))/(v_sd**2 + v_sq**2)) - v_sq)/v_dc)/C, (-10000.0*L*i_d*v_sd/(v_dc*(v_sd**2 + v_sq**2)) - 10000.0*L*i_q*v_sq/(v_dc*(v_sd**2 + v_sq**2)) + 1.5*i_d*(-L*i_q*omega + 1000.0*L*(-i_d - xi_d + (-0.666666666666667*q_ref*v_sq + 0.666666666666667*v_sd*(10*v_dc - 10*v_dc_ref))/(v_sd**2 + v_sq**2)) + v_sd)/v_dc**2 + 1.5*i_q*(L*i_d*omega + 1000.0*L*(-i_q - xi_q + (0.666666666666667*q_ref*v_sd + 0.666666666666667*v_sq*(10*v_dc - 10*v_dc_ref))/(v_sd**2 + v_sq**2)) - v_sq)/v_dc**2 - p_ext/v_dc**2)/C, 1500.0*L*i_d/(C*v_dc), 1500.0*L*i_q/(C*v_dc), 0],\n",
       "[                                                                                                                                                                                                           -1,                                                                                                                                                                                                           0,                                                                                                                                                                                                                                                                                                                                                                                                                        6.66666666666667*v_sd/(v_sd**2 + v_sq**2),                     0,                     0, 0],\n",
       "[                                                                                                                                                                                                            0,                                                                                                                                                                                                          -1,                                                                                                                                                                                                                                                                                                                                                                                                                        6.66666666666667*v_sq/(v_sd**2 + v_sq**2),                     0,                     0, 0],\n",
       "[                                                                                                                                                                                                            0,                                                                                                                                                                                                           0,                                                                                                                                                                                                                                                                                                                                                                                                                                                               -1,                     0,                     0, 0]])"
      ]
     },
     "execution_count": 34,
     "metadata": {},
     "output_type": "execute_result"
    }
   ],
   "source": [
    "K_p = L/0.001\n",
    "T_pi = L/R\n",
    "\n",
    "K_p_v = 10\n",
    "\n",
    "error_v_dc = v_dc_ref - v_dc\n",
    "\n",
    "p_ref = - K_p_v * (error_v_dc )\n",
    "\n",
    "i_q_ref = 2.0/3.0*(p_ref*v_sq + q_ref*v_sd)/(v_sd**2 + v_sq**2)\n",
    "i_d_ref = 2.0/3.0*(p_ref*v_sd - q_ref*v_sq)/(v_sd**2 + v_sq**2)\n",
    "\n",
    "error_d = i_d_ref - i_d\n",
    "error_q = i_q_ref - i_q\n",
    "\n",
    "u_d = K_p * (error_d - xi_d)\n",
    "u_q = K_p * (error_q - xi_q)\n",
    "\n",
    "i_ext = p_ext/v_dc\n",
    "\n",
    "eta_d = 2.0/v_dc * (u_d - L*omega*i_q + v_sd)\n",
    "eta_q = 2.0/v_dc * (u_q + L*omega*i_d - v_sq)\n",
    "\n",
    "di_d  = 1/L*(eta_d*v_dc/2 - R*i_d + L*omega*i_q - v_sd)\n",
    "di_q  = 1/L*(eta_q*v_dc/2 - R*i_q - L*omega*i_d - v_sq)\n",
    "dv_dc = 1/C*(i_ext - 3/4*(eta_d*i_d + eta_q*i_q ))\n",
    "dxi_d  = error_d\n",
    "dxi_q  = error_q\n",
    "dxi_vdc  = error_v_dc\n",
    "\n",
    "f = sym.Matrix([[di_d],[di_q],[dv_dc],[dxi_d],[dxi_q],[dxi_vdc]])\n",
    "x = sym.Matrix([[i_d],[i_q],[v_dc],[xi_d],[xi_q],[xi_v_dc]])\n",
    "\n",
    "F_x = f.jacobian(x)\n",
    "\n",
    "F_x"
   ]
  },
  {
   "cell_type": "code",
   "execution_count": null,
   "metadata": {
    "collapsed": false
   },
   "outputs": [],
   "source": []
  },
  {
   "cell_type": "code",
   "execution_count": 28,
   "metadata": {
    "collapsed": false
   },
   "outputs": [
    {
     "ename": "TypeError",
     "evalue": "<lambda>() missing 3 required positional arguments: '_Dummy_34', '_Dummy_35', and '_Dummy_36'",
     "output_type": "error",
     "traceback": [
      "\u001b[1;31m---------------------------------------------------------------------------\u001b[0m",
      "\u001b[1;31mTypeError\u001b[0m                                 Traceback (most recent call last)",
      "\u001b[1;32m<ipython-input-28-53ec00657701>\u001b[0m in \u001b[0;36m<module>\u001b[1;34m()\u001b[0m\n\u001b[0;32m      5\u001b[0m \u001b[0mfunc\u001b[0m \u001b[1;33m=\u001b[0m \u001b[0mlambdify\u001b[0m\u001b[1;33m(\u001b[0m\u001b[0mx\u001b[0m\u001b[1;33m,\u001b[0m \u001b[0mf\u001b[0m\u001b[1;33m,\u001b[0m\u001b[1;34m'numpy'\u001b[0m\u001b[1;33m)\u001b[0m \u001b[1;31m# returns a numpy-ready function\u001b[0m\u001b[1;33m\u001b[0m\u001b[0m\n\u001b[0;32m      6\u001b[0m \u001b[1;33m\u001b[0m\u001b[0m\n\u001b[1;32m----> 7\u001b[1;33m \u001b[0mprint\u001b[0m\u001b[1;33m(\u001b[0m\u001b[0mfunc\u001b[0m\u001b[1;33m(\u001b[0m\u001b[1;36m1\u001b[0m\u001b[1;33m,\u001b[0m\u001b[1;36m2\u001b[0m\u001b[1;33m,\u001b[0m\u001b[1;36m3\u001b[0m\u001b[1;33m)\u001b[0m\u001b[1;33m)\u001b[0m\u001b[1;33m\u001b[0m\u001b[0m\n\u001b[0m",
      "\u001b[1;31mTypeError\u001b[0m: <lambda>() missing 3 required positional arguments: '_Dummy_34', '_Dummy_35', and '_Dummy_36'"
     ]
    }
   ],
   "source": [
    "\n",
    "from sympy.utilities.lambdify import lambdify\n",
    "\n",
    "\n",
    "func = lambdify(x, f,'numpy') # returns a numpy-ready function\n",
    "\n",
    "print(func(1,2,3))"
   ]
  },
  {
   "cell_type": "markdown",
   "metadata": {},
   "source": [
    "## $\\sf i_d$-$\\sf i_q$ mode"
   ]
  },
  {
   "cell_type": "code",
   "execution_count": 35,
   "metadata": {
    "collapsed": false
   },
   "outputs": [
    {
     "ename": "NoConvergence",
     "evalue": "[  0.00000000e+000   7.78347718e+002   7.95995446e+004   0.00000000e+000\n  -2.44532867e+003   3.01819877e+155]",
     "output_type": "error",
     "traceback": [
      "\u001b[1;31m---------------------------------------------------------------------------\u001b[0m",
      "\u001b[1;31mNoConvergence\u001b[0m                             Traceback (most recent call last)",
      "\u001b[1;32m<ipython-input-35-a6c2b872bc67>\u001b[0m in \u001b[0;36m<module>\u001b[1;34m()\u001b[0m\n\u001b[0;32m     27\u001b[0m     \u001b[1;32mreturn\u001b[0m \u001b[0mf_ss\u001b[0m\u001b[1;33m(\u001b[0m\u001b[0mi_d\u001b[0m\u001b[1;33m,\u001b[0m \u001b[0mi_q\u001b[0m\u001b[1;33m,\u001b[0m\u001b[0mv_dc\u001b[0m\u001b[1;33m,\u001b[0m\u001b[0mxi_d\u001b[0m\u001b[1;33m,\u001b[0m\u001b[0mxi_q\u001b[0m\u001b[1;33m,\u001b[0m\u001b[0mxi_v_dc\u001b[0m \u001b[1;33m)\u001b[0m\u001b[1;33m\u001b[0m\u001b[0m\n\u001b[0;32m     28\u001b[0m \u001b[1;33m\u001b[0m\u001b[0m\n\u001b[1;32m---> 29\u001b[1;33m \u001b[0msol\u001b[0m \u001b[1;33m=\u001b[0m \u001b[0msopt\u001b[0m\u001b[1;33m.\u001b[0m\u001b[0mbroyden1\u001b[0m\u001b[1;33m(\u001b[0m\u001b[0meqs_ss\u001b[0m\u001b[1;33m,\u001b[0m \u001b[1;33m[\u001b[0m\u001b[1;36m0\u001b[0m\u001b[1;33m,\u001b[0m\u001b[1;36m100\u001b[0m\u001b[1;33m,\u001b[0m\u001b[1;36m800\u001b[0m\u001b[1;33m,\u001b[0m\u001b[1;36m0\u001b[0m\u001b[1;33m,\u001b[0m\u001b[1;36m0\u001b[0m\u001b[1;33m,\u001b[0m\u001b[1;36m0\u001b[0m\u001b[1;33m]\u001b[0m\u001b[1;33m,\u001b[0m \u001b[0mf_tol\u001b[0m\u001b[1;33m=\u001b[0m\u001b[1;36m1e-4\u001b[0m\u001b[1;33m)\u001b[0m\u001b[1;33m\u001b[0m\u001b[0m\n\u001b[0m\u001b[0;32m     30\u001b[0m \u001b[1;33m\u001b[0m\u001b[0m\n\u001b[0;32m     31\u001b[0m \u001b[0mprint\u001b[0m\u001b[1;33m(\u001b[0m\u001b[1;34m'i_d = {:2.3f}, i_q = {:2.3f}'\u001b[0m\u001b[1;33m.\u001b[0m\u001b[0mformat\u001b[0m\u001b[1;33m(\u001b[0m\u001b[0msol\u001b[0m\u001b[1;33m[\u001b[0m\u001b[1;36m0\u001b[0m\u001b[1;33m]\u001b[0m\u001b[1;33m,\u001b[0m\u001b[0msol\u001b[0m\u001b[1;33m[\u001b[0m\u001b[1;36m1\u001b[0m\u001b[1;33m]\u001b[0m\u001b[1;33m)\u001b[0m\u001b[1;33m)\u001b[0m\u001b[1;33m\u001b[0m\u001b[0m\n",
      "\u001b[1;32m/home/jmmauricio/anaconda3/lib/python3.5/site-packages/scipy/optimize/nonlin.py\u001b[0m in \u001b[0;36mbroyden1\u001b[1;34m(F, xin, iter, alpha, reduction_method, max_rank, verbose, maxiter, f_tol, f_rtol, x_tol, x_rtol, tol_norm, line_search, callback, **kw)\u001b[0m\n",
      "\u001b[1;32m/home/jmmauricio/anaconda3/lib/python3.5/site-packages/scipy/optimize/nonlin.py\u001b[0m in \u001b[0;36mnonlin_solve\u001b[1;34m(F, x0, jacobian, iter, verbose, maxiter, f_tol, f_rtol, x_tol, x_rtol, tol_norm, line_search, callback, full_output, raise_exception)\u001b[0m\n\u001b[0;32m    345\u001b[0m     \u001b[1;32melse\u001b[0m\u001b[1;33m:\u001b[0m\u001b[1;33m\u001b[0m\u001b[0m\n\u001b[0;32m    346\u001b[0m         \u001b[1;32mif\u001b[0m \u001b[0mraise_exception\u001b[0m\u001b[1;33m:\u001b[0m\u001b[1;33m\u001b[0m\u001b[0m\n\u001b[1;32m--> 347\u001b[1;33m             \u001b[1;32mraise\u001b[0m \u001b[0mNoConvergence\u001b[0m\u001b[1;33m(\u001b[0m\u001b[0m_array_like\u001b[0m\u001b[1;33m(\u001b[0m\u001b[0mx\u001b[0m\u001b[1;33m,\u001b[0m \u001b[0mx0\u001b[0m\u001b[1;33m)\u001b[0m\u001b[1;33m)\u001b[0m\u001b[1;33m\u001b[0m\u001b[0m\n\u001b[0m\u001b[0;32m    348\u001b[0m         \u001b[1;32melse\u001b[0m\u001b[1;33m:\u001b[0m\u001b[1;33m\u001b[0m\u001b[0m\n\u001b[0;32m    349\u001b[0m             \u001b[0mstatus\u001b[0m \u001b[1;33m=\u001b[0m \u001b[1;36m2\u001b[0m\u001b[1;33m\u001b[0m\u001b[0m\n",
      "\u001b[1;31mNoConvergence\u001b[0m: [  0.00000000e+000   7.78347718e+002   7.95995446e+004   0.00000000e+000\n  -2.44532867e+003   3.01819877e+155]"
     ]
    }
   ],
   "source": [
    "params = {'L':2.5e-3,\n",
    "          'R':1.0,\n",
    "          'C':2000.0e-6,\n",
    "          'omega':2.0*np.pi*50,\n",
    "          'v_sq':-np.sqrt(2./3)*400.0,\n",
    "          'v_sd':0.0,\n",
    "          'v_dc_ref':800.0,\n",
    "          'q_ref':0.0e3,\n",
    "          'p_ext':0.0e3\n",
    "         }\n",
    "\n",
    "# sym.pretty_print(f.subs(params))\n",
    "\n",
    "u = sym.Matrix([[i_d, i_q,v_dc,xi_d,xi_q,xi_v_dc ]])\n",
    "\n",
    "f_ss = lambdify(u, f.subs(params),'numpy') # returns a numpy-ready function\n",
    "\n",
    "def eqs_ss(x):\n",
    "    \n",
    "    i_d = x[0]\n",
    "    i_q = x[1]\n",
    "    v_dc = x[2]\n",
    "    xi_d = x[3]\n",
    "    xi_q = x[4]\n",
    "    xi_v_dc = x[5]\n",
    "        \n",
    "    return f_ss(i_d, i_q,v_dc,xi_d,xi_q,xi_v_dc )\n",
    "\n",
    "sol = sopt.broyden1(eqs_ss, [0,100,800,0,0,0], f_tol=1e-4)\n",
    "\n",
    "print('i_d = {:2.3f}, i_q = {:2.3f}'.format(sol[0],sol[1]))\n",
    "#print('[{:2.6f}, {:2.6f}]'.format(sol[0],sol[1]))"
   ]
  },
  {
   "cell_type": "code",
   "execution_count": 31,
   "metadata": {
    "collapsed": false
   },
   "outputs": [
    {
     "data": {
      "text/plain": [
       "array([[ -2.40000000e+03],\n",
       "       [  2.42569387e+05],\n",
       "       [ -2.06868626e+05],\n",
       "       [ -1.00000000e+00],\n",
       "       [ -1.73095192e+01],\n",
       "       [  7.99000000e+02]])"
      ]
     },
     "execution_count": 31,
     "metadata": {},
     "output_type": "execute_result"
    }
   ],
   "source": [
    "f_ss(1,1,1,1,1,1)"
   ]
  },
  {
   "cell_type": "markdown",
   "metadata": {},
   "source": [
    "## $\\sf p$-$\\sf q$ mode"
   ]
  },
  {
   "cell_type": "code",
   "execution_count": 13,
   "metadata": {
    "collapsed": false
   },
   "outputs": [
    {
     "name": "stdout",
     "output_type": "stream",
     "text": [
      "eta_d = -0.060, eta_q = 0.893\n"
     ]
    }
   ],
   "source": [
    "params = {'L':2.5e-3,\n",
    "          'R':1.0,\n",
    "          'C':2000.0e-6,\n",
    "          'omega':2.0*np.pi*50,\n",
    "          'v_sq':np.sqrt(2./3)*400.0,\n",
    "          'v_sd':0.0,\n",
    "          'v_dc':800.0\n",
    "         }\n",
    "\n",
    "p_ref,q_ref = sym.symbols('p_ref,q_ref')\n",
    "\n",
    "eq_p = 3/2*(v_sd*i_d + v_sq*i_q) - p_ref\n",
    "eq_q = 3/2*(v_sd*i_q - v_sq*i_d) - q_ref\n",
    "\n",
    "f_pq =  sym.Matrix([[eq_p],[eq_q]]) \n",
    "# sym.pretty_print(f.subs(params))\n",
    "\n",
    "u = sym.Matrix([[p_ref],[q_ref],[i_d],[i_q],[eta_d],[eta_q]])\n",
    "\n",
    "f_ss = lambdify(u, f[0:2,0].col_join(f_pq).subs(params),'numpy') # returns a numpy-ready function\n",
    "\n",
    "def eqs_ss(x):\n",
    "    \n",
    "    p_ref = 15.0e3\n",
    "    q_ref = 0.0e3\n",
    "    \n",
    "    i_d, i_q = x[0],x[1]\n",
    "    eta_d, eta_q = x[2],x[3]\n",
    "    \n",
    "    return f_ss(p_ref,q_ref, i_d, i_q,eta_d,eta_q )\n",
    "\n",
    "sol = sopt.broyden1(eqs_ss, [0,1,2,3], f_tol=1e-8)\n",
    "\n",
    "print('eta_d = {:2.3f}, eta_q = {:2.3f}'.format(sol[2],sol[3]))"
   ]
  },
  {
   "cell_type": "code",
   "execution_count": 14,
   "metadata": {
    "collapsed": false
   },
   "outputs": [
    {
     "data": {
      "text/plain": [
       "{i_q: 0.666666666666667*(p_ref*v_sq + q_ref*v_sd)/(v_sd**2 + v_sq**2),\n",
       " i_d: 0.666666666666667*(p_ref*v_sd - q_ref*v_sq)/(v_sd**2 + v_sq**2)}"
      ]
     },
     "execution_count": 14,
     "metadata": {},
     "output_type": "execute_result"
    }
   ],
   "source": [
    "sym.solve((eq_p,eq_q),i_d,i_q)"
   ]
  },
  {
   "cell_type": "code",
   "execution_count": 15,
   "metadata": {
    "collapsed": false
   },
   "outputs": [
    {
     "data": {
      "text/plain": [
       "16.0"
      ]
     },
     "execution_count": 15,
     "metadata": {},
     "output_type": "execute_result"
    }
   ],
   "source": [
    "800*2000e-6/0.1"
   ]
  },
  {
   "cell_type": "markdown",
   "metadata": {},
   "source": [
    "## $\\sf i_d$-$\\sf v_{dc}$ mode"
   ]
  },
  {
   "cell_type": "code",
   "execution_count": 16,
   "metadata": {
    "collapsed": false
   },
   "outputs": [
    {
     "name": "stdout",
     "output_type": "stream",
     "text": [
      "eta_d = -0.016, eta_q = 0.866, i_q = -0.551\n",
      "p = -270.091 W, q = 14696.938 var\n"
     ]
    }
   ],
   "source": [
    "params = {'L':2.5e-3,\n",
    "          'R':0.2,\n",
    "          'C':2000.0e-6,\n",
    "          'omega':2.0*np.pi*50,\n",
    "          'v_sq':np.sqrt(2./3)*400.0,\n",
    "          'v_sd':0.0,\n",
    "          'i_d':0.0,\n",
    "          'v_dc':700.0\n",
    "          }\n",
    "\n",
    "params = {'L':2.5e-3,\n",
    "          'R':0.2,\n",
    "          'C':2000.0e-6,\n",
    "          'omega':2.0*np.pi*50,\n",
    "          'v_sq':np.sqrt(2./3)*400.0,\n",
    "          'v_sd':0.0,\n",
    "          'i_d':-30.0,\n",
    "          'v_dc':700.0,\n",
    "          'i_dc':0.0,\n",
    "          }\n",
    "\n",
    "# sym.pretty_print(f.subs(params))\n",
    "\n",
    "u = sym.Matrix([[i_q],[eta_d],[eta_q]])\n",
    "\n",
    "f_ss = lambdify(u, f.subs(params),'numpy') # returns a numpy-ready function\n",
    "\n",
    "\n",
    "def eqs_ss(x):\n",
    "    \n",
    "   \n",
    "    eta_d, eta_q, i_q = x[0],x[1],x[2]\n",
    "   \n",
    "    return f_ss(i_q, eta_d,eta_q )\n",
    "\n",
    "\n",
    "    \n",
    "sol = sopt.broyden1(eqs_ss, [0,1,10],f_tol=1e-8)\n",
    "\n",
    "\n",
    "\n",
    "print('eta_d = {:2.3f}, eta_q = {:2.3f}, i_q = {:2.3f}'.format(sol[0],sol[1],sol[2]))\n",
    "\n",
    "params.update({'eta_d':sol[0],'eta_q':sol[1],'i_q':sol[2]})\n",
    "\n",
    "p = 3/2*(v_sd*i_d + v_sq*i_q) \n",
    "q = 3/2*(v_sd*i_q - v_sq*i_d) \n",
    "\n",
    "\n",
    "f_p= lambdify([], p.subs(params),'numpy') # returns a numpy-ready function\n",
    "f_q= lambdify([], q.subs(params),'numpy') # returns a numpy-ready function\n",
    "\n",
    "print('p = {:2.3f} W, q = {:2.3f} var'.format(f_p(),f_q()))\n",
    "\n",
    "u = sym.Matrix([[eta_d],[eta_q]])\n",
    "h = sym.Matrix([[i_d]])\n",
    "\n",
    "F_x = f.jacobian(x)\n",
    "f_A = lambdify([], F_x.subs(params),'numpy')\n",
    "F_u = f.jacobian(u)\n",
    "f_B = lambdify([], F_u.subs(params),'numpy')\n",
    "H_x = h.jacobian(x)\n",
    "f_C = lambdify([], H_x.subs(params),'numpy')\n",
    "H_u = h.jacobian(u)\n",
    "f_D = lambdify([], H_u.subs(params),'numpy')\n",
    "\n",
    "A = f_A()\n",
    "B = f_B()\n",
    "C = f_C()\n",
    "D = f_D()\n",
    "eig, evec = np.linalg.eig(A)"
   ]
  },
  {
   "cell_type": "markdown",
   "metadata": {},
   "source": [
    "## $\\sf i_d$-$\\sf v_{dc}$ mode with $\\sf p_{dc}^{ext}$"
   ]
  },
  {
   "cell_type": "code",
   "execution_count": 17,
   "metadata": {
    "collapsed": false
   },
   "outputs": [
    {
     "name": "stdout",
     "output_type": "stream",
     "text": [
      "⎡                   η_d⋅v_dc        ⎤\n",
      "⎢ L⋅i_q⋅ω - R⋅i_d + ──────── - v_sd ⎥\n",
      "⎢                      2            ⎥\n",
      "⎢ ───────────────────────────────── ⎥\n",
      "⎢                 L                 ⎥\n",
      "⎢                                   ⎥\n",
      "⎢                   η_q⋅v_dc        ⎥\n",
      "⎢-L⋅i_d⋅ω - R⋅i_q + ──────── - v_sq ⎥\n",
      "⎢                      2            ⎥\n",
      "⎢────────────────────────────────── ⎥\n",
      "⎢                L                  ⎥\n",
      "⎢                                   ⎥\n",
      "⎢                               pₑₓₜ⎥\n",
      "⎢-0.75⋅η_d⋅i_d - 0.75⋅η_q⋅i_q + ────⎥\n",
      "⎢                               v_dc⎥\n",
      "⎢───────────────────────────────────⎥\n",
      "⎣                 C                 ⎦\n"
     ]
    },
    {
     "data": {
      "image/png": "[encoded data removed]",
      "text/plain": [
       "<matplotlib.figure.Figure at 0xab7714cc>"
      ]
     },
     "metadata": {},
     "output_type": "display_data"
    }
   ],
   "source": [
    "params = {'L':1100e-6,\n",
    "          'R':0.1,\n",
    "          'C':2000.0e-6,\n",
    "          'omega':2.0*np.pi*50,\n",
    "          'v_sq':np.sqrt(2./3)*400.0,\n",
    "          'v_sd':0.0,\n",
    "          'i_d':0.0,\n",
    "          'v_dc':730.0,\n",
    "         # 'p_ext':-50.0e3\n",
    "          }\n",
    "\n",
    "# sym.pretty_print(f.subs(params))\n",
    "u = sym.Matrix([[i_q],[eta_d],[eta_q],[p_ext]])\n",
    "\n",
    "i_ext = p_ext/v_dc\n",
    "\n",
    "f_dc = f.subs(i_dc,i_ext)\n",
    "\n",
    "\n",
    "sym.pretty_print(f_dc)\n",
    "\n",
    "\n",
    "#params['p_ext'] = p_ext_N \n",
    "f_ss = sym.lambdify(u, f_dc.subs(params),'numpy') # returns a numpy-ready function\n",
    "\n",
    "\n",
    "fig = plt.figure(figsize=(8,7))\n",
    "ax  = fig.add_subplot(1,1,1)\n",
    "\n",
    "class eqs_ss:\n",
    "    \n",
    "    def __init__(self):\n",
    "        \n",
    "        self.p_ext = 0.0e3\n",
    "    \n",
    "    def update(self, x):  \n",
    "\n",
    "        eta_d, eta_q, i_q = x[0],x[1],x[2]\n",
    "\n",
    "        return f_ss(i_q, eta_d,eta_q, self.p_ext )\n",
    "\n",
    "\n",
    "eq = eqs_ss()\n",
    "\n",
    "pows = np.arange(-120e3,50e3,10e3)\n",
    "eigs_real = []\n",
    "eigs_imag = []\n",
    "\n",
    "for p_ext_N in pows:\n",
    "    \n",
    "    eq.p_ext = p_ext_N\n",
    "\n",
    "\n",
    "    sol = sopt.broyden1(eq.update, [0,.5,p_ext_N/700],f_tol=1e-8)\n",
    "\n",
    "    #print('eta_d = {:2.3f}, eta_q = {:2.3f}, i_q = {:2.3f}'.format(sol[0],sol[1],sol[2]))\n",
    "\n",
    "    params.update({'eta_d':sol[0],'eta_q':sol[1],'i_q':sol[2]})\n",
    "\n",
    "    p = 3/2*(v_sd*i_d + v_sq*i_q) \n",
    "    q = 3/2*(v_sd*i_q - v_sq*i_d) \n",
    "\n",
    "    f_p= sym.lambdify([], p.subs(params),'numpy') # returns a numpy-ready function\n",
    "    f_q= sym.lambdify([], q.subs(params),'numpy') # returns a numpy-ready function\n",
    "\n",
    "    #print('p = {:2.3f} W, q = {:2.3f} var'.format(f_p(),f_q()))\n",
    "\n",
    "    u = sym.Matrix([[eta_d],[eta_q]])\n",
    "    h = sym.Matrix([[i_d]])\n",
    "\n",
    "    F_x = f_dc.jacobian(x)\n",
    "    f_A = sym.lambdify([], F_x.subs(params).subs({'p_ext':p_ext_N}),'numpy')\n",
    "    A = f_A()\n",
    "    eig, evec = np.linalg.eig(A)\n",
    "    eigs_real += [eig.real[0]]\n",
    "    eigs_imag += [eig.imag[0]]\n",
    "    ax.plot(eig.real,eig.imag, 'o')\n",
    "'''\n",
    "    F_u = f.jacobian(u)\n",
    "    f_B = lambdify([], F_u.subs(params),'numpy')\n",
    "    H_x = h.jacobian(x)\n",
    "    f_C = lambdify([], H_x.subs(params),'numpy')\n",
    "    H_u = h.jacobian(u)\n",
    "    f_D = lambdify([], H_u.subs(params),'numpy')\n",
    "   \n",
    "    B = f_B()\n",
    "    C = f_C()\n",
    "    D = f_D()\n",
    "    \n",
    "'''\n",
    "ax.grid(True)\n",
    "ax.set_xlabel('Real')\n",
    "ax.set_ylabel('Imaginary')\n",
    "\n",
    "\n",
    "\n",
    "\n",
    "plt.show()\n",
    "fig.savefig('rlocus_100kva.svg')"
   ]
  },
  {
   "cell_type": "code",
   "execution_count": 20,
   "metadata": {
    "collapsed": false
   },
   "outputs": [
    {
     "name": "stdout",
     "output_type": "stream",
     "text": [
      "⎡   -R                     η_d  ⎤\n",
      "⎢   ───          ω         ───  ⎥\n",
      "⎢    L                     2⋅L  ⎥\n",
      "⎢                               ⎥\n",
      "⎢               -R         η_q  ⎥\n",
      "⎢    -ω         ───        ───  ⎥\n",
      "⎢                L         2⋅L  ⎥\n",
      "⎢                               ⎥\n",
      "⎢-0.75⋅η_d   -0.75⋅η_q    -pₑₓₜ ⎥\n",
      "⎢──────────  ──────────  ───────⎥\n",
      "⎢    C           C             2⎥\n",
      "⎣                        C⋅v_dc ⎦\n"
     ]
    },
    {
     "ename": "TypeError",
     "evalue": "ufunc 'isfinite' not supported for the input types, and the inputs could not be safely coerced to any supported types according to the casting rule ''safe''",
     "output_type": "error",
     "traceback": [
      "\u001b[1;31m---------------------------------------------------------------------------\u001b[0m",
      "\u001b[1;31mTypeError\u001b[0m                                 Traceback (most recent call last)",
      "\u001b[1;32m<ipython-input-20-0a931f7e2851>\u001b[0m in \u001b[0;36m<module>\u001b[1;34m()\u001b[0m\n\u001b[0;32m      3\u001b[0m \u001b[0mf_A\u001b[0m \u001b[1;33m=\u001b[0m \u001b[0mlambdify\u001b[0m\u001b[1;33m(\u001b[0m\u001b[1;33m[\u001b[0m\u001b[1;33m]\u001b[0m\u001b[1;33m,\u001b[0m \u001b[0mF_x\u001b[0m\u001b[1;33m.\u001b[0m\u001b[0msubs\u001b[0m\u001b[1;33m(\u001b[0m\u001b[0mparams\u001b[0m\u001b[1;33m)\u001b[0m\u001b[1;33m,\u001b[0m\u001b[1;34m'numpy'\u001b[0m\u001b[1;33m)\u001b[0m\u001b[1;33m\u001b[0m\u001b[0m\n\u001b[0;32m      4\u001b[0m \u001b[0mA\u001b[0m \u001b[1;33m=\u001b[0m \u001b[0mf_A\u001b[0m\u001b[1;33m(\u001b[0m\u001b[1;33m)\u001b[0m\u001b[1;33m\u001b[0m\u001b[0m\n\u001b[1;32m----> 5\u001b[1;33m \u001b[0meig\u001b[0m\u001b[1;33m,\u001b[0m \u001b[0mevec\u001b[0m \u001b[1;33m=\u001b[0m \u001b[0mnp\u001b[0m\u001b[1;33m.\u001b[0m\u001b[0mlinalg\u001b[0m\u001b[1;33m.\u001b[0m\u001b[0meig\u001b[0m\u001b[1;33m(\u001b[0m\u001b[0mA\u001b[0m\u001b[1;33m)\u001b[0m\u001b[1;33m\u001b[0m\u001b[0m\n\u001b[0m",
      "\u001b[1;32m/home/jmmauricio/anaconda3/lib/python3.5/site-packages/numpy/linalg/linalg.py\u001b[0m in \u001b[0;36meig\u001b[1;34m(a)\u001b[0m\n\u001b[0;32m   1120\u001b[0m     \u001b[0m_assertRankAtLeast2\u001b[0m\u001b[1;33m(\u001b[0m\u001b[0ma\u001b[0m\u001b[1;33m)\u001b[0m\u001b[1;33m\u001b[0m\u001b[0m\n\u001b[0;32m   1121\u001b[0m     \u001b[0m_assertNdSquareness\u001b[0m\u001b[1;33m(\u001b[0m\u001b[0ma\u001b[0m\u001b[1;33m)\u001b[0m\u001b[1;33m\u001b[0m\u001b[0m\n\u001b[1;32m-> 1122\u001b[1;33m     \u001b[0m_assertFinite\u001b[0m\u001b[1;33m(\u001b[0m\u001b[0ma\u001b[0m\u001b[1;33m)\u001b[0m\u001b[1;33m\u001b[0m\u001b[0m\n\u001b[0m\u001b[0;32m   1123\u001b[0m     \u001b[0mt\u001b[0m\u001b[1;33m,\u001b[0m \u001b[0mresult_t\u001b[0m \u001b[1;33m=\u001b[0m \u001b[0m_commonType\u001b[0m\u001b[1;33m(\u001b[0m\u001b[0ma\u001b[0m\u001b[1;33m)\u001b[0m\u001b[1;33m\u001b[0m\u001b[0m\n\u001b[0;32m   1124\u001b[0m \u001b[1;33m\u001b[0m\u001b[0m\n",
      "\u001b[1;32m/home/jmmauricio/anaconda3/lib/python3.5/site-packages/numpy/linalg/linalg.py\u001b[0m in \u001b[0;36m_assertFinite\u001b[1;34m(*arrays)\u001b[0m\n\u001b[0;32m    214\u001b[0m \u001b[1;32mdef\u001b[0m \u001b[0m_assertFinite\u001b[0m\u001b[1;33m(\u001b[0m\u001b[1;33m*\u001b[0m\u001b[0marrays\u001b[0m\u001b[1;33m)\u001b[0m\u001b[1;33m:\u001b[0m\u001b[1;33m\u001b[0m\u001b[0m\n\u001b[0;32m    215\u001b[0m     \u001b[1;32mfor\u001b[0m \u001b[0ma\u001b[0m \u001b[1;32min\u001b[0m \u001b[0marrays\u001b[0m\u001b[1;33m:\u001b[0m\u001b[1;33m\u001b[0m\u001b[0m\n\u001b[1;32m--> 216\u001b[1;33m         \u001b[1;32mif\u001b[0m \u001b[1;32mnot\u001b[0m \u001b[1;33m(\u001b[0m\u001b[0misfinite\u001b[0m\u001b[1;33m(\u001b[0m\u001b[0ma\u001b[0m\u001b[1;33m)\u001b[0m\u001b[1;33m.\u001b[0m\u001b[0mall\u001b[0m\u001b[1;33m(\u001b[0m\u001b[1;33m)\u001b[0m\u001b[1;33m)\u001b[0m\u001b[1;33m:\u001b[0m\u001b[1;33m\u001b[0m\u001b[0m\n\u001b[0m\u001b[0;32m    217\u001b[0m             \u001b[1;32mraise\u001b[0m \u001b[0mLinAlgError\u001b[0m\u001b[1;33m(\u001b[0m\u001b[1;34m\"Array must not contain infs or NaNs\"\u001b[0m\u001b[1;33m)\u001b[0m\u001b[1;33m\u001b[0m\u001b[0m\n\u001b[0;32m    218\u001b[0m \u001b[1;33m\u001b[0m\u001b[0m\n",
      "\u001b[1;31mTypeError\u001b[0m: ufunc 'isfinite' not supported for the input types, and the inputs could not be safely coerced to any supported types according to the casting rule ''safe''"
     ]
    }
   ],
   "source": [
    "F_x = f_dc.jacobian(x)\n",
    "sym.pretty_print(F_x)\n",
    "f_A = lambdify([], F_x.subs(params),'numpy')\n",
    "A = f_A()\n",
    "eig, evec = np.linalg.eig(A)"
   ]
  },
  {
   "cell_type": "code",
   "execution_count": null,
   "metadata": {
    "collapsed": false
   },
   "outputs": [],
   "source": [
    "G = sps.ss2tf(A,B,C,D)\n",
    "G"
   ]
  },
  {
   "cell_type": "code",
   "execution_count": null,
   "metadata": {
    "collapsed": false
   },
   "outputs": [],
   "source": [
    "H_x"
   ]
  },
  {
   "cell_type": "code",
   "execution_count": null,
   "metadata": {
    "collapsed": false
   },
   "outputs": [],
   "source": [
    "np.linalg.eig(A)"
   ]
  },
  {
   "cell_type": "code",
   "execution_count": null,
   "metadata": {
    "collapsed": false
   },
   "outputs": [],
   "source": [
    "C"
   ]
  },
  {
   "cell_type": "code",
   "execution_count": null,
   "metadata": {
    "collapsed": false
   },
   "outputs": [],
   "source": [
    "from sympy.utilities.codegen import codegen\n",
    "\n"
   ]
  },
  {
   "cell_type": "code",
   "execution_count": null,
   "metadata": {
    "collapsed": false
   },
   "outputs": [],
   "source": [
    "codegen((\"f\", f),'c')"
   ]
  },
  {
   "cell_type": "code",
   "execution_count": null,
   "metadata": {
    "collapsed": false
   },
   "outputs": [],
   "source": [
    "f"
   ]
  },
  {
   "cell_type": "code",
   "execution_count": null,
   "metadata": {
    "collapsed": false
   },
   "outputs": [],
   "source": [
    "from sympy.utilities.codegen import codegen,FCodeGen\n",
    "\n",
    "params = {'L':1400e-6,\n",
    "          'R':0.1,\n",
    "          'C':2000.0e-6,\n",
    "          'omega':2.0*np.pi*50,\n",
    "          'v_sq':np.sqrt(2./3)*400.0,\n",
    "          'v_sd':0.0,\n",
    "          }\n",
    "\n",
    "[(c_name, c_code), (h_name, c_header)] = codegen(f, \"C\", \"test\", header=True, empty=False)\n",
    "print(c_code)"
   ]
  },
  {
   "cell_type": "code",
   "execution_count": null,
   "metadata": {
    "collapsed": false
   },
   "outputs": [],
   "source": [
    "codegen(f, \"C\", header=False, empty=False)"
   ]
  },
  {
   "cell_type": "code",
   "execution_count": null,
   "metadata": {
    "collapsed": false
   },
   "outputs": [],
   "source": [
    "f"
   ]
  },
  {
   "cell_type": "code",
   "execution_count": null,
   "metadata": {
    "collapsed": true
   },
   "outputs": [],
   "source": [
    "from sympy.utilities.codegen import codegen\n",
    "\n",
    "[(c_name, c_code), (h_name, c_header)] = codegen((\"f\", F_x), \"F95\", \"test\", header=False, empty=True)\n",
    "print(c_code)"
   ]
  }
 ],
 "metadata": {
  "anaconda-cloud": {},
  "kernelspec": {
   "display_name": "Python 3",
   "language": "python",
   "name": "python3"
  },
  "language_info": {
   "codemirror_mode": {
    "name": "ipython",
    "version": 3
   },
   "file_extension": ".py",
   "mimetype": "text/x-python",
   "name": "python",
   "nbconvert_exporter": "python",
   "pygments_lexer": "ipython3",
   "version": "3.5.2"
  }
 },
 "nbformat": 4,
 "nbformat_minor": 0
}
