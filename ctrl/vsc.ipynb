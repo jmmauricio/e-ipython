{
 "cells": [
  {
   "cell_type": "code",
   "execution_count": 1,
   "metadata": {
    "collapsed": false,
    "slideshow": {
     "slide_type": "slide"
    }
   },
   "outputs": [],
   "source": [
    "import numpy as np\n",
    "import scipy.signal as sps\n",
    "import sympy as sym \n",
    "import scipy.optimize as sopt\n",
    "%matplotlib inline   \n",
    "import matplotlib.pyplot as plt\n"
   ]
  },
  {
   "cell_type": "code",
   "execution_count": 2,
   "metadata": {
    "collapsed": false
   },
   "outputs": [],
   "source": [
    "eta_d,eta_q = sym.symbols('eta_d,eta_q')\n",
    "i_d,i_q,v_dc,i_dc = sym.symbols('i_d,i_q,v_dc,i_dc')\n",
    "v_sd,v_sq = sym.symbols('v_sd,v_sq')\n",
    "L,R,C,omega = sym.symbols('L,R,C,omega')\n",
    "u_d,u_q = sym.symbols('u_d,u_q')\n",
    "p_ext,i_ext = sym.symbols('p_ext,i_ext')"
   ]
  },
  {
   "cell_type": "code",
   "execution_count": 3,
   "metadata": {
    "collapsed": false
   },
   "outputs": [
    {
     "data": {
      "text/plain": [
       "Matrix([\n",
       "[         -R/L,         omega, eta_d/(2*L)],\n",
       "[       -omega,          -R/L, eta_q/(2*L)],\n",
       "[-0.75*eta_d/C, -0.75*eta_q/C,           0]])"
      ]
     },
     "execution_count": 3,
     "metadata": {},
     "output_type": "execute_result"
    }
   ],
   "source": [
    "di_d  = 1/L*(eta_d*v_dc/2 - R*i_d + L*omega*i_q - v_sd)\n",
    "di_q  = 1/L*(eta_q*v_dc/2 - R*i_q - L*omega*i_d - v_sq)\n",
    "\n",
    "# p_dc = p_ac = 3/2*(eta_d*v_dc/2*i_d + eta_q*v_dc/2*i_q)\n",
    "# i_cap = i_dc - p_dc/v_dc\n",
    "# i_dc - 3/4*(eta_d*i_d + eta_q*i_q)\n",
    "dv_dc = 1/C*(i_dc - 3/4*(eta_d*i_d + eta_q*i_q ))\n",
    "\n",
    "f = sym.Matrix([[di_d],[di_q],[dv_dc]])\n",
    "x = sym.Matrix([[i_d],[i_q],[v_dc]])\n",
    "\n",
    "F_x = f.jacobian(x)\n",
    "\n",
    "F_x"
   ]
  },
  {
   "cell_type": "code",
   "execution_count": 4,
   "metadata": {
    "collapsed": false
   },
   "outputs": [
    {
     "name": "stdout",
     "output_type": "stream",
     "text": [
      "\n",
      "subroutine f(C, L, R, eta_d, eta_q, omega, out_2802380343141594273)\n",
      "implicit none\n",
      "REAL*8, intent(in) :: C\n",
      "REAL*8, intent(in) :: L\n",
      "REAL*8, intent(in) :: R\n",
      "REAL*8, intent(in) :: eta_d\n",
      "REAL*8, intent(in) :: eta_q\n",
      "REAL*8, intent(in) :: omega\n",
      "REAL*8, intent(out), dimension(1:3, 1:3) :: out_2802380343141594273\n",
      "\n",
      "out_2802380343141594273(1, 1) = -R/L\n",
      "out_2802380343141594273(2, 1) = -omega\n",
      "out_2802380343141594273(3, 1) = -0.75d0*eta_d/C\n",
      "out_2802380343141594273(1, 2) = omega\n",
      "out_2802380343141594273(2, 2) = -R/L\n",
      "out_2802380343141594273(3, 2) = -0.75d0*eta_q/C\n",
      "out_2802380343141594273(1, 3) = (1.0d0/2.0d0)*eta_d/L\n",
      "out_2802380343141594273(2, 3) = (1.0d0/2.0d0)*eta_q/L\n",
      "out_2802380343141594273(3, 3) = 0\n",
      "\n",
      "end subroutine\n",
      "\n"
     ]
    }
   ],
   "source": [
    "from sympy.utilities.codegen import codegen\n",
    "\n",
    "[(c_name, c_code), (h_name, c_header)] = codegen((\"f\", F_x), \"F95\", \"test\", header=False, empty=True)\n",
    "print(c_code)"
   ]
  },
  {
   "cell_type": "code",
   "execution_count": 5,
   "metadata": {
    "collapsed": false
   },
   "outputs": [
    {
     "name": "stdout",
     "output_type": "stream",
     "text": [
      "[[(2*L*omega - R + 3*eta_d/2 - v_sd)/L]\n",
      " [(-L*omega - 2*R + 3*eta_q/2 - v_sq)/L]\n",
      " [(-0.75*eta_d - 1.5*eta_q + i_dc)/C]]\n"
     ]
    }
   ],
   "source": [
    "\n",
    "from sympy.utilities.lambdify import lambdify\n",
    "\n",
    "\n",
    "func = lambdify(x, f,'numpy') # returns a numpy-ready function\n",
    "\n",
    "print(func(1,2,3))"
   ]
  },
  {
   "cell_type": "markdown",
   "metadata": {},
   "source": [
    "## $\\sf i_d$-$\\sf i_q$ mode"
   ]
  },
  {
   "cell_type": "code",
   "execution_count": 6,
   "metadata": {
    "collapsed": false
   },
   "outputs": [
    {
     "name": "stdout",
     "output_type": "stream",
     "text": [
      "eta_d = -0.050, eta_q = -0.856\n",
      "[-0.050000, -0.855766]\n"
     ]
    }
   ],
   "source": [
    "params = {'L':2.5e-3,\n",
    "          'R':1.0,\n",
    "          'C':2000.0e-6,\n",
    "          'omega':2.0*np.pi*50,\n",
    "          'v_sq':-np.sqrt(2./3)*400.0,\n",
    "          'v_sd':0.0,\n",
    "          'v_dc':800.0\n",
    "         }\n",
    "\n",
    "# sym.pretty_print(f.subs(params))\n",
    "\n",
    "u = sym.Matrix([[i_d],[i_q],[eta_d],[eta_q]])\n",
    "\n",
    "f_ss = lambdify(u, f[0:2,0].subs(params),'numpy') # returns a numpy-ready function\n",
    "\n",
    "def eqs_ss(x):\n",
    "    \n",
    "    i_d = -20.0\n",
    "    i_q = 0.0\n",
    "    \n",
    "    eta_d, eta_q = x[0],x[1]\n",
    "    \n",
    "    return f_ss(i_d, i_q,eta_d,eta_q )\n",
    "\n",
    "sol = sopt.broyden1(eqs_ss, [0,1], f_tol=1e-8)\n",
    "\n",
    "print('eta_d = {:2.3f}, eta_q = {:2.3f}'.format(sol[0],sol[1]))\n",
    "print('[{:2.6f}, {:2.6f}]'.format(sol[0],sol[1]))"
   ]
  },
  {
   "cell_type": "code",
   "execution_count": 7,
   "metadata": {
    "collapsed": false
   },
   "outputs": [
    {
     "data": {
      "text/plain": [
       "[2*(L*i_d*omega + u_q + v_sq)/v_dc]"
      ]
     },
     "execution_count": 7,
     "metadata": {},
     "output_type": "execute_result"
    }
   ],
   "source": [
    "sym.solve(di_d*L+R*i_d-u_d, eta_d)\n",
    "sym.solve(di_q*L+R*i_q-u_q, eta_q)"
   ]
  },
  {
   "cell_type": "markdown",
   "metadata": {},
   "source": [
    "## $\\sf p$-$\\sf q$ mode"
   ]
  },
  {
   "cell_type": "code",
   "execution_count": 8,
   "metadata": {
    "collapsed": false
   },
   "outputs": [
    {
     "name": "stdout",
     "output_type": "stream",
     "text": [
      "eta_d = -0.060, eta_q = 0.893\n"
     ]
    }
   ],
   "source": [
    "params = {'L':2.5e-3,\n",
    "          'R':1.0,\n",
    "          'C':2000.0e-6,\n",
    "          'omega':2.0*np.pi*50,\n",
    "          'v_sq':np.sqrt(2./3)*400.0,\n",
    "          'v_sd':0.0,\n",
    "          'v_dc':800.0\n",
    "         }\n",
    "\n",
    "p_ref,q_ref = sym.symbols('p_ref,q_ref')\n",
    "\n",
    "eq_p = 3/2*(v_sd*i_d + v_sq*i_q) - p_ref\n",
    "eq_q = 3/2*(v_sd*i_q - v_sq*i_d) - q_ref\n",
    "\n",
    "f_pq =  sym.Matrix([[eq_p],[eq_q]]) \n",
    "# sym.pretty_print(f.subs(params))\n",
    "\n",
    "u = sym.Matrix([[p_ref],[q_ref],[i_d],[i_q],[eta_d],[eta_q]])\n",
    "\n",
    "f_ss = lambdify(u, f[0:2,0].col_join(f_pq).subs(params),'numpy') # returns a numpy-ready function\n",
    "\n",
    "def eqs_ss(x):\n",
    "    \n",
    "    p_ref = 15.0e3\n",
    "    q_ref = 0.0e3\n",
    "    \n",
    "    i_d, i_q = x[0],x[1]\n",
    "    eta_d, eta_q = x[2],x[3]\n",
    "    \n",
    "    return f_ss(p_ref,q_ref, i_d, i_q,eta_d,eta_q )\n",
    "\n",
    "sol = sopt.broyden1(eqs_ss, [0,1,2,3], f_tol=1e-8)\n",
    "\n",
    "print('eta_d = {:2.3f}, eta_q = {:2.3f}'.format(sol[2],sol[3]))"
   ]
  },
  {
   "cell_type": "code",
   "execution_count": 9,
   "metadata": {
    "collapsed": false
   },
   "outputs": [
    {
     "data": {
      "text/plain": [
       "{i_d: 0.666666666666667*(p_ref*v_sd - q_ref*v_sq)/(v_sd**2 + v_sq**2),\n",
       " i_q: 0.666666666666667*(p_ref*v_sq + q_ref*v_sd)/(v_sd**2 + v_sq**2)}"
      ]
     },
     "execution_count": 9,
     "metadata": {},
     "output_type": "execute_result"
    }
   ],
   "source": [
    "sym.solve((eq_p,eq_q),i_d,i_q)"
   ]
  },
  {
   "cell_type": "code",
   "execution_count": 10,
   "metadata": {
    "collapsed": false
   },
   "outputs": [
    {
     "data": {
      "text/plain": [
       "16.0"
      ]
     },
     "execution_count": 10,
     "metadata": {},
     "output_type": "execute_result"
    }
   ],
   "source": [
    "800*2000e-6/0.1"
   ]
  },
  {
   "cell_type": "markdown",
   "metadata": {},
   "source": [
    "## $\\sf i_d$-$\\sf v_{dc}$ mode"
   ]
  },
  {
   "cell_type": "code",
   "execution_count": 11,
   "metadata": {
    "collapsed": false
   },
   "outputs": [
    {
     "name": "stdout",
     "output_type": "stream",
     "text": [
      "eta_d = -0.016, eta_q = 0.866, i_q = -0.551\n",
      "p = -270.091 W, q = 14696.938 var\n"
     ]
    }
   ],
   "source": [
    "params = {'L':2.5e-3,\n",
    "          'R':0.2,\n",
    "          'C':2000.0e-6,\n",
    "          'omega':2.0*np.pi*50,\n",
    "          'v_sq':np.sqrt(2./3)*400.0,\n",
    "          'v_sd':0.0,\n",
    "          'i_d':0.0,\n",
    "          'v_dc':700.0\n",
    "          }\n",
    "\n",
    "params = {'L':2.5e-3,\n",
    "          'R':0.2,\n",
    "          'C':2000.0e-6,\n",
    "          'omega':2.0*np.pi*50,\n",
    "          'v_sq':np.sqrt(2./3)*400.0,\n",
    "          'v_sd':0.0,\n",
    "          'i_d':-30.0,\n",
    "          'v_dc':700.0,\n",
    "          'i_dc':0.0,\n",
    "          }\n",
    "\n",
    "# sym.pretty_print(f.subs(params))\n",
    "\n",
    "u = sym.Matrix([[i_q],[eta_d],[eta_q]])\n",
    "\n",
    "f_ss = lambdify(u, f.subs(params),'numpy') # returns a numpy-ready function\n",
    "\n",
    "\n",
    "def eqs_ss(x):\n",
    "    \n",
    "   \n",
    "    eta_d, eta_q, i_q = x[0],x[1],x[2]\n",
    "   \n",
    "    return f_ss(i_q, eta_d,eta_q )\n",
    "\n",
    "\n",
    "    \n",
    "sol = sopt.broyden1(eqs_ss, [0,1,10],f_tol=1e-8)\n",
    "\n",
    "\n",
    "\n",
    "print('eta_d = {:2.3f}, eta_q = {:2.3f}, i_q = {:2.3f}'.format(sol[0],sol[1],sol[2]))\n",
    "\n",
    "params.update({'eta_d':sol[0],'eta_q':sol[1],'i_q':sol[2]})\n",
    "\n",
    "p = 3/2*(v_sd*i_d + v_sq*i_q) \n",
    "q = 3/2*(v_sd*i_q - v_sq*i_d) \n",
    "\n",
    "\n",
    "f_p= lambdify([], p.subs(params),'numpy') # returns a numpy-ready function\n",
    "f_q= lambdify([], q.subs(params),'numpy') # returns a numpy-ready function\n",
    "\n",
    "print('p = {:2.3f} W, q = {:2.3f} var'.format(f_p(),f_q()))\n",
    "\n",
    "u = sym.Matrix([[eta_d],[eta_q]])\n",
    "h = sym.Matrix([[i_d]])\n",
    "\n",
    "F_x = f.jacobian(x)\n",
    "f_A = lambdify([], F_x.subs(params),'numpy')\n",
    "F_u = f.jacobian(u)\n",
    "f_B = lambdify([], F_u.subs(params),'numpy')\n",
    "H_x = h.jacobian(x)\n",
    "f_C = lambdify([], H_x.subs(params),'numpy')\n",
    "H_u = h.jacobian(u)\n",
    "f_D = lambdify([], H_u.subs(params),'numpy')\n",
    "\n",
    "A = f_A()\n",
    "B = f_B()\n",
    "C = f_C()\n",
    "D = f_D()\n",
    "eig, evec = np.linalg.eig(A)"
   ]
  },
  {
   "cell_type": "markdown",
   "metadata": {},
   "source": [
    "## $\\sf i_d$-$\\sf v_{dc}$ mode with $\\sf p_{dc}^{ext}$"
   ]
  },
  {
   "cell_type": "code",
   "execution_count": 19,
   "metadata": {
    "collapsed": false
   },
   "outputs": [
    {
     "name": "stdout",
     "output_type": "stream",
     "text": [
      "⎡                   η_d⋅v_dc        ⎤\n",
      "⎢ L⋅i_q⋅ω - R⋅i_d + ──────── - v_sd ⎥\n",
      "⎢                      2            ⎥\n",
      "⎢ ───────────────────────────────── ⎥\n",
      "⎢                 L                 ⎥\n",
      "⎢                                   ⎥\n",
      "⎢                   η_q⋅v_dc        ⎥\n",
      "⎢-L⋅i_d⋅ω - R⋅i_q + ──────── - v_sq ⎥\n",
      "⎢                      2            ⎥\n",
      "⎢────────────────────────────────── ⎥\n",
      "⎢                L                  ⎥\n",
      "⎢                                   ⎥\n",
      "⎢                               pₑₓₜ⎥\n",
      "⎢-0.75⋅η_d⋅i_d - 0.75⋅η_q⋅i_q + ────⎥\n",
      "⎢                               v_dc⎥\n",
      "⎢───────────────────────────────────⎥\n",
      "⎣                 C                 ⎦\n"
     ]
    },
    {
     "data": {
      "image/png": "[encoded data removed]",
      "text/plain": [
       "<matplotlib.figure.Figure at 0x7f16eacc9d30>"
      ]
     },
     "metadata": {},
     "output_type": "display_data"
    }
   ],
   "source": [
    "params = {'L':1100e-6,\n",
    "          'R':0.1,\n",
    "          'C':2000.0e-6,\n",
    "          'omega':2.0*np.pi*50,\n",
    "          'v_sq':np.sqrt(2./3)*400.0,\n",
    "          'v_sd':0.0,\n",
    "          'i_d':0.0,\n",
    "          'v_dc':730.0,\n",
    "         # 'p_ext':-50.0e3\n",
    "          }\n",
    "\n",
    "# sym.pretty_print(f.subs(params))\n",
    "u = sym.Matrix([[i_q],[eta_d],[eta_q],[p_ext]])\n",
    "\n",
    "i_ext = p_ext/v_dc\n",
    "\n",
    "f_dc = f.subs(i_dc,i_ext)\n",
    "\n",
    "\n",
    "sym.pretty_print(f_dc)\n",
    "\n",
    "\n",
    "#params['p_ext'] = p_ext_N \n",
    "f_ss = sym.lambdify(u, f_dc.subs(params),'numpy') # returns a numpy-ready function\n",
    "\n",
    "\n",
    "fig = plt.figure(figsize=(8,7))\n",
    "ax  = fig.add_subplot(1,1,1)\n",
    "\n",
    "class eqs_ss:\n",
    "    \n",
    "    def __init__(self):\n",
    "        \n",
    "        self.p_ext = 0.0e3\n",
    "    \n",
    "    def update(self, x):  \n",
    "\n",
    "        eta_d, eta_q, i_q = x[0],x[1],x[2]\n",
    "\n",
    "        return f_ss(i_q, eta_d,eta_q, self.p_ext )\n",
    "\n",
    "\n",
    "eq = eqs_ss()\n",
    "\n",
    "pows = np.arange(-120e3,50e3,10e3)\n",
    "eigs_real = []\n",
    "eigs_imag = []\n",
    "\n",
    "for p_ext_N in pows:\n",
    "    \n",
    "    eq.p_ext = p_ext_N\n",
    "\n",
    "\n",
    "    sol = sopt.broyden1(eq.update, [0,.5,p_ext_N/700],f_tol=1e-8)\n",
    "\n",
    "    #print('eta_d = {:2.3f}, eta_q = {:2.3f}, i_q = {:2.3f}'.format(sol[0],sol[1],sol[2]))\n",
    "\n",
    "    params.update({'eta_d':sol[0],'eta_q':sol[1],'i_q':sol[2]})\n",
    "\n",
    "    p = 3/2*(v_sd*i_d + v_sq*i_q) \n",
    "    q = 3/2*(v_sd*i_q - v_sq*i_d) \n",
    "\n",
    "    f_p= sym.lambdify([], p.subs(params),'numpy') # returns a numpy-ready function\n",
    "    f_q= sym.lambdify([], q.subs(params),'numpy') # returns a numpy-ready function\n",
    "\n",
    "    #print('p = {:2.3f} W, q = {:2.3f} var'.format(f_p(),f_q()))\n",
    "\n",
    "    u = sym.Matrix([[eta_d],[eta_q]])\n",
    "    h = sym.Matrix([[i_d]])\n",
    "\n",
    "    F_x = f_dc.jacobian(x)\n",
    "    f_A = sym.lambdify([], F_x.subs(params).subs({'p_ext':p_ext_N}),'numpy')\n",
    "    A = f_A()\n",
    "    eig, evec = np.linalg.eig(A)\n",
    "    eigs_real += [eig.real[0]]\n",
    "    eigs_imag += [eig.imag[0]]\n",
    "    ax.plot(eig.real,eig.imag, 'o')\n",
    "'''\n",
    "    F_u = f.jacobian(u)\n",
    "    f_B = lambdify([], F_u.subs(params),'numpy')\n",
    "    H_x = h.jacobian(x)\n",
    "    f_C = lambdify([], H_x.subs(params),'numpy')\n",
    "    H_u = h.jacobian(u)\n",
    "    f_D = lambdify([], H_u.subs(params),'numpy')\n",
    "   \n",
    "    B = f_B()\n",
    "    C = f_C()\n",
    "    D = f_D()\n",
    "    \n",
    "'''\n",
    "ax.grid(True)\n",
    "ax.set_xlabel('Real')\n",
    "ax.set_ylabel('Imaginary')\n",
    "\n",
    "\n",
    "\n",
    "\n",
    "plt.show()\n",
    "fig.savefig('rlocus_100kva.svg')"
   ]
  },
  {
   "cell_type": "code",
   "execution_count": 13,
   "metadata": {
    "collapsed": false
   },
   "outputs": [
    {
     "data": {
      "text/plain": [
       "array([-90000., -80000., -70000., -60000., -50000., -40000., -30000.,\n",
       "       -20000., -10000.,      0.,  10000.,  20000.,  30000.,  40000.])"
      ]
     },
     "execution_count": 13,
     "metadata": {},
     "output_type": "execute_result"
    }
   ],
   "source": [
    "pows"
   ]
  },
  {
   "cell_type": "code",
   "execution_count": 14,
   "metadata": {
    "collapsed": false
   },
   "outputs": [
    {
     "data": {
      "text/plain": [
       "array([-90000., -80000., -70000., -60000., -50000., -40000., -30000.,\n",
       "       -20000., -10000.,      0.,  10000.,  20000.,  30000.,  40000.])"
      ]
     },
     "execution_count": 14,
     "metadata": {},
     "output_type": "execute_result"
    }
   ],
   "source": [
    "pows"
   ]
  },
  {
   "cell_type": "code",
   "execution_count": 15,
   "metadata": {
    "collapsed": false
   },
   "outputs": [
    {
     "name": "stdout",
     "output_type": "stream",
     "text": [
      "⎡   -R                     η_d  ⎤\n",
      "⎢   ───          ω         ───  ⎥\n",
      "⎢    L                     2⋅L  ⎥\n",
      "⎢                               ⎥\n",
      "⎢               -R         η_q  ⎥\n",
      "⎢    -ω         ───        ───  ⎥\n",
      "⎢                L         2⋅L  ⎥\n",
      "⎢                               ⎥\n",
      "⎢-0.75⋅η_d   -0.75⋅η_q    -pₑₓₜ ⎥\n",
      "⎢──────────  ──────────  ───────⎥\n",
      "⎢    C           C             2⎥\n",
      "⎣                        C⋅v_dc ⎦\n"
     ]
    },
    {
     "ename": "TypeError",
     "evalue": "ufunc 'isfinite' not supported for the input types, and the inputs could not be safely coerced to any supported types according to the casting rule ''safe''",
     "output_type": "error",
     "traceback": [
      "\u001b[0;31m---------------------------------------------------------------------------\u001b[0m",
      "\u001b[0;31mTypeError\u001b[0m                                 Traceback (most recent call last)",
      "\u001b[0;32m<ipython-input-15-0a931f7e2851>\u001b[0m in \u001b[0;36m<module>\u001b[0;34m()\u001b[0m\n\u001b[1;32m      3\u001b[0m \u001b[0mf_A\u001b[0m \u001b[0;34m=\u001b[0m \u001b[0mlambdify\u001b[0m\u001b[0;34m(\u001b[0m\u001b[0;34m[\u001b[0m\u001b[0;34m]\u001b[0m\u001b[0;34m,\u001b[0m \u001b[0mF_x\u001b[0m\u001b[0;34m.\u001b[0m\u001b[0msubs\u001b[0m\u001b[0;34m(\u001b[0m\u001b[0mparams\u001b[0m\u001b[0;34m)\u001b[0m\u001b[0;34m,\u001b[0m\u001b[0;34m'numpy'\u001b[0m\u001b[0;34m)\u001b[0m\u001b[0;34m\u001b[0m\u001b[0m\n\u001b[1;32m      4\u001b[0m \u001b[0mA\u001b[0m \u001b[0;34m=\u001b[0m \u001b[0mf_A\u001b[0m\u001b[0;34m(\u001b[0m\u001b[0;34m)\u001b[0m\u001b[0;34m\u001b[0m\u001b[0m\n\u001b[0;32m----> 5\u001b[0;31m \u001b[0meig\u001b[0m\u001b[0;34m,\u001b[0m \u001b[0mevec\u001b[0m \u001b[0;34m=\u001b[0m \u001b[0mnp\u001b[0m\u001b[0;34m.\u001b[0m\u001b[0mlinalg\u001b[0m\u001b[0;34m.\u001b[0m\u001b[0meig\u001b[0m\u001b[0;34m(\u001b[0m\u001b[0mA\u001b[0m\u001b[0;34m)\u001b[0m\u001b[0;34m\u001b[0m\u001b[0m\n\u001b[0m",
      "\u001b[0;32m/home/jmmauricio/bin/anaconda3/lib/python3.5/site-packages/numpy/linalg/linalg.py\u001b[0m in \u001b[0;36meig\u001b[0;34m(a)\u001b[0m\n\u001b[1;32m   1120\u001b[0m     \u001b[0m_assertRankAtLeast2\u001b[0m\u001b[0;34m(\u001b[0m\u001b[0ma\u001b[0m\u001b[0;34m)\u001b[0m\u001b[0;34m\u001b[0m\u001b[0m\n\u001b[1;32m   1121\u001b[0m     \u001b[0m_assertNdSquareness\u001b[0m\u001b[0;34m(\u001b[0m\u001b[0ma\u001b[0m\u001b[0;34m)\u001b[0m\u001b[0;34m\u001b[0m\u001b[0m\n\u001b[0;32m-> 1122\u001b[0;31m     \u001b[0m_assertFinite\u001b[0m\u001b[0;34m(\u001b[0m\u001b[0ma\u001b[0m\u001b[0;34m)\u001b[0m\u001b[0;34m\u001b[0m\u001b[0m\n\u001b[0m\u001b[1;32m   1123\u001b[0m     \u001b[0mt\u001b[0m\u001b[0;34m,\u001b[0m \u001b[0mresult_t\u001b[0m \u001b[0;34m=\u001b[0m \u001b[0m_commonType\u001b[0m\u001b[0;34m(\u001b[0m\u001b[0ma\u001b[0m\u001b[0;34m)\u001b[0m\u001b[0;34m\u001b[0m\u001b[0m\n\u001b[1;32m   1124\u001b[0m \u001b[0;34m\u001b[0m\u001b[0m\n",
      "\u001b[0;32m/home/jmmauricio/bin/anaconda3/lib/python3.5/site-packages/numpy/linalg/linalg.py\u001b[0m in \u001b[0;36m_assertFinite\u001b[0;34m(*arrays)\u001b[0m\n\u001b[1;32m    214\u001b[0m \u001b[0;32mdef\u001b[0m \u001b[0m_assertFinite\u001b[0m\u001b[0;34m(\u001b[0m\u001b[0;34m*\u001b[0m\u001b[0marrays\u001b[0m\u001b[0;34m)\u001b[0m\u001b[0;34m:\u001b[0m\u001b[0;34m\u001b[0m\u001b[0m\n\u001b[1;32m    215\u001b[0m     \u001b[0;32mfor\u001b[0m \u001b[0ma\u001b[0m \u001b[0;32min\u001b[0m \u001b[0marrays\u001b[0m\u001b[0;34m:\u001b[0m\u001b[0;34m\u001b[0m\u001b[0m\n\u001b[0;32m--> 216\u001b[0;31m         \u001b[0;32mif\u001b[0m \u001b[0;32mnot\u001b[0m \u001b[0;34m(\u001b[0m\u001b[0misfinite\u001b[0m\u001b[0;34m(\u001b[0m\u001b[0ma\u001b[0m\u001b[0;34m)\u001b[0m\u001b[0;34m.\u001b[0m\u001b[0mall\u001b[0m\u001b[0;34m(\u001b[0m\u001b[0;34m)\u001b[0m\u001b[0;34m)\u001b[0m\u001b[0;34m:\u001b[0m\u001b[0;34m\u001b[0m\u001b[0m\n\u001b[0m\u001b[1;32m    217\u001b[0m             \u001b[0;32mraise\u001b[0m \u001b[0mLinAlgError\u001b[0m\u001b[0;34m(\u001b[0m\u001b[0;34m\"Array must not contain infs or NaNs\"\u001b[0m\u001b[0;34m)\u001b[0m\u001b[0;34m\u001b[0m\u001b[0m\n\u001b[1;32m    218\u001b[0m \u001b[0;34m\u001b[0m\u001b[0m\n",
      "\u001b[0;31mTypeError\u001b[0m: ufunc 'isfinite' not supported for the input types, and the inputs could not be safely coerced to any supported types according to the casting rule ''safe''"
     ]
    }
   ],
   "source": [
    "F_x = f_dc.jacobian(x)\n",
    "sym.pretty_print(F_x)\n",
    "f_A = lambdify([], F_x.subs(params),'numpy')\n",
    "A = f_A()\n",
    "eig, evec = np.linalg.eig(A)"
   ]
  },
  {
   "cell_type": "code",
   "execution_count": null,
   "metadata": {
    "collapsed": true
   },
   "outputs": [],
   "source": []
  },
  {
   "cell_type": "code",
   "execution_count": null,
   "metadata": {
    "collapsed": false
   },
   "outputs": [],
   "source": [
    "A"
   ]
  },
  {
   "cell_type": "code",
   "execution_count": null,
   "metadata": {
    "collapsed": false
   },
   "outputs": [],
   "source": []
  },
  {
   "cell_type": "code",
   "execution_count": null,
   "metadata": {
    "collapsed": true
   },
   "outputs": [],
   "source": []
  },
  {
   "cell_type": "code",
   "execution_count": null,
   "metadata": {
    "collapsed": false
   },
   "outputs": [],
   "source": [
    "G = sps.ss2tf(A,B,C,D)\n",
    "G"
   ]
  },
  {
   "cell_type": "code",
   "execution_count": null,
   "metadata": {
    "collapsed": false
   },
   "outputs": [],
   "source": [
    "H_x"
   ]
  },
  {
   "cell_type": "code",
   "execution_count": null,
   "metadata": {
    "collapsed": false
   },
   "outputs": [],
   "source": [
    "np.linalg.eig(A)"
   ]
  },
  {
   "cell_type": "code",
   "execution_count": null,
   "metadata": {
    "collapsed": false
   },
   "outputs": [],
   "source": [
    "C"
   ]
  },
  {
   "cell_type": "code",
   "execution_count": null,
   "metadata": {
    "collapsed": false
   },
   "outputs": [],
   "source": [
    "from sympy.utilities.codegen import codegen\n",
    "\n"
   ]
  },
  {
   "cell_type": "code",
   "execution_count": null,
   "metadata": {
    "collapsed": false
   },
   "outputs": [],
   "source": [
    "codegen((\"f\", f),'c')"
   ]
  },
  {
   "cell_type": "code",
   "execution_count": null,
   "metadata": {
    "collapsed": false
   },
   "outputs": [],
   "source": [
    "f"
   ]
  },
  {
   "cell_type": "code",
   "execution_count": null,
   "metadata": {
    "collapsed": false
   },
   "outputs": [],
   "source": [
    "from sympy.utilities.codegen import codegen,FCodeGen\n",
    "\n",
    "params = {'L':1400e-6,\n",
    "          'R':0.1,\n",
    "          'C':2000.0e-6,\n",
    "          'omega':2.0*np.pi*50,\n",
    "          'v_sq':np.sqrt(2./3)*400.0,\n",
    "          'v_sd':0.0,\n",
    "          }\n",
    "\n",
    "[(c_name, c_code), (h_name, c_header)] = codegen(f, \"C\", \"test\", header=True, empty=False)\n",
    "print(c_code)"
   ]
  },
  {
   "cell_type": "code",
   "execution_count": null,
   "metadata": {
    "collapsed": false
   },
   "outputs": [],
   "source": [
    "codegen(f, \"C\", header=False, empty=False)"
   ]
  },
  {
   "cell_type": "code",
   "execution_count": null,
   "metadata": {
    "collapsed": false
   },
   "outputs": [],
   "source": [
    "f"
   ]
  },
  {
   "cell_type": "code",
   "execution_count": null,
   "metadata": {
    "collapsed": true
   },
   "outputs": [],
   "source": []
  }
 ],
 "metadata": {
  "anaconda-cloud": {},
  "kernelspec": {
   "display_name": "Python [default]",
   "language": "python",
   "name": "python3"
  },
  "language_info": {
   "codemirror_mode": {
    "name": "ipython",
    "version": 3
   },
   "file_extension": ".py",
   "mimetype": "text/x-python",
   "name": "python",
   "nbconvert_exporter": "python",
   "pygments_lexer": "ipython3",
   "version": "3.5.2"
  }
 },
 "nbformat": 4,
 "nbformat_minor": 0
}
