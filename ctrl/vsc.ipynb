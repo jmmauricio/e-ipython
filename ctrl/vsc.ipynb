{
 "cells": [
  {
   "cell_type": "code",
   "execution_count": 1,
   "metadata": {
    "collapsed": false,
    "slideshow": {
     "slide_type": "slide"
    }
   },
   "outputs": [],
   "source": [
    "import numpy as np\n",
    "import scipy.signal as sps\n",
    "import sympy as sym \n",
    "import scipy.optimize as sopt\n"
   ]
  },
  {
   "cell_type": "code",
   "execution_count": 2,
   "metadata": {
    "collapsed": false
   },
   "outputs": [],
   "source": [
    "eta_d,eta_q = sym.symbols('eta_d,eta_q')\n",
    "i_d,i_q,v_dc = sym.symbols('i_d,i_q,v_dc')\n",
    "v_sd,v_sq = sym.symbols('v_sd,v_sq')\n",
    "L,R,C,omega = sym.symbols('L,R,C,omega')\n"
   ]
  },
  {
   "cell_type": "code",
   "execution_count": 41,
   "metadata": {
    "collapsed": false
   },
   "outputs": [
    {
     "data": {
      "text/plain": [
       "Matrix([\n",
       "[        -R/L,        -omega, eta_d/(2*L)],\n",
       "[       omega,          -R/L, eta_q/(2*L)],\n",
       "[0.75*C*eta_d, -0.75*C*eta_q,           0]])"
      ]
     },
     "execution_count": 41,
     "metadata": {},
     "output_type": "execute_result"
    }
   ],
   "source": [
    "di_d  = 1/L*(eta_d*v_dc/2 - R*i_d - L*omega*i_q - v_sd)\n",
    "di_q  = 1/L*(eta_q*v_dc/2 - R*i_q + L*omega*i_d - v_sq)\n",
    "dv_dc = 3/4*C*(eta_d*i_d - eta_q*i_q)\n",
    "\n",
    "f = sym.Matrix([[di_d],[di_q],[dv_dc]])\n",
    "x = sym.Matrix([[i_d],[i_q],[v_dc]])\n",
    "\n",
    "F_x = f.jacobian(x)\n",
    "\n",
    "F_x"
   ]
  },
  {
   "cell_type": "code",
   "execution_count": 4,
   "metadata": {
    "collapsed": false
   },
   "outputs": [
    {
     "name": "stdout",
     "output_type": "stream",
     "text": [
      "[[(-2*L*omega - R + 3*eta_d/2 - v_sd)/L]\n",
      " [(L*omega - 2*R + 3*eta_q/2 - v_sq)/L]\n",
      " [0.75*C*(eta_d - 2*eta_q)]]\n"
     ]
    }
   ],
   "source": [
    "\n",
    "from sympy.utilities.lambdify import lambdify\n",
    "\n",
    "\n",
    "func = lambdify(x, f,'numpy') # returns a numpy-ready function\n",
    "\n",
    "print(func(1,2,3))"
   ]
  },
  {
   "cell_type": "markdown",
   "metadata": {},
   "source": [
    "## $\\sf i_d$-$\\sf i_q$ mode"
   ]
  },
  {
   "cell_type": "code",
   "execution_count": 5,
   "metadata": {
    "collapsed": false
   },
   "outputs": [
    {
     "name": "stdout",
     "output_type": "stream",
     "text": [
      "eta_d = 0.045, eta_q = 0.990\n"
     ]
    }
   ],
   "source": [
    "params = {'L':2.5e-3,\n",
    "          'R':1.0,\n",
    "          'C':2000.0e-6,\n",
    "          'omega':2.0*np.pi*50,\n",
    "          'v_sq':np.sqrt(2./3)*400.0,\n",
    "          'v_sd':0.0,\n",
    "          'v_dc':700.0\n",
    "         }\n",
    "\n",
    "# sym.pretty_print(f.subs(params))\n",
    "\n",
    "u = sym.Matrix([[i_d],[i_q],[eta_d],[eta_q]])\n",
    "\n",
    "f_ss = lambdify(u, f[0:2,0].subs(params),'numpy') # returns a numpy-ready function\n",
    "\n",
    "def eqs_ss(x):\n",
    "    \n",
    "    i_d = 0.0\n",
    "    i_q = 20.0\n",
    "    \n",
    "    eta_d, eta_q = x[0],x[1]\n",
    "    \n",
    "    return f_ss(i_d, i_q,eta_d,eta_q )\n",
    "\n",
    "x = sopt.broyden1(eqs_ss, [0,1], f_tol=1e-8)\n",
    "\n",
    "print('eta_d = {:2.3f}, eta_q = {:2.3f}'.format(x[0],x[1]))"
   ]
  },
  {
   "cell_type": "code",
   "execution_count": 6,
   "metadata": {
    "collapsed": false
   },
   "outputs": [
    {
     "data": {
      "text/plain": [
       "0.044879895051282592"
      ]
     },
     "execution_count": 6,
     "metadata": {},
     "output_type": "execute_result"
    }
   ],
   "source": [
    "x[0]"
   ]
  },
  {
   "cell_type": "markdown",
   "metadata": {},
   "source": [
    "## $\\sf p$-$\\sf q$ mode"
   ]
  },
  {
   "cell_type": "code",
   "execution_count": 7,
   "metadata": {
    "collapsed": false
   },
   "outputs": [
    {
     "name": "stdout",
     "output_type": "stream",
     "text": [
      "eta_d = 0.069, eta_q = 1.021\n"
     ]
    }
   ],
   "source": [
    "params = {'L':2.5e-3,\n",
    "          'R':1.0,\n",
    "          'C':2000.0e-6,\n",
    "          'omega':2.0*np.pi*50,\n",
    "          'v_sq':np.sqrt(2./3)*400.0,\n",
    "          'v_sd':0.0,\n",
    "          'v_dc':700.0\n",
    "         }\n",
    "\n",
    "p_ref,q_ref = sym.symbols('p_ref,q_ref')\n",
    "\n",
    "eq_p = 3/2*(v_sd*i_d + v_sq*i_q) - p_ref\n",
    "eq_q = 3/2*(v_sd*i_q - v_sq*i_d) - q_ref\n",
    "\n",
    "f_pq =  sym.Matrix([[eq_p],[eq_q]]) \n",
    "# sym.pretty_print(f.subs(params))\n",
    "\n",
    "u = sym.Matrix([[p_ref],[q_ref],[i_d],[i_q],[eta_d],[eta_q]])\n",
    "\n",
    "f_ss = lambdify(u, f[0:2,0].col_join(f_pq).subs(params),'numpy') # returns a numpy-ready function\n",
    "\n",
    "def eqs_ss(x):\n",
    "    \n",
    "    p_ref = 15.0e3\n",
    "    q_ref = 0.0e3\n",
    "    \n",
    "    i_d, i_q = x[0],x[1]\n",
    "    eta_d, eta_q = x[2],x[3]\n",
    "    \n",
    "    return f_ss(p_ref,q_ref, i_d, i_q,eta_d,eta_q )\n",
    "\n",
    "x = sopt.broyden1(eqs_ss, [0,1,2,3], f_tol=1e-8)\n",
    "\n",
    "print('eta_d = {:2.3f}, eta_q = {:2.3f}'.format(x[2],x[3]))"
   ]
  },
  {
   "cell_type": "markdown",
   "metadata": {},
   "source": [
    "## $\\sf i_d$-$\\sf v_{dc}$ mode"
   ]
  },
  {
   "cell_type": "code",
   "execution_count": 36,
   "metadata": {
    "collapsed": false
   },
   "outputs": [
    {
     "name": "stdout",
     "output_type": "stream",
     "text": [
      "eta_d = -0.055, eta_q = 0.981, i_q = 1.114\n",
      "p = 545.652 W, q = 9797.959 var\n"
     ]
    }
   ],
   "source": [
    "params = {'L':2.5e-3,\n",
    "          'R':1.0,\n",
    "          'C':2000.0e-6,\n",
    "          'omega':2.0*np.pi*50,\n",
    "          'v_sq':np.sqrt(2./3)*400.0,\n",
    "          'v_sd':0.0,\n",
    "          'i_d':-20.0,\n",
    "          'v_dc':700.0\n",
    "          }\n",
    "\n",
    "# sym.pretty_print(f.subs(params))\n",
    "\n",
    "u = sym.Matrix([[i_q],[eta_d],[eta_q]])\n",
    "\n",
    "f_ss = lambdify(u, f.subs(params),'numpy') # returns a numpy-ready function\n",
    "\n",
    "\n",
    "def eqs_ss(x):\n",
    "    \n",
    "   \n",
    "    eta_d, eta_q, i_q = x[0],x[1],x[2]\n",
    "   \n",
    "    return f_ss(i_q, eta_d,eta_q )\n",
    "\n",
    "\n",
    "    \n",
    "x = sopt.broyden1(eqs_ss, [0,1,10],f_tol=1e-8)\n",
    "\n",
    "\n",
    "\n",
    "print('eta_d = {:2.3f}, eta_q = {:2.3f}, i_q = {:2.3f}'.format(x[0],x[1],x[2]))\n",
    "\n",
    "params.update({'eta_d':x[0],'eta_q':x[1],'i_q':x[2]})\n",
    "\n",
    "p = 3/2*(v_sd*i_d + v_sq*i_q) \n",
    "q = 3/2*(v_sd*i_q - v_sq*i_d) \n",
    "\n",
    "\n",
    "f_p= lambdify([], p.subs(params),'numpy') # returns a numpy-ready function\n",
    "f_q= lambdify([], q.subs(params),'numpy') # returns a numpy-ready function\n",
    "\n",
    "print('p = {:2.3f} W, q = {:2.3f} var'.format(f_p(),f_q()))"
   ]
  },
  {
   "cell_type": "code",
   "execution_count": 59,
   "metadata": {
    "collapsed": false
   },
   "outputs": [
    {
     "data": {
      "text/plain": [
       "Matrix([\n",
       "[        -R/L,        -omega, eta_d/(2*L)],\n",
       "[       omega,          -R/L, eta_q/(2*L)],\n",
       "[0.75*C*eta_d, -0.75*C*eta_q,           0]])"
      ]
     },
     "execution_count": 59,
     "metadata": {},
     "output_type": "execute_result"
    }
   ],
   "source": [
    "f.jacobian(x)"
   ]
  },
  {
   "cell_type": "code",
   "execution_count": 66,
   "metadata": {
    "collapsed": false
   },
   "outputs": [],
   "source": [
    "F_x = f.jacobian(x)\n",
    "f_A = lambdify([], F_x.subs(params),'numpy')"
   ]
  },
  {
   "cell_type": "code",
   "execution_count": 67,
   "metadata": {
    "collapsed": false
   },
   "outputs": [],
   "source": [
    "A = f_A()"
   ]
  },
  {
   "cell_type": "code",
   "execution_count": 68,
   "metadata": {
    "collapsed": false
   },
   "outputs": [
    {
     "data": {
      "text/plain": [
       "(array([ -3.99999797e+02+314.15946506j,  -3.99999797e+02-314.15946506j,\n",
       "         -4.06136734e-04  +0.j        ]),\n",
       " array([[ -5.04147066e-07 +7.07106583e-01j,\n",
       "          -5.04147066e-07 -7.07106583e-01j,\n",
       "          -2.38055992e-01 +0.00000000e+00j],\n",
       "        [  7.07106979e-01 +0.00000000e+00j,\n",
       "           7.07106979e-01 -0.00000000e+00j,\n",
       "           2.70653311e-01 +0.00000000e+00j],\n",
       "        [  1.53879523e-06 +1.35346377e-06j,\n",
       "           1.53879523e-06 -1.35346377e-06j,\n",
       "           9.32778714e-01 +0.00000000e+00j]]))"
      ]
     },
     "execution_count": 68,
     "metadata": {},
     "output_type": "execute_result"
    }
   ],
   "source": [
    "np.linalg.eig(A)"
   ]
  },
  {
   "cell_type": "code",
   "execution_count": null,
   "metadata": {
    "collapsed": true
   },
   "outputs": [],
   "source": []
  }
 ],
 "metadata": {
  "anaconda-cloud": {},
  "kernelspec": {
   "display_name": "Python [default]",
   "language": "python",
   "name": "python3"
  },
  "language_info": {
   "codemirror_mode": {
    "name": "ipython",
    "version": 3
   },
   "file_extension": ".py",
   "mimetype": "text/x-python",
   "name": "python",
   "nbconvert_exporter": "python",
   "pygments_lexer": "ipython3",
   "version": "3.5.2"
  }
 },
 "nbformat": 4,
 "nbformat_minor": 0
}
